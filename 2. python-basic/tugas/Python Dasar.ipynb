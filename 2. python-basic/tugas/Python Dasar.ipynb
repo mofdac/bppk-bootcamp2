{
 "cells": [
  {
   "cell_type": "markdown",
   "metadata": {},
   "source": [
    "# Latihan Python Dasar"
   ]
  },
  {
   "cell_type": "markdown",
   "metadata": {},
   "source": [
    "Nama :"
   ]
  },
  {
   "cell_type": "markdown",
   "metadata": {},
   "source": [
    "## Soal 1: Depresiasi Aset Tetap\n",
    "---\n",
    "Buatlah sebuah fungsi dengan nama *hitung_depresiasi* untuk menghitung besar penyusutan aset tetap per periode dengan menggunakan metode garis lurus. Input yang diperlukan adalah \n",
    "- nilai buku\n",
    "- nilai sisa (residual value)\n",
    "- masa manfaat\n",
    "\n",
    "Catatan:\n",
    "- nilai buku, nilai sisa, masa manfaat tidak boleh bernilai negatif\n"
   ]
  },
  {
   "cell_type": "code",
   "execution_count": 9,
   "metadata": {},
   "outputs": [],
   "source": [
    "def hitung_depresiasi():\n",
    "    # jawaban     \n",
    "    \n",
    "    pass\n",
    "    "
   ]
  },
  {
   "cell_type": "markdown",
   "metadata": {},
   "source": [
    "## Soal 2: PMK 31/PMK.010/2020 untuk Sedan/Station Wagon\n",
    "\n",
    "Sesuai dengan PMK 31/PMK.010/2020, Pemerintah memberikan Insentif Pajak Ditanggung Pemerintah (DTP) PPNBM bagi kendaraan bermotor sedan atau station wagon dengan motor bakar cetus api atau nyala kompresi (diesel atau semi diesel) dengan kapasitas isi silinder sampai dengan 1.500cc serta memiliki kandungan lokal minimal sebesar 60%.\n",
    "\n",
    "Besarnya fasilitas pajak DTP yang diberikan ditentukan pula oleh masa terutang pajak sebagai berikut\n",
    "- 100% dari PPnBM yang terutang untuk Masa Pajak April 2021 sampai dengan Masa Pajak Mei 2021;\n",
    "- 50% dari PPnBM yang terutang untuk Masa Pajak Juni 2021 sampai dengan Masa Pajak Agustus 2021; dan\n",
    "- 25% dari PPnBM yang terutang untuk Masa Pajak September 2021 sampai dengan Masa Pajak Desember 2021. \n",
    "\n",
    "Buatlah sebuah fungsi dengan nama *cek_ppnbm_sedan(kapasitas, kandungan_lokal, masa_pajak)* untuk mengevaluasi apakah sebuah sedan/station wagon memperoleh fasilitas PPNBM dan berapa persen fasilitas yang diberikan.\n",
    "\n",
    "Input:\n",
    " - Kapasitas: Integer \n",
    " - Kandungan Lokal: Integer (skala 0-100)\n",
    " - Masa Pajak Terutang (Bulan / 1-12)\n",
    "\n",
    "Output terdiri dari dua informasi:\n",
    " - Memenuhi kriteria Pembebasan : Boolean \n",
    " - Besar Fasilitas : Integer, 0 Jika tidak memenuhi kriteria\n",
    " \n",
    "Contoh:\n",
    "```python\n",
    "    cek_ppnbm_sedan(1300, 75, 5) # Output: True, 100\n",
    "    cek_ppnbm_sedan(2200, 80, 5) # Output: False, 0\n",
    "    cek_ppnbm_sedan(1400, 30, 5) # Output: False, 0\n",
    "    cek_ppnbm_sedan(1400, 65, 11) # Output: False, 25\n",
    "\n",
    "```\n",
    "  "
   ]
  },
  {
   "cell_type": "code",
   "execution_count": 10,
   "metadata": {},
   "outputs": [],
   "source": [
    "def cek_ppnbm_sedan(kapasitas, kandungan_lokal, masa_pajak):\n",
    "    # jawaban   \n",
    "    pass"
   ]
  },
  {
   "cell_type": "markdown",
   "metadata": {},
   "source": [
    "## Soal 3: Piket Pegawai\n",
    "---\n",
    "\n",
    "Pada sebuah kantor terdapat enam orang pegawai bernama Reza, Yudi, Sindhu, Ade, Canra dan Bakhtiar. Mereka bersepakat untuk melakukan piket secara bergantian melakukan tugas untuk berjaga di ruang layanan informasi di kantornya. Setiap orang secara berurutan akan bergantian berjaga setiap harinya. Jika sudah mencapai orang keenam maka akan kembali ke orang pertama.\n",
    "\n",
    "Berdasarkan informasi tersebut, carilah Informasi:\n",
    "1. Jika Reza adalah orang yang berjaga pada hari ke-1, Siapakah orang yang akan berjaga pada hari ke 50?\n",
    "2. Jika Sindhu adalah orang yang berjaga pada hari ke-1, Siapakah orang yang akan berjaga pada hari ke 165?\n",
    "3. Jika Ade adalah orang yang berjaga pada hari ke 11, Siapakah orang yang akan berjaga pada hari ke 23 setelah Ade berjaga?\n",
    "\n"
   ]
  },
  {
   "cell_type": "code",
   "execution_count": 17,
   "metadata": {},
   "outputs": [],
   "source": [
    "# inisiasi urutan piket\n",
    "jadwal_piket = ['Reza', 'Yudi', 'Sindhu', 'Ade', 'Canra', 'Bakhtiar']\n",
    "\n",
    "# soal 1\n",
    "\n",
    "\n",
    "# soal 2\n",
    "\n",
    "\n",
    "# soal 3\n"
   ]
  },
  {
   "cell_type": "code",
   "execution_count": null,
   "metadata": {},
   "outputs": [],
   "source": []
  }
 ],
 "metadata": {
  "kernelspec": {
   "display_name": "Python 3",
   "language": "python",
   "name": "python3"
  },
  "language_info": {
   "codemirror_mode": {
    "name": "ipython",
    "version": 3
   },
   "file_extension": ".py",
   "mimetype": "text/x-python",
   "name": "python",
   "nbconvert_exporter": "python",
   "pygments_lexer": "ipython3",
   "version": "3.8.5"
  }
 },
 "nbformat": 4,
 "nbformat_minor": 4
}
