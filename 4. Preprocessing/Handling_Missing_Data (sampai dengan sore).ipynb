{
  "nbformat": 4,
  "nbformat_minor": 0,
  "metadata": {
    "colab": {
      "name": "Handling Missing Data.ipynb",
      "provenance": [],
      "collapsed_sections": [],
      "toc_visible": true
    },
    "kernelspec": {
      "name": "python3",
      "display_name": "Python 3"
    },
    "language_info": {
      "name": "python"
    }
  },
  "cells": [
    {
      "cell_type": "markdown",
      "metadata": {
        "id": "fuC_C5ndMYrf"
      },
      "source": [
        "#**Handling Missing Data**\n",
        "\n",
        "Kita akan menggunakan dataset titanic pada notebook ini."
      ]
    },
    {
      "cell_type": "code",
      "metadata": {
        "id": "0dVQARCoLqtU"
      },
      "source": [
        "# Impor library yang akan digunakan\n",
        "import pandas as pd\n",
        "import numpy as np\n",
        "import seaborn as sns"
      ],
      "execution_count": 1,
      "outputs": []
    },
    {
      "cell_type": "code",
      "metadata": {
        "id": "6OP0dAyUSDm5",
        "colab": {
          "base_uri": "https://localhost:8080/"
        },
        "outputId": "447cdd73-f358-4233-c4ec-383851aa7c3e"
      },
      "source": [
        "# Ambil datasetnya\n",
        "!wget https://cloudstorage.dadangnh.com/bahan-ajar/bootcamp/titanic.csv\n",
        "data = pd.read_csv('titanic.csv')"
      ],
      "execution_count": 2,
      "outputs": [
        {
          "output_type": "stream",
          "text": [
            "--2021-06-03 07:29:59--  https://cloudstorage.dadangnh.com/bahan-ajar/bootcamp/titanic.csv\n",
            "Resolving cloudstorage.dadangnh.com (cloudstorage.dadangnh.com)... 104.21.5.21, 172.67.132.193, 2606:4700:3035::ac43:84c1, ...\n",
            "Connecting to cloudstorage.dadangnh.com (cloudstorage.dadangnh.com)|104.21.5.21|:443... connected.\n",
            "HTTP request sent, awaiting response... 200 OK\n",
            "Length: 118062 (115K) [application/octet-stream]\n",
            "Saving to: ‘titanic.csv’\n",
            "\n",
            "titanic.csv         100%[===================>] 115.29K  --.-KB/s    in 0.02s   \n",
            "\n",
            "2021-06-03 07:29:59 (4.58 MB/s) - ‘titanic.csv’ saved [118062/118062]\n",
            "\n"
          ],
          "name": "stdout"
        }
      ]
    },
    {
      "cell_type": "code",
      "metadata": {
        "id": "rmRJPOMAoRVh",
        "colab": {
          "base_uri": "https://localhost:8080/"
        },
        "outputId": "ac5529be-2317-4b74-c3a4-9ad7c47f394f"
      },
      "source": [
        "# Membaca bentuk dataset\n",
        "data.shape"
      ],
      "execution_count": 3,
      "outputs": [
        {
          "output_type": "execute_result",
          "data": {
            "text/plain": [
              "(1309, 14)"
            ]
          },
          "metadata": {
            "tags": []
          },
          "execution_count": 3
        }
      ]
    },
    {
      "cell_type": "code",
      "metadata": {
        "id": "QuBgIMKnpbQW",
        "colab": {
          "base_uri": "https://localhost:8080/"
        },
        "outputId": "a7d8cb3c-a3e5-44e7-8ba4-bce48787f7cc"
      },
      "source": [
        "data.columns"
      ],
      "execution_count": 4,
      "outputs": [
        {
          "output_type": "execute_result",
          "data": {
            "text/plain": [
              "Index(['pclass', 'survived', 'name', 'sex', 'age', 'sibsp', 'parch', 'ticket',\n",
              "       'fare', 'cabin', 'embarked', 'boat', 'body', 'home.dest'],\n",
              "      dtype='object')"
            ]
          },
          "metadata": {
            "tags": []
          },
          "execution_count": 4
        }
      ]
    },
    {
      "cell_type": "code",
      "metadata": {
        "id": "DwA9sjVQpFLv",
        "colab": {
          "base_uri": "https://localhost:8080/"
        },
        "outputId": "aafa186c-2d8e-49ea-c9a9-1a91b3817fb5"
      },
      "source": [
        "# Membaca tipe kolom\n",
        "data.dtypes"
      ],
      "execution_count": 5,
      "outputs": [
        {
          "output_type": "execute_result",
          "data": {
            "text/plain": [
              "pclass         int64\n",
              "survived       int64\n",
              "name          object\n",
              "sex           object\n",
              "age          float64\n",
              "sibsp          int64\n",
              "parch          int64\n",
              "ticket        object\n",
              "fare         float64\n",
              "cabin         object\n",
              "embarked      object\n",
              "boat          object\n",
              "body         float64\n",
              "home.dest     object\n",
              "dtype: object"
            ]
          },
          "metadata": {
            "tags": []
          },
          "execution_count": 5
        }
      ]
    },
    {
      "cell_type": "code",
      "metadata": {
        "id": "JolzoEMkpVKs",
        "colab": {
          "base_uri": "https://localhost:8080/"
        },
        "outputId": "d17a2472-28dc-4952-a1f4-8cb08258bf12"
      },
      "source": [
        "# Mendiskripsikan dataset\n",
        "data.describe"
      ],
      "execution_count": 6,
      "outputs": [
        {
          "output_type": "execute_result",
          "data": {
            "text/plain": [
              "<bound method NDFrame.describe of       pclass  survived  ...   body                        home.dest\n",
              "0          1         1  ...    NaN                     St Louis, MO\n",
              "1          1         1  ...    NaN  Montreal, PQ / Chesterville, ON\n",
              "2          1         0  ...    NaN  Montreal, PQ / Chesterville, ON\n",
              "3          1         0  ...  135.0  Montreal, PQ / Chesterville, ON\n",
              "4          1         0  ...    NaN  Montreal, PQ / Chesterville, ON\n",
              "...      ...       ...  ...    ...                              ...\n",
              "1304       3         0  ...  328.0                              NaN\n",
              "1305       3         0  ...    NaN                              NaN\n",
              "1306       3         0  ...  304.0                              NaN\n",
              "1307       3         0  ...    NaN                              NaN\n",
              "1308       3         0  ...    NaN                              NaN\n",
              "\n",
              "[1309 rows x 14 columns]>"
            ]
          },
          "metadata": {
            "tags": []
          },
          "execution_count": 6
        }
      ]
    },
    {
      "cell_type": "code",
      "metadata": {
        "id": "alKf5Y40pmbA",
        "colab": {
          "base_uri": "https://localhost:8080/",
          "height": 204
        },
        "outputId": "164aa1cc-0ab2-446b-8cfe-31f63c350f93"
      },
      "source": [
        "# Melihat sampel 5 baris teratas\n",
        "data.head()"
      ],
      "execution_count": 7,
      "outputs": [
        {
          "output_type": "execute_result",
          "data": {
            "text/html": [
              "<div>\n",
              "<style scoped>\n",
              "    .dataframe tbody tr th:only-of-type {\n",
              "        vertical-align: middle;\n",
              "    }\n",
              "\n",
              "    .dataframe tbody tr th {\n",
              "        vertical-align: top;\n",
              "    }\n",
              "\n",
              "    .dataframe thead th {\n",
              "        text-align: right;\n",
              "    }\n",
              "</style>\n",
              "<table border=\"1\" class=\"dataframe\">\n",
              "  <thead>\n",
              "    <tr style=\"text-align: right;\">\n",
              "      <th></th>\n",
              "      <th>pclass</th>\n",
              "      <th>survived</th>\n",
              "      <th>name</th>\n",
              "      <th>sex</th>\n",
              "      <th>age</th>\n",
              "      <th>sibsp</th>\n",
              "      <th>parch</th>\n",
              "      <th>ticket</th>\n",
              "      <th>fare</th>\n",
              "      <th>cabin</th>\n",
              "      <th>embarked</th>\n",
              "      <th>boat</th>\n",
              "      <th>body</th>\n",
              "      <th>home.dest</th>\n",
              "    </tr>\n",
              "  </thead>\n",
              "  <tbody>\n",
              "    <tr>\n",
              "      <th>0</th>\n",
              "      <td>1</td>\n",
              "      <td>1</td>\n",
              "      <td>Allen, Miss. Elisabeth Walton</td>\n",
              "      <td>female</td>\n",
              "      <td>29.00</td>\n",
              "      <td>0</td>\n",
              "      <td>0</td>\n",
              "      <td>24160</td>\n",
              "      <td>211.3375</td>\n",
              "      <td>B5</td>\n",
              "      <td>S</td>\n",
              "      <td>2</td>\n",
              "      <td>NaN</td>\n",
              "      <td>St Louis, MO</td>\n",
              "    </tr>\n",
              "    <tr>\n",
              "      <th>1</th>\n",
              "      <td>1</td>\n",
              "      <td>1</td>\n",
              "      <td>Allison, Master. Hudson Trevor</td>\n",
              "      <td>male</td>\n",
              "      <td>0.92</td>\n",
              "      <td>1</td>\n",
              "      <td>2</td>\n",
              "      <td>113781</td>\n",
              "      <td>151.5500</td>\n",
              "      <td>C22 C26</td>\n",
              "      <td>S</td>\n",
              "      <td>11</td>\n",
              "      <td>NaN</td>\n",
              "      <td>Montreal, PQ / Chesterville, ON</td>\n",
              "    </tr>\n",
              "    <tr>\n",
              "      <th>2</th>\n",
              "      <td>1</td>\n",
              "      <td>0</td>\n",
              "      <td>Allison, Miss. Helen Loraine</td>\n",
              "      <td>female</td>\n",
              "      <td>2.00</td>\n",
              "      <td>1</td>\n",
              "      <td>2</td>\n",
              "      <td>113781</td>\n",
              "      <td>151.5500</td>\n",
              "      <td>C22 C26</td>\n",
              "      <td>S</td>\n",
              "      <td>NaN</td>\n",
              "      <td>NaN</td>\n",
              "      <td>Montreal, PQ / Chesterville, ON</td>\n",
              "    </tr>\n",
              "    <tr>\n",
              "      <th>3</th>\n",
              "      <td>1</td>\n",
              "      <td>0</td>\n",
              "      <td>Allison, Mr. Hudson Joshua Creighton</td>\n",
              "      <td>male</td>\n",
              "      <td>30.00</td>\n",
              "      <td>1</td>\n",
              "      <td>2</td>\n",
              "      <td>113781</td>\n",
              "      <td>151.5500</td>\n",
              "      <td>C22 C26</td>\n",
              "      <td>S</td>\n",
              "      <td>NaN</td>\n",
              "      <td>135.0</td>\n",
              "      <td>Montreal, PQ / Chesterville, ON</td>\n",
              "    </tr>\n",
              "    <tr>\n",
              "      <th>4</th>\n",
              "      <td>1</td>\n",
              "      <td>0</td>\n",
              "      <td>Allison, Mrs. Hudson J C (Bessie Waldo Daniels)</td>\n",
              "      <td>female</td>\n",
              "      <td>25.00</td>\n",
              "      <td>1</td>\n",
              "      <td>2</td>\n",
              "      <td>113781</td>\n",
              "      <td>151.5500</td>\n",
              "      <td>C22 C26</td>\n",
              "      <td>S</td>\n",
              "      <td>NaN</td>\n",
              "      <td>NaN</td>\n",
              "      <td>Montreal, PQ / Chesterville, ON</td>\n",
              "    </tr>\n",
              "  </tbody>\n",
              "</table>\n",
              "</div>"
            ],
            "text/plain": [
              "   pclass  survived  ...   body                        home.dest\n",
              "0       1         1  ...    NaN                     St Louis, MO\n",
              "1       1         1  ...    NaN  Montreal, PQ / Chesterville, ON\n",
              "2       1         0  ...    NaN  Montreal, PQ / Chesterville, ON\n",
              "3       1         0  ...  135.0  Montreal, PQ / Chesterville, ON\n",
              "4       1         0  ...    NaN  Montreal, PQ / Chesterville, ON\n",
              "\n",
              "[5 rows x 14 columns]"
            ]
          },
          "metadata": {
            "tags": []
          },
          "execution_count": 7
        }
      ]
    },
    {
      "cell_type": "markdown",
      "metadata": {
        "id": "jZ7yeS_ksS_r"
      },
      "source": [
        "## Mencari missing value\n",
        "\n",
        "Dapat menggunakan fungsi berikut:\n",
        "\n",
        "** info()**\n",
        "* Memberi informasi total data\n",
        "* Memberi informasi detail terkait tipe data, 'object' berarti string, tipe lainnya seperti int and float\n",
        "* Juga memberi informasi terkait jumlah observasi atas data 'non-null' pada setiap kolom\n",
        "\n",
        "** describe() **By default akan menampilkan tabel informasi dalam bentuk angka, yang terdiri dari:\n",
        "* Statistik deskriptif\n",
        "* jumlah data 'non-null' yang di observasi\n",
        "* dengan parameter \"include='all'\" akan menampilkan seluruh kolom dan parameter \"include=['O']\" akan menyertakan object\n",
        "\n",
        "**.isnull().sum()***\n",
        "* akan menampilkan jumlah dari *missing value* dari setiap kolom"
      ]
    },
    {
      "cell_type": "code",
      "metadata": {
        "id": "ioWB2UPkpsGT",
        "colab": {
          "base_uri": "https://localhost:8080/"
        },
        "outputId": "db82e7d9-5313-4094-b743-6baaa832d78e"
      },
      "source": [
        "# Menampilkan informasi dataset\n",
        "data.info()"
      ],
      "execution_count": 8,
      "outputs": [
        {
          "output_type": "stream",
          "text": [
            "<class 'pandas.core.frame.DataFrame'>\n",
            "RangeIndex: 1309 entries, 0 to 1308\n",
            "Data columns (total 14 columns):\n",
            " #   Column     Non-Null Count  Dtype  \n",
            "---  ------     --------------  -----  \n",
            " 0   pclass     1309 non-null   int64  \n",
            " 1   survived   1309 non-null   int64  \n",
            " 2   name       1309 non-null   object \n",
            " 3   sex        1309 non-null   object \n",
            " 4   age        1046 non-null   float64\n",
            " 5   sibsp      1309 non-null   int64  \n",
            " 6   parch      1309 non-null   int64  \n",
            " 7   ticket     1309 non-null   object \n",
            " 8   fare       1308 non-null   float64\n",
            " 9   cabin      295 non-null    object \n",
            " 10  embarked   1307 non-null   object \n",
            " 11  boat       486 non-null    object \n",
            " 12  body       121 non-null    float64\n",
            " 13  home.dest  745 non-null    object \n",
            "dtypes: float64(3), int64(4), object(7)\n",
            "memory usage: 143.3+ KB\n"
          ],
          "name": "stdout"
        }
      ]
    },
    {
      "cell_type": "code",
      "metadata": {
        "id": "YS7lOlbzvjrK",
        "colab": {
          "base_uri": "https://localhost:8080/",
          "height": 297
        },
        "outputId": "04dc4a35-d21d-41e7-b85a-ce78b45ea53e"
      },
      "source": [
        "# Menampilkan informasi dataset dengan fungsi describe()\n",
        "data.describe()"
      ],
      "execution_count": 9,
      "outputs": [
        {
          "output_type": "execute_result",
          "data": {
            "text/html": [
              "<div>\n",
              "<style scoped>\n",
              "    .dataframe tbody tr th:only-of-type {\n",
              "        vertical-align: middle;\n",
              "    }\n",
              "\n",
              "    .dataframe tbody tr th {\n",
              "        vertical-align: top;\n",
              "    }\n",
              "\n",
              "    .dataframe thead th {\n",
              "        text-align: right;\n",
              "    }\n",
              "</style>\n",
              "<table border=\"1\" class=\"dataframe\">\n",
              "  <thead>\n",
              "    <tr style=\"text-align: right;\">\n",
              "      <th></th>\n",
              "      <th>pclass</th>\n",
              "      <th>survived</th>\n",
              "      <th>age</th>\n",
              "      <th>sibsp</th>\n",
              "      <th>parch</th>\n",
              "      <th>fare</th>\n",
              "      <th>body</th>\n",
              "    </tr>\n",
              "  </thead>\n",
              "  <tbody>\n",
              "    <tr>\n",
              "      <th>count</th>\n",
              "      <td>1309.000000</td>\n",
              "      <td>1309.000000</td>\n",
              "      <td>1046.000000</td>\n",
              "      <td>1309.000000</td>\n",
              "      <td>1309.000000</td>\n",
              "      <td>1308.000000</td>\n",
              "      <td>121.000000</td>\n",
              "    </tr>\n",
              "    <tr>\n",
              "      <th>mean</th>\n",
              "      <td>2.294882</td>\n",
              "      <td>0.381971</td>\n",
              "      <td>29.881138</td>\n",
              "      <td>0.498854</td>\n",
              "      <td>0.385027</td>\n",
              "      <td>33.295479</td>\n",
              "      <td>160.809917</td>\n",
              "    </tr>\n",
              "    <tr>\n",
              "      <th>std</th>\n",
              "      <td>0.837836</td>\n",
              "      <td>0.486055</td>\n",
              "      <td>14.413493</td>\n",
              "      <td>1.041658</td>\n",
              "      <td>0.865560</td>\n",
              "      <td>51.758668</td>\n",
              "      <td>97.696922</td>\n",
              "    </tr>\n",
              "    <tr>\n",
              "      <th>min</th>\n",
              "      <td>1.000000</td>\n",
              "      <td>0.000000</td>\n",
              "      <td>0.170000</td>\n",
              "      <td>0.000000</td>\n",
              "      <td>0.000000</td>\n",
              "      <td>0.000000</td>\n",
              "      <td>1.000000</td>\n",
              "    </tr>\n",
              "    <tr>\n",
              "      <th>25%</th>\n",
              "      <td>2.000000</td>\n",
              "      <td>0.000000</td>\n",
              "      <td>21.000000</td>\n",
              "      <td>0.000000</td>\n",
              "      <td>0.000000</td>\n",
              "      <td>7.895800</td>\n",
              "      <td>72.000000</td>\n",
              "    </tr>\n",
              "    <tr>\n",
              "      <th>50%</th>\n",
              "      <td>3.000000</td>\n",
              "      <td>0.000000</td>\n",
              "      <td>28.000000</td>\n",
              "      <td>0.000000</td>\n",
              "      <td>0.000000</td>\n",
              "      <td>14.454200</td>\n",
              "      <td>155.000000</td>\n",
              "    </tr>\n",
              "    <tr>\n",
              "      <th>75%</th>\n",
              "      <td>3.000000</td>\n",
              "      <td>1.000000</td>\n",
              "      <td>39.000000</td>\n",
              "      <td>1.000000</td>\n",
              "      <td>0.000000</td>\n",
              "      <td>31.275000</td>\n",
              "      <td>256.000000</td>\n",
              "    </tr>\n",
              "    <tr>\n",
              "      <th>max</th>\n",
              "      <td>3.000000</td>\n",
              "      <td>1.000000</td>\n",
              "      <td>80.000000</td>\n",
              "      <td>8.000000</td>\n",
              "      <td>9.000000</td>\n",
              "      <td>512.329200</td>\n",
              "      <td>328.000000</td>\n",
              "    </tr>\n",
              "  </tbody>\n",
              "</table>\n",
              "</div>"
            ],
            "text/plain": [
              "            pclass     survived  ...         fare        body\n",
              "count  1309.000000  1309.000000  ...  1308.000000  121.000000\n",
              "mean      2.294882     0.381971  ...    33.295479  160.809917\n",
              "std       0.837836     0.486055  ...    51.758668   97.696922\n",
              "min       1.000000     0.000000  ...     0.000000    1.000000\n",
              "25%       2.000000     0.000000  ...     7.895800   72.000000\n",
              "50%       3.000000     0.000000  ...    14.454200  155.000000\n",
              "75%       3.000000     1.000000  ...    31.275000  256.000000\n",
              "max       3.000000     1.000000  ...   512.329200  328.000000\n",
              "\n",
              "[8 rows x 7 columns]"
            ]
          },
          "metadata": {
            "tags": []
          },
          "execution_count": 9
        }
      ]
    },
    {
      "cell_type": "code",
      "metadata": {
        "id": "QzrRnGpOvvQj",
        "colab": {
          "base_uri": "https://localhost:8080/",
          "height": 173
        },
        "outputId": "cea7d1b2-bad4-41d4-e6a5-4e2bb0f2e289"
      },
      "source": [
        "# Menampilkan informasi dataset dengan fungsi describe() dan include object\n",
        "data.describe(include=['O'])"
      ],
      "execution_count": 10,
      "outputs": [
        {
          "output_type": "execute_result",
          "data": {
            "text/html": [
              "<div>\n",
              "<style scoped>\n",
              "    .dataframe tbody tr th:only-of-type {\n",
              "        vertical-align: middle;\n",
              "    }\n",
              "\n",
              "    .dataframe tbody tr th {\n",
              "        vertical-align: top;\n",
              "    }\n",
              "\n",
              "    .dataframe thead th {\n",
              "        text-align: right;\n",
              "    }\n",
              "</style>\n",
              "<table border=\"1\" class=\"dataframe\">\n",
              "  <thead>\n",
              "    <tr style=\"text-align: right;\">\n",
              "      <th></th>\n",
              "      <th>name</th>\n",
              "      <th>sex</th>\n",
              "      <th>ticket</th>\n",
              "      <th>cabin</th>\n",
              "      <th>embarked</th>\n",
              "      <th>boat</th>\n",
              "      <th>home.dest</th>\n",
              "    </tr>\n",
              "  </thead>\n",
              "  <tbody>\n",
              "    <tr>\n",
              "      <th>count</th>\n",
              "      <td>1309</td>\n",
              "      <td>1309</td>\n",
              "      <td>1309</td>\n",
              "      <td>295</td>\n",
              "      <td>1307</td>\n",
              "      <td>486</td>\n",
              "      <td>745</td>\n",
              "    </tr>\n",
              "    <tr>\n",
              "      <th>unique</th>\n",
              "      <td>1307</td>\n",
              "      <td>2</td>\n",
              "      <td>929</td>\n",
              "      <td>186</td>\n",
              "      <td>3</td>\n",
              "      <td>27</td>\n",
              "      <td>369</td>\n",
              "    </tr>\n",
              "    <tr>\n",
              "      <th>top</th>\n",
              "      <td>Connolly, Miss. Kate</td>\n",
              "      <td>male</td>\n",
              "      <td>CA. 2343</td>\n",
              "      <td>C23 C25 C27</td>\n",
              "      <td>S</td>\n",
              "      <td>13</td>\n",
              "      <td>New York, NY</td>\n",
              "    </tr>\n",
              "    <tr>\n",
              "      <th>freq</th>\n",
              "      <td>2</td>\n",
              "      <td>843</td>\n",
              "      <td>11</td>\n",
              "      <td>6</td>\n",
              "      <td>914</td>\n",
              "      <td>39</td>\n",
              "      <td>64</td>\n",
              "    </tr>\n",
              "  </tbody>\n",
              "</table>\n",
              "</div>"
            ],
            "text/plain": [
              "                        name   sex    ticket  ... embarked boat     home.dest\n",
              "count                   1309  1309      1309  ...     1307  486           745\n",
              "unique                  1307     2       929  ...        3   27           369\n",
              "top     Connolly, Miss. Kate  male  CA. 2343  ...        S   13  New York, NY\n",
              "freq                       2   843        11  ...      914   39            64\n",
              "\n",
              "[4 rows x 7 columns]"
            ]
          },
          "metadata": {
            "tags": []
          },
          "execution_count": 10
        }
      ]
    },
    {
      "cell_type": "code",
      "metadata": {
        "id": "5jHesx63v6SS",
        "colab": {
          "base_uri": "https://localhost:8080/",
          "height": 390
        },
        "outputId": "b117929e-3beb-4653-c139-5ecf8995aa44"
      },
      "source": [
        "# Menampilkan informasi dataset dengan seluruh kolom\n",
        "data.describe(include='all')"
      ],
      "execution_count": 11,
      "outputs": [
        {
          "output_type": "execute_result",
          "data": {
            "text/html": [
              "<div>\n",
              "<style scoped>\n",
              "    .dataframe tbody tr th:only-of-type {\n",
              "        vertical-align: middle;\n",
              "    }\n",
              "\n",
              "    .dataframe tbody tr th {\n",
              "        vertical-align: top;\n",
              "    }\n",
              "\n",
              "    .dataframe thead th {\n",
              "        text-align: right;\n",
              "    }\n",
              "</style>\n",
              "<table border=\"1\" class=\"dataframe\">\n",
              "  <thead>\n",
              "    <tr style=\"text-align: right;\">\n",
              "      <th></th>\n",
              "      <th>pclass</th>\n",
              "      <th>survived</th>\n",
              "      <th>name</th>\n",
              "      <th>sex</th>\n",
              "      <th>age</th>\n",
              "      <th>sibsp</th>\n",
              "      <th>parch</th>\n",
              "      <th>ticket</th>\n",
              "      <th>fare</th>\n",
              "      <th>cabin</th>\n",
              "      <th>embarked</th>\n",
              "      <th>boat</th>\n",
              "      <th>body</th>\n",
              "      <th>home.dest</th>\n",
              "    </tr>\n",
              "  </thead>\n",
              "  <tbody>\n",
              "    <tr>\n",
              "      <th>count</th>\n",
              "      <td>1309.000000</td>\n",
              "      <td>1309.000000</td>\n",
              "      <td>1309</td>\n",
              "      <td>1309</td>\n",
              "      <td>1046.000000</td>\n",
              "      <td>1309.000000</td>\n",
              "      <td>1309.000000</td>\n",
              "      <td>1309</td>\n",
              "      <td>1308.000000</td>\n",
              "      <td>295</td>\n",
              "      <td>1307</td>\n",
              "      <td>486</td>\n",
              "      <td>121.000000</td>\n",
              "      <td>745</td>\n",
              "    </tr>\n",
              "    <tr>\n",
              "      <th>unique</th>\n",
              "      <td>NaN</td>\n",
              "      <td>NaN</td>\n",
              "      <td>1307</td>\n",
              "      <td>2</td>\n",
              "      <td>NaN</td>\n",
              "      <td>NaN</td>\n",
              "      <td>NaN</td>\n",
              "      <td>929</td>\n",
              "      <td>NaN</td>\n",
              "      <td>186</td>\n",
              "      <td>3</td>\n",
              "      <td>27</td>\n",
              "      <td>NaN</td>\n",
              "      <td>369</td>\n",
              "    </tr>\n",
              "    <tr>\n",
              "      <th>top</th>\n",
              "      <td>NaN</td>\n",
              "      <td>NaN</td>\n",
              "      <td>Connolly, Miss. Kate</td>\n",
              "      <td>male</td>\n",
              "      <td>NaN</td>\n",
              "      <td>NaN</td>\n",
              "      <td>NaN</td>\n",
              "      <td>CA. 2343</td>\n",
              "      <td>NaN</td>\n",
              "      <td>C23 C25 C27</td>\n",
              "      <td>S</td>\n",
              "      <td>13</td>\n",
              "      <td>NaN</td>\n",
              "      <td>New York, NY</td>\n",
              "    </tr>\n",
              "    <tr>\n",
              "      <th>freq</th>\n",
              "      <td>NaN</td>\n",
              "      <td>NaN</td>\n",
              "      <td>2</td>\n",
              "      <td>843</td>\n",
              "      <td>NaN</td>\n",
              "      <td>NaN</td>\n",
              "      <td>NaN</td>\n",
              "      <td>11</td>\n",
              "      <td>NaN</td>\n",
              "      <td>6</td>\n",
              "      <td>914</td>\n",
              "      <td>39</td>\n",
              "      <td>NaN</td>\n",
              "      <td>64</td>\n",
              "    </tr>\n",
              "    <tr>\n",
              "      <th>mean</th>\n",
              "      <td>2.294882</td>\n",
              "      <td>0.381971</td>\n",
              "      <td>NaN</td>\n",
              "      <td>NaN</td>\n",
              "      <td>29.881138</td>\n",
              "      <td>0.498854</td>\n",
              "      <td>0.385027</td>\n",
              "      <td>NaN</td>\n",
              "      <td>33.295479</td>\n",
              "      <td>NaN</td>\n",
              "      <td>NaN</td>\n",
              "      <td>NaN</td>\n",
              "      <td>160.809917</td>\n",
              "      <td>NaN</td>\n",
              "    </tr>\n",
              "    <tr>\n",
              "      <th>std</th>\n",
              "      <td>0.837836</td>\n",
              "      <td>0.486055</td>\n",
              "      <td>NaN</td>\n",
              "      <td>NaN</td>\n",
              "      <td>14.413493</td>\n",
              "      <td>1.041658</td>\n",
              "      <td>0.865560</td>\n",
              "      <td>NaN</td>\n",
              "      <td>51.758668</td>\n",
              "      <td>NaN</td>\n",
              "      <td>NaN</td>\n",
              "      <td>NaN</td>\n",
              "      <td>97.696922</td>\n",
              "      <td>NaN</td>\n",
              "    </tr>\n",
              "    <tr>\n",
              "      <th>min</th>\n",
              "      <td>1.000000</td>\n",
              "      <td>0.000000</td>\n",
              "      <td>NaN</td>\n",
              "      <td>NaN</td>\n",
              "      <td>0.170000</td>\n",
              "      <td>0.000000</td>\n",
              "      <td>0.000000</td>\n",
              "      <td>NaN</td>\n",
              "      <td>0.000000</td>\n",
              "      <td>NaN</td>\n",
              "      <td>NaN</td>\n",
              "      <td>NaN</td>\n",
              "      <td>1.000000</td>\n",
              "      <td>NaN</td>\n",
              "    </tr>\n",
              "    <tr>\n",
              "      <th>25%</th>\n",
              "      <td>2.000000</td>\n",
              "      <td>0.000000</td>\n",
              "      <td>NaN</td>\n",
              "      <td>NaN</td>\n",
              "      <td>21.000000</td>\n",
              "      <td>0.000000</td>\n",
              "      <td>0.000000</td>\n",
              "      <td>NaN</td>\n",
              "      <td>7.895800</td>\n",
              "      <td>NaN</td>\n",
              "      <td>NaN</td>\n",
              "      <td>NaN</td>\n",
              "      <td>72.000000</td>\n",
              "      <td>NaN</td>\n",
              "    </tr>\n",
              "    <tr>\n",
              "      <th>50%</th>\n",
              "      <td>3.000000</td>\n",
              "      <td>0.000000</td>\n",
              "      <td>NaN</td>\n",
              "      <td>NaN</td>\n",
              "      <td>28.000000</td>\n",
              "      <td>0.000000</td>\n",
              "      <td>0.000000</td>\n",
              "      <td>NaN</td>\n",
              "      <td>14.454200</td>\n",
              "      <td>NaN</td>\n",
              "      <td>NaN</td>\n",
              "      <td>NaN</td>\n",
              "      <td>155.000000</td>\n",
              "      <td>NaN</td>\n",
              "    </tr>\n",
              "    <tr>\n",
              "      <th>75%</th>\n",
              "      <td>3.000000</td>\n",
              "      <td>1.000000</td>\n",
              "      <td>NaN</td>\n",
              "      <td>NaN</td>\n",
              "      <td>39.000000</td>\n",
              "      <td>1.000000</td>\n",
              "      <td>0.000000</td>\n",
              "      <td>NaN</td>\n",
              "      <td>31.275000</td>\n",
              "      <td>NaN</td>\n",
              "      <td>NaN</td>\n",
              "      <td>NaN</td>\n",
              "      <td>256.000000</td>\n",
              "      <td>NaN</td>\n",
              "    </tr>\n",
              "    <tr>\n",
              "      <th>max</th>\n",
              "      <td>3.000000</td>\n",
              "      <td>1.000000</td>\n",
              "      <td>NaN</td>\n",
              "      <td>NaN</td>\n",
              "      <td>80.000000</td>\n",
              "      <td>8.000000</td>\n",
              "      <td>9.000000</td>\n",
              "      <td>NaN</td>\n",
              "      <td>512.329200</td>\n",
              "      <td>NaN</td>\n",
              "      <td>NaN</td>\n",
              "      <td>NaN</td>\n",
              "      <td>328.000000</td>\n",
              "      <td>NaN</td>\n",
              "    </tr>\n",
              "  </tbody>\n",
              "</table>\n",
              "</div>"
            ],
            "text/plain": [
              "             pclass     survived  ...        body     home.dest\n",
              "count   1309.000000  1309.000000  ...  121.000000           745\n",
              "unique          NaN          NaN  ...         NaN           369\n",
              "top             NaN          NaN  ...         NaN  New York, NY\n",
              "freq            NaN          NaN  ...         NaN            64\n",
              "mean       2.294882     0.381971  ...  160.809917           NaN\n",
              "std        0.837836     0.486055  ...   97.696922           NaN\n",
              "min        1.000000     0.000000  ...    1.000000           NaN\n",
              "25%        2.000000     0.000000  ...   72.000000           NaN\n",
              "50%        3.000000     0.000000  ...  155.000000           NaN\n",
              "75%        3.000000     1.000000  ...  256.000000           NaN\n",
              "max        3.000000     1.000000  ...  328.000000           NaN\n",
              "\n",
              "[11 rows x 14 columns]"
            ]
          },
          "metadata": {
            "tags": []
          },
          "execution_count": 11
        }
      ]
    },
    {
      "cell_type": "code",
      "metadata": {
        "id": "n92x15jev1ds",
        "colab": {
          "base_uri": "https://localhost:8080/"
        },
        "outputId": "9edafc59-5ff4-439e-fcc9-33b2ef0f2ba4"
      },
      "source": [
        "# Menampilkan data jumlah missing value pada setiap kolom\n",
        "data.isnull().sum()"
      ],
      "execution_count": 12,
      "outputs": [
        {
          "output_type": "execute_result",
          "data": {
            "text/plain": [
              "pclass          0\n",
              "survived        0\n",
              "name            0\n",
              "sex             0\n",
              "age           263\n",
              "sibsp           0\n",
              "parch           0\n",
              "ticket          0\n",
              "fare            1\n",
              "cabin        1014\n",
              "embarked        2\n",
              "boat          823\n",
              "body         1188\n",
              "home.dest     564\n",
              "dtype: int64"
            ]
          },
          "metadata": {
            "tags": []
          },
          "execution_count": 12
        }
      ]
    },
    {
      "cell_type": "markdown",
      "metadata": {
        "id": "nzZKSRVOyBMH"
      },
      "source": [
        "Manakah yang memungkinkan untuk kita imputasi?"
      ]
    },
    {
      "cell_type": "markdown",
      "metadata": {
        "id": "LJY9vQS21_Ba"
      },
      "source": [
        "## Investigasi missing value pada kolom usia\n",
        "\n",
        "Dataset Titanic pada umumnya digunakan untuk analisis prediksi. Pada dataset tersebut, terdapat relatif banyak data yang hilang pada kolom usia, apa yang perlu kita lakukan? Apakah kita hapus saja kolom tersebut, atau isi data kosong dengan data seperti ini:\n",
        "\n",
        "usiaRataRata = np.mean(data.age)\n",
        "\n",
        "data.age = data.age.fillna(usiaRataRata) \n",
        "\n",
        "### Diskusi:\n",
        "\n",
        "* **Adakah yang salah dari metode diatas?**\n",
        "\n",
        "* **Berapa rata-rata usia penumpang?**\n",
        "\n",
        "* **Berapa rata-rata usia penumpang laki-laki, berapa rata-rata usia penumpang perempuan? Adakah yang dapat digali?**\n"
      ]
    },
    {
      "cell_type": "code",
      "metadata": {
        "id": "KoE1Qs51pqtF",
        "colab": {
          "base_uri": "https://localhost:8080/"
        },
        "outputId": "8b596535-1afc-46e5-ebcd-23f91cbfbf51"
      },
      "source": [
        "# Rata-rata usia seluruh penumpang\n",
        "data['age'].mean()"
      ],
      "execution_count": 13,
      "outputs": [
        {
          "output_type": "execute_result",
          "data": {
            "text/plain": [
              "29.881137667304014"
            ]
          },
          "metadata": {
            "tags": []
          },
          "execution_count": 13
        }
      ]
    },
    {
      "cell_type": "code",
      "metadata": {
        "id": "hbDmjE944F7y",
        "colab": {
          "base_uri": "https://localhost:8080/",
          "height": 173
        },
        "outputId": "064790ea-e28c-4010-8446-1383a0740f04"
      },
      "source": [
        "# Rata-rata usia penumpang per jenis kelamin\n",
        "data.groupby('sex').agg({\n",
        "    'age': ['mean', 'max', 'min']\n",
        "})"
      ],
      "execution_count": 14,
      "outputs": [
        {
          "output_type": "execute_result",
          "data": {
            "text/html": [
              "<div>\n",
              "<style scoped>\n",
              "    .dataframe tbody tr th:only-of-type {\n",
              "        vertical-align: middle;\n",
              "    }\n",
              "\n",
              "    .dataframe tbody tr th {\n",
              "        vertical-align: top;\n",
              "    }\n",
              "\n",
              "    .dataframe thead tr th {\n",
              "        text-align: left;\n",
              "    }\n",
              "\n",
              "    .dataframe thead tr:last-of-type th {\n",
              "        text-align: right;\n",
              "    }\n",
              "</style>\n",
              "<table border=\"1\" class=\"dataframe\">\n",
              "  <thead>\n",
              "    <tr>\n",
              "      <th></th>\n",
              "      <th colspan=\"3\" halign=\"left\">age</th>\n",
              "    </tr>\n",
              "    <tr>\n",
              "      <th></th>\n",
              "      <th>mean</th>\n",
              "      <th>max</th>\n",
              "      <th>min</th>\n",
              "    </tr>\n",
              "    <tr>\n",
              "      <th>sex</th>\n",
              "      <th></th>\n",
              "      <th></th>\n",
              "      <th></th>\n",
              "    </tr>\n",
              "  </thead>\n",
              "  <tbody>\n",
              "    <tr>\n",
              "      <th>female</th>\n",
              "      <td>28.687088</td>\n",
              "      <td>76.0</td>\n",
              "      <td>0.17</td>\n",
              "    </tr>\n",
              "    <tr>\n",
              "      <th>male</th>\n",
              "      <td>30.585228</td>\n",
              "      <td>80.0</td>\n",
              "      <td>0.33</td>\n",
              "    </tr>\n",
              "  </tbody>\n",
              "</table>\n",
              "</div>"
            ],
            "text/plain": [
              "              age            \n",
              "             mean   max   min\n",
              "sex                          \n",
              "female  28.687088  76.0  0.17\n",
              "male    30.585228  80.0  0.33"
            ]
          },
          "metadata": {
            "tags": []
          },
          "execution_count": 14
        }
      ]
    },
    {
      "cell_type": "code",
      "metadata": {
        "id": "LvAC3jGPo8_a",
        "colab": {
          "base_uri": "https://localhost:8080/"
        },
        "outputId": "bd30d8f4-4eb6-4c80-b6d7-4c641f5e367b"
      },
      "source": [
        "# Mari lihat lebih detail persebaran usia penumpang\n",
        "data['age'].value_counts()"
      ],
      "execution_count": 15,
      "outputs": [
        {
          "output_type": "execute_result",
          "data": {
            "text/plain": [
              "24.00    47\n",
              "22.00    43\n",
              "21.00    41\n",
              "30.00    40\n",
              "18.00    39\n",
              "         ..\n",
              "70.50     1\n",
              "76.00     1\n",
              "67.00     1\n",
              "0.42      1\n",
              "0.67      1\n",
              "Name: age, Length: 98, dtype: int64"
            ]
          },
          "metadata": {
            "tags": []
          },
          "execution_count": 15
        }
      ]
    },
    {
      "cell_type": "code",
      "metadata": {
        "id": "4MzfK7B46vka",
        "colab": {
          "base_uri": "https://localhost:8080/"
        },
        "outputId": "6f0edff2-8b3c-480d-f81c-d43c0fcec795"
      },
      "source": [
        "# Sebagian besar penumpang masih muda, diantara 20-30 tahun. Mari lihat nilai unik dari usia-nya\n",
        "data['age'].unique()"
      ],
      "execution_count": 16,
      "outputs": [
        {
          "output_type": "execute_result",
          "data": {
            "text/plain": [
              "array([29.  ,  0.92,  2.  , 30.  , 25.  , 48.  , 63.  , 39.  , 53.  ,\n",
              "       71.  , 47.  , 18.  , 24.  , 26.  , 80.  ,   nan, 50.  , 32.  ,\n",
              "       36.  , 37.  , 42.  , 19.  , 35.  , 28.  , 45.  , 40.  , 58.  ,\n",
              "       22.  , 41.  , 44.  , 59.  , 60.  , 33.  , 17.  , 11.  , 14.  ,\n",
              "       49.  , 76.  , 46.  , 27.  , 64.  , 55.  , 70.  , 38.  , 51.  ,\n",
              "       31.  ,  4.  , 54.  , 23.  , 43.  , 52.  , 16.  , 32.5 , 21.  ,\n",
              "       15.  , 65.  , 28.5 , 45.5 , 56.  , 13.  , 61.  , 34.  ,  6.  ,\n",
              "       57.  , 62.  , 67.  ,  1.  , 12.  , 20.  ,  0.83,  8.  ,  0.67,\n",
              "        7.  ,  3.  , 36.5 , 18.5 ,  5.  , 66.  ,  9.  ,  0.75, 70.5 ,\n",
              "       22.5 ,  0.33,  0.17, 40.5 , 10.  , 23.5 , 34.5 , 20.5 , 30.5 ,\n",
              "       55.5 , 38.5 , 14.5 , 24.5 , 60.5 , 74.  ,  0.42, 11.5 , 26.5 ])"
            ]
          },
          "metadata": {
            "tags": []
          },
          "execution_count": 16
        }
      ]
    },
    {
      "cell_type": "markdown",
      "metadata": {
        "id": "mj8DIej77OOg"
      },
      "source": [
        "dapat dilihat bahwa nan juga masuk dalam perhitungan\n",
        "\n",
        "### Diskusi:\n",
        "*  berapa banyak nilai 'NaN' pada kolom usia?\n",
        "*  berapa banyak usia  < 1?"
      ]
    },
    {
      "cell_type": "code",
      "metadata": {
        "id": "F7Ke0SAe6_rw",
        "colab": {
          "base_uri": "https://localhost:8080/",
          "height": 204
        },
        "outputId": "2b595c1d-98af-4c4c-9e06-e4bd203fb454"
      },
      "source": [
        "# Mari lihat data yang berisi nan pada kolom age\n",
        "data[data['age'].isnull()].head() "
      ],
      "execution_count": 17,
      "outputs": [
        {
          "output_type": "execute_result",
          "data": {
            "text/html": [
              "<div>\n",
              "<style scoped>\n",
              "    .dataframe tbody tr th:only-of-type {\n",
              "        vertical-align: middle;\n",
              "    }\n",
              "\n",
              "    .dataframe tbody tr th {\n",
              "        vertical-align: top;\n",
              "    }\n",
              "\n",
              "    .dataframe thead th {\n",
              "        text-align: right;\n",
              "    }\n",
              "</style>\n",
              "<table border=\"1\" class=\"dataframe\">\n",
              "  <thead>\n",
              "    <tr style=\"text-align: right;\">\n",
              "      <th></th>\n",
              "      <th>pclass</th>\n",
              "      <th>survived</th>\n",
              "      <th>name</th>\n",
              "      <th>sex</th>\n",
              "      <th>age</th>\n",
              "      <th>sibsp</th>\n",
              "      <th>parch</th>\n",
              "      <th>ticket</th>\n",
              "      <th>fare</th>\n",
              "      <th>cabin</th>\n",
              "      <th>embarked</th>\n",
              "      <th>boat</th>\n",
              "      <th>body</th>\n",
              "      <th>home.dest</th>\n",
              "    </tr>\n",
              "  </thead>\n",
              "  <tbody>\n",
              "    <tr>\n",
              "      <th>15</th>\n",
              "      <td>1</td>\n",
              "      <td>0</td>\n",
              "      <td>Baumann, Mr. John D</td>\n",
              "      <td>male</td>\n",
              "      <td>NaN</td>\n",
              "      <td>0</td>\n",
              "      <td>0</td>\n",
              "      <td>PC 17318</td>\n",
              "      <td>25.9250</td>\n",
              "      <td>NaN</td>\n",
              "      <td>S</td>\n",
              "      <td>NaN</td>\n",
              "      <td>NaN</td>\n",
              "      <td>New York, NY</td>\n",
              "    </tr>\n",
              "    <tr>\n",
              "      <th>37</th>\n",
              "      <td>1</td>\n",
              "      <td>1</td>\n",
              "      <td>Bradley, Mr. George (\"George Arthur Brayton\")</td>\n",
              "      <td>male</td>\n",
              "      <td>NaN</td>\n",
              "      <td>0</td>\n",
              "      <td>0</td>\n",
              "      <td>111427</td>\n",
              "      <td>26.5500</td>\n",
              "      <td>NaN</td>\n",
              "      <td>S</td>\n",
              "      <td>9</td>\n",
              "      <td>NaN</td>\n",
              "      <td>Los Angeles, CA</td>\n",
              "    </tr>\n",
              "    <tr>\n",
              "      <th>40</th>\n",
              "      <td>1</td>\n",
              "      <td>0</td>\n",
              "      <td>Brewe, Dr. Arthur Jackson</td>\n",
              "      <td>male</td>\n",
              "      <td>NaN</td>\n",
              "      <td>0</td>\n",
              "      <td>0</td>\n",
              "      <td>112379</td>\n",
              "      <td>39.6000</td>\n",
              "      <td>NaN</td>\n",
              "      <td>C</td>\n",
              "      <td>NaN</td>\n",
              "      <td>NaN</td>\n",
              "      <td>Philadelphia, PA</td>\n",
              "    </tr>\n",
              "    <tr>\n",
              "      <th>46</th>\n",
              "      <td>1</td>\n",
              "      <td>0</td>\n",
              "      <td>Cairns, Mr. Alexander</td>\n",
              "      <td>male</td>\n",
              "      <td>NaN</td>\n",
              "      <td>0</td>\n",
              "      <td>0</td>\n",
              "      <td>113798</td>\n",
              "      <td>31.0000</td>\n",
              "      <td>NaN</td>\n",
              "      <td>S</td>\n",
              "      <td>NaN</td>\n",
              "      <td>NaN</td>\n",
              "      <td>NaN</td>\n",
              "    </tr>\n",
              "    <tr>\n",
              "      <th>59</th>\n",
              "      <td>1</td>\n",
              "      <td>1</td>\n",
              "      <td>Cassebeer, Mrs. Henry Arthur Jr (Eleanor Genev...</td>\n",
              "      <td>female</td>\n",
              "      <td>NaN</td>\n",
              "      <td>0</td>\n",
              "      <td>0</td>\n",
              "      <td>17770</td>\n",
              "      <td>27.7208</td>\n",
              "      <td>NaN</td>\n",
              "      <td>C</td>\n",
              "      <td>5</td>\n",
              "      <td>NaN</td>\n",
              "      <td>New York, NY</td>\n",
              "    </tr>\n",
              "  </tbody>\n",
              "</table>\n",
              "</div>"
            ],
            "text/plain": [
              "    pclass  survived  ... body         home.dest\n",
              "15       1         0  ...  NaN      New York, NY\n",
              "37       1         1  ...  NaN   Los Angeles, CA\n",
              "40       1         0  ...  NaN  Philadelphia, PA\n",
              "46       1         0  ...  NaN               NaN\n",
              "59       1         1  ...  NaN      New York, NY\n",
              "\n",
              "[5 rows x 14 columns]"
            ]
          },
          "metadata": {
            "tags": []
          },
          "execution_count": 17
        }
      ]
    },
    {
      "cell_type": "code",
      "metadata": {
        "id": "JE3zAI_29UVg",
        "colab": {
          "base_uri": "https://localhost:8080/",
          "height": 421
        },
        "outputId": "0affaeac-3ebb-431f-c1d5-4ba17cf671a7"
      },
      "source": [
        "# Data dengan usia penumpang < 1\n",
        "data[data['age'] < 1]"
      ],
      "execution_count": 18,
      "outputs": [
        {
          "output_type": "execute_result",
          "data": {
            "text/html": [
              "<div>\n",
              "<style scoped>\n",
              "    .dataframe tbody tr th:only-of-type {\n",
              "        vertical-align: middle;\n",
              "    }\n",
              "\n",
              "    .dataframe tbody tr th {\n",
              "        vertical-align: top;\n",
              "    }\n",
              "\n",
              "    .dataframe thead th {\n",
              "        text-align: right;\n",
              "    }\n",
              "</style>\n",
              "<table border=\"1\" class=\"dataframe\">\n",
              "  <thead>\n",
              "    <tr style=\"text-align: right;\">\n",
              "      <th></th>\n",
              "      <th>pclass</th>\n",
              "      <th>survived</th>\n",
              "      <th>name</th>\n",
              "      <th>sex</th>\n",
              "      <th>age</th>\n",
              "      <th>sibsp</th>\n",
              "      <th>parch</th>\n",
              "      <th>ticket</th>\n",
              "      <th>fare</th>\n",
              "      <th>cabin</th>\n",
              "      <th>embarked</th>\n",
              "      <th>boat</th>\n",
              "      <th>body</th>\n",
              "      <th>home.dest</th>\n",
              "    </tr>\n",
              "  </thead>\n",
              "  <tbody>\n",
              "    <tr>\n",
              "      <th>1</th>\n",
              "      <td>1</td>\n",
              "      <td>1</td>\n",
              "      <td>Allison, Master. Hudson Trevor</td>\n",
              "      <td>male</td>\n",
              "      <td>0.92</td>\n",
              "      <td>1</td>\n",
              "      <td>2</td>\n",
              "      <td>113781</td>\n",
              "      <td>151.5500</td>\n",
              "      <td>C22 C26</td>\n",
              "      <td>S</td>\n",
              "      <td>11</td>\n",
              "      <td>NaN</td>\n",
              "      <td>Montreal, PQ / Chesterville, ON</td>\n",
              "    </tr>\n",
              "    <tr>\n",
              "      <th>359</th>\n",
              "      <td>2</td>\n",
              "      <td>1</td>\n",
              "      <td>Caldwell, Master. Alden Gates</td>\n",
              "      <td>male</td>\n",
              "      <td>0.83</td>\n",
              "      <td>0</td>\n",
              "      <td>2</td>\n",
              "      <td>248738</td>\n",
              "      <td>29.0000</td>\n",
              "      <td>NaN</td>\n",
              "      <td>S</td>\n",
              "      <td>13</td>\n",
              "      <td>NaN</td>\n",
              "      <td>Bangkok, Thailand / Roseville, IL</td>\n",
              "    </tr>\n",
              "    <tr>\n",
              "      <th>427</th>\n",
              "      <td>2</td>\n",
              "      <td>1</td>\n",
              "      <td>Hamalainen, Master. Viljo</td>\n",
              "      <td>male</td>\n",
              "      <td>0.67</td>\n",
              "      <td>1</td>\n",
              "      <td>1</td>\n",
              "      <td>250649</td>\n",
              "      <td>14.5000</td>\n",
              "      <td>NaN</td>\n",
              "      <td>S</td>\n",
              "      <td>4</td>\n",
              "      <td>NaN</td>\n",
              "      <td>Detroit, MI</td>\n",
              "    </tr>\n",
              "    <tr>\n",
              "      <th>548</th>\n",
              "      <td>2</td>\n",
              "      <td>1</td>\n",
              "      <td>Richards, Master. George Sibley</td>\n",
              "      <td>male</td>\n",
              "      <td>0.83</td>\n",
              "      <td>1</td>\n",
              "      <td>1</td>\n",
              "      <td>29106</td>\n",
              "      <td>18.7500</td>\n",
              "      <td>NaN</td>\n",
              "      <td>S</td>\n",
              "      <td>4</td>\n",
              "      <td>NaN</td>\n",
              "      <td>Cornwall / Akron, OH</td>\n",
              "    </tr>\n",
              "    <tr>\n",
              "      <th>590</th>\n",
              "      <td>2</td>\n",
              "      <td>1</td>\n",
              "      <td>West, Miss. Barbara J</td>\n",
              "      <td>female</td>\n",
              "      <td>0.92</td>\n",
              "      <td>1</td>\n",
              "      <td>2</td>\n",
              "      <td>C.A. 34651</td>\n",
              "      <td>27.7500</td>\n",
              "      <td>NaN</td>\n",
              "      <td>S</td>\n",
              "      <td>10</td>\n",
              "      <td>NaN</td>\n",
              "      <td>Bournmouth, England</td>\n",
              "    </tr>\n",
              "    <tr>\n",
              "      <th>611</th>\n",
              "      <td>3</td>\n",
              "      <td>1</td>\n",
              "      <td>Aks, Master. Philip Frank</td>\n",
              "      <td>male</td>\n",
              "      <td>0.83</td>\n",
              "      <td>0</td>\n",
              "      <td>1</td>\n",
              "      <td>392091</td>\n",
              "      <td>9.3500</td>\n",
              "      <td>NaN</td>\n",
              "      <td>S</td>\n",
              "      <td>11</td>\n",
              "      <td>NaN</td>\n",
              "      <td>London, England Norfolk, VA</td>\n",
              "    </tr>\n",
              "    <tr>\n",
              "      <th>657</th>\n",
              "      <td>3</td>\n",
              "      <td>1</td>\n",
              "      <td>Baclini, Miss. Eugenie</td>\n",
              "      <td>female</td>\n",
              "      <td>0.75</td>\n",
              "      <td>2</td>\n",
              "      <td>1</td>\n",
              "      <td>2666</td>\n",
              "      <td>19.2583</td>\n",
              "      <td>NaN</td>\n",
              "      <td>C</td>\n",
              "      <td>C</td>\n",
              "      <td>NaN</td>\n",
              "      <td>Syria New York, NY</td>\n",
              "    </tr>\n",
              "    <tr>\n",
              "      <th>658</th>\n",
              "      <td>3</td>\n",
              "      <td>1</td>\n",
              "      <td>Baclini, Miss. Helene Barbara</td>\n",
              "      <td>female</td>\n",
              "      <td>0.75</td>\n",
              "      <td>2</td>\n",
              "      <td>1</td>\n",
              "      <td>2666</td>\n",
              "      <td>19.2583</td>\n",
              "      <td>NaN</td>\n",
              "      <td>C</td>\n",
              "      <td>C</td>\n",
              "      <td>NaN</td>\n",
              "      <td>Syria New York, NY</td>\n",
              "    </tr>\n",
              "    <tr>\n",
              "      <th>747</th>\n",
              "      <td>3</td>\n",
              "      <td>0</td>\n",
              "      <td>Danbom, Master. Gilbert Sigvard Emanuel</td>\n",
              "      <td>male</td>\n",
              "      <td>0.33</td>\n",
              "      <td>0</td>\n",
              "      <td>2</td>\n",
              "      <td>347080</td>\n",
              "      <td>14.4000</td>\n",
              "      <td>NaN</td>\n",
              "      <td>S</td>\n",
              "      <td>NaN</td>\n",
              "      <td>NaN</td>\n",
              "      <td>Stanton, IA</td>\n",
              "    </tr>\n",
              "    <tr>\n",
              "      <th>763</th>\n",
              "      <td>3</td>\n",
              "      <td>1</td>\n",
              "      <td>Dean, Miss. Elizabeth Gladys \"Millvina\"</td>\n",
              "      <td>female</td>\n",
              "      <td>0.17</td>\n",
              "      <td>1</td>\n",
              "      <td>2</td>\n",
              "      <td>C.A. 2315</td>\n",
              "      <td>20.5750</td>\n",
              "      <td>NaN</td>\n",
              "      <td>S</td>\n",
              "      <td>10</td>\n",
              "      <td>NaN</td>\n",
              "      <td>Devon, England Wichita, KS</td>\n",
              "    </tr>\n",
              "    <tr>\n",
              "      <th>1111</th>\n",
              "      <td>3</td>\n",
              "      <td>0</td>\n",
              "      <td>Peacock, Master. Alfred Edward</td>\n",
              "      <td>male</td>\n",
              "      <td>0.75</td>\n",
              "      <td>1</td>\n",
              "      <td>1</td>\n",
              "      <td>SOTON/O.Q. 3101315</td>\n",
              "      <td>13.7750</td>\n",
              "      <td>NaN</td>\n",
              "      <td>S</td>\n",
              "      <td>NaN</td>\n",
              "      <td>NaN</td>\n",
              "      <td>NaN</td>\n",
              "    </tr>\n",
              "    <tr>\n",
              "      <th>1240</th>\n",
              "      <td>3</td>\n",
              "      <td>1</td>\n",
              "      <td>Thomas, Master. Assad Alexander</td>\n",
              "      <td>male</td>\n",
              "      <td>0.42</td>\n",
              "      <td>0</td>\n",
              "      <td>1</td>\n",
              "      <td>2625</td>\n",
              "      <td>8.5167</td>\n",
              "      <td>NaN</td>\n",
              "      <td>C</td>\n",
              "      <td>16</td>\n",
              "      <td>NaN</td>\n",
              "      <td>NaN</td>\n",
              "    </tr>\n",
              "  </tbody>\n",
              "</table>\n",
              "</div>"
            ],
            "text/plain": [
              "      pclass  survived  ... body                          home.dest\n",
              "1          1         1  ...  NaN    Montreal, PQ / Chesterville, ON\n",
              "359        2         1  ...  NaN  Bangkok, Thailand / Roseville, IL\n",
              "427        2         1  ...  NaN                        Detroit, MI\n",
              "548        2         1  ...  NaN               Cornwall / Akron, OH\n",
              "590        2         1  ...  NaN                Bournmouth, England\n",
              "611        3         1  ...  NaN        London, England Norfolk, VA\n",
              "657        3         1  ...  NaN                 Syria New York, NY\n",
              "658        3         1  ...  NaN                 Syria New York, NY\n",
              "747        3         0  ...  NaN                        Stanton, IA\n",
              "763        3         1  ...  NaN         Devon, England Wichita, KS\n",
              "1111       3         0  ...  NaN                                NaN\n",
              "1240       3         1  ...  NaN                                NaN\n",
              "\n",
              "[12 rows x 14 columns]"
            ]
          },
          "metadata": {
            "tags": []
          },
          "execution_count": 18
        }
      ]
    },
    {
      "cell_type": "code",
      "metadata": {
        "id": "83bygaq79lgd",
        "colab": {
          "base_uri": "https://localhost:8080/",
          "height": 282
        },
        "outputId": "0363e64a-19f9-4f85-80e6-a4b4bcc0a13b"
      },
      "source": [
        "%matplotlib inline\n",
        "data['age'].hist()"
      ],
      "execution_count": 19,
      "outputs": [
        {
          "output_type": "execute_result",
          "data": {
            "text/plain": [
              "<matplotlib.axes._subplots.AxesSubplot at 0x7f7c332692d0>"
            ]
          },
          "metadata": {
            "tags": []
          },
          "execution_count": 19
        },
        {
          "output_type": "display_data",
          "data": {
            "image/png": "[encoded data removed]",
            "text/plain": [
              "<Figure size 432x288 with 1 Axes>"
            ]
          },
          "metadata": {
            "tags": [],
            "needs_background": "light"
          }
        }
      ]
    },
    {
      "cell_type": "code",
      "metadata": {
        "id": "du2aqpuX95QU",
        "colab": {
          "base_uri": "https://localhost:8080/"
        },
        "outputId": "c3fd58e3-8789-4e35-d277-dbafeb6797ad"
      },
      "source": [
        "sum(data['age'].isnull())\n",
        "# 263 penumpang tidak memiliki data usia"
      ],
      "execution_count": 20,
      "outputs": [
        {
          "output_type": "execute_result",
          "data": {
            "text/plain": [
              "263"
            ]
          },
          "metadata": {
            "tags": []
          },
          "execution_count": 20
        }
      ]
    },
    {
      "cell_type": "markdown",
      "metadata": {
        "id": "1UvOr7Q0-iX1"
      },
      "source": [
        "### Mari lihat faktor lain yang dapat menjadi clue untuk usia penumpang, seperti nama?\n",
        "\n",
        "### Diskusi:\n",
        "\n",
        "* Dapatkah kita asumsikan bahwa 'Mrs' berarti wanita yang telah menikah (bukan anak-anak)?\n",
        "\n",
        "* Bagaimana dengan 'Miss' atau 'Ms'?\n"
      ]
    },
    {
      "cell_type": "code",
      "metadata": {
        "id": "ve6zZoXF-Q7T"
      },
      "source": [
        "# Buat fungsi untuk meng-ekstrak title/gelar pada nama\n",
        "# Pada dataset, nama ditulis dengan format seperti:\n",
        "# Allison, Master. Hudson Trevor\n",
        "# Sehingga kita perlu pisahkan ','\n",
        "# kemudian pisahkan '.'\n",
        "\n",
        "def ekstrak_nama(nama):\n",
        "     return nama.split(',')[1].split('.')[0].strip()"
      ],
      "execution_count": 21,
      "outputs": []
    },
    {
      "cell_type": "code",
      "metadata": {
        "id": "VoOJ06dY_jsD",
        "colab": {
          "base_uri": "https://localhost:8080/"
        },
        "outputId": "70109083-4ee6-47e0-cd9b-7c1140ce688a"
      },
      "source": [
        "# Testing esktrak nama\n",
        "datasementara = pd.DataFrame({'Title':data['name'].apply(ekstrak_nama)})\n",
        "# Cek nilai unik dari setiap title\n",
        "datasementara['Title'].unique()"
      ],
      "execution_count": 22,
      "outputs": [
        {
          "output_type": "execute_result",
          "data": {
            "text/plain": [
              "array(['Miss', 'Master', 'Mr', 'Mrs', 'Col', 'Mme', 'Dr', 'Major', 'Capt',\n",
              "       'Lady', 'Sir', 'Mlle', 'Dona', 'Jonkheer', 'the Countess', 'Don',\n",
              "       'Rev', 'Ms'], dtype=object)"
            ]
          },
          "metadata": {
            "tags": []
          },
          "execution_count": 22
        }
      ]
    },
    {
      "cell_type": "code",
      "metadata": {
        "id": "hFXBNgWs_9PW",
        "colab": {
          "base_uri": "https://localhost:8080/"
        },
        "outputId": "cfdca416-8007-4b13-d920-80dcd4e9ce5b"
      },
      "source": [
        "# Beberapa gelar mungkin terlihat asing, akan tetapi sebagian besar merupakan gelar standar, dapat dicek dengan menghitung jumlahnya\n",
        "datasementara['Title'].value_counts()"
      ],
      "execution_count": 23,
      "outputs": [
        {
          "output_type": "execute_result",
          "data": {
            "text/plain": [
              "Mr              757\n",
              "Miss            260\n",
              "Mrs             197\n",
              "Master           61\n",
              "Dr                8\n",
              "Rev               8\n",
              "Col               4\n",
              "Ms                2\n",
              "Mlle              2\n",
              "Major             2\n",
              "Lady              1\n",
              "Capt              1\n",
              "the Countess      1\n",
              "Sir               1\n",
              "Don               1\n",
              "Dona              1\n",
              "Mme               1\n",
              "Jonkheer          1\n",
              "Name: Title, dtype: int64"
            ]
          },
          "metadata": {
            "tags": []
          },
          "execution_count": 23
        }
      ]
    },
    {
      "cell_type": "code",
      "metadata": {
        "id": "KS5Fs-AFANOv",
        "colab": {
          "base_uri": "https://localhost:8080/"
        },
        "outputId": "a75fb92c-bc93-48ff-b2d2-af2dd85dd4b4"
      },
      "source": [
        "# Cross check apakah jumlah sesuai\n",
        "sum(datasementara['Title'].value_counts())"
      ],
      "execution_count": 24,
      "outputs": [
        {
          "output_type": "execute_result",
          "data": {
            "text/plain": [
              "1309"
            ]
          },
          "metadata": {
            "tags": []
          },
          "execution_count": 24
        }
      ]
    },
    {
      "cell_type": "markdown",
      "metadata": {
        "id": "xD0FkjnxBXR6"
      },
      "source": [
        "### Dari pemrosesan diatas, dapat diketahui bahwa seluruh penumpang memiliki title/ gelar.\n",
        "\n",
        "Terdapat gelar 'Jonkheer' (dan Dona - Spanish?)\n",
        "\n",
        "#### Bagaimana dengan gelar 'Master'? Bisakah diasumsikan sebagai anak-anak?\n",
        "\n",
        "#### Dr, Rev, Col, Major, Capt, Sir, Don, apakah semuanya orang dewasa?"
      ]
    },
    {
      "cell_type": "code",
      "metadata": {
        "id": "NnbQH5Xo93Y3",
        "colab": {
          "base_uri": "https://localhost:8080/",
          "height": 204
        },
        "outputId": "0a2bb79c-13da-4bca-962d-f9711f217e7d"
      },
      "source": [
        "# Buat duplikat dari dataset semula\n",
        "df2 = data.copy()\n",
        "df2['Title'] = data['name'].apply(ekstrak_nama)\n",
        "df2.head()"
      ],
      "execution_count": 25,
      "outputs": [
        {
          "output_type": "execute_result",
          "data": {
            "text/html": [
              "<div>\n",
              "<style scoped>\n",
              "    .dataframe tbody tr th:only-of-type {\n",
              "        vertical-align: middle;\n",
              "    }\n",
              "\n",
              "    .dataframe tbody tr th {\n",
              "        vertical-align: top;\n",
              "    }\n",
              "\n",
              "    .dataframe thead th {\n",
              "        text-align: right;\n",
              "    }\n",
              "</style>\n",
              "<table border=\"1\" class=\"dataframe\">\n",
              "  <thead>\n",
              "    <tr style=\"text-align: right;\">\n",
              "      <th></th>\n",
              "      <th>pclass</th>\n",
              "      <th>survived</th>\n",
              "      <th>name</th>\n",
              "      <th>sex</th>\n",
              "      <th>age</th>\n",
              "      <th>sibsp</th>\n",
              "      <th>parch</th>\n",
              "      <th>ticket</th>\n",
              "      <th>fare</th>\n",
              "      <th>cabin</th>\n",
              "      <th>embarked</th>\n",
              "      <th>boat</th>\n",
              "      <th>body</th>\n",
              "      <th>home.dest</th>\n",
              "      <th>Title</th>\n",
              "    </tr>\n",
              "  </thead>\n",
              "  <tbody>\n",
              "    <tr>\n",
              "      <th>0</th>\n",
              "      <td>1</td>\n",
              "      <td>1</td>\n",
              "      <td>Allen, Miss. Elisabeth Walton</td>\n",
              "      <td>female</td>\n",
              "      <td>29.00</td>\n",
              "      <td>0</td>\n",
              "      <td>0</td>\n",
              "      <td>24160</td>\n",
              "      <td>211.3375</td>\n",
              "      <td>B5</td>\n",
              "      <td>S</td>\n",
              "      <td>2</td>\n",
              "      <td>NaN</td>\n",
              "      <td>St Louis, MO</td>\n",
              "      <td>Miss</td>\n",
              "    </tr>\n",
              "    <tr>\n",
              "      <th>1</th>\n",
              "      <td>1</td>\n",
              "      <td>1</td>\n",
              "      <td>Allison, Master. Hudson Trevor</td>\n",
              "      <td>male</td>\n",
              "      <td>0.92</td>\n",
              "      <td>1</td>\n",
              "      <td>2</td>\n",
              "      <td>113781</td>\n",
              "      <td>151.5500</td>\n",
              "      <td>C22 C26</td>\n",
              "      <td>S</td>\n",
              "      <td>11</td>\n",
              "      <td>NaN</td>\n",
              "      <td>Montreal, PQ / Chesterville, ON</td>\n",
              "      <td>Master</td>\n",
              "    </tr>\n",
              "    <tr>\n",
              "      <th>2</th>\n",
              "      <td>1</td>\n",
              "      <td>0</td>\n",
              "      <td>Allison, Miss. Helen Loraine</td>\n",
              "      <td>female</td>\n",
              "      <td>2.00</td>\n",
              "      <td>1</td>\n",
              "      <td>2</td>\n",
              "      <td>113781</td>\n",
              "      <td>151.5500</td>\n",
              "      <td>C22 C26</td>\n",
              "      <td>S</td>\n",
              "      <td>NaN</td>\n",
              "      <td>NaN</td>\n",
              "      <td>Montreal, PQ / Chesterville, ON</td>\n",
              "      <td>Miss</td>\n",
              "    </tr>\n",
              "    <tr>\n",
              "      <th>3</th>\n",
              "      <td>1</td>\n",
              "      <td>0</td>\n",
              "      <td>Allison, Mr. Hudson Joshua Creighton</td>\n",
              "      <td>male</td>\n",
              "      <td>30.00</td>\n",
              "      <td>1</td>\n",
              "      <td>2</td>\n",
              "      <td>113781</td>\n",
              "      <td>151.5500</td>\n",
              "      <td>C22 C26</td>\n",
              "      <td>S</td>\n",
              "      <td>NaN</td>\n",
              "      <td>135.0</td>\n",
              "      <td>Montreal, PQ / Chesterville, ON</td>\n",
              "      <td>Mr</td>\n",
              "    </tr>\n",
              "    <tr>\n",
              "      <th>4</th>\n",
              "      <td>1</td>\n",
              "      <td>0</td>\n",
              "      <td>Allison, Mrs. Hudson J C (Bessie Waldo Daniels)</td>\n",
              "      <td>female</td>\n",
              "      <td>25.00</td>\n",
              "      <td>1</td>\n",
              "      <td>2</td>\n",
              "      <td>113781</td>\n",
              "      <td>151.5500</td>\n",
              "      <td>C22 C26</td>\n",
              "      <td>S</td>\n",
              "      <td>NaN</td>\n",
              "      <td>NaN</td>\n",
              "      <td>Montreal, PQ / Chesterville, ON</td>\n",
              "      <td>Mrs</td>\n",
              "    </tr>\n",
              "  </tbody>\n",
              "</table>\n",
              "</div>"
            ],
            "text/plain": [
              "   pclass  survived  ...                        home.dest   Title\n",
              "0       1         1  ...                     St Louis, MO    Miss\n",
              "1       1         1  ...  Montreal, PQ / Chesterville, ON  Master\n",
              "2       1         0  ...  Montreal, PQ / Chesterville, ON    Miss\n",
              "3       1         0  ...  Montreal, PQ / Chesterville, ON      Mr\n",
              "4       1         0  ...  Montreal, PQ / Chesterville, ON     Mrs\n",
              "\n",
              "[5 rows x 15 columns]"
            ]
          },
          "metadata": {
            "tags": []
          },
          "execution_count": 25
        }
      ]
    },
    {
      "cell_type": "code",
      "metadata": {
        "id": "dWsNVThyHb8n",
        "colab": {
          "base_uri": "https://localhost:8080/",
          "height": 49
        },
        "outputId": "9bd02839-1a1d-44e5-969a-9f0a53c35bd5"
      },
      "source": [
        "# Periksa bahwa data title tidak ada yang kosong\n",
        "df2[df2['Title'].isnull()]"
      ],
      "execution_count": 26,
      "outputs": [
        {
          "output_type": "execute_result",
          "data": {
            "text/html": [
              "<div>\n",
              "<style scoped>\n",
              "    .dataframe tbody tr th:only-of-type {\n",
              "        vertical-align: middle;\n",
              "    }\n",
              "\n",
              "    .dataframe tbody tr th {\n",
              "        vertical-align: top;\n",
              "    }\n",
              "\n",
              "    .dataframe thead th {\n",
              "        text-align: right;\n",
              "    }\n",
              "</style>\n",
              "<table border=\"1\" class=\"dataframe\">\n",
              "  <thead>\n",
              "    <tr style=\"text-align: right;\">\n",
              "      <th></th>\n",
              "      <th>pclass</th>\n",
              "      <th>survived</th>\n",
              "      <th>name</th>\n",
              "      <th>sex</th>\n",
              "      <th>age</th>\n",
              "      <th>sibsp</th>\n",
              "      <th>parch</th>\n",
              "      <th>ticket</th>\n",
              "      <th>fare</th>\n",
              "      <th>cabin</th>\n",
              "      <th>embarked</th>\n",
              "      <th>boat</th>\n",
              "      <th>body</th>\n",
              "      <th>home.dest</th>\n",
              "      <th>Title</th>\n",
              "    </tr>\n",
              "  </thead>\n",
              "  <tbody>\n",
              "  </tbody>\n",
              "</table>\n",
              "</div>"
            ],
            "text/plain": [
              "Empty DataFrame\n",
              "Columns: [pclass, survived, name, sex, age, sibsp, parch, ticket, fare, cabin, embarked, boat, body, home.dest, Title]\n",
              "Index: []"
            ]
          },
          "metadata": {
            "tags": []
          },
          "execution_count": 26
        }
      ]
    },
    {
      "cell_type": "markdown",
      "metadata": {
        "id": "FjdfoIZmH4UL"
      },
      "source": [
        "#### Lihat distribusi *missing value* dari kolom title"
      ]
    },
    {
      "cell_type": "code",
      "metadata": {
        "id": "JbM5jJXeHu3d",
        "colab": {
          "base_uri": "https://localhost:8080/"
        },
        "outputId": "cfeb6236-8854-4f8a-8197-9f60fccb700a"
      },
      "source": [
        "# Cek jumlah data missing\n",
        "df2[df2.age.isnull()].Title.value_counts()"
      ],
      "execution_count": 27,
      "outputs": [
        {
          "output_type": "execute_result",
          "data": {
            "text/plain": [
              "Mr        176\n",
              "Miss       50\n",
              "Mrs        27\n",
              "Master      8\n",
              "Ms          1\n",
              "Dr          1\n",
              "Name: Title, dtype: int64"
            ]
          },
          "metadata": {
            "tags": []
          },
          "execution_count": 27
        }
      ]
    },
    {
      "cell_type": "code",
      "metadata": {
        "id": "ihCUWik8ICa-",
        "colab": {
          "base_uri": "https://localhost:8080/",
          "height": 297
        },
        "outputId": "4d87590f-2891-4c51-d1c6-4c168e52059d"
      },
      "source": [
        "# Cek untuk title Dr\n",
        "df2[df2['Title'] == \"Dr\"]"
      ],
      "execution_count": 28,
      "outputs": [
        {
          "output_type": "execute_result",
          "data": {
            "text/html": [
              "<div>\n",
              "<style scoped>\n",
              "    .dataframe tbody tr th:only-of-type {\n",
              "        vertical-align: middle;\n",
              "    }\n",
              "\n",
              "    .dataframe tbody tr th {\n",
              "        vertical-align: top;\n",
              "    }\n",
              "\n",
              "    .dataframe thead th {\n",
              "        text-align: right;\n",
              "    }\n",
              "</style>\n",
              "<table border=\"1\" class=\"dataframe\">\n",
              "  <thead>\n",
              "    <tr style=\"text-align: right;\">\n",
              "      <th></th>\n",
              "      <th>pclass</th>\n",
              "      <th>survived</th>\n",
              "      <th>name</th>\n",
              "      <th>sex</th>\n",
              "      <th>age</th>\n",
              "      <th>sibsp</th>\n",
              "      <th>parch</th>\n",
              "      <th>ticket</th>\n",
              "      <th>fare</th>\n",
              "      <th>cabin</th>\n",
              "      <th>embarked</th>\n",
              "      <th>boat</th>\n",
              "      <th>body</th>\n",
              "      <th>home.dest</th>\n",
              "      <th>Title</th>\n",
              "    </tr>\n",
              "  </thead>\n",
              "  <tbody>\n",
              "    <tr>\n",
              "      <th>40</th>\n",
              "      <td>1</td>\n",
              "      <td>0</td>\n",
              "      <td>Brewe, Dr. Arthur Jackson</td>\n",
              "      <td>male</td>\n",
              "      <td>NaN</td>\n",
              "      <td>0</td>\n",
              "      <td>0</td>\n",
              "      <td>112379</td>\n",
              "      <td>39.6000</td>\n",
              "      <td>NaN</td>\n",
              "      <td>C</td>\n",
              "      <td>NaN</td>\n",
              "      <td>NaN</td>\n",
              "      <td>Philadelphia, PA</td>\n",
              "      <td>Dr</td>\n",
              "    </tr>\n",
              "    <tr>\n",
              "      <th>93</th>\n",
              "      <td>1</td>\n",
              "      <td>1</td>\n",
              "      <td>Dodge, Dr. Washington</td>\n",
              "      <td>male</td>\n",
              "      <td>53.0</td>\n",
              "      <td>1</td>\n",
              "      <td>1</td>\n",
              "      <td>33638</td>\n",
              "      <td>81.8583</td>\n",
              "      <td>A34</td>\n",
              "      <td>S</td>\n",
              "      <td>13</td>\n",
              "      <td>NaN</td>\n",
              "      <td>San Francisco, CA</td>\n",
              "      <td>Dr</td>\n",
              "    </tr>\n",
              "    <tr>\n",
              "      <th>119</th>\n",
              "      <td>1</td>\n",
              "      <td>1</td>\n",
              "      <td>Frauenthal, Dr. Henry William</td>\n",
              "      <td>male</td>\n",
              "      <td>50.0</td>\n",
              "      <td>2</td>\n",
              "      <td>0</td>\n",
              "      <td>PC 17611</td>\n",
              "      <td>133.6500</td>\n",
              "      <td>NaN</td>\n",
              "      <td>S</td>\n",
              "      <td>5</td>\n",
              "      <td>NaN</td>\n",
              "      <td>New York, NY</td>\n",
              "      <td>Dr</td>\n",
              "    </tr>\n",
              "    <tr>\n",
              "      <th>181</th>\n",
              "      <td>1</td>\n",
              "      <td>1</td>\n",
              "      <td>Leader, Dr. Alice (Farnham)</td>\n",
              "      <td>female</td>\n",
              "      <td>49.0</td>\n",
              "      <td>0</td>\n",
              "      <td>0</td>\n",
              "      <td>17465</td>\n",
              "      <td>25.9292</td>\n",
              "      <td>D17</td>\n",
              "      <td>S</td>\n",
              "      <td>8</td>\n",
              "      <td>NaN</td>\n",
              "      <td>New York, NY</td>\n",
              "      <td>Dr</td>\n",
              "    </tr>\n",
              "    <tr>\n",
              "      <th>206</th>\n",
              "      <td>1</td>\n",
              "      <td>0</td>\n",
              "      <td>Minahan, Dr. William Edward</td>\n",
              "      <td>male</td>\n",
              "      <td>44.0</td>\n",
              "      <td>2</td>\n",
              "      <td>0</td>\n",
              "      <td>19928</td>\n",
              "      <td>90.0000</td>\n",
              "      <td>C78</td>\n",
              "      <td>Q</td>\n",
              "      <td>NaN</td>\n",
              "      <td>230.0</td>\n",
              "      <td>Fond du Lac, WI</td>\n",
              "      <td>Dr</td>\n",
              "    </tr>\n",
              "    <tr>\n",
              "      <th>278</th>\n",
              "      <td>1</td>\n",
              "      <td>1</td>\n",
              "      <td>Stahelin-Maeglin, Dr. Max</td>\n",
              "      <td>male</td>\n",
              "      <td>32.0</td>\n",
              "      <td>0</td>\n",
              "      <td>0</td>\n",
              "      <td>13214</td>\n",
              "      <td>30.5000</td>\n",
              "      <td>B50</td>\n",
              "      <td>C</td>\n",
              "      <td>3</td>\n",
              "      <td>NaN</td>\n",
              "      <td>Basel, Switzerland</td>\n",
              "      <td>Dr</td>\n",
              "    </tr>\n",
              "    <tr>\n",
              "      <th>508</th>\n",
              "      <td>2</td>\n",
              "      <td>0</td>\n",
              "      <td>Moraweck, Dr. Ernest</td>\n",
              "      <td>male</td>\n",
              "      <td>54.0</td>\n",
              "      <td>0</td>\n",
              "      <td>0</td>\n",
              "      <td>29011</td>\n",
              "      <td>14.0000</td>\n",
              "      <td>NaN</td>\n",
              "      <td>S</td>\n",
              "      <td>NaN</td>\n",
              "      <td>NaN</td>\n",
              "      <td>Frankfort, KY</td>\n",
              "      <td>Dr</td>\n",
              "    </tr>\n",
              "    <tr>\n",
              "      <th>525</th>\n",
              "      <td>2</td>\n",
              "      <td>0</td>\n",
              "      <td>Pain, Dr. Alfred</td>\n",
              "      <td>male</td>\n",
              "      <td>23.0</td>\n",
              "      <td>0</td>\n",
              "      <td>0</td>\n",
              "      <td>244278</td>\n",
              "      <td>10.5000</td>\n",
              "      <td>NaN</td>\n",
              "      <td>S</td>\n",
              "      <td>NaN</td>\n",
              "      <td>NaN</td>\n",
              "      <td>Hamilton, ON</td>\n",
              "      <td>Dr</td>\n",
              "    </tr>\n",
              "  </tbody>\n",
              "</table>\n",
              "</div>"
            ],
            "text/plain": [
              "     pclass  survived  ...           home.dest Title\n",
              "40        1         0  ...    Philadelphia, PA    Dr\n",
              "93        1         1  ...   San Francisco, CA    Dr\n",
              "119       1         1  ...        New York, NY    Dr\n",
              "181       1         1  ...        New York, NY    Dr\n",
              "206       1         0  ...     Fond du Lac, WI    Dr\n",
              "278       1         1  ...  Basel, Switzerland    Dr\n",
              "508       2         0  ...       Frankfort, KY    Dr\n",
              "525       2         0  ...        Hamilton, ON    Dr\n",
              "\n",
              "[8 rows x 15 columns]"
            ]
          },
          "metadata": {
            "tags": []
          },
          "execution_count": 28
        }
      ]
    },
    {
      "cell_type": "code",
      "metadata": {
        "id": "WFz1qN37KjTq",
        "colab": {
          "base_uri": "https://localhost:8080/"
        },
        "outputId": "5de8b9ed-0138-4b64-bdad-525345e21939"
      },
      "source": [
        "# rata-rata usia Dr\n",
        "df2[df2['Title'] == \"Dr\"]['age'].mean()"
      ],
      "execution_count": 29,
      "outputs": [
        {
          "output_type": "execute_result",
          "data": {
            "text/plain": [
              "43.57142857142857"
            ]
          },
          "metadata": {
            "tags": []
          },
          "execution_count": 29
        }
      ]
    },
    {
      "cell_type": "code",
      "metadata": {
        "id": "vOwJgYoFKq_k",
        "colab": {
          "base_uri": "https://localhost:8080/",
          "height": 386
        },
        "outputId": "dd691a62-c738-4dbd-ccbb-6249bcad401a"
      },
      "source": [
        "sns.displot(df2[df2['Title'] == \"Dr\"]['age'],kde=True)"
      ],
      "execution_count": 30,
      "outputs": [
        {
          "output_type": "execute_result",
          "data": {
            "text/plain": [
              "<seaborn.axisgrid.FacetGrid at 0x7f7c321ee610>"
            ]
          },
          "metadata": {
            "tags": []
          },
          "execution_count": 30
        },
        {
          "output_type": "display_data",
          "data": {
            "image/png": "[encoded data removed]",
            "text/plain": [
              "<Figure size 360x360 with 1 Axes>"
            ]
          },
          "metadata": {
            "tags": [],
            "needs_background": "light"
          }
        }
      ]
    },
    {
      "cell_type": "code",
      "metadata": {
        "id": "icdkVAJ6HKCW",
        "colab": {
          "base_uri": "https://localhost:8080/",
          "height": 386
        },
        "outputId": "bb8fcac3-f551-4ad4-c1fa-3a6ba2751230"
      },
      "source": [
        "sns.displot(df2[df2['Title'] == \"Dr\"]['age'], kind='kde')"
      ],
      "execution_count": 31,
      "outputs": [
        {
          "output_type": "execute_result",
          "data": {
            "text/plain": [
              "<seaborn.axisgrid.FacetGrid at 0x7f7c320daa10>"
            ]
          },
          "metadata": {
            "tags": []
          },
          "execution_count": 31
        },
        {
          "output_type": "display_data",
          "data": {
            "image/png": "[encoded data removed]",
            "text/plain": [
              "<Figure size 360x360 with 1 Axes>"
            ]
          },
          "metadata": {
            "tags": [],
            "needs_background": "light"
          }
        }
      ]
    },
    {
      "cell_type": "code",
      "metadata": {
        "id": "_4-ZUVOGPA9p",
        "colab": {
          "base_uri": "https://localhost:8080/"
        },
        "outputId": "679b0fcc-a960-4b79-a3df-6fd6db9c98b9"
      },
      "source": [
        "# Median\n",
        "df2[df2['Title'] == \"Dr\"]['age'].median()"
      ],
      "execution_count": 32,
      "outputs": [
        {
          "output_type": "execute_result",
          "data": {
            "text/plain": [
              "49.0"
            ]
          },
          "metadata": {
            "tags": []
          },
          "execution_count": 32
        }
      ]
    },
    {
      "cell_type": "markdown",
      "metadata": {
        "id": "MKrOqgI4PKkR"
      },
      "source": [
        "## Missing values: usia anak-anak"
      ]
    },
    {
      "cell_type": "code",
      "metadata": {
        "id": "8IGqoGPlPFkC",
        "colab": {
          "base_uri": "https://localhost:8080/",
          "height": 419
        },
        "outputId": "0e9f64d8-9b5f-4454-a9af-62b0509a5011"
      },
      "source": [
        "# Seberapa banyak title master?\n",
        "df2[df2['Title'] == \"Master\"]"
      ],
      "execution_count": 33,
      "outputs": [
        {
          "output_type": "execute_result",
          "data": {
            "text/html": [
              "<div>\n",
              "<style scoped>\n",
              "    .dataframe tbody tr th:only-of-type {\n",
              "        vertical-align: middle;\n",
              "    }\n",
              "\n",
              "    .dataframe tbody tr th {\n",
              "        vertical-align: top;\n",
              "    }\n",
              "\n",
              "    .dataframe thead th {\n",
              "        text-align: right;\n",
              "    }\n",
              "</style>\n",
              "<table border=\"1\" class=\"dataframe\">\n",
              "  <thead>\n",
              "    <tr style=\"text-align: right;\">\n",
              "      <th></th>\n",
              "      <th>pclass</th>\n",
              "      <th>survived</th>\n",
              "      <th>name</th>\n",
              "      <th>sex</th>\n",
              "      <th>age</th>\n",
              "      <th>sibsp</th>\n",
              "      <th>parch</th>\n",
              "      <th>ticket</th>\n",
              "      <th>fare</th>\n",
              "      <th>cabin</th>\n",
              "      <th>embarked</th>\n",
              "      <th>boat</th>\n",
              "      <th>body</th>\n",
              "      <th>home.dest</th>\n",
              "      <th>Title</th>\n",
              "    </tr>\n",
              "  </thead>\n",
              "  <tbody>\n",
              "    <tr>\n",
              "      <th>1</th>\n",
              "      <td>1</td>\n",
              "      <td>1</td>\n",
              "      <td>Allison, Master. Hudson Trevor</td>\n",
              "      <td>male</td>\n",
              "      <td>0.92</td>\n",
              "      <td>1</td>\n",
              "      <td>2</td>\n",
              "      <td>113781</td>\n",
              "      <td>151.5500</td>\n",
              "      <td>C22 C26</td>\n",
              "      <td>S</td>\n",
              "      <td>11</td>\n",
              "      <td>NaN</td>\n",
              "      <td>Montreal, PQ / Chesterville, ON</td>\n",
              "      <td>Master</td>\n",
              "    </tr>\n",
              "    <tr>\n",
              "      <th>54</th>\n",
              "      <td>1</td>\n",
              "      <td>1</td>\n",
              "      <td>Carter, Master. William Thornton II</td>\n",
              "      <td>male</td>\n",
              "      <td>11.00</td>\n",
              "      <td>1</td>\n",
              "      <td>2</td>\n",
              "      <td>113760</td>\n",
              "      <td>120.0000</td>\n",
              "      <td>B96 B98</td>\n",
              "      <td>S</td>\n",
              "      <td>4</td>\n",
              "      <td>NaN</td>\n",
              "      <td>Bryn Mawr, PA</td>\n",
              "      <td>Master</td>\n",
              "    </tr>\n",
              "    <tr>\n",
              "      <th>94</th>\n",
              "      <td>1</td>\n",
              "      <td>1</td>\n",
              "      <td>Dodge, Master. Washington</td>\n",
              "      <td>male</td>\n",
              "      <td>4.00</td>\n",
              "      <td>0</td>\n",
              "      <td>2</td>\n",
              "      <td>33638</td>\n",
              "      <td>81.8583</td>\n",
              "      <td>A34</td>\n",
              "      <td>S</td>\n",
              "      <td>5</td>\n",
              "      <td>NaN</td>\n",
              "      <td>San Francisco, CA</td>\n",
              "      <td>Master</td>\n",
              "    </tr>\n",
              "    <tr>\n",
              "      <th>249</th>\n",
              "      <td>1</td>\n",
              "      <td>1</td>\n",
              "      <td>Ryerson, Master. John Borie</td>\n",
              "      <td>male</td>\n",
              "      <td>13.00</td>\n",
              "      <td>2</td>\n",
              "      <td>2</td>\n",
              "      <td>PC 17608</td>\n",
              "      <td>262.3750</td>\n",
              "      <td>B57 B59 B63 B66</td>\n",
              "      <td>C</td>\n",
              "      <td>4</td>\n",
              "      <td>NaN</td>\n",
              "      <td>Haverford, PA / Cooperstown, NY</td>\n",
              "      <td>Master</td>\n",
              "    </tr>\n",
              "    <tr>\n",
              "      <th>273</th>\n",
              "      <td>1</td>\n",
              "      <td>1</td>\n",
              "      <td>Spedden, Master. Robert Douglas</td>\n",
              "      <td>male</td>\n",
              "      <td>6.00</td>\n",
              "      <td>0</td>\n",
              "      <td>2</td>\n",
              "      <td>16966</td>\n",
              "      <td>134.5000</td>\n",
              "      <td>E34</td>\n",
              "      <td>C</td>\n",
              "      <td>3</td>\n",
              "      <td>NaN</td>\n",
              "      <td>Tuxedo Park, NY</td>\n",
              "      <td>Master</td>\n",
              "    </tr>\n",
              "    <tr>\n",
              "      <th>...</th>\n",
              "      <td>...</td>\n",
              "      <td>...</td>\n",
              "      <td>...</td>\n",
              "      <td>...</td>\n",
              "      <td>...</td>\n",
              "      <td>...</td>\n",
              "      <td>...</td>\n",
              "      <td>...</td>\n",
              "      <td>...</td>\n",
              "      <td>...</td>\n",
              "      <td>...</td>\n",
              "      <td>...</td>\n",
              "      <td>...</td>\n",
              "      <td>...</td>\n",
              "      <td>...</td>\n",
              "    </tr>\n",
              "    <tr>\n",
              "      <th>1207</th>\n",
              "      <td>3</td>\n",
              "      <td>0</td>\n",
              "      <td>Skoog, Master. Karl Thorsten</td>\n",
              "      <td>male</td>\n",
              "      <td>10.00</td>\n",
              "      <td>3</td>\n",
              "      <td>2</td>\n",
              "      <td>347088</td>\n",
              "      <td>27.9000</td>\n",
              "      <td>NaN</td>\n",
              "      <td>S</td>\n",
              "      <td>NaN</td>\n",
              "      <td>NaN</td>\n",
              "      <td>NaN</td>\n",
              "      <td>Master</td>\n",
              "    </tr>\n",
              "    <tr>\n",
              "      <th>1240</th>\n",
              "      <td>3</td>\n",
              "      <td>1</td>\n",
              "      <td>Thomas, Master. Assad Alexander</td>\n",
              "      <td>male</td>\n",
              "      <td>0.42</td>\n",
              "      <td>0</td>\n",
              "      <td>1</td>\n",
              "      <td>2625</td>\n",
              "      <td>8.5167</td>\n",
              "      <td>NaN</td>\n",
              "      <td>C</td>\n",
              "      <td>16</td>\n",
              "      <td>NaN</td>\n",
              "      <td>NaN</td>\n",
              "      <td>Master</td>\n",
              "    </tr>\n",
              "    <tr>\n",
              "      <th>1256</th>\n",
              "      <td>3</td>\n",
              "      <td>1</td>\n",
              "      <td>Touma, Master. Georges Youssef</td>\n",
              "      <td>male</td>\n",
              "      <td>7.00</td>\n",
              "      <td>1</td>\n",
              "      <td>1</td>\n",
              "      <td>2650</td>\n",
              "      <td>15.2458</td>\n",
              "      <td>NaN</td>\n",
              "      <td>C</td>\n",
              "      <td>C</td>\n",
              "      <td>NaN</td>\n",
              "      <td>NaN</td>\n",
              "      <td>Master</td>\n",
              "    </tr>\n",
              "    <tr>\n",
              "      <th>1262</th>\n",
              "      <td>3</td>\n",
              "      <td>0</td>\n",
              "      <td>van Billiard, Master. James William</td>\n",
              "      <td>male</td>\n",
              "      <td>NaN</td>\n",
              "      <td>1</td>\n",
              "      <td>1</td>\n",
              "      <td>A/5. 851</td>\n",
              "      <td>14.5000</td>\n",
              "      <td>NaN</td>\n",
              "      <td>S</td>\n",
              "      <td>NaN</td>\n",
              "      <td>NaN</td>\n",
              "      <td>NaN</td>\n",
              "      <td>Master</td>\n",
              "    </tr>\n",
              "    <tr>\n",
              "      <th>1263</th>\n",
              "      <td>3</td>\n",
              "      <td>0</td>\n",
              "      <td>van Billiard, Master. Walter John</td>\n",
              "      <td>male</td>\n",
              "      <td>11.50</td>\n",
              "      <td>1</td>\n",
              "      <td>1</td>\n",
              "      <td>A/5. 851</td>\n",
              "      <td>14.5000</td>\n",
              "      <td>NaN</td>\n",
              "      <td>S</td>\n",
              "      <td>NaN</td>\n",
              "      <td>1.0</td>\n",
              "      <td>NaN</td>\n",
              "      <td>Master</td>\n",
              "    </tr>\n",
              "  </tbody>\n",
              "</table>\n",
              "<p>61 rows × 15 columns</p>\n",
              "</div>"
            ],
            "text/plain": [
              "      pclass  survived  ...                        home.dest   Title\n",
              "1          1         1  ...  Montreal, PQ / Chesterville, ON  Master\n",
              "54         1         1  ...                    Bryn Mawr, PA  Master\n",
              "94         1         1  ...                San Francisco, CA  Master\n",
              "249        1         1  ...  Haverford, PA / Cooperstown, NY  Master\n",
              "273        1         1  ...                  Tuxedo Park, NY  Master\n",
              "...      ...       ...  ...                              ...     ...\n",
              "1207       3         0  ...                              NaN  Master\n",
              "1240       3         1  ...                              NaN  Master\n",
              "1256       3         1  ...                              NaN  Master\n",
              "1262       3         0  ...                              NaN  Master\n",
              "1263       3         0  ...                              NaN  Master\n",
              "\n",
              "[61 rows x 15 columns]"
            ]
          },
          "metadata": {
            "tags": []
          },
          "execution_count": 33
        }
      ]
    },
    {
      "cell_type": "code",
      "metadata": {
        "id": "QZ74VHz9PeZ2",
        "colab": {
          "base_uri": "https://localhost:8080/",
          "height": 297
        },
        "outputId": "4afbb453-0b89-4df1-a4f3-9f36716b0f10"
      },
      "source": [
        "# Terdapat 61 data, gunakan describe()\n",
        "df2[df2['Title'] == \"Master\"].describe()"
      ],
      "execution_count": 34,
      "outputs": [
        {
          "output_type": "execute_result",
          "data": {
            "text/html": [
              "<div>\n",
              "<style scoped>\n",
              "    .dataframe tbody tr th:only-of-type {\n",
              "        vertical-align: middle;\n",
              "    }\n",
              "\n",
              "    .dataframe tbody tr th {\n",
              "        vertical-align: top;\n",
              "    }\n",
              "\n",
              "    .dataframe thead th {\n",
              "        text-align: right;\n",
              "    }\n",
              "</style>\n",
              "<table border=\"1\" class=\"dataframe\">\n",
              "  <thead>\n",
              "    <tr style=\"text-align: right;\">\n",
              "      <th></th>\n",
              "      <th>pclass</th>\n",
              "      <th>survived</th>\n",
              "      <th>age</th>\n",
              "      <th>sibsp</th>\n",
              "      <th>parch</th>\n",
              "      <th>fare</th>\n",
              "      <th>body</th>\n",
              "    </tr>\n",
              "  </thead>\n",
              "  <tbody>\n",
              "    <tr>\n",
              "      <th>count</th>\n",
              "      <td>61.000000</td>\n",
              "      <td>61.000000</td>\n",
              "      <td>53.000000</td>\n",
              "      <td>61.000000</td>\n",
              "      <td>61.000000</td>\n",
              "      <td>61.000000</td>\n",
              "      <td>3.00000</td>\n",
              "    </tr>\n",
              "    <tr>\n",
              "      <th>mean</th>\n",
              "      <td>2.655738</td>\n",
              "      <td>0.508197</td>\n",
              "      <td>5.482642</td>\n",
              "      <td>2.049180</td>\n",
              "      <td>1.377049</td>\n",
              "      <td>36.008195</td>\n",
              "      <td>24.00000</td>\n",
              "    </tr>\n",
              "    <tr>\n",
              "      <th>std</th>\n",
              "      <td>0.629424</td>\n",
              "      <td>0.504082</td>\n",
              "      <td>4.161554</td>\n",
              "      <td>1.961515</td>\n",
              "      <td>0.552688</td>\n",
              "      <td>40.677102</td>\n",
              "      <td>37.26929</td>\n",
              "    </tr>\n",
              "    <tr>\n",
              "      <th>min</th>\n",
              "      <td>1.000000</td>\n",
              "      <td>0.000000</td>\n",
              "      <td>0.330000</td>\n",
              "      <td>0.000000</td>\n",
              "      <td>0.000000</td>\n",
              "      <td>3.170800</td>\n",
              "      <td>1.00000</td>\n",
              "    </tr>\n",
              "    <tr>\n",
              "      <th>25%</th>\n",
              "      <td>2.000000</td>\n",
              "      <td>0.000000</td>\n",
              "      <td>2.000000</td>\n",
              "      <td>1.000000</td>\n",
              "      <td>1.000000</td>\n",
              "      <td>15.245800</td>\n",
              "      <td>2.50000</td>\n",
              "    </tr>\n",
              "    <tr>\n",
              "      <th>50%</th>\n",
              "      <td>3.000000</td>\n",
              "      <td>1.000000</td>\n",
              "      <td>4.000000</td>\n",
              "      <td>1.000000</td>\n",
              "      <td>1.000000</td>\n",
              "      <td>26.000000</td>\n",
              "      <td>4.00000</td>\n",
              "    </tr>\n",
              "    <tr>\n",
              "      <th>75%</th>\n",
              "      <td>3.000000</td>\n",
              "      <td>1.000000</td>\n",
              "      <td>9.000000</td>\n",
              "      <td>4.000000</td>\n",
              "      <td>2.000000</td>\n",
              "      <td>36.750000</td>\n",
              "      <td>35.50000</td>\n",
              "    </tr>\n",
              "    <tr>\n",
              "      <th>max</th>\n",
              "      <td>3.000000</td>\n",
              "      <td>1.000000</td>\n",
              "      <td>14.500000</td>\n",
              "      <td>8.000000</td>\n",
              "      <td>2.000000</td>\n",
              "      <td>262.375000</td>\n",
              "      <td>67.00000</td>\n",
              "    </tr>\n",
              "  </tbody>\n",
              "</table>\n",
              "</div>"
            ],
            "text/plain": [
              "          pclass   survived        age  ...      parch        fare      body\n",
              "count  61.000000  61.000000  53.000000  ...  61.000000   61.000000   3.00000\n",
              "mean    2.655738   0.508197   5.482642  ...   1.377049   36.008195  24.00000\n",
              "std     0.629424   0.504082   4.161554  ...   0.552688   40.677102  37.26929\n",
              "min     1.000000   0.000000   0.330000  ...   0.000000    3.170800   1.00000\n",
              "25%     2.000000   0.000000   2.000000  ...   1.000000   15.245800   2.50000\n",
              "50%     3.000000   1.000000   4.000000  ...   1.000000   26.000000   4.00000\n",
              "75%     3.000000   1.000000   9.000000  ...   2.000000   36.750000  35.50000\n",
              "max     3.000000   1.000000  14.500000  ...   2.000000  262.375000  67.00000\n",
              "\n",
              "[8 rows x 7 columns]"
            ]
          },
          "metadata": {
            "tags": []
          },
          "execution_count": 34
        }
      ]
    },
    {
      "cell_type": "code",
      "metadata": {
        "id": "JQzEKuJnPq1-",
        "colab": {
          "base_uri": "https://localhost:8080/",
          "height": 386
        },
        "outputId": "bf4e1547-e1c4-4f45-c393-45f050287035"
      },
      "source": [
        "sns.displot(df2[df2['Title'] == \"Master\"]['age'], kind='kde')"
      ],
      "execution_count": 35,
      "outputs": [
        {
          "output_type": "execute_result",
          "data": {
            "text/plain": [
              "<seaborn.axisgrid.FacetGrid at 0x7f7c292bc790>"
            ]
          },
          "metadata": {
            "tags": []
          },
          "execution_count": 35
        },
        {
          "output_type": "display_data",
          "data": {
            "image/png": "[encoded data removed]",
            "text/plain": [
              "<Figure size 360x360 with 1 Axes>"
            ]
          },
          "metadata": {
            "tags": [],
            "needs_background": "light"
          }
        }
      ]
    },
    {
      "cell_type": "code",
      "metadata": {
        "id": "swlKAfgAP_3G",
        "colab": {
          "base_uri": "https://localhost:8080/"
        },
        "outputId": "7cc4de8e-f199-4b1b-ef92-caee8380416c"
      },
      "source": [
        "# rata-rata usia anak anak\n",
        "df2[df2['Title'] == \"Master\"]['age'].mean()"
      ],
      "execution_count": 36,
      "outputs": [
        {
          "output_type": "execute_result",
          "data": {
            "text/plain": [
              "5.482641509433962"
            ]
          },
          "metadata": {
            "tags": []
          },
          "execution_count": 36
        }
      ]
    },
    {
      "cell_type": "code",
      "metadata": {
        "id": "eSuqqRhJQKIX",
        "colab": {
          "base_uri": "https://localhost:8080/"
        },
        "outputId": "24868925-800c-4580-ea35-6a9ea4df6e15"
      },
      "source": [
        "# median usia anak anak\n",
        "df2[df2['Title'] == \"Master\"]['age'].median()"
      ],
      "execution_count": 37,
      "outputs": [
        {
          "output_type": "execute_result",
          "data": {
            "text/plain": [
              "4.0"
            ]
          },
          "metadata": {
            "tags": []
          },
          "execution_count": 37
        }
      ]
    },
    {
      "cell_type": "markdown",
      "metadata": {
        "id": "3_AVSxUqQUeC"
      },
      "source": [
        "### Bahan diskusi\n",
        "\n",
        "* Seberapa banyak anak anak tidak memiliki data usia?\n",
        "* Apakah terdapat faktor lain yang dapat digunakan untuk imputasi data usia?\n",
        "\n"
      ]
    },
    {
      "cell_type": "markdown",
      "metadata": {
        "id": "WgCW9gDSSc4O"
      },
      "source": [
        "### Data Transformasi dan Proses Imputasi\n",
        "\n"
      ]
    },
    {
      "cell_type": "code",
      "metadata": {
        "id": "7U-5W6tnt2vm"
      },
      "source": [
        "# Sebelum memulai proses imputasi, perlu disimpan data indicator bahwa data awal usia ada yang miss\n",
        "df2['missing_indicator'] = df2['age'].isnull()"
      ],
      "execution_count": 38,
      "outputs": []
    },
    {
      "cell_type": "code",
      "metadata": {
        "id": "7-f5pbOWunBR",
        "colab": {
          "base_uri": "https://localhost:8080/",
          "height": 856
        },
        "outputId": "20206c58-dd00-4573-8aff-7967bf7ee172"
      },
      "source": [
        "df2.head(20)"
      ],
      "execution_count": 39,
      "outputs": [
        {
          "output_type": "execute_result",
          "data": {
            "text/html": [
              "<div>\n",
              "<style scoped>\n",
              "    .dataframe tbody tr th:only-of-type {\n",
              "        vertical-align: middle;\n",
              "    }\n",
              "\n",
              "    .dataframe tbody tr th {\n",
              "        vertical-align: top;\n",
              "    }\n",
              "\n",
              "    .dataframe thead th {\n",
              "        text-align: right;\n",
              "    }\n",
              "</style>\n",
              "<table border=\"1\" class=\"dataframe\">\n",
              "  <thead>\n",
              "    <tr style=\"text-align: right;\">\n",
              "      <th></th>\n",
              "      <th>pclass</th>\n",
              "      <th>survived</th>\n",
              "      <th>name</th>\n",
              "      <th>sex</th>\n",
              "      <th>age</th>\n",
              "      <th>sibsp</th>\n",
              "      <th>parch</th>\n",
              "      <th>ticket</th>\n",
              "      <th>fare</th>\n",
              "      <th>cabin</th>\n",
              "      <th>embarked</th>\n",
              "      <th>boat</th>\n",
              "      <th>body</th>\n",
              "      <th>home.dest</th>\n",
              "      <th>Title</th>\n",
              "      <th>missing_indicator</th>\n",
              "    </tr>\n",
              "  </thead>\n",
              "  <tbody>\n",
              "    <tr>\n",
              "      <th>0</th>\n",
              "      <td>1</td>\n",
              "      <td>1</td>\n",
              "      <td>Allen, Miss. Elisabeth Walton</td>\n",
              "      <td>female</td>\n",
              "      <td>29.00</td>\n",
              "      <td>0</td>\n",
              "      <td>0</td>\n",
              "      <td>24160</td>\n",
              "      <td>211.3375</td>\n",
              "      <td>B5</td>\n",
              "      <td>S</td>\n",
              "      <td>2</td>\n",
              "      <td>NaN</td>\n",
              "      <td>St Louis, MO</td>\n",
              "      <td>Miss</td>\n",
              "      <td>False</td>\n",
              "    </tr>\n",
              "    <tr>\n",
              "      <th>1</th>\n",
              "      <td>1</td>\n",
              "      <td>1</td>\n",
              "      <td>Allison, Master. Hudson Trevor</td>\n",
              "      <td>male</td>\n",
              "      <td>0.92</td>\n",
              "      <td>1</td>\n",
              "      <td>2</td>\n",
              "      <td>113781</td>\n",
              "      <td>151.5500</td>\n",
              "      <td>C22 C26</td>\n",
              "      <td>S</td>\n",
              "      <td>11</td>\n",
              "      <td>NaN</td>\n",
              "      <td>Montreal, PQ / Chesterville, ON</td>\n",
              "      <td>Master</td>\n",
              "      <td>False</td>\n",
              "    </tr>\n",
              "    <tr>\n",
              "      <th>2</th>\n",
              "      <td>1</td>\n",
              "      <td>0</td>\n",
              "      <td>Allison, Miss. Helen Loraine</td>\n",
              "      <td>female</td>\n",
              "      <td>2.00</td>\n",
              "      <td>1</td>\n",
              "      <td>2</td>\n",
              "      <td>113781</td>\n",
              "      <td>151.5500</td>\n",
              "      <td>C22 C26</td>\n",
              "      <td>S</td>\n",
              "      <td>NaN</td>\n",
              "      <td>NaN</td>\n",
              "      <td>Montreal, PQ / Chesterville, ON</td>\n",
              "      <td>Miss</td>\n",
              "      <td>False</td>\n",
              "    </tr>\n",
              "    <tr>\n",
              "      <th>3</th>\n",
              "      <td>1</td>\n",
              "      <td>0</td>\n",
              "      <td>Allison, Mr. Hudson Joshua Creighton</td>\n",
              "      <td>male</td>\n",
              "      <td>30.00</td>\n",
              "      <td>1</td>\n",
              "      <td>2</td>\n",
              "      <td>113781</td>\n",
              "      <td>151.5500</td>\n",
              "      <td>C22 C26</td>\n",
              "      <td>S</td>\n",
              "      <td>NaN</td>\n",
              "      <td>135.0</td>\n",
              "      <td>Montreal, PQ / Chesterville, ON</td>\n",
              "      <td>Mr</td>\n",
              "      <td>False</td>\n",
              "    </tr>\n",
              "    <tr>\n",
              "      <th>4</th>\n",
              "      <td>1</td>\n",
              "      <td>0</td>\n",
              "      <td>Allison, Mrs. Hudson J C (Bessie Waldo Daniels)</td>\n",
              "      <td>female</td>\n",
              "      <td>25.00</td>\n",
              "      <td>1</td>\n",
              "      <td>2</td>\n",
              "      <td>113781</td>\n",
              "      <td>151.5500</td>\n",
              "      <td>C22 C26</td>\n",
              "      <td>S</td>\n",
              "      <td>NaN</td>\n",
              "      <td>NaN</td>\n",
              "      <td>Montreal, PQ / Chesterville, ON</td>\n",
              "      <td>Mrs</td>\n",
              "      <td>False</td>\n",
              "    </tr>\n",
              "    <tr>\n",
              "      <th>5</th>\n",
              "      <td>1</td>\n",
              "      <td>1</td>\n",
              "      <td>Anderson, Mr. Harry</td>\n",
              "      <td>male</td>\n",
              "      <td>48.00</td>\n",
              "      <td>0</td>\n",
              "      <td>0</td>\n",
              "      <td>19952</td>\n",
              "      <td>26.5500</td>\n",
              "      <td>E12</td>\n",
              "      <td>S</td>\n",
              "      <td>3</td>\n",
              "      <td>NaN</td>\n",
              "      <td>New York, NY</td>\n",
              "      <td>Mr</td>\n",
              "      <td>False</td>\n",
              "    </tr>\n",
              "    <tr>\n",
              "      <th>6</th>\n",
              "      <td>1</td>\n",
              "      <td>1</td>\n",
              "      <td>Andrews, Miss. Kornelia Theodosia</td>\n",
              "      <td>female</td>\n",
              "      <td>63.00</td>\n",
              "      <td>1</td>\n",
              "      <td>0</td>\n",
              "      <td>13502</td>\n",
              "      <td>77.9583</td>\n",
              "      <td>D7</td>\n",
              "      <td>S</td>\n",
              "      <td>10</td>\n",
              "      <td>NaN</td>\n",
              "      <td>Hudson, NY</td>\n",
              "      <td>Miss</td>\n",
              "      <td>False</td>\n",
              "    </tr>\n",
              "    <tr>\n",
              "      <th>7</th>\n",
              "      <td>1</td>\n",
              "      <td>0</td>\n",
              "      <td>Andrews, Mr. Thomas Jr</td>\n",
              "      <td>male</td>\n",
              "      <td>39.00</td>\n",
              "      <td>0</td>\n",
              "      <td>0</td>\n",
              "      <td>112050</td>\n",
              "      <td>0.0000</td>\n",
              "      <td>A36</td>\n",
              "      <td>S</td>\n",
              "      <td>NaN</td>\n",
              "      <td>NaN</td>\n",
              "      <td>Belfast, NI</td>\n",
              "      <td>Mr</td>\n",
              "      <td>False</td>\n",
              "    </tr>\n",
              "    <tr>\n",
              "      <th>8</th>\n",
              "      <td>1</td>\n",
              "      <td>1</td>\n",
              "      <td>Appleton, Mrs. Edward Dale (Charlotte Lamson)</td>\n",
              "      <td>female</td>\n",
              "      <td>53.00</td>\n",
              "      <td>2</td>\n",
              "      <td>0</td>\n",
              "      <td>11769</td>\n",
              "      <td>51.4792</td>\n",
              "      <td>C101</td>\n",
              "      <td>S</td>\n",
              "      <td>D</td>\n",
              "      <td>NaN</td>\n",
              "      <td>Bayside, Queens, NY</td>\n",
              "      <td>Mrs</td>\n",
              "      <td>False</td>\n",
              "    </tr>\n",
              "    <tr>\n",
              "      <th>9</th>\n",
              "      <td>1</td>\n",
              "      <td>0</td>\n",
              "      <td>Artagaveytia, Mr. Ramon</td>\n",
              "      <td>male</td>\n",
              "      <td>71.00</td>\n",
              "      <td>0</td>\n",
              "      <td>0</td>\n",
              "      <td>PC 17609</td>\n",
              "      <td>49.5042</td>\n",
              "      <td>NaN</td>\n",
              "      <td>C</td>\n",
              "      <td>NaN</td>\n",
              "      <td>22.0</td>\n",
              "      <td>Montevideo, Uruguay</td>\n",
              "      <td>Mr</td>\n",
              "      <td>False</td>\n",
              "    </tr>\n",
              "    <tr>\n",
              "      <th>10</th>\n",
              "      <td>1</td>\n",
              "      <td>0</td>\n",
              "      <td>Astor, Col. John Jacob</td>\n",
              "      <td>male</td>\n",
              "      <td>47.00</td>\n",
              "      <td>1</td>\n",
              "      <td>0</td>\n",
              "      <td>PC 17757</td>\n",
              "      <td>227.5250</td>\n",
              "      <td>C62 C64</td>\n",
              "      <td>C</td>\n",
              "      <td>NaN</td>\n",
              "      <td>124.0</td>\n",
              "      <td>New York, NY</td>\n",
              "      <td>Col</td>\n",
              "      <td>False</td>\n",
              "    </tr>\n",
              "    <tr>\n",
              "      <th>11</th>\n",
              "      <td>1</td>\n",
              "      <td>1</td>\n",
              "      <td>Astor, Mrs. John Jacob (Madeleine Talmadge Force)</td>\n",
              "      <td>female</td>\n",
              "      <td>18.00</td>\n",
              "      <td>1</td>\n",
              "      <td>0</td>\n",
              "      <td>PC 17757</td>\n",
              "      <td>227.5250</td>\n",
              "      <td>C62 C64</td>\n",
              "      <td>C</td>\n",
              "      <td>4</td>\n",
              "      <td>NaN</td>\n",
              "      <td>New York, NY</td>\n",
              "      <td>Mrs</td>\n",
              "      <td>False</td>\n",
              "    </tr>\n",
              "    <tr>\n",
              "      <th>12</th>\n",
              "      <td>1</td>\n",
              "      <td>1</td>\n",
              "      <td>Aubart, Mme. Leontine Pauline</td>\n",
              "      <td>female</td>\n",
              "      <td>24.00</td>\n",
              "      <td>0</td>\n",
              "      <td>0</td>\n",
              "      <td>PC 17477</td>\n",
              "      <td>69.3000</td>\n",
              "      <td>B35</td>\n",
              "      <td>C</td>\n",
              "      <td>9</td>\n",
              "      <td>NaN</td>\n",
              "      <td>Paris, France</td>\n",
              "      <td>Mme</td>\n",
              "      <td>False</td>\n",
              "    </tr>\n",
              "    <tr>\n",
              "      <th>13</th>\n",
              "      <td>1</td>\n",
              "      <td>1</td>\n",
              "      <td>Barber, Miss. Ellen \"Nellie\"</td>\n",
              "      <td>female</td>\n",
              "      <td>26.00</td>\n",
              "      <td>0</td>\n",
              "      <td>0</td>\n",
              "      <td>19877</td>\n",
              "      <td>78.8500</td>\n",
              "      <td>NaN</td>\n",
              "      <td>S</td>\n",
              "      <td>6</td>\n",
              "      <td>NaN</td>\n",
              "      <td>NaN</td>\n",
              "      <td>Miss</td>\n",
              "      <td>False</td>\n",
              "    </tr>\n",
              "    <tr>\n",
              "      <th>14</th>\n",
              "      <td>1</td>\n",
              "      <td>1</td>\n",
              "      <td>Barkworth, Mr. Algernon Henry Wilson</td>\n",
              "      <td>male</td>\n",
              "      <td>80.00</td>\n",
              "      <td>0</td>\n",
              "      <td>0</td>\n",
              "      <td>27042</td>\n",
              "      <td>30.0000</td>\n",
              "      <td>A23</td>\n",
              "      <td>S</td>\n",
              "      <td>B</td>\n",
              "      <td>NaN</td>\n",
              "      <td>Hessle, Yorks</td>\n",
              "      <td>Mr</td>\n",
              "      <td>False</td>\n",
              "    </tr>\n",
              "    <tr>\n",
              "      <th>15</th>\n",
              "      <td>1</td>\n",
              "      <td>0</td>\n",
              "      <td>Baumann, Mr. John D</td>\n",
              "      <td>male</td>\n",
              "      <td>NaN</td>\n",
              "      <td>0</td>\n",
              "      <td>0</td>\n",
              "      <td>PC 17318</td>\n",
              "      <td>25.9250</td>\n",
              "      <td>NaN</td>\n",
              "      <td>S</td>\n",
              "      <td>NaN</td>\n",
              "      <td>NaN</td>\n",
              "      <td>New York, NY</td>\n",
              "      <td>Mr</td>\n",
              "      <td>True</td>\n",
              "    </tr>\n",
              "    <tr>\n",
              "      <th>16</th>\n",
              "      <td>1</td>\n",
              "      <td>0</td>\n",
              "      <td>Baxter, Mr. Quigg Edmond</td>\n",
              "      <td>male</td>\n",
              "      <td>24.00</td>\n",
              "      <td>0</td>\n",
              "      <td>1</td>\n",
              "      <td>PC 17558</td>\n",
              "      <td>247.5208</td>\n",
              "      <td>B58 B60</td>\n",
              "      <td>C</td>\n",
              "      <td>NaN</td>\n",
              "      <td>NaN</td>\n",
              "      <td>Montreal, PQ</td>\n",
              "      <td>Mr</td>\n",
              "      <td>False</td>\n",
              "    </tr>\n",
              "    <tr>\n",
              "      <th>17</th>\n",
              "      <td>1</td>\n",
              "      <td>1</td>\n",
              "      <td>Baxter, Mrs. James (Helene DeLaudeniere Chaput)</td>\n",
              "      <td>female</td>\n",
              "      <td>50.00</td>\n",
              "      <td>0</td>\n",
              "      <td>1</td>\n",
              "      <td>PC 17558</td>\n",
              "      <td>247.5208</td>\n",
              "      <td>B58 B60</td>\n",
              "      <td>C</td>\n",
              "      <td>6</td>\n",
              "      <td>NaN</td>\n",
              "      <td>Montreal, PQ</td>\n",
              "      <td>Mrs</td>\n",
              "      <td>False</td>\n",
              "    </tr>\n",
              "    <tr>\n",
              "      <th>18</th>\n",
              "      <td>1</td>\n",
              "      <td>1</td>\n",
              "      <td>Bazzani, Miss. Albina</td>\n",
              "      <td>female</td>\n",
              "      <td>32.00</td>\n",
              "      <td>0</td>\n",
              "      <td>0</td>\n",
              "      <td>11813</td>\n",
              "      <td>76.2917</td>\n",
              "      <td>D15</td>\n",
              "      <td>C</td>\n",
              "      <td>8</td>\n",
              "      <td>NaN</td>\n",
              "      <td>NaN</td>\n",
              "      <td>Miss</td>\n",
              "      <td>False</td>\n",
              "    </tr>\n",
              "    <tr>\n",
              "      <th>19</th>\n",
              "      <td>1</td>\n",
              "      <td>0</td>\n",
              "      <td>Beattie, Mr. Thomson</td>\n",
              "      <td>male</td>\n",
              "      <td>36.00</td>\n",
              "      <td>0</td>\n",
              "      <td>0</td>\n",
              "      <td>13050</td>\n",
              "      <td>75.2417</td>\n",
              "      <td>C6</td>\n",
              "      <td>C</td>\n",
              "      <td>A</td>\n",
              "      <td>NaN</td>\n",
              "      <td>Winnipeg, MN</td>\n",
              "      <td>Mr</td>\n",
              "      <td>False</td>\n",
              "    </tr>\n",
              "  </tbody>\n",
              "</table>\n",
              "</div>"
            ],
            "text/plain": [
              "    pclass  survived  ...   Title missing_indicator\n",
              "0        1         1  ...    Miss             False\n",
              "1        1         1  ...  Master             False\n",
              "2        1         0  ...    Miss             False\n",
              "3        1         0  ...      Mr             False\n",
              "4        1         0  ...     Mrs             False\n",
              "5        1         1  ...      Mr             False\n",
              "6        1         1  ...    Miss             False\n",
              "7        1         0  ...      Mr             False\n",
              "8        1         1  ...     Mrs             False\n",
              "9        1         0  ...      Mr             False\n",
              "10       1         0  ...     Col             False\n",
              "11       1         1  ...     Mrs             False\n",
              "12       1         1  ...     Mme             False\n",
              "13       1         1  ...    Miss             False\n",
              "14       1         1  ...      Mr             False\n",
              "15       1         0  ...      Mr              True\n",
              "16       1         0  ...      Mr             False\n",
              "17       1         1  ...     Mrs             False\n",
              "18       1         1  ...    Miss             False\n",
              "19       1         0  ...      Mr             False\n",
              "\n",
              "[20 rows x 16 columns]"
            ]
          },
          "metadata": {
            "tags": []
          },
          "execution_count": 39
        }
      ]
    },
    {
      "cell_type": "code",
      "metadata": {
        "id": "6p9veHwKQOJv",
        "colab": {
          "base_uri": "https://localhost:8080/"
        },
        "outputId": "80e97a09-5a40-4c3b-bdee-e231f55277f8"
      },
      "source": [
        "# Untuk transformasi, bisa dilakukan perubahan dari title yang jumlahnya minor menjadi bagian dari title berdasarkan gender laki-laki/ wanita yang umum\n",
        "# df2.loc[df2.Title == 'Rev'] --> menjadi Mr \n",
        "# df2.loc[df2.Title == 'Col'] --> menjadi Mr\n",
        "# df2.loc[df2.Title == 'Mlle'] --> menjadi Miss\n",
        "# df2.loc[df2.Title == 'Dona'] --> menjadi Mrs\n",
        "# df2.loc[df2.Title == 'Jonkheer'] --> menjadi Mr\n",
        "# df2.loc[df2.Title == 'Mme'] --> menjadi Miss\n",
        "# df2.loc[df2.Title == 'Don'] --> menjadi Mr\n",
        "# df2.loc[df2.Title == 'the Countess'] --> menjadi Mrs\n",
        "# df2.loc[df2.Title == 'Lady'] --> menjadi Mrs\n",
        "df2.Title = df2.Title.replace(['Sir','Capt','Don','Col','Jonkheer','Rev','Major'], 'Mr')\n",
        "\n",
        "df2.Title = df2.Title.replace(['Dona','the Countess','Lady'], 'Mrs')\n",
        "\n",
        "df2.Title = df2.Title.replace(['Ms','Mlle','Mme'], 'Miss')\n",
        "\n",
        "df2.Title.value_counts()"
      ],
      "execution_count": 40,
      "outputs": [
        {
          "output_type": "execute_result",
          "data": {
            "text/plain": [
              "Mr        775\n",
              "Miss      265\n",
              "Mrs       200\n",
              "Master     61\n",
              "Dr          8\n",
              "Name: Title, dtype: int64"
            ]
          },
          "metadata": {
            "tags": []
          },
          "execution_count": 40
        }
      ]
    },
    {
      "cell_type": "code",
      "metadata": {
        "id": "_0oTPa_0UVz6",
        "colab": {
          "base_uri": "https://localhost:8080/"
        },
        "outputId": "f05c4e57-827e-431b-a422-7eec1a521d8e"
      },
      "source": [
        "df2.age.describe()"
      ],
      "execution_count": 41,
      "outputs": [
        {
          "output_type": "execute_result",
          "data": {
            "text/plain": [
              "count    1046.000000\n",
              "mean       29.881138\n",
              "std        14.413493\n",
              "min         0.170000\n",
              "25%        21.000000\n",
              "50%        28.000000\n",
              "75%        39.000000\n",
              "max        80.000000\n",
              "Name: age, dtype: float64"
            ]
          },
          "metadata": {
            "tags": []
          },
          "execution_count": 41
        }
      ]
    },
    {
      "cell_type": "code",
      "metadata": {
        "id": "EaipxTG2V-ON",
        "colab": {
          "base_uri": "https://localhost:8080/",
          "height": 266
        },
        "outputId": "6a24013f-8432-4bd8-c8fb-9a53d595b973"
      },
      "source": [
        "df2.groupby('Title').agg({\n",
        "    'age': ['mean', 'median', 'max', 'min']\n",
        "})"
      ],
      "execution_count": 42,
      "outputs": [
        {
          "output_type": "execute_result",
          "data": {
            "text/html": [
              "<div>\n",
              "<style scoped>\n",
              "    .dataframe tbody tr th:only-of-type {\n",
              "        vertical-align: middle;\n",
              "    }\n",
              "\n",
              "    .dataframe tbody tr th {\n",
              "        vertical-align: top;\n",
              "    }\n",
              "\n",
              "    .dataframe thead tr th {\n",
              "        text-align: left;\n",
              "    }\n",
              "\n",
              "    .dataframe thead tr:last-of-type th {\n",
              "        text-align: right;\n",
              "    }\n",
              "</style>\n",
              "<table border=\"1\" class=\"dataframe\">\n",
              "  <thead>\n",
              "    <tr>\n",
              "      <th></th>\n",
              "      <th colspan=\"4\" halign=\"left\">age</th>\n",
              "    </tr>\n",
              "    <tr>\n",
              "      <th></th>\n",
              "      <th>mean</th>\n",
              "      <th>median</th>\n",
              "      <th>max</th>\n",
              "      <th>min</th>\n",
              "    </tr>\n",
              "    <tr>\n",
              "      <th>Title</th>\n",
              "      <th></th>\n",
              "      <th></th>\n",
              "      <th></th>\n",
              "      <th></th>\n",
              "    </tr>\n",
              "  </thead>\n",
              "  <tbody>\n",
              "    <tr>\n",
              "      <th>Dr</th>\n",
              "      <td>43.571429</td>\n",
              "      <td>49.0</td>\n",
              "      <td>54.0</td>\n",
              "      <td>23.00</td>\n",
              "    </tr>\n",
              "    <tr>\n",
              "      <th>Master</th>\n",
              "      <td>5.482642</td>\n",
              "      <td>4.0</td>\n",
              "      <td>14.5</td>\n",
              "      <td>0.33</td>\n",
              "    </tr>\n",
              "    <tr>\n",
              "      <th>Miss</th>\n",
              "      <td>21.834533</td>\n",
              "      <td>22.0</td>\n",
              "      <td>63.0</td>\n",
              "      <td>0.17</td>\n",
              "    </tr>\n",
              "    <tr>\n",
              "      <th>Mr</th>\n",
              "      <td>32.685309</td>\n",
              "      <td>30.0</td>\n",
              "      <td>80.0</td>\n",
              "      <td>11.00</td>\n",
              "    </tr>\n",
              "    <tr>\n",
              "      <th>Mrs</th>\n",
              "      <td>37.046243</td>\n",
              "      <td>36.0</td>\n",
              "      <td>76.0</td>\n",
              "      <td>14.00</td>\n",
              "    </tr>\n",
              "  </tbody>\n",
              "</table>\n",
              "</div>"
            ],
            "text/plain": [
              "              age                    \n",
              "             mean median   max    min\n",
              "Title                                \n",
              "Dr      43.571429   49.0  54.0  23.00\n",
              "Master   5.482642    4.0  14.5   0.33\n",
              "Miss    21.834533   22.0  63.0   0.17\n",
              "Mr      32.685309   30.0  80.0  11.00\n",
              "Mrs     37.046243   36.0  76.0  14.00"
            ]
          },
          "metadata": {
            "tags": []
          },
          "execution_count": 42
        }
      ]
    },
    {
      "cell_type": "code",
      "metadata": {
        "id": "wRahUB2mUiGz",
        "colab": {
          "base_uri": "https://localhost:8080/",
          "height": 386
        },
        "outputId": "419dbac5-e081-46d5-f048-9daf3ef123ba"
      },
      "source": [
        "sns.displot(df2['age'], kde=True)"
      ],
      "execution_count": 43,
      "outputs": [
        {
          "output_type": "execute_result",
          "data": {
            "text/plain": [
              "<seaborn.axisgrid.FacetGrid at 0x7f7c31c291d0>"
            ]
          },
          "metadata": {
            "tags": []
          },
          "execution_count": 43
        },
        {
          "output_type": "display_data",
          "data": {
            "image/png": "[encoded data removed]",
            "text/plain": [
              "<Figure size 360x360 with 1 Axes>"
            ]
          },
          "metadata": {
            "tags": [],
            "needs_background": "light"
          }
        }
      ]
    },
    {
      "cell_type": "code",
      "metadata": {
        "id": "_rRdem2HTtxy",
        "colab": {
          "base_uri": "https://localhost:8080/"
        },
        "outputId": "1ae1f63b-a837-45cf-969c-07da5bd6e24a"
      },
      "source": [
        "# Proses imputasi data yang hilang\n",
        "df2['age'].fillna(df2.groupby('Title')['age'].transform('median'), inplace=True)\n",
        "df2.age.describe()"
      ],
      "execution_count": 44,
      "outputs": [
        {
          "output_type": "execute_result",
          "data": {
            "text/plain": [
              "count    1309.000000\n",
              "mean       29.572704\n",
              "std        13.170206\n",
              "min         0.170000\n",
              "25%        22.000000\n",
              "50%        30.000000\n",
              "75%        36.000000\n",
              "max        80.000000\n",
              "Name: age, dtype: float64"
            ]
          },
          "metadata": {
            "tags": []
          },
          "execution_count": 44
        }
      ]
    },
    {
      "cell_type": "code",
      "metadata": {
        "id": "qOff79NsVWrh",
        "colab": {
          "base_uri": "https://localhost:8080/",
          "height": 266
        },
        "outputId": "81e7ebad-b70a-494c-8b21-b9189f15df4f"
      },
      "source": [
        "df2.groupby('Title').agg({\n",
        "    'age': ['mean', 'median', 'max', 'min']\n",
        "})"
      ],
      "execution_count": 45,
      "outputs": [
        {
          "output_type": "execute_result",
          "data": {
            "text/html": [
              "<div>\n",
              "<style scoped>\n",
              "    .dataframe tbody tr th:only-of-type {\n",
              "        vertical-align: middle;\n",
              "    }\n",
              "\n",
              "    .dataframe tbody tr th {\n",
              "        vertical-align: top;\n",
              "    }\n",
              "\n",
              "    .dataframe thead tr th {\n",
              "        text-align: left;\n",
              "    }\n",
              "\n",
              "    .dataframe thead tr:last-of-type th {\n",
              "        text-align: right;\n",
              "    }\n",
              "</style>\n",
              "<table border=\"1\" class=\"dataframe\">\n",
              "  <thead>\n",
              "    <tr>\n",
              "      <th></th>\n",
              "      <th colspan=\"4\" halign=\"left\">age</th>\n",
              "    </tr>\n",
              "    <tr>\n",
              "      <th></th>\n",
              "      <th>mean</th>\n",
              "      <th>median</th>\n",
              "      <th>max</th>\n",
              "      <th>min</th>\n",
              "    </tr>\n",
              "    <tr>\n",
              "      <th>Title</th>\n",
              "      <th></th>\n",
              "      <th></th>\n",
              "      <th></th>\n",
              "      <th></th>\n",
              "    </tr>\n",
              "  </thead>\n",
              "  <tbody>\n",
              "    <tr>\n",
              "      <th>Dr</th>\n",
              "      <td>44.250000</td>\n",
              "      <td>49.0</td>\n",
              "      <td>54.0</td>\n",
              "      <td>23.00</td>\n",
              "    </tr>\n",
              "    <tr>\n",
              "      <th>Master</th>\n",
              "      <td>5.288197</td>\n",
              "      <td>4.0</td>\n",
              "      <td>14.5</td>\n",
              "      <td>0.33</td>\n",
              "    </tr>\n",
              "    <tr>\n",
              "      <th>Miss</th>\n",
              "      <td>21.866377</td>\n",
              "      <td>22.0</td>\n",
              "      <td>63.0</td>\n",
              "      <td>0.17</td>\n",
              "    </tr>\n",
              "    <tr>\n",
              "      <th>Mr</th>\n",
              "      <td>32.075484</td>\n",
              "      <td>30.0</td>\n",
              "      <td>80.0</td>\n",
              "      <td>11.00</td>\n",
              "    </tr>\n",
              "    <tr>\n",
              "      <th>Mrs</th>\n",
              "      <td>36.905000</td>\n",
              "      <td>36.0</td>\n",
              "      <td>76.0</td>\n",
              "      <td>14.00</td>\n",
              "    </tr>\n",
              "  </tbody>\n",
              "</table>\n",
              "</div>"
            ],
            "text/plain": [
              "              age                    \n",
              "             mean median   max    min\n",
              "Title                                \n",
              "Dr      44.250000   49.0  54.0  23.00\n",
              "Master   5.288197    4.0  14.5   0.33\n",
              "Miss    21.866377   22.0  63.0   0.17\n",
              "Mr      32.075484   30.0  80.0  11.00\n",
              "Mrs     36.905000   36.0  76.0  14.00"
            ]
          },
          "metadata": {
            "tags": []
          },
          "execution_count": 45
        }
      ]
    },
    {
      "cell_type": "code",
      "metadata": {
        "id": "uRPKTFnYU2iA",
        "colab": {
          "base_uri": "https://localhost:8080/",
          "height": 386
        },
        "outputId": "49822bed-61c0-449b-8fa9-2cbf2230f9da"
      },
      "source": [
        "sns.displot(df2['age'], kde=True)"
      ],
      "execution_count": 46,
      "outputs": [
        {
          "output_type": "execute_result",
          "data": {
            "text/plain": [
              "<seaborn.axisgrid.FacetGrid at 0x7f7c2917ac90>"
            ]
          },
          "metadata": {
            "tags": []
          },
          "execution_count": 46
        },
        {
          "output_type": "display_data",
          "data": {
            "image/png": "[encoded data removed]",
            "text/plain": [
              "<Figure size 360x360 with 1 Axes>"
            ]
          },
          "metadata": {
            "tags": [],
            "needs_background": "light"
          }
        }
      ]
    },
    {
      "cell_type": "code",
      "metadata": {
        "id": "4mC3yBvO2H4r",
        "colab": {
          "base_uri": "https://localhost:8080/"
        },
        "outputId": "c4a57357-7e44-43cf-fdfe-2ba46292a673"
      },
      "source": [
        "df2['age'].describe()"
      ],
      "execution_count": 47,
      "outputs": [
        {
          "output_type": "execute_result",
          "data": {
            "text/plain": [
              "count    1309.000000\n",
              "mean       29.572704\n",
              "std        13.170206\n",
              "min         0.170000\n",
              "25%        22.000000\n",
              "50%        30.000000\n",
              "75%        36.000000\n",
              "max        80.000000\n",
              "Name: age, dtype: float64"
            ]
          },
          "metadata": {
            "tags": []
          },
          "execution_count": 47
        }
      ]
    },
    {
      "cell_type": "code",
      "metadata": {
        "id": "0M1DO2p-uuOC",
        "colab": {
          "base_uri": "https://localhost:8080/",
          "height": 80
        },
        "outputId": "d523b7c1-a829-4b38-cb9a-f644b5c827a8"
      },
      "source": [
        "df2.agg({'age':['skew']})"
      ],
      "execution_count": 48,
      "outputs": [
        {
          "output_type": "execute_result",
          "data": {
            "text/html": [
              "<div>\n",
              "<style scoped>\n",
              "    .dataframe tbody tr th:only-of-type {\n",
              "        vertical-align: middle;\n",
              "    }\n",
              "\n",
              "    .dataframe tbody tr th {\n",
              "        vertical-align: top;\n",
              "    }\n",
              "\n",
              "    .dataframe thead th {\n",
              "        text-align: right;\n",
              "    }\n",
              "</style>\n",
              "<table border=\"1\" class=\"dataframe\">\n",
              "  <thead>\n",
              "    <tr style=\"text-align: right;\">\n",
              "      <th></th>\n",
              "      <th>age</th>\n",
              "    </tr>\n",
              "  </thead>\n",
              "  <tbody>\n",
              "    <tr>\n",
              "      <th>skew</th>\n",
              "      <td>0.446701</td>\n",
              "    </tr>\n",
              "  </tbody>\n",
              "</table>\n",
              "</div>"
            ],
            "text/plain": [
              "           age\n",
              "skew  0.446701"
            ]
          },
          "metadata": {
            "tags": []
          },
          "execution_count": 48
        }
      ]
    },
    {
      "cell_type": "markdown",
      "metadata": {
        "id": "7sDqg_pG2Gb9"
      },
      "source": [
        "# Data Transformation"
      ]
    },
    {
      "cell_type": "markdown",
      "metadata": {
        "id": "Cb8FtKdC2UiE"
      },
      "source": [
        "Menggunakan data fare untuk Titanic, kita dapat melihat distribusi data, apakah data tersebut terdistribusi normal atau tidak. Untuk data yang memiliki nilai *skewness* positif, kita bisa menggunakan teknik Root Transformation maupun Log Transformation, sedangkan untuk data yang memiliki nilai *skewness* negatif, kita bisa menggunakan teknik Square Transformation maupun Power/Exponent Transformation"
      ]
    },
    {
      "cell_type": "code",
      "metadata": {
        "id": "zZyC7g2h2-S5",
        "colab": {
          "base_uri": "https://localhost:8080/",
          "height": 386
        },
        "outputId": "0404e268-5e08-4895-b12a-7abc0e3086b0"
      },
      "source": [
        "## plot fare\n",
        "sns.displot(df2['fare'], kde=True)"
      ],
      "execution_count": 49,
      "outputs": [
        {
          "output_type": "execute_result",
          "data": {
            "text/plain": [
              "<seaborn.axisgrid.FacetGrid at 0x7f7c290da690>"
            ]
          },
          "metadata": {
            "tags": []
          },
          "execution_count": 49
        },
        {
          "output_type": "display_data",
          "data": {
            "image/png": "[encoded data removed]",
            "text/plain": [
              "<Figure size 360x360 with 1 Axes>"
            ]
          },
          "metadata": {
            "tags": [],
            "needs_background": "light"
          }
        }
      ]
    },
    {
      "cell_type": "code",
      "metadata": {
        "id": "CXGkYH4O4cAb",
        "colab": {
          "base_uri": "https://localhost:8080/",
          "height": 80
        },
        "outputId": "e3764f0f-dc15-49fa-a5ae-dc50eea9688f"
      },
      "source": [
        "## lihat nilai kemiringan\n",
        "df2.agg({'fare':['skew']})"
      ],
      "execution_count": 50,
      "outputs": [
        {
          "output_type": "execute_result",
          "data": {
            "text/html": [
              "<div>\n",
              "<style scoped>\n",
              "    .dataframe tbody tr th:only-of-type {\n",
              "        vertical-align: middle;\n",
              "    }\n",
              "\n",
              "    .dataframe tbody tr th {\n",
              "        vertical-align: top;\n",
              "    }\n",
              "\n",
              "    .dataframe thead th {\n",
              "        text-align: right;\n",
              "    }\n",
              "</style>\n",
              "<table border=\"1\" class=\"dataframe\">\n",
              "  <thead>\n",
              "    <tr style=\"text-align: right;\">\n",
              "      <th></th>\n",
              "      <th>fare</th>\n",
              "    </tr>\n",
              "  </thead>\n",
              "  <tbody>\n",
              "    <tr>\n",
              "      <th>skew</th>\n",
              "      <td>4.367709</td>\n",
              "    </tr>\n",
              "  </tbody>\n",
              "</table>\n",
              "</div>"
            ],
            "text/plain": [
              "          fare\n",
              "skew  4.367709"
            ]
          },
          "metadata": {
            "tags": []
          },
          "execution_count": 50
        }
      ]
    },
    {
      "cell_type": "markdown",
      "metadata": {
        "id": "7rFDDyTF5TDW"
      },
      "source": [
        "## Root Transformation\n"
      ]
    },
    {
      "cell_type": "markdown",
      "metadata": {
        "id": "oRVr5VwF6M3C"
      },
      "source": [
        "di sini kita akan mencoba untuk mentransformasi data fare menggunakan root transformasion"
      ]
    },
    {
      "cell_type": "code",
      "metadata": {
        "id": "i5HxAc2-7C_Z"
      },
      "source": [
        "# Python Square root transformation\n",
        "df2['fare_sqrt'] = np.sqrt(df2['fare'])"
      ],
      "execution_count": 51,
      "outputs": []
    },
    {
      "cell_type": "code",
      "metadata": {
        "id": "gw-trZf98Sh6",
        "colab": {
          "base_uri": "https://localhost:8080/",
          "height": 386
        },
        "outputId": "07564629-a0db-4a6f-8f17-2e77f2082525"
      },
      "source": [
        "## plot fare\n",
        "sns.displot(df2['fare_sqrt'], kde=True)"
      ],
      "execution_count": 52,
      "outputs": [
        {
          "output_type": "execute_result",
          "data": {
            "text/plain": [
              "<seaborn.axisgrid.FacetGrid at 0x7f7c2913c650>"
            ]
          },
          "metadata": {
            "tags": []
          },
          "execution_count": 52
        },
        {
          "output_type": "display_data",
          "data": {
            "image/png": "[encoded data removed]",
            "text/plain": [
              "<Figure size 360x360 with 1 Axes>"
            ]
          },
          "metadata": {
            "tags": [],
            "needs_background": "light"
          }
        }
      ]
    },
    {
      "cell_type": "code",
      "metadata": {
        "id": "DLqeoPXO8KzC",
        "colab": {
          "base_uri": "https://localhost:8080/",
          "height": 80
        },
        "outputId": "b1966d32-65b2-4df1-853f-f7f6a5b85ba2"
      },
      "source": [
        "## lihat nilai kemiringan\n",
        "df2.agg({'fare_sqrt':['skew']})"
      ],
      "execution_count": 53,
      "outputs": [
        {
          "output_type": "execute_result",
          "data": {
            "text/html": [
              "<div>\n",
              "<style scoped>\n",
              "    .dataframe tbody tr th:only-of-type {\n",
              "        vertical-align: middle;\n",
              "    }\n",
              "\n",
              "    .dataframe tbody tr th {\n",
              "        vertical-align: top;\n",
              "    }\n",
              "\n",
              "    .dataframe thead th {\n",
              "        text-align: right;\n",
              "    }\n",
              "</style>\n",
              "<table border=\"1\" class=\"dataframe\">\n",
              "  <thead>\n",
              "    <tr style=\"text-align: right;\">\n",
              "      <th></th>\n",
              "      <th>fare_sqrt</th>\n",
              "    </tr>\n",
              "  </thead>\n",
              "  <tbody>\n",
              "    <tr>\n",
              "      <th>skew</th>\n",
              "      <td>2.087012</td>\n",
              "    </tr>\n",
              "  </tbody>\n",
              "</table>\n",
              "</div>"
            ],
            "text/plain": [
              "      fare_sqrt\n",
              "skew   2.087012"
            ]
          },
          "metadata": {
            "tags": []
          },
          "execution_count": 53
        }
      ]
    },
    {
      "cell_type": "markdown",
      "metadata": {
        "id": "uY_LMS5N8hqY"
      },
      "source": [
        "## Log Transformation\n",
        "\n",
        "disini kita akan mencoba menggunakan root transformation, perlu diingat bahwa karena kita akan menggunakan fungsi log, maka semua data yang akan ditransformasi harus bernilai positif diatas 0"
      ]
    },
    {
      "cell_type": "code",
      "metadata": {
        "id": "NnxdL9fN--YM",
        "colab": {
          "base_uri": "https://localhost:8080/"
        },
        "outputId": "191617b0-7714-443e-b7c7-20d6adec9455"
      },
      "source": [
        "## cek apakah terdapat nilai dibaawah 0 untuk fare\n",
        "print(df2['fare'].min())"
      ],
      "execution_count": 54,
      "outputs": [
        {
          "output_type": "stream",
          "text": [
            "0.0\n"
          ],
          "name": "stdout"
        }
      ]
    },
    {
      "cell_type": "code",
      "metadata": {
        "id": "1fRE4KK-82EK"
      },
      "source": [
        "# Python log transformation\n",
        "df2['fare_log'] = np.log(df2['fare']+1)"
      ],
      "execution_count": 55,
      "outputs": []
    },
    {
      "cell_type": "code",
      "metadata": {
        "id": "M0xLEj4eAJjW",
        "colab": {
          "base_uri": "https://localhost:8080/",
          "height": 386
        },
        "outputId": "f84bb5c7-6582-47cf-915b-06b9fea587d4"
      },
      "source": [
        "## plot fare\n",
        "sns.displot(df2['fare_log'], kde=True)"
      ],
      "execution_count": 56,
      "outputs": [
        {
          "output_type": "execute_result",
          "data": {
            "text/plain": [
              "<seaborn.axisgrid.FacetGrid at 0x7f7c28dc3a50>"
            ]
          },
          "metadata": {
            "tags": []
          },
          "execution_count": 56
        },
        {
          "output_type": "display_data",
          "data": {
            "image/png": "[encoded data removed]",
            "text/plain": [
              "<Figure size 360x360 with 1 Axes>"
            ]
          },
          "metadata": {
            "tags": [],
            "needs_background": "light"
          }
        }
      ]
    },
    {
      "cell_type": "code",
      "metadata": {
        "id": "yqHQbK4U9XHQ",
        "colab": {
          "base_uri": "https://localhost:8080/",
          "height": 80
        },
        "outputId": "dbcd08b5-d04c-4430-cd67-1bf4363c67be"
      },
      "source": [
        "## lihat nilai kemiringan\n",
        "df2.agg({'fare_log':['skew']})"
      ],
      "execution_count": 57,
      "outputs": [
        {
          "output_type": "execute_result",
          "data": {
            "text/html": [
              "<div>\n",
              "<style scoped>\n",
              "    .dataframe tbody tr th:only-of-type {\n",
              "        vertical-align: middle;\n",
              "    }\n",
              "\n",
              "    .dataframe tbody tr th {\n",
              "        vertical-align: top;\n",
              "    }\n",
              "\n",
              "    .dataframe thead th {\n",
              "        text-align: right;\n",
              "    }\n",
              "</style>\n",
              "<table border=\"1\" class=\"dataframe\">\n",
              "  <thead>\n",
              "    <tr style=\"text-align: right;\">\n",
              "      <th></th>\n",
              "      <th>fare_log</th>\n",
              "    </tr>\n",
              "  </thead>\n",
              "  <tbody>\n",
              "    <tr>\n",
              "      <th>skew</th>\n",
              "      <td>0.541888</td>\n",
              "    </tr>\n",
              "  </tbody>\n",
              "</table>\n",
              "</div>"
            ],
            "text/plain": [
              "      fare_log\n",
              "skew  0.541888"
            ]
          },
          "metadata": {
            "tags": []
          },
          "execution_count": 57
        }
      ]
    },
    {
      "cell_type": "markdown",
      "metadata": {
        "id": "8sKAurAlAe4P"
      },
      "source": [
        "# Data Normalization\n"
      ]
    },
    {
      "cell_type": "markdown",
      "metadata": {
        "id": "tJsd_cq_AkDE"
      },
      "source": [
        "## Min-max Normalization"
      ]
    },
    {
      "cell_type": "code",
      "metadata": {
        "id": "xnG8G_q9IvMF"
      },
      "source": [
        "df2['age_minmax'] = (df2['age']-df2['age'].min())/(df2['age'].max()-df2['age'].min())"
      ],
      "execution_count": 58,
      "outputs": []
    },
    {
      "cell_type": "code",
      "metadata": {
        "id": "jyn5Tv3eAtZ3",
        "colab": {
          "base_uri": "https://localhost:8080/",
          "height": 386
        },
        "outputId": "222c74d9-3562-4bf7-9a43-8cd6e2cc1a39"
      },
      "source": [
        "## plot age minmax\n",
        "sns.displot(df2['age_minmax'], kde=True)"
      ],
      "execution_count": 59,
      "outputs": [
        {
          "output_type": "execute_result",
          "data": {
            "text/plain": [
              "<seaborn.axisgrid.FacetGrid at 0x7f7c31c29e50>"
            ]
          },
          "metadata": {
            "tags": []
          },
          "execution_count": 59
        },
        {
          "output_type": "display_data",
          "data": {
            "image/png": "[encoded data removed]",
            "text/plain": [
              "<Figure size 360x360 with 1 Axes>"
            ]
          },
          "metadata": {
            "tags": [],
            "needs_background": "light"
          }
        }
      ]
    },
    {
      "cell_type": "code",
      "metadata": {
        "id": "gUOV4w51FYUO",
        "colab": {
          "base_uri": "https://localhost:8080/"
        },
        "outputId": "03e80d6c-860b-413b-9a02-2e765dfdaf51"
      },
      "source": [
        "# describe age_minmax\n",
        "df2['age_minmax'].describe()"
      ],
      "execution_count": 60,
      "outputs": [
        {
          "output_type": "execute_result",
          "data": {
            "text/plain": [
              "count    1309.000000\n",
              "mean        0.368316\n",
              "std         0.164978\n",
              "min         0.000000\n",
              "25%         0.273456\n",
              "50%         0.373669\n",
              "75%         0.448829\n",
              "max         1.000000\n",
              "Name: age_minmax, dtype: float64"
            ]
          },
          "metadata": {
            "tags": []
          },
          "execution_count": 60
        }
      ]
    },
    {
      "cell_type": "markdown",
      "metadata": {
        "id": "6FfAxROQJz1p"
      },
      "source": [
        "## Z-score normalization\n"
      ]
    },
    {
      "cell_type": "code",
      "metadata": {
        "id": "rrlT1epuJ4k4"
      },
      "source": [
        "df2['age_std'] = (df2['age']-df2['age'].mean())/df2['age'].std()"
      ],
      "execution_count": 61,
      "outputs": []
    },
    {
      "cell_type": "code",
      "metadata": {
        "id": "Ea_Fkrj4KH0Y",
        "colab": {
          "base_uri": "https://localhost:8080/",
          "height": 386
        },
        "outputId": "bf2ed3e2-0119-49b5-8b0e-bb7c280194ef"
      },
      "source": [
        "## plot age minmax\n",
        "sns.displot(df2['age_std'], kde=True)"
      ],
      "execution_count": 62,
      "outputs": [
        {
          "output_type": "execute_result",
          "data": {
            "text/plain": [
              "<seaborn.axisgrid.FacetGrid at 0x7f7c28c59c50>"
            ]
          },
          "metadata": {
            "tags": []
          },
          "execution_count": 62
        },
        {
          "output_type": "display_data",
          "data": {
            "image/png": "[encoded data removed]",
            "text/plain": [
              "<Figure size 360x360 with 1 Axes>"
            ]
          },
          "metadata": {
            "tags": [],
            "needs_background": "light"
          }
        }
      ]
    },
    {
      "cell_type": "code",
      "metadata": {
        "id": "vrkYEz-QKOmj",
        "colab": {
          "base_uri": "https://localhost:8080/"
        },
        "outputId": "b0719313-6dd5-48ba-b8f6-827833c1e225"
      },
      "source": [
        "# describe age_std\n",
        "df2['age_std'].describe()"
      ],
      "execution_count": 63,
      "outputs": [
        {
          "output_type": "execute_result",
          "data": {
            "text/plain": [
              "count    1.309000e+03\n",
              "mean    -4.211628e-16\n",
              "std      1.000000e+00\n",
              "min     -2.232517e+00\n",
              "25%     -5.749875e-01\n",
              "50%      3.244411e-02\n",
              "75%      4.880178e-01\n",
              "max      3.828892e+00\n",
              "Name: age_std, dtype: float64"
            ]
          },
          "metadata": {
            "tags": []
          },
          "execution_count": 63
        }
      ]
    },
    {
      "cell_type": "markdown",
      "metadata": {
        "id": "xMO6HLCRLDEb"
      },
      "source": [
        "# Binning"
      ]
    },
    {
      "cell_type": "markdown",
      "metadata": {
        "id": "QQGK2vcwMd30"
      },
      "source": [
        "## menggunakan fungsi cut()"
      ]
    },
    {
      "cell_type": "markdown",
      "metadata": {
        "id": "A3-WrkvNMkCR"
      },
      "source": [
        "### menggunakan fungsi linspace\n",
        "\n",
        "fungsi ini digunakan untuk membuat array yang berisi sejumlah angka dengan jarak yang sama. Angka-angka ini yang nantinya akan digunakan sebagai batas untuk tiap kategori."
      ]
    },
    {
      "cell_type": "code",
      "metadata": {
        "id": "ettVV3tbj7XC",
        "colab": {
          "base_uri": "https://localhost:8080/",
          "height": 386
        },
        "outputId": "730e8c2d-9409-40e8-da03-1ef9da907ec1"
      },
      "source": [
        "## binning data usia menggunakan linspace()\n",
        "\n",
        "bins_ls = np.linspace(min(df2['age']), max(df2['age']), 5)\n",
        "\n",
        "cat = ['anak-anak', 'remaja', 'dewasa', 'orang tua']\n",
        "\n",
        "df2['age_binned'] = pd.cut(df2['age'], bins=bins_ls, labels=cat, include_lowest=True)\n",
        "\n",
        "sns.displot(df2['age_binned'])"
      ],
      "execution_count": 64,
      "outputs": [
        {
          "output_type": "execute_result",
          "data": {
            "text/plain": [
              "<seaborn.axisgrid.FacetGrid at 0x7f7c28c497d0>"
            ]
          },
          "metadata": {
            "tags": []
          },
          "execution_count": 64
        },
        {
          "output_type": "display_data",
          "data": {
            "image/png": "[encoded data removed]",
            "text/plain": [
              "<Figure size 360x360 with 1 Axes>"
            ]
          },
          "metadata": {
            "tags": [],
            "needs_background": "light"
          }
        }
      ]
    },
    {
      "cell_type": "code",
      "metadata": {
        "id": "X5xDNYWP0Uiw",
        "colab": {
          "base_uri": "https://localhost:8080/"
        },
        "outputId": "2a730920-75df-4eb3-f005-2b08bbadf14f"
      },
      "source": [
        "print(bins_ls)"
      ],
      "execution_count": 65,
      "outputs": [
        {
          "output_type": "stream",
          "text": [
            "[ 0.17   20.1275 40.085  60.0425 80.    ]\n"
          ],
          "name": "stdout"
        }
      ]
    },
    {
      "cell_type": "markdown",
      "metadata": {
        "id": "vOcAtU_-O2Se"
      },
      "source": [
        ""
      ]
    },
    {
      "cell_type": "markdown",
      "metadata": {
        "id": "1UIGWGGDPC6X"
      },
      "source": [
        "### menggunakan interval_range()\n",
        "\n",
        "dengan menggunakan fungsi interval_range(), kita bisa menentukan besaran jarak untuk setiap batasan bins. hanya saja untuk fungsi ini, kita tidak bisa langsung memberikan label"
      ]
    },
    {
      "cell_type": "code",
      "metadata": {
        "id": "iJXnSYU2QPX0"
      },
      "source": [
        "## binning data usia menggunakan interval_range()\n",
        "interval_range = pd.interval_range(start=0, freq=10, end=80)\n",
        "\n",
        "df2['age_binned2'] = pd.cut(df2['age'], bins=interval_range, include_lowest=True)\n"
      ],
      "execution_count": 66,
      "outputs": []
    },
    {
      "cell_type": "code",
      "metadata": {
        "id": "Klrqh2z3UrK1",
        "colab": {
          "base_uri": "https://localhost:8080/",
          "height": 359
        },
        "outputId": "f3e59dc9-144c-417d-a355-04917005a540"
      },
      "source": [
        "df2.groupby('age_binned2').agg({\n",
        "    'age': ['mean', 'min', 'max']\n",
        "})"
      ],
      "execution_count": 67,
      "outputs": [
        {
          "output_type": "execute_result",
          "data": {
            "text/html": [
              "<div>\n",
              "<style scoped>\n",
              "    .dataframe tbody tr th:only-of-type {\n",
              "        vertical-align: middle;\n",
              "    }\n",
              "\n",
              "    .dataframe tbody tr th {\n",
              "        vertical-align: top;\n",
              "    }\n",
              "\n",
              "    .dataframe thead tr th {\n",
              "        text-align: left;\n",
              "    }\n",
              "\n",
              "    .dataframe thead tr:last-of-type th {\n",
              "        text-align: right;\n",
              "    }\n",
              "</style>\n",
              "<table border=\"1\" class=\"dataframe\">\n",
              "  <thead>\n",
              "    <tr>\n",
              "      <th></th>\n",
              "      <th colspan=\"3\" halign=\"left\">age</th>\n",
              "    </tr>\n",
              "    <tr>\n",
              "      <th></th>\n",
              "      <th>mean</th>\n",
              "      <th>min</th>\n",
              "      <th>max</th>\n",
              "    </tr>\n",
              "    <tr>\n",
              "      <th>age_binned2</th>\n",
              "      <th></th>\n",
              "      <th></th>\n",
              "      <th></th>\n",
              "    </tr>\n",
              "  </thead>\n",
              "  <tbody>\n",
              "    <tr>\n",
              "      <th>(0, 10]</th>\n",
              "      <td>4.278404</td>\n",
              "      <td>0.17</td>\n",
              "      <td>10.0</td>\n",
              "    </tr>\n",
              "    <tr>\n",
              "      <th>(10, 20]</th>\n",
              "      <td>17.283951</td>\n",
              "      <td>11.00</td>\n",
              "      <td>20.0</td>\n",
              "    </tr>\n",
              "    <tr>\n",
              "      <th>(20, 30]</th>\n",
              "      <td>26.435374</td>\n",
              "      <td>20.50</td>\n",
              "      <td>30.0</td>\n",
              "    </tr>\n",
              "    <tr>\n",
              "      <th>(30, 40]</th>\n",
              "      <td>35.221519</td>\n",
              "      <td>30.50</td>\n",
              "      <td>40.0</td>\n",
              "    </tr>\n",
              "    <tr>\n",
              "      <th>(40, 50]</th>\n",
              "      <td>45.394737</td>\n",
              "      <td>40.50</td>\n",
              "      <td>50.0</td>\n",
              "    </tr>\n",
              "    <tr>\n",
              "      <th>(50, 60]</th>\n",
              "      <td>55.185484</td>\n",
              "      <td>51.00</td>\n",
              "      <td>60.0</td>\n",
              "    </tr>\n",
              "    <tr>\n",
              "      <th>(60, 70]</th>\n",
              "      <td>63.537037</td>\n",
              "      <td>60.50</td>\n",
              "      <td>70.0</td>\n",
              "    </tr>\n",
              "    <tr>\n",
              "      <th>(70, 80]</th>\n",
              "      <td>73.750000</td>\n",
              "      <td>70.50</td>\n",
              "      <td>80.0</td>\n",
              "    </tr>\n",
              "  </tbody>\n",
              "</table>\n",
              "</div>"
            ],
            "text/plain": [
              "                   age             \n",
              "                  mean    min   max\n",
              "age_binned2                        \n",
              "(0, 10]       4.278404   0.17  10.0\n",
              "(10, 20]     17.283951  11.00  20.0\n",
              "(20, 30]     26.435374  20.50  30.0\n",
              "(30, 40]     35.221519  30.50  40.0\n",
              "(40, 50]     45.394737  40.50  50.0\n",
              "(50, 60]     55.185484  51.00  60.0\n",
              "(60, 70]     63.537037  60.50  70.0\n",
              "(70, 80]     73.750000  70.50  80.0"
            ]
          },
          "metadata": {
            "tags": []
          },
          "execution_count": 67
        }
      ]
    },
    {
      "cell_type": "code",
      "metadata": {
        "id": "0IFgHaIuWBc-"
      },
      "source": [
        "df2['age_binned2'] = df2['age_binned2'].apply(lambda x: x.mid)"
      ],
      "execution_count": 68,
      "outputs": []
    },
    {
      "cell_type": "code",
      "metadata": {
        "id": "4gUsdyHu1-hY",
        "colab": {
          "base_uri": "https://localhost:8080/",
          "height": 386
        },
        "outputId": "f04ae874-7b75-4135-b6c7-01b15ad2a67a"
      },
      "source": [
        "sns.displot(df2['age_binned2'])"
      ],
      "execution_count": 69,
      "outputs": [
        {
          "output_type": "execute_result",
          "data": {
            "text/plain": [
              "<seaborn.axisgrid.FacetGrid at 0x7f7c28c1d350>"
            ]
          },
          "metadata": {
            "tags": []
          },
          "execution_count": 69
        },
        {
          "output_type": "display_data",
          "data": {
            "image/png": "[encoded data removed]",
            "text/plain": [
              "<Figure size 360x360 with 1 Axes>"
            ]
          },
          "metadata": {
            "tags": [],
            "needs_background": "light"
          }
        }
      ]
    },
    {
      "cell_type": "markdown",
      "metadata": {
        "id": "mH3xmn6NWuhi"
      },
      "source": [
        "### menggunakan batasan khusus (custom)\n",
        "\n",
        "kita bisa menggunakan metode ini jika batasan yang kita punya memiliki kriteria khusus"
      ]
    },
    {
      "cell_type": "code",
      "metadata": {
        "id": "PIGCJtKCW-aS"
      },
      "source": [
        "## binning data usia menggunakan batasan custom\n",
        "cat = ['anak-anak', 'remaja', 'dewasa', 'orang tua']\n",
        "\n",
        "bins = [0,12,20,40,80]\n",
        "\n",
        "df2['age_binned'] = pd.cut(df2['age'], bins=bins, labels=cat, include_lowest=True)\n"
      ],
      "execution_count": 70,
      "outputs": []
    },
    {
      "cell_type": "code",
      "metadata": {
        "id": "3iiw8zbz2g4u",
        "colab": {
          "base_uri": "https://localhost:8080/",
          "height": 386
        },
        "outputId": "7b571986-167e-4523-a15e-59fbbb6bd461"
      },
      "source": [
        "sns.displot(df2['age_binned'])"
      ],
      "execution_count": 71,
      "outputs": [
        {
          "output_type": "execute_result",
          "data": {
            "text/plain": [
              "<seaborn.axisgrid.FacetGrid at 0x7f7c292564d0>"
            ]
          },
          "metadata": {
            "tags": []
          },
          "execution_count": 71
        },
        {
          "output_type": "display_data",
          "data": {
            "image/png": "[encoded data removed]",
            "text/plain": [
              "<Figure size 360x360 with 1 Axes>"
            ]
          },
          "metadata": {
            "tags": [],
            "needs_background": "light"
          }
        }
      ]
    },
    {
      "cell_type": "markdown",
      "metadata": {
        "id": "1-K7X4-cXeEg"
      },
      "source": [
        "## menggunakan qcut()\n",
        "\n",
        "Selain fungsi cut(), ada juga fungsi qcut() yang dapat digunakan untuk melakukan binning data. Menurut dokumentasi pandas, qcut digambarkan sebagai Quantile-based discretization function. Singkatnya fungsi qcut() ini akan membagi data ke dalam jumlah yang sama. Karena itu, jarak untuk masing-masing bin boleh jadi berbeda satu sama lain."
      ]
    },
    {
      "cell_type": "code",
      "metadata": {
        "id": "0nF2ka4mXqF6"
      },
      "source": [
        "## binning data usia menggunakan qcut()\n",
        "cat = ['1', '2', '3', '4']\n",
        "\n",
        "df2['age_binned_q'] = pd.qcut(df2['age'], q=4, labels=cat)\n"
      ],
      "execution_count": 72,
      "outputs": []
    },
    {
      "cell_type": "code",
      "metadata": {
        "id": "xFkmyzes3VqV",
        "colab": {
          "base_uri": "https://localhost:8080/",
          "height": 386
        },
        "outputId": "43779142-34f5-4f42-eed3-d7390af82656"
      },
      "source": [
        "sns.displot(df2['age_binned_q'])"
      ],
      "execution_count": 73,
      "outputs": [
        {
          "output_type": "execute_result",
          "data": {
            "text/plain": [
              "<seaborn.axisgrid.FacetGrid at 0x7f7c321e3210>"
            ]
          },
          "metadata": {
            "tags": []
          },
          "execution_count": 73
        },
        {
          "output_type": "display_data",
          "data": {
            "image/png": "[encoded data removed]",
            "text/plain": [
              "<Figure size 360x360 with 1 Axes>"
            ]
          },
          "metadata": {
            "tags": [],
            "needs_background": "light"
          }
        }
      ]
    },
    {
      "cell_type": "code",
      "metadata": {
        "id": "Wn1Muyuy3jGG",
        "colab": {
          "base_uri": "https://localhost:8080/",
          "height": 235
        },
        "outputId": "5cf70fa8-2f2d-431e-9ca1-2dd4c232595b"
      },
      "source": [
        "df2.groupby('age_binned_q').agg({\n",
        "    'age' : ['min', 'max']\n",
        "})"
      ],
      "execution_count": 74,
      "outputs": [
        {
          "output_type": "execute_result",
          "data": {
            "text/html": [
              "<div>\n",
              "<style scoped>\n",
              "    .dataframe tbody tr th:only-of-type {\n",
              "        vertical-align: middle;\n",
              "    }\n",
              "\n",
              "    .dataframe tbody tr th {\n",
              "        vertical-align: top;\n",
              "    }\n",
              "\n",
              "    .dataframe thead tr th {\n",
              "        text-align: left;\n",
              "    }\n",
              "\n",
              "    .dataframe thead tr:last-of-type th {\n",
              "        text-align: right;\n",
              "    }\n",
              "</style>\n",
              "<table border=\"1\" class=\"dataframe\">\n",
              "  <thead>\n",
              "    <tr>\n",
              "      <th></th>\n",
              "      <th colspan=\"2\" halign=\"left\">age</th>\n",
              "    </tr>\n",
              "    <tr>\n",
              "      <th></th>\n",
              "      <th>min</th>\n",
              "      <th>max</th>\n",
              "    </tr>\n",
              "    <tr>\n",
              "      <th>age_binned_q</th>\n",
              "      <th></th>\n",
              "      <th></th>\n",
              "    </tr>\n",
              "  </thead>\n",
              "  <tbody>\n",
              "    <tr>\n",
              "      <th>1</th>\n",
              "      <td>0.17</td>\n",
              "      <td>22.0</td>\n",
              "    </tr>\n",
              "    <tr>\n",
              "      <th>2</th>\n",
              "      <td>22.50</td>\n",
              "      <td>30.0</td>\n",
              "    </tr>\n",
              "    <tr>\n",
              "      <th>3</th>\n",
              "      <td>30.50</td>\n",
              "      <td>36.0</td>\n",
              "    </tr>\n",
              "    <tr>\n",
              "      <th>4</th>\n",
              "      <td>36.50</td>\n",
              "      <td>80.0</td>\n",
              "    </tr>\n",
              "  </tbody>\n",
              "</table>\n",
              "</div>"
            ],
            "text/plain": [
              "                age      \n",
              "                min   max\n",
              "age_binned_q             \n",
              "1              0.17  22.0\n",
              "2             22.50  30.0\n",
              "3             30.50  36.0\n",
              "4             36.50  80.0"
            ]
          },
          "metadata": {
            "tags": []
          },
          "execution_count": 74
        }
      ]
    },
    {
      "cell_type": "markdown",
      "metadata": {
        "id": "1e_Yz0ZyZPuJ"
      },
      "source": [
        "# Encoding"
      ]
    },
    {
      "cell_type": "markdown",
      "metadata": {
        "id": "C13Inr9hZTNq"
      },
      "source": [
        "## One-Hot Encoding\n"
      ]
    },
    {
      "cell_type": "markdown",
      "metadata": {
        "id": "fzkJxOFVeajL"
      },
      "source": [
        "### menggunakan pandas"
      ]
    },
    {
      "cell_type": "code",
      "metadata": {
        "id": "xQ1ucMjdedjX",
        "colab": {
          "base_uri": "https://localhost:8080/",
          "height": 456
        },
        "outputId": "e11896e2-1d5e-4252-f348-ebf1b4334fe2"
      },
      "source": [
        "df_encoded = pd.get_dummies(df2['cabin'], prefix='cabin')\n",
        "df_encoded"
      ],
      "execution_count": 75,
      "outputs": [
        {
          "output_type": "execute_result",
          "data": {
            "text/html": [
              "<div>\n",
              "<style scoped>\n",
              "    .dataframe tbody tr th:only-of-type {\n",
              "        vertical-align: middle;\n",
              "    }\n",
              "\n",
              "    .dataframe tbody tr th {\n",
              "        vertical-align: top;\n",
              "    }\n",
              "\n",
              "    .dataframe thead th {\n",
              "        text-align: right;\n",
              "    }\n",
              "</style>\n",
              "<table border=\"1\" class=\"dataframe\">\n",
              "  <thead>\n",
              "    <tr style=\"text-align: right;\">\n",
              "      <th></th>\n",
              "      <th>cabin_A10</th>\n",
              "      <th>cabin_A11</th>\n",
              "      <th>cabin_A14</th>\n",
              "      <th>cabin_A16</th>\n",
              "      <th>cabin_A18</th>\n",
              "      <th>cabin_A19</th>\n",
              "      <th>cabin_A20</th>\n",
              "      <th>cabin_A21</th>\n",
              "      <th>cabin_A23</th>\n",
              "      <th>cabin_A24</th>\n",
              "      <th>cabin_A26</th>\n",
              "      <th>cabin_A29</th>\n",
              "      <th>cabin_A31</th>\n",
              "      <th>cabin_A32</th>\n",
              "      <th>cabin_A34</th>\n",
              "      <th>cabin_A36</th>\n",
              "      <th>cabin_A5</th>\n",
              "      <th>cabin_A6</th>\n",
              "      <th>cabin_A7</th>\n",
              "      <th>cabin_A9</th>\n",
              "      <th>cabin_B10</th>\n",
              "      <th>cabin_B101</th>\n",
              "      <th>cabin_B102</th>\n",
              "      <th>cabin_B11</th>\n",
              "      <th>cabin_B18</th>\n",
              "      <th>cabin_B19</th>\n",
              "      <th>cabin_B20</th>\n",
              "      <th>cabin_B22</th>\n",
              "      <th>cabin_B24</th>\n",
              "      <th>cabin_B26</th>\n",
              "      <th>cabin_B28</th>\n",
              "      <th>cabin_B3</th>\n",
              "      <th>cabin_B30</th>\n",
              "      <th>cabin_B35</th>\n",
              "      <th>cabin_B36</th>\n",
              "      <th>cabin_B37</th>\n",
              "      <th>cabin_B38</th>\n",
              "      <th>cabin_B39</th>\n",
              "      <th>cabin_B4</th>\n",
              "      <th>cabin_B41</th>\n",
              "      <th>...</th>\n",
              "      <th>cabin_D9</th>\n",
              "      <th>cabin_E10</th>\n",
              "      <th>cabin_E101</th>\n",
              "      <th>cabin_E12</th>\n",
              "      <th>cabin_E121</th>\n",
              "      <th>cabin_E17</th>\n",
              "      <th>cabin_E24</th>\n",
              "      <th>cabin_E25</th>\n",
              "      <th>cabin_E31</th>\n",
              "      <th>cabin_E33</th>\n",
              "      <th>cabin_E34</th>\n",
              "      <th>cabin_E36</th>\n",
              "      <th>cabin_E38</th>\n",
              "      <th>cabin_E39 E41</th>\n",
              "      <th>cabin_E40</th>\n",
              "      <th>cabin_E44</th>\n",
              "      <th>cabin_E45</th>\n",
              "      <th>cabin_E46</th>\n",
              "      <th>cabin_E49</th>\n",
              "      <th>cabin_E50</th>\n",
              "      <th>cabin_E52</th>\n",
              "      <th>cabin_E58</th>\n",
              "      <th>cabin_E60</th>\n",
              "      <th>cabin_E63</th>\n",
              "      <th>cabin_E67</th>\n",
              "      <th>cabin_E68</th>\n",
              "      <th>cabin_E77</th>\n",
              "      <th>cabin_E8</th>\n",
              "      <th>cabin_F</th>\n",
              "      <th>cabin_F E46</th>\n",
              "      <th>cabin_F E57</th>\n",
              "      <th>cabin_F E69</th>\n",
              "      <th>cabin_F G63</th>\n",
              "      <th>cabin_F G73</th>\n",
              "      <th>cabin_F2</th>\n",
              "      <th>cabin_F33</th>\n",
              "      <th>cabin_F38</th>\n",
              "      <th>cabin_F4</th>\n",
              "      <th>cabin_G6</th>\n",
              "      <th>cabin_T</th>\n",
              "    </tr>\n",
              "  </thead>\n",
              "  <tbody>\n",
              "    <tr>\n",
              "      <th>0</th>\n",
              "      <td>0</td>\n",
              "      <td>0</td>\n",
              "      <td>0</td>\n",
              "      <td>0</td>\n",
              "      <td>0</td>\n",
              "      <td>0</td>\n",
              "      <td>0</td>\n",
              "      <td>0</td>\n",
              "      <td>0</td>\n",
              "      <td>0</td>\n",
              "      <td>0</td>\n",
              "      <td>0</td>\n",
              "      <td>0</td>\n",
              "      <td>0</td>\n",
              "      <td>0</td>\n",
              "      <td>0</td>\n",
              "      <td>0</td>\n",
              "      <td>0</td>\n",
              "      <td>0</td>\n",
              "      <td>0</td>\n",
              "      <td>0</td>\n",
              "      <td>0</td>\n",
              "      <td>0</td>\n",
              "      <td>0</td>\n",
              "      <td>0</td>\n",
              "      <td>0</td>\n",
              "      <td>0</td>\n",
              "      <td>0</td>\n",
              "      <td>0</td>\n",
              "      <td>0</td>\n",
              "      <td>0</td>\n",
              "      <td>0</td>\n",
              "      <td>0</td>\n",
              "      <td>0</td>\n",
              "      <td>0</td>\n",
              "      <td>0</td>\n",
              "      <td>0</td>\n",
              "      <td>0</td>\n",
              "      <td>0</td>\n",
              "      <td>0</td>\n",
              "      <td>...</td>\n",
              "      <td>0</td>\n",
              "      <td>0</td>\n",
              "      <td>0</td>\n",
              "      <td>0</td>\n",
              "      <td>0</td>\n",
              "      <td>0</td>\n",
              "      <td>0</td>\n",
              "      <td>0</td>\n",
              "      <td>0</td>\n",
              "      <td>0</td>\n",
              "      <td>0</td>\n",
              "      <td>0</td>\n",
              "      <td>0</td>\n",
              "      <td>0</td>\n",
              "      <td>0</td>\n",
              "      <td>0</td>\n",
              "      <td>0</td>\n",
              "      <td>0</td>\n",
              "      <td>0</td>\n",
              "      <td>0</td>\n",
              "      <td>0</td>\n",
              "      <td>0</td>\n",
              "      <td>0</td>\n",
              "      <td>0</td>\n",
              "      <td>0</td>\n",
              "      <td>0</td>\n",
              "      <td>0</td>\n",
              "      <td>0</td>\n",
              "      <td>0</td>\n",
              "      <td>0</td>\n",
              "      <td>0</td>\n",
              "      <td>0</td>\n",
              "      <td>0</td>\n",
              "      <td>0</td>\n",
              "      <td>0</td>\n",
              "      <td>0</td>\n",
              "      <td>0</td>\n",
              "      <td>0</td>\n",
              "      <td>0</td>\n",
              "      <td>0</td>\n",
              "    </tr>\n",
              "    <tr>\n",
              "      <th>1</th>\n",
              "      <td>0</td>\n",
              "      <td>0</td>\n",
              "      <td>0</td>\n",
              "      <td>0</td>\n",
              "      <td>0</td>\n",
              "      <td>0</td>\n",
              "      <td>0</td>\n",
              "      <td>0</td>\n",
              "      <td>0</td>\n",
              "      <td>0</td>\n",
              "      <td>0</td>\n",
              "      <td>0</td>\n",
              "      <td>0</td>\n",
              "      <td>0</td>\n",
              "      <td>0</td>\n",
              "      <td>0</td>\n",
              "      <td>0</td>\n",
              "      <td>0</td>\n",
              "      <td>0</td>\n",
              "      <td>0</td>\n",
              "      <td>0</td>\n",
              "      <td>0</td>\n",
              "      <td>0</td>\n",
              "      <td>0</td>\n",
              "      <td>0</td>\n",
              "      <td>0</td>\n",
              "      <td>0</td>\n",
              "      <td>0</td>\n",
              "      <td>0</td>\n",
              "      <td>0</td>\n",
              "      <td>0</td>\n",
              "      <td>0</td>\n",
              "      <td>0</td>\n",
              "      <td>0</td>\n",
              "      <td>0</td>\n",
              "      <td>0</td>\n",
              "      <td>0</td>\n",
              "      <td>0</td>\n",
              "      <td>0</td>\n",
              "      <td>0</td>\n",
              "      <td>...</td>\n",
              "      <td>0</td>\n",
              "      <td>0</td>\n",
              "      <td>0</td>\n",
              "      <td>0</td>\n",
              "      <td>0</td>\n",
              "      <td>0</td>\n",
              "      <td>0</td>\n",
              "      <td>0</td>\n",
              "      <td>0</td>\n",
              "      <td>0</td>\n",
              "      <td>0</td>\n",
              "      <td>0</td>\n",
              "      <td>0</td>\n",
              "      <td>0</td>\n",
              "      <td>0</td>\n",
              "      <td>0</td>\n",
              "      <td>0</td>\n",
              "      <td>0</td>\n",
              "      <td>0</td>\n",
              "      <td>0</td>\n",
              "      <td>0</td>\n",
              "      <td>0</td>\n",
              "      <td>0</td>\n",
              "      <td>0</td>\n",
              "      <td>0</td>\n",
              "      <td>0</td>\n",
              "      <td>0</td>\n",
              "      <td>0</td>\n",
              "      <td>0</td>\n",
              "      <td>0</td>\n",
              "      <td>0</td>\n",
              "      <td>0</td>\n",
              "      <td>0</td>\n",
              "      <td>0</td>\n",
              "      <td>0</td>\n",
              "      <td>0</td>\n",
              "      <td>0</td>\n",
              "      <td>0</td>\n",
              "      <td>0</td>\n",
              "      <td>0</td>\n",
              "    </tr>\n",
              "    <tr>\n",
              "      <th>2</th>\n",
              "      <td>0</td>\n",
              "      <td>0</td>\n",
              "      <td>0</td>\n",
              "      <td>0</td>\n",
              "      <td>0</td>\n",
              "      <td>0</td>\n",
              "      <td>0</td>\n",
              "      <td>0</td>\n",
              "      <td>0</td>\n",
              "      <td>0</td>\n",
              "      <td>0</td>\n",
              "      <td>0</td>\n",
              "      <td>0</td>\n",
              "      <td>0</td>\n",
              "      <td>0</td>\n",
              "      <td>0</td>\n",
              "      <td>0</td>\n",
              "      <td>0</td>\n",
              "      <td>0</td>\n",
              "      <td>0</td>\n",
              "      <td>0</td>\n",
              "      <td>0</td>\n",
              "      <td>0</td>\n",
              "      <td>0</td>\n",
              "      <td>0</td>\n",
              "      <td>0</td>\n",
              "      <td>0</td>\n",
              "      <td>0</td>\n",
              "      <td>0</td>\n",
              "      <td>0</td>\n",
              "      <td>0</td>\n",
              "      <td>0</td>\n",
              "      <td>0</td>\n",
              "      <td>0</td>\n",
              "      <td>0</td>\n",
              "      <td>0</td>\n",
              "      <td>0</td>\n",
              "      <td>0</td>\n",
              "      <td>0</td>\n",
              "      <td>0</td>\n",
              "      <td>...</td>\n",
              "      <td>0</td>\n",
              "      <td>0</td>\n",
              "      <td>0</td>\n",
              "      <td>0</td>\n",
              "      <td>0</td>\n",
              "      <td>0</td>\n",
              "      <td>0</td>\n",
              "      <td>0</td>\n",
              "      <td>0</td>\n",
              "      <td>0</td>\n",
              "      <td>0</td>\n",
              "      <td>0</td>\n",
              "      <td>0</td>\n",
              "      <td>0</td>\n",
              "      <td>0</td>\n",
              "      <td>0</td>\n",
              "      <td>0</td>\n",
              "      <td>0</td>\n",
              "      <td>0</td>\n",
              "      <td>0</td>\n",
              "      <td>0</td>\n",
              "      <td>0</td>\n",
              "      <td>0</td>\n",
              "      <td>0</td>\n",
              "      <td>0</td>\n",
              "      <td>0</td>\n",
              "      <td>0</td>\n",
              "      <td>0</td>\n",
              "      <td>0</td>\n",
              "      <td>0</td>\n",
              "      <td>0</td>\n",
              "      <td>0</td>\n",
              "      <td>0</td>\n",
              "      <td>0</td>\n",
              "      <td>0</td>\n",
              "      <td>0</td>\n",
              "      <td>0</td>\n",
              "      <td>0</td>\n",
              "      <td>0</td>\n",
              "      <td>0</td>\n",
              "    </tr>\n",
              "    <tr>\n",
              "      <th>3</th>\n",
              "      <td>0</td>\n",
              "      <td>0</td>\n",
              "      <td>0</td>\n",
              "      <td>0</td>\n",
              "      <td>0</td>\n",
              "      <td>0</td>\n",
              "      <td>0</td>\n",
              "      <td>0</td>\n",
              "      <td>0</td>\n",
              "      <td>0</td>\n",
              "      <td>0</td>\n",
              "      <td>0</td>\n",
              "      <td>0</td>\n",
              "      <td>0</td>\n",
              "      <td>0</td>\n",
              "      <td>0</td>\n",
              "      <td>0</td>\n",
              "      <td>0</td>\n",
              "      <td>0</td>\n",
              "      <td>0</td>\n",
              "      <td>0</td>\n",
              "      <td>0</td>\n",
              "      <td>0</td>\n",
              "      <td>0</td>\n",
              "      <td>0</td>\n",
              "      <td>0</td>\n",
              "      <td>0</td>\n",
              "      <td>0</td>\n",
              "      <td>0</td>\n",
              "      <td>0</td>\n",
              "      <td>0</td>\n",
              "      <td>0</td>\n",
              "      <td>0</td>\n",
              "      <td>0</td>\n",
              "      <td>0</td>\n",
              "      <td>0</td>\n",
              "      <td>0</td>\n",
              "      <td>0</td>\n",
              "      <td>0</td>\n",
              "      <td>0</td>\n",
              "      <td>...</td>\n",
              "      <td>0</td>\n",
              "      <td>0</td>\n",
              "      <td>0</td>\n",
              "      <td>0</td>\n",
              "      <td>0</td>\n",
              "      <td>0</td>\n",
              "      <td>0</td>\n",
              "      <td>0</td>\n",
              "      <td>0</td>\n",
              "      <td>0</td>\n",
              "      <td>0</td>\n",
              "      <td>0</td>\n",
              "      <td>0</td>\n",
              "      <td>0</td>\n",
              "      <td>0</td>\n",
              "      <td>0</td>\n",
              "      <td>0</td>\n",
              "      <td>0</td>\n",
              "      <td>0</td>\n",
              "      <td>0</td>\n",
              "      <td>0</td>\n",
              "      <td>0</td>\n",
              "      <td>0</td>\n",
              "      <td>0</td>\n",
              "      <td>0</td>\n",
              "      <td>0</td>\n",
              "      <td>0</td>\n",
              "      <td>0</td>\n",
              "      <td>0</td>\n",
              "      <td>0</td>\n",
              "      <td>0</td>\n",
              "      <td>0</td>\n",
              "      <td>0</td>\n",
              "      <td>0</td>\n",
              "      <td>0</td>\n",
              "      <td>0</td>\n",
              "      <td>0</td>\n",
              "      <td>0</td>\n",
              "      <td>0</td>\n",
              "      <td>0</td>\n",
              "    </tr>\n",
              "    <tr>\n",
              "      <th>4</th>\n",
              "      <td>0</td>\n",
              "      <td>0</td>\n",
              "      <td>0</td>\n",
              "      <td>0</td>\n",
              "      <td>0</td>\n",
              "      <td>0</td>\n",
              "      <td>0</td>\n",
              "      <td>0</td>\n",
              "      <td>0</td>\n",
              "      <td>0</td>\n",
              "      <td>0</td>\n",
              "      <td>0</td>\n",
              "      <td>0</td>\n",
              "      <td>0</td>\n",
              "      <td>0</td>\n",
              "      <td>0</td>\n",
              "      <td>0</td>\n",
              "      <td>0</td>\n",
              "      <td>0</td>\n",
              "      <td>0</td>\n",
              "      <td>0</td>\n",
              "      <td>0</td>\n",
              "      <td>0</td>\n",
              "      <td>0</td>\n",
              "      <td>0</td>\n",
              "      <td>0</td>\n",
              "      <td>0</td>\n",
              "      <td>0</td>\n",
              "      <td>0</td>\n",
              "      <td>0</td>\n",
              "      <td>0</td>\n",
              "      <td>0</td>\n",
              "      <td>0</td>\n",
              "      <td>0</td>\n",
              "      <td>0</td>\n",
              "      <td>0</td>\n",
              "      <td>0</td>\n",
              "      <td>0</td>\n",
              "      <td>0</td>\n",
              "      <td>0</td>\n",
              "      <td>...</td>\n",
              "      <td>0</td>\n",
              "      <td>0</td>\n",
              "      <td>0</td>\n",
              "      <td>0</td>\n",
              "      <td>0</td>\n",
              "      <td>0</td>\n",
              "      <td>0</td>\n",
              "      <td>0</td>\n",
              "      <td>0</td>\n",
              "      <td>0</td>\n",
              "      <td>0</td>\n",
              "      <td>0</td>\n",
              "      <td>0</td>\n",
              "      <td>0</td>\n",
              "      <td>0</td>\n",
              "      <td>0</td>\n",
              "      <td>0</td>\n",
              "      <td>0</td>\n",
              "      <td>0</td>\n",
              "      <td>0</td>\n",
              "      <td>0</td>\n",
              "      <td>0</td>\n",
              "      <td>0</td>\n",
              "      <td>0</td>\n",
              "      <td>0</td>\n",
              "      <td>0</td>\n",
              "      <td>0</td>\n",
              "      <td>0</td>\n",
              "      <td>0</td>\n",
              "      <td>0</td>\n",
              "      <td>0</td>\n",
              "      <td>0</td>\n",
              "      <td>0</td>\n",
              "      <td>0</td>\n",
              "      <td>0</td>\n",
              "      <td>0</td>\n",
              "      <td>0</td>\n",
              "      <td>0</td>\n",
              "      <td>0</td>\n",
              "      <td>0</td>\n",
              "    </tr>\n",
              "    <tr>\n",
              "      <th>...</th>\n",
              "      <td>...</td>\n",
              "      <td>...</td>\n",
              "      <td>...</td>\n",
              "      <td>...</td>\n",
              "      <td>...</td>\n",
              "      <td>...</td>\n",
              "      <td>...</td>\n",
              "      <td>...</td>\n",
              "      <td>...</td>\n",
              "      <td>...</td>\n",
              "      <td>...</td>\n",
              "      <td>...</td>\n",
              "      <td>...</td>\n",
              "      <td>...</td>\n",
              "      <td>...</td>\n",
              "      <td>...</td>\n",
              "      <td>...</td>\n",
              "      <td>...</td>\n",
              "      <td>...</td>\n",
              "      <td>...</td>\n",
              "      <td>...</td>\n",
              "      <td>...</td>\n",
              "      <td>...</td>\n",
              "      <td>...</td>\n",
              "      <td>...</td>\n",
              "      <td>...</td>\n",
              "      <td>...</td>\n",
              "      <td>...</td>\n",
              "      <td>...</td>\n",
              "      <td>...</td>\n",
              "      <td>...</td>\n",
              "      <td>...</td>\n",
              "      <td>...</td>\n",
              "      <td>...</td>\n",
              "      <td>...</td>\n",
              "      <td>...</td>\n",
              "      <td>...</td>\n",
              "      <td>...</td>\n",
              "      <td>...</td>\n",
              "      <td>...</td>\n",
              "      <td>...</td>\n",
              "      <td>...</td>\n",
              "      <td>...</td>\n",
              "      <td>...</td>\n",
              "      <td>...</td>\n",
              "      <td>...</td>\n",
              "      <td>...</td>\n",
              "      <td>...</td>\n",
              "      <td>...</td>\n",
              "      <td>...</td>\n",
              "      <td>...</td>\n",
              "      <td>...</td>\n",
              "      <td>...</td>\n",
              "      <td>...</td>\n",
              "      <td>...</td>\n",
              "      <td>...</td>\n",
              "      <td>...</td>\n",
              "      <td>...</td>\n",
              "      <td>...</td>\n",
              "      <td>...</td>\n",
              "      <td>...</td>\n",
              "      <td>...</td>\n",
              "      <td>...</td>\n",
              "      <td>...</td>\n",
              "      <td>...</td>\n",
              "      <td>...</td>\n",
              "      <td>...</td>\n",
              "      <td>...</td>\n",
              "      <td>...</td>\n",
              "      <td>...</td>\n",
              "      <td>...</td>\n",
              "      <td>...</td>\n",
              "      <td>...</td>\n",
              "      <td>...</td>\n",
              "      <td>...</td>\n",
              "      <td>...</td>\n",
              "      <td>...</td>\n",
              "      <td>...</td>\n",
              "      <td>...</td>\n",
              "      <td>...</td>\n",
              "      <td>...</td>\n",
              "    </tr>\n",
              "    <tr>\n",
              "      <th>1304</th>\n",
              "      <td>0</td>\n",
              "      <td>0</td>\n",
              "      <td>0</td>\n",
              "      <td>0</td>\n",
              "      <td>0</td>\n",
              "      <td>0</td>\n",
              "      <td>0</td>\n",
              "      <td>0</td>\n",
              "      <td>0</td>\n",
              "      <td>0</td>\n",
              "      <td>0</td>\n",
              "      <td>0</td>\n",
              "      <td>0</td>\n",
              "      <td>0</td>\n",
              "      <td>0</td>\n",
              "      <td>0</td>\n",
              "      <td>0</td>\n",
              "      <td>0</td>\n",
              "      <td>0</td>\n",
              "      <td>0</td>\n",
              "      <td>0</td>\n",
              "      <td>0</td>\n",
              "      <td>0</td>\n",
              "      <td>0</td>\n",
              "      <td>0</td>\n",
              "      <td>0</td>\n",
              "      <td>0</td>\n",
              "      <td>0</td>\n",
              "      <td>0</td>\n",
              "      <td>0</td>\n",
              "      <td>0</td>\n",
              "      <td>0</td>\n",
              "      <td>0</td>\n",
              "      <td>0</td>\n",
              "      <td>0</td>\n",
              "      <td>0</td>\n",
              "      <td>0</td>\n",
              "      <td>0</td>\n",
              "      <td>0</td>\n",
              "      <td>0</td>\n",
              "      <td>...</td>\n",
              "      <td>0</td>\n",
              "      <td>0</td>\n",
              "      <td>0</td>\n",
              "      <td>0</td>\n",
              "      <td>0</td>\n",
              "      <td>0</td>\n",
              "      <td>0</td>\n",
              "      <td>0</td>\n",
              "      <td>0</td>\n",
              "      <td>0</td>\n",
              "      <td>0</td>\n",
              "      <td>0</td>\n",
              "      <td>0</td>\n",
              "      <td>0</td>\n",
              "      <td>0</td>\n",
              "      <td>0</td>\n",
              "      <td>0</td>\n",
              "      <td>0</td>\n",
              "      <td>0</td>\n",
              "      <td>0</td>\n",
              "      <td>0</td>\n",
              "      <td>0</td>\n",
              "      <td>0</td>\n",
              "      <td>0</td>\n",
              "      <td>0</td>\n",
              "      <td>0</td>\n",
              "      <td>0</td>\n",
              "      <td>0</td>\n",
              "      <td>0</td>\n",
              "      <td>0</td>\n",
              "      <td>0</td>\n",
              "      <td>0</td>\n",
              "      <td>0</td>\n",
              "      <td>0</td>\n",
              "      <td>0</td>\n",
              "      <td>0</td>\n",
              "      <td>0</td>\n",
              "      <td>0</td>\n",
              "      <td>0</td>\n",
              "      <td>0</td>\n",
              "    </tr>\n",
              "    <tr>\n",
              "      <th>1305</th>\n",
              "      <td>0</td>\n",
              "      <td>0</td>\n",
              "      <td>0</td>\n",
              "      <td>0</td>\n",
              "      <td>0</td>\n",
              "      <td>0</td>\n",
              "      <td>0</td>\n",
              "      <td>0</td>\n",
              "      <td>0</td>\n",
              "      <td>0</td>\n",
              "      <td>0</td>\n",
              "      <td>0</td>\n",
              "      <td>0</td>\n",
              "      <td>0</td>\n",
              "      <td>0</td>\n",
              "      <td>0</td>\n",
              "      <td>0</td>\n",
              "      <td>0</td>\n",
              "      <td>0</td>\n",
              "      <td>0</td>\n",
              "      <td>0</td>\n",
              "      <td>0</td>\n",
              "      <td>0</td>\n",
              "      <td>0</td>\n",
              "      <td>0</td>\n",
              "      <td>0</td>\n",
              "      <td>0</td>\n",
              "      <td>0</td>\n",
              "      <td>0</td>\n",
              "      <td>0</td>\n",
              "      <td>0</td>\n",
              "      <td>0</td>\n",
              "      <td>0</td>\n",
              "      <td>0</td>\n",
              "      <td>0</td>\n",
              "      <td>0</td>\n",
              "      <td>0</td>\n",
              "      <td>0</td>\n",
              "      <td>0</td>\n",
              "      <td>0</td>\n",
              "      <td>...</td>\n",
              "      <td>0</td>\n",
              "      <td>0</td>\n",
              "      <td>0</td>\n",
              "      <td>0</td>\n",
              "      <td>0</td>\n",
              "      <td>0</td>\n",
              "      <td>0</td>\n",
              "      <td>0</td>\n",
              "      <td>0</td>\n",
              "      <td>0</td>\n",
              "      <td>0</td>\n",
              "      <td>0</td>\n",
              "      <td>0</td>\n",
              "      <td>0</td>\n",
              "      <td>0</td>\n",
              "      <td>0</td>\n",
              "      <td>0</td>\n",
              "      <td>0</td>\n",
              "      <td>0</td>\n",
              "      <td>0</td>\n",
              "      <td>0</td>\n",
              "      <td>0</td>\n",
              "      <td>0</td>\n",
              "      <td>0</td>\n",
              "      <td>0</td>\n",
              "      <td>0</td>\n",
              "      <td>0</td>\n",
              "      <td>0</td>\n",
              "      <td>0</td>\n",
              "      <td>0</td>\n",
              "      <td>0</td>\n",
              "      <td>0</td>\n",
              "      <td>0</td>\n",
              "      <td>0</td>\n",
              "      <td>0</td>\n",
              "      <td>0</td>\n",
              "      <td>0</td>\n",
              "      <td>0</td>\n",
              "      <td>0</td>\n",
              "      <td>0</td>\n",
              "    </tr>\n",
              "    <tr>\n",
              "      <th>1306</th>\n",
              "      <td>0</td>\n",
              "      <td>0</td>\n",
              "      <td>0</td>\n",
              "      <td>0</td>\n",
              "      <td>0</td>\n",
              "      <td>0</td>\n",
              "      <td>0</td>\n",
              "      <td>0</td>\n",
              "      <td>0</td>\n",
              "      <td>0</td>\n",
              "      <td>0</td>\n",
              "      <td>0</td>\n",
              "      <td>0</td>\n",
              "      <td>0</td>\n",
              "      <td>0</td>\n",
              "      <td>0</td>\n",
              "      <td>0</td>\n",
              "      <td>0</td>\n",
              "      <td>0</td>\n",
              "      <td>0</td>\n",
              "      <td>0</td>\n",
              "      <td>0</td>\n",
              "      <td>0</td>\n",
              "      <td>0</td>\n",
              "      <td>0</td>\n",
              "      <td>0</td>\n",
              "      <td>0</td>\n",
              "      <td>0</td>\n",
              "      <td>0</td>\n",
              "      <td>0</td>\n",
              "      <td>0</td>\n",
              "      <td>0</td>\n",
              "      <td>0</td>\n",
              "      <td>0</td>\n",
              "      <td>0</td>\n",
              "      <td>0</td>\n",
              "      <td>0</td>\n",
              "      <td>0</td>\n",
              "      <td>0</td>\n",
              "      <td>0</td>\n",
              "      <td>...</td>\n",
              "      <td>0</td>\n",
              "      <td>0</td>\n",
              "      <td>0</td>\n",
              "      <td>0</td>\n",
              "      <td>0</td>\n",
              "      <td>0</td>\n",
              "      <td>0</td>\n",
              "      <td>0</td>\n",
              "      <td>0</td>\n",
              "      <td>0</td>\n",
              "      <td>0</td>\n",
              "      <td>0</td>\n",
              "      <td>0</td>\n",
              "      <td>0</td>\n",
              "      <td>0</td>\n",
              "      <td>0</td>\n",
              "      <td>0</td>\n",
              "      <td>0</td>\n",
              "      <td>0</td>\n",
              "      <td>0</td>\n",
              "      <td>0</td>\n",
              "      <td>0</td>\n",
              "      <td>0</td>\n",
              "      <td>0</td>\n",
              "      <td>0</td>\n",
              "      <td>0</td>\n",
              "      <td>0</td>\n",
              "      <td>0</td>\n",
              "      <td>0</td>\n",
              "      <td>0</td>\n",
              "      <td>0</td>\n",
              "      <td>0</td>\n",
              "      <td>0</td>\n",
              "      <td>0</td>\n",
              "      <td>0</td>\n",
              "      <td>0</td>\n",
              "      <td>0</td>\n",
              "      <td>0</td>\n",
              "      <td>0</td>\n",
              "      <td>0</td>\n",
              "    </tr>\n",
              "    <tr>\n",
              "      <th>1307</th>\n",
              "      <td>0</td>\n",
              "      <td>0</td>\n",
              "      <td>0</td>\n",
              "      <td>0</td>\n",
              "      <td>0</td>\n",
              "      <td>0</td>\n",
              "      <td>0</td>\n",
              "      <td>0</td>\n",
              "      <td>0</td>\n",
              "      <td>0</td>\n",
              "      <td>0</td>\n",
              "      <td>0</td>\n",
              "      <td>0</td>\n",
              "      <td>0</td>\n",
              "      <td>0</td>\n",
              "      <td>0</td>\n",
              "      <td>0</td>\n",
              "      <td>0</td>\n",
              "      <td>0</td>\n",
              "      <td>0</td>\n",
              "      <td>0</td>\n",
              "      <td>0</td>\n",
              "      <td>0</td>\n",
              "      <td>0</td>\n",
              "      <td>0</td>\n",
              "      <td>0</td>\n",
              "      <td>0</td>\n",
              "      <td>0</td>\n",
              "      <td>0</td>\n",
              "      <td>0</td>\n",
              "      <td>0</td>\n",
              "      <td>0</td>\n",
              "      <td>0</td>\n",
              "      <td>0</td>\n",
              "      <td>0</td>\n",
              "      <td>0</td>\n",
              "      <td>0</td>\n",
              "      <td>0</td>\n",
              "      <td>0</td>\n",
              "      <td>0</td>\n",
              "      <td>...</td>\n",
              "      <td>0</td>\n",
              "      <td>0</td>\n",
              "      <td>0</td>\n",
              "      <td>0</td>\n",
              "      <td>0</td>\n",
              "      <td>0</td>\n",
              "      <td>0</td>\n",
              "      <td>0</td>\n",
              "      <td>0</td>\n",
              "      <td>0</td>\n",
              "      <td>0</td>\n",
              "      <td>0</td>\n",
              "      <td>0</td>\n",
              "      <td>0</td>\n",
              "      <td>0</td>\n",
              "      <td>0</td>\n",
              "      <td>0</td>\n",
              "      <td>0</td>\n",
              "      <td>0</td>\n",
              "      <td>0</td>\n",
              "      <td>0</td>\n",
              "      <td>0</td>\n",
              "      <td>0</td>\n",
              "      <td>0</td>\n",
              "      <td>0</td>\n",
              "      <td>0</td>\n",
              "      <td>0</td>\n",
              "      <td>0</td>\n",
              "      <td>0</td>\n",
              "      <td>0</td>\n",
              "      <td>0</td>\n",
              "      <td>0</td>\n",
              "      <td>0</td>\n",
              "      <td>0</td>\n",
              "      <td>0</td>\n",
              "      <td>0</td>\n",
              "      <td>0</td>\n",
              "      <td>0</td>\n",
              "      <td>0</td>\n",
              "      <td>0</td>\n",
              "    </tr>\n",
              "    <tr>\n",
              "      <th>1308</th>\n",
              "      <td>0</td>\n",
              "      <td>0</td>\n",
              "      <td>0</td>\n",
              "      <td>0</td>\n",
              "      <td>0</td>\n",
              "      <td>0</td>\n",
              "      <td>0</td>\n",
              "      <td>0</td>\n",
              "      <td>0</td>\n",
              "      <td>0</td>\n",
              "      <td>0</td>\n",
              "      <td>0</td>\n",
              "      <td>0</td>\n",
              "      <td>0</td>\n",
              "      <td>0</td>\n",
              "      <td>0</td>\n",
              "      <td>0</td>\n",
              "      <td>0</td>\n",
              "      <td>0</td>\n",
              "      <td>0</td>\n",
              "      <td>0</td>\n",
              "      <td>0</td>\n",
              "      <td>0</td>\n",
              "      <td>0</td>\n",
              "      <td>0</td>\n",
              "      <td>0</td>\n",
              "      <td>0</td>\n",
              "      <td>0</td>\n",
              "      <td>0</td>\n",
              "      <td>0</td>\n",
              "      <td>0</td>\n",
              "      <td>0</td>\n",
              "      <td>0</td>\n",
              "      <td>0</td>\n",
              "      <td>0</td>\n",
              "      <td>0</td>\n",
              "      <td>0</td>\n",
              "      <td>0</td>\n",
              "      <td>0</td>\n",
              "      <td>0</td>\n",
              "      <td>...</td>\n",
              "      <td>0</td>\n",
              "      <td>0</td>\n",
              "      <td>0</td>\n",
              "      <td>0</td>\n",
              "      <td>0</td>\n",
              "      <td>0</td>\n",
              "      <td>0</td>\n",
              "      <td>0</td>\n",
              "      <td>0</td>\n",
              "      <td>0</td>\n",
              "      <td>0</td>\n",
              "      <td>0</td>\n",
              "      <td>0</td>\n",
              "      <td>0</td>\n",
              "      <td>0</td>\n",
              "      <td>0</td>\n",
              "      <td>0</td>\n",
              "      <td>0</td>\n",
              "      <td>0</td>\n",
              "      <td>0</td>\n",
              "      <td>0</td>\n",
              "      <td>0</td>\n",
              "      <td>0</td>\n",
              "      <td>0</td>\n",
              "      <td>0</td>\n",
              "      <td>0</td>\n",
              "      <td>0</td>\n",
              "      <td>0</td>\n",
              "      <td>0</td>\n",
              "      <td>0</td>\n",
              "      <td>0</td>\n",
              "      <td>0</td>\n",
              "      <td>0</td>\n",
              "      <td>0</td>\n",
              "      <td>0</td>\n",
              "      <td>0</td>\n",
              "      <td>0</td>\n",
              "      <td>0</td>\n",
              "      <td>0</td>\n",
              "      <td>0</td>\n",
              "    </tr>\n",
              "  </tbody>\n",
              "</table>\n",
              "<p>1309 rows × 186 columns</p>\n",
              "</div>"
            ],
            "text/plain": [
              "      cabin_A10  cabin_A11  cabin_A14  ...  cabin_F4  cabin_G6  cabin_T\n",
              "0             0          0          0  ...         0         0        0\n",
              "1             0          0          0  ...         0         0        0\n",
              "2             0          0          0  ...         0         0        0\n",
              "3             0          0          0  ...         0         0        0\n",
              "4             0          0          0  ...         0         0        0\n",
              "...         ...        ...        ...  ...       ...       ...      ...\n",
              "1304          0          0          0  ...         0         0        0\n",
              "1305          0          0          0  ...         0         0        0\n",
              "1306          0          0          0  ...         0         0        0\n",
              "1307          0          0          0  ...         0         0        0\n",
              "1308          0          0          0  ...         0         0        0\n",
              "\n",
              "[1309 rows x 186 columns]"
            ]
          },
          "metadata": {
            "tags": []
          },
          "execution_count": 75
        }
      ]
    },
    {
      "cell_type": "markdown",
      "metadata": {
        "id": "uNpjRBokSqma"
      },
      "source": [
        "# Mencari clue dari fitur lainnya\n",
        "\n",
        "## Melihat *survival rate* penumpang dari fitur yang ada"
      ]
    },
    {
      "cell_type": "code",
      "metadata": {
        "id": "RilYVFnDTfDl",
        "colab": {
          "base_uri": "https://localhost:8080/",
          "height": 530
        },
        "outputId": "ed1447b9-db07-4ad8-f315-ede66dfaa1e5"
      },
      "source": [
        "df2.head()"
      ],
      "execution_count": 76,
      "outputs": [
        {
          "output_type": "execute_result",
          "data": {
            "text/html": [
              "<div>\n",
              "<style scoped>\n",
              "    .dataframe tbody tr th:only-of-type {\n",
              "        vertical-align: middle;\n",
              "    }\n",
              "\n",
              "    .dataframe tbody tr th {\n",
              "        vertical-align: top;\n",
              "    }\n",
              "\n",
              "    .dataframe thead th {\n",
              "        text-align: right;\n",
              "    }\n",
              "</style>\n",
              "<table border=\"1\" class=\"dataframe\">\n",
              "  <thead>\n",
              "    <tr style=\"text-align: right;\">\n",
              "      <th></th>\n",
              "      <th>pclass</th>\n",
              "      <th>survived</th>\n",
              "      <th>name</th>\n",
              "      <th>sex</th>\n",
              "      <th>age</th>\n",
              "      <th>sibsp</th>\n",
              "      <th>parch</th>\n",
              "      <th>ticket</th>\n",
              "      <th>fare</th>\n",
              "      <th>cabin</th>\n",
              "      <th>embarked</th>\n",
              "      <th>boat</th>\n",
              "      <th>body</th>\n",
              "      <th>home.dest</th>\n",
              "      <th>Title</th>\n",
              "      <th>missing_indicator</th>\n",
              "      <th>fare_sqrt</th>\n",
              "      <th>fare_log</th>\n",
              "      <th>age_minmax</th>\n",
              "      <th>age_std</th>\n",
              "      <th>age_binned</th>\n",
              "      <th>age_binned2</th>\n",
              "      <th>age_binned_q</th>\n",
              "    </tr>\n",
              "  </thead>\n",
              "  <tbody>\n",
              "    <tr>\n",
              "      <th>0</th>\n",
              "      <td>1</td>\n",
              "      <td>1</td>\n",
              "      <td>Allen, Miss. Elisabeth Walton</td>\n",
              "      <td>female</td>\n",
              "      <td>29.00</td>\n",
              "      <td>0</td>\n",
              "      <td>0</td>\n",
              "      <td>24160</td>\n",
              "      <td>211.3375</td>\n",
              "      <td>B5</td>\n",
              "      <td>S</td>\n",
              "      <td>2</td>\n",
              "      <td>NaN</td>\n",
              "      <td>St Louis, MO</td>\n",
              "      <td>Miss</td>\n",
              "      <td>False</td>\n",
              "      <td>14.537452</td>\n",
              "      <td>5.358177</td>\n",
              "      <td>0.361142</td>\n",
              "      <td>-0.043485</td>\n",
              "      <td>dewasa</td>\n",
              "      <td>25.0</td>\n",
              "      <td>2</td>\n",
              "    </tr>\n",
              "    <tr>\n",
              "      <th>1</th>\n",
              "      <td>1</td>\n",
              "      <td>1</td>\n",
              "      <td>Allison, Master. Hudson Trevor</td>\n",
              "      <td>male</td>\n",
              "      <td>0.92</td>\n",
              "      <td>1</td>\n",
              "      <td>2</td>\n",
              "      <td>113781</td>\n",
              "      <td>151.5500</td>\n",
              "      <td>C22 C26</td>\n",
              "      <td>S</td>\n",
              "      <td>11</td>\n",
              "      <td>NaN</td>\n",
              "      <td>Montreal, PQ / Chesterville, ON</td>\n",
              "      <td>Master</td>\n",
              "      <td>False</td>\n",
              "      <td>12.310565</td>\n",
              "      <td>5.027492</td>\n",
              "      <td>0.009395</td>\n",
              "      <td>-2.175570</td>\n",
              "      <td>anak-anak</td>\n",
              "      <td>5.0</td>\n",
              "      <td>1</td>\n",
              "    </tr>\n",
              "    <tr>\n",
              "      <th>2</th>\n",
              "      <td>1</td>\n",
              "      <td>0</td>\n",
              "      <td>Allison, Miss. Helen Loraine</td>\n",
              "      <td>female</td>\n",
              "      <td>2.00</td>\n",
              "      <td>1</td>\n",
              "      <td>2</td>\n",
              "      <td>113781</td>\n",
              "      <td>151.5500</td>\n",
              "      <td>C22 C26</td>\n",
              "      <td>S</td>\n",
              "      <td>NaN</td>\n",
              "      <td>NaN</td>\n",
              "      <td>Montreal, PQ / Chesterville, ON</td>\n",
              "      <td>Miss</td>\n",
              "      <td>False</td>\n",
              "      <td>12.310565</td>\n",
              "      <td>5.027492</td>\n",
              "      <td>0.022924</td>\n",
              "      <td>-2.093567</td>\n",
              "      <td>anak-anak</td>\n",
              "      <td>5.0</td>\n",
              "      <td>1</td>\n",
              "    </tr>\n",
              "    <tr>\n",
              "      <th>3</th>\n",
              "      <td>1</td>\n",
              "      <td>0</td>\n",
              "      <td>Allison, Mr. Hudson Joshua Creighton</td>\n",
              "      <td>male</td>\n",
              "      <td>30.00</td>\n",
              "      <td>1</td>\n",
              "      <td>2</td>\n",
              "      <td>113781</td>\n",
              "      <td>151.5500</td>\n",
              "      <td>C22 C26</td>\n",
              "      <td>S</td>\n",
              "      <td>NaN</td>\n",
              "      <td>135.0</td>\n",
              "      <td>Montreal, PQ / Chesterville, ON</td>\n",
              "      <td>Mr</td>\n",
              "      <td>False</td>\n",
              "      <td>12.310565</td>\n",
              "      <td>5.027492</td>\n",
              "      <td>0.373669</td>\n",
              "      <td>0.032444</td>\n",
              "      <td>dewasa</td>\n",
              "      <td>25.0</td>\n",
              "      <td>2</td>\n",
              "    </tr>\n",
              "    <tr>\n",
              "      <th>4</th>\n",
              "      <td>1</td>\n",
              "      <td>0</td>\n",
              "      <td>Allison, Mrs. Hudson J C (Bessie Waldo Daniels)</td>\n",
              "      <td>female</td>\n",
              "      <td>25.00</td>\n",
              "      <td>1</td>\n",
              "      <td>2</td>\n",
              "      <td>113781</td>\n",
              "      <td>151.5500</td>\n",
              "      <td>C22 C26</td>\n",
              "      <td>S</td>\n",
              "      <td>NaN</td>\n",
              "      <td>NaN</td>\n",
              "      <td>Montreal, PQ / Chesterville, ON</td>\n",
              "      <td>Mrs</td>\n",
              "      <td>False</td>\n",
              "      <td>12.310565</td>\n",
              "      <td>5.027492</td>\n",
              "      <td>0.311036</td>\n",
              "      <td>-0.347201</td>\n",
              "      <td>dewasa</td>\n",
              "      <td>25.0</td>\n",
              "      <td>2</td>\n",
              "    </tr>\n",
              "  </tbody>\n",
              "</table>\n",
              "</div>"
            ],
            "text/plain": [
              "   pclass  survived  ... age_binned2 age_binned_q\n",
              "0       1         1  ...        25.0            2\n",
              "1       1         1  ...         5.0            1\n",
              "2       1         0  ...         5.0            1\n",
              "3       1         0  ...        25.0            2\n",
              "4       1         0  ...        25.0            2\n",
              "\n",
              "[5 rows x 23 columns]"
            ]
          },
          "metadata": {
            "tags": []
          },
          "execution_count": 76
        }
      ]
    },
    {
      "cell_type": "code",
      "metadata": {
        "colab": {
          "base_uri": "https://localhost:8080/",
          "height": 142
        },
        "id": "ljUukxEnfGfy",
        "outputId": "eff85b17-e3bc-484f-f0d7-9dc570c07f99"
      },
      "source": [
        "df2[['pclass', 'survived']].groupby(['pclass'], as_index=False).mean().sort_values(by='survived', ascending=False)"
      ],
      "execution_count": 77,
      "outputs": [
        {
          "output_type": "execute_result",
          "data": {
            "text/html": [
              "<div>\n",
              "<style scoped>\n",
              "    .dataframe tbody tr th:only-of-type {\n",
              "        vertical-align: middle;\n",
              "    }\n",
              "\n",
              "    .dataframe tbody tr th {\n",
              "        vertical-align: top;\n",
              "    }\n",
              "\n",
              "    .dataframe thead th {\n",
              "        text-align: right;\n",
              "    }\n",
              "</style>\n",
              "<table border=\"1\" class=\"dataframe\">\n",
              "  <thead>\n",
              "    <tr style=\"text-align: right;\">\n",
              "      <th></th>\n",
              "      <th>pclass</th>\n",
              "      <th>survived</th>\n",
              "    </tr>\n",
              "  </thead>\n",
              "  <tbody>\n",
              "    <tr>\n",
              "      <th>0</th>\n",
              "      <td>1</td>\n",
              "      <td>0.619195</td>\n",
              "    </tr>\n",
              "    <tr>\n",
              "      <th>1</th>\n",
              "      <td>2</td>\n",
              "      <td>0.429603</td>\n",
              "    </tr>\n",
              "    <tr>\n",
              "      <th>2</th>\n",
              "      <td>3</td>\n",
              "      <td>0.255289</td>\n",
              "    </tr>\n",
              "  </tbody>\n",
              "</table>\n",
              "</div>"
            ],
            "text/plain": [
              "   pclass  survived\n",
              "0       1  0.619195\n",
              "1       2  0.429603\n",
              "2       3  0.255289"
            ]
          },
          "metadata": {
            "tags": []
          },
          "execution_count": 77
        }
      ]
    },
    {
      "cell_type": "code",
      "metadata": {
        "colab": {
          "base_uri": "https://localhost:8080/",
          "height": 111
        },
        "id": "bzEcDUJSfUXw",
        "outputId": "a9de3b08-0aa8-4467-ca44-58d3a6217510"
      },
      "source": [
        "df2[['sex', 'survived']].groupby(['sex'], as_index=False).mean().sort_values(by='survived', ascending=False)"
      ],
      "execution_count": 78,
      "outputs": [
        {
          "output_type": "execute_result",
          "data": {
            "text/html": [
              "<div>\n",
              "<style scoped>\n",
              "    .dataframe tbody tr th:only-of-type {\n",
              "        vertical-align: middle;\n",
              "    }\n",
              "\n",
              "    .dataframe tbody tr th {\n",
              "        vertical-align: top;\n",
              "    }\n",
              "\n",
              "    .dataframe thead th {\n",
              "        text-align: right;\n",
              "    }\n",
              "</style>\n",
              "<table border=\"1\" class=\"dataframe\">\n",
              "  <thead>\n",
              "    <tr style=\"text-align: right;\">\n",
              "      <th></th>\n",
              "      <th>sex</th>\n",
              "      <th>survived</th>\n",
              "    </tr>\n",
              "  </thead>\n",
              "  <tbody>\n",
              "    <tr>\n",
              "      <th>0</th>\n",
              "      <td>female</td>\n",
              "      <td>0.727468</td>\n",
              "    </tr>\n",
              "    <tr>\n",
              "      <th>1</th>\n",
              "      <td>male</td>\n",
              "      <td>0.190985</td>\n",
              "    </tr>\n",
              "  </tbody>\n",
              "</table>\n",
              "</div>"
            ],
            "text/plain": [
              "      sex  survived\n",
              "0  female  0.727468\n",
              "1    male  0.190985"
            ]
          },
          "metadata": {
            "tags": []
          },
          "execution_count": 78
        }
      ]
    },
    {
      "cell_type": "code",
      "metadata": {
        "colab": {
          "base_uri": "https://localhost:8080/",
          "height": 266
        },
        "id": "KeqEX4f7fvuV",
        "outputId": "20ffab34-09c6-4c50-9860-c7d2dcc51b72"
      },
      "source": [
        "df2[['sibsp', 'survived']].groupby(['sibsp'], as_index=False).mean().sort_values(by='survived', ascending=False)"
      ],
      "execution_count": 79,
      "outputs": [
        {
          "output_type": "execute_result",
          "data": {
            "text/html": [
              "<div>\n",
              "<style scoped>\n",
              "    .dataframe tbody tr th:only-of-type {\n",
              "        vertical-align: middle;\n",
              "    }\n",
              "\n",
              "    .dataframe tbody tr th {\n",
              "        vertical-align: top;\n",
              "    }\n",
              "\n",
              "    .dataframe thead th {\n",
              "        text-align: right;\n",
              "    }\n",
              "</style>\n",
              "<table border=\"1\" class=\"dataframe\">\n",
              "  <thead>\n",
              "    <tr style=\"text-align: right;\">\n",
              "      <th></th>\n",
              "      <th>sibsp</th>\n",
              "      <th>survived</th>\n",
              "    </tr>\n",
              "  </thead>\n",
              "  <tbody>\n",
              "    <tr>\n",
              "      <th>1</th>\n",
              "      <td>1</td>\n",
              "      <td>0.510972</td>\n",
              "    </tr>\n",
              "    <tr>\n",
              "      <th>2</th>\n",
              "      <td>2</td>\n",
              "      <td>0.452381</td>\n",
              "    </tr>\n",
              "    <tr>\n",
              "      <th>0</th>\n",
              "      <td>0</td>\n",
              "      <td>0.346801</td>\n",
              "    </tr>\n",
              "    <tr>\n",
              "      <th>3</th>\n",
              "      <td>3</td>\n",
              "      <td>0.300000</td>\n",
              "    </tr>\n",
              "    <tr>\n",
              "      <th>4</th>\n",
              "      <td>4</td>\n",
              "      <td>0.136364</td>\n",
              "    </tr>\n",
              "    <tr>\n",
              "      <th>5</th>\n",
              "      <td>5</td>\n",
              "      <td>0.000000</td>\n",
              "    </tr>\n",
              "    <tr>\n",
              "      <th>6</th>\n",
              "      <td>8</td>\n",
              "      <td>0.000000</td>\n",
              "    </tr>\n",
              "  </tbody>\n",
              "</table>\n",
              "</div>"
            ],
            "text/plain": [
              "   sibsp  survived\n",
              "1      1  0.510972\n",
              "2      2  0.452381\n",
              "0      0  0.346801\n",
              "3      3  0.300000\n",
              "4      4  0.136364\n",
              "5      5  0.000000\n",
              "6      8  0.000000"
            ]
          },
          "metadata": {
            "tags": []
          },
          "execution_count": 79
        }
      ]
    },
    {
      "cell_type": "code",
      "metadata": {
        "colab": {
          "base_uri": "https://localhost:8080/",
          "height": 297
        },
        "id": "dhrDgBS_f62o",
        "outputId": "cf4f8ffc-175c-434d-8659-3fe8eb7abe11"
      },
      "source": [
        "df2[['parch', 'survived']].groupby(['parch'], as_index=False).mean().sort_values(by='survived', ascending=False)"
      ],
      "execution_count": 80,
      "outputs": [
        {
          "output_type": "execute_result",
          "data": {
            "text/html": [
              "<div>\n",
              "<style scoped>\n",
              "    .dataframe tbody tr th:only-of-type {\n",
              "        vertical-align: middle;\n",
              "    }\n",
              "\n",
              "    .dataframe tbody tr th {\n",
              "        vertical-align: top;\n",
              "    }\n",
              "\n",
              "    .dataframe thead th {\n",
              "        text-align: right;\n",
              "    }\n",
              "</style>\n",
              "<table border=\"1\" class=\"dataframe\">\n",
              "  <thead>\n",
              "    <tr style=\"text-align: right;\">\n",
              "      <th></th>\n",
              "      <th>parch</th>\n",
              "      <th>survived</th>\n",
              "    </tr>\n",
              "  </thead>\n",
              "  <tbody>\n",
              "    <tr>\n",
              "      <th>3</th>\n",
              "      <td>3</td>\n",
              "      <td>0.625000</td>\n",
              "    </tr>\n",
              "    <tr>\n",
              "      <th>1</th>\n",
              "      <td>1</td>\n",
              "      <td>0.588235</td>\n",
              "    </tr>\n",
              "    <tr>\n",
              "      <th>2</th>\n",
              "      <td>2</td>\n",
              "      <td>0.504425</td>\n",
              "    </tr>\n",
              "    <tr>\n",
              "      <th>0</th>\n",
              "      <td>0</td>\n",
              "      <td>0.335329</td>\n",
              "    </tr>\n",
              "    <tr>\n",
              "      <th>4</th>\n",
              "      <td>4</td>\n",
              "      <td>0.166667</td>\n",
              "    </tr>\n",
              "    <tr>\n",
              "      <th>5</th>\n",
              "      <td>5</td>\n",
              "      <td>0.166667</td>\n",
              "    </tr>\n",
              "    <tr>\n",
              "      <th>6</th>\n",
              "      <td>6</td>\n",
              "      <td>0.000000</td>\n",
              "    </tr>\n",
              "    <tr>\n",
              "      <th>7</th>\n",
              "      <td>9</td>\n",
              "      <td>0.000000</td>\n",
              "    </tr>\n",
              "  </tbody>\n",
              "</table>\n",
              "</div>"
            ],
            "text/plain": [
              "   parch  survived\n",
              "3      3  0.625000\n",
              "1      1  0.588235\n",
              "2      2  0.504425\n",
              "0      0  0.335329\n",
              "4      4  0.166667\n",
              "5      5  0.166667\n",
              "6      6  0.000000\n",
              "7      9  0.000000"
            ]
          },
          "metadata": {
            "tags": []
          },
          "execution_count": 80
        }
      ]
    },
    {
      "cell_type": "code",
      "metadata": {
        "id": "GZ5zBByhgMCG"
      },
      "source": [
        "# Import tambahan library\n",
        "import random as rnd\n",
        "import matplotlib.pyplot as plt\n",
        "%matplotlib inline"
      ],
      "execution_count": 81,
      "outputs": []
    },
    {
      "cell_type": "code",
      "metadata": {
        "colab": {
          "base_uri": "https://localhost:8080/",
          "height": 519
        },
        "id": "5PV0T4TRgeJv",
        "outputId": "0e8e7694-decf-499d-a574-c3028dd17a0e"
      },
      "source": [
        "# Melihat korelasi antara kelas penumpang dengan tingkat survival\n",
        "grid = sns.FacetGrid(df2, col='survived', row='pclass', size=2.2, aspect=1.6)\n",
        "grid.map(plt.hist, 'age', alpha=.5, bins=20)\n",
        "grid.add_legend();"
      ],
      "execution_count": 82,
      "outputs": [
        {
          "output_type": "stream",
          "text": [
            "/usr/local/lib/python3.7/dist-packages/seaborn/axisgrid.py:316: UserWarning: The `size` parameter has been renamed to `height`; please update your code.\n",
            "  warnings.warn(msg, UserWarning)\n"
          ],
          "name": "stderr"
        },
        {
          "output_type": "display_data",
          "data": {
            "image/png": "[encoded data removed]",
            "text/plain": [
              "<Figure size 514.88x475.2 with 6 Axes>"
            ]
          },
          "metadata": {
            "tags": [],
            "needs_background": "light"
          }
        }
      ]
    },
    {
      "cell_type": "code",
      "metadata": {
        "colab": {
          "base_uri": "https://localhost:8080/",
          "height": 587
        },
        "id": "2_wfvEh_g_Pq",
        "outputId": "be97480f-14e2-4cbb-b565-f084c9dc0b9a"
      },
      "source": [
        "grid = sns.FacetGrid(df2, row='embarked', size=2.2, aspect=1.6)\n",
        "grid.map(sns.pointplot, 'pclass', 'survived', 'sex', palette='deep')\n",
        "grid.add_legend();"
      ],
      "execution_count": 83,
      "outputs": [
        {
          "output_type": "stream",
          "text": [
            "/usr/local/lib/python3.7/dist-packages/seaborn/axisgrid.py:316: UserWarning: The `size` parameter has been renamed to `height`; please update your code.\n",
            "  warnings.warn(msg, UserWarning)\n",
            "/usr/local/lib/python3.7/dist-packages/seaborn/axisgrid.py:643: UserWarning: Using the pointplot function without specifying `order` is likely to produce an incorrect plot.\n",
            "  warnings.warn(warning)\n",
            "/usr/local/lib/python3.7/dist-packages/seaborn/axisgrid.py:648: UserWarning: Using the pointplot function without specifying `hue_order` is likely to produce an incorrect plot.\n",
            "  warnings.warn(warning)\n"
          ],
          "name": "stderr"
        },
        {
          "output_type": "display_data",
          "data": {
            "image/png": "[encoded data removed]",
            "text/plain": [
              "<Figure size 323.94x475.2 with 3 Axes>"
            ]
          },
          "metadata": {
            "tags": [],
            "needs_background": "light"
          }
        }
      ]
    },
    {
      "cell_type": "code",
      "metadata": {
        "colab": {
          "base_uri": "https://localhost:8080/",
          "height": 553
        },
        "id": "BFlrjsA7hNvC",
        "outputId": "020a8f8a-4adf-44d8-f35b-99c28257eb17"
      },
      "source": [
        "grid = sns.FacetGrid(df2, col='survived', row='embarked', size=2.2, aspect=1.6)\n",
        "grid.map(sns.barplot, 'sex', 'fare', alpha=.5, ci=None)\n",
        "grid.add_legend();"
      ],
      "execution_count": 84,
      "outputs": [
        {
          "output_type": "stream",
          "text": [
            "/usr/local/lib/python3.7/dist-packages/seaborn/axisgrid.py:316: UserWarning: The `size` parameter has been renamed to `height`; please update your code.\n",
            "  warnings.warn(msg, UserWarning)\n",
            "/usr/local/lib/python3.7/dist-packages/seaborn/axisgrid.py:643: UserWarning: Using the barplot function without specifying `order` is likely to produce an incorrect plot.\n",
            "  warnings.warn(warning)\n"
          ],
          "name": "stderr"
        },
        {
          "output_type": "display_data",
          "data": {
            "image/png": "[encoded data removed]",
            "text/plain": [
              "<Figure size 514.88x475.2 with 6 Axes>"
            ]
          },
          "metadata": {
            "tags": [],
            "needs_background": "light"
          }
        }
      ]
    },
    {
      "cell_type": "code",
      "metadata": {
        "colab": {
          "base_uri": "https://localhost:8080/",
          "height": 530
        },
        "id": "LQ3dNJ-Ohp-5",
        "outputId": "02fe500f-4aec-40a3-8136-2b9eec0e9e45"
      },
      "source": [
        "df2.head()"
      ],
      "execution_count": 85,
      "outputs": [
        {
          "output_type": "execute_result",
          "data": {
            "text/html": [
              "<div>\n",
              "<style scoped>\n",
              "    .dataframe tbody tr th:only-of-type {\n",
              "        vertical-align: middle;\n",
              "    }\n",
              "\n",
              "    .dataframe tbody tr th {\n",
              "        vertical-align: top;\n",
              "    }\n",
              "\n",
              "    .dataframe thead th {\n",
              "        text-align: right;\n",
              "    }\n",
              "</style>\n",
              "<table border=\"1\" class=\"dataframe\">\n",
              "  <thead>\n",
              "    <tr style=\"text-align: right;\">\n",
              "      <th></th>\n",
              "      <th>pclass</th>\n",
              "      <th>survived</th>\n",
              "      <th>name</th>\n",
              "      <th>sex</th>\n",
              "      <th>age</th>\n",
              "      <th>sibsp</th>\n",
              "      <th>parch</th>\n",
              "      <th>ticket</th>\n",
              "      <th>fare</th>\n",
              "      <th>cabin</th>\n",
              "      <th>embarked</th>\n",
              "      <th>boat</th>\n",
              "      <th>body</th>\n",
              "      <th>home.dest</th>\n",
              "      <th>Title</th>\n",
              "      <th>missing_indicator</th>\n",
              "      <th>fare_sqrt</th>\n",
              "      <th>fare_log</th>\n",
              "      <th>age_minmax</th>\n",
              "      <th>age_std</th>\n",
              "      <th>age_binned</th>\n",
              "      <th>age_binned2</th>\n",
              "      <th>age_binned_q</th>\n",
              "    </tr>\n",
              "  </thead>\n",
              "  <tbody>\n",
              "    <tr>\n",
              "      <th>0</th>\n",
              "      <td>1</td>\n",
              "      <td>1</td>\n",
              "      <td>Allen, Miss. Elisabeth Walton</td>\n",
              "      <td>female</td>\n",
              "      <td>29.00</td>\n",
              "      <td>0</td>\n",
              "      <td>0</td>\n",
              "      <td>24160</td>\n",
              "      <td>211.3375</td>\n",
              "      <td>B5</td>\n",
              "      <td>S</td>\n",
              "      <td>2</td>\n",
              "      <td>NaN</td>\n",
              "      <td>St Louis, MO</td>\n",
              "      <td>Miss</td>\n",
              "      <td>False</td>\n",
              "      <td>14.537452</td>\n",
              "      <td>5.358177</td>\n",
              "      <td>0.361142</td>\n",
              "      <td>-0.043485</td>\n",
              "      <td>dewasa</td>\n",
              "      <td>25.0</td>\n",
              "      <td>2</td>\n",
              "    </tr>\n",
              "    <tr>\n",
              "      <th>1</th>\n",
              "      <td>1</td>\n",
              "      <td>1</td>\n",
              "      <td>Allison, Master. Hudson Trevor</td>\n",
              "      <td>male</td>\n",
              "      <td>0.92</td>\n",
              "      <td>1</td>\n",
              "      <td>2</td>\n",
              "      <td>113781</td>\n",
              "      <td>151.5500</td>\n",
              "      <td>C22 C26</td>\n",
              "      <td>S</td>\n",
              "      <td>11</td>\n",
              "      <td>NaN</td>\n",
              "      <td>Montreal, PQ / Chesterville, ON</td>\n",
              "      <td>Master</td>\n",
              "      <td>False</td>\n",
              "      <td>12.310565</td>\n",
              "      <td>5.027492</td>\n",
              "      <td>0.009395</td>\n",
              "      <td>-2.175570</td>\n",
              "      <td>anak-anak</td>\n",
              "      <td>5.0</td>\n",
              "      <td>1</td>\n",
              "    </tr>\n",
              "    <tr>\n",
              "      <th>2</th>\n",
              "      <td>1</td>\n",
              "      <td>0</td>\n",
              "      <td>Allison, Miss. Helen Loraine</td>\n",
              "      <td>female</td>\n",
              "      <td>2.00</td>\n",
              "      <td>1</td>\n",
              "      <td>2</td>\n",
              "      <td>113781</td>\n",
              "      <td>151.5500</td>\n",
              "      <td>C22 C26</td>\n",
              "      <td>S</td>\n",
              "      <td>NaN</td>\n",
              "      <td>NaN</td>\n",
              "      <td>Montreal, PQ / Chesterville, ON</td>\n",
              "      <td>Miss</td>\n",
              "      <td>False</td>\n",
              "      <td>12.310565</td>\n",
              "      <td>5.027492</td>\n",
              "      <td>0.022924</td>\n",
              "      <td>-2.093567</td>\n",
              "      <td>anak-anak</td>\n",
              "      <td>5.0</td>\n",
              "      <td>1</td>\n",
              "    </tr>\n",
              "    <tr>\n",
              "      <th>3</th>\n",
              "      <td>1</td>\n",
              "      <td>0</td>\n",
              "      <td>Allison, Mr. Hudson Joshua Creighton</td>\n",
              "      <td>male</td>\n",
              "      <td>30.00</td>\n",
              "      <td>1</td>\n",
              "      <td>2</td>\n",
              "      <td>113781</td>\n",
              "      <td>151.5500</td>\n",
              "      <td>C22 C26</td>\n",
              "      <td>S</td>\n",
              "      <td>NaN</td>\n",
              "      <td>135.0</td>\n",
              "      <td>Montreal, PQ / Chesterville, ON</td>\n",
              "      <td>Mr</td>\n",
              "      <td>False</td>\n",
              "      <td>12.310565</td>\n",
              "      <td>5.027492</td>\n",
              "      <td>0.373669</td>\n",
              "      <td>0.032444</td>\n",
              "      <td>dewasa</td>\n",
              "      <td>25.0</td>\n",
              "      <td>2</td>\n",
              "    </tr>\n",
              "    <tr>\n",
              "      <th>4</th>\n",
              "      <td>1</td>\n",
              "      <td>0</td>\n",
              "      <td>Allison, Mrs. Hudson J C (Bessie Waldo Daniels)</td>\n",
              "      <td>female</td>\n",
              "      <td>25.00</td>\n",
              "      <td>1</td>\n",
              "      <td>2</td>\n",
              "      <td>113781</td>\n",
              "      <td>151.5500</td>\n",
              "      <td>C22 C26</td>\n",
              "      <td>S</td>\n",
              "      <td>NaN</td>\n",
              "      <td>NaN</td>\n",
              "      <td>Montreal, PQ / Chesterville, ON</td>\n",
              "      <td>Mrs</td>\n",
              "      <td>False</td>\n",
              "      <td>12.310565</td>\n",
              "      <td>5.027492</td>\n",
              "      <td>0.311036</td>\n",
              "      <td>-0.347201</td>\n",
              "      <td>dewasa</td>\n",
              "      <td>25.0</td>\n",
              "      <td>2</td>\n",
              "    </tr>\n",
              "  </tbody>\n",
              "</table>\n",
              "</div>"
            ],
            "text/plain": [
              "   pclass  survived  ... age_binned2 age_binned_q\n",
              "0       1         1  ...        25.0            2\n",
              "1       1         1  ...         5.0            1\n",
              "2       1         0  ...         5.0            1\n",
              "3       1         0  ...        25.0            2\n",
              "4       1         0  ...        25.0            2\n",
              "\n",
              "[5 rows x 23 columns]"
            ]
          },
          "metadata": {
            "tags": []
          },
          "execution_count": 85
        }
      ]
    },
    {
      "cell_type": "markdown",
      "metadata": {
        "id": "e4sD6zr-TTVA"
      },
      "source": [
        "## Merubah dan menghapus fitur"
      ]
    },
    {
      "cell_type": "code",
      "metadata": {
        "id": "0tY926MrTgjj",
        "colab": {
          "base_uri": "https://localhost:8080/",
          "height": 444
        },
        "outputId": "672fb434-c03e-48d2-f38a-3ae8b6e9e2b9"
      },
      "source": [
        "df2.describe(include='all')"
      ],
      "execution_count": 86,
      "outputs": [
        {
          "output_type": "execute_result",
          "data": {
            "text/html": [
              "<div>\n",
              "<style scoped>\n",
              "    .dataframe tbody tr th:only-of-type {\n",
              "        vertical-align: middle;\n",
              "    }\n",
              "\n",
              "    .dataframe tbody tr th {\n",
              "        vertical-align: top;\n",
              "    }\n",
              "\n",
              "    .dataframe thead th {\n",
              "        text-align: right;\n",
              "    }\n",
              "</style>\n",
              "<table border=\"1\" class=\"dataframe\">\n",
              "  <thead>\n",
              "    <tr style=\"text-align: right;\">\n",
              "      <th></th>\n",
              "      <th>pclass</th>\n",
              "      <th>survived</th>\n",
              "      <th>name</th>\n",
              "      <th>sex</th>\n",
              "      <th>age</th>\n",
              "      <th>sibsp</th>\n",
              "      <th>parch</th>\n",
              "      <th>ticket</th>\n",
              "      <th>fare</th>\n",
              "      <th>cabin</th>\n",
              "      <th>embarked</th>\n",
              "      <th>boat</th>\n",
              "      <th>body</th>\n",
              "      <th>home.dest</th>\n",
              "      <th>Title</th>\n",
              "      <th>missing_indicator</th>\n",
              "      <th>fare_sqrt</th>\n",
              "      <th>fare_log</th>\n",
              "      <th>age_minmax</th>\n",
              "      <th>age_std</th>\n",
              "      <th>age_binned</th>\n",
              "      <th>age_binned2</th>\n",
              "      <th>age_binned_q</th>\n",
              "    </tr>\n",
              "  </thead>\n",
              "  <tbody>\n",
              "    <tr>\n",
              "      <th>count</th>\n",
              "      <td>1309.000000</td>\n",
              "      <td>1309.000000</td>\n",
              "      <td>1309</td>\n",
              "      <td>1309</td>\n",
              "      <td>1309.000000</td>\n",
              "      <td>1309.000000</td>\n",
              "      <td>1309.000000</td>\n",
              "      <td>1309</td>\n",
              "      <td>1308.000000</td>\n",
              "      <td>295</td>\n",
              "      <td>1307</td>\n",
              "      <td>486</td>\n",
              "      <td>121.000000</td>\n",
              "      <td>745</td>\n",
              "      <td>1309</td>\n",
              "      <td>1309</td>\n",
              "      <td>1308.000000</td>\n",
              "      <td>1308.000000</td>\n",
              "      <td>1309.000000</td>\n",
              "      <td>1.309000e+03</td>\n",
              "      <td>1309</td>\n",
              "      <td>1309.0</td>\n",
              "      <td>1309</td>\n",
              "    </tr>\n",
              "    <tr>\n",
              "      <th>unique</th>\n",
              "      <td>NaN</td>\n",
              "      <td>NaN</td>\n",
              "      <td>1307</td>\n",
              "      <td>2</td>\n",
              "      <td>NaN</td>\n",
              "      <td>NaN</td>\n",
              "      <td>NaN</td>\n",
              "      <td>929</td>\n",
              "      <td>NaN</td>\n",
              "      <td>186</td>\n",
              "      <td>3</td>\n",
              "      <td>27</td>\n",
              "      <td>NaN</td>\n",
              "      <td>369</td>\n",
              "      <td>5</td>\n",
              "      <td>2</td>\n",
              "      <td>NaN</td>\n",
              "      <td>NaN</td>\n",
              "      <td>NaN</td>\n",
              "      <td>NaN</td>\n",
              "      <td>4</td>\n",
              "      <td>8.0</td>\n",
              "      <td>4</td>\n",
              "    </tr>\n",
              "    <tr>\n",
              "      <th>top</th>\n",
              "      <td>NaN</td>\n",
              "      <td>NaN</td>\n",
              "      <td>Connolly, Miss. Kate</td>\n",
              "      <td>male</td>\n",
              "      <td>NaN</td>\n",
              "      <td>NaN</td>\n",
              "      <td>NaN</td>\n",
              "      <td>CA. 2343</td>\n",
              "      <td>NaN</td>\n",
              "      <td>C23 C25 C27</td>\n",
              "      <td>S</td>\n",
              "      <td>13</td>\n",
              "      <td>NaN</td>\n",
              "      <td>New York, NY</td>\n",
              "      <td>Mr</td>\n",
              "      <td>False</td>\n",
              "      <td>NaN</td>\n",
              "      <td>NaN</td>\n",
              "      <td>NaN</td>\n",
              "      <td>NaN</td>\n",
              "      <td>dewasa</td>\n",
              "      <td>25.0</td>\n",
              "      <td>2</td>\n",
              "    </tr>\n",
              "    <tr>\n",
              "      <th>freq</th>\n",
              "      <td>NaN</td>\n",
              "      <td>NaN</td>\n",
              "      <td>2</td>\n",
              "      <td>843</td>\n",
              "      <td>NaN</td>\n",
              "      <td>NaN</td>\n",
              "      <td>NaN</td>\n",
              "      <td>11</td>\n",
              "      <td>NaN</td>\n",
              "      <td>6</td>\n",
              "      <td>914</td>\n",
              "      <td>39</td>\n",
              "      <td>NaN</td>\n",
              "      <td>64</td>\n",
              "      <td>775</td>\n",
              "      <td>1046</td>\n",
              "      <td>NaN</td>\n",
              "      <td>NaN</td>\n",
              "      <td>NaN</td>\n",
              "      <td>NaN</td>\n",
              "      <td>825</td>\n",
              "      <td>588.0</td>\n",
              "      <td>452</td>\n",
              "    </tr>\n",
              "    <tr>\n",
              "      <th>mean</th>\n",
              "      <td>2.294882</td>\n",
              "      <td>0.381971</td>\n",
              "      <td>NaN</td>\n",
              "      <td>NaN</td>\n",
              "      <td>29.572704</td>\n",
              "      <td>0.498854</td>\n",
              "      <td>0.385027</td>\n",
              "      <td>NaN</td>\n",
              "      <td>33.295479</td>\n",
              "      <td>NaN</td>\n",
              "      <td>NaN</td>\n",
              "      <td>NaN</td>\n",
              "      <td>160.809917</td>\n",
              "      <td>NaN</td>\n",
              "      <td>NaN</td>\n",
              "      <td>NaN</td>\n",
              "      <td>4.909667</td>\n",
              "      <td>2.979411</td>\n",
              "      <td>0.368316</td>\n",
              "      <td>-4.211628e-16</td>\n",
              "      <td>NaN</td>\n",
              "      <td>NaN</td>\n",
              "      <td>NaN</td>\n",
              "    </tr>\n",
              "    <tr>\n",
              "      <th>std</th>\n",
              "      <td>0.837836</td>\n",
              "      <td>0.486055</td>\n",
              "      <td>NaN</td>\n",
              "      <td>NaN</td>\n",
              "      <td>13.170206</td>\n",
              "      <td>1.041658</td>\n",
              "      <td>0.865560</td>\n",
              "      <td>NaN</td>\n",
              "      <td>51.758668</td>\n",
              "      <td>NaN</td>\n",
              "      <td>NaN</td>\n",
              "      <td>NaN</td>\n",
              "      <td>97.696922</td>\n",
              "      <td>NaN</td>\n",
              "      <td>NaN</td>\n",
              "      <td>NaN</td>\n",
              "      <td>3.032768</td>\n",
              "      <td>0.968668</td>\n",
              "      <td>0.164978</td>\n",
              "      <td>1.000000e+00</td>\n",
              "      <td>NaN</td>\n",
              "      <td>NaN</td>\n",
              "      <td>NaN</td>\n",
              "    </tr>\n",
              "    <tr>\n",
              "      <th>min</th>\n",
              "      <td>1.000000</td>\n",
              "      <td>0.000000</td>\n",
              "      <td>NaN</td>\n",
              "      <td>NaN</td>\n",
              "      <td>0.170000</td>\n",
              "      <td>0.000000</td>\n",
              "      <td>0.000000</td>\n",
              "      <td>NaN</td>\n",
              "      <td>0.000000</td>\n",
              "      <td>NaN</td>\n",
              "      <td>NaN</td>\n",
              "      <td>NaN</td>\n",
              "      <td>1.000000</td>\n",
              "      <td>NaN</td>\n",
              "      <td>NaN</td>\n",
              "      <td>NaN</td>\n",
              "      <td>0.000000</td>\n",
              "      <td>0.000000</td>\n",
              "      <td>0.000000</td>\n",
              "      <td>-2.232517e+00</td>\n",
              "      <td>NaN</td>\n",
              "      <td>NaN</td>\n",
              "      <td>NaN</td>\n",
              "    </tr>\n",
              "    <tr>\n",
              "      <th>25%</th>\n",
              "      <td>2.000000</td>\n",
              "      <td>0.000000</td>\n",
              "      <td>NaN</td>\n",
              "      <td>NaN</td>\n",
              "      <td>22.000000</td>\n",
              "      <td>0.000000</td>\n",
              "      <td>0.000000</td>\n",
              "      <td>NaN</td>\n",
              "      <td>7.895800</td>\n",
              "      <td>NaN</td>\n",
              "      <td>NaN</td>\n",
              "      <td>NaN</td>\n",
              "      <td>72.000000</td>\n",
              "      <td>NaN</td>\n",
              "      <td>NaN</td>\n",
              "      <td>NaN</td>\n",
              "      <td>2.809947</td>\n",
              "      <td>2.185579</td>\n",
              "      <td>0.273456</td>\n",
              "      <td>-5.749875e-01</td>\n",
              "      <td>NaN</td>\n",
              "      <td>NaN</td>\n",
              "      <td>NaN</td>\n",
              "    </tr>\n",
              "    <tr>\n",
              "      <th>50%</th>\n",
              "      <td>3.000000</td>\n",
              "      <td>0.000000</td>\n",
              "      <td>NaN</td>\n",
              "      <td>NaN</td>\n",
              "      <td>30.000000</td>\n",
              "      <td>0.000000</td>\n",
              "      <td>0.000000</td>\n",
              "      <td>NaN</td>\n",
              "      <td>14.454200</td>\n",
              "      <td>NaN</td>\n",
              "      <td>NaN</td>\n",
              "      <td>NaN</td>\n",
              "      <td>155.000000</td>\n",
              "      <td>NaN</td>\n",
              "      <td>NaN</td>\n",
              "      <td>NaN</td>\n",
              "      <td>3.801868</td>\n",
              "      <td>2.737881</td>\n",
              "      <td>0.373669</td>\n",
              "      <td>3.244411e-02</td>\n",
              "      <td>NaN</td>\n",
              "      <td>NaN</td>\n",
              "      <td>NaN</td>\n",
              "    </tr>\n",
              "    <tr>\n",
              "      <th>75%</th>\n",
              "      <td>3.000000</td>\n",
              "      <td>1.000000</td>\n",
              "      <td>NaN</td>\n",
              "      <td>NaN</td>\n",
              "      <td>36.000000</td>\n",
              "      <td>1.000000</td>\n",
              "      <td>0.000000</td>\n",
              "      <td>NaN</td>\n",
              "      <td>31.275000</td>\n",
              "      <td>NaN</td>\n",
              "      <td>NaN</td>\n",
              "      <td>NaN</td>\n",
              "      <td>256.000000</td>\n",
              "      <td>NaN</td>\n",
              "      <td>NaN</td>\n",
              "      <td>NaN</td>\n",
              "      <td>5.592406</td>\n",
              "      <td>3.474293</td>\n",
              "      <td>0.448829</td>\n",
              "      <td>4.880178e-01</td>\n",
              "      <td>NaN</td>\n",
              "      <td>NaN</td>\n",
              "      <td>NaN</td>\n",
              "    </tr>\n",
              "    <tr>\n",
              "      <th>max</th>\n",
              "      <td>3.000000</td>\n",
              "      <td>1.000000</td>\n",
              "      <td>NaN</td>\n",
              "      <td>NaN</td>\n",
              "      <td>80.000000</td>\n",
              "      <td>8.000000</td>\n",
              "      <td>9.000000</td>\n",
              "      <td>NaN</td>\n",
              "      <td>512.329200</td>\n",
              "      <td>NaN</td>\n",
              "      <td>NaN</td>\n",
              "      <td>NaN</td>\n",
              "      <td>328.000000</td>\n",
              "      <td>NaN</td>\n",
              "      <td>NaN</td>\n",
              "      <td>NaN</td>\n",
              "      <td>22.634690</td>\n",
              "      <td>6.240917</td>\n",
              "      <td>1.000000</td>\n",
              "      <td>3.828892e+00</td>\n",
              "      <td>NaN</td>\n",
              "      <td>NaN</td>\n",
              "      <td>NaN</td>\n",
              "    </tr>\n",
              "  </tbody>\n",
              "</table>\n",
              "</div>"
            ],
            "text/plain": [
              "             pclass     survived  ... age_binned2 age_binned_q\n",
              "count   1309.000000  1309.000000  ...      1309.0         1309\n",
              "unique          NaN          NaN  ...         8.0            4\n",
              "top             NaN          NaN  ...        25.0            2\n",
              "freq            NaN          NaN  ...       588.0          452\n",
              "mean       2.294882     0.381971  ...         NaN          NaN\n",
              "std        0.837836     0.486055  ...         NaN          NaN\n",
              "min        1.000000     0.000000  ...         NaN          NaN\n",
              "25%        2.000000     0.000000  ...         NaN          NaN\n",
              "50%        3.000000     0.000000  ...         NaN          NaN\n",
              "75%        3.000000     1.000000  ...         NaN          NaN\n",
              "max        3.000000     1.000000  ...         NaN          NaN\n",
              "\n",
              "[11 rows x 23 columns]"
            ]
          },
          "metadata": {
            "tags": []
          },
          "execution_count": 86
        }
      ]
    },
    {
      "cell_type": "code",
      "metadata": {
        "colab": {
          "base_uri": "https://localhost:8080/"
        },
        "id": "-A6rRZF4iK27",
        "outputId": "31513805-31c6-49c8-b1aa-f4fb9b002b0e"
      },
      "source": [
        "# Drop fitur\n",
        "print('Sebelum', df2.shape)\n",
        "\n",
        "df3 = df2.copy()\n",
        "df3 = df3.drop(['ticket', 'cabin', 'boat', 'body', 'home.dest'], axis = 1)\n",
        "\n",
        "'Sesudah', df3.shape"
      ],
      "execution_count": 87,
      "outputs": [
        {
          "output_type": "stream",
          "text": [
            "Sebelum (1309, 23)\n"
          ],
          "name": "stdout"
        },
        {
          "output_type": "execute_result",
          "data": {
            "text/plain": [
              "('Sesudah', (1309, 18))"
            ]
          },
          "metadata": {
            "tags": []
          },
          "execution_count": 87
        }
      ]
    },
    {
      "cell_type": "code",
      "metadata": {
        "colab": {
          "base_uri": "https://localhost:8080/",
          "height": 306
        },
        "id": "tE0QNFQviuET",
        "outputId": "d446823c-844f-4ba3-f2e2-2102fa54bf9e"
      },
      "source": [
        "df3.head()"
      ],
      "execution_count": 88,
      "outputs": [
        {
          "output_type": "execute_result",
          "data": {
            "text/html": [
              "<div>\n",
              "<style scoped>\n",
              "    .dataframe tbody tr th:only-of-type {\n",
              "        vertical-align: middle;\n",
              "    }\n",
              "\n",
              "    .dataframe tbody tr th {\n",
              "        vertical-align: top;\n",
              "    }\n",
              "\n",
              "    .dataframe thead th {\n",
              "        text-align: right;\n",
              "    }\n",
              "</style>\n",
              "<table border=\"1\" class=\"dataframe\">\n",
              "  <thead>\n",
              "    <tr style=\"text-align: right;\">\n",
              "      <th></th>\n",
              "      <th>pclass</th>\n",
              "      <th>survived</th>\n",
              "      <th>name</th>\n",
              "      <th>sex</th>\n",
              "      <th>age</th>\n",
              "      <th>sibsp</th>\n",
              "      <th>parch</th>\n",
              "      <th>fare</th>\n",
              "      <th>embarked</th>\n",
              "      <th>Title</th>\n",
              "      <th>missing_indicator</th>\n",
              "      <th>fare_sqrt</th>\n",
              "      <th>fare_log</th>\n",
              "      <th>age_minmax</th>\n",
              "      <th>age_std</th>\n",
              "      <th>age_binned</th>\n",
              "      <th>age_binned2</th>\n",
              "      <th>age_binned_q</th>\n",
              "    </tr>\n",
              "  </thead>\n",
              "  <tbody>\n",
              "    <tr>\n",
              "      <th>0</th>\n",
              "      <td>1</td>\n",
              "      <td>1</td>\n",
              "      <td>Allen, Miss. Elisabeth Walton</td>\n",
              "      <td>female</td>\n",
              "      <td>29.00</td>\n",
              "      <td>0</td>\n",
              "      <td>0</td>\n",
              "      <td>211.3375</td>\n",
              "      <td>S</td>\n",
              "      <td>Miss</td>\n",
              "      <td>False</td>\n",
              "      <td>14.537452</td>\n",
              "      <td>5.358177</td>\n",
              "      <td>0.361142</td>\n",
              "      <td>-0.043485</td>\n",
              "      <td>dewasa</td>\n",
              "      <td>25.0</td>\n",
              "      <td>2</td>\n",
              "    </tr>\n",
              "    <tr>\n",
              "      <th>1</th>\n",
              "      <td>1</td>\n",
              "      <td>1</td>\n",
              "      <td>Allison, Master. Hudson Trevor</td>\n",
              "      <td>male</td>\n",
              "      <td>0.92</td>\n",
              "      <td>1</td>\n",
              "      <td>2</td>\n",
              "      <td>151.5500</td>\n",
              "      <td>S</td>\n",
              "      <td>Master</td>\n",
              "      <td>False</td>\n",
              "      <td>12.310565</td>\n",
              "      <td>5.027492</td>\n",
              "      <td>0.009395</td>\n",
              "      <td>-2.175570</td>\n",
              "      <td>anak-anak</td>\n",
              "      <td>5.0</td>\n",
              "      <td>1</td>\n",
              "    </tr>\n",
              "    <tr>\n",
              "      <th>2</th>\n",
              "      <td>1</td>\n",
              "      <td>0</td>\n",
              "      <td>Allison, Miss. Helen Loraine</td>\n",
              "      <td>female</td>\n",
              "      <td>2.00</td>\n",
              "      <td>1</td>\n",
              "      <td>2</td>\n",
              "      <td>151.5500</td>\n",
              "      <td>S</td>\n",
              "      <td>Miss</td>\n",
              "      <td>False</td>\n",
              "      <td>12.310565</td>\n",
              "      <td>5.027492</td>\n",
              "      <td>0.022924</td>\n",
              "      <td>-2.093567</td>\n",
              "      <td>anak-anak</td>\n",
              "      <td>5.0</td>\n",
              "      <td>1</td>\n",
              "    </tr>\n",
              "    <tr>\n",
              "      <th>3</th>\n",
              "      <td>1</td>\n",
              "      <td>0</td>\n",
              "      <td>Allison, Mr. Hudson Joshua Creighton</td>\n",
              "      <td>male</td>\n",
              "      <td>30.00</td>\n",
              "      <td>1</td>\n",
              "      <td>2</td>\n",
              "      <td>151.5500</td>\n",
              "      <td>S</td>\n",
              "      <td>Mr</td>\n",
              "      <td>False</td>\n",
              "      <td>12.310565</td>\n",
              "      <td>5.027492</td>\n",
              "      <td>0.373669</td>\n",
              "      <td>0.032444</td>\n",
              "      <td>dewasa</td>\n",
              "      <td>25.0</td>\n",
              "      <td>2</td>\n",
              "    </tr>\n",
              "    <tr>\n",
              "      <th>4</th>\n",
              "      <td>1</td>\n",
              "      <td>0</td>\n",
              "      <td>Allison, Mrs. Hudson J C (Bessie Waldo Daniels)</td>\n",
              "      <td>female</td>\n",
              "      <td>25.00</td>\n",
              "      <td>1</td>\n",
              "      <td>2</td>\n",
              "      <td>151.5500</td>\n",
              "      <td>S</td>\n",
              "      <td>Mrs</td>\n",
              "      <td>False</td>\n",
              "      <td>12.310565</td>\n",
              "      <td>5.027492</td>\n",
              "      <td>0.311036</td>\n",
              "      <td>-0.347201</td>\n",
              "      <td>dewasa</td>\n",
              "      <td>25.0</td>\n",
              "      <td>2</td>\n",
              "    </tr>\n",
              "  </tbody>\n",
              "</table>\n",
              "</div>"
            ],
            "text/plain": [
              "   pclass  survived  ... age_binned2 age_binned_q\n",
              "0       1         1  ...        25.0            2\n",
              "1       1         1  ...         5.0            1\n",
              "2       1         0  ...         5.0            1\n",
              "3       1         0  ...        25.0            2\n",
              "4       1         0  ...        25.0            2\n",
              "\n",
              "[5 rows x 18 columns]"
            ]
          },
          "metadata": {
            "tags": []
          },
          "execution_count": 88
        }
      ]
    },
    {
      "cell_type": "code",
      "metadata": {
        "id": "vGVtzGoBi8al"
      },
      "source": [
        "# Merubah data kategorikal menjadi numerikal\n",
        "# Data jenis kelamin\n",
        "df3['sex'] = df3['sex'].map({ 'female': 0, 'male': 1}).astype(int)"
      ],
      "execution_count": 89,
      "outputs": []
    },
    {
      "cell_type": "code",
      "metadata": {
        "colab": {
          "base_uri": "https://localhost:8080/",
          "height": 306
        },
        "id": "SWPtzN0WjO-9",
        "outputId": "5ffd38f7-0d3f-4246-ea5e-b2669e9f5f1e"
      },
      "source": [
        "df3.head()"
      ],
      "execution_count": 90,
      "outputs": [
        {
          "output_type": "execute_result",
          "data": {
            "text/html": [
              "<div>\n",
              "<style scoped>\n",
              "    .dataframe tbody tr th:only-of-type {\n",
              "        vertical-align: middle;\n",
              "    }\n",
              "\n",
              "    .dataframe tbody tr th {\n",
              "        vertical-align: top;\n",
              "    }\n",
              "\n",
              "    .dataframe thead th {\n",
              "        text-align: right;\n",
              "    }\n",
              "</style>\n",
              "<table border=\"1\" class=\"dataframe\">\n",
              "  <thead>\n",
              "    <tr style=\"text-align: right;\">\n",
              "      <th></th>\n",
              "      <th>pclass</th>\n",
              "      <th>survived</th>\n",
              "      <th>name</th>\n",
              "      <th>sex</th>\n",
              "      <th>age</th>\n",
              "      <th>sibsp</th>\n",
              "      <th>parch</th>\n",
              "      <th>fare</th>\n",
              "      <th>embarked</th>\n",
              "      <th>Title</th>\n",
              "      <th>missing_indicator</th>\n",
              "      <th>fare_sqrt</th>\n",
              "      <th>fare_log</th>\n",
              "      <th>age_minmax</th>\n",
              "      <th>age_std</th>\n",
              "      <th>age_binned</th>\n",
              "      <th>age_binned2</th>\n",
              "      <th>age_binned_q</th>\n",
              "    </tr>\n",
              "  </thead>\n",
              "  <tbody>\n",
              "    <tr>\n",
              "      <th>0</th>\n",
              "      <td>1</td>\n",
              "      <td>1</td>\n",
              "      <td>Allen, Miss. Elisabeth Walton</td>\n",
              "      <td>0</td>\n",
              "      <td>29.00</td>\n",
              "      <td>0</td>\n",
              "      <td>0</td>\n",
              "      <td>211.3375</td>\n",
              "      <td>S</td>\n",
              "      <td>Miss</td>\n",
              "      <td>False</td>\n",
              "      <td>14.537452</td>\n",
              "      <td>5.358177</td>\n",
              "      <td>0.361142</td>\n",
              "      <td>-0.043485</td>\n",
              "      <td>dewasa</td>\n",
              "      <td>25.0</td>\n",
              "      <td>2</td>\n",
              "    </tr>\n",
              "    <tr>\n",
              "      <th>1</th>\n",
              "      <td>1</td>\n",
              "      <td>1</td>\n",
              "      <td>Allison, Master. Hudson Trevor</td>\n",
              "      <td>1</td>\n",
              "      <td>0.92</td>\n",
              "      <td>1</td>\n",
              "      <td>2</td>\n",
              "      <td>151.5500</td>\n",
              "      <td>S</td>\n",
              "      <td>Master</td>\n",
              "      <td>False</td>\n",
              "      <td>12.310565</td>\n",
              "      <td>5.027492</td>\n",
              "      <td>0.009395</td>\n",
              "      <td>-2.175570</td>\n",
              "      <td>anak-anak</td>\n",
              "      <td>5.0</td>\n",
              "      <td>1</td>\n",
              "    </tr>\n",
              "    <tr>\n",
              "      <th>2</th>\n",
              "      <td>1</td>\n",
              "      <td>0</td>\n",
              "      <td>Allison, Miss. Helen Loraine</td>\n",
              "      <td>0</td>\n",
              "      <td>2.00</td>\n",
              "      <td>1</td>\n",
              "      <td>2</td>\n",
              "      <td>151.5500</td>\n",
              "      <td>S</td>\n",
              "      <td>Miss</td>\n",
              "      <td>False</td>\n",
              "      <td>12.310565</td>\n",
              "      <td>5.027492</td>\n",
              "      <td>0.022924</td>\n",
              "      <td>-2.093567</td>\n",
              "      <td>anak-anak</td>\n",
              "      <td>5.0</td>\n",
              "      <td>1</td>\n",
              "    </tr>\n",
              "    <tr>\n",
              "      <th>3</th>\n",
              "      <td>1</td>\n",
              "      <td>0</td>\n",
              "      <td>Allison, Mr. Hudson Joshua Creighton</td>\n",
              "      <td>1</td>\n",
              "      <td>30.00</td>\n",
              "      <td>1</td>\n",
              "      <td>2</td>\n",
              "      <td>151.5500</td>\n",
              "      <td>S</td>\n",
              "      <td>Mr</td>\n",
              "      <td>False</td>\n",
              "      <td>12.310565</td>\n",
              "      <td>5.027492</td>\n",
              "      <td>0.373669</td>\n",
              "      <td>0.032444</td>\n",
              "      <td>dewasa</td>\n",
              "      <td>25.0</td>\n",
              "      <td>2</td>\n",
              "    </tr>\n",
              "    <tr>\n",
              "      <th>4</th>\n",
              "      <td>1</td>\n",
              "      <td>0</td>\n",
              "      <td>Allison, Mrs. Hudson J C (Bessie Waldo Daniels)</td>\n",
              "      <td>0</td>\n",
              "      <td>25.00</td>\n",
              "      <td>1</td>\n",
              "      <td>2</td>\n",
              "      <td>151.5500</td>\n",
              "      <td>S</td>\n",
              "      <td>Mrs</td>\n",
              "      <td>False</td>\n",
              "      <td>12.310565</td>\n",
              "      <td>5.027492</td>\n",
              "      <td>0.311036</td>\n",
              "      <td>-0.347201</td>\n",
              "      <td>dewasa</td>\n",
              "      <td>25.0</td>\n",
              "      <td>2</td>\n",
              "    </tr>\n",
              "  </tbody>\n",
              "</table>\n",
              "</div>"
            ],
            "text/plain": [
              "   pclass  survived  ... age_binned2  age_binned_q\n",
              "0       1         1  ...        25.0             2\n",
              "1       1         1  ...         5.0             1\n",
              "2       1         0  ...         5.0             1\n",
              "3       1         0  ...        25.0             2\n",
              "4       1         0  ...        25.0             2\n",
              "\n",
              "[5 rows x 18 columns]"
            ]
          },
          "metadata": {
            "tags": []
          },
          "execution_count": 90
        }
      ]
    },
    {
      "cell_type": "code",
      "metadata": {
        "colab": {
          "base_uri": "https://localhost:8080/"
        },
        "id": "BinPAxeijU5s",
        "outputId": "0153afdd-8d4e-49d9-87a2-0b29d9e9f3f5"
      },
      "source": [
        "df3['Title'].value_counts()"
      ],
      "execution_count": 91,
      "outputs": [
        {
          "output_type": "execute_result",
          "data": {
            "text/plain": [
              "Mr        775\n",
              "Miss      265\n",
              "Mrs       200\n",
              "Master     61\n",
              "Dr          8\n",
              "Name: Title, dtype: int64"
            ]
          },
          "metadata": {
            "tags": []
          },
          "execution_count": 91
        }
      ]
    },
    {
      "cell_type": "code",
      "metadata": {
        "id": "ptXYsvhVjfRC"
      },
      "source": [
        "# Merubah data title\n",
        "df3['title'] = df3['Title'].map({ 'Mr': 1, 'Miss': 2, 'Mrs': 3, 'Master': 4, 'Dr': 5}).astype(int)"
      ],
      "execution_count": 92,
      "outputs": []
    },
    {
      "cell_type": "code",
      "metadata": {
        "colab": {
          "base_uri": "https://localhost:8080/",
          "height": 357
        },
        "id": "iQpVWpTNj5j2",
        "outputId": "cab6dce2-3220-4717-9336-8ad317f7907a"
      },
      "source": [
        "df3.head()"
      ],
      "execution_count": 93,
      "outputs": [
        {
          "output_type": "execute_result",
          "data": {
            "text/html": [
              "<div>\n",
              "<style scoped>\n",
              "    .dataframe tbody tr th:only-of-type {\n",
              "        vertical-align: middle;\n",
              "    }\n",
              "\n",
              "    .dataframe tbody tr th {\n",
              "        vertical-align: top;\n",
              "    }\n",
              "\n",
              "    .dataframe thead th {\n",
              "        text-align: right;\n",
              "    }\n",
              "</style>\n",
              "<table border=\"1\" class=\"dataframe\">\n",
              "  <thead>\n",
              "    <tr style=\"text-align: right;\">\n",
              "      <th></th>\n",
              "      <th>pclass</th>\n",
              "      <th>survived</th>\n",
              "      <th>name</th>\n",
              "      <th>sex</th>\n",
              "      <th>age</th>\n",
              "      <th>sibsp</th>\n",
              "      <th>parch</th>\n",
              "      <th>fare</th>\n",
              "      <th>embarked</th>\n",
              "      <th>Title</th>\n",
              "      <th>missing_indicator</th>\n",
              "      <th>fare_sqrt</th>\n",
              "      <th>fare_log</th>\n",
              "      <th>age_minmax</th>\n",
              "      <th>age_std</th>\n",
              "      <th>age_binned</th>\n",
              "      <th>age_binned2</th>\n",
              "      <th>age_binned_q</th>\n",
              "      <th>title</th>\n",
              "    </tr>\n",
              "  </thead>\n",
              "  <tbody>\n",
              "    <tr>\n",
              "      <th>0</th>\n",
              "      <td>1</td>\n",
              "      <td>1</td>\n",
              "      <td>Allen, Miss. Elisabeth Walton</td>\n",
              "      <td>0</td>\n",
              "      <td>29.00</td>\n",
              "      <td>0</td>\n",
              "      <td>0</td>\n",
              "      <td>211.3375</td>\n",
              "      <td>S</td>\n",
              "      <td>Miss</td>\n",
              "      <td>False</td>\n",
              "      <td>14.537452</td>\n",
              "      <td>5.358177</td>\n",
              "      <td>0.361142</td>\n",
              "      <td>-0.043485</td>\n",
              "      <td>dewasa</td>\n",
              "      <td>25.0</td>\n",
              "      <td>2</td>\n",
              "      <td>2</td>\n",
              "    </tr>\n",
              "    <tr>\n",
              "      <th>1</th>\n",
              "      <td>1</td>\n",
              "      <td>1</td>\n",
              "      <td>Allison, Master. Hudson Trevor</td>\n",
              "      <td>1</td>\n",
              "      <td>0.92</td>\n",
              "      <td>1</td>\n",
              "      <td>2</td>\n",
              "      <td>151.5500</td>\n",
              "      <td>S</td>\n",
              "      <td>Master</td>\n",
              "      <td>False</td>\n",
              "      <td>12.310565</td>\n",
              "      <td>5.027492</td>\n",
              "      <td>0.009395</td>\n",
              "      <td>-2.175570</td>\n",
              "      <td>anak-anak</td>\n",
              "      <td>5.0</td>\n",
              "      <td>1</td>\n",
              "      <td>4</td>\n",
              "    </tr>\n",
              "    <tr>\n",
              "      <th>2</th>\n",
              "      <td>1</td>\n",
              "      <td>0</td>\n",
              "      <td>Allison, Miss. Helen Loraine</td>\n",
              "      <td>0</td>\n",
              "      <td>2.00</td>\n",
              "      <td>1</td>\n",
              "      <td>2</td>\n",
              "      <td>151.5500</td>\n",
              "      <td>S</td>\n",
              "      <td>Miss</td>\n",
              "      <td>False</td>\n",
              "      <td>12.310565</td>\n",
              "      <td>5.027492</td>\n",
              "      <td>0.022924</td>\n",
              "      <td>-2.093567</td>\n",
              "      <td>anak-anak</td>\n",
              "      <td>5.0</td>\n",
              "      <td>1</td>\n",
              "      <td>2</td>\n",
              "    </tr>\n",
              "    <tr>\n",
              "      <th>3</th>\n",
              "      <td>1</td>\n",
              "      <td>0</td>\n",
              "      <td>Allison, Mr. Hudson Joshua Creighton</td>\n",
              "      <td>1</td>\n",
              "      <td>30.00</td>\n",
              "      <td>1</td>\n",
              "      <td>2</td>\n",
              "      <td>151.5500</td>\n",
              "      <td>S</td>\n",
              "      <td>Mr</td>\n",
              "      <td>False</td>\n",
              "      <td>12.310565</td>\n",
              "      <td>5.027492</td>\n",
              "      <td>0.373669</td>\n",
              "      <td>0.032444</td>\n",
              "      <td>dewasa</td>\n",
              "      <td>25.0</td>\n",
              "      <td>2</td>\n",
              "      <td>1</td>\n",
              "    </tr>\n",
              "    <tr>\n",
              "      <th>4</th>\n",
              "      <td>1</td>\n",
              "      <td>0</td>\n",
              "      <td>Allison, Mrs. Hudson J C (Bessie Waldo Daniels)</td>\n",
              "      <td>0</td>\n",
              "      <td>25.00</td>\n",
              "      <td>1</td>\n",
              "      <td>2</td>\n",
              "      <td>151.5500</td>\n",
              "      <td>S</td>\n",
              "      <td>Mrs</td>\n",
              "      <td>False</td>\n",
              "      <td>12.310565</td>\n",
              "      <td>5.027492</td>\n",
              "      <td>0.311036</td>\n",
              "      <td>-0.347201</td>\n",
              "      <td>dewasa</td>\n",
              "      <td>25.0</td>\n",
              "      <td>2</td>\n",
              "      <td>3</td>\n",
              "    </tr>\n",
              "  </tbody>\n",
              "</table>\n",
              "</div>"
            ],
            "text/plain": [
              "   pclass  survived  ... age_binned_q  title\n",
              "0       1         1  ...            2      2\n",
              "1       1         1  ...            1      4\n",
              "2       1         0  ...            1      2\n",
              "3       1         0  ...            2      1\n",
              "4       1         0  ...            2      3\n",
              "\n",
              "[5 rows x 19 columns]"
            ]
          },
          "metadata": {
            "tags": []
          },
          "execution_count": 93
        }
      ]
    },
    {
      "cell_type": "code",
      "metadata": {
        "colab": {
          "base_uri": "https://localhost:8080/"
        },
        "id": "PavpjPKmkEoV",
        "outputId": "30c7dcc9-477b-4902-8766-c23a39af8289"
      },
      "source": [
        "df3['age_binned'].value_counts()"
      ],
      "execution_count": 94,
      "outputs": [
        {
          "output_type": "execute_result",
          "data": {
            "text/plain": [
              "dewasa       825\n",
              "orang tua    228\n",
              "remaja       154\n",
              "anak-anak    102\n",
              "Name: age_binned, dtype: int64"
            ]
          },
          "metadata": {
            "tags": []
          },
          "execution_count": 94
        }
      ]
    },
    {
      "cell_type": "code",
      "metadata": {
        "id": "7oJLrHtLkMdP"
      },
      "source": [
        "df3['age'] = df3['age_binned'].map({ 'anak-anak': 0, 'remaja': 1, 'dewasa': 2, 'orang tua': 3}).astype(int)"
      ],
      "execution_count": 95,
      "outputs": []
    },
    {
      "cell_type": "code",
      "metadata": {
        "colab": {
          "base_uri": "https://localhost:8080/",
          "height": 340
        },
        "id": "ppZy6hpRklqG",
        "outputId": "f4d0258a-65fa-41ee-8090-6c4211c027bd"
      },
      "source": [
        "df3.head()"
      ],
      "execution_count": 96,
      "outputs": [
        {
          "output_type": "execute_result",
          "data": {
            "text/html": [
              "<div>\n",
              "<style scoped>\n",
              "    .dataframe tbody tr th:only-of-type {\n",
              "        vertical-align: middle;\n",
              "    }\n",
              "\n",
              "    .dataframe tbody tr th {\n",
              "        vertical-align: top;\n",
              "    }\n",
              "\n",
              "    .dataframe thead th {\n",
              "        text-align: right;\n",
              "    }\n",
              "</style>\n",
              "<table border=\"1\" class=\"dataframe\">\n",
              "  <thead>\n",
              "    <tr style=\"text-align: right;\">\n",
              "      <th></th>\n",
              "      <th>pclass</th>\n",
              "      <th>survived</th>\n",
              "      <th>name</th>\n",
              "      <th>sex</th>\n",
              "      <th>age</th>\n",
              "      <th>sibsp</th>\n",
              "      <th>parch</th>\n",
              "      <th>fare</th>\n",
              "      <th>embarked</th>\n",
              "      <th>Title</th>\n",
              "      <th>missing_indicator</th>\n",
              "      <th>fare_sqrt</th>\n",
              "      <th>fare_log</th>\n",
              "      <th>age_minmax</th>\n",
              "      <th>age_std</th>\n",
              "      <th>age_binned</th>\n",
              "      <th>age_binned2</th>\n",
              "      <th>age_binned_q</th>\n",
              "      <th>title</th>\n",
              "    </tr>\n",
              "  </thead>\n",
              "  <tbody>\n",
              "    <tr>\n",
              "      <th>0</th>\n",
              "      <td>1</td>\n",
              "      <td>1</td>\n",
              "      <td>Allen, Miss. Elisabeth Walton</td>\n",
              "      <td>0</td>\n",
              "      <td>2</td>\n",
              "      <td>0</td>\n",
              "      <td>0</td>\n",
              "      <td>211.3375</td>\n",
              "      <td>S</td>\n",
              "      <td>Miss</td>\n",
              "      <td>False</td>\n",
              "      <td>14.537452</td>\n",
              "      <td>5.358177</td>\n",
              "      <td>0.361142</td>\n",
              "      <td>-0.043485</td>\n",
              "      <td>dewasa</td>\n",
              "      <td>25.0</td>\n",
              "      <td>2</td>\n",
              "      <td>2</td>\n",
              "    </tr>\n",
              "    <tr>\n",
              "      <th>1</th>\n",
              "      <td>1</td>\n",
              "      <td>1</td>\n",
              "      <td>Allison, Master. Hudson Trevor</td>\n",
              "      <td>1</td>\n",
              "      <td>0</td>\n",
              "      <td>1</td>\n",
              "      <td>2</td>\n",
              "      <td>151.5500</td>\n",
              "      <td>S</td>\n",
              "      <td>Master</td>\n",
              "      <td>False</td>\n",
              "      <td>12.310565</td>\n",
              "      <td>5.027492</td>\n",
              "      <td>0.009395</td>\n",
              "      <td>-2.175570</td>\n",
              "      <td>anak-anak</td>\n",
              "      <td>5.0</td>\n",
              "      <td>1</td>\n",
              "      <td>4</td>\n",
              "    </tr>\n",
              "    <tr>\n",
              "      <th>2</th>\n",
              "      <td>1</td>\n",
              "      <td>0</td>\n",
              "      <td>Allison, Miss. Helen Loraine</td>\n",
              "      <td>0</td>\n",
              "      <td>0</td>\n",
              "      <td>1</td>\n",
              "      <td>2</td>\n",
              "      <td>151.5500</td>\n",
              "      <td>S</td>\n",
              "      <td>Miss</td>\n",
              "      <td>False</td>\n",
              "      <td>12.310565</td>\n",
              "      <td>5.027492</td>\n",
              "      <td>0.022924</td>\n",
              "      <td>-2.093567</td>\n",
              "      <td>anak-anak</td>\n",
              "      <td>5.0</td>\n",
              "      <td>1</td>\n",
              "      <td>2</td>\n",
              "    </tr>\n",
              "    <tr>\n",
              "      <th>3</th>\n",
              "      <td>1</td>\n",
              "      <td>0</td>\n",
              "      <td>Allison, Mr. Hudson Joshua Creighton</td>\n",
              "      <td>1</td>\n",
              "      <td>2</td>\n",
              "      <td>1</td>\n",
              "      <td>2</td>\n",
              "      <td>151.5500</td>\n",
              "      <td>S</td>\n",
              "      <td>Mr</td>\n",
              "      <td>False</td>\n",
              "      <td>12.310565</td>\n",
              "      <td>5.027492</td>\n",
              "      <td>0.373669</td>\n",
              "      <td>0.032444</td>\n",
              "      <td>dewasa</td>\n",
              "      <td>25.0</td>\n",
              "      <td>2</td>\n",
              "      <td>1</td>\n",
              "    </tr>\n",
              "    <tr>\n",
              "      <th>4</th>\n",
              "      <td>1</td>\n",
              "      <td>0</td>\n",
              "      <td>Allison, Mrs. Hudson J C (Bessie Waldo Daniels)</td>\n",
              "      <td>0</td>\n",
              "      <td>2</td>\n",
              "      <td>1</td>\n",
              "      <td>2</td>\n",
              "      <td>151.5500</td>\n",
              "      <td>S</td>\n",
              "      <td>Mrs</td>\n",
              "      <td>False</td>\n",
              "      <td>12.310565</td>\n",
              "      <td>5.027492</td>\n",
              "      <td>0.311036</td>\n",
              "      <td>-0.347201</td>\n",
              "      <td>dewasa</td>\n",
              "      <td>25.0</td>\n",
              "      <td>2</td>\n",
              "      <td>3</td>\n",
              "    </tr>\n",
              "  </tbody>\n",
              "</table>\n",
              "</div>"
            ],
            "text/plain": [
              "   pclass  survived  ... age_binned_q  title\n",
              "0       1         1  ...            2      2\n",
              "1       1         1  ...            1      4\n",
              "2       1         0  ...            1      2\n",
              "3       1         0  ...            2      1\n",
              "4       1         0  ...            2      3\n",
              "\n",
              "[5 rows x 19 columns]"
            ]
          },
          "metadata": {
            "tags": []
          },
          "execution_count": 96
        }
      ]
    },
    {
      "cell_type": "code",
      "metadata": {
        "id": "2sJABKH-krgO"
      },
      "source": [
        "df3['jumlahkeluarga'] = df3['sibsp'] + df3['parch'] + 1"
      ],
      "execution_count": 97,
      "outputs": []
    },
    {
      "cell_type": "code",
      "metadata": {
        "colab": {
          "base_uri": "https://localhost:8080/",
          "height": 530
        },
        "id": "KoKI4R9glJGp",
        "outputId": "eeced95c-5132-4639-f5e2-b8e848bcd2cb"
      },
      "source": [
        "df3.head()"
      ],
      "execution_count": 98,
      "outputs": [
        {
          "output_type": "execute_result",
          "data": {
            "text/html": [
              "<div>\n",
              "<style scoped>\n",
              "    .dataframe tbody tr th:only-of-type {\n",
              "        vertical-align: middle;\n",
              "    }\n",
              "\n",
              "    .dataframe tbody tr th {\n",
              "        vertical-align: top;\n",
              "    }\n",
              "\n",
              "    .dataframe thead th {\n",
              "        text-align: right;\n",
              "    }\n",
              "</style>\n",
              "<table border=\"1\" class=\"dataframe\">\n",
              "  <thead>\n",
              "    <tr style=\"text-align: right;\">\n",
              "      <th></th>\n",
              "      <th>pclass</th>\n",
              "      <th>survived</th>\n",
              "      <th>name</th>\n",
              "      <th>sex</th>\n",
              "      <th>age</th>\n",
              "      <th>sibsp</th>\n",
              "      <th>parch</th>\n",
              "      <th>fare</th>\n",
              "      <th>embarked</th>\n",
              "      <th>Title</th>\n",
              "      <th>missing_indicator</th>\n",
              "      <th>fare_sqrt</th>\n",
              "      <th>fare_log</th>\n",
              "      <th>age_minmax</th>\n",
              "      <th>age_std</th>\n",
              "      <th>age_binned</th>\n",
              "      <th>age_binned2</th>\n",
              "      <th>age_binned_q</th>\n",
              "      <th>title</th>\n",
              "      <th>jumlahkeluarga</th>\n",
              "    </tr>\n",
              "  </thead>\n",
              "  <tbody>\n",
              "    <tr>\n",
              "      <th>0</th>\n",
              "      <td>1</td>\n",
              "      <td>1</td>\n",
              "      <td>Allen, Miss. Elisabeth Walton</td>\n",
              "      <td>0</td>\n",
              "      <td>2</td>\n",
              "      <td>0</td>\n",
              "      <td>0</td>\n",
              "      <td>211.3375</td>\n",
              "      <td>S</td>\n",
              "      <td>Miss</td>\n",
              "      <td>False</td>\n",
              "      <td>14.537452</td>\n",
              "      <td>5.358177</td>\n",
              "      <td>0.361142</td>\n",
              "      <td>-0.043485</td>\n",
              "      <td>dewasa</td>\n",
              "      <td>25.0</td>\n",
              "      <td>2</td>\n",
              "      <td>2</td>\n",
              "      <td>1</td>\n",
              "    </tr>\n",
              "    <tr>\n",
              "      <th>1</th>\n",
              "      <td>1</td>\n",
              "      <td>1</td>\n",
              "      <td>Allison, Master. Hudson Trevor</td>\n",
              "      <td>1</td>\n",
              "      <td>0</td>\n",
              "      <td>1</td>\n",
              "      <td>2</td>\n",
              "      <td>151.5500</td>\n",
              "      <td>S</td>\n",
              "      <td>Master</td>\n",
              "      <td>False</td>\n",
              "      <td>12.310565</td>\n",
              "      <td>5.027492</td>\n",
              "      <td>0.009395</td>\n",
              "      <td>-2.175570</td>\n",
              "      <td>anak-anak</td>\n",
              "      <td>5.0</td>\n",
              "      <td>1</td>\n",
              "      <td>4</td>\n",
              "      <td>4</td>\n",
              "    </tr>\n",
              "    <tr>\n",
              "      <th>2</th>\n",
              "      <td>1</td>\n",
              "      <td>0</td>\n",
              "      <td>Allison, Miss. Helen Loraine</td>\n",
              "      <td>0</td>\n",
              "      <td>0</td>\n",
              "      <td>1</td>\n",
              "      <td>2</td>\n",
              "      <td>151.5500</td>\n",
              "      <td>S</td>\n",
              "      <td>Miss</td>\n",
              "      <td>False</td>\n",
              "      <td>12.310565</td>\n",
              "      <td>5.027492</td>\n",
              "      <td>0.022924</td>\n",
              "      <td>-2.093567</td>\n",
              "      <td>anak-anak</td>\n",
              "      <td>5.0</td>\n",
              "      <td>1</td>\n",
              "      <td>2</td>\n",
              "      <td>4</td>\n",
              "    </tr>\n",
              "    <tr>\n",
              "      <th>3</th>\n",
              "      <td>1</td>\n",
              "      <td>0</td>\n",
              "      <td>Allison, Mr. Hudson Joshua Creighton</td>\n",
              "      <td>1</td>\n",
              "      <td>2</td>\n",
              "      <td>1</td>\n",
              "      <td>2</td>\n",
              "      <td>151.5500</td>\n",
              "      <td>S</td>\n",
              "      <td>Mr</td>\n",
              "      <td>False</td>\n",
              "      <td>12.310565</td>\n",
              "      <td>5.027492</td>\n",
              "      <td>0.373669</td>\n",
              "      <td>0.032444</td>\n",
              "      <td>dewasa</td>\n",
              "      <td>25.0</td>\n",
              "      <td>2</td>\n",
              "      <td>1</td>\n",
              "      <td>4</td>\n",
              "    </tr>\n",
              "    <tr>\n",
              "      <th>4</th>\n",
              "      <td>1</td>\n",
              "      <td>0</td>\n",
              "      <td>Allison, Mrs. Hudson J C (Bessie Waldo Daniels)</td>\n",
              "      <td>0</td>\n",
              "      <td>2</td>\n",
              "      <td>1</td>\n",
              "      <td>2</td>\n",
              "      <td>151.5500</td>\n",
              "      <td>S</td>\n",
              "      <td>Mrs</td>\n",
              "      <td>False</td>\n",
              "      <td>12.310565</td>\n",
              "      <td>5.027492</td>\n",
              "      <td>0.311036</td>\n",
              "      <td>-0.347201</td>\n",
              "      <td>dewasa</td>\n",
              "      <td>25.0</td>\n",
              "      <td>2</td>\n",
              "      <td>3</td>\n",
              "      <td>4</td>\n",
              "    </tr>\n",
              "  </tbody>\n",
              "</table>\n",
              "</div>"
            ],
            "text/plain": [
              "   pclass  survived  ... title  jumlahkeluarga\n",
              "0       1         1  ...     2               1\n",
              "1       1         1  ...     4               4\n",
              "2       1         0  ...     2               4\n",
              "3       1         0  ...     1               4\n",
              "4       1         0  ...     3               4\n",
              "\n",
              "[5 rows x 20 columns]"
            ]
          },
          "metadata": {
            "tags": []
          },
          "execution_count": 98
        }
      ]
    },
    {
      "cell_type": "code",
      "metadata": {
        "colab": {
          "base_uri": "https://localhost:8080/",
          "height": 328
        },
        "id": "5tdC6PTYlRFZ",
        "outputId": "0392ba5c-940a-47d6-e355-b7872da1e3a0"
      },
      "source": [
        "df3[['jumlahkeluarga', 'survived']].groupby(['jumlahkeluarga'], as_index=False).mean().sort_values(by='survived', ascending=False)"
      ],
      "execution_count": 99,
      "outputs": [
        {
          "output_type": "execute_result",
          "data": {
            "text/html": [
              "<div>\n",
              "<style scoped>\n",
              "    .dataframe tbody tr th:only-of-type {\n",
              "        vertical-align: middle;\n",
              "    }\n",
              "\n",
              "    .dataframe tbody tr th {\n",
              "        vertical-align: top;\n",
              "    }\n",
              "\n",
              "    .dataframe thead th {\n",
              "        text-align: right;\n",
              "    }\n",
              "</style>\n",
              "<table border=\"1\" class=\"dataframe\">\n",
              "  <thead>\n",
              "    <tr style=\"text-align: right;\">\n",
              "      <th></th>\n",
              "      <th>jumlahkeluarga</th>\n",
              "      <th>survived</th>\n",
              "    </tr>\n",
              "  </thead>\n",
              "  <tbody>\n",
              "    <tr>\n",
              "      <th>3</th>\n",
              "      <td>4</td>\n",
              "      <td>0.697674</td>\n",
              "    </tr>\n",
              "    <tr>\n",
              "      <th>2</th>\n",
              "      <td>3</td>\n",
              "      <td>0.566038</td>\n",
              "    </tr>\n",
              "    <tr>\n",
              "      <th>1</th>\n",
              "      <td>2</td>\n",
              "      <td>0.536170</td>\n",
              "    </tr>\n",
              "    <tr>\n",
              "      <th>0</th>\n",
              "      <td>1</td>\n",
              "      <td>0.302532</td>\n",
              "    </tr>\n",
              "    <tr>\n",
              "      <th>4</th>\n",
              "      <td>5</td>\n",
              "      <td>0.272727</td>\n",
              "    </tr>\n",
              "    <tr>\n",
              "      <th>6</th>\n",
              "      <td>7</td>\n",
              "      <td>0.250000</td>\n",
              "    </tr>\n",
              "    <tr>\n",
              "      <th>5</th>\n",
              "      <td>6</td>\n",
              "      <td>0.200000</td>\n",
              "    </tr>\n",
              "    <tr>\n",
              "      <th>7</th>\n",
              "      <td>8</td>\n",
              "      <td>0.000000</td>\n",
              "    </tr>\n",
              "    <tr>\n",
              "      <th>8</th>\n",
              "      <td>11</td>\n",
              "      <td>0.000000</td>\n",
              "    </tr>\n",
              "  </tbody>\n",
              "</table>\n",
              "</div>"
            ],
            "text/plain": [
              "   jumlahkeluarga  survived\n",
              "3               4  0.697674\n",
              "2               3  0.566038\n",
              "1               2  0.536170\n",
              "0               1  0.302532\n",
              "4               5  0.272727\n",
              "6               7  0.250000\n",
              "5               6  0.200000\n",
              "7               8  0.000000\n",
              "8              11  0.000000"
            ]
          },
          "metadata": {
            "tags": []
          },
          "execution_count": 99
        }
      ]
    },
    {
      "cell_type": "code",
      "metadata": {
        "id": "DyXqyTNKllOV"
      },
      "source": [
        "df3['sendirian'] = 0\n",
        "df3.loc[df3['jumlahkeluarga'] == 1, 'sendirian'] = 1"
      ],
      "execution_count": 100,
      "outputs": []
    },
    {
      "cell_type": "code",
      "metadata": {
        "colab": {
          "base_uri": "https://localhost:8080/",
          "height": 530
        },
        "id": "o1XNfs7Hl-hZ",
        "outputId": "aad5a853-65b5-42c4-90d9-139e3aa1c197"
      },
      "source": [
        "df3.head()"
      ],
      "execution_count": 101,
      "outputs": [
        {
          "output_type": "execute_result",
          "data": {
            "text/html": [
              "<div>\n",
              "<style scoped>\n",
              "    .dataframe tbody tr th:only-of-type {\n",
              "        vertical-align: middle;\n",
              "    }\n",
              "\n",
              "    .dataframe tbody tr th {\n",
              "        vertical-align: top;\n",
              "    }\n",
              "\n",
              "    .dataframe thead th {\n",
              "        text-align: right;\n",
              "    }\n",
              "</style>\n",
              "<table border=\"1\" class=\"dataframe\">\n",
              "  <thead>\n",
              "    <tr style=\"text-align: right;\">\n",
              "      <th></th>\n",
              "      <th>pclass</th>\n",
              "      <th>survived</th>\n",
              "      <th>name</th>\n",
              "      <th>sex</th>\n",
              "      <th>age</th>\n",
              "      <th>sibsp</th>\n",
              "      <th>parch</th>\n",
              "      <th>fare</th>\n",
              "      <th>embarked</th>\n",
              "      <th>Title</th>\n",
              "      <th>missing_indicator</th>\n",
              "      <th>fare_sqrt</th>\n",
              "      <th>fare_log</th>\n",
              "      <th>age_minmax</th>\n",
              "      <th>age_std</th>\n",
              "      <th>age_binned</th>\n",
              "      <th>age_binned2</th>\n",
              "      <th>age_binned_q</th>\n",
              "      <th>title</th>\n",
              "      <th>jumlahkeluarga</th>\n",
              "      <th>sendirian</th>\n",
              "    </tr>\n",
              "  </thead>\n",
              "  <tbody>\n",
              "    <tr>\n",
              "      <th>0</th>\n",
              "      <td>1</td>\n",
              "      <td>1</td>\n",
              "      <td>Allen, Miss. Elisabeth Walton</td>\n",
              "      <td>0</td>\n",
              "      <td>2</td>\n",
              "      <td>0</td>\n",
              "      <td>0</td>\n",
              "      <td>211.3375</td>\n",
              "      <td>S</td>\n",
              "      <td>Miss</td>\n",
              "      <td>False</td>\n",
              "      <td>14.537452</td>\n",
              "      <td>5.358177</td>\n",
              "      <td>0.361142</td>\n",
              "      <td>-0.043485</td>\n",
              "      <td>dewasa</td>\n",
              "      <td>25.0</td>\n",
              "      <td>2</td>\n",
              "      <td>2</td>\n",
              "      <td>1</td>\n",
              "      <td>1</td>\n",
              "    </tr>\n",
              "    <tr>\n",
              "      <th>1</th>\n",
              "      <td>1</td>\n",
              "      <td>1</td>\n",
              "      <td>Allison, Master. Hudson Trevor</td>\n",
              "      <td>1</td>\n",
              "      <td>0</td>\n",
              "      <td>1</td>\n",
              "      <td>2</td>\n",
              "      <td>151.5500</td>\n",
              "      <td>S</td>\n",
              "      <td>Master</td>\n",
              "      <td>False</td>\n",
              "      <td>12.310565</td>\n",
              "      <td>5.027492</td>\n",
              "      <td>0.009395</td>\n",
              "      <td>-2.175570</td>\n",
              "      <td>anak-anak</td>\n",
              "      <td>5.0</td>\n",
              "      <td>1</td>\n",
              "      <td>4</td>\n",
              "      <td>4</td>\n",
              "      <td>0</td>\n",
              "    </tr>\n",
              "    <tr>\n",
              "      <th>2</th>\n",
              "      <td>1</td>\n",
              "      <td>0</td>\n",
              "      <td>Allison, Miss. Helen Loraine</td>\n",
              "      <td>0</td>\n",
              "      <td>0</td>\n",
              "      <td>1</td>\n",
              "      <td>2</td>\n",
              "      <td>151.5500</td>\n",
              "      <td>S</td>\n",
              "      <td>Miss</td>\n",
              "      <td>False</td>\n",
              "      <td>12.310565</td>\n",
              "      <td>5.027492</td>\n",
              "      <td>0.022924</td>\n",
              "      <td>-2.093567</td>\n",
              "      <td>anak-anak</td>\n",
              "      <td>5.0</td>\n",
              "      <td>1</td>\n",
              "      <td>2</td>\n",
              "      <td>4</td>\n",
              "      <td>0</td>\n",
              "    </tr>\n",
              "    <tr>\n",
              "      <th>3</th>\n",
              "      <td>1</td>\n",
              "      <td>0</td>\n",
              "      <td>Allison, Mr. Hudson Joshua Creighton</td>\n",
              "      <td>1</td>\n",
              "      <td>2</td>\n",
              "      <td>1</td>\n",
              "      <td>2</td>\n",
              "      <td>151.5500</td>\n",
              "      <td>S</td>\n",
              "      <td>Mr</td>\n",
              "      <td>False</td>\n",
              "      <td>12.310565</td>\n",
              "      <td>5.027492</td>\n",
              "      <td>0.373669</td>\n",
              "      <td>0.032444</td>\n",
              "      <td>dewasa</td>\n",
              "      <td>25.0</td>\n",
              "      <td>2</td>\n",
              "      <td>1</td>\n",
              "      <td>4</td>\n",
              "      <td>0</td>\n",
              "    </tr>\n",
              "    <tr>\n",
              "      <th>4</th>\n",
              "      <td>1</td>\n",
              "      <td>0</td>\n",
              "      <td>Allison, Mrs. Hudson J C (Bessie Waldo Daniels)</td>\n",
              "      <td>0</td>\n",
              "      <td>2</td>\n",
              "      <td>1</td>\n",
              "      <td>2</td>\n",
              "      <td>151.5500</td>\n",
              "      <td>S</td>\n",
              "      <td>Mrs</td>\n",
              "      <td>False</td>\n",
              "      <td>12.310565</td>\n",
              "      <td>5.027492</td>\n",
              "      <td>0.311036</td>\n",
              "      <td>-0.347201</td>\n",
              "      <td>dewasa</td>\n",
              "      <td>25.0</td>\n",
              "      <td>2</td>\n",
              "      <td>3</td>\n",
              "      <td>4</td>\n",
              "      <td>0</td>\n",
              "    </tr>\n",
              "  </tbody>\n",
              "</table>\n",
              "</div>"
            ],
            "text/plain": [
              "   pclass  survived  ... jumlahkeluarga  sendirian\n",
              "0       1         1  ...              1          1\n",
              "1       1         1  ...              4          0\n",
              "2       1         0  ...              4          0\n",
              "3       1         0  ...              4          0\n",
              "4       1         0  ...              4          0\n",
              "\n",
              "[5 rows x 21 columns]"
            ]
          },
          "metadata": {
            "tags": []
          },
          "execution_count": 101
        }
      ]
    },
    {
      "cell_type": "code",
      "metadata": {
        "colab": {
          "base_uri": "https://localhost:8080/",
          "height": 111
        },
        "id": "t8gQFQCVmHKP",
        "outputId": "0ed3c78f-2128-401d-c9d2-a230ac60a9ff"
      },
      "source": [
        "df3[['sendirian', 'survived']].groupby(['sendirian'], as_index=False).mean().sort_values(by='survived', ascending=False)"
      ],
      "execution_count": 102,
      "outputs": [
        {
          "output_type": "execute_result",
          "data": {
            "text/html": [
              "<div>\n",
              "<style scoped>\n",
              "    .dataframe tbody tr th:only-of-type {\n",
              "        vertical-align: middle;\n",
              "    }\n",
              "\n",
              "    .dataframe tbody tr th {\n",
              "        vertical-align: top;\n",
              "    }\n",
              "\n",
              "    .dataframe thead th {\n",
              "        text-align: right;\n",
              "    }\n",
              "</style>\n",
              "<table border=\"1\" class=\"dataframe\">\n",
              "  <thead>\n",
              "    <tr style=\"text-align: right;\">\n",
              "      <th></th>\n",
              "      <th>sendirian</th>\n",
              "      <th>survived</th>\n",
              "    </tr>\n",
              "  </thead>\n",
              "  <tbody>\n",
              "    <tr>\n",
              "      <th>0</th>\n",
              "      <td>0</td>\n",
              "      <td>0.502890</td>\n",
              "    </tr>\n",
              "    <tr>\n",
              "      <th>1</th>\n",
              "      <td>1</td>\n",
              "      <td>0.302532</td>\n",
              "    </tr>\n",
              "  </tbody>\n",
              "</table>\n",
              "</div>"
            ],
            "text/plain": [
              "   sendirian  survived\n",
              "0          0  0.502890\n",
              "1          1  0.302532"
            ]
          },
          "metadata": {
            "tags": []
          },
          "execution_count": 102
        }
      ]
    },
    {
      "cell_type": "code",
      "metadata": {
        "id": "r4jcIOobmXeU"
      },
      "source": [
        "# Hapus fitur yang sudah tidak digunakan\n",
        "df3 = df3.drop(['sibsp', 'parch', 'Title', 'age_binned', 'age_binned2', 'age_binned_q'], axis=1)"
      ],
      "execution_count": 103,
      "outputs": []
    },
    {
      "cell_type": "code",
      "metadata": {
        "colab": {
          "base_uri": "https://localhost:8080/",
          "height": 204
        },
        "id": "qCR5zO6QnAvs",
        "outputId": "ce89c589-4022-44cc-e368-fe18c08a6186"
      },
      "source": [
        "df3.head()"
      ],
      "execution_count": 104,
      "outputs": [
        {
          "output_type": "execute_result",
          "data": {
            "text/html": [
              "<div>\n",
              "<style scoped>\n",
              "    .dataframe tbody tr th:only-of-type {\n",
              "        vertical-align: middle;\n",
              "    }\n",
              "\n",
              "    .dataframe tbody tr th {\n",
              "        vertical-align: top;\n",
              "    }\n",
              "\n",
              "    .dataframe thead th {\n",
              "        text-align: right;\n",
              "    }\n",
              "</style>\n",
              "<table border=\"1\" class=\"dataframe\">\n",
              "  <thead>\n",
              "    <tr style=\"text-align: right;\">\n",
              "      <th></th>\n",
              "      <th>pclass</th>\n",
              "      <th>survived</th>\n",
              "      <th>name</th>\n",
              "      <th>sex</th>\n",
              "      <th>age</th>\n",
              "      <th>fare</th>\n",
              "      <th>embarked</th>\n",
              "      <th>missing_indicator</th>\n",
              "      <th>fare_sqrt</th>\n",
              "      <th>fare_log</th>\n",
              "      <th>age_minmax</th>\n",
              "      <th>age_std</th>\n",
              "      <th>title</th>\n",
              "      <th>jumlahkeluarga</th>\n",
              "      <th>sendirian</th>\n",
              "    </tr>\n",
              "  </thead>\n",
              "  <tbody>\n",
              "    <tr>\n",
              "      <th>0</th>\n",
              "      <td>1</td>\n",
              "      <td>1</td>\n",
              "      <td>Allen, Miss. Elisabeth Walton</td>\n",
              "      <td>0</td>\n",
              "      <td>2</td>\n",
              "      <td>211.3375</td>\n",
              "      <td>S</td>\n",
              "      <td>False</td>\n",
              "      <td>14.537452</td>\n",
              "      <td>5.358177</td>\n",
              "      <td>0.361142</td>\n",
              "      <td>-0.043485</td>\n",
              "      <td>2</td>\n",
              "      <td>1</td>\n",
              "      <td>1</td>\n",
              "    </tr>\n",
              "    <tr>\n",
              "      <th>1</th>\n",
              "      <td>1</td>\n",
              "      <td>1</td>\n",
              "      <td>Allison, Master. Hudson Trevor</td>\n",
              "      <td>1</td>\n",
              "      <td>0</td>\n",
              "      <td>151.5500</td>\n",
              "      <td>S</td>\n",
              "      <td>False</td>\n",
              "      <td>12.310565</td>\n",
              "      <td>5.027492</td>\n",
              "      <td>0.009395</td>\n",
              "      <td>-2.175570</td>\n",
              "      <td>4</td>\n",
              "      <td>4</td>\n",
              "      <td>0</td>\n",
              "    </tr>\n",
              "    <tr>\n",
              "      <th>2</th>\n",
              "      <td>1</td>\n",
              "      <td>0</td>\n",
              "      <td>Allison, Miss. Helen Loraine</td>\n",
              "      <td>0</td>\n",
              "      <td>0</td>\n",
              "      <td>151.5500</td>\n",
              "      <td>S</td>\n",
              "      <td>False</td>\n",
              "      <td>12.310565</td>\n",
              "      <td>5.027492</td>\n",
              "      <td>0.022924</td>\n",
              "      <td>-2.093567</td>\n",
              "      <td>2</td>\n",
              "      <td>4</td>\n",
              "      <td>0</td>\n",
              "    </tr>\n",
              "    <tr>\n",
              "      <th>3</th>\n",
              "      <td>1</td>\n",
              "      <td>0</td>\n",
              "      <td>Allison, Mr. Hudson Joshua Creighton</td>\n",
              "      <td>1</td>\n",
              "      <td>2</td>\n",
              "      <td>151.5500</td>\n",
              "      <td>S</td>\n",
              "      <td>False</td>\n",
              "      <td>12.310565</td>\n",
              "      <td>5.027492</td>\n",
              "      <td>0.373669</td>\n",
              "      <td>0.032444</td>\n",
              "      <td>1</td>\n",
              "      <td>4</td>\n",
              "      <td>0</td>\n",
              "    </tr>\n",
              "    <tr>\n",
              "      <th>4</th>\n",
              "      <td>1</td>\n",
              "      <td>0</td>\n",
              "      <td>Allison, Mrs. Hudson J C (Bessie Waldo Daniels)</td>\n",
              "      <td>0</td>\n",
              "      <td>2</td>\n",
              "      <td>151.5500</td>\n",
              "      <td>S</td>\n",
              "      <td>False</td>\n",
              "      <td>12.310565</td>\n",
              "      <td>5.027492</td>\n",
              "      <td>0.311036</td>\n",
              "      <td>-0.347201</td>\n",
              "      <td>3</td>\n",
              "      <td>4</td>\n",
              "      <td>0</td>\n",
              "    </tr>\n",
              "  </tbody>\n",
              "</table>\n",
              "</div>"
            ],
            "text/plain": [
              "   pclass  survived  ... jumlahkeluarga  sendirian\n",
              "0       1         1  ...              1          1\n",
              "1       1         1  ...              4          0\n",
              "2       1         0  ...              4          0\n",
              "3       1         0  ...              4          0\n",
              "4       1         0  ...              4          0\n",
              "\n",
              "[5 rows x 15 columns]"
            ]
          },
          "metadata": {
            "tags": []
          },
          "execution_count": 104
        }
      ]
    },
    {
      "cell_type": "code",
      "metadata": {
        "colab": {
          "base_uri": "https://localhost:8080/"
        },
        "id": "pPguMoLfm2ht",
        "outputId": "952fdd31-ebfb-4dfc-df06-282fb2d8bf79"
      },
      "source": [
        "df3['embarked'].value_counts()"
      ],
      "execution_count": 105,
      "outputs": [
        {
          "output_type": "execute_result",
          "data": {
            "text/plain": [
              "S    914\n",
              "C    270\n",
              "Q    123\n",
              "Name: embarked, dtype: int64"
            ]
          },
          "metadata": {
            "tags": []
          },
          "execution_count": 105
        }
      ]
    },
    {
      "cell_type": "code",
      "metadata": {
        "colab": {
          "base_uri": "https://localhost:8080/"
        },
        "id": "OWVGSFPQnQQy",
        "outputId": "160d01b1-2b36-4974-9edc-1d2213f13b87"
      },
      "source": [
        "df3['embarked'].describe()"
      ],
      "execution_count": 106,
      "outputs": [
        {
          "output_type": "execute_result",
          "data": {
            "text/plain": [
              "count     1307\n",
              "unique       3\n",
              "top          S\n",
              "freq       914\n",
              "Name: embarked, dtype: object"
            ]
          },
          "metadata": {
            "tags": []
          },
          "execution_count": 106
        }
      ]
    },
    {
      "cell_type": "code",
      "metadata": {
        "colab": {
          "base_uri": "https://localhost:8080/",
          "height": 35
        },
        "id": "-S0d7PeJniWc",
        "outputId": "4a304079-e109-4009-97c8-eaa66abb6c84"
      },
      "source": [
        "frekuensiembarked = df3['embarked'].dropna().mode()[0]\n",
        "frekuensiembarked"
      ],
      "execution_count": 107,
      "outputs": [
        {
          "output_type": "execute_result",
          "data": {
            "application/vnd.google.colaboratory.intrinsic+json": {
              "type": "string"
            },
            "text/plain": [
              "'S'"
            ]
          },
          "metadata": {
            "tags": []
          },
          "execution_count": 107
        }
      ]
    },
    {
      "cell_type": "code",
      "metadata": {
        "id": "GkhnC8Gwn0dd"
      },
      "source": [
        "df3['embarked'] = df3['embarked'].fillna(frekuensiembarked)"
      ],
      "execution_count": 108,
      "outputs": []
    },
    {
      "cell_type": "code",
      "metadata": {
        "colab": {
          "base_uri": "https://localhost:8080/"
        },
        "id": "bvu0hKJyn9r3",
        "outputId": "e4d13440-68bf-43d9-ede6-acc4a6e65c3b"
      },
      "source": [
        "df3['embarked'].describe()"
      ],
      "execution_count": 109,
      "outputs": [
        {
          "output_type": "execute_result",
          "data": {
            "text/plain": [
              "count     1309\n",
              "unique       3\n",
              "top          S\n",
              "freq       916\n",
              "Name: embarked, dtype: object"
            ]
          },
          "metadata": {
            "tags": []
          },
          "execution_count": 109
        }
      ]
    },
    {
      "cell_type": "code",
      "metadata": {
        "id": "J8SmU0XioBei"
      },
      "source": [
        "# Merubah data kategorikal menjadi numerikal untuk fitur embarked\n",
        "df3['embarked'] = df3['embarked'].map({ 'S': 0, 'C': 1, 'Q': 2}).astype(int)"
      ],
      "execution_count": 110,
      "outputs": []
    },
    {
      "cell_type": "code",
      "metadata": {
        "colab": {
          "base_uri": "https://localhost:8080/",
          "height": 204
        },
        "id": "yxY2heQ5oOLV",
        "outputId": "e0dd8ff6-ad96-4c97-a1b7-3c3266cc6cb1"
      },
      "source": [
        "df3.head()"
      ],
      "execution_count": 111,
      "outputs": [
        {
          "output_type": "execute_result",
          "data": {
            "text/html": [
              "<div>\n",
              "<style scoped>\n",
              "    .dataframe tbody tr th:only-of-type {\n",
              "        vertical-align: middle;\n",
              "    }\n",
              "\n",
              "    .dataframe tbody tr th {\n",
              "        vertical-align: top;\n",
              "    }\n",
              "\n",
              "    .dataframe thead th {\n",
              "        text-align: right;\n",
              "    }\n",
              "</style>\n",
              "<table border=\"1\" class=\"dataframe\">\n",
              "  <thead>\n",
              "    <tr style=\"text-align: right;\">\n",
              "      <th></th>\n",
              "      <th>pclass</th>\n",
              "      <th>survived</th>\n",
              "      <th>name</th>\n",
              "      <th>sex</th>\n",
              "      <th>age</th>\n",
              "      <th>fare</th>\n",
              "      <th>embarked</th>\n",
              "      <th>missing_indicator</th>\n",
              "      <th>fare_sqrt</th>\n",
              "      <th>fare_log</th>\n",
              "      <th>age_minmax</th>\n",
              "      <th>age_std</th>\n",
              "      <th>title</th>\n",
              "      <th>jumlahkeluarga</th>\n",
              "      <th>sendirian</th>\n",
              "    </tr>\n",
              "  </thead>\n",
              "  <tbody>\n",
              "    <tr>\n",
              "      <th>0</th>\n",
              "      <td>1</td>\n",
              "      <td>1</td>\n",
              "      <td>Allen, Miss. Elisabeth Walton</td>\n",
              "      <td>0</td>\n",
              "      <td>2</td>\n",
              "      <td>211.3375</td>\n",
              "      <td>0</td>\n",
              "      <td>False</td>\n",
              "      <td>14.537452</td>\n",
              "      <td>5.358177</td>\n",
              "      <td>0.361142</td>\n",
              "      <td>-0.043485</td>\n",
              "      <td>2</td>\n",
              "      <td>1</td>\n",
              "      <td>1</td>\n",
              "    </tr>\n",
              "    <tr>\n",
              "      <th>1</th>\n",
              "      <td>1</td>\n",
              "      <td>1</td>\n",
              "      <td>Allison, Master. Hudson Trevor</td>\n",
              "      <td>1</td>\n",
              "      <td>0</td>\n",
              "      <td>151.5500</td>\n",
              "      <td>0</td>\n",
              "      <td>False</td>\n",
              "      <td>12.310565</td>\n",
              "      <td>5.027492</td>\n",
              "      <td>0.009395</td>\n",
              "      <td>-2.175570</td>\n",
              "      <td>4</td>\n",
              "      <td>4</td>\n",
              "      <td>0</td>\n",
              "    </tr>\n",
              "    <tr>\n",
              "      <th>2</th>\n",
              "      <td>1</td>\n",
              "      <td>0</td>\n",
              "      <td>Allison, Miss. Helen Loraine</td>\n",
              "      <td>0</td>\n",
              "      <td>0</td>\n",
              "      <td>151.5500</td>\n",
              "      <td>0</td>\n",
              "      <td>False</td>\n",
              "      <td>12.310565</td>\n",
              "      <td>5.027492</td>\n",
              "      <td>0.022924</td>\n",
              "      <td>-2.093567</td>\n",
              "      <td>2</td>\n",
              "      <td>4</td>\n",
              "      <td>0</td>\n",
              "    </tr>\n",
              "    <tr>\n",
              "      <th>3</th>\n",
              "      <td>1</td>\n",
              "      <td>0</td>\n",
              "      <td>Allison, Mr. Hudson Joshua Creighton</td>\n",
              "      <td>1</td>\n",
              "      <td>2</td>\n",
              "      <td>151.5500</td>\n",
              "      <td>0</td>\n",
              "      <td>False</td>\n",
              "      <td>12.310565</td>\n",
              "      <td>5.027492</td>\n",
              "      <td>0.373669</td>\n",
              "      <td>0.032444</td>\n",
              "      <td>1</td>\n",
              "      <td>4</td>\n",
              "      <td>0</td>\n",
              "    </tr>\n",
              "    <tr>\n",
              "      <th>4</th>\n",
              "      <td>1</td>\n",
              "      <td>0</td>\n",
              "      <td>Allison, Mrs. Hudson J C (Bessie Waldo Daniels)</td>\n",
              "      <td>0</td>\n",
              "      <td>2</td>\n",
              "      <td>151.5500</td>\n",
              "      <td>0</td>\n",
              "      <td>False</td>\n",
              "      <td>12.310565</td>\n",
              "      <td>5.027492</td>\n",
              "      <td>0.311036</td>\n",
              "      <td>-0.347201</td>\n",
              "      <td>3</td>\n",
              "      <td>4</td>\n",
              "      <td>0</td>\n",
              "    </tr>\n",
              "  </tbody>\n",
              "</table>\n",
              "</div>"
            ],
            "text/plain": [
              "   pclass  survived  ... jumlahkeluarga  sendirian\n",
              "0       1         1  ...              1          1\n",
              "1       1         1  ...              4          0\n",
              "2       1         0  ...              4          0\n",
              "3       1         0  ...              4          0\n",
              "4       1         0  ...              4          0\n",
              "\n",
              "[5 rows x 15 columns]"
            ]
          },
          "metadata": {
            "tags": []
          },
          "execution_count": 111
        }
      ]
    },
    {
      "cell_type": "code",
      "metadata": {
        "id": "IOcyBcPBoSW8"
      },
      "source": [
        "df3 = df3.drop(['name'], axis = 1)"
      ],
      "execution_count": 112,
      "outputs": []
    },
    {
      "cell_type": "code",
      "metadata": {
        "colab": {
          "base_uri": "https://localhost:8080/",
          "height": 204
        },
        "id": "7nEMfK9Wocg0",
        "outputId": "4f82c32d-f47f-4b63-e343-7c1f520abd49"
      },
      "source": [
        "df3.head()"
      ],
      "execution_count": 113,
      "outputs": [
        {
          "output_type": "execute_result",
          "data": {
            "text/html": [
              "<div>\n",
              "<style scoped>\n",
              "    .dataframe tbody tr th:only-of-type {\n",
              "        vertical-align: middle;\n",
              "    }\n",
              "\n",
              "    .dataframe tbody tr th {\n",
              "        vertical-align: top;\n",
              "    }\n",
              "\n",
              "    .dataframe thead th {\n",
              "        text-align: right;\n",
              "    }\n",
              "</style>\n",
              "<table border=\"1\" class=\"dataframe\">\n",
              "  <thead>\n",
              "    <tr style=\"text-align: right;\">\n",
              "      <th></th>\n",
              "      <th>pclass</th>\n",
              "      <th>survived</th>\n",
              "      <th>sex</th>\n",
              "      <th>age</th>\n",
              "      <th>fare</th>\n",
              "      <th>embarked</th>\n",
              "      <th>missing_indicator</th>\n",
              "      <th>fare_sqrt</th>\n",
              "      <th>fare_log</th>\n",
              "      <th>age_minmax</th>\n",
              "      <th>age_std</th>\n",
              "      <th>title</th>\n",
              "      <th>jumlahkeluarga</th>\n",
              "      <th>sendirian</th>\n",
              "    </tr>\n",
              "  </thead>\n",
              "  <tbody>\n",
              "    <tr>\n",
              "      <th>0</th>\n",
              "      <td>1</td>\n",
              "      <td>1</td>\n",
              "      <td>0</td>\n",
              "      <td>2</td>\n",
              "      <td>211.3375</td>\n",
              "      <td>0</td>\n",
              "      <td>False</td>\n",
              "      <td>14.537452</td>\n",
              "      <td>5.358177</td>\n",
              "      <td>0.361142</td>\n",
              "      <td>-0.043485</td>\n",
              "      <td>2</td>\n",
              "      <td>1</td>\n",
              "      <td>1</td>\n",
              "    </tr>\n",
              "    <tr>\n",
              "      <th>1</th>\n",
              "      <td>1</td>\n",
              "      <td>1</td>\n",
              "      <td>1</td>\n",
              "      <td>0</td>\n",
              "      <td>151.5500</td>\n",
              "      <td>0</td>\n",
              "      <td>False</td>\n",
              "      <td>12.310565</td>\n",
              "      <td>5.027492</td>\n",
              "      <td>0.009395</td>\n",
              "      <td>-2.175570</td>\n",
              "      <td>4</td>\n",
              "      <td>4</td>\n",
              "      <td>0</td>\n",
              "    </tr>\n",
              "    <tr>\n",
              "      <th>2</th>\n",
              "      <td>1</td>\n",
              "      <td>0</td>\n",
              "      <td>0</td>\n",
              "      <td>0</td>\n",
              "      <td>151.5500</td>\n",
              "      <td>0</td>\n",
              "      <td>False</td>\n",
              "      <td>12.310565</td>\n",
              "      <td>5.027492</td>\n",
              "      <td>0.022924</td>\n",
              "      <td>-2.093567</td>\n",
              "      <td>2</td>\n",
              "      <td>4</td>\n",
              "      <td>0</td>\n",
              "    </tr>\n",
              "    <tr>\n",
              "      <th>3</th>\n",
              "      <td>1</td>\n",
              "      <td>0</td>\n",
              "      <td>1</td>\n",
              "      <td>2</td>\n",
              "      <td>151.5500</td>\n",
              "      <td>0</td>\n",
              "      <td>False</td>\n",
              "      <td>12.310565</td>\n",
              "      <td>5.027492</td>\n",
              "      <td>0.373669</td>\n",
              "      <td>0.032444</td>\n",
              "      <td>1</td>\n",
              "      <td>4</td>\n",
              "      <td>0</td>\n",
              "    </tr>\n",
              "    <tr>\n",
              "      <th>4</th>\n",
              "      <td>1</td>\n",
              "      <td>0</td>\n",
              "      <td>0</td>\n",
              "      <td>2</td>\n",
              "      <td>151.5500</td>\n",
              "      <td>0</td>\n",
              "      <td>False</td>\n",
              "      <td>12.310565</td>\n",
              "      <td>5.027492</td>\n",
              "      <td>0.311036</td>\n",
              "      <td>-0.347201</td>\n",
              "      <td>3</td>\n",
              "      <td>4</td>\n",
              "      <td>0</td>\n",
              "    </tr>\n",
              "  </tbody>\n",
              "</table>\n",
              "</div>"
            ],
            "text/plain": [
              "   pclass  survived  sex  age  ...   age_std  title  jumlahkeluarga  sendirian\n",
              "0       1         1    0    2  ... -0.043485      2               1          1\n",
              "1       1         1    1    0  ... -2.175570      4               4          0\n",
              "2       1         0    0    0  ... -2.093567      2               4          0\n",
              "3       1         0    1    2  ...  0.032444      1               4          0\n",
              "4       1         0    0    2  ... -0.347201      3               4          0\n",
              "\n",
              "[5 rows x 14 columns]"
            ]
          },
          "metadata": {
            "tags": []
          },
          "execution_count": 113
        }
      ]
    },
    {
      "cell_type": "code",
      "metadata": {
        "colab": {
          "base_uri": "https://localhost:8080/"
        },
        "id": "tPykTROwogxG",
        "outputId": "426f53ac-66e6-4e0b-b58a-10cacdb669a8"
      },
      "source": [
        "df3['fare'].describe()"
      ],
      "execution_count": 114,
      "outputs": [
        {
          "output_type": "execute_result",
          "data": {
            "text/plain": [
              "count    1308.000000\n",
              "mean       33.295479\n",
              "std        51.758668\n",
              "min         0.000000\n",
              "25%         7.895800\n",
              "50%        14.454200\n",
              "75%        31.275000\n",
              "max       512.329200\n",
              "Name: fare, dtype: float64"
            ]
          },
          "metadata": {
            "tags": []
          },
          "execution_count": 114
        }
      ]
    },
    {
      "cell_type": "code",
      "metadata": {
        "id": "hAmIzRn1ophn"
      },
      "source": [
        "df3['fare'].fillna(df3['fare'].dropna().median(), inplace=True)"
      ],
      "execution_count": 115,
      "outputs": []
    },
    {
      "cell_type": "code",
      "metadata": {
        "colab": {
          "base_uri": "https://localhost:8080/"
        },
        "id": "EO1x1Bpnozob",
        "outputId": "5164143e-f3c9-4f41-f519-a0c1b98be4d3"
      },
      "source": [
        "df3['fare'].describe()"
      ],
      "execution_count": 116,
      "outputs": [
        {
          "output_type": "execute_result",
          "data": {
            "text/plain": [
              "count    1309.000000\n",
              "mean       33.281086\n",
              "std        51.741500\n",
              "min         0.000000\n",
              "25%         7.895800\n",
              "50%        14.454200\n",
              "75%        31.275000\n",
              "max       512.329200\n",
              "Name: fare, dtype: float64"
            ]
          },
          "metadata": {
            "tags": []
          },
          "execution_count": 116
        }
      ]
    },
    {
      "cell_type": "code",
      "metadata": {
        "colab": {
          "base_uri": "https://localhost:8080/",
          "height": 173
        },
        "id": "fOURAwgmo2oa",
        "outputId": "1929818c-6265-4ba2-d0a5-ae581b05a6e4"
      },
      "source": [
        "df3['rentangharga'] = pd.qcut(df3['fare'], 4)\n",
        "df3[['rentangharga', 'survived']].groupby(['rentangharga'], as_index=False).mean().sort_values(by='rentangharga', ascending=True)"
      ],
      "execution_count": 117,
      "outputs": [
        {
          "output_type": "execute_result",
          "data": {
            "text/html": [
              "<div>\n",
              "<style scoped>\n",
              "    .dataframe tbody tr th:only-of-type {\n",
              "        vertical-align: middle;\n",
              "    }\n",
              "\n",
              "    .dataframe tbody tr th {\n",
              "        vertical-align: top;\n",
              "    }\n",
              "\n",
              "    .dataframe thead th {\n",
              "        text-align: right;\n",
              "    }\n",
              "</style>\n",
              "<table border=\"1\" class=\"dataframe\">\n",
              "  <thead>\n",
              "    <tr style=\"text-align: right;\">\n",
              "      <th></th>\n",
              "      <th>rentangharga</th>\n",
              "      <th>survived</th>\n",
              "    </tr>\n",
              "  </thead>\n",
              "  <tbody>\n",
              "    <tr>\n",
              "      <th>0</th>\n",
              "      <td>(-0.001, 7.896]</td>\n",
              "      <td>0.228487</td>\n",
              "    </tr>\n",
              "    <tr>\n",
              "      <th>1</th>\n",
              "      <td>(7.896, 14.454]</td>\n",
              "      <td>0.283489</td>\n",
              "    </tr>\n",
              "    <tr>\n",
              "      <th>2</th>\n",
              "      <td>(14.454, 31.275]</td>\n",
              "      <td>0.435976</td>\n",
              "    </tr>\n",
              "    <tr>\n",
              "      <th>3</th>\n",
              "      <td>(31.275, 512.329]</td>\n",
              "      <td>0.585139</td>\n",
              "    </tr>\n",
              "  </tbody>\n",
              "</table>\n",
              "</div>"
            ],
            "text/plain": [
              "        rentangharga  survived\n",
              "0    (-0.001, 7.896]  0.228487\n",
              "1    (7.896, 14.454]  0.283489\n",
              "2   (14.454, 31.275]  0.435976\n",
              "3  (31.275, 512.329]  0.585139"
            ]
          },
          "metadata": {
            "tags": []
          },
          "execution_count": 117
        }
      ]
    },
    {
      "cell_type": "code",
      "metadata": {
        "id": "nLs2XqxPpZYd"
      },
      "source": [
        "df3.loc[df3['fare'] <= 7.896, 'fare'] = 0\n",
        "df3.loc[(df3['fare'] > 7.896) & (df3['fare'] <= 14.454), 'fare'] = 1\n",
        "df3.loc[(df3['fare'] > 14.454) & (df3['fare'] <= 31.275), 'fare'] = 2\n",
        "df3.loc[df3['fare'] > 31.275, 'fare'] = 3\n",
        "df3['fare'] = df3['fare'].astype(int)"
      ],
      "execution_count": 118,
      "outputs": []
    },
    {
      "cell_type": "code",
      "metadata": {
        "colab": {
          "base_uri": "https://localhost:8080/",
          "height": 204
        },
        "id": "UMY3oHliqHsu",
        "outputId": "675ebd56-02fe-4f3f-dc68-223ee98ce0bb"
      },
      "source": [
        "df3.head()"
      ],
      "execution_count": 119,
      "outputs": [
        {
          "output_type": "execute_result",
          "data": {
            "text/html": [
              "<div>\n",
              "<style scoped>\n",
              "    .dataframe tbody tr th:only-of-type {\n",
              "        vertical-align: middle;\n",
              "    }\n",
              "\n",
              "    .dataframe tbody tr th {\n",
              "        vertical-align: top;\n",
              "    }\n",
              "\n",
              "    .dataframe thead th {\n",
              "        text-align: right;\n",
              "    }\n",
              "</style>\n",
              "<table border=\"1\" class=\"dataframe\">\n",
              "  <thead>\n",
              "    <tr style=\"text-align: right;\">\n",
              "      <th></th>\n",
              "      <th>pclass</th>\n",
              "      <th>survived</th>\n",
              "      <th>sex</th>\n",
              "      <th>age</th>\n",
              "      <th>fare</th>\n",
              "      <th>embarked</th>\n",
              "      <th>missing_indicator</th>\n",
              "      <th>fare_sqrt</th>\n",
              "      <th>fare_log</th>\n",
              "      <th>age_minmax</th>\n",
              "      <th>age_std</th>\n",
              "      <th>title</th>\n",
              "      <th>jumlahkeluarga</th>\n",
              "      <th>sendirian</th>\n",
              "      <th>rentangharga</th>\n",
              "    </tr>\n",
              "  </thead>\n",
              "  <tbody>\n",
              "    <tr>\n",
              "      <th>0</th>\n",
              "      <td>1</td>\n",
              "      <td>1</td>\n",
              "      <td>0</td>\n",
              "      <td>2</td>\n",
              "      <td>3</td>\n",
              "      <td>0</td>\n",
              "      <td>False</td>\n",
              "      <td>14.537452</td>\n",
              "      <td>5.358177</td>\n",
              "      <td>0.361142</td>\n",
              "      <td>-0.043485</td>\n",
              "      <td>2</td>\n",
              "      <td>1</td>\n",
              "      <td>1</td>\n",
              "      <td>(31.275, 512.329]</td>\n",
              "    </tr>\n",
              "    <tr>\n",
              "      <th>1</th>\n",
              "      <td>1</td>\n",
              "      <td>1</td>\n",
              "      <td>1</td>\n",
              "      <td>0</td>\n",
              "      <td>3</td>\n",
              "      <td>0</td>\n",
              "      <td>False</td>\n",
              "      <td>12.310565</td>\n",
              "      <td>5.027492</td>\n",
              "      <td>0.009395</td>\n",
              "      <td>-2.175570</td>\n",
              "      <td>4</td>\n",
              "      <td>4</td>\n",
              "      <td>0</td>\n",
              "      <td>(31.275, 512.329]</td>\n",
              "    </tr>\n",
              "    <tr>\n",
              "      <th>2</th>\n",
              "      <td>1</td>\n",
              "      <td>0</td>\n",
              "      <td>0</td>\n",
              "      <td>0</td>\n",
              "      <td>3</td>\n",
              "      <td>0</td>\n",
              "      <td>False</td>\n",
              "      <td>12.310565</td>\n",
              "      <td>5.027492</td>\n",
              "      <td>0.022924</td>\n",
              "      <td>-2.093567</td>\n",
              "      <td>2</td>\n",
              "      <td>4</td>\n",
              "      <td>0</td>\n",
              "      <td>(31.275, 512.329]</td>\n",
              "    </tr>\n",
              "    <tr>\n",
              "      <th>3</th>\n",
              "      <td>1</td>\n",
              "      <td>0</td>\n",
              "      <td>1</td>\n",
              "      <td>2</td>\n",
              "      <td>3</td>\n",
              "      <td>0</td>\n",
              "      <td>False</td>\n",
              "      <td>12.310565</td>\n",
              "      <td>5.027492</td>\n",
              "      <td>0.373669</td>\n",
              "      <td>0.032444</td>\n",
              "      <td>1</td>\n",
              "      <td>4</td>\n",
              "      <td>0</td>\n",
              "      <td>(31.275, 512.329]</td>\n",
              "    </tr>\n",
              "    <tr>\n",
              "      <th>4</th>\n",
              "      <td>1</td>\n",
              "      <td>0</td>\n",
              "      <td>0</td>\n",
              "      <td>2</td>\n",
              "      <td>3</td>\n",
              "      <td>0</td>\n",
              "      <td>False</td>\n",
              "      <td>12.310565</td>\n",
              "      <td>5.027492</td>\n",
              "      <td>0.311036</td>\n",
              "      <td>-0.347201</td>\n",
              "      <td>3</td>\n",
              "      <td>4</td>\n",
              "      <td>0</td>\n",
              "      <td>(31.275, 512.329]</td>\n",
              "    </tr>\n",
              "  </tbody>\n",
              "</table>\n",
              "</div>"
            ],
            "text/plain": [
              "   pclass  survived  sex  ...  jumlahkeluarga  sendirian       rentangharga\n",
              "0       1         1    0  ...               1          1  (31.275, 512.329]\n",
              "1       1         1    1  ...               4          0  (31.275, 512.329]\n",
              "2       1         0    0  ...               4          0  (31.275, 512.329]\n",
              "3       1         0    1  ...               4          0  (31.275, 512.329]\n",
              "4       1         0    0  ...               4          0  (31.275, 512.329]\n",
              "\n",
              "[5 rows x 15 columns]"
            ]
          },
          "metadata": {
            "tags": []
          },
          "execution_count": 119
        }
      ]
    },
    {
      "cell_type": "code",
      "metadata": {
        "id": "D4RmWI9IqSno"
      },
      "source": [
        "df3 = df3.drop(['missing_indicator', 'fare_sqrt', 'fare_log', 'age_minmax', 'age_std', 'jumlahkeluarga', 'rentangharga'], axis=1)"
      ],
      "execution_count": 120,
      "outputs": []
    },
    {
      "cell_type": "code",
      "metadata": {
        "colab": {
          "base_uri": "https://localhost:8080/",
          "height": 204
        },
        "id": "Ub-DkESKq5E0",
        "outputId": "05cdc49f-556a-4c14-f3e4-efabafa0f37f"
      },
      "source": [
        "df3.head()"
      ],
      "execution_count": 121,
      "outputs": [
        {
          "output_type": "execute_result",
          "data": {
            "text/html": [
              "<div>\n",
              "<style scoped>\n",
              "    .dataframe tbody tr th:only-of-type {\n",
              "        vertical-align: middle;\n",
              "    }\n",
              "\n",
              "    .dataframe tbody tr th {\n",
              "        vertical-align: top;\n",
              "    }\n",
              "\n",
              "    .dataframe thead th {\n",
              "        text-align: right;\n",
              "    }\n",
              "</style>\n",
              "<table border=\"1\" class=\"dataframe\">\n",
              "  <thead>\n",
              "    <tr style=\"text-align: right;\">\n",
              "      <th></th>\n",
              "      <th>pclass</th>\n",
              "      <th>survived</th>\n",
              "      <th>sex</th>\n",
              "      <th>age</th>\n",
              "      <th>fare</th>\n",
              "      <th>embarked</th>\n",
              "      <th>title</th>\n",
              "      <th>sendirian</th>\n",
              "    </tr>\n",
              "  </thead>\n",
              "  <tbody>\n",
              "    <tr>\n",
              "      <th>0</th>\n",
              "      <td>1</td>\n",
              "      <td>1</td>\n",
              "      <td>0</td>\n",
              "      <td>2</td>\n",
              "      <td>3</td>\n",
              "      <td>0</td>\n",
              "      <td>2</td>\n",
              "      <td>1</td>\n",
              "    </tr>\n",
              "    <tr>\n",
              "      <th>1</th>\n",
              "      <td>1</td>\n",
              "      <td>1</td>\n",
              "      <td>1</td>\n",
              "      <td>0</td>\n",
              "      <td>3</td>\n",
              "      <td>0</td>\n",
              "      <td>4</td>\n",
              "      <td>0</td>\n",
              "    </tr>\n",
              "    <tr>\n",
              "      <th>2</th>\n",
              "      <td>1</td>\n",
              "      <td>0</td>\n",
              "      <td>0</td>\n",
              "      <td>0</td>\n",
              "      <td>3</td>\n",
              "      <td>0</td>\n",
              "      <td>2</td>\n",
              "      <td>0</td>\n",
              "    </tr>\n",
              "    <tr>\n",
              "      <th>3</th>\n",
              "      <td>1</td>\n",
              "      <td>0</td>\n",
              "      <td>1</td>\n",
              "      <td>2</td>\n",
              "      <td>3</td>\n",
              "      <td>0</td>\n",
              "      <td>1</td>\n",
              "      <td>0</td>\n",
              "    </tr>\n",
              "    <tr>\n",
              "      <th>4</th>\n",
              "      <td>1</td>\n",
              "      <td>0</td>\n",
              "      <td>0</td>\n",
              "      <td>2</td>\n",
              "      <td>3</td>\n",
              "      <td>0</td>\n",
              "      <td>3</td>\n",
              "      <td>0</td>\n",
              "    </tr>\n",
              "  </tbody>\n",
              "</table>\n",
              "</div>"
            ],
            "text/plain": [
              "   pclass  survived  sex  age  fare  embarked  title  sendirian\n",
              "0       1         1    0    2     3         0      2          1\n",
              "1       1         1    1    0     3         0      4          0\n",
              "2       1         0    0    0     3         0      2          0\n",
              "3       1         0    1    2     3         0      1          0\n",
              "4       1         0    0    2     3         0      3          0"
            ]
          },
          "metadata": {
            "tags": []
          },
          "execution_count": 121
        }
      ]
    },
    {
      "cell_type": "code",
      "metadata": {
        "id": "cnOrRnKorFDw"
      },
      "source": [
        "df3['usiakelas'] = df3['pclass'] * df3['age']"
      ],
      "execution_count": 122,
      "outputs": []
    },
    {
      "cell_type": "code",
      "metadata": {
        "colab": {
          "base_uri": "https://localhost:8080/",
          "height": 204
        },
        "id": "TkYD6X_PrQw9",
        "outputId": "98a17136-8103-4265-8974-a4dd8f386790"
      },
      "source": [
        "df3.head()"
      ],
      "execution_count": 123,
      "outputs": [
        {
          "output_type": "execute_result",
          "data": {
            "text/html": [
              "<div>\n",
              "<style scoped>\n",
              "    .dataframe tbody tr th:only-of-type {\n",
              "        vertical-align: middle;\n",
              "    }\n",
              "\n",
              "    .dataframe tbody tr th {\n",
              "        vertical-align: top;\n",
              "    }\n",
              "\n",
              "    .dataframe thead th {\n",
              "        text-align: right;\n",
              "    }\n",
              "</style>\n",
              "<table border=\"1\" class=\"dataframe\">\n",
              "  <thead>\n",
              "    <tr style=\"text-align: right;\">\n",
              "      <th></th>\n",
              "      <th>pclass</th>\n",
              "      <th>survived</th>\n",
              "      <th>sex</th>\n",
              "      <th>age</th>\n",
              "      <th>fare</th>\n",
              "      <th>embarked</th>\n",
              "      <th>title</th>\n",
              "      <th>sendirian</th>\n",
              "      <th>usiakelas</th>\n",
              "    </tr>\n",
              "  </thead>\n",
              "  <tbody>\n",
              "    <tr>\n",
              "      <th>0</th>\n",
              "      <td>1</td>\n",
              "      <td>1</td>\n",
              "      <td>0</td>\n",
              "      <td>2</td>\n",
              "      <td>3</td>\n",
              "      <td>0</td>\n",
              "      <td>2</td>\n",
              "      <td>1</td>\n",
              "      <td>2</td>\n",
              "    </tr>\n",
              "    <tr>\n",
              "      <th>1</th>\n",
              "      <td>1</td>\n",
              "      <td>1</td>\n",
              "      <td>1</td>\n",
              "      <td>0</td>\n",
              "      <td>3</td>\n",
              "      <td>0</td>\n",
              "      <td>4</td>\n",
              "      <td>0</td>\n",
              "      <td>0</td>\n",
              "    </tr>\n",
              "    <tr>\n",
              "      <th>2</th>\n",
              "      <td>1</td>\n",
              "      <td>0</td>\n",
              "      <td>0</td>\n",
              "      <td>0</td>\n",
              "      <td>3</td>\n",
              "      <td>0</td>\n",
              "      <td>2</td>\n",
              "      <td>0</td>\n",
              "      <td>0</td>\n",
              "    </tr>\n",
              "    <tr>\n",
              "      <th>3</th>\n",
              "      <td>1</td>\n",
              "      <td>0</td>\n",
              "      <td>1</td>\n",
              "      <td>2</td>\n",
              "      <td>3</td>\n",
              "      <td>0</td>\n",
              "      <td>1</td>\n",
              "      <td>0</td>\n",
              "      <td>2</td>\n",
              "    </tr>\n",
              "    <tr>\n",
              "      <th>4</th>\n",
              "      <td>1</td>\n",
              "      <td>0</td>\n",
              "      <td>0</td>\n",
              "      <td>2</td>\n",
              "      <td>3</td>\n",
              "      <td>0</td>\n",
              "      <td>3</td>\n",
              "      <td>0</td>\n",
              "      <td>2</td>\n",
              "    </tr>\n",
              "  </tbody>\n",
              "</table>\n",
              "</div>"
            ],
            "text/plain": [
              "   pclass  survived  sex  age  fare  embarked  title  sendirian  usiakelas\n",
              "0       1         1    0    2     3         0      2          1          2\n",
              "1       1         1    1    0     3         0      4          0          0\n",
              "2       1         0    0    0     3         0      2          0          0\n",
              "3       1         0    1    2     3         0      1          0          2\n",
              "4       1         0    0    2     3         0      3          0          2"
            ]
          },
          "metadata": {
            "tags": []
          },
          "execution_count": 123
        }
      ]
    }
  ]
}