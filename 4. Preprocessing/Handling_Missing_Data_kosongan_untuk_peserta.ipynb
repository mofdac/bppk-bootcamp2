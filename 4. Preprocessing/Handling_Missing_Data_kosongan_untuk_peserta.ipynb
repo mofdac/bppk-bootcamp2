{
  "nbformat": 4,
  "nbformat_minor": 0,
  "metadata": {
    "colab": {
      "name": "Handling Missing Data_kosongan_untuk_peserta.ipynb",
      "provenance": [],
      "collapsed_sections": []
    },
    "kernelspec": {
      "name": "python3",
      "display_name": "Python 3"
    },
    "language_info": {
      "name": "python"
    }
  },
  "cells": [
    {
      "cell_type": "markdown",
      "metadata": {
        "id": "fuC_C5ndMYrf"
      },
      "source": [
        "#**Handling Missing Data**\n",
        "\n",
        "Kita akan menggunakan dataset titanic pada notebook ini."
      ]
    },
    {
      "cell_type": "code",
      "metadata": {
        "id": "0dVQARCoLqtU"
      },
      "source": [
        "# Impor library yang akan digunakan\n",
        "import pandas as pd\n",
        "import numpy as np\n",
        "import seaborn as sns"
      ],
      "execution_count": null,
      "outputs": []
    },
    {
      "cell_type": "code",
      "metadata": {
        "id": "6OP0dAyUSDm5"
      },
      "source": [
        "# Ambil datasetnya\n",
        "!wget https://cloudstorage.dadangnh.com/bahan-ajar/bootcamp/titanic.csv\n",
        "data = pd.read_csv('titanic.csv')"
      ],
      "execution_count": null,
      "outputs": []
    },
    {
      "cell_type": "code",
      "metadata": {
        "id": "rmRJPOMAoRVh"
      },
      "source": [
        "# Membaca bentuk dataset\n"
      ],
      "execution_count": null,
      "outputs": []
    },
    {
      "cell_type": "code",
      "metadata": {
        "id": "QuBgIMKnpbQW"
      },
      "source": [
        ""
      ],
      "execution_count": null,
      "outputs": []
    },
    {
      "cell_type": "code",
      "metadata": {
        "id": "DwA9sjVQpFLv"
      },
      "source": [
        "# Membaca tipe kolom\n"
      ],
      "execution_count": null,
      "outputs": []
    },
    {
      "cell_type": "code",
      "metadata": {
        "id": "JolzoEMkpVKs"
      },
      "source": [
        "# Mendiskripsikan dataset\n"
      ],
      "execution_count": null,
      "outputs": []
    },
    {
      "cell_type": "code",
      "metadata": {
        "id": "alKf5Y40pmbA"
      },
      "source": [
        "# Melihat sampel 5 baris teratas\n"
      ],
      "execution_count": null,
      "outputs": []
    },
    {
      "cell_type": "markdown",
      "metadata": {
        "id": "jZ7yeS_ksS_r"
      },
      "source": [
        "## Mencari missing value\n",
        "\n",
        "Dapat menggunakan fungsi berikut:\n",
        "\n",
        "** info()**\n",
        "* Memberi informasi total data\n",
        "* Memberi informasi detail terkait tipe data, 'object' berarti string, tipe lainnya seperti int and float\n",
        "* Juga memberi informasi terkait jumlah observasi atas data 'non-null' pada setiap kolom\n",
        "\n",
        "** describe() **By default akan menampilkan tabel informasi dalam bentuk angka, yang terdiri dari:\n",
        "* Statistik deskriptif\n",
        "* jumlah data 'non-null' yang di observasi\n",
        "* dengan parameter \"include='all'\" akan menampilkan seluruh kolom dan parameter \"include=['O']\" akan menyertakan object\n",
        "\n",
        "**.isnull().sum()***\n",
        "* akan menampilkan jumlah dari *missing value* dari setiap kolom"
      ]
    },
    {
      "cell_type": "code",
      "metadata": {
        "id": "ioWB2UPkpsGT"
      },
      "source": [
        "# Menampilkan informasi dataset\n"
      ],
      "execution_count": null,
      "outputs": []
    },
    {
      "cell_type": "code",
      "metadata": {
        "id": "YS7lOlbzvjrK"
      },
      "source": [
        "# Menampilkan informasi dataset dengan fungsi describe()\n"
      ],
      "execution_count": null,
      "outputs": []
    },
    {
      "cell_type": "code",
      "metadata": {
        "id": "QzrRnGpOvvQj"
      },
      "source": [
        "# Menampilkan informasi dataset dengan fungsi describe() dan include object\n"
      ],
      "execution_count": null,
      "outputs": []
    },
    {
      "cell_type": "code",
      "metadata": {
        "id": "5jHesx63v6SS"
      },
      "source": [
        "# Menampilkan informasi dataset dengan seluruh kolom\n"
      ],
      "execution_count": null,
      "outputs": []
    },
    {
      "cell_type": "code",
      "metadata": {
        "id": "n92x15jev1ds"
      },
      "source": [
        "# Menampilkan data jumlah missing value pada setiap kolom\n"
      ],
      "execution_count": null,
      "outputs": []
    },
    {
      "cell_type": "markdown",
      "metadata": {
        "id": "nzZKSRVOyBMH"
      },
      "source": [
        "Manakah yang memungkinkan untuk kita imputasi?"
      ]
    },
    {
      "cell_type": "markdown",
      "metadata": {
        "id": "LJY9vQS21_Ba"
      },
      "source": [
        "## Investigasi missing value pada kolom usia\n",
        "\n",
        "Dataset Titanic pada umumnya digunakan untuk analisis prediksi. Pada dataset tersebut, terdapat relatif banyak data yang hilang pada kolom usia, apa yang perlu kita lakukan? Apakah kita hapus saja kolom tersebut, atau isi data kosong dengan data seperti ini:\n",
        "\n",
        "usiaRataRata = np.mean(data.age)\n",
        "\n",
        "data.age = data.age.fillna(usiaRataRata) \n",
        "\n",
        "### Diskusi:\n",
        "\n",
        "* **Adakah yang salah dari metode diatas?**\n",
        "\n",
        "* **Berapa rata-rata usia penumpang?**\n",
        "\n",
        "* **Berapa rata-rata usia penumpang laki-laki, berapa rata-rata usia penumpang perempuan? Adakah yang dapat digali?**\n"
      ]
    },
    {
      "cell_type": "code",
      "metadata": {
        "id": "KoE1Qs51pqtF"
      },
      "source": [
        "# Rata-rata usia seluruh penumpang\n"
      ],
      "execution_count": null,
      "outputs": []
    },
    {
      "cell_type": "code",
      "metadata": {
        "id": "hbDmjE944F7y"
      },
      "source": [
        "# Rata-rata usia penumpang per jenis kelamin\n"
      ],
      "execution_count": null,
      "outputs": []
    },
    {
      "cell_type": "code",
      "metadata": {
        "id": "LvAC3jGPo8_a"
      },
      "source": [
        "# Mari lihat lebih detail persebaran usia penumpang\n"
      ],
      "execution_count": null,
      "outputs": []
    },
    {
      "cell_type": "code",
      "metadata": {
        "id": "4MzfK7B46vka"
      },
      "source": [
        "# Sebagian besar penumpang masih muda, diantara 20-30 tahun. Mari lihat nilai unik dari usia-nya\n"
      ],
      "execution_count": null,
      "outputs": []
    },
    {
      "cell_type": "markdown",
      "metadata": {
        "id": "mj8DIej77OOg"
      },
      "source": [
        "dapat dilihat bahwa nan juga masuk dalam perhitungan\n",
        "\n",
        "### Diskusi:\n",
        "*  berapa banyak nilai 'NaN' pada kolom usia?\n",
        "*  berapa banyak usia  < 1?"
      ]
    },
    {
      "cell_type": "code",
      "metadata": {
        "id": "F7Ke0SAe6_rw"
      },
      "source": [
        "# Mari lihat data yang berisi nan pada kolom age\n"
      ],
      "execution_count": null,
      "outputs": []
    },
    {
      "cell_type": "code",
      "metadata": {
        "id": "JE3zAI_29UVg"
      },
      "source": [
        "# Data dengan usia penumpang < 1\n"
      ],
      "execution_count": null,
      "outputs": []
    },
    {
      "cell_type": "code",
      "metadata": {
        "id": "83bygaq79lgd"
      },
      "source": [
        ""
      ],
      "execution_count": null,
      "outputs": []
    },
    {
      "cell_type": "code",
      "metadata": {
        "id": "du2aqpuX95QU"
      },
      "source": [
        "\n",
        "# 263 penumpang tidak memiliki data usia"
      ],
      "execution_count": null,
      "outputs": []
    },
    {
      "cell_type": "markdown",
      "metadata": {
        "id": "1UvOr7Q0-iX1"
      },
      "source": [
        "### Mari lihat faktor lain yang dapat menjadi clue untuk usia penumpang, seperti nama?\n",
        "\n",
        "### Diskusi:\n",
        "\n",
        "* Dapatkah kita asumsikan bahwa 'Mrs' berarti wanita yang telah menikah (bukan anak-anak)?\n",
        "\n",
        "* Bagaimana dengan 'Miss' atau 'Ms'?\n"
      ]
    },
    {
      "cell_type": "code",
      "metadata": {
        "id": "ve6zZoXF-Q7T"
      },
      "source": [
        "# Buat fungsi untuk meng-ekstrak title/gelar pada nama\n",
        "# Pada dataset, nama ditulis dengan format seperti:\n",
        "# Allison, Master. Hudson Trevor\n",
        "# Sehingga kita perlu pisahkan ','\n",
        "# kemudian pisahkan '.'\n",
        "\n",
        "def ekstrak_nama(nama):\n",
        "     return nama.split(',')[1].split('.')[0].strip()"
      ],
      "execution_count": null,
      "outputs": []
    },
    {
      "cell_type": "code",
      "metadata": {
        "id": "VoOJ06dY_jsD"
      },
      "source": [
        "# Testing esktrak nama\n",
        "\n",
        "# Cek nilai unik dari setiap title\n"
      ],
      "execution_count": null,
      "outputs": []
    },
    {
      "cell_type": "code",
      "metadata": {
        "id": "hFXBNgWs_9PW"
      },
      "source": [
        "# Beberapa gelar mungkin terlihat asing, akan tetapi sebagian besar merupakan gelar standar, dapat dicek dengan menghitung jumlahnya\n"
      ],
      "execution_count": null,
      "outputs": []
    },
    {
      "cell_type": "code",
      "metadata": {
        "id": "KS5Fs-AFANOv"
      },
      "source": [
        "# Cross check apakah jumlah sesuai\n"
      ],
      "execution_count": null,
      "outputs": []
    },
    {
      "cell_type": "markdown",
      "metadata": {
        "id": "xD0FkjnxBXR6"
      },
      "source": [
        "### Dari pemrosesan diatas, dapat diketahui bahwa seluruh penumpang memiliki title/ gelar.\n",
        "\n",
        "Terdapat gelar 'Jonkheer' (dan Dona - Spanish?)\n",
        "\n",
        "#### Bagaimana dengan gelar 'Master'? Bisakah diasumsikan sebagai anak-anak?\n",
        "\n",
        "#### Dr, Rev, Col, Major, Capt, Sir, Don, apakah semuanya orang dewasa?"
      ]
    },
    {
      "cell_type": "code",
      "metadata": {
        "id": "NnbQH5Xo93Y3"
      },
      "source": [
        "# Buat duplikat dari dataset semula\n"
      ],
      "execution_count": null,
      "outputs": []
    },
    {
      "cell_type": "code",
      "metadata": {
        "id": "dWsNVThyHb8n"
      },
      "source": [
        "# Periksa bahwa data title tidak ada yang kosong\n"
      ],
      "execution_count": null,
      "outputs": []
    },
    {
      "cell_type": "markdown",
      "metadata": {
        "id": "FjdfoIZmH4UL"
      },
      "source": [
        "#### Lihat distribusi *missing value* dari kolom title"
      ]
    },
    {
      "cell_type": "code",
      "metadata": {
        "id": "JbM5jJXeHu3d"
      },
      "source": [
        "# Cek jumlah data missing\n"
      ],
      "execution_count": null,
      "outputs": []
    },
    {
      "cell_type": "code",
      "metadata": {
        "id": "ihCUWik8ICa-"
      },
      "source": [
        "# Cek untuk title Dr\n"
      ],
      "execution_count": null,
      "outputs": []
    },
    {
      "cell_type": "code",
      "metadata": {
        "id": "WFz1qN37KjTq"
      },
      "source": [
        "# rata-rata usia Dr\n"
      ],
      "execution_count": null,
      "outputs": []
    },
    {
      "cell_type": "code",
      "metadata": {
        "id": "vOwJgYoFKq_k"
      },
      "source": [
        ""
      ],
      "execution_count": null,
      "outputs": []
    },
    {
      "cell_type": "code",
      "metadata": {
        "id": "icdkVAJ6HKCW"
      },
      "source": [
        ""
      ],
      "execution_count": null,
      "outputs": []
    },
    {
      "cell_type": "code",
      "metadata": {
        "id": "_4-ZUVOGPA9p"
      },
      "source": [
        "# Median\n"
      ],
      "execution_count": null,
      "outputs": []
    },
    {
      "cell_type": "markdown",
      "metadata": {
        "id": "MKrOqgI4PKkR"
      },
      "source": [
        "## Missing values: usia anak-anak"
      ]
    },
    {
      "cell_type": "code",
      "metadata": {
        "id": "8IGqoGPlPFkC"
      },
      "source": [
        "# Seberapa banyak title master?\n"
      ],
      "execution_count": null,
      "outputs": []
    },
    {
      "cell_type": "code",
      "metadata": {
        "id": "QZ74VHz9PeZ2"
      },
      "source": [
        "# Terdapat 61 data, gunakan describe()\n"
      ],
      "execution_count": null,
      "outputs": []
    },
    {
      "cell_type": "code",
      "metadata": {
        "id": "JQzEKuJnPq1-"
      },
      "source": [
        ""
      ],
      "execution_count": null,
      "outputs": []
    },
    {
      "cell_type": "code",
      "metadata": {
        "id": "swlKAfgAP_3G"
      },
      "source": [
        "# rata-rata usia anak anak\n"
      ],
      "execution_count": null,
      "outputs": []
    },
    {
      "cell_type": "code",
      "metadata": {
        "id": "eSuqqRhJQKIX"
      },
      "source": [
        "# median usia anak anak\n"
      ],
      "execution_count": null,
      "outputs": []
    },
    {
      "cell_type": "markdown",
      "metadata": {
        "id": "3_AVSxUqQUeC"
      },
      "source": [
        "### Bahan diskusi\n",
        "\n",
        "* Seberapa banyak anak anak tidak memiliki data usia?\n",
        "* Apakah terdapat faktor lain yang dapat digunakan untuk imputasi data usia?\n",
        "\n"
      ]
    },
    {
      "cell_type": "markdown",
      "metadata": {
        "id": "WgCW9gDSSc4O"
      },
      "source": [
        "### Data Transformasi dan Proses Imputasi\n",
        "\n"
      ]
    },
    {
      "cell_type": "code",
      "metadata": {
        "id": "qoStyn9WvlNh"
      },
      "source": [
        "# Sebelum memulai proses imputasi, perlu disimpan data indicator bahwa data awal usia ada yang miss\n"
      ],
      "execution_count": null,
      "outputs": []
    },
    {
      "cell_type": "code",
      "metadata": {
        "id": "ncWxkGBWJqt1"
      },
      "source": [
        ""
      ],
      "execution_count": null,
      "outputs": []
    },
    {
      "cell_type": "code",
      "metadata": {
        "id": "6p9veHwKQOJv"
      },
      "source": [
        "# Untuk transformasi, bisa dilakukan perubahan dari title yang jumlahnya minor menjadi bagian dari title berdasarkan gender laki-laki/ wanita yang umum\n",
        "# df2.loc[df2.Title == 'Rev'] --> menjadi Mr \n",
        "# df2.loc[df2.Title == 'Col'] --> menjadi Mr\n",
        "# df2.loc[df2.Title == 'Mlle'] --> menjadi Miss\n",
        "# df2.loc[df2.Title == 'Dona'] --> menjadi Mrs\n",
        "# df2.loc[df2.Title == 'Jonkheer'] --> menjadi Mr\n",
        "# df2.loc[df2.Title == 'Mme'] --> menjadi Miss\n",
        "# df2.loc[df2.Title == 'Don'] --> menjadi Mr\n",
        "# df2.loc[df2.Title == 'the Countess'] --> menjadi Mrs\n",
        "# df2.loc[df2.Title == 'Lady'] --> menjadi Mrs\n"
      ],
      "execution_count": null,
      "outputs": []
    },
    {
      "cell_type": "code",
      "metadata": {
        "id": "_0oTPa_0UVz6"
      },
      "source": [
        ""
      ],
      "execution_count": null,
      "outputs": []
    },
    {
      "cell_type": "code",
      "metadata": {
        "id": "EaipxTG2V-ON"
      },
      "source": [
        ""
      ],
      "execution_count": null,
      "outputs": []
    },
    {
      "cell_type": "code",
      "metadata": {
        "id": "wRahUB2mUiGz"
      },
      "source": [
        ""
      ],
      "execution_count": null,
      "outputs": []
    },
    {
      "cell_type": "code",
      "metadata": {
        "id": "_rRdem2HTtxy"
      },
      "source": [
        "# Proses imputasi data yang hilang\n"
      ],
      "execution_count": null,
      "outputs": []
    },
    {
      "cell_type": "code",
      "metadata": {
        "id": "yK9pswETKfh_"
      },
      "source": [
        ""
      ],
      "execution_count": null,
      "outputs": []
    },
    {
      "cell_type": "code",
      "metadata": {
        "id": "qOff79NsVWrh"
      },
      "source": [
        ""
      ],
      "execution_count": null,
      "outputs": []
    },
    {
      "cell_type": "code",
      "metadata": {
        "id": "uRPKTFnYU2iA"
      },
      "source": [
        ""
      ],
      "execution_count": null,
      "outputs": []
    }
  ]
}