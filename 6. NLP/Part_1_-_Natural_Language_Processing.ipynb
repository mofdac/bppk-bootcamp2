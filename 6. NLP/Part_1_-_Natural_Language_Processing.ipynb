{
 "cells": [
  {
   "cell_type": "markdown",
   "metadata": {
    "slideshow": {
     "slide_type": "-"
    }
   },
   "source": [
    "# Natural Language Processing\n",
    "\n",
    "oleh: \n",
    "<br> Ade Satya Wahana\n",
    "<br> I Gede Yudi Paramartha"
   ]
  },
  {
   "cell_type": "markdown",
   "metadata": {
    "slideshow": {
     "slide_type": "-"
    }
   },
   "source": [
    "## The Nature of Languange Processing\n",
    "\n",
    "**Computers cannot directly understand text like humans.** \n",
    "For example, humans can automatically break down sentences into units of meaning, but computers cannot. Therefore, **text data must be processed before** various text analysis algorithms can use it.\n",
    "\n",
    "Text data usually appears in an **unstructured form**. Text data exists **in the wild** and has not been converted into a structured format, like a spreadsheet. Therefore, it has to be manipulated and converted into a proper structured and numerical format consumable by text analysis algorithms, which is referred to as **text pre-processing.**"
   ]
  },
  {
   "cell_type": "markdown",
   "metadata": {
    "slideshow": {
     "slide_type": "slide"
    }
   },
   "source": [
    "## Source of Text\n",
    "\n",
    "The majority of text data that appears in everyday sources such as: \n",
    "1. Books\n",
    "2. Newspapers\n",
    "3. Magazines\n",
    "4. Emails\n",
    "5. Blogs\n",
    "6. Tweets"
   ]
  },
  {
   "cell_type": "markdown",
   "metadata": {
    "slideshow": {
     "slide_type": "slide"
    }
   },
   "source": [
    "## Accessing Various Text Resources"
   ]
  },
  {
   "cell_type": "markdown",
   "metadata": {
    "slideshow": {
     "slide_type": "subslide"
    }
   },
   "source": [
    "**Existing data repositories**\n",
    "<br> Most of which contains corpora that have been either pre-processed into a specific format that can be directly digested by the downstream text analysis algorithms or manually annotated.\n",
    "1. __[UCI Machine Learning Repository](https://archive.ics.uci.edu/ml/index.php)__ contains 30 corpora that can be used in text mining tasks, such as regression, clustering, and classification.\n",
    "2. __[Linguistic Data Consortium](https://www.ldc.upenn.edu/)__ contains corpora mainly used in various natural language processing tasks, such as parsing, acoustic analysis, phonological analysis and etc. One disadvantage of using LDC is that its corpora are not free. Users have to buy a license in order to use those corpora."
   ]
  },
  {
   "cell_type": "markdown",
   "metadata": {
    "slideshow": {
     "slide_type": "subslide"
    }
   },
   "source": [
    "__[NLTK](http://www.nltk.org/howto/corpus.html)__\n",
    "<br> A language toolkit that also includes a diverse set of corpora and lexical resources.\n",
    "\n",
    "1. Plain text corpora. __[The Gutenberg Corpus](https://github.com/aparrish/gutenberg-poetry-corpus)__  contains thousands of books.\n",
    "2. Tagged Corpora. __[The Brown Corpus](https://www1.essex.ac.uk/linguistics/external/clmt/w3c/corpus_ling/content/corpora/list/private/brown/brown.html)__ is annotated with part-of-speech tags. Each word is now paired with its part-of-speech tag. You can retrieve words as (word, tag) tuples, rather than just bare word strings.\n",
    "3. Chunked Corpora. __[The CoNLL corpora](https://www.kaggle.com/nltkdata/conll-corpora)__ includes phrasal chunks (CoNLL 2000), named entity chunks (CoNLL 2002).\n",
    "4. Parsed Corpora. __[The Treebank corpora](https://www.aclweb.org/anthology/J93-2004.pdf)__ provide a syntactic parse for each sentence, like the Penn Treebank based on Wall Street Journal samples.\n",
    "5. Word List and Lexicons. __[WordNet](https://wordnet.princeton.edu/)__ is a large lexical database of English, where nouns, verbs, adjectives and adverbs are organized into interlinked synsets (i.e., sets of synonyms).\n",
    "6. Categorized Corpora. __[The Reuters corpus](https://trec.nist.gov/data/reuters/reuters.html)__ is a corpus of Reuters News stories for used in developing text analysis algorithms."
   ]
  },
  {
   "cell_type": "markdown",
   "metadata": {
    "slideshow": {
     "slide_type": "subslide"
    }
   },
   "source": [
    "**Web**\n",
    "<br> The largest source for getting text data is the Web. Text can be extracted from webpages or be retrieved via various APIs.\n",
    "1. Wikipedia article.\n",
    "2. Tweets that allows people to communicate with short, 140-characters messages. It is fortunate that Twitter provides quite well documented API that we can use to retrieve tweets of our interest.\n",
    "3. The other text data can be scraped from the Internet, like webpages. Here is a __[Youtube](https://www.youtube.com/watch?v=3xQTJi2tqgk)__ video on scraping websites with Python."
   ]
  },
  {
   "cell_type": "markdown",
   "metadata": {
    "slideshow": {
     "slide_type": "slide"
    }
   },
   "source": [
    "## How to install NLTK"
   ]
  },
  {
   "attachments": {
    "NLTK_pip.png": {
     "image/png": "[encoded data removed]"
    }
   },
   "cell_type": "markdown",
   "metadata": {
    "slideshow": {
     "slide_type": "subslide"
    }
   },
   "source": [
    "**Using Pip**\n",
    "![NLTK_pip.png](attachment:NLTK_pip.png)"
   ]
  },
  {
   "attachments": {
    "NLTK_conda.png": {
     "image/png": "[encoded data removed]"
    }
   },
   "cell_type": "markdown",
   "metadata": {
    "slideshow": {
     "slide_type": "subslide"
    }
   },
   "source": [
    "**Using Anaconda**\n",
    "\n",
    "![NLTK_conda.png](attachment:NLTK_conda.png)"
   ]
  },
  {
   "cell_type": "markdown",
   "metadata": {},
   "source": [
    "## Basic String"
   ]
  },
  {
   "attachments": {
    "str.png": {
     "image/png": "[encoded data removed]"
    }
   },
   "cell_type": "markdown",
   "metadata": {},
   "source": [
    "Textual data in Python is handled with str objects, or strings. \n",
    "\n",
    "Strings are immutable sequences of Unicode code points. String literals are written in a variety of ways:\n",
    "![str.png](attachment:str.png)"
   ]
  },
  {
   "cell_type": "code",
   "execution_count": 1,
   "metadata": {},
   "outputs": [],
   "source": [
    "#membuat variable baru bernama Name\n",
    "\n",
    "Name = 'Ade Satya Wahana'"
   ]
  },
  {
   "cell_type": "code",
   "execution_count": 2,
   "metadata": {},
   "outputs": [
    {
     "data": {
      "text/plain": [
       "str"
      ]
     },
     "execution_count": 2,
     "metadata": {},
     "output_type": "execute_result"
    }
   ],
   "source": [
    "#mengecek type dari variable Name\n",
    "\n",
    "type(Name)"
   ]
  },
  {
   "cell_type": "markdown",
   "metadata": {},
   "source": [
    "> **Case study**"
   ]
  },
  {
   "cell_type": "markdown",
   "metadata": {},
   "source": [
    "> **Split**. Splits a string into a list."
   ]
  },
  {
   "cell_type": "code",
   "execution_count": 3,
   "metadata": {},
   "outputs": [
    {
     "data": {
      "text/plain": [
       "['Ade', 'Satya', 'Wahana']"
      ]
     },
     "execution_count": 3,
     "metadata": {},
     "output_type": "execute_result"
    }
   ],
   "source": [
    "#membagi kalimat pada variable Name menggunakan split()\n",
    "\n",
    "Name.split()"
   ]
  },
  {
   "cell_type": "code",
   "execution_count": 4,
   "metadata": {},
   "outputs": [],
   "source": [
    "#membuat variable baru bernama Date_of_birth\n",
    "\n",
    "Date_of_birth = 'Jakarta, 6 Januari 2020'"
   ]
  },
  {
   "cell_type": "code",
   "execution_count": 5,
   "metadata": {},
   "outputs": [
    {
     "data": {
      "text/plain": [
       "['Jakarta,', '6', 'Januari', '2020']"
      ]
     },
     "execution_count": 5,
     "metadata": {},
     "output_type": "execute_result"
    }
   ],
   "source": [
    "#membagi kalimat pada variable Date_of_birth menggunakan split()\n",
    "#perhatikan hasil dari split()\n",
    "\n",
    "Date_of_birth.split()"
   ]
  },
  {
   "cell_type": "code",
   "execution_count": 6,
   "metadata": {},
   "outputs": [
    {
     "data": {
      "text/plain": [
       "['Jakarta', ' 6 Januari 2020']"
      ]
     },
     "execution_count": 6,
     "metadata": {},
     "output_type": "execute_result"
    }
   ],
   "source": [
    "#membagi kalimat pada variable Date_of_birth menggunakan split()\n",
    "#mengatur parameter dalam split() dengan membagi kalimatnya berdasarkan tanda koma (,)\n",
    "#perhatikan hasil \n",
    "#bandingkan hasil dari split() sebelumnya\n",
    "\n",
    "\n",
    "Date_of_birth.split(',')"
   ]
  },
  {
   "cell_type": "code",
   "execution_count": 8,
   "metadata": {},
   "outputs": [
    {
     "data": {
      "text/plain": [
       "['Jakarta,', '6', 'Januari 2020']"
      ]
     },
     "execution_count": 8,
     "metadata": {},
     "output_type": "execute_result"
    }
   ],
   "source": [
    "#mengatur kalimat pada variable Date_of_birth menggunakan split()\n",
    "#mengatur parameter dalam split() dengan membatasi jumlah split yang boleh dilakukan, maxsplit = ...\n",
    "#perhatikan hasil\n",
    "\n",
    "Date_of_birth.split(maxsplit=2)"
   ]
  },
  {
   "cell_type": "markdown",
   "metadata": {},
   "source": [
    "> **Lowercase, uppercase, and etc**."
   ]
  },
  {
   "cell_type": "code",
   "execution_count": 9,
   "metadata": {},
   "outputs": [
    {
     "data": {
      "text/plain": [
       "'ade satya wahana'"
      ]
     },
     "execution_count": 9,
     "metadata": {},
     "output_type": "execute_result"
    }
   ],
   "source": [
    "#membuat keseluruhan kata dalam variable Name menjadi lowercase atau huruf kecil semua\n",
    "\n",
    "Name.lower()"
   ]
  },
  {
   "cell_type": "code",
   "execution_count": 10,
   "metadata": {},
   "outputs": [
    {
     "data": {
      "text/plain": [
       "'ADE SATYA WAHANA'"
      ]
     },
     "execution_count": 10,
     "metadata": {},
     "output_type": "execute_result"
    }
   ],
   "source": [
    "#membuat keseluruhan kata dalam variable Name menjadi uppercase atau huruf besar semua\n",
    "\n",
    "Name.upper()"
   ]
  },
  {
   "cell_type": "code",
   "execution_count": 11,
   "metadata": {},
   "outputs": [
    {
     "data": {
      "text/plain": [
       "'Ade satya wahana'"
      ]
     },
     "execution_count": 11,
     "metadata": {},
     "output_type": "execute_result"
    }
   ],
   "source": [
    "#membuat huruf besar pada awal kalimat dalam variable Name\n",
    "\n",
    "Name.capitalize()"
   ]
  },
  {
   "cell_type": "code",
   "execution_count": 12,
   "metadata": {},
   "outputs": [
    {
     "data": {
      "text/plain": [
       "'Ade Satya Wahana'"
      ]
     },
     "execution_count": 12,
     "metadata": {},
     "output_type": "execute_result"
    }
   ],
   "source": [
    "#membuat huruf besar pada awal setiap kata dalam variable Name\n",
    "\n",
    "Name.title()"
   ]
  },
  {
   "cell_type": "markdown",
   "metadata": {},
   "source": [
    ">> **quiz**. Split the sentence into capitalize each word."
   ]
  },
  {
   "cell_type": "code",
   "execution_count": 13,
   "metadata": {},
   "outputs": [],
   "source": [
    "#membuat variable baru bernama sentence\n",
    "\n",
    "sentence = 'saYa Ade Satya wahana, pegawai Itjen KEMENKEU'"
   ]
  },
  {
   "cell_type": "code",
   "execution_count": 16,
   "metadata": {},
   "outputs": [
    {
     "data": {
      "text/plain": [
       "['SAYA', 'ADE', 'SATYA', 'WAHANA,', 'PEGAWAI', 'ITJEN', 'KEMENKEU']"
      ]
     },
     "execution_count": 16,
     "metadata": {},
     "output_type": "execute_result"
    }
   ],
   "source": [
    "#mengkombinasikan title() dan split()\n",
    "\n",
    "sentence.upper().split()"
   ]
  },
  {
   "cell_type": "markdown",
   "metadata": {},
   "source": [
    "> **Count**. Count and prints total words available in a string, but using predefined function named split()."
   ]
  },
  {
   "cell_type": "code",
   "execution_count": 17,
   "metadata": {},
   "outputs": [
    {
     "data": {
      "text/plain": [
       "7"
      ]
     },
     "execution_count": 17,
     "metadata": {},
     "output_type": "execute_result"
    }
   ],
   "source": [
    "#menggunakan split()\n",
    "\n",
    "len(sentence.split())"
   ]
  },
  {
   "cell_type": "code",
   "execution_count": 18,
   "metadata": {},
   "outputs": [
    {
     "data": {
      "text/plain": [
       "7"
      ]
     },
     "execution_count": 18,
     "metadata": {},
     "output_type": "execute_result"
    }
   ],
   "source": [
    "#panggil modul regex\n",
    "#pastikan sudah terinstall di environtment\n",
    "\n",
    "import re\n",
    "\n",
    "len(re.findall(r'\\w+', sentence))\n",
    "\n",
    "#regex r'\\w+''"
   ]
  },
  {
   "cell_type": "markdown",
   "metadata": {},
   "source": [
    "> **List**. Equals sign, and then some quoted words, separated with commas, and surrounded with brackets."
   ]
  },
  {
   "cell_type": "code",
   "execution_count": 19,
   "metadata": {},
   "outputs": [],
   "source": [
    "#membuat variable baru bernama list1\n",
    "\n",
    "list1 = ['Call', 'me', 'Ishmael', '.']"
   ]
  },
  {
   "cell_type": "code",
   "execution_count": 20,
   "metadata": {},
   "outputs": [
    {
     "data": {
      "text/plain": [
       "4"
      ]
     },
     "execution_count": 20,
     "metadata": {},
     "output_type": "execute_result"
    }
   ],
   "source": [
    "len(list1)"
   ]
  },
  {
   "cell_type": "code",
   "execution_count": 21,
   "metadata": {},
   "outputs": [],
   "source": [
    "#membuat variable baru bernama list2\n",
    "\n",
    "list2 =['The', 'family', 'of', 'Dashwood', 'had', 'long', 'been', 'settled', 'in', 'Sussex', '.']"
   ]
  },
  {
   "cell_type": "code",
   "execution_count": 22,
   "metadata": {},
   "outputs": [
    {
     "data": {
      "text/plain": [
       "11"
      ]
     },
     "execution_count": 22,
     "metadata": {},
     "output_type": "execute_result"
    }
   ],
   "source": [
    "len(list2)"
   ]
  },
  {
   "cell_type": "markdown",
   "metadata": {},
   "source": [
    ">> **Concatenation**. it combines the lists together into a single list. We can concatenate sentences to build up a text."
   ]
  },
  {
   "cell_type": "code",
   "execution_count": 23,
   "metadata": {},
   "outputs": [],
   "source": [
    "#menggabungkan list1 dengan list2\n",
    "\n",
    "new_list = list1 + list2"
   ]
  },
  {
   "cell_type": "code",
   "execution_count": 24,
   "metadata": {},
   "outputs": [
    {
     "data": {
      "text/plain": [
       "['Call',\n",
       " 'me',\n",
       " 'Ishmael',\n",
       " '.',\n",
       " 'The',\n",
       " 'family',\n",
       " 'of',\n",
       " 'Dashwood',\n",
       " 'had',\n",
       " 'long',\n",
       " 'been',\n",
       " 'settled',\n",
       " 'in',\n",
       " 'Sussex',\n",
       " '.']"
      ]
     },
     "execution_count": 24,
     "metadata": {},
     "output_type": "execute_result"
    }
   ],
   "source": [
    "new_list"
   ]
  },
  {
   "cell_type": "code",
   "execution_count": 25,
   "metadata": {},
   "outputs": [
    {
     "data": {
      "text/plain": [
       "15"
      ]
     },
     "execution_count": 25,
     "metadata": {},
     "output_type": "execute_result"
    }
   ],
   "source": [
    "len(new_list)"
   ]
  },
  {
   "cell_type": "markdown",
   "metadata": {},
   "source": [
    ">> **Appending**. What if we want to add a single item to a list? This is known as appending. When we\n",
    "append() to a list, the list itself is updated as a result of the operation."
   ]
  },
  {
   "cell_type": "code",
   "execution_count": 26,
   "metadata": {},
   "outputs": [],
   "source": [
    "#menambahkan string Next ke variable list1\n",
    "\n",
    "list1.append('Next')"
   ]
  },
  {
   "cell_type": "code",
   "execution_count": 27,
   "metadata": {},
   "outputs": [
    {
     "data": {
      "text/plain": [
       "['Call', 'me', 'Ishmael', '.', 'Next']"
      ]
     },
     "execution_count": 27,
     "metadata": {},
     "output_type": "execute_result"
    }
   ],
   "source": [
    "list1"
   ]
  },
  {
   "cell_type": "markdown",
   "metadata": {},
   "source": [
    ">> **Extend**.  Iterates over its argument and adding each element to the list and extending the list. The length of the list increases by number of elements in it’s argument."
   ]
  },
  {
   "cell_type": "code",
   "execution_count": 28,
   "metadata": {},
   "outputs": [],
   "source": [
    "#menambahkan list string 'Friday' ke variable list1\n",
    "#perhatikan perbedaan append dan extend\n",
    "\n",
    "list1.extend(['Friday'])"
   ]
  },
  {
   "cell_type": "code",
   "execution_count": 29,
   "metadata": {},
   "outputs": [
    {
     "data": {
      "text/plain": [
       "['Call', 'me', 'Ishmael', '.', 'Next', 'Friday']"
      ]
     },
     "execution_count": 29,
     "metadata": {},
     "output_type": "execute_result"
    }
   ],
   "source": [
    "list1"
   ]
  },
  {
   "cell_type": "markdown",
   "metadata": {},
   "source": [
    ">> **Indexing**. We can identify the elements of a Python list by their order of occurrence in the list. The number that represents this position is the item’s index."
   ]
  },
  {
   "cell_type": "code",
   "execution_count": 30,
   "metadata": {},
   "outputs": [
    {
     "data": {
      "text/plain": [
       "'Ishmael'"
      ]
     },
     "execution_count": 30,
     "metadata": {},
     "output_type": "execute_result"
    }
   ],
   "source": [
    "#indexing python dimulai dari 0, bukan 1\n",
    "#mencari index [2] di variable list1\n",
    "\n",
    "list1[2]"
   ]
  },
  {
   "cell_type": "code",
   "execution_count": 32,
   "metadata": {},
   "outputs": [
    {
     "data": {
      "text/plain": [
       "['Call', 'me', 'Ishmael']"
      ]
     },
     "execution_count": 32,
     "metadata": {},
     "output_type": "execute_result"
    }
   ],
   "source": [
    "#indexing juga bisa menggunakan 'jarak'\n",
    "#mencari index dari [0] ke [2]\n",
    "#perhatikan index [2] merupakan batas akhirnya\n",
    "#artinya [0] ke [2], kata pertama dan kata kedua\n",
    "\n",
    "list1[0:3]"
   ]
  },
  {
   "cell_type": "markdown",
   "metadata": {},
   "source": [
    ">> **Sorted**. Sorts the elements of a given iterable in a specific order (either ascending or descending) and returns the sorted iterable as a list."
   ]
  },
  {
   "cell_type": "code",
   "execution_count": 33,
   "metadata": {},
   "outputs": [
    {
     "data": {
      "text/plain": [
       "['.', 'Call', 'Friday', 'Ishmael', 'Next', 'me']"
      ]
     },
     "execution_count": 33,
     "metadata": {},
     "output_type": "execute_result"
    }
   ],
   "source": [
    "sorted(list1)"
   ]
  },
  {
   "attachments": {
    "regex.png": {
     "image/png": "[encoded data removed]"
    }
   },
   "cell_type": "markdown",
   "metadata": {},
   "source": [
    "> __[Regular Expression](https://regex101.com/)__ (__[Regex](https://regexr.com/ )__). A sequence of characters that define a search pattern.\n",
    "\n",
    "Basic tokens:\n",
    "\n",
    "![regex.png](attachment:regex.png)"
   ]
  },
  {
   "cell_type": "code",
   "execution_count": 38,
   "metadata": {},
   "outputs": [],
   "source": [
    "#membuat variable baru bernama Phone_number\n",
    "\n",
    "Phone_number = 'i Gede Yudi Paramartha, 091-999-777'"
   ]
  },
  {
   "cell_type": "code",
   "execution_count": 39,
   "metadata": {},
   "outputs": [],
   "source": [
    "#membuat pola untuk menangkap nama saja\n",
    "\n",
    "pattern_name = re.compile(r'[a-zA-Z]+')"
   ]
  },
  {
   "cell_type": "code",
   "execution_count": 40,
   "metadata": {},
   "outputs": [
    {
     "data": {
      "text/plain": [
       "['i', 'Gede', 'Yudi', 'Paramartha']"
      ]
     },
     "execution_count": 40,
     "metadata": {},
     "output_type": "execute_result"
    }
   ],
   "source": [
    "matches1 = re.compile(pattern_name)\n",
    "matches1.findall(Phone_number)"
   ]
  },
  {
   "cell_type": "code",
   "execution_count": 41,
   "metadata": {},
   "outputs": [],
   "source": [
    "#membuat pola untuk menangkap phone number\n",
    "\n",
    "pattern_phone_number = re.compile(r'\\d+')"
   ]
  },
  {
   "cell_type": "code",
   "execution_count": 42,
   "metadata": {},
   "outputs": [
    {
     "data": {
      "text/plain": [
       "['091', '999', '777']"
      ]
     },
     "execution_count": 42,
     "metadata": {},
     "output_type": "execute_result"
    }
   ],
   "source": [
    "matches2 = re.compile(pattern_phone_number)\n",
    "matches2.findall(Phone_number)"
   ]
  },
  {
   "cell_type": "markdown",
   "metadata": {
    "slideshow": {
     "slide_type": "slide"
    }
   },
   "source": [
    "## Basic Steps of  Pre-Processing Text\n",
    "\n",
    "<br>\n",
    "\n",
    "The possible steps of text pre-processing are nearly the same for all text analysis tasks, though which pre-processing steps are chosen depends on the specific task. The basic steps are as follows:\n",
    "1. Text Cleaning\n",
    "2. Sentence Segmentation\n",
    "3. Tokenization\n",
    "4. POS Tag\n",
    "5. Case Normalization\n",
    "6. Removing Stop words\n",
    "7. Stemming and Lemmatization"
   ]
  },
  {
   "cell_type": "markdown",
   "metadata": {},
   "source": [
    "**1. Text Data Cleaning**. We need to learn how to work with unstructured data to be able to extract relevant information from it and make it useful.\n",
    "\n",
    "- Clear out HTML characters. A Lot of HTML entities like &apos; ,&amp; ,&lt; etc can be found in most of the data available on the web. We need to get rid of these from our data.\n",
    "- Removing URLs, Hashtags and Styles. We can have hyperlinks, hashtags or styles like retweet text for twitter dataset etc. These provide no relevant information and can be removed. In hashtags, only the hash sign ‘#’ will be removed.\n",
    "- Contraction replacement. The text data might contain apostrophe’s used for contractions. Example- “didn’t” for “did not” etc. This can change the sense of the word or sentence. Hence we need to replace these apostrophes with the standard lexicons.\n",
    "\n",
    "**There is no specific method how to perform it**."
   ]
  },
  {
   "cell_type": "markdown",
   "metadata": {},
   "source": [
    "> **Case study**"
   ]
  },
  {
   "cell_type": "markdown",
   "metadata": {},
   "source": [
    "> **Clear out HTML characters** using HTMLParser library and BeautifulSoup library."
   ]
  },
  {
   "cell_type": "code",
   "execution_count": 43,
   "metadata": {},
   "outputs": [],
   "source": [
    "#membuat variable baru bernama tweet\n",
    "tweet = \"1.2.3.4. I enjoyd the event which took place yesteday &amp; I luvd it ! The link to the show is http://t.co/4ftYom0i It is awsome you'll luv it #HadFun #Enjoyed BFN GN\""
   ]
  },
  {
   "cell_type": "code",
   "execution_count": 44,
   "metadata": {},
   "outputs": [],
   "source": [
    "#pastikan library html sudah terinstall\n",
    "#memanggil library html\n",
    "import html\n",
    "\n",
    "#mengimplementasikan library html untuk menghilangkan karakter HTML\n",
    "clean_tweet_html = html.unescape(tweet)"
   ]
  },
  {
   "cell_type": "code",
   "execution_count": 45,
   "metadata": {},
   "outputs": [
    {
     "data": {
      "text/plain": [
       "\"1.2.3.4. I enjoyd the event which took place yesteday & I luvd it ! The link to the show is http://t.co/4ftYom0i It is awsome you'll luv it #HadFun #Enjoyed BFN GN\""
      ]
     },
     "execution_count": 45,
     "metadata": {},
     "output_type": "execute_result"
    }
   ],
   "source": [
    "clean_tweet_html"
   ]
  },
  {
   "cell_type": "code",
   "execution_count": 46,
   "metadata": {},
   "outputs": [],
   "source": [
    "#pastikan library BeautifulSoup sudah terinstall\n",
    "#memanggil library html\n",
    "from bs4 import BeautifulSoup\n",
    "\n",
    "#mengimplementasikan library BeautifulSoup untuk menghilangkan karakter HTML\n",
    "clean_tweet_bs4 = BeautifulSoup(tweet, \"html.parser\").text"
   ]
  },
  {
   "cell_type": "code",
   "execution_count": 47,
   "metadata": {},
   "outputs": [
    {
     "data": {
      "text/plain": [
       "\"1.2.3.4. I enjoyd the event which took place yesteday & I luvd it ! The link to the show is http://t.co/4ftYom0i It is awsome you'll luv it #HadFun #Enjoyed BFN GN\""
      ]
     },
     "execution_count": 47,
     "metadata": {},
     "output_type": "execute_result"
    }
   ],
   "source": [
    "clean_tweet_bs4"
   ]
  },
  {
   "cell_type": "code",
   "execution_count": null,
   "metadata": {},
   "outputs": [],
   "source": [
    "#perhatikan hasil dari keduanya, apakah ada yang berbeda?"
   ]
  },
  {
   "cell_type": "markdown",
   "metadata": {},
   "source": [
    "> **Removing URLs, Hashtags and Styles** using Regular Expression (Regex)."
   ]
  },
  {
   "cell_type": "code",
   "execution_count": 48,
   "metadata": {},
   "outputs": [
    {
     "data": {
      "text/plain": [
       "\"1.2.3.4. I enjoyd the event which took place yesteday &amp; I luvd it ! The link to the show is http://t.co/4ftYom0i It is awsome you'll luv it #HadFun #Enjoyed BFN GN\""
      ]
     },
     "execution_count": 48,
     "metadata": {},
     "output_type": "execute_result"
    }
   ],
   "source": [
    "tweet"
   ]
  },
  {
   "cell_type": "code",
   "execution_count": 49,
   "metadata": {},
   "outputs": [],
   "source": [
    "#pastikan sudah terdapat modul regex\n",
    "#panggil modul regex\n",
    "import re  \n",
    "\n",
    "#bersihkan http atau https\n",
    "clean_tweet_url = re.sub(r'(http|https)\\S+', '', clean_tweet_bs4)"
   ]
  },
  {
   "cell_type": "code",
   "execution_count": 50,
   "metadata": {},
   "outputs": [
    {
     "data": {
      "text/plain": [
       "\"1.2.3.4. I enjoyd the event which took place yesteday & I luvd it ! The link to the show is  It is awsome you'll luv it #HadFun #Enjoyed BFN GN\""
      ]
     },
     "execution_count": 50,
     "metadata": {},
     "output_type": "execute_result"
    }
   ],
   "source": [
    "clean_tweet_url"
   ]
  },
  {
   "cell_type": "code",
   "execution_count": 51,
   "metadata": {},
   "outputs": [],
   "source": [
    "clean_tweet_hastag = re.sub(r'#', '', clean_tweet_url)"
   ]
  },
  {
   "cell_type": "code",
   "execution_count": 52,
   "metadata": {},
   "outputs": [
    {
     "data": {
      "text/plain": [
       "\"1.2.3.4. I enjoyd the event which took place yesteday & I luvd it ! The link to the show is  It is awsome you'll luv it HadFun Enjoyed BFN GN\""
      ]
     },
     "execution_count": 52,
     "metadata": {},
     "output_type": "execute_result"
    }
   ],
   "source": [
    "clean_tweet_hastag"
   ]
  },
  {
   "cell_type": "markdown",
   "metadata": {},
   "source": [
    "> **Contraction replacement** using dictionary."
   ]
  },
  {
   "cell_type": "code",
   "execution_count": null,
   "metadata": {},
   "outputs": [],
   "source": [
    "#konsepnya adalah kita membuat dictionary berisikan kata yang diganti serta kata penggantinya\n",
    "#kamus ini bisa dalam bentuk macam-macam\n",
    "#bisa dalam bentuk dictionary sederhana maupun bentuk excel atau csv dan lain sebagainya.\n",
    "#python memungkinkan kita untuk membaca format yang berbeda tersebut."
   ]
  },
  {
   "cell_type": "code",
   "execution_count": 53,
   "metadata": {},
   "outputs": [
    {
     "data": {
      "text/plain": [
       "\"1.2.3.4. I enjoyd the event which took place yesteday & I luvd it ! The link to the show is  It is awsome you'll luv it HadFun Enjoyed BFN GN\""
      ]
     },
     "execution_count": 53,
     "metadata": {},
     "output_type": "execute_result"
    }
   ],
   "source": [
    "clean_tweet_hastag"
   ]
  },
  {
   "cell_type": "code",
   "execution_count": 56,
   "metadata": {},
   "outputs": [],
   "source": [
    "#membuat dictionary sederhana bernama tweet_dict\n",
    "tweet_dict = {\"n't\":\" not\",\n",
    "              \"'m\":\" am\",\n",
    "              \"'ll\":\" will\", \n",
    "              \"'d\":\" would\",\n",
    "              \"'ve\":\" have\",\n",
    "              \"'re\":\" are\"}\n",
    "\n",
    "#mengimplementasikan dictionary tersebut\n",
    "for key, value in tweet_dict.items():\n",
    "    if key in clean_tweet_hastag:\n",
    "        clean_tweet_dict = clean_tweet_hastag.replace(key, value)"
   ]
  },
  {
   "cell_type": "code",
   "execution_count": 57,
   "metadata": {},
   "outputs": [
    {
     "data": {
      "text/plain": [
       "'1.2.3.4. I enjoyd the event which took place yesteday & I luvd it ! The link to the show is  It is awsome you will luv it HadFun Enjoyed BFN GN'"
      ]
     },
     "execution_count": 57,
     "metadata": {},
     "output_type": "execute_result"
    }
   ],
   "source": [
    "clean_tweet_dict"
   ]
  },
  {
   "cell_type": "markdown",
   "metadata": {},
   "source": [
    "**2. Sentence Segmentation**\n",
    "\n",
    "Sentence segmentation is also known as sentence boundary disambiguation or sentence boundary detection.\n",
    "\n",
    "The following is the Wikipedia definition of sentence boundary disambiguation:\n",
    "> Sentence boundary disambiguation (SBD), also known as sentence breaking, is the problem in natural language processing of deciding where sentences begin and end. Often natural language processing tools require their input to be divided into sentences for a number of reasons. However sentence boundary identification is challenging because punctuation marks are often ambiguous. For example, a period may denote an abbreviation, decimal point, an ellipsis, or an email address - not the end of a sentence. About 47% of the periods in the Wall Street Journal corpus denote abbreviations. As well, question marks and exclamation marks may appear in embedded quotations, emoticons, computer code, and slang.\n",
    "\n",
    "The accuracy of the SBD system will directly affect the performance of these applications."
   ]
  },
  {
   "cell_type": "markdown",
   "metadata": {},
   "source": [
    "> **Punkt Sentence Tokenizer**. The NLTK's [Punkt Sentence Tokenizer](http://www.nltk.org/api/nltk.tokenize.html) was designed to split text into sentences \"by using an unsupervised algorithm to build a model for abbreviation words, collocations, and words that start sentences.\" It contains a pre-trained sentence tokenizer for English."
   ]
  },
  {
   "cell_type": "markdown",
   "metadata": {},
   "source": [
    "> **Case Study**"
   ]
  },
  {
   "cell_type": "code",
   "execution_count": 58,
   "metadata": {},
   "outputs": [],
   "source": [
    "import nltk.data\n",
    "sent_detector = nltk.data.load('tokenizers/punkt/english.pickle')"
   ]
  },
  {
   "cell_type": "code",
   "execution_count": 59,
   "metadata": {},
   "outputs": [
    {
     "name": "stdout",
     "output_type": "stream",
     "text": [
      "<nltk.tokenize.punkt.PunktSentenceTokenizer object at 0x000002AA475B1D88>\n"
     ]
    }
   ],
   "source": [
    "print(sent_detector)"
   ]
  },
  {
   "cell_type": "code",
   "execution_count": 60,
   "metadata": {},
   "outputs": [
    {
     "name": "stdout",
     "output_type": "stream",
     "text": [
      "And so it turned out; Mr. Hosea Hussey being from home, but leaving \n",
      "Mrs. Hussey entirely competent to attend to all his affairs.\n",
      "-----\n",
      "Upon making known our desires \n",
      "for a supper and a bed, Mrs. Hussey, postponing further scolding for the present, ushered us \n",
      "into a little room, and seating us at a table spread with the relics of a recently concluded repast, \n",
      "turned round to us and said—\"Clam or Cod?\"\n"
     ]
    }
   ],
   "source": [
    "text1 = '''And so it turned out; Mr. Hosea Hussey being from home, but leaving \n",
    "Mrs. Hussey entirely competent to attend to all his affairs. Upon making known our desires \n",
    "for a supper and a bed, Mrs. Hussey, postponing further scolding for the present, ushered us \n",
    "into a little room, and seating us at a table spread with the relics of a recently concluded repast, \n",
    "turned round to us and said—\"Clam or Cod?\"'''\n",
    "\n",
    "print('\\n-----\\n'.join(sent_detector.tokenize(text1.strip())))"
   ]
  },
  {
   "cell_type": "code",
   "execution_count": 61,
   "metadata": {},
   "outputs": [
    {
     "name": "stdout",
     "output_type": "stream",
     "text": [
      "A clam for supper?\n",
      "-----\n",
      "a cold clam; is THAT what you mean, Mrs.\n",
      "-----\n",
      "Hussey?\"\n",
      "-----\n",
      "says I, \"but\n",
      "that's a rather cold and clammy reception in the winter time, ain't it, Mrs.\n",
      "-----\n",
      "Hussey?\"\n"
     ]
    }
   ],
   "source": [
    "text2 = '''A clam for supper? a cold clam; is THAT what you mean, Mrs. Hussey?\" says I, \"but\n",
    "that's a rather cold and clammy reception in the winter time, ain't it, Mrs. Hussey?\"'''\n",
    "print('\\n-----\\n'.join(sent_detector.tokenize(text2.strip())))"
   ]
  },
  {
   "cell_type": "markdown",
   "metadata": {
    "slideshow": {
     "slide_type": "subslide"
    }
   },
   "source": [
    "**3. Tokenization**\n",
    "\n",
    "The process of breaking a stream of text into tokens is often referred to as **tokenization**.\n",
    "For example, a tokenizer turns a string such as \n",
    "```\n",
    "    A data wrangler is the person performing the wrangling tasks.\n",
    "```\n",
    "into a sequence of tokens such as\n",
    "```\n",
    "    \"A\" \"data\" \"wrangler\" \"is\" \"the\" \"person\" \"performing\" \"the\" \"wrangling\" \"tasks\"\n",
    "```\n",
    "\n",
    "There is no single right way to do tokenization. It completely **depends on the corpus and the text analysis task you are going to perform**."
   ]
  },
  {
   "cell_type": "markdown",
   "metadata": {
    "slideshow": {
     "slide_type": "fragment"
    }
   },
   "source": [
    "> **Case study**"
   ]
  },
  {
   "cell_type": "code",
   "execution_count": 62,
   "metadata": {},
   "outputs": [],
   "source": [
    "#bikin variable dengan nama raw\n",
    "#isi dari varible berbentuk string\n",
    "#nama variable bisa bebas, tidak harus 'raw'\n",
    "raw = \"\"\"The GSO finace group in  U.S.A. provided Cole with about US$40,000,555.4 in funding, \n",
    "which accounts for 35.3% of Cole's revenue (i.e., AUD113.3m), \n",
    "as the ASX-listed firm battles for its survival. \n",
    "Mr. Johnson said GSO's recapitalisation meant \"the current shares are worthless\".\"\"\""
   ]
  },
  {
   "cell_type": "markdown",
   "metadata": {},
   "source": [
    "> **Split method**. The simplest approach might be using Python's string function split(). This function returns a list of tokens in the string."
   ]
  },
  {
   "cell_type": "code",
   "execution_count": 63,
   "metadata": {},
   "outputs": [
    {
     "name": "stdout",
     "output_type": "stream",
     "text": [
      "['The', 'GSO', 'finace', 'group', 'in', 'U.S.A.', 'provided', 'Cole', 'with', 'about', 'US$40,000,555.4', 'in', 'funding,', 'which', 'accounts', 'for', '35.3%', 'of', \"Cole's\", 'revenue', '(i.e.,', 'AUD113.3m),', 'as', 'the', 'ASX-listed', 'firm', 'battles', 'for', 'its', 'survival.', 'Mr.', 'Johnson', 'said', \"GSO's\", 'recapitalisation', 'meant', '\"the', 'current', 'shares', 'are', 'worthless\".']\n"
     ]
    }
   ],
   "source": [
    "#metode split\n",
    "#membuat variable baru bernama split_tokens\n",
    "split_tokens = raw.split()\n",
    "print(split_tokens)"
   ]
  },
  {
   "cell_type": "code",
   "execution_count": 64,
   "metadata": {},
   "outputs": [
    {
     "name": "stdout",
     "output_type": "stream",
     "text": [
      "The\n",
      "GSO\n",
      "finace\n",
      "group\n",
      "in\n",
      "U.S.A.\n",
      "provided\n",
      "Cole\n",
      "with\n",
      "about\n",
      "US$40,000,555.4\n",
      "in\n",
      "funding,\n",
      "which\n",
      "accounts\n",
      "for\n",
      "35.3%\n",
      "of\n",
      "Cole's\n",
      "revenue\n",
      "(i.e.,\n",
      "AUD113.3m),\n",
      "as\n",
      "the\n",
      "ASX-listed\n",
      "firm\n",
      "battles\n",
      "for\n",
      "its\n",
      "survival.\n",
      "Mr.\n",
      "Johnson\n",
      "said\n",
      "GSO's\n",
      "recapitalisation\n",
      "meant\n",
      "\"the\n",
      "current\n",
      "shares\n",
      "are\n",
      "worthless\".\n"
     ]
    }
   ],
   "source": [
    "#perhatikan bahwa variable tokens, hasil splitnya berbentuk list\n",
    "#jika ingin print satu per satu dari anggota di list, bisa menggunakan function\n",
    "for word in split_tokens:\n",
    "    print(word)"
   ]
  },
  {
   "cell_type": "markdown",
   "metadata": {},
   "source": [
    "> **Regex method**. We can combine split method with Regex or using RegexpTokenizer from NLTK"
   ]
  },
  {
   "cell_type": "code",
   "execution_count": 65,
   "metadata": {},
   "outputs": [],
   "source": [
    "#kombinasi metode split dengan regex\n",
    "#pastikan sudah terdapat modul regex\n",
    "#panggil modul regex\n",
    "import re\n",
    "\n",
    "#membuat variable baru bernama regex_tokens\n",
    "regex_tokens = re.split(r\"\\s+\", raw)\n",
    "\n",
    "#'r\"\\s+\"' merupakan regex yang dimaksudkan untuk memisahkan kata dari variable raw, dengan setiap kata dipisahkan oleh whitespace\n",
    "#regex fleksibel dalam menentukan maksud penggunaannya\n",
    "#sangat tergantung dari kebutuhan dan pemahaman kita akan masalah yang dihadapi"
   ]
  },
  {
   "cell_type": "code",
   "execution_count": 66,
   "metadata": {},
   "outputs": [
    {
     "data": {
      "text/plain": [
       "['The',\n",
       " 'GSO',\n",
       " 'finace',\n",
       " 'group',\n",
       " 'in',\n",
       " 'U.S.A.',\n",
       " 'provided',\n",
       " 'Cole',\n",
       " 'with',\n",
       " 'about',\n",
       " 'US$40,000,555.4',\n",
       " 'in',\n",
       " 'funding,',\n",
       " 'which',\n",
       " 'accounts',\n",
       " 'for',\n",
       " '35.3%',\n",
       " 'of',\n",
       " \"Cole's\",\n",
       " 'revenue',\n",
       " '(i.e.,',\n",
       " 'AUD113.3m),',\n",
       " 'as',\n",
       " 'the',\n",
       " 'ASX-listed',\n",
       " 'firm',\n",
       " 'battles',\n",
       " 'for',\n",
       " 'its',\n",
       " 'survival.',\n",
       " 'Mr.',\n",
       " 'Johnson',\n",
       " 'said',\n",
       " \"GSO's\",\n",
       " 'recapitalisation',\n",
       " 'meant',\n",
       " '\"the',\n",
       " 'current',\n",
       " 'shares',\n",
       " 'are',\n",
       " 'worthless\".']"
      ]
     },
     "execution_count": 66,
     "metadata": {},
     "output_type": "execute_result"
    }
   ],
   "source": [
    "regex_tokens"
   ]
  },
  {
   "cell_type": "code",
   "execution_count": 67,
   "metadata": {},
   "outputs": [],
   "source": [
    "#regex menggunakan RegexpTokenizer\n",
    "#panggil modul RegexpTokenizer\n",
    "\n",
    "from nltk.tokenize import RegexpTokenizer"
   ]
  },
  {
   "cell_type": "code",
   "execution_count": 68,
   "metadata": {},
   "outputs": [],
   "source": [
    "#untuk mengecek parameter didalam RegexpTokenizer(), kita bisa menggunakan shift + tab\n",
    "#kriteria dari RegexpTokenizer\n",
    "#sama dengan metode regex sebelumnya, menggunakan whitespace sebagai kriteria\n",
    "tokenizer = RegexpTokenizer(r\"\\s+\", gaps=True)\n",
    "\n",
    "#membuat variable baru bernama regexptokenizer\n",
    "regexptokenizer_tokens = tokenizer.tokenize(raw)"
   ]
  },
  {
   "cell_type": "code",
   "execution_count": 69,
   "metadata": {},
   "outputs": [
    {
     "data": {
      "text/plain": [
       "['The',\n",
       " 'GSO',\n",
       " 'finace',\n",
       " 'group',\n",
       " 'in',\n",
       " 'U.S.A.',\n",
       " 'provided',\n",
       " 'Cole',\n",
       " 'with',\n",
       " 'about',\n",
       " 'US$40,000,555.4',\n",
       " 'in',\n",
       " 'funding,',\n",
       " 'which',\n",
       " 'accounts',\n",
       " 'for',\n",
       " '35.3%',\n",
       " 'of',\n",
       " \"Cole's\",\n",
       " 'revenue',\n",
       " '(i.e.,',\n",
       " 'AUD113.3m),',\n",
       " 'as',\n",
       " 'the',\n",
       " 'ASX-listed',\n",
       " 'firm',\n",
       " 'battles',\n",
       " 'for',\n",
       " 'its',\n",
       " 'survival.',\n",
       " 'Mr.',\n",
       " 'Johnson',\n",
       " 'said',\n",
       " \"GSO's\",\n",
       " 'recapitalisation',\n",
       " 'meant',\n",
       " '\"the',\n",
       " 'current',\n",
       " 'shares',\n",
       " 'are',\n",
       " 'worthless\".']"
      ]
     },
     "execution_count": 69,
     "metadata": {},
     "output_type": "execute_result"
    }
   ],
   "source": [
    "regexptokenizer_tokens"
   ]
  },
  {
   "cell_type": "code",
   "execution_count": null,
   "metadata": {},
   "outputs": [],
   "source": [
    "#kita bisa eksplore modul lain di nltk.tokenizer\n",
    "#link\n",
    "#https://www.nltk.org/api/nltk.tokenize.html#module-nltk.tokenize"
   ]
  },
  {
   "cell_type": "markdown",
   "metadata": {},
   "source": [
    "> **Function method**. The iterable will be split into a number of chunks, each of which will be submitted to a process in the process pool. Each process will apply a callable function to each element in the chunk it has received."
   ]
  },
  {
   "cell_type": "code",
   "execution_count": 70,
   "metadata": {},
   "outputs": [],
   "source": [
    "import nltk"
   ]
  },
  {
   "cell_type": "code",
   "execution_count": 71,
   "metadata": {},
   "outputs": [],
   "source": [
    "def tokenizeRawData(data):\n",
    "    \"\"\"\n",
    "        Fungsi untuk tokenize data input.\n",
    "        Data input merupakan data, di contoh kasus ini adalah variable raw\n",
    "    \"\"\"\n",
    "    # membuat function\n",
    "    function_tokens = nltk.tokenize.word_tokenize(data) \n",
    "    return (function_tokens)"
   ]
  },
  {
   "cell_type": "code",
   "execution_count": 72,
   "metadata": {},
   "outputs": [
    {
     "data": {
      "text/plain": [
       "['The',\n",
       " 'GSO',\n",
       " 'finace',\n",
       " 'group',\n",
       " 'in',\n",
       " 'U.S.A.',\n",
       " 'provided',\n",
       " 'Cole',\n",
       " 'with',\n",
       " 'about',\n",
       " 'US',\n",
       " '$',\n",
       " '40,000,555.4',\n",
       " 'in',\n",
       " 'funding',\n",
       " ',',\n",
       " 'which',\n",
       " 'accounts',\n",
       " 'for',\n",
       " '35.3',\n",
       " '%',\n",
       " 'of',\n",
       " 'Cole',\n",
       " \"'s\",\n",
       " 'revenue',\n",
       " '(',\n",
       " 'i.e.',\n",
       " ',',\n",
       " 'AUD113.3m',\n",
       " ')',\n",
       " ',',\n",
       " 'as',\n",
       " 'the',\n",
       " 'ASX-listed',\n",
       " 'firm',\n",
       " 'battles',\n",
       " 'for',\n",
       " 'its',\n",
       " 'survival',\n",
       " '.',\n",
       " 'Mr.',\n",
       " 'Johnson',\n",
       " 'said',\n",
       " 'GSO',\n",
       " \"'s\",\n",
       " 'recapitalisation',\n",
       " 'meant',\n",
       " '``',\n",
       " 'the',\n",
       " 'current',\n",
       " 'shares',\n",
       " 'are',\n",
       " 'worthless',\n",
       " \"''\",\n",
       " '.']"
      ]
     },
     "execution_count": 72,
     "metadata": {},
     "output_type": "execute_result"
    }
   ],
   "source": [
    "#implementasi function dengan input variable raw\n",
    "tokenizeRawData(raw)"
   ]
  },
  {
   "cell_type": "markdown",
   "metadata": {},
   "source": [
    "> **quiz for tokenization**. Word count using word_tokenize. "
   ]
  },
  {
   "cell_type": "code",
   "execution_count": 73,
   "metadata": {},
   "outputs": [],
   "source": [
    "#menggunakan FreqDist dari nltk.probability\n",
    "#digabungkan dengan word_tokenize dari nltk.tokenize\n",
    "\n",
    "from nltk.tokenize import word_tokenize\n",
    "from nltk.probability import FreqDist\n",
    "\n",
    "\n",
    "fdist = FreqDist()\n",
    "for word in word_tokenize(raw):\n",
    "    fdist[word] += 1"
   ]
  },
  {
   "cell_type": "code",
   "execution_count": 75,
   "metadata": {},
   "outputs": [
    {
     "data": {
      "text/plain": [
       "FreqDist({',': 3, 'GSO': 2, 'in': 2, 'Cole': 2, 'for': 2, \"'s\": 2, 'the': 2, '.': 2, 'The': 1, 'finace': 1, ...})"
      ]
     },
     "execution_count": 75,
     "metadata": {},
     "output_type": "execute_result"
    }
   ],
   "source": [
    "fdist"
   ]
  },
  {
   "cell_type": "markdown",
   "metadata": {},
   "source": [
    "> **N-grams**. Besides unigrams that we have been working on so far,\n",
    "N-grams of texts are also extensively used in various text analysis tasks.\n",
    "They are basically contiguous sequences of `n` words from a given sequence of text.\n",
    "When computing the n-grams you typically move a fixed size window of size n\n",
    "words forward."
   ]
  },
  {
   "cell_type": "markdown",
   "metadata": {},
   "source": [
    "For example, for the sentence.\n",
    "```\n",
    "'Laughter is like a windshield wiper'.\n",
    "```\n",
    "if N = 2 (known as bigrams), the n-grams would be:\n",
    "```\n",
    "'Laughter is', 'is like', 'like a, 'a windshield', 'windshield wiper'.\n",
    "```"
   ]
  },
  {
   "cell_type": "code",
   "execution_count": 76,
   "metadata": {},
   "outputs": [],
   "source": [
    "#panggil modul ngrams dari nltk.util\n",
    "from nltk.util import ngrams\n",
    "\n",
    "#membuat fungsi untuk ekstrak ngram\n",
    "def extract_ngrams(data, num):\n",
    "    \"\"\"\n",
    "        Fungsi untuk mengimplementasikan n-gram dari variable\n",
    "        Data input merupakan data, di contoh kasus ini adalah variable raw. Sedangkan num adalah konteks n dari n-gram.\n",
    "    \"\"\"\n",
    "    n_grams = ngrams(nltk.word_tokenize(data), num)\n",
    "    return [ ' '.join(grams) for grams in n_grams]"
   ]
  },
  {
   "cell_type": "code",
   "execution_count": 81,
   "metadata": {},
   "outputs": [
    {
     "data": {
      "text/plain": [
       "['The GSO',\n",
       " 'GSO finace',\n",
       " 'finace group',\n",
       " 'group in',\n",
       " 'in U.S.A.',\n",
       " 'U.S.A. provided',\n",
       " 'provided Cole',\n",
       " 'Cole with',\n",
       " 'with about',\n",
       " 'about US',\n",
       " 'US $',\n",
       " '$ 40,000,555.4',\n",
       " '40,000,555.4 in',\n",
       " 'in funding',\n",
       " 'funding ,',\n",
       " ', which',\n",
       " 'which accounts',\n",
       " 'accounts for',\n",
       " 'for 35.3',\n",
       " '35.3 %',\n",
       " '% of',\n",
       " 'of Cole',\n",
       " \"Cole 's\",\n",
       " \"'s revenue\",\n",
       " 'revenue (',\n",
       " '( i.e.',\n",
       " 'i.e. ,',\n",
       " ', AUD113.3m',\n",
       " 'AUD113.3m )',\n",
       " ') ,',\n",
       " ', as',\n",
       " 'as the',\n",
       " 'the ASX-listed',\n",
       " 'ASX-listed firm',\n",
       " 'firm battles',\n",
       " 'battles for',\n",
       " 'for its',\n",
       " 'its survival',\n",
       " 'survival .',\n",
       " '. Mr.',\n",
       " 'Mr. Johnson',\n",
       " 'Johnson said',\n",
       " 'said GSO',\n",
       " \"GSO 's\",\n",
       " \"'s recapitalisation\",\n",
       " 'recapitalisation meant',\n",
       " 'meant ``',\n",
       " '`` the',\n",
       " 'the current',\n",
       " 'current shares',\n",
       " 'shares are',\n",
       " 'are worthless',\n",
       " \"worthless ''\",\n",
       " \"'' .\"]"
      ]
     },
     "execution_count": 81,
     "metadata": {},
     "output_type": "execute_result"
    }
   ],
   "source": [
    "#contoh dari ngrams\n",
    "#n bisa diganti 1,2,3 dst.\n",
    "#penting untuk membaca penelitian2 terkait hasil implementasi n tersebut.\n",
    "\n",
    "#bigram, n=2\n",
    "extract_ngrams(raw, 2)"
   ]
  },
  {
   "cell_type": "markdown",
   "metadata": {},
   "source": [
    "**4. POS Tag** \n",
    "\n",
    "The process of classifying words into their parts-of-speech and labeling them accordingly is known as part-of-speech tagging, POS tagging, or simply tagging. Parts of speech are also known as word classes or lexical categories. The collection of tags\n",
    "used for a particular task is known as a tagset."
   ]
  },
  {
   "cell_type": "markdown",
   "metadata": {},
   "source": [
    "> **Case study**"
   ]
  },
  {
   "cell_type": "markdown",
   "metadata": {},
   "source": [
    ">**Pos Tag using nltk**"
   ]
  },
  {
   "cell_type": "code",
   "execution_count": 82,
   "metadata": {},
   "outputs": [],
   "source": [
    "#menggunakan model pos_tag dari nltk\n",
    "#membuat variable baru bernama tagged_word\n",
    "tagged_word = nltk.tag.pos_tag(tokenizeRawData(raw))"
   ]
  },
  {
   "cell_type": "code",
   "execution_count": 83,
   "metadata": {},
   "outputs": [
    {
     "data": {
      "text/plain": [
       "[('The', 'DT'),\n",
       " ('GSO', 'NNP'),\n",
       " ('finace', 'NN'),\n",
       " ('group', 'NN'),\n",
       " ('in', 'IN'),\n",
       " ('U.S.A.', 'NNP'),\n",
       " ('provided', 'VBD'),\n",
       " ('Cole', 'NNP'),\n",
       " ('with', 'IN'),\n",
       " ('about', 'IN'),\n",
       " ('US', 'NNP'),\n",
       " ('$', '$'),\n",
       " ('40,000,555.4', 'CD'),\n",
       " ('in', 'IN'),\n",
       " ('funding', 'NN'),\n",
       " (',', ','),\n",
       " ('which', 'WDT'),\n",
       " ('accounts', 'VBZ'),\n",
       " ('for', 'IN'),\n",
       " ('35.3', 'CD'),\n",
       " ('%', 'NN'),\n",
       " ('of', 'IN'),\n",
       " ('Cole', 'NNP'),\n",
       " (\"'s\", 'POS'),\n",
       " ('revenue', 'NN'),\n",
       " ('(', '('),\n",
       " ('i.e.', 'JJ'),\n",
       " (',', ','),\n",
       " ('AUD113.3m', 'NNP'),\n",
       " (')', ')'),\n",
       " (',', ','),\n",
       " ('as', 'IN'),\n",
       " ('the', 'DT'),\n",
       " ('ASX-listed', 'JJ'),\n",
       " ('firm', 'NN'),\n",
       " ('battles', 'VBZ'),\n",
       " ('for', 'IN'),\n",
       " ('its', 'PRP$'),\n",
       " ('survival', 'NN'),\n",
       " ('.', '.'),\n",
       " ('Mr.', 'NNP'),\n",
       " ('Johnson', 'NNP'),\n",
       " ('said', 'VBD'),\n",
       " ('GSO', 'NNP'),\n",
       " (\"'s\", 'POS'),\n",
       " ('recapitalisation', 'NN'),\n",
       " ('meant', 'VBD'),\n",
       " ('``', '``'),\n",
       " ('the', 'DT'),\n",
       " ('current', 'JJ'),\n",
       " ('shares', 'NNS'),\n",
       " ('are', 'VBP'),\n",
       " ('worthless', 'JJ'),\n",
       " (\"''\", \"''\"),\n",
       " ('.', '.')]"
      ]
     },
     "execution_count": 83,
     "metadata": {},
     "output_type": "execute_result"
    }
   ],
   "source": [
    "#print variable tagged_word\n",
    "tagged_word"
   ]
  },
  {
   "cell_type": "code",
   "execution_count": 84,
   "metadata": {},
   "outputs": [],
   "source": [
    "#melakukan filter atas word dengan tag 'NN' saja\n",
    "#membuat variable baru bernama filter_tag\n",
    "filter_tag = [word for word, tag in tagged_word if tag.startswith('NN')]"
   ]
  },
  {
   "cell_type": "code",
   "execution_count": 85,
   "metadata": {},
   "outputs": [
    {
     "data": {
      "text/plain": [
       "['GSO',\n",
       " 'finace',\n",
       " 'group',\n",
       " 'U.S.A.',\n",
       " 'Cole',\n",
       " 'US',\n",
       " 'funding',\n",
       " '%',\n",
       " 'Cole',\n",
       " 'revenue',\n",
       " 'AUD113.3m',\n",
       " 'firm',\n",
       " 'survival',\n",
       " 'Mr.',\n",
       " 'Johnson',\n",
       " 'GSO',\n",
       " 'recapitalisation',\n",
       " 'shares']"
      ]
     },
     "execution_count": 85,
     "metadata": {},
     "output_type": "execute_result"
    }
   ],
   "source": [
    "#print variable filter_tag\n",
    "filter_tag"
   ]
  },
  {
   "cell_type": "code",
   "execution_count": null,
   "metadata": {},
   "outputs": [],
   "source": [
    "#untuk memahami arti dari tagging\n",
    "#bisa cek link\n",
    "#https://stackoverflow.com/questions/29332851/what-does-nn-vbd-in-dt-nns-rb-means-in-nltk\n",
    "#https://cs.nyu.edu/grishman/jet/guide/PennPOS.html"
   ]
  },
  {
   "cell_type": "markdown",
   "metadata": {},
   "source": [
    "> **Abbreviation**. To deal with abbreviations, one approach is to maintain a look-up list of known abbreviations during tokenization. Another approach aims for smart tokenization. Here we will show you how to use regular expressions to cover most but not all abbreviations."
   ]
  },
  {
   "cell_type": "code",
   "execution_count": 86,
   "metadata": {},
   "outputs": [
    {
     "data": {
      "text/plain": [
       "['U.S.A.', 'i.e.', 'l.', 'r.']"
      ]
     },
     "execution_count": 86,
     "metadata": {},
     "output_type": "execute_result"
    }
   ],
   "source": [
    "#mencari bentuk singkatan dengan pola, semua huruf besar maupun kecil yang dipisahkan oleh tanda titik.\n",
    "\n",
    "tokenizer = RegexpTokenizer(r\"(?:[a-zA-Z]\\.)+\")\n",
    "tokenizer.tokenize(raw)"
   ]
  },
  {
   "cell_type": "code",
   "execution_count": 87,
   "metadata": {},
   "outputs": [
    {
     "data": {
      "text/plain": [
       "['survival.', 'Mr.']"
      ]
     },
     "execution_count": 87,
     "metadata": {},
     "output_type": "execute_result"
    }
   ],
   "source": [
    "#mencari bentuk singkatan dengan pola, kata yang diakhiri dengan tanda titik.\n",
    "\n",
    "tokenizer = RegexpTokenizer(r\"[a-zA-z]{2,}\\.\")\n",
    "tokenizer.tokenize(raw)"
   ]
  },
  {
   "cell_type": "markdown",
   "metadata": {},
   "source": [
    "**5. Case Normalization**\n",
    "\n",
    "After word tokenization, you may find that words can contain either upper- or lowercase letters.\n",
    "\n",
    "For example, you might have \"data\" and \"Data\" appearing in the same text.\n",
    "Should one treat them as two different words or as the same word?\n",
    "\n",
    "Most English texts are written in mixed case. \n",
    "In other words, a text can contain both upper- and lowercase letters.\n",
    "Capitalization helps readers differentiate, for example, between nouns and proper nouns.\n",
    "In many circumstances, however, an uppercase word should be treated no differently than in lower case appearing in a document, and even in a corpus.\n",
    "\n",
    "Therefore, a common strategy is **to reduce all letters in a word to lower case.**\n",
    "It is very simple to do so."
   ]
  },
  {
   "cell_type": "markdown",
   "metadata": {},
   "source": [
    "> **Case study**"
   ]
  },
  {
   "cell_type": "markdown",
   "metadata": {},
   "source": [
    "> **islower()**. This method to checks the given string if it has lowercase characters in it. If yes, then it returns true; else, if there are no lowercase characters, it returns false."
   ]
  },
  {
   "cell_type": "code",
   "execution_count": 88,
   "metadata": {},
   "outputs": [
    {
     "data": {
      "text/plain": [
       "False"
      ]
     },
     "execution_count": 88,
     "metadata": {},
     "output_type": "execute_result"
    }
   ],
   "source": [
    "raw.islower()\n",
    "#artinya di dalam variable raw terdapat kata dalam bentuk tidak lowercase"
   ]
  },
  {
   "cell_type": "markdown",
   "metadata": {},
   "source": [
    "> **lower()**. Converting to lowercase, creates another string other than the original string and returns that string."
   ]
  },
  {
   "cell_type": "code",
   "execution_count": 89,
   "metadata": {},
   "outputs": [
    {
     "data": {
      "text/plain": [
       "'the gso finace group in  u.s.a. provided cole with about us$40,000,555.4 in funding, \\nwhich accounts for 35.3% of cole\\'s revenue (i.e., aud113.3m), \\nas the asx-listed firm battles for its survival. \\nmr. johnson said gso\\'s recapitalisation meant \"the current shares are worthless\".'"
      ]
     },
     "execution_count": 89,
     "metadata": {},
     "output_type": "execute_result"
    }
   ],
   "source": [
    "raw.lower()"
   ]
  },
  {
   "cell_type": "markdown",
   "metadata": {},
   "source": [
    "> **lower() combined with tokenization**. To make a new variable that contains lowercase words."
   ]
  },
  {
   "cell_type": "code",
   "execution_count": 90,
   "metadata": {},
   "outputs": [],
   "source": [
    "#membuat variable baru bernama lowercase_tokens\n",
    "#token.lower() artinya, setiap iterasi akan masing-masing kata (token) di variable regexptokenizer_tokens (variable sebelumnya) untuk diimplementasikan lower()\n",
    "lowercase_tokens = [token.lower() for token in regexptokenizer_tokens]"
   ]
  },
  {
   "cell_type": "code",
   "execution_count": 91,
   "metadata": {},
   "outputs": [
    {
     "data": {
      "text/plain": [
       "['the',\n",
       " 'gso',\n",
       " 'finace',\n",
       " 'group',\n",
       " 'in',\n",
       " 'u.s.a.',\n",
       " 'provided',\n",
       " 'cole',\n",
       " 'with',\n",
       " 'about',\n",
       " 'us$40,000,555.4',\n",
       " 'in',\n",
       " 'funding,',\n",
       " 'which',\n",
       " 'accounts',\n",
       " 'for',\n",
       " '35.3%',\n",
       " 'of',\n",
       " \"cole's\",\n",
       " 'revenue',\n",
       " '(i.e.,',\n",
       " 'aud113.3m),',\n",
       " 'as',\n",
       " 'the',\n",
       " 'asx-listed',\n",
       " 'firm',\n",
       " 'battles',\n",
       " 'for',\n",
       " 'its',\n",
       " 'survival.',\n",
       " 'mr.',\n",
       " 'johnson',\n",
       " 'said',\n",
       " \"gso's\",\n",
       " 'recapitalisation',\n",
       " 'meant',\n",
       " '\"the',\n",
       " 'current',\n",
       " 'shares',\n",
       " 'are',\n",
       " 'worthless\".']"
      ]
     },
     "execution_count": 91,
     "metadata": {},
     "output_type": "execute_result"
    }
   ],
   "source": [
    "lowercase_tokens"
   ]
  },
  {
   "cell_type": "markdown",
   "metadata": {},
   "source": [
    "**Removing Stopwords**\n",
    "\n",
    "[Stopwords](https://en.wikipedia.org/wiki/Stop_words) are words that are extremely common and carry little lexical content. For many NLP and text mining tasks, it is useful to remove stopwords in order to save storage space \n",
    "and speed up processing, and the process of removing these words is usually called “stopping.”"
   ]
  },
  {
   "cell_type": "markdown",
   "metadata": {},
   "source": [
    "> **Case study**"
   ]
  },
  {
   "cell_type": "markdown",
   "metadata": {},
   "source": [
    "> **Stopwords for English words**. We can implement stopwords module from nltk.corpus. We also can extend that module by adding some extra words."
   ]
  },
  {
   "cell_type": "code",
   "execution_count": 92,
   "metadata": {},
   "outputs": [],
   "source": [
    "#nltk memiliki modul dengan corpus berupa kata-kata dalam bahasa inggris yang biasa untuk di stop.\n",
    "#biasanya merupakan kata subyek, kata penghubung dan sejenisnya.\n",
    "#modulnya bernama 'stopwords'\n",
    "\n",
    "from nltk.corpus import stopwords\n",
    "\n",
    "#membuat variable baru bernama english_stopwords\n",
    "english_stopwords = stopwords.words('english')"
   ]
  },
  {
   "cell_type": "code",
   "execution_count": 93,
   "metadata": {},
   "outputs": [
    {
     "data": {
      "text/plain": [
       "['i',\n",
       " 'me',\n",
       " 'my',\n",
       " 'myself',\n",
       " 'we',\n",
       " 'our',\n",
       " 'ours',\n",
       " 'ourselves',\n",
       " 'you',\n",
       " \"you're\",\n",
       " \"you've\",\n",
       " \"you'll\",\n",
       " \"you'd\",\n",
       " 'your',\n",
       " 'yours',\n",
       " 'yourself',\n",
       " 'yourselves',\n",
       " 'he',\n",
       " 'him',\n",
       " 'his',\n",
       " 'himself',\n",
       " 'she',\n",
       " \"she's\",\n",
       " 'her',\n",
       " 'hers',\n",
       " 'herself',\n",
       " 'it',\n",
       " \"it's\",\n",
       " 'its',\n",
       " 'itself',\n",
       " 'they',\n",
       " 'them',\n",
       " 'their',\n",
       " 'theirs',\n",
       " 'themselves',\n",
       " 'what',\n",
       " 'which',\n",
       " 'who',\n",
       " 'whom',\n",
       " 'this',\n",
       " 'that',\n",
       " \"that'll\",\n",
       " 'these',\n",
       " 'those',\n",
       " 'am',\n",
       " 'is',\n",
       " 'are',\n",
       " 'was',\n",
       " 'were',\n",
       " 'be',\n",
       " 'been',\n",
       " 'being',\n",
       " 'have',\n",
       " 'has',\n",
       " 'had',\n",
       " 'having',\n",
       " 'do',\n",
       " 'does',\n",
       " 'did',\n",
       " 'doing',\n",
       " 'a',\n",
       " 'an',\n",
       " 'the',\n",
       " 'and',\n",
       " 'but',\n",
       " 'if',\n",
       " 'or',\n",
       " 'because',\n",
       " 'as',\n",
       " 'until',\n",
       " 'while',\n",
       " 'of',\n",
       " 'at',\n",
       " 'by',\n",
       " 'for',\n",
       " 'with',\n",
       " 'about',\n",
       " 'against',\n",
       " 'between',\n",
       " 'into',\n",
       " 'through',\n",
       " 'during',\n",
       " 'before',\n",
       " 'after',\n",
       " 'above',\n",
       " 'below',\n",
       " 'to',\n",
       " 'from',\n",
       " 'up',\n",
       " 'down',\n",
       " 'in',\n",
       " 'out',\n",
       " 'on',\n",
       " 'off',\n",
       " 'over',\n",
       " 'under',\n",
       " 'again',\n",
       " 'further',\n",
       " 'then',\n",
       " 'once',\n",
       " 'here',\n",
       " 'there',\n",
       " 'when',\n",
       " 'where',\n",
       " 'why',\n",
       " 'how',\n",
       " 'all',\n",
       " 'any',\n",
       " 'both',\n",
       " 'each',\n",
       " 'few',\n",
       " 'more',\n",
       " 'most',\n",
       " 'other',\n",
       " 'some',\n",
       " 'such',\n",
       " 'no',\n",
       " 'nor',\n",
       " 'not',\n",
       " 'only',\n",
       " 'own',\n",
       " 'same',\n",
       " 'so',\n",
       " 'than',\n",
       " 'too',\n",
       " 'very',\n",
       " 's',\n",
       " 't',\n",
       " 'can',\n",
       " 'will',\n",
       " 'just',\n",
       " 'don',\n",
       " \"don't\",\n",
       " 'should',\n",
       " \"should've\",\n",
       " 'now',\n",
       " 'd',\n",
       " 'll',\n",
       " 'm',\n",
       " 'o',\n",
       " 're',\n",
       " 've',\n",
       " 'y',\n",
       " 'ain',\n",
       " 'aren',\n",
       " \"aren't\",\n",
       " 'couldn',\n",
       " \"couldn't\",\n",
       " 'didn',\n",
       " \"didn't\",\n",
       " 'doesn',\n",
       " \"doesn't\",\n",
       " 'hadn',\n",
       " \"hadn't\",\n",
       " 'hasn',\n",
       " \"hasn't\",\n",
       " 'haven',\n",
       " \"haven't\",\n",
       " 'isn',\n",
       " \"isn't\",\n",
       " 'ma',\n",
       " 'mightn',\n",
       " \"mightn't\",\n",
       " 'mustn',\n",
       " \"mustn't\",\n",
       " 'needn',\n",
       " \"needn't\",\n",
       " 'shan',\n",
       " \"shan't\",\n",
       " 'shouldn',\n",
       " \"shouldn't\",\n",
       " 'wasn',\n",
       " \"wasn't\",\n",
       " 'weren',\n",
       " \"weren't\",\n",
       " 'won',\n",
       " \"won't\",\n",
       " 'wouldn',\n",
       " \"wouldn't\"]"
      ]
     },
     "execution_count": 93,
     "metadata": {},
     "output_type": "execute_result"
    }
   ],
   "source": [
    "english_stopwords"
   ]
  },
  {
   "cell_type": "code",
   "execution_count": 94,
   "metadata": {},
   "outputs": [
    {
     "data": {
      "text/plain": [
       "['arabic',\n",
       " 'azerbaijani',\n",
       " 'danish',\n",
       " 'dutch',\n",
       " 'english',\n",
       " 'finnish',\n",
       " 'french',\n",
       " 'german',\n",
       " 'greek',\n",
       " 'hungarian',\n",
       " 'indonesian',\n",
       " 'italian',\n",
       " 'kazakh',\n",
       " 'nepali',\n",
       " 'norwegian',\n",
       " 'portuguese',\n",
       " 'romanian',\n",
       " 'russian',\n",
       " 'slovene',\n",
       " 'spanish',\n",
       " 'swedish',\n",
       " 'tajik',\n",
       " 'turkish']"
      ]
     },
     "execution_count": 94,
     "metadata": {},
     "output_type": "execute_result"
    }
   ],
   "source": [
    "#modul stopwords support beragam jenis bahasa\n",
    "#tidak hanya bahasa Inggris\n",
    "stopwords.fileids()"
   ]
  },
  {
   "cell_type": "code",
   "execution_count": 95,
   "metadata": {},
   "outputs": [],
   "source": [
    "indonesian_stopwords = stopwords.words('indonesian')"
   ]
  },
  {
   "cell_type": "code",
   "execution_count": 98,
   "metadata": {},
   "outputs": [
    {
     "data": {
      "text/plain": [
       "['ada',\n",
       " 'adalah',\n",
       " 'adanya',\n",
       " 'adapun',\n",
       " 'agak',\n",
       " 'agaknya',\n",
       " 'agar',\n",
       " 'akan',\n",
       " 'akankah',\n",
       " 'akhir',\n",
       " 'akhiri',\n",
       " 'akhirnya',\n",
       " 'aku',\n",
       " 'akulah',\n",
       " 'amat',\n",
       " 'amatlah',\n",
       " 'anda',\n",
       " 'andalah',\n",
       " 'antar',\n",
       " 'antara',\n",
       " 'antaranya',\n",
       " 'apa',\n",
       " 'apaan',\n",
       " 'apabila',\n",
       " 'apakah',\n",
       " 'apalagi',\n",
       " 'apatah',\n",
       " 'artinya',\n",
       " 'asal',\n",
       " 'asalkan',\n",
       " 'atas',\n",
       " 'atau',\n",
       " 'ataukah',\n",
       " 'ataupun',\n",
       " 'awal',\n",
       " 'awalnya',\n",
       " 'bagai',\n",
       " 'bagaikan',\n",
       " 'bagaimana',\n",
       " 'bagaimanakah',\n",
       " 'bagaimanapun',\n",
       " 'bagi',\n",
       " 'bagian',\n",
       " 'bahkan',\n",
       " 'bahwa',\n",
       " 'bahwasanya',\n",
       " 'baik',\n",
       " 'bakal',\n",
       " 'bakalan',\n",
       " 'balik',\n",
       " 'banyak',\n",
       " 'bapak',\n",
       " 'baru',\n",
       " 'bawah',\n",
       " 'beberapa',\n",
       " 'begini',\n",
       " 'beginian',\n",
       " 'beginikah',\n",
       " 'beginilah',\n",
       " 'begitu',\n",
       " 'begitukah',\n",
       " 'begitulah',\n",
       " 'begitupun',\n",
       " 'bekerja',\n",
       " 'belakang',\n",
       " 'belakangan',\n",
       " 'belum',\n",
       " 'belumlah',\n",
       " 'benar',\n",
       " 'benarkah',\n",
       " 'benarlah',\n",
       " 'berada',\n",
       " 'berakhir',\n",
       " 'berakhirlah',\n",
       " 'berakhirnya',\n",
       " 'berapa',\n",
       " 'berapakah',\n",
       " 'berapalah',\n",
       " 'berapapun',\n",
       " 'berarti',\n",
       " 'berawal',\n",
       " 'berbagai',\n",
       " 'berdatangan',\n",
       " 'beri',\n",
       " 'berikan',\n",
       " 'berikut',\n",
       " 'berikutnya',\n",
       " 'berjumlah',\n",
       " 'berkali-kali',\n",
       " 'berkata',\n",
       " 'berkehendak',\n",
       " 'berkeinginan',\n",
       " 'berkenaan',\n",
       " 'berlainan',\n",
       " 'berlalu',\n",
       " 'berlangsung',\n",
       " 'berlebihan',\n",
       " 'bermacam',\n",
       " 'bermacam-macam',\n",
       " 'bermaksud',\n",
       " 'bermula',\n",
       " 'bersama',\n",
       " 'bersama-sama',\n",
       " 'bersiap',\n",
       " 'bersiap-siap',\n",
       " 'bertanya',\n",
       " 'bertanya-tanya',\n",
       " 'berturut',\n",
       " 'berturut-turut',\n",
       " 'bertutur',\n",
       " 'berujar',\n",
       " 'berupa',\n",
       " 'besar',\n",
       " 'betul',\n",
       " 'betulkah',\n",
       " 'biasa',\n",
       " 'biasanya',\n",
       " 'bila',\n",
       " 'bilakah',\n",
       " 'bisa',\n",
       " 'bisakah',\n",
       " 'boleh',\n",
       " 'bolehkah',\n",
       " 'bolehlah',\n",
       " 'buat',\n",
       " 'bukan',\n",
       " 'bukankah',\n",
       " 'bukanlah',\n",
       " 'bukannya',\n",
       " 'bulan',\n",
       " 'bung',\n",
       " 'cara',\n",
       " 'caranya',\n",
       " 'cukup',\n",
       " 'cukupkah',\n",
       " 'cukuplah',\n",
       " 'cuma',\n",
       " 'dahulu',\n",
       " 'dalam',\n",
       " 'dan',\n",
       " 'dapat',\n",
       " 'dari',\n",
       " 'daripada',\n",
       " 'datang',\n",
       " 'dekat',\n",
       " 'demi',\n",
       " 'demikian',\n",
       " 'demikianlah',\n",
       " 'dengan',\n",
       " 'depan',\n",
       " 'di',\n",
       " 'dia',\n",
       " 'diakhiri',\n",
       " 'diakhirinya',\n",
       " 'dialah',\n",
       " 'diantara',\n",
       " 'diantaranya',\n",
       " 'diberi',\n",
       " 'diberikan',\n",
       " 'diberikannya',\n",
       " 'dibuat',\n",
       " 'dibuatnya',\n",
       " 'didapat',\n",
       " 'didatangkan',\n",
       " 'digunakan',\n",
       " 'diibaratkan',\n",
       " 'diibaratkannya',\n",
       " 'diingat',\n",
       " 'diingatkan',\n",
       " 'diinginkan',\n",
       " 'dijawab',\n",
       " 'dijelaskan',\n",
       " 'dijelaskannya',\n",
       " 'dikarenakan',\n",
       " 'dikatakan',\n",
       " 'dikatakannya',\n",
       " 'dikerjakan',\n",
       " 'diketahui',\n",
       " 'diketahuinya',\n",
       " 'dikira',\n",
       " 'dilakukan',\n",
       " 'dilalui',\n",
       " 'dilihat',\n",
       " 'dimaksud',\n",
       " 'dimaksudkan',\n",
       " 'dimaksudkannya',\n",
       " 'dimaksudnya',\n",
       " 'diminta',\n",
       " 'dimintai',\n",
       " 'dimisalkan',\n",
       " 'dimulai',\n",
       " 'dimulailah',\n",
       " 'dimulainya',\n",
       " 'dimungkinkan',\n",
       " 'dini',\n",
       " 'dipastikan',\n",
       " 'diperbuat',\n",
       " 'diperbuatnya',\n",
       " 'dipergunakan',\n",
       " 'diperkirakan',\n",
       " 'diperlihatkan',\n",
       " 'diperlukan',\n",
       " 'diperlukannya',\n",
       " 'dipersoalkan',\n",
       " 'dipertanyakan',\n",
       " 'dipunyai',\n",
       " 'diri',\n",
       " 'dirinya',\n",
       " 'disampaikan',\n",
       " 'disebut',\n",
       " 'disebutkan',\n",
       " 'disebutkannya',\n",
       " 'disini',\n",
       " 'disinilah',\n",
       " 'ditambahkan',\n",
       " 'ditandaskan',\n",
       " 'ditanya',\n",
       " 'ditanyai',\n",
       " 'ditanyakan',\n",
       " 'ditegaskan',\n",
       " 'ditujukan',\n",
       " 'ditunjuk',\n",
       " 'ditunjuki',\n",
       " 'ditunjukkan',\n",
       " 'ditunjukkannya',\n",
       " 'ditunjuknya',\n",
       " 'dituturkan',\n",
       " 'dituturkannya',\n",
       " 'diucapkan',\n",
       " 'diucapkannya',\n",
       " 'diungkapkan',\n",
       " 'dong',\n",
       " 'dua',\n",
       " 'dulu',\n",
       " 'empat',\n",
       " 'enggak',\n",
       " 'enggaknya',\n",
       " 'entah',\n",
       " 'entahlah',\n",
       " 'guna',\n",
       " 'gunakan',\n",
       " 'hal',\n",
       " 'hampir',\n",
       " 'hanya',\n",
       " 'hanyalah',\n",
       " 'hari',\n",
       " 'harus',\n",
       " 'haruslah',\n",
       " 'harusnya',\n",
       " 'hendak',\n",
       " 'hendaklah',\n",
       " 'hendaknya',\n",
       " 'hingga',\n",
       " 'ia',\n",
       " 'ialah',\n",
       " 'ibarat',\n",
       " 'ibaratkan',\n",
       " 'ibaratnya',\n",
       " 'ibu',\n",
       " 'ikut',\n",
       " 'ingat',\n",
       " 'ingat-ingat',\n",
       " 'ingin',\n",
       " 'inginkah',\n",
       " 'inginkan',\n",
       " 'ini',\n",
       " 'inikah',\n",
       " 'inilah',\n",
       " 'itu',\n",
       " 'itukah',\n",
       " 'itulah',\n",
       " 'jadi',\n",
       " 'jadilah',\n",
       " 'jadinya',\n",
       " 'jangan',\n",
       " 'jangankan',\n",
       " 'janganlah',\n",
       " 'jauh',\n",
       " 'jawab',\n",
       " 'jawaban',\n",
       " 'jawabnya',\n",
       " 'jelas',\n",
       " 'jelaskan',\n",
       " 'jelaslah',\n",
       " 'jelasnya',\n",
       " 'jika',\n",
       " 'jikalau',\n",
       " 'juga',\n",
       " 'jumlah',\n",
       " 'jumlahnya',\n",
       " 'justru',\n",
       " 'kala',\n",
       " 'kalau',\n",
       " 'kalaulah',\n",
       " 'kalaupun',\n",
       " 'kalian',\n",
       " 'kami',\n",
       " 'kamilah',\n",
       " 'kamu',\n",
       " 'kamulah',\n",
       " 'kan',\n",
       " 'kapan',\n",
       " 'kapankah',\n",
       " 'kapanpun',\n",
       " 'karena',\n",
       " 'karenanya',\n",
       " 'kasus',\n",
       " 'kata',\n",
       " 'katakan',\n",
       " 'katakanlah',\n",
       " 'katanya',\n",
       " 'ke',\n",
       " 'keadaan',\n",
       " 'kebetulan',\n",
       " 'kecil',\n",
       " 'kedua',\n",
       " 'keduanya',\n",
       " 'keinginan',\n",
       " 'kelamaan',\n",
       " 'kelihatan',\n",
       " 'kelihatannya',\n",
       " 'kelima',\n",
       " 'keluar',\n",
       " 'kembali',\n",
       " 'kemudian',\n",
       " 'kemungkinan',\n",
       " 'kemungkinannya',\n",
       " 'kenapa',\n",
       " 'kepada',\n",
       " 'kepadanya',\n",
       " 'kesampaian',\n",
       " 'keseluruhan',\n",
       " 'keseluruhannya',\n",
       " 'keterlaluan',\n",
       " 'ketika',\n",
       " 'khususnya',\n",
       " 'kini',\n",
       " 'kinilah',\n",
       " 'kira',\n",
       " 'kira-kira',\n",
       " 'kiranya',\n",
       " 'kita',\n",
       " 'kitalah',\n",
       " 'kok',\n",
       " 'kurang',\n",
       " 'lagi',\n",
       " 'lagian',\n",
       " 'lah',\n",
       " 'lain',\n",
       " 'lainnya',\n",
       " 'lalu',\n",
       " 'lama',\n",
       " 'lamanya',\n",
       " 'lanjut',\n",
       " 'lanjutnya',\n",
       " 'lebih',\n",
       " 'lewat',\n",
       " 'lima',\n",
       " 'luar',\n",
       " 'macam',\n",
       " 'maka',\n",
       " 'makanya',\n",
       " 'makin',\n",
       " 'malah',\n",
       " 'malahan',\n",
       " 'mampu',\n",
       " 'mampukah',\n",
       " 'mana',\n",
       " 'manakala',\n",
       " 'manalagi',\n",
       " 'masa',\n",
       " 'masalah',\n",
       " 'masalahnya',\n",
       " 'masih',\n",
       " 'masihkah',\n",
       " 'masing',\n",
       " 'masing-masing',\n",
       " 'mau',\n",
       " 'maupun',\n",
       " 'melainkan',\n",
       " 'melakukan',\n",
       " 'melalui',\n",
       " 'melihat',\n",
       " 'melihatnya',\n",
       " 'memang',\n",
       " 'memastikan',\n",
       " 'memberi',\n",
       " 'memberikan',\n",
       " 'membuat',\n",
       " 'memerlukan',\n",
       " 'memihak',\n",
       " 'meminta',\n",
       " 'memintakan',\n",
       " 'memisalkan',\n",
       " 'memperbuat',\n",
       " 'mempergunakan',\n",
       " 'memperkirakan',\n",
       " 'memperlihatkan',\n",
       " 'mempersiapkan',\n",
       " 'mempersoalkan',\n",
       " 'mempertanyakan',\n",
       " 'mempunyai',\n",
       " 'memulai',\n",
       " 'memungkinkan',\n",
       " 'menaiki',\n",
       " 'menambahkan',\n",
       " 'menandaskan',\n",
       " 'menanti',\n",
       " 'menanti-nanti',\n",
       " 'menantikan',\n",
       " 'menanya',\n",
       " 'menanyai',\n",
       " 'menanyakan',\n",
       " 'mendapat',\n",
       " 'mendapatkan',\n",
       " 'mendatang',\n",
       " 'mendatangi',\n",
       " 'mendatangkan',\n",
       " 'menegaskan',\n",
       " 'mengakhiri',\n",
       " 'mengapa',\n",
       " 'mengatakan',\n",
       " 'mengatakannya',\n",
       " 'mengenai',\n",
       " 'mengerjakan',\n",
       " 'mengetahui',\n",
       " 'menggunakan',\n",
       " 'menghendaki',\n",
       " 'mengibaratkan',\n",
       " 'mengibaratkannya',\n",
       " 'mengingat',\n",
       " 'mengingatkan',\n",
       " 'menginginkan',\n",
       " 'mengira',\n",
       " 'mengucapkan',\n",
       " 'mengucapkannya',\n",
       " 'mengungkapkan',\n",
       " 'menjadi',\n",
       " 'menjawab',\n",
       " 'menjelaskan',\n",
       " 'menuju',\n",
       " 'menunjuk',\n",
       " 'menunjuki',\n",
       " 'menunjukkan',\n",
       " 'menunjuknya',\n",
       " 'menurut',\n",
       " 'menuturkan',\n",
       " 'menyampaikan',\n",
       " 'menyangkut',\n",
       " 'menyatakan',\n",
       " 'menyebutkan',\n",
       " 'menyeluruh',\n",
       " 'menyiapkan',\n",
       " 'merasa',\n",
       " 'mereka',\n",
       " 'merekalah',\n",
       " 'merupakan',\n",
       " 'meski',\n",
       " 'meskipun',\n",
       " 'meyakini',\n",
       " 'meyakinkan',\n",
       " 'minta',\n",
       " 'mirip',\n",
       " 'misal',\n",
       " 'misalkan',\n",
       " 'misalnya',\n",
       " 'mula',\n",
       " 'mulai',\n",
       " 'mulailah',\n",
       " 'mulanya',\n",
       " 'mungkin',\n",
       " 'mungkinkah',\n",
       " 'nah',\n",
       " 'naik',\n",
       " 'namun',\n",
       " 'nanti',\n",
       " 'nantinya',\n",
       " 'nyaris',\n",
       " 'nyatanya',\n",
       " 'oleh',\n",
       " 'olehnya',\n",
       " 'pada',\n",
       " 'padahal',\n",
       " 'padanya',\n",
       " 'pak',\n",
       " 'paling',\n",
       " 'panjang',\n",
       " 'pantas',\n",
       " 'para',\n",
       " 'pasti',\n",
       " 'pastilah',\n",
       " 'penting',\n",
       " 'pentingnya',\n",
       " 'per',\n",
       " 'percuma',\n",
       " 'perlu',\n",
       " 'perlukah',\n",
       " 'perlunya',\n",
       " 'pernah',\n",
       " 'persoalan',\n",
       " 'pertama',\n",
       " 'pertama-tama',\n",
       " 'pertanyaan',\n",
       " 'pertanyakan',\n",
       " 'pihak',\n",
       " 'pihaknya',\n",
       " 'pukul',\n",
       " 'pula',\n",
       " 'pun',\n",
       " 'punya',\n",
       " 'rasa',\n",
       " 'rasanya',\n",
       " 'rata',\n",
       " 'rupanya',\n",
       " 'saat',\n",
       " 'saatnya',\n",
       " 'saja',\n",
       " 'sajalah',\n",
       " 'saling',\n",
       " 'sama',\n",
       " 'sama-sama',\n",
       " 'sambil',\n",
       " 'sampai',\n",
       " 'sampai-sampai',\n",
       " 'sampaikan',\n",
       " 'sana',\n",
       " 'sangat',\n",
       " 'sangatlah',\n",
       " 'satu',\n",
       " 'saya',\n",
       " 'sayalah',\n",
       " 'se',\n",
       " 'sebab',\n",
       " 'sebabnya',\n",
       " 'sebagai',\n",
       " 'sebagaimana',\n",
       " 'sebagainya',\n",
       " 'sebagian',\n",
       " 'sebaik',\n",
       " 'sebaik-baiknya',\n",
       " 'sebaiknya',\n",
       " 'sebaliknya',\n",
       " 'sebanyak',\n",
       " 'sebegini',\n",
       " 'sebegitu',\n",
       " 'sebelum',\n",
       " 'sebelumnya',\n",
       " 'sebenarnya',\n",
       " 'seberapa',\n",
       " 'sebesar',\n",
       " 'sebetulnya',\n",
       " 'sebisanya',\n",
       " 'sebuah',\n",
       " 'sebut',\n",
       " 'sebutlah',\n",
       " 'sebutnya',\n",
       " 'secara',\n",
       " 'secukupnya',\n",
       " 'sedang',\n",
       " 'sedangkan',\n",
       " 'sedemikian',\n",
       " 'sedikit',\n",
       " 'sedikitnya',\n",
       " 'seenaknya',\n",
       " 'segala',\n",
       " 'segalanya',\n",
       " 'segera',\n",
       " 'seharusnya',\n",
       " 'sehingga',\n",
       " 'seingat',\n",
       " 'sejak',\n",
       " 'sejauh',\n",
       " 'sejenak',\n",
       " 'sejumlah',\n",
       " 'sekadar',\n",
       " 'sekadarnya',\n",
       " 'sekali',\n",
       " 'sekali-kali',\n",
       " 'sekalian',\n",
       " 'sekaligus',\n",
       " 'sekalipun',\n",
       " 'sekarang',\n",
       " 'sekarang',\n",
       " 'sekecil',\n",
       " 'seketika',\n",
       " 'sekiranya',\n",
       " 'sekitar',\n",
       " 'sekitarnya',\n",
       " 'sekurang-kurangnya',\n",
       " 'sekurangnya',\n",
       " 'sela',\n",
       " 'selain',\n",
       " 'selaku',\n",
       " 'selalu',\n",
       " 'selama',\n",
       " 'selama-lamanya',\n",
       " 'selamanya',\n",
       " 'selanjutnya',\n",
       " 'seluruh',\n",
       " 'seluruhnya',\n",
       " 'semacam',\n",
       " 'semakin',\n",
       " 'semampu',\n",
       " 'semampunya',\n",
       " 'semasa',\n",
       " 'semasih',\n",
       " 'semata',\n",
       " 'semata-mata',\n",
       " 'semaunya',\n",
       " 'sementara',\n",
       " 'semisal',\n",
       " 'semisalnya',\n",
       " 'sempat',\n",
       " 'semua',\n",
       " 'semuanya',\n",
       " 'semula',\n",
       " 'sendiri',\n",
       " 'sendirian',\n",
       " 'sendirinya',\n",
       " 'seolah',\n",
       " 'seolah-olah',\n",
       " 'seorang',\n",
       " 'sepanjang',\n",
       " 'sepantasnya',\n",
       " 'sepantasnyalah',\n",
       " 'seperlunya',\n",
       " 'seperti',\n",
       " 'sepertinya',\n",
       " 'sepihak',\n",
       " 'sering',\n",
       " 'seringnya',\n",
       " 'serta',\n",
       " 'serupa',\n",
       " 'sesaat',\n",
       " 'sesama',\n",
       " 'sesampai',\n",
       " 'sesegera',\n",
       " 'sesekali',\n",
       " 'seseorang',\n",
       " 'sesuatu',\n",
       " 'sesuatunya',\n",
       " 'sesudah',\n",
       " 'sesudahnya',\n",
       " 'setelah',\n",
       " 'setempat',\n",
       " 'setengah',\n",
       " 'seterusnya',\n",
       " 'setiap',\n",
       " 'setiba',\n",
       " 'setibanya',\n",
       " 'setidak-tidaknya',\n",
       " 'setidaknya',\n",
       " 'setinggi',\n",
       " 'seusai',\n",
       " 'sewaktu',\n",
       " 'siap',\n",
       " 'siapa',\n",
       " 'siapakah',\n",
       " 'siapapun',\n",
       " 'sini',\n",
       " 'sinilah',\n",
       " 'soal',\n",
       " 'soalnya',\n",
       " 'suatu',\n",
       " 'sudah',\n",
       " 'sudahkah',\n",
       " 'sudahlah',\n",
       " 'supaya',\n",
       " 'tadi',\n",
       " 'tadinya',\n",
       " 'tahu',\n",
       " 'tahun',\n",
       " 'tak',\n",
       " 'tambah',\n",
       " 'tambahnya',\n",
       " 'tampak',\n",
       " 'tampaknya',\n",
       " 'tandas',\n",
       " 'tandasnya',\n",
       " 'tanpa',\n",
       " 'tanya',\n",
       " 'tanyakan',\n",
       " 'tanyanya',\n",
       " 'tapi',\n",
       " 'tegas',\n",
       " 'tegasnya',\n",
       " 'telah',\n",
       " 'tempat',\n",
       " 'tengah',\n",
       " 'tentang',\n",
       " 'tentu',\n",
       " 'tentulah',\n",
       " 'tentunya',\n",
       " 'tepat',\n",
       " 'terakhir',\n",
       " 'terasa',\n",
       " 'terbanyak',\n",
       " 'terdahulu',\n",
       " 'terdapat',\n",
       " 'terdiri',\n",
       " 'terhadap',\n",
       " 'terhadapnya',\n",
       " 'teringat',\n",
       " 'teringat-ingat',\n",
       " 'terjadi',\n",
       " 'terjadilah',\n",
       " 'terjadinya',\n",
       " 'terkira',\n",
       " 'terlalu',\n",
       " 'terlebih',\n",
       " 'terlihat',\n",
       " 'termasuk',\n",
       " 'ternyata',\n",
       " 'tersampaikan',\n",
       " 'tersebut',\n",
       " 'tersebutlah',\n",
       " 'tertentu',\n",
       " 'tertuju',\n",
       " 'terus',\n",
       " 'terutama',\n",
       " 'tetap',\n",
       " 'tetapi',\n",
       " 'tiap',\n",
       " 'tiba',\n",
       " 'tiba-tiba',\n",
       " 'tidak',\n",
       " 'tidakkah',\n",
       " 'tidaklah',\n",
       " 'tiga',\n",
       " 'tinggi',\n",
       " 'toh',\n",
       " 'tunjuk',\n",
       " 'turut',\n",
       " 'tutur',\n",
       " 'tuturnya',\n",
       " 'ucap',\n",
       " 'ucapnya',\n",
       " 'ujar',\n",
       " 'ujarnya',\n",
       " 'umum',\n",
       " 'umumnya',\n",
       " 'ungkap',\n",
       " 'ungkapnya',\n",
       " 'untuk',\n",
       " 'usah',\n",
       " 'usai',\n",
       " 'waduh',\n",
       " 'wah',\n",
       " 'wahai',\n",
       " 'waktu',\n",
       " 'waktunya',\n",
       " 'walau',\n",
       " 'walaupun',\n",
       " 'wong',\n",
       " 'yaitu',\n",
       " 'yakin',\n",
       " 'yakni',\n",
       " 'yang']"
      ]
     },
     "execution_count": 98,
     "metadata": {},
     "output_type": "execute_result"
    }
   ],
   "source": [
    "indonesian_stopwords"
   ]
  },
  {
   "cell_type": "markdown",
   "metadata": {},
   "source": [
    "> **Stopwords for Indonesian words**. We can implement StopWordRemoverFactory module from Sastrawi.StopWordRemover.StopWordRemoverFactory."
   ]
  },
  {
   "cell_type": "code",
   "execution_count": 99,
   "metadata": {},
   "outputs": [],
   "source": [
    "#terdapat juga modul stopwords dalam bahasa indonesia bernama 'StopWordRemoverFactory'\n",
    "#pastikan untuk install terlebih dahulu modulnya\n",
    "\n",
    "#install modul \n",
    "#https://pypi.org/project/Sastrawi/\n",
    "#pip install sastrawi\n",
    "from Sastrawi.StopWordRemover.StopWordRemoverFactory import StopWordRemoverFactory\n",
    "\n",
    "#menjalankan modul\n",
    "factory = StopWordRemoverFactory()\n",
    "\n",
    "#membuat variable baru bernama indonesian_stopwords_sastrawi\n",
    "indonesian_stopwords_sastrawi = factory.get_stop_words()"
   ]
  },
  {
   "cell_type": "code",
   "execution_count": 100,
   "metadata": {},
   "outputs": [
    {
     "data": {
      "text/plain": [
       "['yang',\n",
       " 'untuk',\n",
       " 'pada',\n",
       " 'ke',\n",
       " 'para',\n",
       " 'namun',\n",
       " 'menurut',\n",
       " 'antara',\n",
       " 'dia',\n",
       " 'dua',\n",
       " 'ia',\n",
       " 'seperti',\n",
       " 'jika',\n",
       " 'jika',\n",
       " 'sehingga',\n",
       " 'kembali',\n",
       " 'dan',\n",
       " 'tidak',\n",
       " 'ini',\n",
       " 'karena',\n",
       " 'kepada',\n",
       " 'oleh',\n",
       " 'saat',\n",
       " 'harus',\n",
       " 'sementara',\n",
       " 'setelah',\n",
       " 'belum',\n",
       " 'kami',\n",
       " 'sekitar',\n",
       " 'bagi',\n",
       " 'serta',\n",
       " 'di',\n",
       " 'dari',\n",
       " 'telah',\n",
       " 'sebagai',\n",
       " 'masih',\n",
       " 'hal',\n",
       " 'ketika',\n",
       " 'adalah',\n",
       " 'itu',\n",
       " 'dalam',\n",
       " 'bisa',\n",
       " 'bahwa',\n",
       " 'atau',\n",
       " 'hanya',\n",
       " 'kita',\n",
       " 'dengan',\n",
       " 'akan',\n",
       " 'juga',\n",
       " 'ada',\n",
       " 'mereka',\n",
       " 'sudah',\n",
       " 'saya',\n",
       " 'terhadap',\n",
       " 'secara',\n",
       " 'agar',\n",
       " 'lain',\n",
       " 'anda',\n",
       " 'begitu',\n",
       " 'mengapa',\n",
       " 'kenapa',\n",
       " 'yaitu',\n",
       " 'yakni',\n",
       " 'daripada',\n",
       " 'itulah',\n",
       " 'lagi',\n",
       " 'maka',\n",
       " 'tentang',\n",
       " 'demi',\n",
       " 'dimana',\n",
       " 'kemana',\n",
       " 'pula',\n",
       " 'sambil',\n",
       " 'sebelum',\n",
       " 'sesudah',\n",
       " 'supaya',\n",
       " 'guna',\n",
       " 'kah',\n",
       " 'pun',\n",
       " 'sampai',\n",
       " 'sedangkan',\n",
       " 'selagi',\n",
       " 'sementara',\n",
       " 'tetapi',\n",
       " 'apakah',\n",
       " 'kecuali',\n",
       " 'sebab',\n",
       " 'selain',\n",
       " 'seolah',\n",
       " 'seraya',\n",
       " 'seterusnya',\n",
       " 'tanpa',\n",
       " 'agak',\n",
       " 'boleh',\n",
       " 'dapat',\n",
       " 'dsb',\n",
       " 'dst',\n",
       " 'dll',\n",
       " 'dahulu',\n",
       " 'dulunya',\n",
       " 'anu',\n",
       " 'demikian',\n",
       " 'tapi',\n",
       " 'ingin',\n",
       " 'juga',\n",
       " 'nggak',\n",
       " 'mari',\n",
       " 'nanti',\n",
       " 'melainkan',\n",
       " 'oh',\n",
       " 'ok',\n",
       " 'seharusnya',\n",
       " 'sebetulnya',\n",
       " 'setiap',\n",
       " 'setidaknya',\n",
       " 'sesuatu',\n",
       " 'pasti',\n",
       " 'saja',\n",
       " 'toh',\n",
       " 'ya',\n",
       " 'walau',\n",
       " 'tolong',\n",
       " 'tentu',\n",
       " 'amat',\n",
       " 'apalagi',\n",
       " 'bagaimanapun']"
      ]
     },
     "execution_count": 100,
     "metadata": {},
     "output_type": "execute_result"
    }
   ],
   "source": [
    "indonesian_stopwords_sastrawi"
   ]
  },
  {
   "cell_type": "code",
   "execution_count": 101,
   "metadata": {},
   "outputs": [
    {
     "data": {
      "text/plain": [
       "126"
      ]
     },
     "execution_count": 101,
     "metadata": {},
     "output_type": "execute_result"
    }
   ],
   "source": [
    "len(indonesian_stopwords_sastrawi)"
   ]
  },
  {
   "cell_type": "markdown",
   "metadata": {},
   "source": [
    "> **Combined modules**. We can extend the word that need to stop by combining module or input some word manually."
   ]
  },
  {
   "cell_type": "code",
   "execution_count": 102,
   "metadata": {},
   "outputs": [],
   "source": [
    "list_extend = ['namun', 'jika', 'sedang', 'sedang']"
   ]
  },
  {
   "cell_type": "code",
   "execution_count": 103,
   "metadata": {},
   "outputs": [],
   "source": [
    "#implementasi extend()\n",
    "#kombinasikan variable english_stopwords dengan variable list_extend\n",
    "\n",
    "english_stopwords.extend(list_extend)"
   ]
  },
  {
   "cell_type": "code",
   "execution_count": 104,
   "metadata": {},
   "outputs": [
    {
     "data": {
      "text/plain": [
       "183"
      ]
     },
     "execution_count": 104,
     "metadata": {},
     "output_type": "execute_result"
    }
   ],
   "source": [
    "len(english_stopwords)\n",
    "\n",
    "#perhatikan panjang dari variable yang dihasilkan oleh extend()"
   ]
  },
  {
   "cell_type": "code",
   "execution_count": 105,
   "metadata": {},
   "outputs": [],
   "source": [
    "new_stopwords = list(set(english_stopwords))"
   ]
  },
  {
   "cell_type": "code",
   "execution_count": 106,
   "metadata": {},
   "outputs": [
    {
     "data": {
      "text/plain": [
       "182"
      ]
     },
     "execution_count": 106,
     "metadata": {},
     "output_type": "execute_result"
    }
   ],
   "source": [
    "len(new_stopwords)\n",
    "\n",
    "#perhatikan panjang dari variable new_stopwords, setelah merubah extend() menjadi set() terlebih dahulu"
   ]
  },
  {
   "cell_type": "markdown",
   "metadata": {},
   "source": [
    "> **Implementation of stopwords**."
   ]
  },
  {
   "cell_type": "code",
   "execution_count": 107,
   "metadata": {},
   "outputs": [],
   "source": [
    "#refresh sejenak\n",
    "#kita punya variable raw yang sudah dijadikan token bernama lowercase_tokens\n",
    "#stopwords sudah dalam bentuk lowercase\n",
    "#matching\n",
    "\n",
    "#bikin variable kosong dalam bentuk list\n",
    "#untuk menampung kata-kata setelah di filter dalam stopwords\n",
    "filtered_word = []\n",
    "\n",
    "#looping\n",
    "for word in lowercase_tokens: \n",
    "    if word not in english_stopwords: \n",
    "        filtered_word.append(word)"
   ]
  },
  {
   "cell_type": "code",
   "execution_count": 108,
   "metadata": {},
   "outputs": [
    {
     "data": {
      "text/plain": [
       "41"
      ]
     },
     "execution_count": 108,
     "metadata": {},
     "output_type": "execute_result"
    }
   ],
   "source": [
    "#gambaran sebelum dan setelah implementasi stopwords\n",
    "len(lowercase_tokens)"
   ]
  },
  {
   "cell_type": "code",
   "execution_count": 109,
   "metadata": {},
   "outputs": [
    {
     "data": {
      "text/plain": [
       "28"
      ]
     },
     "execution_count": 109,
     "metadata": {},
     "output_type": "execute_result"
    }
   ],
   "source": [
    "len(filtered_word)"
   ]
  },
  {
   "cell_type": "code",
   "execution_count": 110,
   "metadata": {},
   "outputs": [
    {
     "data": {
      "text/plain": [
       "['gso',\n",
       " 'finace',\n",
       " 'group',\n",
       " 'u.s.a.',\n",
       " 'provided',\n",
       " 'cole',\n",
       " 'us$40,000,555.4',\n",
       " 'funding,',\n",
       " 'accounts',\n",
       " '35.3%',\n",
       " \"cole's\",\n",
       " 'revenue',\n",
       " '(i.e.,',\n",
       " 'aud113.3m),',\n",
       " 'asx-listed',\n",
       " 'firm',\n",
       " 'battles',\n",
       " 'survival.',\n",
       " 'mr.',\n",
       " 'johnson',\n",
       " 'said',\n",
       " \"gso's\",\n",
       " 'recapitalisation',\n",
       " 'meant',\n",
       " '\"the',\n",
       " 'current',\n",
       " 'shares',\n",
       " 'worthless\".']"
      ]
     },
     "execution_count": 110,
     "metadata": {},
     "output_type": "execute_result"
    }
   ],
   "source": [
    "filtered_word"
   ]
  },
  {
   "cell_type": "markdown",
   "metadata": {},
   "source": [
    "**Stemming and Lemmatization**\n",
    "\n",
    "Another question in text pre-processing is whether we want to keep word forms like \"educate\", \"educated\", \"educating\", \n",
    "and \"educates\" separate or to collapse them. Grouping such forms together and working in terms of their base form is \n",
    "usually known as stemming or lemmatization.\n",
    "\n",
    "Typically the stemming process includes the identification and removal of prefixes, suffixes, and pluralisation, \n",
    "and leaves you with a stem.\n",
    "\n",
    "Lemmatization is a more advanced form of stemming that makes use of, for example, the context surrounding the words, \n",
    "an existing vocabulary, morphological analysis of words and other grammatical information (e.g., part-of-speech tags) \n",
    "to determine the basic or dictionary form of a word, which is known as the lemma.\n",
    "See Wikipedia entries for [stemming](https://en.wikipedia.org/wiki/Stemming) \n",
    "and [lemmatization](https://en.wikipedia.org/wiki/Lemmatisation)."
   ]
  },
  {
   "cell_type": "markdown",
   "metadata": {},
   "source": [
    "Stemming and lemmatization are the basic text pre-processing methods for texts in languages like English, French, \n",
    "German, etc. \n",
    "In English, nouns are inflected in the plural, verbs are inflected in the various tenses, and adjectives are \n",
    "inflected in the comparative/superlative. \n",
    "\n",
    "For example,\n",
    "* watch &#8594; watches\n",
    "* party &#8594; parties\n",
    "* carry &#8594; carrying\n",
    "* love &#8594; loving\n",
    "* stop &#8594; stopped\n",
    "* wet &#8594; wetter\n",
    "* fat &#8594; fattest\n",
    "* die &#8594; dying\n",
    "* meet &#8594; meeting\n",
    "\n",
    "In morphology, the derivation process creates a new word out of an existing one often by adding either \n",
    "a prefix or a suffix. It brings considerable sematic changes to the word, often word class is changed.\n",
    "\n",
    "For example,\n",
    "* dark &#8594; darkness\n",
    "* agree &#8594; agreement\n",
    "* friend &#8594; friendship\n",
    "* derivation &#8594; derivational"
   ]
  },
  {
   "cell_type": "markdown",
   "metadata": {},
   "source": [
    "NLTK provides several famous stemmers interfaces, such as\n",
    "\n",
    "* Porter Stemmer, which is based on \n",
    "[The Porter Stemming Algorithm](http://tartarus.org/martin/PorterStemmer/)\n",
    "* Lancaster Stemmer, which is based on \n",
    "[The Lancaster Stemming Algorithm](http://delivery.acm.org/10.1145/110000/101310/p56-paice.pdf?ip=130.194.73.168&id=101310&acc=ACTIVE%20SERVICE&key=65D80644F295BC0D%2E54DA4E88E6052E5D%2E4D4702B0C3E38B35%2E4D4702B0C3E38B35&CFID=586402953&CFTOKEN=41173049&__acm__=1456460730_26a9cd5f8f70e5d3e101f527c10e1a82),\n",
    "* Snowball Stemmer, which is based on [the Snowball Stemming Algorithm](http://snowball.tartarus.org/)"
   ]
  },
  {
   "cell_type": "markdown",
   "metadata": {},
   "source": [
    "> **Case study**"
   ]
  },
  {
   "cell_type": "markdown",
   "metadata": {},
   "source": [
    "> **Porter Stemmer**"
   ]
  },
  {
   "cell_type": "code",
   "execution_count": 111,
   "metadata": {},
   "outputs": [
    {
     "data": {
      "text/plain": [
       "['the -> the',\n",
       " 'gso -> gso',\n",
       " 'finace -> finac',\n",
       " 'group -> group',\n",
       " 'in -> in',\n",
       " 'u.s.a. -> u.s.a.',\n",
       " 'provided -> provid',\n",
       " 'cole -> cole',\n",
       " 'with -> with',\n",
       " 'about -> about',\n",
       " 'us$40,000,555.4 -> us$40,000,555.4',\n",
       " 'in -> in',\n",
       " 'funding, -> funding,',\n",
       " 'which -> which',\n",
       " 'accounts -> account',\n",
       " 'for -> for',\n",
       " '35.3% -> 35.3%',\n",
       " 'of -> of',\n",
       " \"cole's -> cole'\",\n",
       " 'revenue -> revenu',\n",
       " '(i.e., -> (i.e.,',\n",
       " 'aud113.3m), -> aud113.3m),',\n",
       " 'as -> as',\n",
       " 'the -> the',\n",
       " 'asx-listed -> asx-list',\n",
       " 'firm -> firm',\n",
       " 'battles -> battl',\n",
       " 'for -> for',\n",
       " 'its -> it',\n",
       " 'survival. -> survival.',\n",
       " 'mr. -> mr.',\n",
       " 'johnson -> johnson',\n",
       " 'said -> said',\n",
       " \"gso's -> gso'\",\n",
       " 'recapitalisation -> recapitalis',\n",
       " 'meant -> meant',\n",
       " '\"the -> \"the',\n",
       " 'current -> current',\n",
       " 'shares -> share',\n",
       " 'are -> are',\n",
       " 'worthless\". -> worthless\".']"
      ]
     },
     "execution_count": 111,
     "metadata": {},
     "output_type": "execute_result"
    }
   ],
   "source": [
    "#panggil modul PorterStemmer dari nltk.stem\n",
    "from nltk.stem import PorterStemmer\n",
    "\n",
    "#implementasi dari modul PorterStemmer\n",
    "porter_stemmer = PorterStemmer()\n",
    "['{0} -> {1}'.format(word, porter_stemmer.stem(word)) for word in lowercase_tokens]"
   ]
  },
  {
   "cell_type": "markdown",
   "metadata": {},
   "source": [
    "> **Lancaster Stemmer**"
   ]
  },
  {
   "cell_type": "code",
   "execution_count": 112,
   "metadata": {},
   "outputs": [
    {
     "data": {
      "text/plain": [
       "['the -> the',\n",
       " 'gso -> gso',\n",
       " 'finace -> finac',\n",
       " 'group -> group',\n",
       " 'in -> in',\n",
       " 'u.s.a. -> u.s.a.',\n",
       " 'provided -> provid',\n",
       " 'cole -> col',\n",
       " 'with -> with',\n",
       " 'about -> about',\n",
       " 'us$40,000,555.4 -> us$40,000,555.4',\n",
       " 'in -> in',\n",
       " 'funding, -> funding,',\n",
       " 'which -> which',\n",
       " 'accounts -> account',\n",
       " 'for -> for',\n",
       " '35.3% -> 35.3%',\n",
       " 'of -> of',\n",
       " \"cole's -> cole's\",\n",
       " 'revenue -> revenu',\n",
       " '(i.e., -> (i.e.,',\n",
       " 'aud113.3m), -> aud113.3m),',\n",
       " 'as -> as',\n",
       " 'the -> the',\n",
       " 'asx-listed -> asx-listed',\n",
       " 'firm -> firm',\n",
       " 'battles -> battl',\n",
       " 'for -> for',\n",
       " 'its -> it',\n",
       " 'survival. -> survival.',\n",
       " 'mr. -> mr.',\n",
       " 'johnson -> johnson',\n",
       " 'said -> said',\n",
       " \"gso's -> gso's\",\n",
       " 'recapitalisation -> recapit',\n",
       " 'meant -> meant',\n",
       " '\"the -> \"the',\n",
       " 'current -> cur',\n",
       " 'shares -> shar',\n",
       " 'are -> ar',\n",
       " 'worthless\". -> worthless\".']"
      ]
     },
     "execution_count": 112,
     "metadata": {},
     "output_type": "execute_result"
    }
   ],
   "source": [
    "#panggil modul LancasterStemmer dari nltk.stem\n",
    "from nltk.stem import LancasterStemmer\n",
    "\n",
    "\n",
    "#implementasi dari modul LancasterStemmer\n",
    "lacancaster_stemmer = LancasterStemmer()\n",
    "['{0} -> {1}'.format(word, lacancaster_stemmer.stem(word)) for word in lowercase_tokens]"
   ]
  },
  {
   "cell_type": "code",
   "execution_count": null,
   "metadata": {},
   "outputs": [],
   "source": [
    "#bisa dicoba beberapa metode stem lainnya\n",
    "#cek link\n",
    "#http://www.nltk.org/api/nltk.stem.html"
   ]
  },
  {
   "cell_type": "markdown",
   "metadata": {},
   "source": [
    "> **Sastrawi Stemmer**"
   ]
  },
  {
   "cell_type": "code",
   "execution_count": 113,
   "metadata": {},
   "outputs": [],
   "source": [
    "article = \"Toyota dan Daihatsu resmi memperkenalkan Toyota Raize dan Daihatsu Rocky. Keduanya mengumumkan bentuk kolaborasi baru dengan meluncurkan Raize dan Rocky. President of Daihatsu Motor Company, Soichiro Okudaira, mengatakan Daihatsu Rocky dan Toyota Raize akan diproduksi di pabrik PT Astra Daihatsu Motor. Mobil ini akan tersedia di showroom mulai 30 April mendatang.\""
   ]
  },
  {
   "cell_type": "code",
   "execution_count": 114,
   "metadata": {},
   "outputs": [
    {
     "data": {
      "text/plain": [
       "['Toyota -> toyota',\n",
       " 'dan -> dan',\n",
       " 'Daihatsu -> daihatsu',\n",
       " 'resmi -> resmi',\n",
       " 'memperkenalkan -> kenal',\n",
       " 'Toyota -> toyota',\n",
       " 'Raize -> raize',\n",
       " 'dan -> dan',\n",
       " 'Daihatsu -> daihatsu',\n",
       " 'Rocky. -> rocky',\n",
       " 'Keduanya -> dua',\n",
       " 'mengumumkan -> umum',\n",
       " 'bentuk -> bentuk',\n",
       " 'kolaborasi -> kolaborasi',\n",
       " 'baru -> baru',\n",
       " 'dengan -> dengan',\n",
       " 'meluncurkan -> luncur',\n",
       " 'Raize -> raize',\n",
       " 'dan -> dan',\n",
       " 'Rocky. -> rocky',\n",
       " 'President -> president',\n",
       " 'of -> of',\n",
       " 'Daihatsu -> daihatsu',\n",
       " 'Motor -> motor',\n",
       " 'Company, -> company',\n",
       " 'Soichiro -> soichiro',\n",
       " 'Okudaira, -> okudaira',\n",
       " 'mengatakan -> kata',\n",
       " 'Daihatsu -> daihatsu',\n",
       " 'Rocky -> rocky',\n",
       " 'dan -> dan',\n",
       " 'Toyota -> toyota',\n",
       " 'Raize -> raize',\n",
       " 'akan -> akan',\n",
       " 'diproduksi -> produksi',\n",
       " 'di -> di',\n",
       " 'pabrik -> pabrik',\n",
       " 'PT -> pt',\n",
       " 'Astra -> astra',\n",
       " 'Daihatsu -> daihatsu',\n",
       " 'Motor. -> motor',\n",
       " 'Mobil -> mobil',\n",
       " 'ini -> ini',\n",
       " 'akan -> akan',\n",
       " 'tersedia -> sedia',\n",
       " 'di -> di',\n",
       " 'showroom -> showroom',\n",
       " 'mulai -> mulai',\n",
       " '30 -> 30',\n",
       " 'April -> april',\n",
       " 'mendatang. -> datang']"
      ]
     },
     "execution_count": 114,
     "metadata": {},
     "output_type": "execute_result"
    }
   ],
   "source": [
    "#pastikan sudah library Sastrawi sudah terinstall\n",
    "#panggil libray StemmerFactory\n",
    "from Sastrawi.Stemmer.StemmerFactory import StemmerFactory\n",
    "\n",
    "#mengimplementasikan library Stemmer Factory\n",
    "factory = StemmerFactory()\n",
    "sastrawi_stemmer = factory.create_stemmer()\n",
    "\n",
    "#print hasil\n",
    "['{0} -> {1}'.format(word, sastrawi_stemmer.stem(word)) for word in article.split()]"
   ]
  },
  {
   "cell_type": "code",
   "execution_count": null,
   "metadata": {},
   "outputs": [],
   "source": []
  }
 ],
 "metadata": {
  "kernelspec": {
   "display_name": "Python 3",
   "language": "python",
   "name": "python3"
  },
  "language_info": {
   "codemirror_mode": {
    "name": "ipython",
    "version": 3
   },
   "file_extension": ".py",
   "mimetype": "text/x-python",
   "name": "python",
   "nbconvert_exporter": "python",
   "pygments_lexer": "ipython3",
   "version": "3.7.6"
  }
 },
 "nbformat": 4,
 "nbformat_minor": 4
}
