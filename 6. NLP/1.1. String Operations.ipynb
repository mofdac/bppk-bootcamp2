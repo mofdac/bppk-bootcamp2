{
 "cells": [
  {
   "cell_type": "code",
   "execution_count": 1,
   "metadata": {},
   "outputs": [],
   "source": [
    "#belum menggunakan library\n",
    "#kita buat variable baru\n",
    "\n",
    "str_text = \"I am learning NLP. We will start with basic where we will learn various things \\\n",
    "- String operation, Stop words, Tokenization, Stemming, Lemmantisation, Spelling correction,\\\n",
    "Parts of speech tagging. \""
   ]
  },
  {
   "cell_type": "markdown",
   "metadata": {},
   "source": [
    "#### Slicing and Indexing"
   ]
  },
  {
   "cell_type": "code",
   "execution_count": 2,
   "metadata": {},
   "outputs": [
    {
     "data": {
      "text/plain": [
       "'I'"
      ]
     },
     "execution_count": 2,
     "metadata": {},
     "output_type": "execute_result"
    }
   ],
   "source": [
    "#melakukan slicing atas variable str_text berdasarkan index\n",
    "#python dimulai dari 0\n",
    "#huruf pertama\n",
    "\n",
    "str_text[0]"
   ]
  },
  {
   "cell_type": "code",
   "execution_count": 3,
   "metadata": {},
   "outputs": [
    {
     "data": {
      "text/plain": [
       "'I am'"
      ]
     },
     "execution_count": 3,
     "metadata": {},
     "output_type": "execute_result"
    }
   ],
   "source": [
    "#huruf index pertama sampai keempat\n",
    "\n",
    "str_text[0:4]"
   ]
  },
  {
   "cell_type": "code",
   "execution_count": 4,
   "metadata": {},
   "outputs": [
    {
     "data": {
      "text/plain": [
       "'I am learn'"
      ]
     },
     "execution_count": 4,
     "metadata": {},
     "output_type": "execute_result"
    }
   ],
   "source": [
    "#semua huruf sampai index kesepuluh\n",
    "\n",
    "str_text[:10]"
   ]
  },
  {
   "cell_type": "code",
   "execution_count": 5,
   "metadata": {},
   "outputs": [
    {
     "data": {
      "text/plain": [
       "'ing NLP. We will start with basic where we will learn various things - String operation, Stop words, Tokenization, Stemming, Lemmantisation, Spelling correction,Parts of speech tagging. '"
      ]
     },
     "execution_count": 5,
     "metadata": {},
     "output_type": "execute_result"
    }
   ],
   "source": [
    "#semua huruf setelah index kesepuluh\n",
    "\n",
    "str_text[10:]"
   ]
  },
  {
   "cell_type": "code",
   "execution_count": 6,
   "metadata": {},
   "outputs": [
    {
     "data": {
      "text/plain": [
       "' '"
      ]
     },
     "execution_count": 6,
     "metadata": {},
     "output_type": "execute_result"
    }
   ],
   "source": [
    "#huruf di index terakhir\n",
    "\n",
    "str_text[-1]"
   ]
  },
  {
   "cell_type": "code",
   "execution_count": 7,
   "metadata": {},
   "outputs": [
    {
     "data": {
      "text/plain": [
       "'.'"
      ]
     },
     "execution_count": 7,
     "metadata": {},
     "output_type": "execute_result"
    }
   ],
   "source": [
    "#huruf di index kedua terakhir\n",
    "\n",
    "str_text[-2]"
   ]
  },
  {
   "cell_type": "code",
   "execution_count": 8,
   "metadata": {},
   "outputs": [
    {
     "data": {
      "text/plain": [
       "'g'"
      ]
     },
     "execution_count": 8,
     "metadata": {},
     "output_type": "execute_result"
    }
   ],
   "source": [
    "#huruf di index ketiga terakhir\n",
    "\n",
    "str_text[-3]"
   ]
  },
  {
   "cell_type": "code",
   "execution_count": 9,
   "metadata": {},
   "outputs": [
    {
     "data": {
      "text/plain": [
       "'g. '"
      ]
     },
     "execution_count": 9,
     "metadata": {},
     "output_type": "execute_result"
    }
   ],
   "source": [
    "#huruf dari index tiga terakhir sampai selesai\n",
    "\n",
    "str_text[-3:]"
   ]
  },
  {
   "cell_type": "markdown",
   "metadata": {},
   "source": [
    "#### Lowercase, uppercase, and title"
   ]
  },
  {
   "cell_type": "code",
   "execution_count": 10,
   "metadata": {},
   "outputs": [
    {
     "data": {
      "text/plain": [
       "'i am learning nlp. we will start with basic where we will learn various things - string operation, stop words, tokenization, stemming, lemmantisation, spelling correction,parts of speech tagging. '"
      ]
     },
     "execution_count": 10,
     "metadata": {},
     "output_type": "execute_result"
    }
   ],
   "source": [
    "#lowercase\n",
    "#membuat seluruh kalimat menjadi huruf kecil\n",
    "\n",
    "str_text.lower()"
   ]
  },
  {
   "cell_type": "code",
   "execution_count": 11,
   "metadata": {},
   "outputs": [
    {
     "data": {
      "text/plain": [
       "'I AM LEARNING NLP. WE WILL START WITH BASIC WHERE WE WILL LEARN VARIOUS THINGS - STRING OPERATION, STOP WORDS, TOKENIZATION, STEMMING, LEMMANTISATION, SPELLING CORRECTION,PARTS OF SPEECH TAGGING. '"
      ]
     },
     "execution_count": 11,
     "metadata": {},
     "output_type": "execute_result"
    }
   ],
   "source": [
    "#uppercase\n",
    "#membuat seluruh kalimat menjadi huruf besar\n",
    "\n",
    "str_text.upper()"
   ]
  },
  {
   "cell_type": "code",
   "execution_count": 12,
   "metadata": {},
   "outputs": [
    {
     "data": {
      "text/plain": [
       "'I Am Learning Nlp. We Will Start With Basic Where We Will Learn Various Things - String Operation, Stop Words, Tokenization, Stemming, Lemmantisation, Spelling Correction,Parts Of Speech Tagging. '"
      ]
     },
     "execution_count": 12,
     "metadata": {},
     "output_type": "execute_result"
    }
   ],
   "source": [
    "#title\n",
    "#membuat setiap huruf pertama dari setiap kata menjadi huruf besar\n",
    "\n",
    "str_text.title()"
   ]
  },
  {
   "cell_type": "markdown",
   "metadata": {},
   "source": [
    "#### Split"
   ]
  },
  {
   "cell_type": "code",
   "execution_count": 13,
   "metadata": {},
   "outputs": [
    {
     "data": {
      "text/plain": [
       "['I',\n",
       " 'am',\n",
       " 'learning',\n",
       " 'NLP.',\n",
       " 'We',\n",
       " 'will',\n",
       " 'start',\n",
       " 'with',\n",
       " 'basic',\n",
       " 'where',\n",
       " 'we',\n",
       " 'will',\n",
       " 'learn',\n",
       " 'various',\n",
       " 'things',\n",
       " '-',\n",
       " 'String',\n",
       " 'operation,',\n",
       " 'Stop',\n",
       " 'words,',\n",
       " 'Tokenization,',\n",
       " 'Stemming,',\n",
       " 'Lemmantisation,',\n",
       " 'Spelling',\n",
       " 'correction,Parts',\n",
       " 'of',\n",
       " 'speech',\n",
       " 'tagging.']"
      ]
     },
     "execution_count": 13,
     "metadata": {},
     "output_type": "execute_result"
    }
   ],
   "source": [
    "#memisahkan setiap kata dengan fungsi .split()\n",
    "#perhatikan bahwa metode 'default' ini memisahkan kata berdasarkan whitespace\n",
    "\n",
    "str_text.split()"
   ]
  },
  {
   "cell_type": "code",
   "execution_count": 14,
   "metadata": {},
   "outputs": [
    {
     "data": {
      "text/plain": [
       "['I am learning NLP',\n",
       " ' We will start with basic where we will learn various things - String operation, Stop words, Tokenization, Stemming, Lemmantisation, Spelling correction,Parts of speech tagging',\n",
       " ' ']"
      ]
     },
     "execution_count": 14,
     "metadata": {},
     "output_type": "execute_result"
    }
   ],
   "source": [
    "#mengganti whitespace sebagai pemisah kata dengan titik\n",
    "\n",
    "str_text.split('.')"
   ]
  },
  {
   "cell_type": "markdown",
   "metadata": {},
   "source": [
    "#### Join"
   ]
  },
  {
   "cell_type": "code",
   "execution_count": 15,
   "metadata": {},
   "outputs": [
    {
     "data": {
      "text/plain": [
       "'I am learning NLP. We will start with basic where we will learn various things - String operation, Stop words, Tokenization, Stemming, Lemmantisation, Spelling correction,Parts of speech tagging.'"
      ]
     },
     "execution_count": 15,
     "metadata": {},
     "output_type": "execute_result"
    }
   ],
   "source": [
    "#menggabungkan setiap kata yang ada\n",
    "#variable str_text dipisahkan dengan fungsi split(), artinya kata dipisahkan berdasarkan whitespace\n",
    "#kata yang sudah terpisah kemudian di join dengan fungsi .join()\n",
    "#dengan whitespace sebagai pemisah dari setiap kata yang akan di join\n",
    "\n",
    "' '.join(str_text.split())"
   ]
  },
  {
   "cell_type": "code",
   "execution_count": 16,
   "metadata": {},
   "outputs": [
    {
     "data": {
      "text/plain": [
       "'I, am, learning, NLP., We, will, start, with, basic, where, we, will, learn, various, things, -, String, operation,, Stop, words,, Tokenization,, Stemming,, Lemmantisation,, Spelling, correction,Parts, of, speech, tagging.'"
      ]
     },
     "execution_count": 16,
     "metadata": {},
     "output_type": "execute_result"
    }
   ],
   "source": [
    "#perhatikan saat whitespace sebagai pemisah dari setiap kata yang akan di join, digantikan dengan koma dan whitespace\n",
    "\n",
    "', '.join(str_text.split())"
   ]
  },
  {
   "cell_type": "markdown",
   "metadata": {},
   "source": [
    "#### Word indexing"
   ]
  },
  {
   "cell_type": "code",
   "execution_count": 18,
   "metadata": {},
   "outputs": [
    {
     "data": {
      "text/plain": [
       "19"
      ]
     },
     "execution_count": 18,
     "metadata": {},
     "output_type": "execute_result"
    }
   ],
   "source": [
    "#mencari index pertama dari setiap kata yang kita cari\n",
    "#variable str_text kita jadikan lowercase, untuk menyamakan kata 'we' yang juga dimulai dengan lowercase\n",
    "#ingat bahwa python case sensitive\n",
    "#hasil menunjukkan bahwa kata 'we' pertama kalu diketemukan pada index ke 19\n",
    "#bila kata tidak diketemukan, akan mengembalikan nilai -1\n",
    "\n",
    "str_text.lower().find('we')"
   ]
  },
  {
   "cell_type": "code",
   "execution_count": 19,
   "metadata": {},
   "outputs": [
    {
     "data": {
      "text/plain": [
       "50"
      ]
     },
     "execution_count": 19,
     "metadata": {},
     "output_type": "execute_result"
    }
   ],
   "source": [
    "#mencari index terakhir dari setiap kata yang kita cari\n",
    "#hasil menunjukkan bahwa kata 'we' terakhir kali diketemukan pada index ke 50\n",
    "\n",
    "str_text.lower().rfind('we')"
   ]
  },
  {
   "cell_type": "markdown",
   "metadata": {},
   "source": [
    "#### Replace"
   ]
  },
  {
   "cell_type": "code",
   "execution_count": 21,
   "metadata": {},
   "outputs": [
    {
     "data": {
      "text/plain": [
       "'i am learning nlp. we shall start with basic where we shall learn various things - string operation, stop words, tokenization, stemming, lemmantisation, spelling correction,parts of speech tagging. '"
      ]
     },
     "execution_count": 21,
     "metadata": {},
     "output_type": "execute_result"
    }
   ],
   "source": [
    "#mengganti kata dengan kata baru\n",
    "#kata 'will' digantikan dengan 'shall'\n",
    "\n",
    "str_text.lower().replace('will', 'shall')"
   ]
  }
 ],
 "metadata": {
  "kernelspec": {
   "display_name": "Python 3",
   "language": "python",
   "name": "python3"
  },
  "language_info": {
   "codemirror_mode": {
    "name": "ipython",
    "version": 3
   },
   "file_extension": ".py",
   "mimetype": "text/x-python",
   "name": "python",
   "nbconvert_exporter": "python",
   "pygments_lexer": "ipython3",
   "version": "3.7.6"
  }
 },
 "nbformat": 4,
 "nbformat_minor": 4
}
