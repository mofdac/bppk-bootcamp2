{
 "cells": [
  {
   "cell_type": "code",
   "execution_count": 1,
   "metadata": {},
   "outputs": [],
   "source": [
    "#load library regex\n",
    "import re"
   ]
  },
  {
   "cell_type": "code",
   "execution_count": 2,
   "metadata": {},
   "outputs": [],
   "source": [
    "#kita buat variable baru\n",
    "\n",
    "str_text = \"I am learning NLP. We will start with basic where we will learn various things \\\n",
    "- String operation, Stop words, Tokenization, Stemming, Lemmantisation, Spelling correction,\\\n",
    "Parts of speech tagging. \""
   ]
  },
  {
   "cell_type": "markdown",
   "metadata": {},
   "source": [
    "#### Search"
   ]
  },
  {
   "cell_type": "code",
   "execution_count": 3,
   "metadata": {},
   "outputs": [
    {
     "data": {
      "text/plain": [
       "<re.Match object; span=(19, 21), match='we'>"
      ]
     },
     "execution_count": 3,
     "metadata": {},
     "output_type": "execute_result"
    }
   ],
   "source": [
    "#cari kata 'we' dari variable str_text\n",
    "#re.search hanya mencari kata pertama yang muncul saja\n",
    "\n",
    "re.search('we', str_text.lower())"
   ]
  },
  {
   "cell_type": "markdown",
   "metadata": {},
   "source": [
    "#### Findall"
   ]
  },
  {
   "cell_type": "code",
   "execution_count": 4,
   "metadata": {},
   "outputs": [
    {
     "data": {
      "text/plain": [
       "['we', 'we']"
      ]
     },
     "execution_count": 4,
     "metadata": {},
     "output_type": "execute_result"
    }
   ],
   "source": [
    "#cari keseluruhan kata 'we' dari variable str_text\n",
    "\n",
    "re.findall('we', str_text.lower())"
   ]
  },
  {
   "cell_type": "code",
   "execution_count": 5,
   "metadata": {},
   "outputs": [
    {
     "data": {
      "text/plain": [
       "['operation, Stop',\n",
       " 'words, Tokenization',\n",
       " ', Stemming',\n",
       " ', Lemmantisation',\n",
       " ', Spelling']"
      ]
     },
     "execution_count": 5,
     "metadata": {},
     "output_type": "execute_result"
    }
   ],
   "source": [
    "#cari keseluruhan kata dengan pattern regex\n",
    "\n",
    "re.findall(r'[a-zA-Z0-9]*, [a-zA-Z0-9]*', str_text)"
   ]
  },
  {
   "cell_type": "markdown",
   "metadata": {},
   "source": [
    "#### Sub"
   ]
  },
  {
   "cell_type": "code",
   "execution_count": 6,
   "metadata": {},
   "outputs": [
    {
     "data": {
      "text/plain": [
       "'I am learning NLP. We shall start with basic where we shall learn various things - String operation, Stop words, Tokenization, Stemming, Lemmantisation, Spelling correction,Parts of speech tagging. '"
      ]
     },
     "execution_count": 6,
     "metadata": {},
     "output_type": "execute_result"
    }
   ],
   "source": [
    "#ganti satu kata dengan kata lainnya\n",
    "\n",
    "re.sub('will', 'shall', str_text)"
   ]
  },
  {
   "cell_type": "markdown",
   "metadata": {},
   "source": [
    "#### Basic Pattern Regex"
   ]
  },
  {
   "cell_type": "code",
   "execution_count": 7,
   "metadata": {},
   "outputs": [],
   "source": [
    "#See the help of any of above and you will see 'flag' param having follwoing info\n",
    "#The basic flags are I, L, M, S, U, X:\n",
    "#re.I: This flag is used for ignoring casing\n",
    "#re.M: This flag is useful if you want to find patterns throughout multiple lines\n",
    "#re.L: This flag is used to find a local dependent\n",
    "#re.S: This flag is used to find dot matches\n",
    "#re.U: This flag is used to work for unicode data\n",
    "#re.X: This flag is used for writing regex in a more readable format\n",
    "\n",
    "#CW: Practice at leisure\n",
    "#Find the single occurrence of character a and b: Regex: [ab]\n",
    "#Find characters except a and b: Regex: [^ab]\n",
    "#Find the character range of a to z: Regex: [a-z]\n",
    "#Find range except to z: Regex: [^a-z]\n",
    "#Find all the characters a to z as well as A to Z: Regex: [a-zA-Z]\n",
    "#Any single character: Regex: .\n",
    "#Any whitespace character: Regex: \\s\n",
    "#Any non-whitespace character: Regex: \\S\n",
    "#Any digit: Regex: \\d\n",
    "#Any non-digit: Regex: \\D\n",
    "#Any non-words: Regex: \\W\n",
    "#Any words: Regex: \\w\n",
    "\n",
    "#CW: Visit at leisure https://docs.python.org/2/library/re.html\n",
    "\n",
    "# Advice: practice"
   ]
  }
 ],
 "metadata": {
  "kernelspec": {
   "display_name": "Python 3",
   "language": "python",
   "name": "python3"
  },
  "language_info": {
   "codemirror_mode": {
    "name": "ipython",
    "version": 3
   },
   "file_extension": ".py",
   "mimetype": "text/x-python",
   "name": "python",
   "nbconvert_exporter": "python",
   "pygments_lexer": "ipython3",
   "version": "3.7.6"
  }
 },
 "nbformat": 4,
 "nbformat_minor": 4
}
