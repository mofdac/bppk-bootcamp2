{
 "cells": [
  {
   "cell_type": "markdown",
   "metadata": {},
   "source": [
    "# Exploratory Data Analysis"
   ]
  },
  {
   "cell_type": "markdown",
   "metadata": {},
   "source": [
    "## Loading Data"
   ]
  },
  {
   "cell_type": "code",
   "execution_count": 245,
   "metadata": {
    "ExecuteTime": {
     "end_time": "2021-06-01T04:30:36.927939Z",
     "start_time": "2021-06-01T04:30:36.921712Z"
    }
   },
   "outputs": [],
   "source": [
    "import numpy as np \n",
    "import pandas as pd\n",
    "import matplotlib.pyplot as plt\n",
    "import seaborn as sns\n",
    "plt.style.use('fivethirtyeight')\n",
    "import warnings\n",
    "warnings.filterwarnings('ignore')\n",
    "%matplotlib inline"
   ]
  },
  {
   "cell_type": "code",
   "execution_count": 246,
   "metadata": {
    "ExecuteTime": {
     "end_time": "2021-06-01T04:30:37.268513Z",
     "start_time": "2021-06-01T04:30:37.262649Z"
    }
   },
   "outputs": [],
   "source": [
    "data = pd.read_csv('dataset/titanic.csv')"
   ]
  },
  {
   "cell_type": "markdown",
   "metadata": {},
   "source": [
    "## Bivariate & Multivariate\n",
    "### Univariate:\n",
    "- Cek dimensi data (tabel-tabel)\n",
    "- Cek tipe data dari masing-masing kolom\n",
    "- Tampilkan sebagian value dari masing-masing kolom\n",
    "- Lakukan perhitungan descriptive statistics untuk tiap kolom\n",
    "- Lakukan analisis visual dengan memplot tiap variable\n",
    "- Cek missing value\n",
    "- Cek duplikasi\n",
    "- Cek validitas (format / range / limit / reference / dll)\n",
    "- cek duplikat\n",
    "\n",
    "### Multivariate:\n",
    "- bivariate analysis\n",
    "    - Two Categorical\n",
    "    - Categorical and Numerical\n",
    "    - Two Numerical\n",
    "- multivariate\n",
    "    - Dimensionality Reduction"
   ]
  },
  {
   "cell_type": "markdown",
   "metadata": {},
   "source": [
    "### Cek Data"
   ]
  },
  {
   "cell_type": "code",
   "execution_count": 247,
   "metadata": {
    "ExecuteTime": {
     "end_time": "2021-06-01T04:30:38.947801Z",
     "start_time": "2021-06-01T04:30:38.934994Z"
    }
   },
   "outputs": [
    {
     "data": {
      "text/html": [
       "<div>\n",
       "<style scoped>\n",
       "    .dataframe tbody tr th:only-of-type {\n",
       "        vertical-align: middle;\n",
       "    }\n",
       "\n",
       "    .dataframe tbody tr th {\n",
       "        vertical-align: top;\n",
       "    }\n",
       "\n",
       "    .dataframe thead th {\n",
       "        text-align: right;\n",
       "    }\n",
       "</style>\n",
       "<table border=\"1\" class=\"dataframe\">\n",
       "  <thead>\n",
       "    <tr style=\"text-align: right;\">\n",
       "      <th></th>\n",
       "      <th>PassengerId</th>\n",
       "      <th>Survived</th>\n",
       "      <th>Pclass</th>\n",
       "      <th>Name</th>\n",
       "      <th>Sex</th>\n",
       "      <th>Age</th>\n",
       "      <th>SibSp</th>\n",
       "      <th>Parch</th>\n",
       "      <th>Ticket</th>\n",
       "      <th>Fare</th>\n",
       "      <th>Cabin</th>\n",
       "      <th>Embarked</th>\n",
       "    </tr>\n",
       "  </thead>\n",
       "  <tbody>\n",
       "    <tr>\n",
       "      <th>0</th>\n",
       "      <td>1</td>\n",
       "      <td>0</td>\n",
       "      <td>3</td>\n",
       "      <td>Braund, Mr. Owen Harris</td>\n",
       "      <td>male</td>\n",
       "      <td>22.0</td>\n",
       "      <td>1</td>\n",
       "      <td>0</td>\n",
       "      <td>A/5 21171</td>\n",
       "      <td>7.2500</td>\n",
       "      <td>NaN</td>\n",
       "      <td>S</td>\n",
       "    </tr>\n",
       "    <tr>\n",
       "      <th>1</th>\n",
       "      <td>2</td>\n",
       "      <td>1</td>\n",
       "      <td>1</td>\n",
       "      <td>Cumings, Mrs. John Bradley (Florence Briggs Th...</td>\n",
       "      <td>female</td>\n",
       "      <td>38.0</td>\n",
       "      <td>1</td>\n",
       "      <td>0</td>\n",
       "      <td>PC 17599</td>\n",
       "      <td>71.2833</td>\n",
       "      <td>C85</td>\n",
       "      <td>C</td>\n",
       "    </tr>\n",
       "    <tr>\n",
       "      <th>2</th>\n",
       "      <td>3</td>\n",
       "      <td>1</td>\n",
       "      <td>3</td>\n",
       "      <td>Heikkinen, Miss. Laina</td>\n",
       "      <td>female</td>\n",
       "      <td>26.0</td>\n",
       "      <td>0</td>\n",
       "      <td>0</td>\n",
       "      <td>STON/O2. 3101282</td>\n",
       "      <td>7.9250</td>\n",
       "      <td>NaN</td>\n",
       "      <td>S</td>\n",
       "    </tr>\n",
       "    <tr>\n",
       "      <th>3</th>\n",
       "      <td>4</td>\n",
       "      <td>1</td>\n",
       "      <td>1</td>\n",
       "      <td>Futrelle, Mrs. Jacques Heath (Lily May Peel)</td>\n",
       "      <td>female</td>\n",
       "      <td>35.0</td>\n",
       "      <td>1</td>\n",
       "      <td>0</td>\n",
       "      <td>113803</td>\n",
       "      <td>53.1000</td>\n",
       "      <td>C123</td>\n",
       "      <td>S</td>\n",
       "    </tr>\n",
       "    <tr>\n",
       "      <th>4</th>\n",
       "      <td>5</td>\n",
       "      <td>0</td>\n",
       "      <td>3</td>\n",
       "      <td>Allen, Mr. William Henry</td>\n",
       "      <td>male</td>\n",
       "      <td>35.0</td>\n",
       "      <td>0</td>\n",
       "      <td>0</td>\n",
       "      <td>373450</td>\n",
       "      <td>8.0500</td>\n",
       "      <td>NaN</td>\n",
       "      <td>S</td>\n",
       "    </tr>\n",
       "  </tbody>\n",
       "</table>\n",
       "</div>"
      ],
      "text/plain": [
       "   PassengerId  Survived  Pclass  \\\n",
       "0            1         0       3   \n",
       "1            2         1       1   \n",
       "2            3         1       3   \n",
       "3            4         1       1   \n",
       "4            5         0       3   \n",
       "\n",
       "                                                Name     Sex   Age  SibSp  \\\n",
       "0                            Braund, Mr. Owen Harris    male  22.0      1   \n",
       "1  Cumings, Mrs. John Bradley (Florence Briggs Th...  female  38.0      1   \n",
       "2                             Heikkinen, Miss. Laina  female  26.0      0   \n",
       "3       Futrelle, Mrs. Jacques Heath (Lily May Peel)  female  35.0      1   \n",
       "4                           Allen, Mr. William Henry    male  35.0      0   \n",
       "\n",
       "   Parch            Ticket     Fare Cabin Embarked  \n",
       "0      0         A/5 21171   7.2500   NaN        S  \n",
       "1      0          PC 17599  71.2833   C85        C  \n",
       "2      0  STON/O2. 3101282   7.9250   NaN        S  \n",
       "3      0            113803  53.1000  C123        S  \n",
       "4      0            373450   8.0500   NaN        S  "
      ]
     },
     "execution_count": 247,
     "metadata": {},
     "output_type": "execute_result"
    }
   ],
   "source": [
    "data.head()"
   ]
  },
  {
   "cell_type": "markdown",
   "metadata": {},
   "source": [
    "\n",
    "### Hasil Univariate Analisis\n",
    "\n",
    "- target variable adalah 'Survived'. 38.4% survived\n",
    "- tipe variable\n",
    "    - Categorical: Sex, Embarked\n",
    "    - Ordinal: PClass\n",
    "    - Continuous: Age, Fare\n",
    "    - Discrete: SibSp, Parch\n",
    "- the middle part of each name is a title of the person, other than that, we can drop the Name column\n",
    "- Age has some missing value that need to be inputed\n",
    "- Cabin has too many missing value, we can drop it\n",
    "- Ticket has too many unique value with difference formats, so we can drop it as well\n",
    "- Passenger Id holds the unique ID of each person, not much information given for predictiong survivability"
   ]
  },
  {
   "cell_type": "code",
   "execution_count": 248,
   "metadata": {
    "ExecuteTime": {
     "end_time": "2021-06-01T04:30:40.842743Z",
     "start_time": "2021-06-01T04:30:40.824344Z"
    }
   },
   "outputs": [
    {
     "data": {
      "text/html": [
       "<div>\n",
       "<style scoped>\n",
       "    .dataframe tbody tr th:only-of-type {\n",
       "        vertical-align: middle;\n",
       "    }\n",
       "\n",
       "    .dataframe tbody tr th {\n",
       "        vertical-align: top;\n",
       "    }\n",
       "\n",
       "    .dataframe thead th {\n",
       "        text-align: right;\n",
       "    }\n",
       "</style>\n",
       "<table border=\"1\" class=\"dataframe\">\n",
       "  <thead>\n",
       "    <tr style=\"text-align: right;\">\n",
       "      <th></th>\n",
       "      <th>Survived</th>\n",
       "      <th>Pclass</th>\n",
       "      <th>Sex</th>\n",
       "      <th>Age</th>\n",
       "      <th>SibSp</th>\n",
       "      <th>Parch</th>\n",
       "      <th>Fare</th>\n",
       "      <th>Embarked</th>\n",
       "      <th>Initial</th>\n",
       "    </tr>\n",
       "  </thead>\n",
       "  <tbody>\n",
       "    <tr>\n",
       "      <th>0</th>\n",
       "      <td>0</td>\n",
       "      <td>3</td>\n",
       "      <td>male</td>\n",
       "      <td>22.0</td>\n",
       "      <td>1</td>\n",
       "      <td>0</td>\n",
       "      <td>7.2500</td>\n",
       "      <td>S</td>\n",
       "      <td>Mr</td>\n",
       "    </tr>\n",
       "    <tr>\n",
       "      <th>1</th>\n",
       "      <td>1</td>\n",
       "      <td>1</td>\n",
       "      <td>female</td>\n",
       "      <td>38.0</td>\n",
       "      <td>1</td>\n",
       "      <td>0</td>\n",
       "      <td>71.2833</td>\n",
       "      <td>C</td>\n",
       "      <td>Mrs</td>\n",
       "    </tr>\n",
       "    <tr>\n",
       "      <th>2</th>\n",
       "      <td>1</td>\n",
       "      <td>3</td>\n",
       "      <td>female</td>\n",
       "      <td>26.0</td>\n",
       "      <td>0</td>\n",
       "      <td>0</td>\n",
       "      <td>7.9250</td>\n",
       "      <td>S</td>\n",
       "      <td>Miss</td>\n",
       "    </tr>\n",
       "    <tr>\n",
       "      <th>3</th>\n",
       "      <td>1</td>\n",
       "      <td>1</td>\n",
       "      <td>female</td>\n",
       "      <td>35.0</td>\n",
       "      <td>1</td>\n",
       "      <td>0</td>\n",
       "      <td>53.1000</td>\n",
       "      <td>S</td>\n",
       "      <td>Mrs</td>\n",
       "    </tr>\n",
       "    <tr>\n",
       "      <th>4</th>\n",
       "      <td>0</td>\n",
       "      <td>3</td>\n",
       "      <td>male</td>\n",
       "      <td>35.0</td>\n",
       "      <td>0</td>\n",
       "      <td>0</td>\n",
       "      <td>8.0500</td>\n",
       "      <td>S</td>\n",
       "      <td>Mr</td>\n",
       "    </tr>\n",
       "  </tbody>\n",
       "</table>\n",
       "</div>"
      ],
      "text/plain": [
       "   Survived  Pclass     Sex   Age  SibSp  Parch     Fare Embarked Initial\n",
       "0         0       3    male  22.0      1      0   7.2500        S      Mr\n",
       "1         1       1  female  38.0      1      0  71.2833        C     Mrs\n",
       "2         1       3  female  26.0      0      0   7.9250        S    Miss\n",
       "3         1       1  female  35.0      1      0  53.1000        S     Mrs\n",
       "4         0       3    male  35.0      0      0   8.0500        S      Mr"
      ]
     },
     "execution_count": 248,
     "metadata": {},
     "output_type": "execute_result"
    }
   ],
   "source": [
    "data['Initial'] = data.Name.str.extract('([A-Za-z]+)\\.')\n",
    "data['Initial'].replace(['Mlle','Mme','Ms','Dr','Major','Lady','Countess','Jonkheer','Col','Rev','Capt','Sir','Don'],['Miss','Miss','Miss','Mr','Mr','Mrs','Mrs','Other','Other','Other','Mr','Mr','Mr'],inplace=True)\n",
    "data.drop(columns=['Name','Ticket','Cabin','PassengerId'], inplace=True)\n",
    "data.head()"
   ]
  },
  {
   "cell_type": "markdown",
   "metadata": {},
   "source": [
    "## Bivariate Analysis"
   ]
  },
  {
   "cell_type": "markdown",
   "metadata": {},
   "source": [
    "### Categorical to Categorical\n",
    "\n",
    "Untuk memeriksa korelasi antara dua variabel kategori, kita dapat mencoba membuat Tabel Kontingensi (cross tabulation/crosstab). Selain itu, untuk memvisualisasikan hasil crosstab, kita dapat memplotnya menggunakan diagram batang atau factor plot.\n",
    "\n",
    "Jika kita ingin menguji ketergantungan dua variabel kategorikal dengan pendekatan statistik, kita dapat menggunakan chi-square test. \n",
    "\n",
    "Namun, pada kesempatan ini, kita tidak akan menekankan pada pengujian tersebut melainkan hanya melihat ketergantungan berdasarkan visualisasi."
   ]
  },
  {
   "cell_type": "markdown",
   "metadata": {},
   "source": [
    "#### Sex dan Survived"
   ]
  },
  {
   "cell_type": "markdown",
   "metadata": {
    "ExecuteTime": {
     "end_time": "2021-06-01T01:53:12.608946Z",
     "start_time": "2021-06-01T01:53:12.605476Z"
    }
   },
   "source": [
    "###### Cross Tab"
   ]
  },
  {
   "cell_type": "code",
   "execution_count": 183,
   "metadata": {
    "ExecuteTime": {
     "end_time": "2021-06-01T03:58:13.422589Z",
     "start_time": "2021-06-01T03:58:13.332213Z"
    }
   },
   "outputs": [
    {
     "data": {
      "text/html": [
       "<style  type=\"text/css\" >\n",
       "#T_96632da0_c28d_11eb_a83f_51fb208d27f5row0_col0,#T_96632da0_c28d_11eb_a83f_51fb208d27f5row0_col2,#T_96632da0_c28d_11eb_a83f_51fb208d27f5row1_col1{\n",
       "            background-color:  #ffff66;\n",
       "            color:  #000000;\n",
       "        }#T_96632da0_c28d_11eb_a83f_51fb208d27f5row0_col1{\n",
       "            background-color:  #77bb66;\n",
       "            color:  #000000;\n",
       "        }#T_96632da0_c28d_11eb_a83f_51fb208d27f5row1_col0{\n",
       "            background-color:  #2c9666;\n",
       "            color:  #000000;\n",
       "        }#T_96632da0_c28d_11eb_a83f_51fb208d27f5row1_col2{\n",
       "            background-color:  #8bc566;\n",
       "            color:  #000000;\n",
       "        }#T_96632da0_c28d_11eb_a83f_51fb208d27f5row2_col0,#T_96632da0_c28d_11eb_a83f_51fb208d27f5row2_col1,#T_96632da0_c28d_11eb_a83f_51fb208d27f5row2_col2{\n",
       "            background-color:  #008066;\n",
       "            color:  #f1f1f1;\n",
       "        }</style><table id=\"T_96632da0_c28d_11eb_a83f_51fb208d27f5\" ><thead>    <tr>        <th class=\"index_name level0\" >Survived</th>        <th class=\"col_heading level0 col0\" >0</th>        <th class=\"col_heading level0 col1\" >1</th>        <th class=\"col_heading level0 col2\" >All</th>    </tr>    <tr>        <th class=\"index_name level0\" >Sex</th>        <th class=\"blank\" ></th>        <th class=\"blank\" ></th>        <th class=\"blank\" ></th>    </tr></thead><tbody>\n",
       "                <tr>\n",
       "                        <th id=\"T_96632da0_c28d_11eb_a83f_51fb208d27f5level0_row0\" class=\"row_heading level0 row0\" >female</th>\n",
       "                        <td id=\"T_96632da0_c28d_11eb_a83f_51fb208d27f5row0_col0\" class=\"data row0 col0\" >81</td>\n",
       "                        <td id=\"T_96632da0_c28d_11eb_a83f_51fb208d27f5row0_col1\" class=\"data row0 col1\" >233</td>\n",
       "                        <td id=\"T_96632da0_c28d_11eb_a83f_51fb208d27f5row0_col2\" class=\"data row0 col2\" >314</td>\n",
       "            </tr>\n",
       "            <tr>\n",
       "                        <th id=\"T_96632da0_c28d_11eb_a83f_51fb208d27f5level0_row1\" class=\"row_heading level0 row1\" >male</th>\n",
       "                        <td id=\"T_96632da0_c28d_11eb_a83f_51fb208d27f5row1_col0\" class=\"data row1 col0\" >468</td>\n",
       "                        <td id=\"T_96632da0_c28d_11eb_a83f_51fb208d27f5row1_col1\" class=\"data row1 col1\" >109</td>\n",
       "                        <td id=\"T_96632da0_c28d_11eb_a83f_51fb208d27f5row1_col2\" class=\"data row1 col2\" >577</td>\n",
       "            </tr>\n",
       "            <tr>\n",
       "                        <th id=\"T_96632da0_c28d_11eb_a83f_51fb208d27f5level0_row2\" class=\"row_heading level0 row2\" >All</th>\n",
       "                        <td id=\"T_96632da0_c28d_11eb_a83f_51fb208d27f5row2_col0\" class=\"data row2 col0\" >549</td>\n",
       "                        <td id=\"T_96632da0_c28d_11eb_a83f_51fb208d27f5row2_col1\" class=\"data row2 col1\" >342</td>\n",
       "                        <td id=\"T_96632da0_c28d_11eb_a83f_51fb208d27f5row2_col2\" class=\"data row2 col2\" >891</td>\n",
       "            </tr>\n",
       "    </tbody></table>"
      ],
      "text/plain": [
       "<pandas.io.formats.style.Styler at 0x7f1ad86e2d60>"
      ]
     },
     "execution_count": 183,
     "metadata": {},
     "output_type": "execute_result"
    }
   ],
   "source": [
    "df_sex_ct = pd.crosstab(data['Sex'], data['Survived'],margins=True)\n",
    "df_sex_ct.style.background_gradient(cmap='summer_r')"
   ]
  },
  {
   "cell_type": "markdown",
   "metadata": {},
   "source": [
    "###### Chi Square"
   ]
  },
  {
   "cell_type": "code",
   "execution_count": 184,
   "metadata": {
    "ExecuteTime": {
     "end_time": "2021-06-01T03:58:13.840387Z",
     "start_time": "2021-06-01T03:58:13.835682Z"
    },
    "scrolled": true
   },
   "outputs": [
    {
     "name": "stdout",
     "output_type": "stream",
     "text": [
      "p value is 1.0036732821369117e-55\n",
      "Dependent (reject H0)\n"
     ]
    }
   ],
   "source": [
    "from scipy.stats import chi2_contingency\n",
    "  \n",
    "def chi_test(data):    \n",
    "    # defining the table\n",
    "    stat, p, dof, expected = chi2_contingency(data)\n",
    "\n",
    "    # interpret p-value\n",
    "    alpha = 0.05\n",
    "    print(\"p value is \" + str(p))\n",
    "    if p <= alpha:\n",
    "        print('Dependent (reject H0)')\n",
    "    else:\n",
    "        print('Independent (H0 holds true)')\n",
    "\n",
    "chi_test(df_sex_ct)"
   ]
  },
  {
   "cell_type": "markdown",
   "metadata": {},
   "source": [
    "###### Visualisasi"
   ]
  },
  {
   "cell_type": "code",
   "execution_count": 185,
   "metadata": {
    "ExecuteTime": {
     "end_time": "2021-06-01T03:58:14.777572Z",
     "start_time": "2021-06-01T03:58:14.515860Z"
    }
   },
   "outputs": [
    {
     "data": {
      "image/png": "[encoded data removed]",
      "text/plain": [
       "<Figure size 1296x360 with 2 Axes>"
      ]
     },
     "metadata": {
      "needs_background": "light"
     },
     "output_type": "display_data"
    }
   ],
   "source": [
    "f,ax=plt.subplots(1,2,figsize=(18,5))\n",
    "\n",
    "# subplot 1\n",
    "data[['Sex','Survived']].groupby(['Sex']).mean().plot.bar(ax=ax[0])\n",
    "ax[0].set_title('Survived vs Sex')\n",
    "\n",
    "# subplot 2 \n",
    "sns.countplot('Sex',hue='Survived',data=data, ax=ax[1])\n",
    "ax[1].set_title('Sex:Survived vs Dead')\n",
    "\n",
    "# show\n",
    "plt.show()"
   ]
  },
  {
   "cell_type": "markdown",
   "metadata": {},
   "source": [
    "Jumlah pria di kapal jauh lebih banyak daripada jumlah wanita. Namun jumlah wanita yang diselamatkan hampir dua kali lipat jumlah pria yang diselamatkan. Tingkat Survival untuk **perempuan di kapal adalah sekitar 75% sedangkan untuk pria di sekitar 18-19%**.\n",
    "\n",
    "Sex tampaknya menjadi fitur yang **sangat penting** untuk pemodelan. Tapi sebelum itu kita perlu juga melihat fitur lainnya."
   ]
  },
  {
   "cell_type": "markdown",
   "metadata": {},
   "source": [
    "#### Pclass and Survived"
   ]
  },
  {
   "cell_type": "code",
   "execution_count": 186,
   "metadata": {
    "ExecuteTime": {
     "end_time": "2021-06-01T03:58:16.453154Z",
     "start_time": "2021-06-01T03:58:16.371709Z"
    },
    "scrolled": true
   },
   "outputs": [
    {
     "data": {
      "text/html": [
       "<style  type=\"text/css\" >\n",
       "#T_98312420_c28d_11eb_a83f_51fb208d27f5row0_col0,#T_98312420_c28d_11eb_a83f_51fb208d27f5row1_col1,#T_98312420_c28d_11eb_a83f_51fb208d27f5row1_col2{\n",
       "            background-color:  #ffff66;\n",
       "            color:  #000000;\n",
       "        }#T_98312420_c28d_11eb_a83f_51fb208d27f5row0_col1{\n",
       "            background-color:  #cee666;\n",
       "            color:  #000000;\n",
       "        }#T_98312420_c28d_11eb_a83f_51fb208d27f5row0_col2{\n",
       "            background-color:  #f4fa66;\n",
       "            color:  #000000;\n",
       "        }#T_98312420_c28d_11eb_a83f_51fb208d27f5row1_col0{\n",
       "            background-color:  #f6fa66;\n",
       "            color:  #000000;\n",
       "        }#T_98312420_c28d_11eb_a83f_51fb208d27f5row2_col0{\n",
       "            background-color:  #60b066;\n",
       "            color:  #000000;\n",
       "        }#T_98312420_c28d_11eb_a83f_51fb208d27f5row2_col1{\n",
       "            background-color:  #dfef66;\n",
       "            color:  #000000;\n",
       "        }#T_98312420_c28d_11eb_a83f_51fb208d27f5row2_col2{\n",
       "            background-color:  #90c866;\n",
       "            color:  #000000;\n",
       "        }#T_98312420_c28d_11eb_a83f_51fb208d27f5row3_col0,#T_98312420_c28d_11eb_a83f_51fb208d27f5row3_col1,#T_98312420_c28d_11eb_a83f_51fb208d27f5row3_col2{\n",
       "            background-color:  #008066;\n",
       "            color:  #f1f1f1;\n",
       "        }</style><table id=\"T_98312420_c28d_11eb_a83f_51fb208d27f5\" ><thead>    <tr>        <th class=\"index_name level0\" >Survived</th>        <th class=\"col_heading level0 col0\" >0</th>        <th class=\"col_heading level0 col1\" >1</th>        <th class=\"col_heading level0 col2\" >All</th>    </tr>    <tr>        <th class=\"index_name level0\" >Pclass</th>        <th class=\"blank\" ></th>        <th class=\"blank\" ></th>        <th class=\"blank\" ></th>    </tr></thead><tbody>\n",
       "                <tr>\n",
       "                        <th id=\"T_98312420_c28d_11eb_a83f_51fb208d27f5level0_row0\" class=\"row_heading level0 row0\" >1</th>\n",
       "                        <td id=\"T_98312420_c28d_11eb_a83f_51fb208d27f5row0_col0\" class=\"data row0 col0\" >80</td>\n",
       "                        <td id=\"T_98312420_c28d_11eb_a83f_51fb208d27f5row0_col1\" class=\"data row0 col1\" >136</td>\n",
       "                        <td id=\"T_98312420_c28d_11eb_a83f_51fb208d27f5row0_col2\" class=\"data row0 col2\" >216</td>\n",
       "            </tr>\n",
       "            <tr>\n",
       "                        <th id=\"T_98312420_c28d_11eb_a83f_51fb208d27f5level0_row1\" class=\"row_heading level0 row1\" >2</th>\n",
       "                        <td id=\"T_98312420_c28d_11eb_a83f_51fb208d27f5row1_col0\" class=\"data row1 col0\" >97</td>\n",
       "                        <td id=\"T_98312420_c28d_11eb_a83f_51fb208d27f5row1_col1\" class=\"data row1 col1\" >87</td>\n",
       "                        <td id=\"T_98312420_c28d_11eb_a83f_51fb208d27f5row1_col2\" class=\"data row1 col2\" >184</td>\n",
       "            </tr>\n",
       "            <tr>\n",
       "                        <th id=\"T_98312420_c28d_11eb_a83f_51fb208d27f5level0_row2\" class=\"row_heading level0 row2\" >3</th>\n",
       "                        <td id=\"T_98312420_c28d_11eb_a83f_51fb208d27f5row2_col0\" class=\"data row2 col0\" >372</td>\n",
       "                        <td id=\"T_98312420_c28d_11eb_a83f_51fb208d27f5row2_col1\" class=\"data row2 col1\" >119</td>\n",
       "                        <td id=\"T_98312420_c28d_11eb_a83f_51fb208d27f5row2_col2\" class=\"data row2 col2\" >491</td>\n",
       "            </tr>\n",
       "            <tr>\n",
       "                        <th id=\"T_98312420_c28d_11eb_a83f_51fb208d27f5level0_row3\" class=\"row_heading level0 row3\" >All</th>\n",
       "                        <td id=\"T_98312420_c28d_11eb_a83f_51fb208d27f5row3_col0\" class=\"data row3 col0\" >549</td>\n",
       "                        <td id=\"T_98312420_c28d_11eb_a83f_51fb208d27f5row3_col1\" class=\"data row3 col1\" >342</td>\n",
       "                        <td id=\"T_98312420_c28d_11eb_a83f_51fb208d27f5row3_col2\" class=\"data row3 col2\" >891</td>\n",
       "            </tr>\n",
       "    </tbody></table>"
      ],
      "text/plain": [
       "<pandas.io.formats.style.Styler at 0x7f1ad8497790>"
      ]
     },
     "execution_count": 186,
     "metadata": {},
     "output_type": "execute_result"
    }
   ],
   "source": [
    "df_pclass_ct = pd.crosstab(data.Pclass,data.Survived,margins=True)\n",
    "df_pclass_ct.style.background_gradient(cmap='summer_r')"
   ]
  },
  {
   "cell_type": "code",
   "execution_count": 187,
   "metadata": {
    "ExecuteTime": {
     "end_time": "2021-06-01T03:58:16.665440Z",
     "start_time": "2021-06-01T03:58:16.661974Z"
    }
   },
   "outputs": [
    {
     "name": "stdout",
     "output_type": "stream",
     "text": [
      "p value is 6.258462423531468e-20\n",
      "Dependent (reject H0)\n"
     ]
    }
   ],
   "source": [
    "chi_test(df_pclass_ct)"
   ]
  },
  {
   "cell_type": "code",
   "execution_count": 188,
   "metadata": {
    "ExecuteTime": {
     "end_time": "2021-06-01T03:58:17.912398Z",
     "start_time": "2021-06-01T03:58:17.645645Z"
    }
   },
   "outputs": [
    {
     "data": {
      "image/png": "[encoded data removed]",
      "text/plain": [
       "<Figure size 1296x360 with 2 Axes>"
      ]
     },
     "metadata": {
      "needs_background": "light"
     },
     "output_type": "display_data"
    }
   ],
   "source": [
    "f,ax=plt.subplots(1,2,figsize=(18,5))\n",
    "\n",
    "#subplot 1\n",
    "data['Pclass'].value_counts().sort_index().plot.bar(color=['#CD7F32','#FFDF00','#D3D3D3'],ax=ax[0])\n",
    "ax[0].set_title('Number Of Passengers By Pclass')\n",
    "ax[0].set_ylabel('Count')\n",
    "\n",
    "#subplot 2\n",
    "sns.countplot('Pclass',hue='Survived',data=data,ax=ax[1])\n",
    "ax[1].set_title('Pclass: Survived vs Dead')\n",
    "\n",
    "#show\n",
    "plt.show()"
   ]
  },
  {
   "cell_type": "markdown",
   "metadata": {},
   "source": [
    "Dapat dilihat dengan jelas bahwa penumpang Pclass 1 mendapatkan prioritas yang sangat tinggi dalam proses penyelamatan. Meski jumlah Penumpang di Pclass 3 jauh lebih tinggi, namun angka survival dari mereka masih sangat rendah, sekitar 25%.\n",
    "\n",
    "Untuk Pclass 1 penumpang selamat sekitar 63% sedangkan untuk Pclass2 sekitar 48%. \n",
    "\n",
    "Mari dalami lebih lanjut dan periksa hal lainnya. Mari kita periksa tingkat survival dengan **Seks dan Pclass** secara bersama-sama."
   ]
  },
  {
   "cell_type": "code",
   "execution_count": 189,
   "metadata": {
    "ExecuteTime": {
     "end_time": "2021-06-01T03:58:19.558989Z",
     "start_time": "2021-06-01T03:58:19.388920Z"
    }
   },
   "outputs": [
    {
     "data": {
      "text/html": [
       "<style  type=\"text/css\" >\n",
       "#T_9a0b5554_c28d_11eb_a83f_51fb208d27f5row0_col0,#T_9a0b5554_c28d_11eb_a83f_51fb208d27f5row1_col2,#T_9a0b5554_c28d_11eb_a83f_51fb208d27f5row4_col1{\n",
       "            background-color:  #ffff66;\n",
       "            color:  #000000;\n",
       "        }#T_9a0b5554_c28d_11eb_a83f_51fb208d27f5row0_col1{\n",
       "            background-color:  #c5e266;\n",
       "            color:  #000000;\n",
       "        }#T_9a0b5554_c28d_11eb_a83f_51fb208d27f5row0_col2{\n",
       "            background-color:  #fafc66;\n",
       "            color:  #000000;\n",
       "        }#T_9a0b5554_c28d_11eb_a83f_51fb208d27f5row1_col0{\n",
       "            background-color:  #fefe66;\n",
       "            color:  #000000;\n",
       "        }#T_9a0b5554_c28d_11eb_a83f_51fb208d27f5row1_col1,#T_9a0b5554_c28d_11eb_a83f_51fb208d27f5row4_col0{\n",
       "            background-color:  #d6eb66;\n",
       "            color:  #000000;\n",
       "        }#T_9a0b5554_c28d_11eb_a83f_51fb208d27f5row2_col0{\n",
       "            background-color:  #dfef66;\n",
       "            color:  #000000;\n",
       "        }#T_9a0b5554_c28d_11eb_a83f_51fb208d27f5row2_col1{\n",
       "            background-color:  #d4ea66;\n",
       "            color:  #000000;\n",
       "        }#T_9a0b5554_c28d_11eb_a83f_51fb208d27f5row2_col2{\n",
       "            background-color:  #eaf466;\n",
       "            color:  #000000;\n",
       "        }#T_9a0b5554_c28d_11eb_a83f_51fb208d27f5row3_col0{\n",
       "            background-color:  #ddee66;\n",
       "            color:  #000000;\n",
       "        }#T_9a0b5554_c28d_11eb_a83f_51fb208d27f5row3_col1{\n",
       "            background-color:  #e9f466;\n",
       "            color:  #000000;\n",
       "        }#T_9a0b5554_c28d_11eb_a83f_51fb208d27f5row3_col2{\n",
       "            background-color:  #f1f866;\n",
       "            color:  #000000;\n",
       "        }#T_9a0b5554_c28d_11eb_a83f_51fb208d27f5row4_col2{\n",
       "            background-color:  #f5fa66;\n",
       "            color:  #000000;\n",
       "        }#T_9a0b5554_c28d_11eb_a83f_51fb208d27f5row5_col0{\n",
       "            background-color:  #74ba66;\n",
       "            color:  #000000;\n",
       "        }#T_9a0b5554_c28d_11eb_a83f_51fb208d27f5row5_col1{\n",
       "            background-color:  #e8f466;\n",
       "            color:  #000000;\n",
       "        }#T_9a0b5554_c28d_11eb_a83f_51fb208d27f5row5_col2{\n",
       "            background-color:  #aad466;\n",
       "            color:  #000000;\n",
       "        }#T_9a0b5554_c28d_11eb_a83f_51fb208d27f5row6_col0,#T_9a0b5554_c28d_11eb_a83f_51fb208d27f5row6_col1,#T_9a0b5554_c28d_11eb_a83f_51fb208d27f5row6_col2{\n",
       "            background-color:  #008066;\n",
       "            color:  #f1f1f1;\n",
       "        }</style><table id=\"T_9a0b5554_c28d_11eb_a83f_51fb208d27f5\" ><thead>    <tr>        <th class=\"blank\" ></th>        <th class=\"index_name level0\" >Survived</th>        <th class=\"col_heading level0 col0\" >0</th>        <th class=\"col_heading level0 col1\" >1</th>        <th class=\"col_heading level0 col2\" >All</th>    </tr>    <tr>        <th class=\"index_name level0\" >Sex</th>        <th class=\"index_name level1\" >Pclass</th>        <th class=\"blank\" ></th>        <th class=\"blank\" ></th>        <th class=\"blank\" ></th>    </tr></thead><tbody>\n",
       "                <tr>\n",
       "                        <th id=\"T_9a0b5554_c28d_11eb_a83f_51fb208d27f5level0_row0\" class=\"row_heading level0 row0\" rowspan=3>female</th>\n",
       "                        <th id=\"T_9a0b5554_c28d_11eb_a83f_51fb208d27f5level1_row0\" class=\"row_heading level1 row0\" >1</th>\n",
       "                        <td id=\"T_9a0b5554_c28d_11eb_a83f_51fb208d27f5row0_col0\" class=\"data row0 col0\" >3</td>\n",
       "                        <td id=\"T_9a0b5554_c28d_11eb_a83f_51fb208d27f5row0_col1\" class=\"data row0 col1\" >91</td>\n",
       "                        <td id=\"T_9a0b5554_c28d_11eb_a83f_51fb208d27f5row0_col2\" class=\"data row0 col2\" >94</td>\n",
       "            </tr>\n",
       "            <tr>\n",
       "                                <th id=\"T_9a0b5554_c28d_11eb_a83f_51fb208d27f5level1_row1\" class=\"row_heading level1 row1\" >2</th>\n",
       "                        <td id=\"T_9a0b5554_c28d_11eb_a83f_51fb208d27f5row1_col0\" class=\"data row1 col0\" >6</td>\n",
       "                        <td id=\"T_9a0b5554_c28d_11eb_a83f_51fb208d27f5row1_col1\" class=\"data row1 col1\" >70</td>\n",
       "                        <td id=\"T_9a0b5554_c28d_11eb_a83f_51fb208d27f5row1_col2\" class=\"data row1 col2\" >76</td>\n",
       "            </tr>\n",
       "            <tr>\n",
       "                                <th id=\"T_9a0b5554_c28d_11eb_a83f_51fb208d27f5level1_row2\" class=\"row_heading level1 row2\" >3</th>\n",
       "                        <td id=\"T_9a0b5554_c28d_11eb_a83f_51fb208d27f5row2_col0\" class=\"data row2 col0\" >72</td>\n",
       "                        <td id=\"T_9a0b5554_c28d_11eb_a83f_51fb208d27f5row2_col1\" class=\"data row2 col1\" >72</td>\n",
       "                        <td id=\"T_9a0b5554_c28d_11eb_a83f_51fb208d27f5row2_col2\" class=\"data row2 col2\" >144</td>\n",
       "            </tr>\n",
       "            <tr>\n",
       "                        <th id=\"T_9a0b5554_c28d_11eb_a83f_51fb208d27f5level0_row3\" class=\"row_heading level0 row3\" rowspan=3>male</th>\n",
       "                        <th id=\"T_9a0b5554_c28d_11eb_a83f_51fb208d27f5level1_row3\" class=\"row_heading level1 row3\" >1</th>\n",
       "                        <td id=\"T_9a0b5554_c28d_11eb_a83f_51fb208d27f5row3_col0\" class=\"data row3 col0\" >77</td>\n",
       "                        <td id=\"T_9a0b5554_c28d_11eb_a83f_51fb208d27f5row3_col1\" class=\"data row3 col1\" >45</td>\n",
       "                        <td id=\"T_9a0b5554_c28d_11eb_a83f_51fb208d27f5row3_col2\" class=\"data row3 col2\" >122</td>\n",
       "            </tr>\n",
       "            <tr>\n",
       "                                <th id=\"T_9a0b5554_c28d_11eb_a83f_51fb208d27f5level1_row4\" class=\"row_heading level1 row4\" >2</th>\n",
       "                        <td id=\"T_9a0b5554_c28d_11eb_a83f_51fb208d27f5row4_col0\" class=\"data row4 col0\" >91</td>\n",
       "                        <td id=\"T_9a0b5554_c28d_11eb_a83f_51fb208d27f5row4_col1\" class=\"data row4 col1\" >17</td>\n",
       "                        <td id=\"T_9a0b5554_c28d_11eb_a83f_51fb208d27f5row4_col2\" class=\"data row4 col2\" >108</td>\n",
       "            </tr>\n",
       "            <tr>\n",
       "                                <th id=\"T_9a0b5554_c28d_11eb_a83f_51fb208d27f5level1_row5\" class=\"row_heading level1 row5\" >3</th>\n",
       "                        <td id=\"T_9a0b5554_c28d_11eb_a83f_51fb208d27f5row5_col0\" class=\"data row5 col0\" >300</td>\n",
       "                        <td id=\"T_9a0b5554_c28d_11eb_a83f_51fb208d27f5row5_col1\" class=\"data row5 col1\" >47</td>\n",
       "                        <td id=\"T_9a0b5554_c28d_11eb_a83f_51fb208d27f5row5_col2\" class=\"data row5 col2\" >347</td>\n",
       "            </tr>\n",
       "            <tr>\n",
       "                        <th id=\"T_9a0b5554_c28d_11eb_a83f_51fb208d27f5level0_row6\" class=\"row_heading level0 row6\" >All</th>\n",
       "                        <th id=\"T_9a0b5554_c28d_11eb_a83f_51fb208d27f5level1_row6\" class=\"row_heading level1 row6\" ></th>\n",
       "                        <td id=\"T_9a0b5554_c28d_11eb_a83f_51fb208d27f5row6_col0\" class=\"data row6 col0\" >549</td>\n",
       "                        <td id=\"T_9a0b5554_c28d_11eb_a83f_51fb208d27f5row6_col1\" class=\"data row6 col1\" >342</td>\n",
       "                        <td id=\"T_9a0b5554_c28d_11eb_a83f_51fb208d27f5row6_col2\" class=\"data row6 col2\" >891</td>\n",
       "            </tr>\n",
       "    </tbody></table>"
      ],
      "text/plain": [
       "<pandas.io.formats.style.Styler at 0x7f1b3c08e190>"
      ]
     },
     "execution_count": 189,
     "metadata": {},
     "output_type": "execute_result"
    }
   ],
   "source": [
    "pd.crosstab([data.Sex,data.Pclass],data.Survived,margins=True).style.background_gradient(cmap='summer_r')"
   ]
  },
  {
   "cell_type": "code",
   "execution_count": 190,
   "metadata": {
    "ExecuteTime": {
     "end_time": "2021-06-01T03:58:20.354775Z",
     "start_time": "2021-06-01T03:58:19.956667Z"
    }
   },
   "outputs": [
    {
     "data": {
      "image/png": "[encoded data removed]",
      "text/plain": [
       "<Figure size 430.5x360 with 1 Axes>"
      ]
     },
     "metadata": {
      "needs_background": "light"
     },
     "output_type": "display_data"
    }
   ],
   "source": [
    "sns.factorplot('Pclass','Survived',hue='Sex',data=data)\n",
    "plt.show()"
   ]
  },
  {
   "cell_type": "markdown",
   "metadata": {},
   "source": [
    "Kita bisa menggunakan FactorPlot dalam kasus ini, karena menjadikan pemisahan nilai kategorikal menjadi mudah.\n",
    "\n",
    "Dengan melihat CrossTab dan FactorPlot, kita dapat dengan mudah menyimpulkan bahwa kelangsungan hidup Wanita pada  Pclass1 adalah sekitar 95-96%, karena hanya 3 dari 94 Wanita dari Pclass1 yang meninggal.\n",
    "\n",
    "Terbukti bahwa terlepas dari Pclass, Wanita diberi prioritas pertama saat penyelamatan. Bahkan Pria dari Pclass 1 memiliki tingkat kelangsungan hidup yang sangat rendah."
   ]
  },
  {
   "cell_type": "markdown",
   "metadata": {},
   "source": [
    "#### Embarked and Survived"
   ]
  },
  {
   "cell_type": "code",
   "execution_count": 191,
   "metadata": {
    "ExecuteTime": {
     "end_time": "2021-06-01T03:58:25.377689Z",
     "start_time": "2021-06-01T03:58:25.352509Z"
    }
   },
   "outputs": [
    {
     "data": {
      "text/html": [
       "<style  type=\"text/css\" >\n",
       "#T_9d836cc6_c28d_11eb_a83f_51fb208d27f5row0_col0,#T_9d836cc6_c28d_11eb_a83f_51fb208d27f5row2_col1{\n",
       "            background-color:  #ffff66;\n",
       "            color:  #000000;\n",
       "        }#T_9d836cc6_c28d_11eb_a83f_51fb208d27f5row0_col1,#T_9d836cc6_c28d_11eb_a83f_51fb208d27f5row2_col0{\n",
       "            background-color:  #008066;\n",
       "            color:  #f1f1f1;\n",
       "        }#T_9d836cc6_c28d_11eb_a83f_51fb208d27f5row1_col0{\n",
       "            background-color:  #3e9e66;\n",
       "            color:  #000000;\n",
       "        }#T_9d836cc6_c28d_11eb_a83f_51fb208d27f5row1_col1{\n",
       "            background-color:  #c1e066;\n",
       "            color:  #000000;\n",
       "        }</style><table id=\"T_9d836cc6_c28d_11eb_a83f_51fb208d27f5\" ><thead>    <tr>        <th class=\"index_name level0\" >Survived</th>        <th class=\"col_heading level0 col0\" >0</th>        <th class=\"col_heading level0 col1\" >1</th>    </tr>    <tr>        <th class=\"index_name level0\" >Embarked</th>        <th class=\"blank\" ></th>        <th class=\"blank\" ></th>    </tr></thead><tbody>\n",
       "                <tr>\n",
       "                        <th id=\"T_9d836cc6_c28d_11eb_a83f_51fb208d27f5level0_row0\" class=\"row_heading level0 row0\" >C</th>\n",
       "                        <td id=\"T_9d836cc6_c28d_11eb_a83f_51fb208d27f5row0_col0\" class=\"data row0 col0\" >0.446429</td>\n",
       "                        <td id=\"T_9d836cc6_c28d_11eb_a83f_51fb208d27f5row0_col1\" class=\"data row0 col1\" >0.553571</td>\n",
       "            </tr>\n",
       "            <tr>\n",
       "                        <th id=\"T_9d836cc6_c28d_11eb_a83f_51fb208d27f5level0_row1\" class=\"row_heading level0 row1\" >Q</th>\n",
       "                        <td id=\"T_9d836cc6_c28d_11eb_a83f_51fb208d27f5row1_col0\" class=\"data row1 col0\" >0.610390</td>\n",
       "                        <td id=\"T_9d836cc6_c28d_11eb_a83f_51fb208d27f5row1_col1\" class=\"data row1 col1\" >0.389610</td>\n",
       "            </tr>\n",
       "            <tr>\n",
       "                        <th id=\"T_9d836cc6_c28d_11eb_a83f_51fb208d27f5level0_row2\" class=\"row_heading level0 row2\" >S</th>\n",
       "                        <td id=\"T_9d836cc6_c28d_11eb_a83f_51fb208d27f5row2_col0\" class=\"data row2 col0\" >0.663043</td>\n",
       "                        <td id=\"T_9d836cc6_c28d_11eb_a83f_51fb208d27f5row2_col1\" class=\"data row2 col1\" >0.336957</td>\n",
       "            </tr>\n",
       "    </tbody></table>"
      ],
      "text/plain": [
       "<pandas.io.formats.style.Styler at 0x7f1ad83e91f0>"
      ]
     },
     "execution_count": 191,
     "metadata": {},
     "output_type": "execute_result"
    }
   ],
   "source": [
    "pd.crosstab(data['Embarked'], data['Survived']).apply(lambda r: r/r.sum(), axis=1).style.background_gradient(cmap='summer_r')"
   ]
  },
  {
   "cell_type": "code",
   "execution_count": 192,
   "metadata": {
    "ExecuteTime": {
     "end_time": "2021-06-01T03:58:26.501778Z",
     "start_time": "2021-06-01T03:58:26.275412Z"
    }
   },
   "outputs": [
    {
     "data": {
      "image/png": "[encoded data removed]",
      "text/plain": [
       "<Figure size 360x216 with 1 Axes>"
      ]
     },
     "metadata": {
      "needs_background": "light"
     },
     "output_type": "display_data"
    }
   ],
   "source": [
    "sns.factorplot('Embarked','Survived',data=data)\n",
    "fig=plt.gcf()\n",
    "fig.set_size_inches(5,3)\n",
    "plt.show()"
   ]
  },
  {
   "cell_type": "markdown",
   "metadata": {},
   "source": [
    "Peluang bertahan hidup untuk Port C tertinggi sekitar 0,55 sedangkan terendah untuk S.\n",
    "\n",
    "Mari gabungkan fitur kategorikal lainnya ke variabel Embarked ini."
   ]
  },
  {
   "cell_type": "code",
   "execution_count": 193,
   "metadata": {
    "ExecuteTime": {
     "end_time": "2021-06-01T03:58:30.309269Z",
     "start_time": "2021-06-01T03:58:30.247793Z"
    }
   },
   "outputs": [
    {
     "data": {
      "text/html": [
       "<style  type=\"text/css\" >\n",
       "#T_a0731d82_c28d_11eb_a83f_51fb208d27f5row0_col0{\n",
       "            background-color:  #f4fa66;\n",
       "            color:  #000000;\n",
       "        }#T_a0731d82_c28d_11eb_a83f_51fb208d27f5row0_col1{\n",
       "            background-color:  #d4ea66;\n",
       "            color:  #000000;\n",
       "        }#T_a0731d82_c28d_11eb_a83f_51fb208d27f5row0_col2{\n",
       "            background-color:  #e8f466;\n",
       "            color:  #000000;\n",
       "        }#T_a0731d82_c28d_11eb_a83f_51fb208d27f5row1_col0{\n",
       "            background-color:  #fcfe66;\n",
       "            color:  #000000;\n",
       "        }#T_a0731d82_c28d_11eb_a83f_51fb208d27f5row1_col1{\n",
       "            background-color:  #f9fc66;\n",
       "            color:  #000000;\n",
       "        }#T_a0731d82_c28d_11eb_a83f_51fb208d27f5row1_col2{\n",
       "            background-color:  #fbfd66;\n",
       "            color:  #000000;\n",
       "        }#T_a0731d82_c28d_11eb_a83f_51fb208d27f5row2_col0,#T_a0731d82_c28d_11eb_a83f_51fb208d27f5row2_col1,#T_a0731d82_c28d_11eb_a83f_51fb208d27f5row2_col2{\n",
       "            background-color:  #edf666;\n",
       "            color:  #000000;\n",
       "        }#T_a0731d82_c28d_11eb_a83f_51fb208d27f5row3_col0,#T_a0731d82_c28d_11eb_a83f_51fb208d27f5row3_col1,#T_a0731d82_c28d_11eb_a83f_51fb208d27f5row3_col2,#T_a0731d82_c28d_11eb_a83f_51fb208d27f5row4_col0,#T_a0731d82_c28d_11eb_a83f_51fb208d27f5row4_col1,#T_a0731d82_c28d_11eb_a83f_51fb208d27f5row4_col2{\n",
       "            background-color:  #ffff66;\n",
       "            color:  #000000;\n",
       "        }#T_a0731d82_c28d_11eb_a83f_51fb208d27f5row5_col0,#T_a0731d82_c28d_11eb_a83f_51fb208d27f5row5_col2{\n",
       "            background-color:  #ebf566;\n",
       "            color:  #000000;\n",
       "        }#T_a0731d82_c28d_11eb_a83f_51fb208d27f5row5_col1{\n",
       "            background-color:  #ecf666;\n",
       "            color:  #000000;\n",
       "        }#T_a0731d82_c28d_11eb_a83f_51fb208d27f5row6_col0{\n",
       "            background-color:  #e7f366;\n",
       "            color:  #000000;\n",
       "        }#T_a0731d82_c28d_11eb_a83f_51fb208d27f5row6_col1{\n",
       "            background-color:  #c8e366;\n",
       "            color:  #000000;\n",
       "        }#T_a0731d82_c28d_11eb_a83f_51fb208d27f5row6_col2{\n",
       "            background-color:  #dbed66;\n",
       "            color:  #000000;\n",
       "        }#T_a0731d82_c28d_11eb_a83f_51fb208d27f5row7_col0{\n",
       "            background-color:  #d7eb66;\n",
       "            color:  #000000;\n",
       "        }#T_a0731d82_c28d_11eb_a83f_51fb208d27f5row7_col1{\n",
       "            background-color:  #c7e366;\n",
       "            color:  #000000;\n",
       "        }#T_a0731d82_c28d_11eb_a83f_51fb208d27f5row7_col2{\n",
       "            background-color:  #d1e866;\n",
       "            color:  #000000;\n",
       "        }#T_a0731d82_c28d_11eb_a83f_51fb208d27f5row8_col0{\n",
       "            background-color:  #7abc66;\n",
       "            color:  #000000;\n",
       "        }#T_a0731d82_c28d_11eb_a83f_51fb208d27f5row8_col1{\n",
       "            background-color:  #cee666;\n",
       "            color:  #000000;\n",
       "        }#T_a0731d82_c28d_11eb_a83f_51fb208d27f5row8_col2{\n",
       "            background-color:  #9acc66;\n",
       "            color:  #000000;\n",
       "        }#T_a0731d82_c28d_11eb_a83f_51fb208d27f5row9_col0,#T_a0731d82_c28d_11eb_a83f_51fb208d27f5row9_col1,#T_a0731d82_c28d_11eb_a83f_51fb208d27f5row9_col2{\n",
       "            background-color:  #008066;\n",
       "            color:  #f1f1f1;\n",
       "        }</style><table id=\"T_a0731d82_c28d_11eb_a83f_51fb208d27f5\" ><thead>    <tr>        <th class=\"blank\" ></th>        <th class=\"index_name level0\" >Survived</th>        <th class=\"col_heading level0 col0\" >0</th>        <th class=\"col_heading level0 col1\" >1</th>        <th class=\"col_heading level0 col2\" >All</th>    </tr>    <tr>        <th class=\"index_name level0\" >Embarked</th>        <th class=\"index_name level1\" >Pclass</th>        <th class=\"blank\" ></th>        <th class=\"blank\" ></th>        <th class=\"blank\" ></th>    </tr></thead><tbody>\n",
       "                <tr>\n",
       "                        <th id=\"T_a0731d82_c28d_11eb_a83f_51fb208d27f5level0_row0\" class=\"row_heading level0 row0\" rowspan=3>C</th>\n",
       "                        <th id=\"T_a0731d82_c28d_11eb_a83f_51fb208d27f5level1_row0\" class=\"row_heading level1 row0\" >1</th>\n",
       "                        <td id=\"T_a0731d82_c28d_11eb_a83f_51fb208d27f5row0_col0\" class=\"data row0 col0\" >26</td>\n",
       "                        <td id=\"T_a0731d82_c28d_11eb_a83f_51fb208d27f5row0_col1\" class=\"data row0 col1\" >59</td>\n",
       "                        <td id=\"T_a0731d82_c28d_11eb_a83f_51fb208d27f5row0_col2\" class=\"data row0 col2\" >85</td>\n",
       "            </tr>\n",
       "            <tr>\n",
       "                                <th id=\"T_a0731d82_c28d_11eb_a83f_51fb208d27f5level1_row1\" class=\"row_heading level1 row1\" >2</th>\n",
       "                        <td id=\"T_a0731d82_c28d_11eb_a83f_51fb208d27f5row1_col0\" class=\"data row1 col0\" >8</td>\n",
       "                        <td id=\"T_a0731d82_c28d_11eb_a83f_51fb208d27f5row1_col1\" class=\"data row1 col1\" >9</td>\n",
       "                        <td id=\"T_a0731d82_c28d_11eb_a83f_51fb208d27f5row1_col2\" class=\"data row1 col2\" >17</td>\n",
       "            </tr>\n",
       "            <tr>\n",
       "                                <th id=\"T_a0731d82_c28d_11eb_a83f_51fb208d27f5level1_row2\" class=\"row_heading level1 row2\" >3</th>\n",
       "                        <td id=\"T_a0731d82_c28d_11eb_a83f_51fb208d27f5row2_col0\" class=\"data row2 col0\" >41</td>\n",
       "                        <td id=\"T_a0731d82_c28d_11eb_a83f_51fb208d27f5row2_col1\" class=\"data row2 col1\" >25</td>\n",
       "                        <td id=\"T_a0731d82_c28d_11eb_a83f_51fb208d27f5row2_col2\" class=\"data row2 col2\" >66</td>\n",
       "            </tr>\n",
       "            <tr>\n",
       "                        <th id=\"T_a0731d82_c28d_11eb_a83f_51fb208d27f5level0_row3\" class=\"row_heading level0 row3\" rowspan=3>Q</th>\n",
       "                        <th id=\"T_a0731d82_c28d_11eb_a83f_51fb208d27f5level1_row3\" class=\"row_heading level1 row3\" >1</th>\n",
       "                        <td id=\"T_a0731d82_c28d_11eb_a83f_51fb208d27f5row3_col0\" class=\"data row3 col0\" >1</td>\n",
       "                        <td id=\"T_a0731d82_c28d_11eb_a83f_51fb208d27f5row3_col1\" class=\"data row3 col1\" >1</td>\n",
       "                        <td id=\"T_a0731d82_c28d_11eb_a83f_51fb208d27f5row3_col2\" class=\"data row3 col2\" >2</td>\n",
       "            </tr>\n",
       "            <tr>\n",
       "                                <th id=\"T_a0731d82_c28d_11eb_a83f_51fb208d27f5level1_row4\" class=\"row_heading level1 row4\" >2</th>\n",
       "                        <td id=\"T_a0731d82_c28d_11eb_a83f_51fb208d27f5row4_col0\" class=\"data row4 col0\" >1</td>\n",
       "                        <td id=\"T_a0731d82_c28d_11eb_a83f_51fb208d27f5row4_col1\" class=\"data row4 col1\" >2</td>\n",
       "                        <td id=\"T_a0731d82_c28d_11eb_a83f_51fb208d27f5row4_col2\" class=\"data row4 col2\" >3</td>\n",
       "            </tr>\n",
       "            <tr>\n",
       "                                <th id=\"T_a0731d82_c28d_11eb_a83f_51fb208d27f5level1_row5\" class=\"row_heading level1 row5\" >3</th>\n",
       "                        <td id=\"T_a0731d82_c28d_11eb_a83f_51fb208d27f5row5_col0\" class=\"data row5 col0\" >45</td>\n",
       "                        <td id=\"T_a0731d82_c28d_11eb_a83f_51fb208d27f5row5_col1\" class=\"data row5 col1\" >27</td>\n",
       "                        <td id=\"T_a0731d82_c28d_11eb_a83f_51fb208d27f5row5_col2\" class=\"data row5 col2\" >72</td>\n",
       "            </tr>\n",
       "            <tr>\n",
       "                        <th id=\"T_a0731d82_c28d_11eb_a83f_51fb208d27f5level0_row6\" class=\"row_heading level0 row6\" rowspan=3>S</th>\n",
       "                        <th id=\"T_a0731d82_c28d_11eb_a83f_51fb208d27f5level1_row6\" class=\"row_heading level1 row6\" >1</th>\n",
       "                        <td id=\"T_a0731d82_c28d_11eb_a83f_51fb208d27f5row6_col0\" class=\"data row6 col0\" >53</td>\n",
       "                        <td id=\"T_a0731d82_c28d_11eb_a83f_51fb208d27f5row6_col1\" class=\"data row6 col1\" >74</td>\n",
       "                        <td id=\"T_a0731d82_c28d_11eb_a83f_51fb208d27f5row6_col2\" class=\"data row6 col2\" >127</td>\n",
       "            </tr>\n",
       "            <tr>\n",
       "                                <th id=\"T_a0731d82_c28d_11eb_a83f_51fb208d27f5level1_row7\" class=\"row_heading level1 row7\" >2</th>\n",
       "                        <td id=\"T_a0731d82_c28d_11eb_a83f_51fb208d27f5row7_col0\" class=\"data row7 col0\" >88</td>\n",
       "                        <td id=\"T_a0731d82_c28d_11eb_a83f_51fb208d27f5row7_col1\" class=\"data row7 col1\" >76</td>\n",
       "                        <td id=\"T_a0731d82_c28d_11eb_a83f_51fb208d27f5row7_col2\" class=\"data row7 col2\" >164</td>\n",
       "            </tr>\n",
       "            <tr>\n",
       "                                <th id=\"T_a0731d82_c28d_11eb_a83f_51fb208d27f5level1_row8\" class=\"row_heading level1 row8\" >3</th>\n",
       "                        <td id=\"T_a0731d82_c28d_11eb_a83f_51fb208d27f5row8_col0\" class=\"data row8 col0\" >286</td>\n",
       "                        <td id=\"T_a0731d82_c28d_11eb_a83f_51fb208d27f5row8_col1\" class=\"data row8 col1\" >67</td>\n",
       "                        <td id=\"T_a0731d82_c28d_11eb_a83f_51fb208d27f5row8_col2\" class=\"data row8 col2\" >353</td>\n",
       "            </tr>\n",
       "            <tr>\n",
       "                        <th id=\"T_a0731d82_c28d_11eb_a83f_51fb208d27f5level0_row9\" class=\"row_heading level0 row9\" >All</th>\n",
       "                        <th id=\"T_a0731d82_c28d_11eb_a83f_51fb208d27f5level1_row9\" class=\"row_heading level1 row9\" ></th>\n",
       "                        <td id=\"T_a0731d82_c28d_11eb_a83f_51fb208d27f5row9_col0\" class=\"data row9 col0\" >549</td>\n",
       "                        <td id=\"T_a0731d82_c28d_11eb_a83f_51fb208d27f5row9_col1\" class=\"data row9 col1\" >340</td>\n",
       "                        <td id=\"T_a0731d82_c28d_11eb_a83f_51fb208d27f5row9_col2\" class=\"data row9 col2\" >889</td>\n",
       "            </tr>\n",
       "    </tbody></table>"
      ],
      "text/plain": [
       "<pandas.io.formats.style.Styler at 0x7f1adaea12b0>"
      ]
     },
     "execution_count": 193,
     "metadata": {},
     "output_type": "execute_result"
    }
   ],
   "source": [
    "pd.crosstab([data.Embarked,data.Pclass],data.Survived,margins=True).style.background_gradient(cmap='summer_r')"
   ]
  },
  {
   "cell_type": "code",
   "execution_count": 194,
   "metadata": {
    "ExecuteTime": {
     "end_time": "2021-06-01T03:58:31.824652Z",
     "start_time": "2021-06-01T03:58:31.553670Z"
    }
   },
   "outputs": [
    {
     "data": {
      "image/png": "[encoded data removed]",
      "text/plain": [
       "<Figure size 1440x360 with 2 Axes>"
      ]
     },
     "metadata": {
      "needs_background": "light"
     },
     "output_type": "display_data"
    }
   ],
   "source": [
    "f,ax=plt.subplots(1,2,figsize=(20,5))\n",
    "sns.countplot('Embarked',hue='Survived',data=data,ax=ax[0])\n",
    "ax[0].set_title('Embarked vs Survived')\n",
    "sns.countplot('Embarked',hue='Pclass',data=data,ax=ax[1])\n",
    "ax[1].set_title('Embarked vs Pclass')\n",
    "plt.subplots_adjust(wspace=0.2,hspace=0.5)\n",
    "plt.show()"
   ]
  },
  {
   "cell_type": "markdown",
   "metadata": {},
   "source": [
    "Pengamatan:\n",
    "1. Maksimal penumpang yang naik dari S. Mayoritas dari Pclass3.\n",
    "\n",
    "2. Penumpang dari C terlihat beruntung karena sebagian besar dari mereka selamat. Alasan untuk ini mungkin penyelamatan semua Penumpang Pclass1 dan Pclass2.\n",
    "\n",
    "3. Pelabuhan S adalah tempat mayoritas orang kaya naik. Peluang bertahan hidup masih rendah di sini, karena banyak penumpang dari Pclass3 sekitar 81% tidak selamat.\n",
    "\n",
    "4. Pelabuhan Q memiliki hampir 95% penumpang berasal dari Pclass3."
   ]
  },
  {
   "cell_type": "markdown",
   "metadata": {},
   "source": [
    "#### Initial vs Survived"
   ]
  },
  {
   "cell_type": "code",
   "execution_count": 195,
   "metadata": {
    "ExecuteTime": {
     "end_time": "2021-06-01T04:01:31.439192Z",
     "start_time": "2021-06-01T04:01:31.406320Z"
    }
   },
   "outputs": [
    {
     "data": {
      "text/html": [
       "<div>\n",
       "<style scoped>\n",
       "    .dataframe tbody tr th:only-of-type {\n",
       "        vertical-align: middle;\n",
       "    }\n",
       "\n",
       "    .dataframe tbody tr th {\n",
       "        vertical-align: top;\n",
       "    }\n",
       "\n",
       "    .dataframe thead th {\n",
       "        text-align: right;\n",
       "    }\n",
       "</style>\n",
       "<table border=\"1\" class=\"dataframe\">\n",
       "  <thead>\n",
       "    <tr style=\"text-align: right;\">\n",
       "      <th></th>\n",
       "      <th>Survived</th>\n",
       "      <th>Pclass</th>\n",
       "      <th>Sex</th>\n",
       "      <th>Age</th>\n",
       "      <th>SibSp</th>\n",
       "      <th>Parch</th>\n",
       "      <th>Fare</th>\n",
       "      <th>Embarked</th>\n",
       "      <th>Initial</th>\n",
       "    </tr>\n",
       "  </thead>\n",
       "  <tbody>\n",
       "    <tr>\n",
       "      <th>0</th>\n",
       "      <td>0</td>\n",
       "      <td>3</td>\n",
       "      <td>male</td>\n",
       "      <td>22.0</td>\n",
       "      <td>1</td>\n",
       "      <td>0</td>\n",
       "      <td>7.2500</td>\n",
       "      <td>S</td>\n",
       "      <td>Mr</td>\n",
       "    </tr>\n",
       "    <tr>\n",
       "      <th>1</th>\n",
       "      <td>1</td>\n",
       "      <td>1</td>\n",
       "      <td>female</td>\n",
       "      <td>38.0</td>\n",
       "      <td>1</td>\n",
       "      <td>0</td>\n",
       "      <td>71.2833</td>\n",
       "      <td>C</td>\n",
       "      <td>Mrs</td>\n",
       "    </tr>\n",
       "    <tr>\n",
       "      <th>2</th>\n",
       "      <td>1</td>\n",
       "      <td>3</td>\n",
       "      <td>female</td>\n",
       "      <td>26.0</td>\n",
       "      <td>0</td>\n",
       "      <td>0</td>\n",
       "      <td>7.9250</td>\n",
       "      <td>S</td>\n",
       "      <td>Miss</td>\n",
       "    </tr>\n",
       "    <tr>\n",
       "      <th>3</th>\n",
       "      <td>1</td>\n",
       "      <td>1</td>\n",
       "      <td>female</td>\n",
       "      <td>35.0</td>\n",
       "      <td>1</td>\n",
       "      <td>0</td>\n",
       "      <td>53.1000</td>\n",
       "      <td>S</td>\n",
       "      <td>Mrs</td>\n",
       "    </tr>\n",
       "    <tr>\n",
       "      <th>4</th>\n",
       "      <td>0</td>\n",
       "      <td>3</td>\n",
       "      <td>male</td>\n",
       "      <td>35.0</td>\n",
       "      <td>0</td>\n",
       "      <td>0</td>\n",
       "      <td>8.0500</td>\n",
       "      <td>S</td>\n",
       "      <td>Mr</td>\n",
       "    </tr>\n",
       "    <tr>\n",
       "      <th>...</th>\n",
       "      <td>...</td>\n",
       "      <td>...</td>\n",
       "      <td>...</td>\n",
       "      <td>...</td>\n",
       "      <td>...</td>\n",
       "      <td>...</td>\n",
       "      <td>...</td>\n",
       "      <td>...</td>\n",
       "      <td>...</td>\n",
       "    </tr>\n",
       "    <tr>\n",
       "      <th>886</th>\n",
       "      <td>0</td>\n",
       "      <td>2</td>\n",
       "      <td>male</td>\n",
       "      <td>27.0</td>\n",
       "      <td>0</td>\n",
       "      <td>0</td>\n",
       "      <td>13.0000</td>\n",
       "      <td>S</td>\n",
       "      <td>Other</td>\n",
       "    </tr>\n",
       "    <tr>\n",
       "      <th>887</th>\n",
       "      <td>1</td>\n",
       "      <td>1</td>\n",
       "      <td>female</td>\n",
       "      <td>19.0</td>\n",
       "      <td>0</td>\n",
       "      <td>0</td>\n",
       "      <td>30.0000</td>\n",
       "      <td>S</td>\n",
       "      <td>Miss</td>\n",
       "    </tr>\n",
       "    <tr>\n",
       "      <th>888</th>\n",
       "      <td>0</td>\n",
       "      <td>3</td>\n",
       "      <td>female</td>\n",
       "      <td>NaN</td>\n",
       "      <td>1</td>\n",
       "      <td>2</td>\n",
       "      <td>23.4500</td>\n",
       "      <td>S</td>\n",
       "      <td>Miss</td>\n",
       "    </tr>\n",
       "    <tr>\n",
       "      <th>889</th>\n",
       "      <td>1</td>\n",
       "      <td>1</td>\n",
       "      <td>male</td>\n",
       "      <td>26.0</td>\n",
       "      <td>0</td>\n",
       "      <td>0</td>\n",
       "      <td>30.0000</td>\n",
       "      <td>C</td>\n",
       "      <td>Mr</td>\n",
       "    </tr>\n",
       "    <tr>\n",
       "      <th>890</th>\n",
       "      <td>0</td>\n",
       "      <td>3</td>\n",
       "      <td>male</td>\n",
       "      <td>32.0</td>\n",
       "      <td>0</td>\n",
       "      <td>0</td>\n",
       "      <td>7.7500</td>\n",
       "      <td>Q</td>\n",
       "      <td>Mr</td>\n",
       "    </tr>\n",
       "  </tbody>\n",
       "</table>\n",
       "<p>891 rows × 9 columns</p>\n",
       "</div>"
      ],
      "text/plain": [
       "     Survived  Pclass     Sex   Age  SibSp  Parch     Fare Embarked Initial\n",
       "0           0       3    male  22.0      1      0   7.2500        S      Mr\n",
       "1           1       1  female  38.0      1      0  71.2833        C     Mrs\n",
       "2           1       3  female  26.0      0      0   7.9250        S    Miss\n",
       "3           1       1  female  35.0      1      0  53.1000        S     Mrs\n",
       "4           0       3    male  35.0      0      0   8.0500        S      Mr\n",
       "..        ...     ...     ...   ...    ...    ...      ...      ...     ...\n",
       "886         0       2    male  27.0      0      0  13.0000        S   Other\n",
       "887         1       1  female  19.0      0      0  30.0000        S    Miss\n",
       "888         0       3  female   NaN      1      2  23.4500        S    Miss\n",
       "889         1       1    male  26.0      0      0  30.0000        C      Mr\n",
       "890         0       3    male  32.0      0      0   7.7500        Q      Mr\n",
       "\n",
       "[891 rows x 9 columns]"
      ]
     },
     "execution_count": 195,
     "metadata": {},
     "output_type": "execute_result"
    }
   ],
   "source": [
    "data"
   ]
  },
  {
   "cell_type": "code",
   "execution_count": 196,
   "metadata": {
    "ExecuteTime": {
     "end_time": "2021-06-01T04:01:32.842217Z",
     "start_time": "2021-06-01T04:01:32.772702Z"
    }
   },
   "outputs": [
    {
     "data": {
      "text/html": [
       "<style  type=\"text/css\" >\n",
       "#T_0d40322e_c28e_11eb_a83f_51fb208d27f5row0_col0{\n",
       "            background-color:  #fbfd66;\n",
       "            color:  #000000;\n",
       "        }#T_0d40322e_c28e_11eb_a83f_51fb208d27f5row0_col1{\n",
       "            background-color:  #eff766;\n",
       "            color:  #000000;\n",
       "        }#T_0d40322e_c28e_11eb_a83f_51fb208d27f5row0_col2,#T_0d40322e_c28e_11eb_a83f_51fb208d27f5row3_col0{\n",
       "            background-color:  #f7fb66;\n",
       "            color:  #000000;\n",
       "        }#T_0d40322e_c28e_11eb_a83f_51fb208d27f5row1_col0{\n",
       "            background-color:  #e9f466;\n",
       "            color:  #000000;\n",
       "        }#T_0d40322e_c28e_11eb_a83f_51fb208d27f5row1_col1{\n",
       "            background-color:  #9ece66;\n",
       "            color:  #000000;\n",
       "        }#T_0d40322e_c28e_11eb_a83f_51fb208d27f5row1_col2{\n",
       "            background-color:  #cce666;\n",
       "            color:  #000000;\n",
       "        }#T_0d40322e_c28e_11eb_a83f_51fb208d27f5row2_col0{\n",
       "            background-color:  #329866;\n",
       "            color:  #000000;\n",
       "        }#T_0d40322e_c28e_11eb_a83f_51fb208d27f5row2_col1{\n",
       "            background-color:  #c0e066;\n",
       "            color:  #000000;\n",
       "        }#T_0d40322e_c28e_11eb_a83f_51fb208d27f5row2_col2{\n",
       "            background-color:  #69b466;\n",
       "            color:  #000000;\n",
       "        }#T_0d40322e_c28e_11eb_a83f_51fb208d27f5row3_col1{\n",
       "            background-color:  #b4da66;\n",
       "            color:  #000000;\n",
       "        }#T_0d40322e_c28e_11eb_a83f_51fb208d27f5row3_col2{\n",
       "            background-color:  #ddee66;\n",
       "            color:  #000000;\n",
       "        }#T_0d40322e_c28e_11eb_a83f_51fb208d27f5row4_col0,#T_0d40322e_c28e_11eb_a83f_51fb208d27f5row4_col1,#T_0d40322e_c28e_11eb_a83f_51fb208d27f5row4_col2{\n",
       "            background-color:  #ffff66;\n",
       "            color:  #000000;\n",
       "        }#T_0d40322e_c28e_11eb_a83f_51fb208d27f5row5_col0,#T_0d40322e_c28e_11eb_a83f_51fb208d27f5row5_col1,#T_0d40322e_c28e_11eb_a83f_51fb208d27f5row5_col2{\n",
       "            background-color:  #008066;\n",
       "            color:  #f1f1f1;\n",
       "        }</style><table id=\"T_0d40322e_c28e_11eb_a83f_51fb208d27f5\" ><thead>    <tr>        <th class=\"index_name level0\" >Survived</th>        <th class=\"col_heading level0 col0\" >0</th>        <th class=\"col_heading level0 col1\" >1</th>        <th class=\"col_heading level0 col2\" >All</th>    </tr>    <tr>        <th class=\"index_name level0\" >Initial</th>        <th class=\"blank\" ></th>        <th class=\"blank\" ></th>        <th class=\"blank\" ></th>    </tr></thead><tbody>\n",
       "                <tr>\n",
       "                        <th id=\"T_0d40322e_c28e_11eb_a83f_51fb208d27f5level0_row0\" class=\"row_heading level0 row0\" >Master</th>\n",
       "                        <td id=\"T_0d40322e_c28e_11eb_a83f_51fb208d27f5row0_col0\" class=\"data row0 col0\" >17</td>\n",
       "                        <td id=\"T_0d40322e_c28e_11eb_a83f_51fb208d27f5row0_col1\" class=\"data row0 col1\" >23</td>\n",
       "                        <td id=\"T_0d40322e_c28e_11eb_a83f_51fb208d27f5row0_col2\" class=\"data row0 col2\" >40</td>\n",
       "            </tr>\n",
       "            <tr>\n",
       "                        <th id=\"T_0d40322e_c28e_11eb_a83f_51fb208d27f5level0_row1\" class=\"row_heading level0 row1\" >Miss</th>\n",
       "                        <td id=\"T_0d40322e_c28e_11eb_a83f_51fb208d27f5row1_col0\" class=\"data row1 col0\" >55</td>\n",
       "                        <td id=\"T_0d40322e_c28e_11eb_a83f_51fb208d27f5row1_col1\" class=\"data row1 col1\" >131</td>\n",
       "                        <td id=\"T_0d40322e_c28e_11eb_a83f_51fb208d27f5row1_col2\" class=\"data row1 col2\" >186</td>\n",
       "            </tr>\n",
       "            <tr>\n",
       "                        <th id=\"T_0d40322e_c28e_11eb_a83f_51fb208d27f5level0_row2\" class=\"row_heading level0 row2\" >Mr</th>\n",
       "                        <td id=\"T_0d40322e_c28e_11eb_a83f_51fb208d27f5row2_col0\" class=\"data row2 col0\" >443</td>\n",
       "                        <td id=\"T_0d40322e_c28e_11eb_a83f_51fb208d27f5row2_col1\" class=\"data row2 col1\" >86</td>\n",
       "                        <td id=\"T_0d40322e_c28e_11eb_a83f_51fb208d27f5row2_col2\" class=\"data row2 col2\" >529</td>\n",
       "            </tr>\n",
       "            <tr>\n",
       "                        <th id=\"T_0d40322e_c28e_11eb_a83f_51fb208d27f5level0_row3\" class=\"row_heading level0 row3\" >Mrs</th>\n",
       "                        <td id=\"T_0d40322e_c28e_11eb_a83f_51fb208d27f5row3_col0\" class=\"data row3 col0\" >26</td>\n",
       "                        <td id=\"T_0d40322e_c28e_11eb_a83f_51fb208d27f5row3_col1\" class=\"data row3 col1\" >101</td>\n",
       "                        <td id=\"T_0d40322e_c28e_11eb_a83f_51fb208d27f5row3_col2\" class=\"data row3 col2\" >127</td>\n",
       "            </tr>\n",
       "            <tr>\n",
       "                        <th id=\"T_0d40322e_c28e_11eb_a83f_51fb208d27f5level0_row4\" class=\"row_heading level0 row4\" >Other</th>\n",
       "                        <td id=\"T_0d40322e_c28e_11eb_a83f_51fb208d27f5row4_col0\" class=\"data row4 col0\" >8</td>\n",
       "                        <td id=\"T_0d40322e_c28e_11eb_a83f_51fb208d27f5row4_col1\" class=\"data row4 col1\" >1</td>\n",
       "                        <td id=\"T_0d40322e_c28e_11eb_a83f_51fb208d27f5row4_col2\" class=\"data row4 col2\" >9</td>\n",
       "            </tr>\n",
       "            <tr>\n",
       "                        <th id=\"T_0d40322e_c28e_11eb_a83f_51fb208d27f5level0_row5\" class=\"row_heading level0 row5\" >All</th>\n",
       "                        <td id=\"T_0d40322e_c28e_11eb_a83f_51fb208d27f5row5_col0\" class=\"data row5 col0\" >549</td>\n",
       "                        <td id=\"T_0d40322e_c28e_11eb_a83f_51fb208d27f5row5_col1\" class=\"data row5 col1\" >342</td>\n",
       "                        <td id=\"T_0d40322e_c28e_11eb_a83f_51fb208d27f5row5_col2\" class=\"data row5 col2\" >891</td>\n",
       "            </tr>\n",
       "    </tbody></table>"
      ],
      "text/plain": [
       "<pandas.io.formats.style.Styler at 0x7f1ad848b460>"
      ]
     },
     "execution_count": 196,
     "metadata": {},
     "output_type": "execute_result"
    }
   ],
   "source": [
    "pd.crosstab(data.Initial,data.Survived,margins=True).style.background_gradient(cmap='summer_r')"
   ]
  },
  {
   "cell_type": "code",
   "execution_count": 197,
   "metadata": {
    "ExecuteTime": {
     "end_time": "2021-06-01T04:01:36.913235Z",
     "start_time": "2021-06-01T04:01:36.629210Z"
    }
   },
   "outputs": [
    {
     "data": {
      "image/png": "[encoded data removed]",
      "text/plain": [
       "<Figure size 360x216 with 1 Axes>"
      ]
     },
     "metadata": {
      "needs_background": "light"
     },
     "output_type": "display_data"
    }
   ],
   "source": [
    "sns.factorplot('Initial','Survived',data=data)\n",
    "fig=plt.gcf()\n",
    "fig.set_size_inches(5,3)\n",
    "plt.show()"
   ]
  },
  {
   "cell_type": "markdown",
   "metadata": {},
   "source": [
    "Hasilnya menunjukkan hasil yang serupa, inisial untuk wanita memiliki tingkat kelangsungan hidup yang lebih tinggi. Namun kami mendapat temuan baru, hal ini menunjukkan bahwa inisial untuk anak (master) memiliki tingkat kelangsungan hidup yang cukup tinggi."
   ]
  },
  {
   "cell_type": "markdown",
   "metadata": {},
   "source": [
    "### Numeric to Categorical"
   ]
  },
  {
   "cell_type": "markdown",
   "metadata": {},
   "source": [
    "Seperti yang telah dijelaskan sebelumnya, kita dapat melakukan uji chi-squared untuk mengetahui signifikansi korelasi antara dua variabel kategori. \n",
    "\n",
    "Nah, jika kita ingin menguji korelasi antara variabel kategorikal dan numerik, kita dapat melakukan uji ANNOVA.\n",
    "\n",
    "Kali ini kita hanya akan menitikberatkan pengamatan korelasi berdasarkan analisis visual. Untuk melakukannya, kita dapat membuat boxplot/histogram/distplot yang dikelompokkan serta plot biola untuk menunjukkan distribusi kuantitatif yang berbeda di antara setiap kategori."
   ]
  },
  {
   "cell_type": "markdown",
   "metadata": {},
   "source": [
    "#### Age and Initial"
   ]
  },
  {
   "cell_type": "code",
   "execution_count": 198,
   "metadata": {
    "ExecuteTime": {
     "end_time": "2021-06-01T04:18:26.565747Z",
     "start_time": "2021-06-01T04:18:26.406345Z"
    }
   },
   "outputs": [
    {
     "data": {
      "text/plain": [
       "<AxesSubplot:xlabel='Initial', ylabel='Age'>"
      ]
     },
     "execution_count": 198,
     "metadata": {},
     "output_type": "execute_result"
    },
    {
     "data": {
      "image/png": "[encoded data removed]",
      "text/plain": [
       "<Figure size 432x288 with 1 Axes>"
      ]
     },
     "metadata": {
      "needs_background": "light"
     },
     "output_type": "display_data"
    }
   ],
   "source": [
    "sns.boxplot(x='Initial', y='Age', data=data)"
   ]
  },
  {
   "cell_type": "code",
   "execution_count": null,
   "metadata": {
    "ExecuteTime": {
     "end_time": "2021-06-01T03:11:38.511197Z",
     "start_time": "2021-06-01T03:11:38.499553Z"
    }
   },
   "outputs": [],
   "source": [
    "from scipy.stats import f_oneway\n",
    "\n",
    "grp = data.groupby(\"Pclass\").groups\n",
    "f_oneway(data.Age[grp[1]], data.Age[grp[2]], data.Age[grp[3]])\n"
   ]
  },
  {
   "cell_type": "markdown",
   "metadata": {},
   "source": [
    "Kita dapat melihat dari boxplot bahwa Master adalah inisial untuk anak dan miss adalah inisial untuk orang yang lebih muda (mungkin wanita)"
   ]
  },
  {
   "cell_type": "code",
   "execution_count": 199,
   "metadata": {
    "ExecuteTime": {
     "end_time": "2021-06-01T04:18:36.318595Z",
     "start_time": "2021-06-01T04:18:36.169655Z"
    }
   },
   "outputs": [
    {
     "data": {
      "text/plain": [
       "<AxesSubplot:xlabel='Initial', ylabel='count'>"
      ]
     },
     "execution_count": 199,
     "metadata": {},
     "output_type": "execute_result"
    },
    {
     "data": {
      "image/png": "[encoded data removed]",
      "text/plain": [
       "<Figure size 432x288 with 1 Axes>"
      ]
     },
     "metadata": {
      "needs_background": "light"
     },
     "output_type": "display_data"
    }
   ],
   "source": [
    "sns.countplot('Initial',hue='Sex',data=data)"
   ]
  },
  {
   "cell_type": "markdown",
   "metadata": {},
   "source": [
    "Kita dapat menggunakan info korelasi ini untuk memasukkan nilai yang hilang di kolom Age. Kita akan menggunakan nilai rata-rata usia dari setiap kelompok Initial."
   ]
  },
  {
   "cell_type": "code",
   "execution_count": 206,
   "metadata": {
    "ExecuteTime": {
     "end_time": "2021-06-01T04:22:25.154339Z",
     "start_time": "2021-06-01T04:22:25.134423Z"
    }
   },
   "outputs": [
    {
     "name": "stdout",
     "output_type": "stream",
     "text": [
      "{'Master': 5.0, 'Miss': 22.0, 'Mr': 33.0, 'Mrs': 36.0, 'Other': 46.0}\n"
     ]
    },
    {
     "data": {
      "text/plain": [
       "False"
      ]
     },
     "execution_count": 206,
     "metadata": {},
     "output_type": "execute_result"
    }
   ],
   "source": [
    "map_dict = data.groupby('Initial')['Age'].mean().round().to_dict()\n",
    "print(map_dict)\n",
    "\n",
    "for initial in map_dict.keys():\n",
    "    data.loc[(data.Age.isnull())&(data.Initial==initial),'Age']=map_dict[initial]\n",
    "\n",
    "data.Age.isnull().any()"
   ]
  },
  {
   "cell_type": "code",
   "execution_count": 251,
   "metadata": {
    "ExecuteTime": {
     "end_time": "2021-06-01T04:31:09.988052Z",
     "start_time": "2021-06-01T04:31:09.971018Z"
    },
    "scrolled": true
   },
   "outputs": [
    {
     "data": {
      "text/html": [
       "<div>\n",
       "<style scoped>\n",
       "    .dataframe tbody tr th:only-of-type {\n",
       "        vertical-align: middle;\n",
       "    }\n",
       "\n",
       "    .dataframe tbody tr th {\n",
       "        vertical-align: top;\n",
       "    }\n",
       "\n",
       "    .dataframe thead th {\n",
       "        text-align: right;\n",
       "    }\n",
       "</style>\n",
       "<table border=\"1\" class=\"dataframe\">\n",
       "  <thead>\n",
       "    <tr style=\"text-align: right;\">\n",
       "      <th></th>\n",
       "      <th>Survived</th>\n",
       "      <th>Pclass</th>\n",
       "      <th>Sex</th>\n",
       "      <th>Age</th>\n",
       "      <th>SibSp</th>\n",
       "      <th>Parch</th>\n",
       "      <th>Fare</th>\n",
       "      <th>Embarked</th>\n",
       "      <th>Initial</th>\n",
       "    </tr>\n",
       "  </thead>\n",
       "  <tbody>\n",
       "    <tr>\n",
       "      <th>0</th>\n",
       "      <td>0</td>\n",
       "      <td>3</td>\n",
       "      <td>male</td>\n",
       "      <td>22.0</td>\n",
       "      <td>1</td>\n",
       "      <td>0</td>\n",
       "      <td>7.2500</td>\n",
       "      <td>S</td>\n",
       "      <td>Mr</td>\n",
       "    </tr>\n",
       "    <tr>\n",
       "      <th>1</th>\n",
       "      <td>1</td>\n",
       "      <td>1</td>\n",
       "      <td>female</td>\n",
       "      <td>38.0</td>\n",
       "      <td>1</td>\n",
       "      <td>0</td>\n",
       "      <td>71.2833</td>\n",
       "      <td>C</td>\n",
       "      <td>Mrs</td>\n",
       "    </tr>\n",
       "    <tr>\n",
       "      <th>2</th>\n",
       "      <td>1</td>\n",
       "      <td>3</td>\n",
       "      <td>female</td>\n",
       "      <td>26.0</td>\n",
       "      <td>0</td>\n",
       "      <td>0</td>\n",
       "      <td>7.9250</td>\n",
       "      <td>S</td>\n",
       "      <td>Miss</td>\n",
       "    </tr>\n",
       "    <tr>\n",
       "      <th>3</th>\n",
       "      <td>1</td>\n",
       "      <td>1</td>\n",
       "      <td>female</td>\n",
       "      <td>35.0</td>\n",
       "      <td>1</td>\n",
       "      <td>0</td>\n",
       "      <td>53.1000</td>\n",
       "      <td>S</td>\n",
       "      <td>Mrs</td>\n",
       "    </tr>\n",
       "    <tr>\n",
       "      <th>4</th>\n",
       "      <td>0</td>\n",
       "      <td>3</td>\n",
       "      <td>male</td>\n",
       "      <td>35.0</td>\n",
       "      <td>0</td>\n",
       "      <td>0</td>\n",
       "      <td>8.0500</td>\n",
       "      <td>S</td>\n",
       "      <td>Mr</td>\n",
       "    </tr>\n",
       "    <tr>\n",
       "      <th>...</th>\n",
       "      <td>...</td>\n",
       "      <td>...</td>\n",
       "      <td>...</td>\n",
       "      <td>...</td>\n",
       "      <td>...</td>\n",
       "      <td>...</td>\n",
       "      <td>...</td>\n",
       "      <td>...</td>\n",
       "      <td>...</td>\n",
       "    </tr>\n",
       "    <tr>\n",
       "      <th>886</th>\n",
       "      <td>0</td>\n",
       "      <td>2</td>\n",
       "      <td>male</td>\n",
       "      <td>27.0</td>\n",
       "      <td>0</td>\n",
       "      <td>0</td>\n",
       "      <td>13.0000</td>\n",
       "      <td>S</td>\n",
       "      <td>Other</td>\n",
       "    </tr>\n",
       "    <tr>\n",
       "      <th>887</th>\n",
       "      <td>1</td>\n",
       "      <td>1</td>\n",
       "      <td>female</td>\n",
       "      <td>19.0</td>\n",
       "      <td>0</td>\n",
       "      <td>0</td>\n",
       "      <td>30.0000</td>\n",
       "      <td>S</td>\n",
       "      <td>Miss</td>\n",
       "    </tr>\n",
       "    <tr>\n",
       "      <th>888</th>\n",
       "      <td>0</td>\n",
       "      <td>3</td>\n",
       "      <td>female</td>\n",
       "      <td>NaN</td>\n",
       "      <td>1</td>\n",
       "      <td>2</td>\n",
       "      <td>23.4500</td>\n",
       "      <td>S</td>\n",
       "      <td>Miss</td>\n",
       "    </tr>\n",
       "    <tr>\n",
       "      <th>889</th>\n",
       "      <td>1</td>\n",
       "      <td>1</td>\n",
       "      <td>male</td>\n",
       "      <td>26.0</td>\n",
       "      <td>0</td>\n",
       "      <td>0</td>\n",
       "      <td>30.0000</td>\n",
       "      <td>C</td>\n",
       "      <td>Mr</td>\n",
       "    </tr>\n",
       "    <tr>\n",
       "      <th>890</th>\n",
       "      <td>0</td>\n",
       "      <td>3</td>\n",
       "      <td>male</td>\n",
       "      <td>32.0</td>\n",
       "      <td>0</td>\n",
       "      <td>0</td>\n",
       "      <td>7.7500</td>\n",
       "      <td>Q</td>\n",
       "      <td>Mr</td>\n",
       "    </tr>\n",
       "  </tbody>\n",
       "</table>\n",
       "<p>891 rows × 9 columns</p>\n",
       "</div>"
      ],
      "text/plain": [
       "     Survived  Pclass     Sex   Age  SibSp  Parch     Fare Embarked Initial\n",
       "0           0       3    male  22.0      1      0   7.2500        S      Mr\n",
       "1           1       1  female  38.0      1      0  71.2833        C     Mrs\n",
       "2           1       3  female  26.0      0      0   7.9250        S    Miss\n",
       "3           1       1  female  35.0      1      0  53.1000        S     Mrs\n",
       "4           0       3    male  35.0      0      0   8.0500        S      Mr\n",
       "..        ...     ...     ...   ...    ...    ...      ...      ...     ...\n",
       "886         0       2    male  27.0      0      0  13.0000        S   Other\n",
       "887         1       1  female  19.0      0      0  30.0000        S    Miss\n",
       "888         0       3  female   NaN      1      2  23.4500        S    Miss\n",
       "889         1       1    male  26.0      0      0  30.0000        C      Mr\n",
       "890         0       3    male  32.0      0      0   7.7500        Q      Mr\n",
       "\n",
       "[891 rows x 9 columns]"
      ]
     },
     "execution_count": 251,
     "metadata": {},
     "output_type": "execute_result"
    }
   ],
   "source": [
    "data"
   ]
  },
  {
   "cell_type": "code",
   "execution_count": 269,
   "metadata": {
    "ExecuteTime": {
     "end_time": "2021-06-01T04:34:49.901689Z",
     "start_time": "2021-06-01T04:34:49.880878Z"
    }
   },
   "outputs": [
    {
     "data": {
      "text/plain": [
       "0      33.0\n",
       "1      36.0\n",
       "2      22.0\n",
       "3      36.0\n",
       "4      33.0\n",
       "       ... \n",
       "886    46.0\n",
       "887    22.0\n",
       "888    22.0\n",
       "889    33.0\n",
       "890    33.0\n",
       "Length: 891, dtype: float64"
      ]
     },
     "execution_count": 269,
     "metadata": {},
     "output_type": "execute_result"
    }
   ],
   "source": [
    "data.apply(lambda x: map_dict[x.Initial], axis=1)\n",
    "\n",
    "# data.Age.isna().sum()"
   ]
  },
  {
   "cell_type": "code",
   "execution_count": 232,
   "metadata": {
    "ExecuteTime": {
     "end_time": "2021-06-01T04:27:00.725062Z",
     "start_time": "2021-06-01T04:27:00.721492Z"
    }
   },
   "outputs": [
    {
     "data": {
      "text/plain": [
       "nan"
      ]
     },
     "execution_count": 232,
     "metadata": {},
     "output_type": "execute_result"
    }
   ],
   "source": [
    "data.Age[888]"
   ]
  },
  {
   "cell_type": "markdown",
   "metadata": {},
   "source": [
    "#### Age and Survived"
   ]
  },
  {
   "cell_type": "code",
   "execution_count": null,
   "metadata": {
    "ExecuteTime": {
     "end_time": "2021-06-01T02:37:54.557616Z",
     "start_time": "2021-06-01T02:37:54.443592Z"
    }
   },
   "outputs": [],
   "source": [
    "sns.boxplot(x='Survived', y='Age', data=data)"
   ]
  },
  {
   "cell_type": "code",
   "execution_count": null,
   "metadata": {
    "ExecuteTime": {
     "end_time": "2021-06-01T02:37:55.555592Z",
     "start_time": "2021-06-01T02:37:55.290596Z"
    }
   },
   "outputs": [],
   "source": [
    "target_0 = data.loc[data['Survived'] == 0]\n",
    "target_1 = data.loc[data['Survived'] == 1]\n",
    "\n",
    "sns.distplot(target_0[['Age']], hist=False, rug=True)\n",
    "sns.distplot(target_1[['Age']], hist=False, rug=True)\n"
   ]
  },
  {
   "cell_type": "markdown",
   "metadata": {},
   "source": [
    "We can't conclude any correlation between age and survived from the boxplot\n",
    "\n",
    "We can see from the distplot that a kid until 10 years old, has higher survival rate that others who older that them. It is shown as the red distribution line is higher on that age range. We can make a new feature to flag person as a child <= 10 years old."
   ]
  },
  {
   "cell_type": "markdown",
   "metadata": {},
   "source": [
    "#### Fare and Survived"
   ]
  },
  {
   "cell_type": "code",
   "execution_count": null,
   "metadata": {
    "ExecuteTime": {
     "end_time": "2021-06-01T02:37:56.971037Z",
     "start_time": "2021-06-01T02:37:56.869191Z"
    }
   },
   "outputs": [],
   "source": [
    "sns.boxplot(x='Survived', y='Fare', data=data)"
   ]
  },
  {
   "cell_type": "code",
   "execution_count": null,
   "metadata": {
    "ExecuteTime": {
     "end_time": "2021-06-01T02:37:58.092416Z",
     "start_time": "2021-06-01T02:37:57.666363Z"
    }
   },
   "outputs": [],
   "source": [
    "target_0 = data.loc[(data['Survived'] == 0) & (data['Pclass'] == 1)]\n",
    "target_1 = data.loc[(data['Survived'] == 0) & (data['Pclass'] == 2)]\n",
    "target_2 = data.loc[(data['Survived'] == 0) & (data['Pclass'] == 3)]\n",
    "target_3 = data.loc[(data['Survived'] == 1) & (data['Pclass'] == 1)]\n",
    "target_4 = data.loc[(data['Survived'] == 1) & (data['Pclass'] == 2)]\n",
    "target_5 = data.loc[(data['Survived'] == 1) & (data['Pclass'] == 3)]\n",
    "\n",
    "\n",
    "f,ax=plt.subplots(1,3,figsize=(20,5),sharey=True)\n",
    "sns.distplot(target_0[['Fare']], hist=False, rug=True, ax=ax[0])\n",
    "# ax[0,0].set_title('Pclass 1 Not Survive')\n",
    "sns.distplot(target_1[['Fare']], hist=False, rug=True, ax=ax[1])\n",
    "# ax[0,1].set_title('Pclass 2 Not Survive')\n",
    "sns.distplot(target_2[['Fare']], hist=False, rug=True, ax=ax[2])\n",
    "# ax[0,2].set_title('Pclass 2 Not Survive')\n",
    "sns.distplot(target_3[['Fare']], hist=False, rug=True, ax=ax[0])\n",
    "# ax[1,0].set_title('Pclass 1 Survive')\n",
    "sns.distplot(target_4[['Fare']], hist=False, rug=True, ax=ax[1])\n",
    "# ax[1,1].set_title('Pclass 2 Survive')\n",
    "sns.distplot(target_5[['Fare']], hist=False, rug=True, ax=ax[2])\n",
    "# ax[1,2].set_title('Pclass 3 Survive')\n",
    "plt.subplots_adjust(wspace=0.2,hspace=0.5)\n",
    "plt.show()"
   ]
  },
  {
   "cell_type": "markdown",
   "metadata": {},
   "source": [
    "Higher the fare, higher the survived rate, as can be seen on higher density of red line when the fare becomes higher. As our knowledge before, PClass 1 is the most expensive class and PClass 3 is the lowest class ticket"
   ]
  },
  {
   "cell_type": "markdown",
   "metadata": {},
   "source": [
    "#### SibSp and Survived\n",
    "This feature represents whether a person is alone or with his family members.\n",
    "Sibling = brother, sister, stepbrother, stepsister\n",
    "Spouse = husband, wife\n",
    "\n",
    "even though this variable is a discrete numeric variable, we can do the same visual analysis with factor plot since this varible has small range of value"
   ]
  },
  {
   "cell_type": "code",
   "execution_count": null,
   "metadata": {
    "ExecuteTime": {
     "end_time": "2021-06-01T02:37:59.737719Z",
     "start_time": "2021-06-01T02:37:59.349372Z"
    }
   },
   "outputs": [],
   "source": [
    "sns.factorplot('SibSp','Survived', data=data)"
   ]
  },
  {
   "cell_type": "markdown",
   "metadata": {},
   "source": [
    "The factorplot shows that if a passenger is alone onboard with no siblings, he have 34.5% survival rate. The graph roughly decreases if the number of siblings increase. This makes sense. That is, if I have a family on board, I will try to save them instead of saving myself first. Surprisingly the survival for families with 5-8 members is 0%. The reason may be Pclass??"
   ]
  },
  {
   "cell_type": "code",
   "execution_count": null,
   "metadata": {
    "ExecuteTime": {
     "end_time": "2021-06-01T02:38:00.899472Z",
     "start_time": "2021-06-01T02:38:00.871891Z"
    }
   },
   "outputs": [],
   "source": [
    "pd.crosstab([data.Pclass,data.Survived],data.SibSp).style.background_gradient(cmap='summer_r')"
   ]
  },
  {
   "cell_type": "markdown",
   "metadata": {},
   "source": [
    "The reason is Pclass. The crosstab shows that Person with SibSp>3 were all in Pclass3. It is imminent that all the large families in Pclass3(>3) died."
   ]
  },
  {
   "cell_type": "markdown",
   "metadata": {},
   "source": [
    "#### Parch and Survived"
   ]
  },
  {
   "cell_type": "code",
   "execution_count": null,
   "metadata": {
    "ExecuteTime": {
     "end_time": "2021-06-01T02:38:02.785309Z",
     "start_time": "2021-06-01T02:38:02.479502Z"
    }
   },
   "outputs": [],
   "source": [
    "sns.factorplot('Parch','Survived',data=data,ax=ax[1])\n",
    "plt.show()"
   ]
  },
  {
   "cell_type": "markdown",
   "metadata": {},
   "source": [
    "Here too the results are quite similar. Passengers with their parents/childs onboard have greater chance of survival. It however reduces as the number goes up.\n",
    "\n",
    "The chances of survival is good for somebody who has 1-3 parents/childs on the ship. Being alone also proves to be fatal and the chances for survival decreases when somebody has >4 parents/childs on the ship."
   ]
  },
  {
   "cell_type": "markdown",
   "metadata": {},
   "source": [
    "#### Parch + SibSp"
   ]
  },
  {
   "cell_type": "code",
   "execution_count": null,
   "metadata": {
    "ExecuteTime": {
     "end_time": "2021-06-01T02:38:04.958553Z",
     "start_time": "2021-06-01T02:38:04.510896Z"
    }
   },
   "outputs": [],
   "source": [
    "data['SibPar'] = data['SibSp'] + data['Parch']\n",
    "sns.factorplot('SibPar','Survived',data=data,ax=ax[1])\n",
    "plt.show()"
   ]
  },
  {
   "cell_type": "markdown",
   "metadata": {},
   "source": [
    "### Two Numerical"
   ]
  },
  {
   "cell_type": "markdown",
   "metadata": {},
   "source": [
    "Contingency tables are useful when both variables are qualitative, whereas if we want to show correlation between Scatter two quantitative varible, scatter plot is proven to be effective.\n",
    "\n",
    "Graphs are nice, but if we need a numerical indicator that can tell us whether our variables are correlated, we need a statistical approach to do so. As the other pairs of variable type, we can use the Pearson’s correlation coefficient to shows us how high the correlation between the two variables.\n",
    "\n",
    "Strong correlation?\n",
    "\n",
    "![](http://www.uow.edu.au/content/groups/public/@web/@stsv/documents/mm/uow153493.gif)"
   ]
  },
  {
   "cell_type": "code",
   "execution_count": null,
   "metadata": {
    "ExecuteTime": {
     "end_time": "2021-06-01T03:16:02.428466Z",
     "start_time": "2021-06-01T03:16:02.021718Z"
    }
   },
   "outputs": [],
   "source": [
    "sns.heatmap(data.corr(),annot=True,cmap='RdYlGn',linewidths=0.2) #data.corr()-->correlation matrix\n",
    "fig=plt.gcf()\n",
    "fig.set_size_inches(10,8)\n",
    "plt.show()"
   ]
  },
  {
   "cell_type": "markdown",
   "metadata": {},
   "source": [
    "Interpreting The Heatmap\n",
    "The first thing to note is that only the numeric features are compared as it is obvious that we cannot correlate between alphabets or strings. Before understanding the plot, let us see what exactly correlation is.\n",
    "\n",
    "**POSITIVE CORRELATION**: If an increase in feature A leads to increase in feature B, then they are positively correlated. A value 1 means perfect positive correlation.\n",
    "\n",
    "**NEGATIVE CORRELATION**: If an increase in feature A leads to decrease in feature B, then they are negatively correlated. A value -1 means perfect negative correlation.\n",
    "\n",
    "Now lets say that two features are highly or perfectly correlated, so the increase in one leads to increase in the other. This means that both the features are containing highly similar information and there is very little or no variance in information. This is known as MultiColinearity as both of them contains almost the same information.\n",
    "\n",
    "So do you think we should use both of them as one of them is redundant. While making or training models, we should try to eliminate redundant features as it reduces training time and many such advantages.\n",
    "\n",
    "Now from the above heatmap,we can see that the features are not much correlated. The highest correlation is between SibSp and Parch i.e 0.41. So we can carry on with all features."
   ]
  },
  {
   "cell_type": "markdown",
   "metadata": {},
   "source": [
    "### Observations in a Nutshell for all features:\n",
    "**Sex**: The chance of survival for women is high as compared to men.\n",
    "\n",
    "**Pclass**:There is a visible trend that being a 1st class passenger gives you better chances of survival. The survival rate for Pclass3 is very low. For women, the chance of survival from Pclass1 is almost 1 and is high too for those from Pclass2. Money Wins!!!.\n",
    "\n",
    "**Age**: Children less than 5-10 years do have a high chance of survival. Passengers between age group 15 to 35 died a lot.\n",
    "\n",
    "**Embarked**: This is a very interesting feature. The chances of survival at C looks to be better than even though the majority of Pclass1 passengers got up at S. Passengers at Q were all from Pclass3.\n",
    "\n",
    "**Parch+SibSp**: Having 1-2 siblings,spouse on board or 1-3 Parents shows a greater chance of probablity rather than being alone or having a large family travelling with you."
   ]
  },
  {
   "cell_type": "code",
   "execution_count": null,
   "metadata": {},
   "outputs": [],
   "source": [
    "sns.kdeplot(data.Age, cumulative=True)"
   ]
  },
  {
   "cell_type": "markdown",
   "metadata": {},
   "source": [
    "## Multivariate Analysis"
   ]
  },
  {
   "cell_type": "markdown",
   "metadata": {},
   "source": [
    "we are going to go one step further and study the relationship between 3 or more variables at the same time. This is called multivariate exploratory analysis.\n",
    "\n",
    "On a paper or on a screen, it is easy to make a graph with 2 dimensions. It would have 2 axes: one horizontal and one vertical, as shown in the scatterplot above.\n",
    "\n",
    "In 3 dimensions, depth is added. Here, we can still manage to visualize our data - just imagine a room full of ping pong balls. But what happens when we move to 4 dimensions? It comes very hard for the human brain to imagine. Fortunately, in statistics, we have techniques that work with a large number of dimensions. These techniques can also be used to reduce the number of dimensions to something that works better on a human scale. In this course, we are going to be looking at these techniques.\n",
    "\n",
    "- Dimensionality reduction Technique - Principal Component Analysis (PCA)<br>\n",
    "PCA lets you reduce the number of variables by finding new variables that combine the essence of several others. Finding such variables allows us to replace several  columns  in a table with just a few. In so doing, we will lose a little information, but we can make an informed choice by weighing up the benefit of simplifying the data against the downside of the lost information."
   ]
  },
  {
   "cell_type": "code",
   "execution_count": null,
   "metadata": {
    "ExecuteTime": {
     "end_time": "2021-06-01T03:16:48.882257Z",
     "start_time": "2021-06-01T03:16:48.011941Z"
    }
   },
   "outputs": [],
   "source": [
    "data['Embarked'] = data['Embarked'].fillna('S')\n",
    "data['Sex'] = data.Sex.map({'male':0,'female':1})\n",
    "\n",
    "from sklearn.preprocessing import OneHotEncoder\n",
    "embEncoder = OneHotEncoder()\n",
    "\n",
    "transformed = embEncoder.fit_transform(data.Embarked.to_numpy().reshape(-1,1))\n",
    "ohe_df = pd.DataFrame(transformed.toarray(), columns=embEncoder.get_feature_names()).iloc[:,:-1]\n",
    "data = pd.concat([data, ohe_df], axis=1).drop(['Embarked'], axis=1)\n",
    "data.head()"
   ]
  },
  {
   "cell_type": "code",
   "execution_count": null,
   "metadata": {
    "ExecuteTime": {
     "end_time": "2021-06-01T03:16:49.429587Z",
     "start_time": "2021-06-01T03:16:49.391882Z"
    }
   },
   "outputs": [],
   "source": [
    "intEncoder = OneHotEncoder()\n",
    "transformed = intEncoder.fit_transform(data.Initial.to_numpy().reshape(-1,1))\n",
    "ohe_df = pd.DataFrame(transformed.toarray(), columns=intEncoder.get_feature_names()).iloc[:,:-1]\n",
    "data = pd.concat([data, ohe_df], axis=1).drop(['Initial'], axis=1)\n",
    "data.head()"
   ]
  },
  {
   "cell_type": "code",
   "execution_count": null,
   "metadata": {
    "ExecuteTime": {
     "end_time": "2021-06-01T03:16:50.406235Z",
     "start_time": "2021-06-01T03:16:50.390989Z"
    }
   },
   "outputs": [],
   "source": [
    "from sklearn.preprocessing import MinMaxScaler\n",
    "\n",
    "minMax = MinMaxScaler()\n",
    "data['Age'] = minMax.fit_transform(data.Age.to_numpy().reshape(-1,1))\n",
    "data['Fare'] = minMax.fit_transform(data.Fare.to_numpy().reshape(-1,1))\n",
    "data.head()"
   ]
  },
  {
   "cell_type": "code",
   "execution_count": null,
   "metadata": {
    "ExecuteTime": {
     "end_time": "2021-06-01T03:16:52.064117Z",
     "start_time": "2021-06-01T03:16:51.500246Z"
    }
   },
   "outputs": [],
   "source": [
    "from sklearn.decomposition import PCA\n",
    "\n",
    "try_pca = PCA().fit(data.iloc[:,1:])\n",
    "plt.plot(np.cumsum(try_pca.explained_variance_ratio_))\n",
    "plt.xlabel('number of components')\n",
    "plt.ylabel('cumulative explained variance')"
   ]
  },
  {
   "cell_type": "code",
   "execution_count": null,
   "metadata": {
    "ExecuteTime": {
     "end_time": "2021-06-01T03:16:53.445030Z",
     "start_time": "2021-06-01T03:16:53.329175Z"
    }
   },
   "outputs": [],
   "source": [
    "pca_obj = PCA(n_components=2)\n",
    "hasil = pca_obj.fit_transform(data.iloc[:,1:])\n",
    "hasil_pca = pd.concat([pd.DataFrame(hasil,columns=['Pca1','Pca2']),data['Survived']], axis = 1)\n",
    "hasil_pca.head()"
   ]
  },
  {
   "cell_type": "code",
   "execution_count": null,
   "metadata": {
    "ExecuteTime": {
     "end_time": "2021-06-01T03:16:54.508579Z",
     "start_time": "2021-06-01T03:16:54.288458Z"
    }
   },
   "outputs": [],
   "source": [
    "plt.scatter(hasil_pca['Pca1'], hasil_pca['Pca2'],\n",
    "            c=hasil_pca['Survived'], edgecolor='none', alpha=0.5,\n",
    "            cmap=plt.cm.get_cmap('inferno', 2))\n",
    "plt.xlabel('component 1')\n",
    "plt.ylabel('component 2')\n",
    "plt.colorbar();"
   ]
  },
  {
   "cell_type": "code",
   "execution_count": null,
   "metadata": {
    "ExecuteTime": {
     "end_time": "2021-06-01T03:16:55.341527Z",
     "start_time": "2021-06-01T03:16:55.328127Z"
    }
   },
   "outputs": [],
   "source": [
    "pca_obj = PCA(n_components=3)\n",
    "hasil = pca_obj.fit_transform(data.iloc[:,1:])\n",
    "hasil_pca = pd.concat([pd.DataFrame(hasil,columns=['Pca1','Pca2','Pca3']),data['Survived']], axis = 1)\n",
    "hasil_pca.head()"
   ]
  },
  {
   "cell_type": "code",
   "execution_count": null,
   "metadata": {
    "ExecuteTime": {
     "end_time": "2021-06-01T03:16:56.474700Z",
     "start_time": "2021-06-01T03:16:56.235039Z"
    }
   },
   "outputs": [],
   "source": [
    "from matplotlib import pyplot\n",
    "from mpl_toolkits.mplot3d import Axes3D\n",
    "\n",
    "fig = pyplot.figure(figsize=(10,6))\n",
    "ax = Axes3D(fig)\n",
    "\n",
    "ax.scatter(hasil_pca['Pca1'], hasil_pca['Pca2'], hasil_pca['Pca3'],c=hasil_pca['Survived'])\n",
    "pyplot.show()"
   ]
  },
  {
   "cell_type": "code",
   "execution_count": null,
   "metadata": {
    "ExecuteTime": {
     "end_time": "2021-06-01T03:16:57.788180Z",
     "start_time": "2021-06-01T03:16:57.780200Z"
    }
   },
   "outputs": [],
   "source": [
    "data.Age"
   ]
  },
  {
   "cell_type": "code",
   "execution_count": null,
   "metadata": {},
   "outputs": [],
   "source": []
  }
 ],
 "metadata": {
  "kernelspec": {
   "display_name": "Python 3",
   "language": "python",
   "name": "python3"
  },
  "language_info": {
   "codemirror_mode": {
    "name": "ipython",
    "version": 3
   },
   "file_extension": ".py",
   "mimetype": "text/x-python",
   "name": "python",
   "nbconvert_exporter": "python",
   "pygments_lexer": "ipython3",
   "version": "3.8.5"
  },
  "toc": {
   "base_numbering": 1,
   "nav_menu": {},
   "number_sections": true,
   "sideBar": true,
   "skip_h1_title": false,
   "title_cell": "Table of Contents",
   "title_sidebar": "Contents",
   "toc_cell": false,
   "toc_position": {
    "height": "calc(100% - 180px)",
    "left": "10px",
    "top": "150px",
    "width": "335.994px"
   },
   "toc_section_display": true,
   "toc_window_display": true
  },
  "varInspector": {
   "cols": {
    "lenName": 16,
    "lenType": 16,
    "lenVar": 40
   },
   "kernels_config": {
    "python": {
     "delete_cmd_postfix": "",
     "delete_cmd_prefix": "del ",
     "library": "var_list.py",
     "varRefreshCmd": "print(var_dic_list())"
    },
    "r": {
     "delete_cmd_postfix": ") ",
     "delete_cmd_prefix": "rm(",
     "library": "var_list.r",
     "varRefreshCmd": "cat(var_dic_list()) "
    }
   },
   "types_to_exclude": [
    "module",
    "function",
    "builtin_function_or_method",
    "instance",
    "_Feature"
   ],
   "window_display": false
  }
 },
 "nbformat": 4,
 "nbformat_minor": 4
}
