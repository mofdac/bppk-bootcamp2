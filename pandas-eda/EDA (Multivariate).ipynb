{
 "cells": [
  {
   "cell_type": "markdown",
   "metadata": {},
   "source": [
    "# Exploratory Data Analysis"
   ]
  },
  {
   "cell_type": "markdown",
   "metadata": {},
   "source": [
    "## Loading Data"
   ]
  },
  {
   "cell_type": "code",
   "execution_count": 276,
   "metadata": {
    "ExecuteTime": {
     "end_time": "2021-06-01T08:34:30.235035Z",
     "start_time": "2021-06-01T08:34:30.228479Z"
    }
   },
   "outputs": [],
   "source": [
    "import numpy as np \n",
    "import pandas as pd\n",
    "import matplotlib.pyplot as plt\n",
    "import seaborn as sns\n",
    "plt.style.use('fivethirtyeight')\n",
    "import warnings\n",
    "warnings.filterwarnings('ignore')\n",
    "%matplotlib inline"
   ]
  },
  {
   "cell_type": "code",
   "execution_count": 277,
   "metadata": {
    "ExecuteTime": {
     "end_time": "2021-06-01T08:34:30.322615Z",
     "start_time": "2021-06-01T08:34:30.236432Z"
    }
   },
   "outputs": [],
   "source": [
    "data = pd.read_csv('dataset/titanic.csv')"
   ]
  },
  {
   "cell_type": "markdown",
   "metadata": {},
   "source": [
    "## Bivariate & Multivariate\n",
    "### Univariate:\n",
    "- Cek dimensi data (tabel-tabel)\n",
    "- Cek tipe data dari masing-masing kolom\n",
    "- Tampilkan sebagian value dari masing-masing kolom\n",
    "- Lakukan perhitungan descriptive statistics untuk tiap kolom\n",
    "- Lakukan analisis visual dengan memplot tiap variable\n",
    "- Cek missing value\n",
    "- Cek duplikasi\n",
    "- Cek validitas (format / range / limit / reference / dll)\n",
    "- cek duplikat\n",
    "\n",
    "### Multivariate:\n",
    "- bivariate analysis\n",
    "    - Two Categorical\n",
    "    - Categorical and Numerical\n",
    "    - Two Numerical\n",
    "- multivariate\n",
    "    - Dimensionality Reduction"
   ]
  },
  {
   "cell_type": "markdown",
   "metadata": {},
   "source": [
    "### Cek Data"
   ]
  },
  {
   "cell_type": "code",
   "execution_count": 278,
   "metadata": {
    "ExecuteTime": {
     "end_time": "2021-06-01T08:34:30.421239Z",
     "start_time": "2021-06-01T08:34:30.326837Z"
    }
   },
   "outputs": [
    {
     "data": {
      "text/html": [
       "<div>\n",
       "<style scoped>\n",
       "    .dataframe tbody tr th:only-of-type {\n",
       "        vertical-align: middle;\n",
       "    }\n",
       "\n",
       "    .dataframe tbody tr th {\n",
       "        vertical-align: top;\n",
       "    }\n",
       "\n",
       "    .dataframe thead th {\n",
       "        text-align: right;\n",
       "    }\n",
       "</style>\n",
       "<table border=\"1\" class=\"dataframe\">\n",
       "  <thead>\n",
       "    <tr style=\"text-align: right;\">\n",
       "      <th></th>\n",
       "      <th>PassengerId</th>\n",
       "      <th>Survived</th>\n",
       "      <th>Pclass</th>\n",
       "      <th>Name</th>\n",
       "      <th>Sex</th>\n",
       "      <th>Age</th>\n",
       "      <th>SibSp</th>\n",
       "      <th>Parch</th>\n",
       "      <th>Ticket</th>\n",
       "      <th>Fare</th>\n",
       "      <th>Cabin</th>\n",
       "      <th>Embarked</th>\n",
       "    </tr>\n",
       "  </thead>\n",
       "  <tbody>\n",
       "    <tr>\n",
       "      <th>0</th>\n",
       "      <td>1</td>\n",
       "      <td>0</td>\n",
       "      <td>3</td>\n",
       "      <td>Braund, Mr. Owen Harris</td>\n",
       "      <td>male</td>\n",
       "      <td>22.0</td>\n",
       "      <td>1</td>\n",
       "      <td>0</td>\n",
       "      <td>A/5 21171</td>\n",
       "      <td>7.2500</td>\n",
       "      <td>NaN</td>\n",
       "      <td>S</td>\n",
       "    </tr>\n",
       "    <tr>\n",
       "      <th>1</th>\n",
       "      <td>2</td>\n",
       "      <td>1</td>\n",
       "      <td>1</td>\n",
       "      <td>Cumings, Mrs. John Bradley (Florence Briggs Th...</td>\n",
       "      <td>female</td>\n",
       "      <td>38.0</td>\n",
       "      <td>1</td>\n",
       "      <td>0</td>\n",
       "      <td>PC 17599</td>\n",
       "      <td>71.2833</td>\n",
       "      <td>C85</td>\n",
       "      <td>C</td>\n",
       "    </tr>\n",
       "    <tr>\n",
       "      <th>2</th>\n",
       "      <td>3</td>\n",
       "      <td>1</td>\n",
       "      <td>3</td>\n",
       "      <td>Heikkinen, Miss. Laina</td>\n",
       "      <td>female</td>\n",
       "      <td>26.0</td>\n",
       "      <td>0</td>\n",
       "      <td>0</td>\n",
       "      <td>STON/O2. 3101282</td>\n",
       "      <td>7.9250</td>\n",
       "      <td>NaN</td>\n",
       "      <td>S</td>\n",
       "    </tr>\n",
       "    <tr>\n",
       "      <th>3</th>\n",
       "      <td>4</td>\n",
       "      <td>1</td>\n",
       "      <td>1</td>\n",
       "      <td>Futrelle, Mrs. Jacques Heath (Lily May Peel)</td>\n",
       "      <td>female</td>\n",
       "      <td>35.0</td>\n",
       "      <td>1</td>\n",
       "      <td>0</td>\n",
       "      <td>113803</td>\n",
       "      <td>53.1000</td>\n",
       "      <td>C123</td>\n",
       "      <td>S</td>\n",
       "    </tr>\n",
       "    <tr>\n",
       "      <th>4</th>\n",
       "      <td>5</td>\n",
       "      <td>0</td>\n",
       "      <td>3</td>\n",
       "      <td>Allen, Mr. William Henry</td>\n",
       "      <td>male</td>\n",
       "      <td>35.0</td>\n",
       "      <td>0</td>\n",
       "      <td>0</td>\n",
       "      <td>373450</td>\n",
       "      <td>8.0500</td>\n",
       "      <td>NaN</td>\n",
       "      <td>S</td>\n",
       "    </tr>\n",
       "  </tbody>\n",
       "</table>\n",
       "</div>"
      ],
      "text/plain": [
       "   PassengerId  Survived  Pclass  \\\n",
       "0            1         0       3   \n",
       "1            2         1       1   \n",
       "2            3         1       3   \n",
       "3            4         1       1   \n",
       "4            5         0       3   \n",
       "\n",
       "                                                Name     Sex   Age  SibSp  \\\n",
       "0                            Braund, Mr. Owen Harris    male  22.0      1   \n",
       "1  Cumings, Mrs. John Bradley (Florence Briggs Th...  female  38.0      1   \n",
       "2                             Heikkinen, Miss. Laina  female  26.0      0   \n",
       "3       Futrelle, Mrs. Jacques Heath (Lily May Peel)  female  35.0      1   \n",
       "4                           Allen, Mr. William Henry    male  35.0      0   \n",
       "\n",
       "   Parch            Ticket     Fare Cabin Embarked  \n",
       "0      0         A/5 21171   7.2500   NaN        S  \n",
       "1      0          PC 17599  71.2833   C85        C  \n",
       "2      0  STON/O2. 3101282   7.9250   NaN        S  \n",
       "3      0            113803  53.1000  C123        S  \n",
       "4      0            373450   8.0500   NaN        S  "
      ]
     },
     "execution_count": 278,
     "metadata": {},
     "output_type": "execute_result"
    }
   ],
   "source": [
    "data.head()"
   ]
  },
  {
   "cell_type": "markdown",
   "metadata": {},
   "source": [
    "\n",
    "### Hasil Univariate Analisis\n",
    "\n",
    "- target variable adalah 'Survived'. 38.4% survived\n",
    "- tipe variable\n",
    "    - Categorical: Sex, Embarked\n",
    "    - Ordinal: PClass\n",
    "    - Continuous: Age, Fare\n",
    "    - Discrete: SibSp, Parch\n",
    "- the middle part of each name is a title of the person, other than that, we can drop the Name column\n",
    "- Age has some missing value that need to be inputed\n",
    "- Cabin has too many missing value, we can drop it\n",
    "- Ticket has too many unique value with difference formats, so we can drop it as well\n",
    "- Passenger Id holds the unique ID of each person, not much information given for predictiong survivability"
   ]
  },
  {
   "cell_type": "code",
   "execution_count": 279,
   "metadata": {
    "ExecuteTime": {
     "end_time": "2021-06-01T08:34:30.535085Z",
     "start_time": "2021-06-01T08:34:30.423132Z"
    }
   },
   "outputs": [
    {
     "data": {
      "text/html": [
       "<div>\n",
       "<style scoped>\n",
       "    .dataframe tbody tr th:only-of-type {\n",
       "        vertical-align: middle;\n",
       "    }\n",
       "\n",
       "    .dataframe tbody tr th {\n",
       "        vertical-align: top;\n",
       "    }\n",
       "\n",
       "    .dataframe thead th {\n",
       "        text-align: right;\n",
       "    }\n",
       "</style>\n",
       "<table border=\"1\" class=\"dataframe\">\n",
       "  <thead>\n",
       "    <tr style=\"text-align: right;\">\n",
       "      <th></th>\n",
       "      <th>Survived</th>\n",
       "      <th>Pclass</th>\n",
       "      <th>Sex</th>\n",
       "      <th>Age</th>\n",
       "      <th>SibSp</th>\n",
       "      <th>Parch</th>\n",
       "      <th>Fare</th>\n",
       "      <th>Embarked</th>\n",
       "      <th>Initial</th>\n",
       "    </tr>\n",
       "  </thead>\n",
       "  <tbody>\n",
       "    <tr>\n",
       "      <th>0</th>\n",
       "      <td>0</td>\n",
       "      <td>3</td>\n",
       "      <td>male</td>\n",
       "      <td>22.0</td>\n",
       "      <td>1</td>\n",
       "      <td>0</td>\n",
       "      <td>7.2500</td>\n",
       "      <td>S</td>\n",
       "      <td>Mr</td>\n",
       "    </tr>\n",
       "    <tr>\n",
       "      <th>1</th>\n",
       "      <td>1</td>\n",
       "      <td>1</td>\n",
       "      <td>female</td>\n",
       "      <td>38.0</td>\n",
       "      <td>1</td>\n",
       "      <td>0</td>\n",
       "      <td>71.2833</td>\n",
       "      <td>C</td>\n",
       "      <td>Mrs</td>\n",
       "    </tr>\n",
       "    <tr>\n",
       "      <th>2</th>\n",
       "      <td>1</td>\n",
       "      <td>3</td>\n",
       "      <td>female</td>\n",
       "      <td>26.0</td>\n",
       "      <td>0</td>\n",
       "      <td>0</td>\n",
       "      <td>7.9250</td>\n",
       "      <td>S</td>\n",
       "      <td>Miss</td>\n",
       "    </tr>\n",
       "    <tr>\n",
       "      <th>3</th>\n",
       "      <td>1</td>\n",
       "      <td>1</td>\n",
       "      <td>female</td>\n",
       "      <td>35.0</td>\n",
       "      <td>1</td>\n",
       "      <td>0</td>\n",
       "      <td>53.1000</td>\n",
       "      <td>S</td>\n",
       "      <td>Mrs</td>\n",
       "    </tr>\n",
       "    <tr>\n",
       "      <th>4</th>\n",
       "      <td>0</td>\n",
       "      <td>3</td>\n",
       "      <td>male</td>\n",
       "      <td>35.0</td>\n",
       "      <td>0</td>\n",
       "      <td>0</td>\n",
       "      <td>8.0500</td>\n",
       "      <td>S</td>\n",
       "      <td>Mr</td>\n",
       "    </tr>\n",
       "  </tbody>\n",
       "</table>\n",
       "</div>"
      ],
      "text/plain": [
       "   Survived  Pclass     Sex   Age  SibSp  Parch     Fare Embarked Initial\n",
       "0         0       3    male  22.0      1      0   7.2500        S      Mr\n",
       "1         1       1  female  38.0      1      0  71.2833        C     Mrs\n",
       "2         1       3  female  26.0      0      0   7.9250        S    Miss\n",
       "3         1       1  female  35.0      1      0  53.1000        S     Mrs\n",
       "4         0       3    male  35.0      0      0   8.0500        S      Mr"
      ]
     },
     "execution_count": 279,
     "metadata": {},
     "output_type": "execute_result"
    }
   ],
   "source": [
    "data['Initial'] = data.Name.str.extract('([A-Za-z]+)\\.')\n",
    "data['Initial'].replace(['Mlle','Mme','Ms','Dr','Major','Lady','Countess','Jonkheer','Col','Rev','Capt','Sir','Don'],['Miss','Miss','Miss','Mr','Mr','Mrs','Mrs','Other','Other','Other','Mr','Mr','Mr'],inplace=True)\n",
    "data.drop(columns=['Name','Ticket','Cabin','PassengerId'], inplace=True)\n",
    "data.head()"
   ]
  },
  {
   "cell_type": "markdown",
   "metadata": {},
   "source": [
    "## Bivariate Analysis"
   ]
  },
  {
   "cell_type": "markdown",
   "metadata": {},
   "source": [
    "### Categorical to Categorical\n",
    "\n",
    "Untuk memeriksa korelasi antara dua variabel kategori, kita dapat mencoba membuat Tabel Kontingensi (cross tabulation/crosstab). Selain itu, untuk memvisualisasikan hasil crosstab, kita dapat memplotnya menggunakan diagram batang atau factor plot.\n",
    "\n",
    "Jika kita ingin menguji ketergantungan dua variabel kategorikal dengan pendekatan statistik, kita dapat menggunakan chi-square test. \n",
    "\n",
    "Namun, pada kesempatan ini, kita tidak akan menekankan pada pengujian tersebut melainkan hanya melihat ketergantungan berdasarkan visualisasi."
   ]
  },
  {
   "cell_type": "markdown",
   "metadata": {},
   "source": [
    "#### Sex dan Survived"
   ]
  },
  {
   "cell_type": "markdown",
   "metadata": {
    "ExecuteTime": {
     "end_time": "2021-06-01T01:53:12.608946Z",
     "start_time": "2021-06-01T01:53:12.605476Z"
    }
   },
   "source": [
    "###### Cross Tab"
   ]
  },
  {
   "cell_type": "code",
   "execution_count": 280,
   "metadata": {
    "ExecuteTime": {
     "end_time": "2021-06-01T08:34:30.661418Z",
     "start_time": "2021-06-01T08:34:30.536067Z"
    }
   },
   "outputs": [
    {
     "data": {
      "text/html": [
       "<style  type=\"text/css\" >\n",
       "#T_2f310edc_c2b4_11eb_a83f_51fb208d27f5row0_col0,#T_2f310edc_c2b4_11eb_a83f_51fb208d27f5row0_col2,#T_2f310edc_c2b4_11eb_a83f_51fb208d27f5row1_col1{\n",
       "            background-color:  #ffff66;\n",
       "            color:  #000000;\n",
       "        }#T_2f310edc_c2b4_11eb_a83f_51fb208d27f5row0_col1{\n",
       "            background-color:  #77bb66;\n",
       "            color:  #000000;\n",
       "        }#T_2f310edc_c2b4_11eb_a83f_51fb208d27f5row1_col0{\n",
       "            background-color:  #2c9666;\n",
       "            color:  #000000;\n",
       "        }#T_2f310edc_c2b4_11eb_a83f_51fb208d27f5row1_col2{\n",
       "            background-color:  #8bc566;\n",
       "            color:  #000000;\n",
       "        }#T_2f310edc_c2b4_11eb_a83f_51fb208d27f5row2_col0,#T_2f310edc_c2b4_11eb_a83f_51fb208d27f5row2_col1,#T_2f310edc_c2b4_11eb_a83f_51fb208d27f5row2_col2{\n",
       "            background-color:  #008066;\n",
       "            color:  #f1f1f1;\n",
       "        }</style><table id=\"T_2f310edc_c2b4_11eb_a83f_51fb208d27f5\" ><thead>    <tr>        <th class=\"index_name level0\" >Survived</th>        <th class=\"col_heading level0 col0\" >0</th>        <th class=\"col_heading level0 col1\" >1</th>        <th class=\"col_heading level0 col2\" >All</th>    </tr>    <tr>        <th class=\"index_name level0\" >Sex</th>        <th class=\"blank\" ></th>        <th class=\"blank\" ></th>        <th class=\"blank\" ></th>    </tr></thead><tbody>\n",
       "                <tr>\n",
       "                        <th id=\"T_2f310edc_c2b4_11eb_a83f_51fb208d27f5level0_row0\" class=\"row_heading level0 row0\" >female</th>\n",
       "                        <td id=\"T_2f310edc_c2b4_11eb_a83f_51fb208d27f5row0_col0\" class=\"data row0 col0\" >81</td>\n",
       "                        <td id=\"T_2f310edc_c2b4_11eb_a83f_51fb208d27f5row0_col1\" class=\"data row0 col1\" >233</td>\n",
       "                        <td id=\"T_2f310edc_c2b4_11eb_a83f_51fb208d27f5row0_col2\" class=\"data row0 col2\" >314</td>\n",
       "            </tr>\n",
       "            <tr>\n",
       "                        <th id=\"T_2f310edc_c2b4_11eb_a83f_51fb208d27f5level0_row1\" class=\"row_heading level0 row1\" >male</th>\n",
       "                        <td id=\"T_2f310edc_c2b4_11eb_a83f_51fb208d27f5row1_col0\" class=\"data row1 col0\" >468</td>\n",
       "                        <td id=\"T_2f310edc_c2b4_11eb_a83f_51fb208d27f5row1_col1\" class=\"data row1 col1\" >109</td>\n",
       "                        <td id=\"T_2f310edc_c2b4_11eb_a83f_51fb208d27f5row1_col2\" class=\"data row1 col2\" >577</td>\n",
       "            </tr>\n",
       "            <tr>\n",
       "                        <th id=\"T_2f310edc_c2b4_11eb_a83f_51fb208d27f5level0_row2\" class=\"row_heading level0 row2\" >All</th>\n",
       "                        <td id=\"T_2f310edc_c2b4_11eb_a83f_51fb208d27f5row2_col0\" class=\"data row2 col0\" >549</td>\n",
       "                        <td id=\"T_2f310edc_c2b4_11eb_a83f_51fb208d27f5row2_col1\" class=\"data row2 col1\" >342</td>\n",
       "                        <td id=\"T_2f310edc_c2b4_11eb_a83f_51fb208d27f5row2_col2\" class=\"data row2 col2\" >891</td>\n",
       "            </tr>\n",
       "    </tbody></table>"
      ],
      "text/plain": [
       "<pandas.io.formats.style.Styler at 0x7f1aed55b4f0>"
      ]
     },
     "execution_count": 280,
     "metadata": {},
     "output_type": "execute_result"
    }
   ],
   "source": [
    "df_sex_ct = pd.crosstab(data['Sex'], data['Survived'],margins=True)\n",
    "df_sex_ct.style.background_gradient(cmap='summer_r')"
   ]
  },
  {
   "cell_type": "markdown",
   "metadata": {},
   "source": [
    "###### Chi Square"
   ]
  },
  {
   "cell_type": "code",
   "execution_count": 281,
   "metadata": {
    "ExecuteTime": {
     "end_time": "2021-06-01T08:34:30.751046Z",
     "start_time": "2021-06-01T08:34:30.663137Z"
    },
    "scrolled": true
   },
   "outputs": [
    {
     "name": "stdout",
     "output_type": "stream",
     "text": [
      "p value is 1.0036732821369117e-55\n",
      "Dependent (reject H0)\n"
     ]
    }
   ],
   "source": [
    "from scipy.stats import chi2_contingency\n",
    "  \n",
    "def chi_test(data):    \n",
    "    # defining the table\n",
    "    stat, p, dof, expected = chi2_contingency(data)\n",
    "\n",
    "    # interpret p-value\n",
    "    alpha = 0.05\n",
    "    print(\"p value is \" + str(p))\n",
    "    if p <= alpha:\n",
    "        print('Dependent (reject H0)')\n",
    "    else:\n",
    "        print('Independent (H0 holds true)')\n",
    "\n",
    "chi_test(df_sex_ct)"
   ]
  },
  {
   "cell_type": "markdown",
   "metadata": {},
   "source": [
    "###### Visualisasi"
   ]
  },
  {
   "cell_type": "code",
   "execution_count": 282,
   "metadata": {
    "ExecuteTime": {
     "end_time": "2021-06-01T08:34:31.053806Z",
     "start_time": "2021-06-01T08:34:30.754236Z"
    }
   },
   "outputs": [
    {
     "data": {
      "image/png": "[encoded data removed]",
      "text/plain": [
       "<Figure size 1296x360 with 2 Axes>"
      ]
     },
     "metadata": {
      "needs_background": "light"
     },
     "output_type": "display_data"
    }
   ],
   "source": [
    "f,ax=plt.subplots(1,2,figsize=(18,5))\n",
    "\n",
    "# subplot 1\n",
    "data[['Sex','Survived']].groupby(['Sex']).mean().plot.bar(ax=ax[0])\n",
    "ax[0].set_title('Survived vs Sex')\n",
    "\n",
    "# subplot 2 \n",
    "sns.countplot('Sex',hue='Survived',data=data, ax=ax[1])\n",
    "ax[1].set_title('Sex:Survived vs Dead')\n",
    "\n",
    "# show\n",
    "plt.show()"
   ]
  },
  {
   "cell_type": "markdown",
   "metadata": {},
   "source": [
    "<details>\n",
    "Jumlah pria di kapal jauh lebih banyak daripada jumlah wanita. Namun jumlah wanita yang diselamatkan hampir dua kali lipat jumlah pria yang diselamatkan. Tingkat Survival untuk **perempuan di kapal adalah sekitar 75% sedangkan untuk pria di sekitar 18-19%**.\n",
    "\n",
    "Sex tampaknya menjadi fitur yang **sangat penting** untuk pemodelan. Tapi sebelum itu kita perlu juga melihat fitur lainnya.\n",
    "</details>"
   ]
  },
  {
   "cell_type": "markdown",
   "metadata": {},
   "source": [
    "#### Pclass and Survived"
   ]
  },
  {
   "cell_type": "code",
   "execution_count": 283,
   "metadata": {
    "ExecuteTime": {
     "end_time": "2021-06-01T08:34:31.096485Z",
     "start_time": "2021-06-01T08:34:31.056550Z"
    },
    "scrolled": true
   },
   "outputs": [
    {
     "data": {
      "text/html": [
       "<style  type=\"text/css\" >\n",
       "#T_2f736c46_c2b4_11eb_a83f_51fb208d27f5row0_col0,#T_2f736c46_c2b4_11eb_a83f_51fb208d27f5row1_col1,#T_2f736c46_c2b4_11eb_a83f_51fb208d27f5row1_col2{\n",
       "            background-color:  #ffff66;\n",
       "            color:  #000000;\n",
       "        }#T_2f736c46_c2b4_11eb_a83f_51fb208d27f5row0_col1{\n",
       "            background-color:  #cee666;\n",
       "            color:  #000000;\n",
       "        }#T_2f736c46_c2b4_11eb_a83f_51fb208d27f5row0_col2{\n",
       "            background-color:  #f4fa66;\n",
       "            color:  #000000;\n",
       "        }#T_2f736c46_c2b4_11eb_a83f_51fb208d27f5row1_col0{\n",
       "            background-color:  #f6fa66;\n",
       "            color:  #000000;\n",
       "        }#T_2f736c46_c2b4_11eb_a83f_51fb208d27f5row2_col0{\n",
       "            background-color:  #60b066;\n",
       "            color:  #000000;\n",
       "        }#T_2f736c46_c2b4_11eb_a83f_51fb208d27f5row2_col1{\n",
       "            background-color:  #dfef66;\n",
       "            color:  #000000;\n",
       "        }#T_2f736c46_c2b4_11eb_a83f_51fb208d27f5row2_col2{\n",
       "            background-color:  #90c866;\n",
       "            color:  #000000;\n",
       "        }#T_2f736c46_c2b4_11eb_a83f_51fb208d27f5row3_col0,#T_2f736c46_c2b4_11eb_a83f_51fb208d27f5row3_col1,#T_2f736c46_c2b4_11eb_a83f_51fb208d27f5row3_col2{\n",
       "            background-color:  #008066;\n",
       "            color:  #f1f1f1;\n",
       "        }</style><table id=\"T_2f736c46_c2b4_11eb_a83f_51fb208d27f5\" ><thead>    <tr>        <th class=\"index_name level0\" >Survived</th>        <th class=\"col_heading level0 col0\" >0</th>        <th class=\"col_heading level0 col1\" >1</th>        <th class=\"col_heading level0 col2\" >All</th>    </tr>    <tr>        <th class=\"index_name level0\" >Pclass</th>        <th class=\"blank\" ></th>        <th class=\"blank\" ></th>        <th class=\"blank\" ></th>    </tr></thead><tbody>\n",
       "                <tr>\n",
       "                        <th id=\"T_2f736c46_c2b4_11eb_a83f_51fb208d27f5level0_row0\" class=\"row_heading level0 row0\" >1</th>\n",
       "                        <td id=\"T_2f736c46_c2b4_11eb_a83f_51fb208d27f5row0_col0\" class=\"data row0 col0\" >80</td>\n",
       "                        <td id=\"T_2f736c46_c2b4_11eb_a83f_51fb208d27f5row0_col1\" class=\"data row0 col1\" >136</td>\n",
       "                        <td id=\"T_2f736c46_c2b4_11eb_a83f_51fb208d27f5row0_col2\" class=\"data row0 col2\" >216</td>\n",
       "            </tr>\n",
       "            <tr>\n",
       "                        <th id=\"T_2f736c46_c2b4_11eb_a83f_51fb208d27f5level0_row1\" class=\"row_heading level0 row1\" >2</th>\n",
       "                        <td id=\"T_2f736c46_c2b4_11eb_a83f_51fb208d27f5row1_col0\" class=\"data row1 col0\" >97</td>\n",
       "                        <td id=\"T_2f736c46_c2b4_11eb_a83f_51fb208d27f5row1_col1\" class=\"data row1 col1\" >87</td>\n",
       "                        <td id=\"T_2f736c46_c2b4_11eb_a83f_51fb208d27f5row1_col2\" class=\"data row1 col2\" >184</td>\n",
       "            </tr>\n",
       "            <tr>\n",
       "                        <th id=\"T_2f736c46_c2b4_11eb_a83f_51fb208d27f5level0_row2\" class=\"row_heading level0 row2\" >3</th>\n",
       "                        <td id=\"T_2f736c46_c2b4_11eb_a83f_51fb208d27f5row2_col0\" class=\"data row2 col0\" >372</td>\n",
       "                        <td id=\"T_2f736c46_c2b4_11eb_a83f_51fb208d27f5row2_col1\" class=\"data row2 col1\" >119</td>\n",
       "                        <td id=\"T_2f736c46_c2b4_11eb_a83f_51fb208d27f5row2_col2\" class=\"data row2 col2\" >491</td>\n",
       "            </tr>\n",
       "            <tr>\n",
       "                        <th id=\"T_2f736c46_c2b4_11eb_a83f_51fb208d27f5level0_row3\" class=\"row_heading level0 row3\" >All</th>\n",
       "                        <td id=\"T_2f736c46_c2b4_11eb_a83f_51fb208d27f5row3_col0\" class=\"data row3 col0\" >549</td>\n",
       "                        <td id=\"T_2f736c46_c2b4_11eb_a83f_51fb208d27f5row3_col1\" class=\"data row3 col1\" >342</td>\n",
       "                        <td id=\"T_2f736c46_c2b4_11eb_a83f_51fb208d27f5row3_col2\" class=\"data row3 col2\" >891</td>\n",
       "            </tr>\n",
       "    </tbody></table>"
      ],
      "text/plain": [
       "<pandas.io.formats.style.Styler at 0x7f1adb6a5bb0>"
      ]
     },
     "execution_count": 283,
     "metadata": {},
     "output_type": "execute_result"
    }
   ],
   "source": [
    "df_pclass_ct = pd.crosstab(data.Pclass,data.Survived,margins=True)\n",
    "df_pclass_ct.style.background_gradient(cmap='summer_r')"
   ]
  },
  {
   "cell_type": "code",
   "execution_count": 284,
   "metadata": {
    "ExecuteTime": {
     "end_time": "2021-06-01T08:34:31.157165Z",
     "start_time": "2021-06-01T08:34:31.098350Z"
    }
   },
   "outputs": [
    {
     "name": "stdout",
     "output_type": "stream",
     "text": [
      "p value is 6.258462423531468e-20\n",
      "Dependent (reject H0)\n"
     ]
    }
   ],
   "source": [
    "chi_test(df_pclass_ct)"
   ]
  },
  {
   "cell_type": "code",
   "execution_count": 285,
   "metadata": {
    "ExecuteTime": {
     "end_time": "2021-06-01T08:34:31.507180Z",
     "start_time": "2021-06-01T08:34:31.158844Z"
    }
   },
   "outputs": [
    {
     "data": {
      "image/png": "[encoded data removed]",
      "text/plain": [
       "<Figure size 1296x360 with 2 Axes>"
      ]
     },
     "metadata": {
      "needs_background": "light"
     },
     "output_type": "display_data"
    }
   ],
   "source": [
    "f,ax=plt.subplots(1,2,figsize=(18,5))\n",
    "\n",
    "#subplot 1\n",
    "data['Pclass'].value_counts().sort_index().plot.bar(color=['#CD7F32','#FFDF00','#D3D3D3'],ax=ax[0])\n",
    "ax[0].set_title('Number Of Passengers By Pclass')\n",
    "ax[0].set_ylabel('Count')\n",
    "\n",
    "#subplot 2\n",
    "sns.countplot('Pclass',hue='Survived',data=data,ax=ax[1])\n",
    "ax[1].set_title('Pclass: Survived vs Dead')\n",
    "\n",
    "#show\n",
    "plt.show()"
   ]
  },
  {
   "cell_type": "markdown",
   "metadata": {},
   "source": [
    "<details>\n",
    "Dapat dilihat dengan jelas bahwa penumpang Pclass 1 mendapatkan prioritas yang sangat tinggi dalam proses penyelamatan. Meski jumlah Penumpang di Pclass 3 jauh lebih tinggi, namun angka survival dari mereka masih sangat rendah, sekitar 25%.\n",
    "\n",
    "Untuk Pclass 1 penumpang selamat sekitar 63% sedangkan untuk Pclass2 sekitar 48%. \n",
    "\n",
    "Mari dalami lebih lanjut dan periksa hal lainnya. Mari kita periksa tingkat survival dengan **Seks dan Pclass** secara bersama-sama.\n",
    "</details>"
   ]
  },
  {
   "cell_type": "code",
   "execution_count": 286,
   "metadata": {
    "ExecuteTime": {
     "end_time": "2021-06-01T08:34:31.549090Z",
     "start_time": "2021-06-01T08:34:31.508671Z"
    }
   },
   "outputs": [
    {
     "data": {
      "text/html": [
       "<style  type=\"text/css\" >\n",
       "#T_2fb86ad0_c2b4_11eb_a83f_51fb208d27f5row0_col0,#T_2fb86ad0_c2b4_11eb_a83f_51fb208d27f5row1_col2,#T_2fb86ad0_c2b4_11eb_a83f_51fb208d27f5row4_col1{\n",
       "            background-color:  #ffff66;\n",
       "            color:  #000000;\n",
       "        }#T_2fb86ad0_c2b4_11eb_a83f_51fb208d27f5row0_col1{\n",
       "            background-color:  #c5e266;\n",
       "            color:  #000000;\n",
       "        }#T_2fb86ad0_c2b4_11eb_a83f_51fb208d27f5row0_col2{\n",
       "            background-color:  #fafc66;\n",
       "            color:  #000000;\n",
       "        }#T_2fb86ad0_c2b4_11eb_a83f_51fb208d27f5row1_col0{\n",
       "            background-color:  #fefe66;\n",
       "            color:  #000000;\n",
       "        }#T_2fb86ad0_c2b4_11eb_a83f_51fb208d27f5row1_col1,#T_2fb86ad0_c2b4_11eb_a83f_51fb208d27f5row4_col0{\n",
       "            background-color:  #d6eb66;\n",
       "            color:  #000000;\n",
       "        }#T_2fb86ad0_c2b4_11eb_a83f_51fb208d27f5row2_col0{\n",
       "            background-color:  #dfef66;\n",
       "            color:  #000000;\n",
       "        }#T_2fb86ad0_c2b4_11eb_a83f_51fb208d27f5row2_col1{\n",
       "            background-color:  #d4ea66;\n",
       "            color:  #000000;\n",
       "        }#T_2fb86ad0_c2b4_11eb_a83f_51fb208d27f5row2_col2{\n",
       "            background-color:  #eaf466;\n",
       "            color:  #000000;\n",
       "        }#T_2fb86ad0_c2b4_11eb_a83f_51fb208d27f5row3_col0{\n",
       "            background-color:  #ddee66;\n",
       "            color:  #000000;\n",
       "        }#T_2fb86ad0_c2b4_11eb_a83f_51fb208d27f5row3_col1{\n",
       "            background-color:  #e9f466;\n",
       "            color:  #000000;\n",
       "        }#T_2fb86ad0_c2b4_11eb_a83f_51fb208d27f5row3_col2{\n",
       "            background-color:  #f1f866;\n",
       "            color:  #000000;\n",
       "        }#T_2fb86ad0_c2b4_11eb_a83f_51fb208d27f5row4_col2{\n",
       "            background-color:  #f5fa66;\n",
       "            color:  #000000;\n",
       "        }#T_2fb86ad0_c2b4_11eb_a83f_51fb208d27f5row5_col0{\n",
       "            background-color:  #74ba66;\n",
       "            color:  #000000;\n",
       "        }#T_2fb86ad0_c2b4_11eb_a83f_51fb208d27f5row5_col1{\n",
       "            background-color:  #e8f466;\n",
       "            color:  #000000;\n",
       "        }#T_2fb86ad0_c2b4_11eb_a83f_51fb208d27f5row5_col2{\n",
       "            background-color:  #aad466;\n",
       "            color:  #000000;\n",
       "        }#T_2fb86ad0_c2b4_11eb_a83f_51fb208d27f5row6_col0,#T_2fb86ad0_c2b4_11eb_a83f_51fb208d27f5row6_col1,#T_2fb86ad0_c2b4_11eb_a83f_51fb208d27f5row6_col2{\n",
       "            background-color:  #008066;\n",
       "            color:  #f1f1f1;\n",
       "        }</style><table id=\"T_2fb86ad0_c2b4_11eb_a83f_51fb208d27f5\" ><thead>    <tr>        <th class=\"blank\" ></th>        <th class=\"index_name level0\" >Survived</th>        <th class=\"col_heading level0 col0\" >0</th>        <th class=\"col_heading level0 col1\" >1</th>        <th class=\"col_heading level0 col2\" >All</th>    </tr>    <tr>        <th class=\"index_name level0\" >Sex</th>        <th class=\"index_name level1\" >Pclass</th>        <th class=\"blank\" ></th>        <th class=\"blank\" ></th>        <th class=\"blank\" ></th>    </tr></thead><tbody>\n",
       "                <tr>\n",
       "                        <th id=\"T_2fb86ad0_c2b4_11eb_a83f_51fb208d27f5level0_row0\" class=\"row_heading level0 row0\" rowspan=3>female</th>\n",
       "                        <th id=\"T_2fb86ad0_c2b4_11eb_a83f_51fb208d27f5level1_row0\" class=\"row_heading level1 row0\" >1</th>\n",
       "                        <td id=\"T_2fb86ad0_c2b4_11eb_a83f_51fb208d27f5row0_col0\" class=\"data row0 col0\" >3</td>\n",
       "                        <td id=\"T_2fb86ad0_c2b4_11eb_a83f_51fb208d27f5row0_col1\" class=\"data row0 col1\" >91</td>\n",
       "                        <td id=\"T_2fb86ad0_c2b4_11eb_a83f_51fb208d27f5row0_col2\" class=\"data row0 col2\" >94</td>\n",
       "            </tr>\n",
       "            <tr>\n",
       "                                <th id=\"T_2fb86ad0_c2b4_11eb_a83f_51fb208d27f5level1_row1\" class=\"row_heading level1 row1\" >2</th>\n",
       "                        <td id=\"T_2fb86ad0_c2b4_11eb_a83f_51fb208d27f5row1_col0\" class=\"data row1 col0\" >6</td>\n",
       "                        <td id=\"T_2fb86ad0_c2b4_11eb_a83f_51fb208d27f5row1_col1\" class=\"data row1 col1\" >70</td>\n",
       "                        <td id=\"T_2fb86ad0_c2b4_11eb_a83f_51fb208d27f5row1_col2\" class=\"data row1 col2\" >76</td>\n",
       "            </tr>\n",
       "            <tr>\n",
       "                                <th id=\"T_2fb86ad0_c2b4_11eb_a83f_51fb208d27f5level1_row2\" class=\"row_heading level1 row2\" >3</th>\n",
       "                        <td id=\"T_2fb86ad0_c2b4_11eb_a83f_51fb208d27f5row2_col0\" class=\"data row2 col0\" >72</td>\n",
       "                        <td id=\"T_2fb86ad0_c2b4_11eb_a83f_51fb208d27f5row2_col1\" class=\"data row2 col1\" >72</td>\n",
       "                        <td id=\"T_2fb86ad0_c2b4_11eb_a83f_51fb208d27f5row2_col2\" class=\"data row2 col2\" >144</td>\n",
       "            </tr>\n",
       "            <tr>\n",
       "                        <th id=\"T_2fb86ad0_c2b4_11eb_a83f_51fb208d27f5level0_row3\" class=\"row_heading level0 row3\" rowspan=3>male</th>\n",
       "                        <th id=\"T_2fb86ad0_c2b4_11eb_a83f_51fb208d27f5level1_row3\" class=\"row_heading level1 row3\" >1</th>\n",
       "                        <td id=\"T_2fb86ad0_c2b4_11eb_a83f_51fb208d27f5row3_col0\" class=\"data row3 col0\" >77</td>\n",
       "                        <td id=\"T_2fb86ad0_c2b4_11eb_a83f_51fb208d27f5row3_col1\" class=\"data row3 col1\" >45</td>\n",
       "                        <td id=\"T_2fb86ad0_c2b4_11eb_a83f_51fb208d27f5row3_col2\" class=\"data row3 col2\" >122</td>\n",
       "            </tr>\n",
       "            <tr>\n",
       "                                <th id=\"T_2fb86ad0_c2b4_11eb_a83f_51fb208d27f5level1_row4\" class=\"row_heading level1 row4\" >2</th>\n",
       "                        <td id=\"T_2fb86ad0_c2b4_11eb_a83f_51fb208d27f5row4_col0\" class=\"data row4 col0\" >91</td>\n",
       "                        <td id=\"T_2fb86ad0_c2b4_11eb_a83f_51fb208d27f5row4_col1\" class=\"data row4 col1\" >17</td>\n",
       "                        <td id=\"T_2fb86ad0_c2b4_11eb_a83f_51fb208d27f5row4_col2\" class=\"data row4 col2\" >108</td>\n",
       "            </tr>\n",
       "            <tr>\n",
       "                                <th id=\"T_2fb86ad0_c2b4_11eb_a83f_51fb208d27f5level1_row5\" class=\"row_heading level1 row5\" >3</th>\n",
       "                        <td id=\"T_2fb86ad0_c2b4_11eb_a83f_51fb208d27f5row5_col0\" class=\"data row5 col0\" >300</td>\n",
       "                        <td id=\"T_2fb86ad0_c2b4_11eb_a83f_51fb208d27f5row5_col1\" class=\"data row5 col1\" >47</td>\n",
       "                        <td id=\"T_2fb86ad0_c2b4_11eb_a83f_51fb208d27f5row5_col2\" class=\"data row5 col2\" >347</td>\n",
       "            </tr>\n",
       "            <tr>\n",
       "                        <th id=\"T_2fb86ad0_c2b4_11eb_a83f_51fb208d27f5level0_row6\" class=\"row_heading level0 row6\" >All</th>\n",
       "                        <th id=\"T_2fb86ad0_c2b4_11eb_a83f_51fb208d27f5level1_row6\" class=\"row_heading level1 row6\" ></th>\n",
       "                        <td id=\"T_2fb86ad0_c2b4_11eb_a83f_51fb208d27f5row6_col0\" class=\"data row6 col0\" >549</td>\n",
       "                        <td id=\"T_2fb86ad0_c2b4_11eb_a83f_51fb208d27f5row6_col1\" class=\"data row6 col1\" >342</td>\n",
       "                        <td id=\"T_2fb86ad0_c2b4_11eb_a83f_51fb208d27f5row6_col2\" class=\"data row6 col2\" >891</td>\n",
       "            </tr>\n",
       "    </tbody></table>"
      ],
      "text/plain": [
       "<pandas.io.formats.style.Styler at 0x7f1aed587640>"
      ]
     },
     "execution_count": 286,
     "metadata": {},
     "output_type": "execute_result"
    }
   ],
   "source": [
    "pd.crosstab([data.Sex,data.Pclass],data.Survived,margins=True).style.background_gradient(cmap='summer_r')"
   ]
  },
  {
   "cell_type": "code",
   "execution_count": 287,
   "metadata": {
    "ExecuteTime": {
     "end_time": "2021-06-01T08:34:32.002010Z",
     "start_time": "2021-06-01T08:34:31.550166Z"
    }
   },
   "outputs": [
    {
     "data": {
      "image/png": "[encoded data removed]",
      "text/plain": [
       "<Figure size 430.5x360 with 1 Axes>"
      ]
     },
     "metadata": {
      "needs_background": "light"
     },
     "output_type": "display_data"
    }
   ],
   "source": [
    "sns.factorplot('Pclass','Survived',hue='Sex',data=data)\n",
    "plt.show()"
   ]
  },
  {
   "cell_type": "markdown",
   "metadata": {},
   "source": [
    "<details>\n",
    "Kita bisa menggunakan FactorPlot dalam kasus ini, karena menjadikan pemisahan nilai kategorikal menjadi mudah.\n",
    "\n",
    "Dengan melihat CrossTab dan FactorPlot, kita dapat dengan mudah menyimpulkan bahwa kelangsungan hidup Wanita pada  Pclass1 adalah sekitar 95-96%, karena hanya 3 dari 94 Wanita dari Pclass1 yang meninggal.\n",
    "\n",
    "Terbukti bahwa terlepas dari Pclass, Wanita diberi prioritas pertama saat penyelamatan. Bahkan Pria dari Pclass 1 memiliki tingkat kelangsungan hidup yang sangat rendah.\n",
    "</details>"
   ]
  },
  {
   "cell_type": "markdown",
   "metadata": {},
   "source": [
    "#### Embarked and Survived"
   ]
  },
  {
   "cell_type": "code",
   "execution_count": 288,
   "metadata": {
    "ExecuteTime": {
     "end_time": "2021-06-01T08:34:32.029162Z",
     "start_time": "2021-06-01T08:34:32.003033Z"
    }
   },
   "outputs": [
    {
     "data": {
      "text/html": [
       "<style  type=\"text/css\" >\n",
       "#T_3001b9e2_c2b4_11eb_a83f_51fb208d27f5row0_col0,#T_3001b9e2_c2b4_11eb_a83f_51fb208d27f5row2_col1{\n",
       "            background-color:  #ffff66;\n",
       "            color:  #000000;\n",
       "        }#T_3001b9e2_c2b4_11eb_a83f_51fb208d27f5row0_col1,#T_3001b9e2_c2b4_11eb_a83f_51fb208d27f5row2_col0{\n",
       "            background-color:  #008066;\n",
       "            color:  #f1f1f1;\n",
       "        }#T_3001b9e2_c2b4_11eb_a83f_51fb208d27f5row1_col0{\n",
       "            background-color:  #3e9e66;\n",
       "            color:  #000000;\n",
       "        }#T_3001b9e2_c2b4_11eb_a83f_51fb208d27f5row1_col1{\n",
       "            background-color:  #c1e066;\n",
       "            color:  #000000;\n",
       "        }</style><table id=\"T_3001b9e2_c2b4_11eb_a83f_51fb208d27f5\" ><thead>    <tr>        <th class=\"index_name level0\" >Survived</th>        <th class=\"col_heading level0 col0\" >0</th>        <th class=\"col_heading level0 col1\" >1</th>    </tr>    <tr>        <th class=\"index_name level0\" >Embarked</th>        <th class=\"blank\" ></th>        <th class=\"blank\" ></th>    </tr></thead><tbody>\n",
       "                <tr>\n",
       "                        <th id=\"T_3001b9e2_c2b4_11eb_a83f_51fb208d27f5level0_row0\" class=\"row_heading level0 row0\" >C</th>\n",
       "                        <td id=\"T_3001b9e2_c2b4_11eb_a83f_51fb208d27f5row0_col0\" class=\"data row0 col0\" >0.446429</td>\n",
       "                        <td id=\"T_3001b9e2_c2b4_11eb_a83f_51fb208d27f5row0_col1\" class=\"data row0 col1\" >0.553571</td>\n",
       "            </tr>\n",
       "            <tr>\n",
       "                        <th id=\"T_3001b9e2_c2b4_11eb_a83f_51fb208d27f5level0_row1\" class=\"row_heading level0 row1\" >Q</th>\n",
       "                        <td id=\"T_3001b9e2_c2b4_11eb_a83f_51fb208d27f5row1_col0\" class=\"data row1 col0\" >0.610390</td>\n",
       "                        <td id=\"T_3001b9e2_c2b4_11eb_a83f_51fb208d27f5row1_col1\" class=\"data row1 col1\" >0.389610</td>\n",
       "            </tr>\n",
       "            <tr>\n",
       "                        <th id=\"T_3001b9e2_c2b4_11eb_a83f_51fb208d27f5level0_row2\" class=\"row_heading level0 row2\" >S</th>\n",
       "                        <td id=\"T_3001b9e2_c2b4_11eb_a83f_51fb208d27f5row2_col0\" class=\"data row2 col0\" >0.663043</td>\n",
       "                        <td id=\"T_3001b9e2_c2b4_11eb_a83f_51fb208d27f5row2_col1\" class=\"data row2 col1\" >0.336957</td>\n",
       "            </tr>\n",
       "    </tbody></table>"
      ],
      "text/plain": [
       "<pandas.io.formats.style.Styler at 0x7f1aed66bd00>"
      ]
     },
     "execution_count": 288,
     "metadata": {},
     "output_type": "execute_result"
    }
   ],
   "source": [
    "pd.crosstab(data['Embarked'], data['Survived']).apply(lambda r: r/r.sum(), axis=1).style.background_gradient(cmap='summer_r')"
   ]
  },
  {
   "cell_type": "code",
   "execution_count": 289,
   "metadata": {
    "ExecuteTime": {
     "end_time": "2021-06-01T08:34:32.378765Z",
     "start_time": "2021-06-01T08:34:32.030614Z"
    }
   },
   "outputs": [
    {
     "data": {
      "image/png": "[encoded data removed]",
      "text/plain": [
       "<Figure size 360x216 with 1 Axes>"
      ]
     },
     "metadata": {
      "needs_background": "light"
     },
     "output_type": "display_data"
    }
   ],
   "source": [
    "sns.factorplot('Embarked','Survived',data=data)\n",
    "fig=plt.gcf()\n",
    "fig.set_size_inches(5,3)\n",
    "plt.show()"
   ]
  },
  {
   "cell_type": "markdown",
   "metadata": {},
   "source": [
    "<details>\n",
    "Peluang bertahan hidup untuk Port C tertinggi sekitar 0,55 sedangkan terendah untuk S.\n",
    "\n",
    "Mari gabungkan fitur kategorikal lainnya ke variabel Embarked ini.\n",
    "</details>"
   ]
  },
  {
   "cell_type": "code",
   "execution_count": 290,
   "metadata": {
    "ExecuteTime": {
     "end_time": "2021-06-01T08:34:32.420293Z",
     "start_time": "2021-06-01T08:34:32.379813Z"
    }
   },
   "outputs": [
    {
     "data": {
      "text/html": [
       "<style  type=\"text/css\" >\n",
       "#T_303d44a8_c2b4_11eb_a83f_51fb208d27f5row0_col0{\n",
       "            background-color:  #f4fa66;\n",
       "            color:  #000000;\n",
       "        }#T_303d44a8_c2b4_11eb_a83f_51fb208d27f5row0_col1{\n",
       "            background-color:  #d4ea66;\n",
       "            color:  #000000;\n",
       "        }#T_303d44a8_c2b4_11eb_a83f_51fb208d27f5row0_col2{\n",
       "            background-color:  #e8f466;\n",
       "            color:  #000000;\n",
       "        }#T_303d44a8_c2b4_11eb_a83f_51fb208d27f5row1_col0{\n",
       "            background-color:  #fcfe66;\n",
       "            color:  #000000;\n",
       "        }#T_303d44a8_c2b4_11eb_a83f_51fb208d27f5row1_col1{\n",
       "            background-color:  #f9fc66;\n",
       "            color:  #000000;\n",
       "        }#T_303d44a8_c2b4_11eb_a83f_51fb208d27f5row1_col2{\n",
       "            background-color:  #fbfd66;\n",
       "            color:  #000000;\n",
       "        }#T_303d44a8_c2b4_11eb_a83f_51fb208d27f5row2_col0,#T_303d44a8_c2b4_11eb_a83f_51fb208d27f5row2_col1,#T_303d44a8_c2b4_11eb_a83f_51fb208d27f5row2_col2{\n",
       "            background-color:  #edf666;\n",
       "            color:  #000000;\n",
       "        }#T_303d44a8_c2b4_11eb_a83f_51fb208d27f5row3_col0,#T_303d44a8_c2b4_11eb_a83f_51fb208d27f5row3_col1,#T_303d44a8_c2b4_11eb_a83f_51fb208d27f5row3_col2,#T_303d44a8_c2b4_11eb_a83f_51fb208d27f5row4_col0,#T_303d44a8_c2b4_11eb_a83f_51fb208d27f5row4_col1,#T_303d44a8_c2b4_11eb_a83f_51fb208d27f5row4_col2{\n",
       "            background-color:  #ffff66;\n",
       "            color:  #000000;\n",
       "        }#T_303d44a8_c2b4_11eb_a83f_51fb208d27f5row5_col0,#T_303d44a8_c2b4_11eb_a83f_51fb208d27f5row5_col2{\n",
       "            background-color:  #ebf566;\n",
       "            color:  #000000;\n",
       "        }#T_303d44a8_c2b4_11eb_a83f_51fb208d27f5row5_col1{\n",
       "            background-color:  #ecf666;\n",
       "            color:  #000000;\n",
       "        }#T_303d44a8_c2b4_11eb_a83f_51fb208d27f5row6_col0{\n",
       "            background-color:  #e7f366;\n",
       "            color:  #000000;\n",
       "        }#T_303d44a8_c2b4_11eb_a83f_51fb208d27f5row6_col1{\n",
       "            background-color:  #c8e366;\n",
       "            color:  #000000;\n",
       "        }#T_303d44a8_c2b4_11eb_a83f_51fb208d27f5row6_col2{\n",
       "            background-color:  #dbed66;\n",
       "            color:  #000000;\n",
       "        }#T_303d44a8_c2b4_11eb_a83f_51fb208d27f5row7_col0{\n",
       "            background-color:  #d7eb66;\n",
       "            color:  #000000;\n",
       "        }#T_303d44a8_c2b4_11eb_a83f_51fb208d27f5row7_col1{\n",
       "            background-color:  #c7e366;\n",
       "            color:  #000000;\n",
       "        }#T_303d44a8_c2b4_11eb_a83f_51fb208d27f5row7_col2{\n",
       "            background-color:  #d1e866;\n",
       "            color:  #000000;\n",
       "        }#T_303d44a8_c2b4_11eb_a83f_51fb208d27f5row8_col0{\n",
       "            background-color:  #7abc66;\n",
       "            color:  #000000;\n",
       "        }#T_303d44a8_c2b4_11eb_a83f_51fb208d27f5row8_col1{\n",
       "            background-color:  #cee666;\n",
       "            color:  #000000;\n",
       "        }#T_303d44a8_c2b4_11eb_a83f_51fb208d27f5row8_col2{\n",
       "            background-color:  #9acc66;\n",
       "            color:  #000000;\n",
       "        }#T_303d44a8_c2b4_11eb_a83f_51fb208d27f5row9_col0,#T_303d44a8_c2b4_11eb_a83f_51fb208d27f5row9_col1,#T_303d44a8_c2b4_11eb_a83f_51fb208d27f5row9_col2{\n",
       "            background-color:  #008066;\n",
       "            color:  #f1f1f1;\n",
       "        }</style><table id=\"T_303d44a8_c2b4_11eb_a83f_51fb208d27f5\" ><thead>    <tr>        <th class=\"blank\" ></th>        <th class=\"index_name level0\" >Survived</th>        <th class=\"col_heading level0 col0\" >0</th>        <th class=\"col_heading level0 col1\" >1</th>        <th class=\"col_heading level0 col2\" >All</th>    </tr>    <tr>        <th class=\"index_name level0\" >Embarked</th>        <th class=\"index_name level1\" >Pclass</th>        <th class=\"blank\" ></th>        <th class=\"blank\" ></th>        <th class=\"blank\" ></th>    </tr></thead><tbody>\n",
       "                <tr>\n",
       "                        <th id=\"T_303d44a8_c2b4_11eb_a83f_51fb208d27f5level0_row0\" class=\"row_heading level0 row0\" rowspan=3>C</th>\n",
       "                        <th id=\"T_303d44a8_c2b4_11eb_a83f_51fb208d27f5level1_row0\" class=\"row_heading level1 row0\" >1</th>\n",
       "                        <td id=\"T_303d44a8_c2b4_11eb_a83f_51fb208d27f5row0_col0\" class=\"data row0 col0\" >26</td>\n",
       "                        <td id=\"T_303d44a8_c2b4_11eb_a83f_51fb208d27f5row0_col1\" class=\"data row0 col1\" >59</td>\n",
       "                        <td id=\"T_303d44a8_c2b4_11eb_a83f_51fb208d27f5row0_col2\" class=\"data row0 col2\" >85</td>\n",
       "            </tr>\n",
       "            <tr>\n",
       "                                <th id=\"T_303d44a8_c2b4_11eb_a83f_51fb208d27f5level1_row1\" class=\"row_heading level1 row1\" >2</th>\n",
       "                        <td id=\"T_303d44a8_c2b4_11eb_a83f_51fb208d27f5row1_col0\" class=\"data row1 col0\" >8</td>\n",
       "                        <td id=\"T_303d44a8_c2b4_11eb_a83f_51fb208d27f5row1_col1\" class=\"data row1 col1\" >9</td>\n",
       "                        <td id=\"T_303d44a8_c2b4_11eb_a83f_51fb208d27f5row1_col2\" class=\"data row1 col2\" >17</td>\n",
       "            </tr>\n",
       "            <tr>\n",
       "                                <th id=\"T_303d44a8_c2b4_11eb_a83f_51fb208d27f5level1_row2\" class=\"row_heading level1 row2\" >3</th>\n",
       "                        <td id=\"T_303d44a8_c2b4_11eb_a83f_51fb208d27f5row2_col0\" class=\"data row2 col0\" >41</td>\n",
       "                        <td id=\"T_303d44a8_c2b4_11eb_a83f_51fb208d27f5row2_col1\" class=\"data row2 col1\" >25</td>\n",
       "                        <td id=\"T_303d44a8_c2b4_11eb_a83f_51fb208d27f5row2_col2\" class=\"data row2 col2\" >66</td>\n",
       "            </tr>\n",
       "            <tr>\n",
       "                        <th id=\"T_303d44a8_c2b4_11eb_a83f_51fb208d27f5level0_row3\" class=\"row_heading level0 row3\" rowspan=3>Q</th>\n",
       "                        <th id=\"T_303d44a8_c2b4_11eb_a83f_51fb208d27f5level1_row3\" class=\"row_heading level1 row3\" >1</th>\n",
       "                        <td id=\"T_303d44a8_c2b4_11eb_a83f_51fb208d27f5row3_col0\" class=\"data row3 col0\" >1</td>\n",
       "                        <td id=\"T_303d44a8_c2b4_11eb_a83f_51fb208d27f5row3_col1\" class=\"data row3 col1\" >1</td>\n",
       "                        <td id=\"T_303d44a8_c2b4_11eb_a83f_51fb208d27f5row3_col2\" class=\"data row3 col2\" >2</td>\n",
       "            </tr>\n",
       "            <tr>\n",
       "                                <th id=\"T_303d44a8_c2b4_11eb_a83f_51fb208d27f5level1_row4\" class=\"row_heading level1 row4\" >2</th>\n",
       "                        <td id=\"T_303d44a8_c2b4_11eb_a83f_51fb208d27f5row4_col0\" class=\"data row4 col0\" >1</td>\n",
       "                        <td id=\"T_303d44a8_c2b4_11eb_a83f_51fb208d27f5row4_col1\" class=\"data row4 col1\" >2</td>\n",
       "                        <td id=\"T_303d44a8_c2b4_11eb_a83f_51fb208d27f5row4_col2\" class=\"data row4 col2\" >3</td>\n",
       "            </tr>\n",
       "            <tr>\n",
       "                                <th id=\"T_303d44a8_c2b4_11eb_a83f_51fb208d27f5level1_row5\" class=\"row_heading level1 row5\" >3</th>\n",
       "                        <td id=\"T_303d44a8_c2b4_11eb_a83f_51fb208d27f5row5_col0\" class=\"data row5 col0\" >45</td>\n",
       "                        <td id=\"T_303d44a8_c2b4_11eb_a83f_51fb208d27f5row5_col1\" class=\"data row5 col1\" >27</td>\n",
       "                        <td id=\"T_303d44a8_c2b4_11eb_a83f_51fb208d27f5row5_col2\" class=\"data row5 col2\" >72</td>\n",
       "            </tr>\n",
       "            <tr>\n",
       "                        <th id=\"T_303d44a8_c2b4_11eb_a83f_51fb208d27f5level0_row6\" class=\"row_heading level0 row6\" rowspan=3>S</th>\n",
       "                        <th id=\"T_303d44a8_c2b4_11eb_a83f_51fb208d27f5level1_row6\" class=\"row_heading level1 row6\" >1</th>\n",
       "                        <td id=\"T_303d44a8_c2b4_11eb_a83f_51fb208d27f5row6_col0\" class=\"data row6 col0\" >53</td>\n",
       "                        <td id=\"T_303d44a8_c2b4_11eb_a83f_51fb208d27f5row6_col1\" class=\"data row6 col1\" >74</td>\n",
       "                        <td id=\"T_303d44a8_c2b4_11eb_a83f_51fb208d27f5row6_col2\" class=\"data row6 col2\" >127</td>\n",
       "            </tr>\n",
       "            <tr>\n",
       "                                <th id=\"T_303d44a8_c2b4_11eb_a83f_51fb208d27f5level1_row7\" class=\"row_heading level1 row7\" >2</th>\n",
       "                        <td id=\"T_303d44a8_c2b4_11eb_a83f_51fb208d27f5row7_col0\" class=\"data row7 col0\" >88</td>\n",
       "                        <td id=\"T_303d44a8_c2b4_11eb_a83f_51fb208d27f5row7_col1\" class=\"data row7 col1\" >76</td>\n",
       "                        <td id=\"T_303d44a8_c2b4_11eb_a83f_51fb208d27f5row7_col2\" class=\"data row7 col2\" >164</td>\n",
       "            </tr>\n",
       "            <tr>\n",
       "                                <th id=\"T_303d44a8_c2b4_11eb_a83f_51fb208d27f5level1_row8\" class=\"row_heading level1 row8\" >3</th>\n",
       "                        <td id=\"T_303d44a8_c2b4_11eb_a83f_51fb208d27f5row8_col0\" class=\"data row8 col0\" >286</td>\n",
       "                        <td id=\"T_303d44a8_c2b4_11eb_a83f_51fb208d27f5row8_col1\" class=\"data row8 col1\" >67</td>\n",
       "                        <td id=\"T_303d44a8_c2b4_11eb_a83f_51fb208d27f5row8_col2\" class=\"data row8 col2\" >353</td>\n",
       "            </tr>\n",
       "            <tr>\n",
       "                        <th id=\"T_303d44a8_c2b4_11eb_a83f_51fb208d27f5level0_row9\" class=\"row_heading level0 row9\" >All</th>\n",
       "                        <th id=\"T_303d44a8_c2b4_11eb_a83f_51fb208d27f5level1_row9\" class=\"row_heading level1 row9\" ></th>\n",
       "                        <td id=\"T_303d44a8_c2b4_11eb_a83f_51fb208d27f5row9_col0\" class=\"data row9 col0\" >549</td>\n",
       "                        <td id=\"T_303d44a8_c2b4_11eb_a83f_51fb208d27f5row9_col1\" class=\"data row9 col1\" >340</td>\n",
       "                        <td id=\"T_303d44a8_c2b4_11eb_a83f_51fb208d27f5row9_col2\" class=\"data row9 col2\" >889</td>\n",
       "            </tr>\n",
       "    </tbody></table>"
      ],
      "text/plain": [
       "<pandas.io.formats.style.Styler at 0x7f1aed650e20>"
      ]
     },
     "execution_count": 290,
     "metadata": {},
     "output_type": "execute_result"
    }
   ],
   "source": [
    "pd.crosstab([data.Embarked,data.Pclass],data.Survived,margins=True).style.background_gradient(cmap='summer_r')"
   ]
  },
  {
   "cell_type": "code",
   "execution_count": 291,
   "metadata": {
    "ExecuteTime": {
     "end_time": "2021-06-01T08:34:32.815086Z",
     "start_time": "2021-06-01T08:34:32.421337Z"
    }
   },
   "outputs": [
    {
     "data": {
      "image/png": "[encoded data removed]",
      "text/plain": [
       "<Figure size 1440x360 with 2 Axes>"
      ]
     },
     "metadata": {
      "needs_background": "light"
     },
     "output_type": "display_data"
    }
   ],
   "source": [
    "f,ax=plt.subplots(1,2,figsize=(20,5))\n",
    "sns.countplot('Embarked',hue='Survived',data=data,ax=ax[0])\n",
    "ax[0].set_title('Embarked vs Survived')\n",
    "sns.countplot('Embarked',hue='Pclass',data=data,ax=ax[1])\n",
    "ax[1].set_title('Embarked vs Pclass')\n",
    "plt.subplots_adjust(wspace=0.2,hspace=0.5)\n",
    "plt.show()"
   ]
  },
  {
   "cell_type": "markdown",
   "metadata": {},
   "source": [
    "<details>\n",
    "Pengamatan:\n",
    "1. Maksimal penumpang yang naik dari S. Mayoritas dari Pclass3.\n",
    "\n",
    "2. Penumpang dari C terlihat beruntung karena sebagian besar dari mereka selamat. Alasan untuk ini mungkin penyelamatan semua Penumpang Pclass1 dan Pclass2.\n",
    "\n",
    "3. Pelabuhan S adalah tempat mayoritas orang kaya naik. Peluang bertahan hidup masih rendah di sini, karena banyak penumpang dari Pclass3 sekitar 81% tidak selamat.\n",
    "\n",
    "4. Pelabuhan Q memiliki hampir 95% penumpang berasal dari Pclass3.\n",
    "    \n",
    "</details>"
   ]
  },
  {
   "cell_type": "markdown",
   "metadata": {},
   "source": [
    "#### Initial vs Survived"
   ]
  },
  {
   "cell_type": "code",
   "execution_count": 292,
   "metadata": {
    "ExecuteTime": {
     "end_time": "2021-06-01T08:34:32.832168Z",
     "start_time": "2021-06-01T08:34:32.816253Z"
    }
   },
   "outputs": [
    {
     "data": {
      "text/html": [
       "<div>\n",
       "<style scoped>\n",
       "    .dataframe tbody tr th:only-of-type {\n",
       "        vertical-align: middle;\n",
       "    }\n",
       "\n",
       "    .dataframe tbody tr th {\n",
       "        vertical-align: top;\n",
       "    }\n",
       "\n",
       "    .dataframe thead th {\n",
       "        text-align: right;\n",
       "    }\n",
       "</style>\n",
       "<table border=\"1\" class=\"dataframe\">\n",
       "  <thead>\n",
       "    <tr style=\"text-align: right;\">\n",
       "      <th></th>\n",
       "      <th>Survived</th>\n",
       "      <th>Pclass</th>\n",
       "      <th>Sex</th>\n",
       "      <th>Age</th>\n",
       "      <th>SibSp</th>\n",
       "      <th>Parch</th>\n",
       "      <th>Fare</th>\n",
       "      <th>Embarked</th>\n",
       "      <th>Initial</th>\n",
       "    </tr>\n",
       "  </thead>\n",
       "  <tbody>\n",
       "    <tr>\n",
       "      <th>0</th>\n",
       "      <td>0</td>\n",
       "      <td>3</td>\n",
       "      <td>male</td>\n",
       "      <td>22.0</td>\n",
       "      <td>1</td>\n",
       "      <td>0</td>\n",
       "      <td>7.2500</td>\n",
       "      <td>S</td>\n",
       "      <td>Mr</td>\n",
       "    </tr>\n",
       "    <tr>\n",
       "      <th>1</th>\n",
       "      <td>1</td>\n",
       "      <td>1</td>\n",
       "      <td>female</td>\n",
       "      <td>38.0</td>\n",
       "      <td>1</td>\n",
       "      <td>0</td>\n",
       "      <td>71.2833</td>\n",
       "      <td>C</td>\n",
       "      <td>Mrs</td>\n",
       "    </tr>\n",
       "    <tr>\n",
       "      <th>2</th>\n",
       "      <td>1</td>\n",
       "      <td>3</td>\n",
       "      <td>female</td>\n",
       "      <td>26.0</td>\n",
       "      <td>0</td>\n",
       "      <td>0</td>\n",
       "      <td>7.9250</td>\n",
       "      <td>S</td>\n",
       "      <td>Miss</td>\n",
       "    </tr>\n",
       "    <tr>\n",
       "      <th>3</th>\n",
       "      <td>1</td>\n",
       "      <td>1</td>\n",
       "      <td>female</td>\n",
       "      <td>35.0</td>\n",
       "      <td>1</td>\n",
       "      <td>0</td>\n",
       "      <td>53.1000</td>\n",
       "      <td>S</td>\n",
       "      <td>Mrs</td>\n",
       "    </tr>\n",
       "    <tr>\n",
       "      <th>4</th>\n",
       "      <td>0</td>\n",
       "      <td>3</td>\n",
       "      <td>male</td>\n",
       "      <td>35.0</td>\n",
       "      <td>0</td>\n",
       "      <td>0</td>\n",
       "      <td>8.0500</td>\n",
       "      <td>S</td>\n",
       "      <td>Mr</td>\n",
       "    </tr>\n",
       "    <tr>\n",
       "      <th>...</th>\n",
       "      <td>...</td>\n",
       "      <td>...</td>\n",
       "      <td>...</td>\n",
       "      <td>...</td>\n",
       "      <td>...</td>\n",
       "      <td>...</td>\n",
       "      <td>...</td>\n",
       "      <td>...</td>\n",
       "      <td>...</td>\n",
       "    </tr>\n",
       "    <tr>\n",
       "      <th>886</th>\n",
       "      <td>0</td>\n",
       "      <td>2</td>\n",
       "      <td>male</td>\n",
       "      <td>27.0</td>\n",
       "      <td>0</td>\n",
       "      <td>0</td>\n",
       "      <td>13.0000</td>\n",
       "      <td>S</td>\n",
       "      <td>Other</td>\n",
       "    </tr>\n",
       "    <tr>\n",
       "      <th>887</th>\n",
       "      <td>1</td>\n",
       "      <td>1</td>\n",
       "      <td>female</td>\n",
       "      <td>19.0</td>\n",
       "      <td>0</td>\n",
       "      <td>0</td>\n",
       "      <td>30.0000</td>\n",
       "      <td>S</td>\n",
       "      <td>Miss</td>\n",
       "    </tr>\n",
       "    <tr>\n",
       "      <th>888</th>\n",
       "      <td>0</td>\n",
       "      <td>3</td>\n",
       "      <td>female</td>\n",
       "      <td>NaN</td>\n",
       "      <td>1</td>\n",
       "      <td>2</td>\n",
       "      <td>23.4500</td>\n",
       "      <td>S</td>\n",
       "      <td>Miss</td>\n",
       "    </tr>\n",
       "    <tr>\n",
       "      <th>889</th>\n",
       "      <td>1</td>\n",
       "      <td>1</td>\n",
       "      <td>male</td>\n",
       "      <td>26.0</td>\n",
       "      <td>0</td>\n",
       "      <td>0</td>\n",
       "      <td>30.0000</td>\n",
       "      <td>C</td>\n",
       "      <td>Mr</td>\n",
       "    </tr>\n",
       "    <tr>\n",
       "      <th>890</th>\n",
       "      <td>0</td>\n",
       "      <td>3</td>\n",
       "      <td>male</td>\n",
       "      <td>32.0</td>\n",
       "      <td>0</td>\n",
       "      <td>0</td>\n",
       "      <td>7.7500</td>\n",
       "      <td>Q</td>\n",
       "      <td>Mr</td>\n",
       "    </tr>\n",
       "  </tbody>\n",
       "</table>\n",
       "<p>891 rows × 9 columns</p>\n",
       "</div>"
      ],
      "text/plain": [
       "     Survived  Pclass     Sex   Age  SibSp  Parch     Fare Embarked Initial\n",
       "0           0       3    male  22.0      1      0   7.2500        S      Mr\n",
       "1           1       1  female  38.0      1      0  71.2833        C     Mrs\n",
       "2           1       3  female  26.0      0      0   7.9250        S    Miss\n",
       "3           1       1  female  35.0      1      0  53.1000        S     Mrs\n",
       "4           0       3    male  35.0      0      0   8.0500        S      Mr\n",
       "..        ...     ...     ...   ...    ...    ...      ...      ...     ...\n",
       "886         0       2    male  27.0      0      0  13.0000        S   Other\n",
       "887         1       1  female  19.0      0      0  30.0000        S    Miss\n",
       "888         0       3  female   NaN      1      2  23.4500        S    Miss\n",
       "889         1       1    male  26.0      0      0  30.0000        C      Mr\n",
       "890         0       3    male  32.0      0      0   7.7500        Q      Mr\n",
       "\n",
       "[891 rows x 9 columns]"
      ]
     },
     "execution_count": 292,
     "metadata": {},
     "output_type": "execute_result"
    }
   ],
   "source": [
    "data"
   ]
  },
  {
   "cell_type": "code",
   "execution_count": 293,
   "metadata": {
    "ExecuteTime": {
     "end_time": "2021-06-01T08:34:32.961373Z",
     "start_time": "2021-06-01T08:34:32.833464Z"
    }
   },
   "outputs": [
    {
     "data": {
      "text/html": [
       "<style  type=\"text/css\" >\n",
       "#T_308feda2_c2b4_11eb_a83f_51fb208d27f5row0_col0{\n",
       "            background-color:  #fbfd66;\n",
       "            color:  #000000;\n",
       "        }#T_308feda2_c2b4_11eb_a83f_51fb208d27f5row0_col1{\n",
       "            background-color:  #eff766;\n",
       "            color:  #000000;\n",
       "        }#T_308feda2_c2b4_11eb_a83f_51fb208d27f5row0_col2,#T_308feda2_c2b4_11eb_a83f_51fb208d27f5row3_col0{\n",
       "            background-color:  #f7fb66;\n",
       "            color:  #000000;\n",
       "        }#T_308feda2_c2b4_11eb_a83f_51fb208d27f5row1_col0{\n",
       "            background-color:  #e9f466;\n",
       "            color:  #000000;\n",
       "        }#T_308feda2_c2b4_11eb_a83f_51fb208d27f5row1_col1{\n",
       "            background-color:  #9ece66;\n",
       "            color:  #000000;\n",
       "        }#T_308feda2_c2b4_11eb_a83f_51fb208d27f5row1_col2{\n",
       "            background-color:  #cce666;\n",
       "            color:  #000000;\n",
       "        }#T_308feda2_c2b4_11eb_a83f_51fb208d27f5row2_col0{\n",
       "            background-color:  #329866;\n",
       "            color:  #000000;\n",
       "        }#T_308feda2_c2b4_11eb_a83f_51fb208d27f5row2_col1{\n",
       "            background-color:  #c0e066;\n",
       "            color:  #000000;\n",
       "        }#T_308feda2_c2b4_11eb_a83f_51fb208d27f5row2_col2{\n",
       "            background-color:  #69b466;\n",
       "            color:  #000000;\n",
       "        }#T_308feda2_c2b4_11eb_a83f_51fb208d27f5row3_col1{\n",
       "            background-color:  #b4da66;\n",
       "            color:  #000000;\n",
       "        }#T_308feda2_c2b4_11eb_a83f_51fb208d27f5row3_col2{\n",
       "            background-color:  #ddee66;\n",
       "            color:  #000000;\n",
       "        }#T_308feda2_c2b4_11eb_a83f_51fb208d27f5row4_col0,#T_308feda2_c2b4_11eb_a83f_51fb208d27f5row4_col1,#T_308feda2_c2b4_11eb_a83f_51fb208d27f5row4_col2{\n",
       "            background-color:  #ffff66;\n",
       "            color:  #000000;\n",
       "        }#T_308feda2_c2b4_11eb_a83f_51fb208d27f5row5_col0,#T_308feda2_c2b4_11eb_a83f_51fb208d27f5row5_col1,#T_308feda2_c2b4_11eb_a83f_51fb208d27f5row5_col2{\n",
       "            background-color:  #008066;\n",
       "            color:  #f1f1f1;\n",
       "        }</style><table id=\"T_308feda2_c2b4_11eb_a83f_51fb208d27f5\" ><thead>    <tr>        <th class=\"index_name level0\" >Survived</th>        <th class=\"col_heading level0 col0\" >0</th>        <th class=\"col_heading level0 col1\" >1</th>        <th class=\"col_heading level0 col2\" >All</th>    </tr>    <tr>        <th class=\"index_name level0\" >Initial</th>        <th class=\"blank\" ></th>        <th class=\"blank\" ></th>        <th class=\"blank\" ></th>    </tr></thead><tbody>\n",
       "                <tr>\n",
       "                        <th id=\"T_308feda2_c2b4_11eb_a83f_51fb208d27f5level0_row0\" class=\"row_heading level0 row0\" >Master</th>\n",
       "                        <td id=\"T_308feda2_c2b4_11eb_a83f_51fb208d27f5row0_col0\" class=\"data row0 col0\" >17</td>\n",
       "                        <td id=\"T_308feda2_c2b4_11eb_a83f_51fb208d27f5row0_col1\" class=\"data row0 col1\" >23</td>\n",
       "                        <td id=\"T_308feda2_c2b4_11eb_a83f_51fb208d27f5row0_col2\" class=\"data row0 col2\" >40</td>\n",
       "            </tr>\n",
       "            <tr>\n",
       "                        <th id=\"T_308feda2_c2b4_11eb_a83f_51fb208d27f5level0_row1\" class=\"row_heading level0 row1\" >Miss</th>\n",
       "                        <td id=\"T_308feda2_c2b4_11eb_a83f_51fb208d27f5row1_col0\" class=\"data row1 col0\" >55</td>\n",
       "                        <td id=\"T_308feda2_c2b4_11eb_a83f_51fb208d27f5row1_col1\" class=\"data row1 col1\" >131</td>\n",
       "                        <td id=\"T_308feda2_c2b4_11eb_a83f_51fb208d27f5row1_col2\" class=\"data row1 col2\" >186</td>\n",
       "            </tr>\n",
       "            <tr>\n",
       "                        <th id=\"T_308feda2_c2b4_11eb_a83f_51fb208d27f5level0_row2\" class=\"row_heading level0 row2\" >Mr</th>\n",
       "                        <td id=\"T_308feda2_c2b4_11eb_a83f_51fb208d27f5row2_col0\" class=\"data row2 col0\" >443</td>\n",
       "                        <td id=\"T_308feda2_c2b4_11eb_a83f_51fb208d27f5row2_col1\" class=\"data row2 col1\" >86</td>\n",
       "                        <td id=\"T_308feda2_c2b4_11eb_a83f_51fb208d27f5row2_col2\" class=\"data row2 col2\" >529</td>\n",
       "            </tr>\n",
       "            <tr>\n",
       "                        <th id=\"T_308feda2_c2b4_11eb_a83f_51fb208d27f5level0_row3\" class=\"row_heading level0 row3\" >Mrs</th>\n",
       "                        <td id=\"T_308feda2_c2b4_11eb_a83f_51fb208d27f5row3_col0\" class=\"data row3 col0\" >26</td>\n",
       "                        <td id=\"T_308feda2_c2b4_11eb_a83f_51fb208d27f5row3_col1\" class=\"data row3 col1\" >101</td>\n",
       "                        <td id=\"T_308feda2_c2b4_11eb_a83f_51fb208d27f5row3_col2\" class=\"data row3 col2\" >127</td>\n",
       "            </tr>\n",
       "            <tr>\n",
       "                        <th id=\"T_308feda2_c2b4_11eb_a83f_51fb208d27f5level0_row4\" class=\"row_heading level0 row4\" >Other</th>\n",
       "                        <td id=\"T_308feda2_c2b4_11eb_a83f_51fb208d27f5row4_col0\" class=\"data row4 col0\" >8</td>\n",
       "                        <td id=\"T_308feda2_c2b4_11eb_a83f_51fb208d27f5row4_col1\" class=\"data row4 col1\" >1</td>\n",
       "                        <td id=\"T_308feda2_c2b4_11eb_a83f_51fb208d27f5row4_col2\" class=\"data row4 col2\" >9</td>\n",
       "            </tr>\n",
       "            <tr>\n",
       "                        <th id=\"T_308feda2_c2b4_11eb_a83f_51fb208d27f5level0_row5\" class=\"row_heading level0 row5\" >All</th>\n",
       "                        <td id=\"T_308feda2_c2b4_11eb_a83f_51fb208d27f5row5_col0\" class=\"data row5 col0\" >549</td>\n",
       "                        <td id=\"T_308feda2_c2b4_11eb_a83f_51fb208d27f5row5_col1\" class=\"data row5 col1\" >342</td>\n",
       "                        <td id=\"T_308feda2_c2b4_11eb_a83f_51fb208d27f5row5_col2\" class=\"data row5 col2\" >891</td>\n",
       "            </tr>\n",
       "    </tbody></table>"
      ],
      "text/plain": [
       "<pandas.io.formats.style.Styler at 0x7f1ad8212040>"
      ]
     },
     "execution_count": 293,
     "metadata": {},
     "output_type": "execute_result"
    }
   ],
   "source": [
    "pd.crosstab(data.Initial,data.Survived,margins=True).style.background_gradient(cmap='summer_r')"
   ]
  },
  {
   "cell_type": "code",
   "execution_count": 294,
   "metadata": {
    "ExecuteTime": {
     "end_time": "2021-06-01T08:34:33.326084Z",
     "start_time": "2021-06-01T08:34:32.962547Z"
    }
   },
   "outputs": [
    {
     "data": {
      "image/png": "[encoded data removed]",
      "text/plain": [
       "<Figure size 360x216 with 1 Axes>"
      ]
     },
     "metadata": {
      "needs_background": "light"
     },
     "output_type": "display_data"
    }
   ],
   "source": [
    "sns.factorplot('Initial','Survived',data=data)\n",
    "fig=plt.gcf()\n",
    "fig.set_size_inches(5,3)\n",
    "plt.show()"
   ]
  },
  {
   "cell_type": "markdown",
   "metadata": {},
   "source": [
    "<details>\n",
    "Hasilnya menunjukkan hasil yang serupa, inisial untuk wanita memiliki tingkat kelangsungan hidup yang lebih tinggi. Namun kami mendapat temuan baru, hal ini menunjukkan bahwa inisial untuk anak (master) memiliki tingkat kelangsungan hidup yang cukup tinggi.\n",
    "</details>"
   ]
  },
  {
   "cell_type": "markdown",
   "metadata": {},
   "source": [
    "### Numeric to Categorical"
   ]
  },
  {
   "cell_type": "markdown",
   "metadata": {},
   "source": [
    "Seperti yang telah dijelaskan sebelumnya, kita dapat melakukan uji chi-squared untuk mengetahui signifikansi korelasi antara dua variabel kategori. \n",
    "\n",
    "Nah, jika kita ingin menguji korelasi antara variabel kategorikal dan numerik, kita dapat melakukan uji ANNOVA.\n",
    "\n",
    "Kali ini kita hanya akan menitikberatkan pengamatan korelasi berdasarkan analisis visual. Untuk melakukannya, kita dapat membuat boxplot/histogram/distplot yang dikelompokkan serta plot biola untuk menunjukkan distribusi kuantitatif yang berbeda di antara setiap kategori."
   ]
  },
  {
   "cell_type": "markdown",
   "metadata": {},
   "source": [
    "#### Age and Initial"
   ]
  },
  {
   "cell_type": "code",
   "execution_count": 295,
   "metadata": {
    "ExecuteTime": {
     "end_time": "2021-06-01T08:34:33.599920Z",
     "start_time": "2021-06-01T08:34:33.327359Z"
    }
   },
   "outputs": [
    {
     "data": {
      "text/plain": [
       "<AxesSubplot:xlabel='Initial', ylabel='Age'>"
      ]
     },
     "execution_count": 295,
     "metadata": {},
     "output_type": "execute_result"
    },
    {
     "data": {
      "image/png": "[encoded data removed]",
      "text/plain": [
       "<Figure size 432x288 with 1 Axes>"
      ]
     },
     "metadata": {
      "needs_background": "light"
     },
     "output_type": "display_data"
    }
   ],
   "source": [
    "sns.boxplot(x='Initial', y='Age', data=data)"
   ]
  },
  {
   "cell_type": "code",
   "execution_count": 296,
   "metadata": {
    "ExecuteTime": {
     "end_time": "2021-06-01T08:34:33.735566Z",
     "start_time": "2021-06-01T08:34:33.601375Z"
    }
   },
   "outputs": [
    {
     "data": {
      "text/plain": [
       "F_onewayResult(statistic=nan, pvalue=nan)"
      ]
     },
     "execution_count": 296,
     "metadata": {},
     "output_type": "execute_result"
    }
   ],
   "source": [
    "from scipy.stats import f_oneway\n",
    "\n",
    "grp = data.groupby(\"Pclass\").groups\n",
    "f_oneway(data.Age[grp[1]], data.Age[grp[2]], data.Age[grp[3]])\n"
   ]
  },
  {
   "cell_type": "markdown",
   "metadata": {},
   "source": [
    "<details>\n",
    "Kita dapat melihat dari boxplot bahwa Master adalah inisial untuk anak dan miss adalah inisial untuk orang yang lebih muda (mungkin wanita)\n",
    "</details>"
   ]
  },
  {
   "cell_type": "code",
   "execution_count": 297,
   "metadata": {
    "ExecuteTime": {
     "end_time": "2021-06-01T08:34:34.148634Z",
     "start_time": "2021-06-01T08:34:33.740090Z"
    }
   },
   "outputs": [
    {
     "data": {
      "text/plain": [
       "<AxesSubplot:xlabel='Initial', ylabel='count'>"
      ]
     },
     "execution_count": 297,
     "metadata": {},
     "output_type": "execute_result"
    },
    {
     "data": {
      "image/png": "[encoded data removed]",
      "text/plain": [
       "<Figure size 432x288 with 1 Axes>"
      ]
     },
     "metadata": {
      "needs_background": "light"
     },
     "output_type": "display_data"
    }
   ],
   "source": [
    "sns.countplot('Initial',hue='Sex',data=data)"
   ]
  },
  {
   "cell_type": "markdown",
   "metadata": {},
   "source": [
    "<details>\n",
    "Kita dapat menggunakan info korelasi ini untuk memasukkan nilai yang hilang di kolom Age. Kita akan menggunakan nilai rata-rata usia dari setiap kelompok Initial.\n",
    "</details>"
   ]
  },
  {
   "cell_type": "code",
   "execution_count": 298,
   "metadata": {
    "ExecuteTime": {
     "end_time": "2021-06-01T08:34:34.197811Z",
     "start_time": "2021-06-01T08:34:34.155735Z"
    }
   },
   "outputs": [
    {
     "name": "stdout",
     "output_type": "stream",
     "text": [
      "{'Master': 5.0, 'Miss': 22.0, 'Mr': 33.0, 'Mrs': 36.0, 'Other': 46.0}\n"
     ]
    },
    {
     "data": {
      "text/plain": [
       "False"
      ]
     },
     "execution_count": 298,
     "metadata": {},
     "output_type": "execute_result"
    }
   ],
   "source": [
    "map_dict = data.groupby('Initial')['Age'].mean().round().to_dict()\n",
    "print(map_dict)\n",
    "\n",
    "for initial in map_dict.keys():\n",
    "    data.loc[(data.Age.isnull())&(data.Initial==initial),'Age']=map_dict[initial]\n",
    "\n",
    "data.Age.isnull().any()"
   ]
  },
  {
   "cell_type": "code",
   "execution_count": 299,
   "metadata": {
    "ExecuteTime": {
     "end_time": "2021-06-01T08:34:34.514651Z",
     "start_time": "2021-06-01T08:34:34.202130Z"
    },
    "scrolled": true
   },
   "outputs": [
    {
     "data": {
      "text/html": [
       "<div>\n",
       "<style scoped>\n",
       "    .dataframe tbody tr th:only-of-type {\n",
       "        vertical-align: middle;\n",
       "    }\n",
       "\n",
       "    .dataframe tbody tr th {\n",
       "        vertical-align: top;\n",
       "    }\n",
       "\n",
       "    .dataframe thead th {\n",
       "        text-align: right;\n",
       "    }\n",
       "</style>\n",
       "<table border=\"1\" class=\"dataframe\">\n",
       "  <thead>\n",
       "    <tr style=\"text-align: right;\">\n",
       "      <th></th>\n",
       "      <th>Survived</th>\n",
       "      <th>Pclass</th>\n",
       "      <th>Sex</th>\n",
       "      <th>Age</th>\n",
       "      <th>SibSp</th>\n",
       "      <th>Parch</th>\n",
       "      <th>Fare</th>\n",
       "      <th>Embarked</th>\n",
       "      <th>Initial</th>\n",
       "    </tr>\n",
       "  </thead>\n",
       "  <tbody>\n",
       "    <tr>\n",
       "      <th>0</th>\n",
       "      <td>0</td>\n",
       "      <td>3</td>\n",
       "      <td>male</td>\n",
       "      <td>22.0</td>\n",
       "      <td>1</td>\n",
       "      <td>0</td>\n",
       "      <td>7.2500</td>\n",
       "      <td>S</td>\n",
       "      <td>Mr</td>\n",
       "    </tr>\n",
       "    <tr>\n",
       "      <th>1</th>\n",
       "      <td>1</td>\n",
       "      <td>1</td>\n",
       "      <td>female</td>\n",
       "      <td>38.0</td>\n",
       "      <td>1</td>\n",
       "      <td>0</td>\n",
       "      <td>71.2833</td>\n",
       "      <td>C</td>\n",
       "      <td>Mrs</td>\n",
       "    </tr>\n",
       "    <tr>\n",
       "      <th>2</th>\n",
       "      <td>1</td>\n",
       "      <td>3</td>\n",
       "      <td>female</td>\n",
       "      <td>26.0</td>\n",
       "      <td>0</td>\n",
       "      <td>0</td>\n",
       "      <td>7.9250</td>\n",
       "      <td>S</td>\n",
       "      <td>Miss</td>\n",
       "    </tr>\n",
       "    <tr>\n",
       "      <th>3</th>\n",
       "      <td>1</td>\n",
       "      <td>1</td>\n",
       "      <td>female</td>\n",
       "      <td>35.0</td>\n",
       "      <td>1</td>\n",
       "      <td>0</td>\n",
       "      <td>53.1000</td>\n",
       "      <td>S</td>\n",
       "      <td>Mrs</td>\n",
       "    </tr>\n",
       "    <tr>\n",
       "      <th>4</th>\n",
       "      <td>0</td>\n",
       "      <td>3</td>\n",
       "      <td>male</td>\n",
       "      <td>35.0</td>\n",
       "      <td>0</td>\n",
       "      <td>0</td>\n",
       "      <td>8.0500</td>\n",
       "      <td>S</td>\n",
       "      <td>Mr</td>\n",
       "    </tr>\n",
       "    <tr>\n",
       "      <th>...</th>\n",
       "      <td>...</td>\n",
       "      <td>...</td>\n",
       "      <td>...</td>\n",
       "      <td>...</td>\n",
       "      <td>...</td>\n",
       "      <td>...</td>\n",
       "      <td>...</td>\n",
       "      <td>...</td>\n",
       "      <td>...</td>\n",
       "    </tr>\n",
       "    <tr>\n",
       "      <th>886</th>\n",
       "      <td>0</td>\n",
       "      <td>2</td>\n",
       "      <td>male</td>\n",
       "      <td>27.0</td>\n",
       "      <td>0</td>\n",
       "      <td>0</td>\n",
       "      <td>13.0000</td>\n",
       "      <td>S</td>\n",
       "      <td>Other</td>\n",
       "    </tr>\n",
       "    <tr>\n",
       "      <th>887</th>\n",
       "      <td>1</td>\n",
       "      <td>1</td>\n",
       "      <td>female</td>\n",
       "      <td>19.0</td>\n",
       "      <td>0</td>\n",
       "      <td>0</td>\n",
       "      <td>30.0000</td>\n",
       "      <td>S</td>\n",
       "      <td>Miss</td>\n",
       "    </tr>\n",
       "    <tr>\n",
       "      <th>888</th>\n",
       "      <td>0</td>\n",
       "      <td>3</td>\n",
       "      <td>female</td>\n",
       "      <td>22.0</td>\n",
       "      <td>1</td>\n",
       "      <td>2</td>\n",
       "      <td>23.4500</td>\n",
       "      <td>S</td>\n",
       "      <td>Miss</td>\n",
       "    </tr>\n",
       "    <tr>\n",
       "      <th>889</th>\n",
       "      <td>1</td>\n",
       "      <td>1</td>\n",
       "      <td>male</td>\n",
       "      <td>26.0</td>\n",
       "      <td>0</td>\n",
       "      <td>0</td>\n",
       "      <td>30.0000</td>\n",
       "      <td>C</td>\n",
       "      <td>Mr</td>\n",
       "    </tr>\n",
       "    <tr>\n",
       "      <th>890</th>\n",
       "      <td>0</td>\n",
       "      <td>3</td>\n",
       "      <td>male</td>\n",
       "      <td>32.0</td>\n",
       "      <td>0</td>\n",
       "      <td>0</td>\n",
       "      <td>7.7500</td>\n",
       "      <td>Q</td>\n",
       "      <td>Mr</td>\n",
       "    </tr>\n",
       "  </tbody>\n",
       "</table>\n",
       "<p>891 rows × 9 columns</p>\n",
       "</div>"
      ],
      "text/plain": [
       "     Survived  Pclass     Sex   Age  SibSp  Parch     Fare Embarked Initial\n",
       "0           0       3    male  22.0      1      0   7.2500        S      Mr\n",
       "1           1       1  female  38.0      1      0  71.2833        C     Mrs\n",
       "2           1       3  female  26.0      0      0   7.9250        S    Miss\n",
       "3           1       1  female  35.0      1      0  53.1000        S     Mrs\n",
       "4           0       3    male  35.0      0      0   8.0500        S      Mr\n",
       "..        ...     ...     ...   ...    ...    ...      ...      ...     ...\n",
       "886         0       2    male  27.0      0      0  13.0000        S   Other\n",
       "887         1       1  female  19.0      0      0  30.0000        S    Miss\n",
       "888         0       3  female  22.0      1      2  23.4500        S    Miss\n",
       "889         1       1    male  26.0      0      0  30.0000        C      Mr\n",
       "890         0       3    male  32.0      0      0   7.7500        Q      Mr\n",
       "\n",
       "[891 rows x 9 columns]"
      ]
     },
     "execution_count": 299,
     "metadata": {},
     "output_type": "execute_result"
    }
   ],
   "source": [
    "data"
   ]
  },
  {
   "cell_type": "code",
   "execution_count": 300,
   "metadata": {
    "ExecuteTime": {
     "end_time": "2021-06-01T08:34:35.456998Z",
     "start_time": "2021-06-01T08:34:34.516922Z"
    }
   },
   "outputs": [
    {
     "data": {
      "text/plain": [
       "0      33.0\n",
       "1      36.0\n",
       "2      22.0\n",
       "3      36.0\n",
       "4      33.0\n",
       "       ... \n",
       "886    46.0\n",
       "887    22.0\n",
       "888    22.0\n",
       "889    33.0\n",
       "890    33.0\n",
       "Length: 891, dtype: float64"
      ]
     },
     "execution_count": 300,
     "metadata": {},
     "output_type": "execute_result"
    }
   ],
   "source": [
    "data.apply(lambda x: map_dict[x.Initial], axis=1)\n",
    "\n",
    "# data.Age.isna().sum()"
   ]
  },
  {
   "cell_type": "code",
   "execution_count": 301,
   "metadata": {
    "ExecuteTime": {
     "end_time": "2021-06-01T08:34:35.532163Z",
     "start_time": "2021-06-01T08:34:35.459597Z"
    }
   },
   "outputs": [
    {
     "data": {
      "text/plain": [
       "22.0"
      ]
     },
     "execution_count": 301,
     "metadata": {},
     "output_type": "execute_result"
    }
   ],
   "source": [
    "data.Age[888]"
   ]
  },
  {
   "cell_type": "markdown",
   "metadata": {},
   "source": [
    "#### Age and Survived"
   ]
  },
  {
   "cell_type": "code",
   "execution_count": 302,
   "metadata": {
    "ExecuteTime": {
     "end_time": "2021-06-01T08:34:35.767370Z",
     "start_time": "2021-06-01T08:34:35.535026Z"
    }
   },
   "outputs": [
    {
     "data": {
      "text/plain": [
       "<AxesSubplot:xlabel='Survived', ylabel='Age'>"
      ]
     },
     "execution_count": 302,
     "metadata": {},
     "output_type": "execute_result"
    },
    {
     "data": {
      "image/png": "[encoded data removed]",
      "text/plain": [
       "<Figure size 432x288 with 1 Axes>"
      ]
     },
     "metadata": {
      "needs_background": "light"
     },
     "output_type": "display_data"
    }
   ],
   "source": [
    "sns.boxplot(x='Survived', y='Age', data=data)"
   ]
  },
  {
   "cell_type": "code",
   "execution_count": 303,
   "metadata": {
    "ExecuteTime": {
     "end_time": "2021-06-01T08:34:35.922658Z",
     "start_time": "2021-06-01T08:34:35.768543Z"
    }
   },
   "outputs": [
    {
     "data": {
      "text/plain": [
       "<AxesSubplot:ylabel='Density'>"
      ]
     },
     "execution_count": 303,
     "metadata": {},
     "output_type": "execute_result"
    },
    {
     "data": {
      "image/png": "[encoded data removed]",
      "text/plain": [
       "<Figure size 432x288 with 1 Axes>"
      ]
     },
     "metadata": {
      "needs_background": "light"
     },
     "output_type": "display_data"
    }
   ],
   "source": [
    "target_0 = data.loc[data['Survived'] == 0]\n",
    "target_1 = data.loc[data['Survived'] == 1]\n",
    "\n",
    "sns.distplot(target_0[['Age']], hist=False, rug=True)\n",
    "sns.distplot(target_1[['Age']], hist=False, rug=True)\n"
   ]
  },
  {
   "cell_type": "markdown",
   "metadata": {},
   "source": [
    "<details>\n",
    "Kita tidak dapat menyimpulkan korelasi apapun antara Age dan Survived.\n",
    "\n",
    "Kita dapat melihat dari distplot bahwa seorang anak usia sampai 10 tahun, memiliki tingkat kelangsungan hidup yang lebih tinggi daripada orang lain yang lebih tua dari mereka. Hal ini ditunjukkan dengan garis distribusi merah yang lebih tinggi pada rentang usia tersebut. Kita bisa membuat fitur baru untuk menandai orang sebagai anak <= 10 tahun.\n",
    "\n",
    "</details>"
   ]
  },
  {
   "cell_type": "markdown",
   "metadata": {},
   "source": [
    "#### Fare and Survived"
   ]
  },
  {
   "cell_type": "code",
   "execution_count": 304,
   "metadata": {
    "ExecuteTime": {
     "end_time": "2021-06-01T08:34:36.021446Z",
     "start_time": "2021-06-01T08:34:35.923766Z"
    }
   },
   "outputs": [
    {
     "data": {
      "text/plain": [
       "<AxesSubplot:xlabel='Survived', ylabel='Fare'>"
      ]
     },
     "execution_count": 304,
     "metadata": {},
     "output_type": "execute_result"
    },
    {
     "data": {
      "image/png": "[encoded data removed]",
      "text/plain": [
       "<Figure size 432x288 with 1 Axes>"
      ]
     },
     "metadata": {
      "needs_background": "light"
     },
     "output_type": "display_data"
    }
   ],
   "source": [
    "sns.boxplot(x='Survived', y='Fare', data=data)"
   ]
  },
  {
   "cell_type": "code",
   "execution_count": 305,
   "metadata": {
    "ExecuteTime": {
     "end_time": "2021-06-01T08:34:36.394636Z",
     "start_time": "2021-06-01T08:34:36.022679Z"
    }
   },
   "outputs": [
    {
     "data": {
      "image/png": "[encoded data removed]",
      "text/plain": [
       "<Figure size 1440x360 with 3 Axes>"
      ]
     },
     "metadata": {
      "needs_background": "light"
     },
     "output_type": "display_data"
    }
   ],
   "source": [
    "target_0 = data.loc[(data['Survived'] == 0) & (data['Pclass'] == 1)]\n",
    "target_1 = data.loc[(data['Survived'] == 0) & (data['Pclass'] == 2)]\n",
    "target_2 = data.loc[(data['Survived'] == 0) & (data['Pclass'] == 3)]\n",
    "target_3 = data.loc[(data['Survived'] == 1) & (data['Pclass'] == 1)]\n",
    "target_4 = data.loc[(data['Survived'] == 1) & (data['Pclass'] == 2)]\n",
    "target_5 = data.loc[(data['Survived'] == 1) & (data['Pclass'] == 3)]\n",
    "\n",
    "\n",
    "f,ax=plt.subplots(1,3,figsize=(20,5),sharey=True)\n",
    "sns.distplot(target_0[['Fare']], hist=False, rug=True, ax=ax[0])\n",
    "# ax[0,0].set_title('Pclass 1 Not Survive')\n",
    "sns.distplot(target_1[['Fare']], hist=False, rug=True, ax=ax[1])\n",
    "# ax[0,1].set_title('Pclass 2 Not Survive')\n",
    "sns.distplot(target_2[['Fare']], hist=False, rug=True, ax=ax[2])\n",
    "# ax[0,2].set_title('Pclass 2 Not Survive')\n",
    "sns.distplot(target_3[['Fare']], hist=False, rug=True, ax=ax[0])\n",
    "# ax[1,0].set_title('Pclass 1 Survive')\n",
    "sns.distplot(target_4[['Fare']], hist=False, rug=True, ax=ax[1])\n",
    "# ax[1,1].set_title('Pclass 2 Survive')\n",
    "sns.distplot(target_5[['Fare']], hist=False, rug=True, ax=ax[2])\n",
    "# ax[1,2].set_title('Pclass 3 Survive')\n",
    "plt.subplots_adjust(wspace=0.2,hspace=0.5)\n",
    "plt.show()"
   ]
  },
  {
   "cell_type": "markdown",
   "metadata": {},
   "source": [
    "<details>\n",
    "Semakin tinggi Fare, semakin selamat, seperti yang dapat dilihat pada kepadatan garis merah yang lebih tinggi saat Fare menjadi lebih tinggi. Seperti yang kita ketahui sebelumnya, PClass 1 adalah kelas yang paling mahal dan PClass 3 adalah tiket kelas yang paling rendah.\n",
    "</details>\n"
   ]
  },
  {
   "cell_type": "markdown",
   "metadata": {},
   "source": [
    "#### SibSp and Survived\n",
    "Fitur ini menunjukkan apakah seseorang sendirian atau bersama anggota keluarganya. Saudara = saudara laki-laki, saudara perempuan, saudara tiri, saudara tiri Pasangan = suami, istri\n",
    "\n",
    "meskipun variabel ini merupakan variabel numerik diskrit, kita dapat melakukan analisis visual yang sama dengan plot faktor karena variabel ini memiliki rentang nilai yang kecil"
   ]
  },
  {
   "cell_type": "code",
   "execution_count": 306,
   "metadata": {
    "ExecuteTime": {
     "end_time": "2021-06-01T08:34:36.731231Z",
     "start_time": "2021-06-01T08:34:36.395803Z"
    }
   },
   "outputs": [
    {
     "data": {
      "text/plain": [
       "<seaborn.axisgrid.FacetGrid at 0x7f1ad82cfd00>"
      ]
     },
     "execution_count": 306,
     "metadata": {},
     "output_type": "execute_result"
    },
    {
     "data": {
      "image/png": "[encoded data removed]",
      "text/plain": [
       "<Figure size 360x360 with 1 Axes>"
      ]
     },
     "metadata": {
      "needs_background": "light"
     },
     "output_type": "display_data"
    }
   ],
   "source": [
    "sns.factorplot('SibSp','Survived', data=data)"
   ]
  },
  {
   "cell_type": "markdown",
   "metadata": {},
   "source": [
    "<details>\n",
    "Factor plot menunjukkan bahwa jika penumpang sendirian di dalam pesawat tanpa saudara kandung, dia memiliki tingkat Survival 34,5%. Grafiknya secara kasar menurun jika jumlah saudara kandung bertambah. Ini masuk akal. Artinya, jika saya memiliki keluarga di kapal, saya akan mencoba menyelamatkan mereka daripada menyelamatkan diri saya terlebih dahulu. Yang mengejutkan, kelangsungan hidup keluarga dengan 5-8 anggota adalah 0%. Alasannya mungkin Pclass??\n",
    "</details>"
   ]
  },
  {
   "cell_type": "code",
   "execution_count": 307,
   "metadata": {
    "ExecuteTime": {
     "end_time": "2021-06-01T08:34:36.760650Z",
     "start_time": "2021-06-01T08:34:36.732287Z"
    }
   },
   "outputs": [
    {
     "data": {
      "text/html": [
       "<style  type=\"text/css\" >\n",
       "#T_32d37d54_c2b4_11eb_a83f_51fb208d27f5row0_col0{\n",
       "            background-color:  #f4fa66;\n",
       "            color:  #000000;\n",
       "        }#T_32d37d54_c2b4_11eb_a83f_51fb208d27f5row0_col1,#T_32d37d54_c2b4_11eb_a83f_51fb208d27f5row0_col2,#T_32d37d54_c2b4_11eb_a83f_51fb208d27f5row0_col4,#T_32d37d54_c2b4_11eb_a83f_51fb208d27f5row0_col5,#T_32d37d54_c2b4_11eb_a83f_51fb208d27f5row0_col6,#T_32d37d54_c2b4_11eb_a83f_51fb208d27f5row1_col4,#T_32d37d54_c2b4_11eb_a83f_51fb208d27f5row1_col5,#T_32d37d54_c2b4_11eb_a83f_51fb208d27f5row1_col6,#T_32d37d54_c2b4_11eb_a83f_51fb208d27f5row2_col3,#T_32d37d54_c2b4_11eb_a83f_51fb208d27f5row2_col4,#T_32d37d54_c2b4_11eb_a83f_51fb208d27f5row2_col5,#T_32d37d54_c2b4_11eb_a83f_51fb208d27f5row2_col6,#T_32d37d54_c2b4_11eb_a83f_51fb208d27f5row3_col0,#T_32d37d54_c2b4_11eb_a83f_51fb208d27f5row3_col4,#T_32d37d54_c2b4_11eb_a83f_51fb208d27f5row3_col5,#T_32d37d54_c2b4_11eb_a83f_51fb208d27f5row3_col6,#T_32d37d54_c2b4_11eb_a83f_51fb208d27f5row5_col5,#T_32d37d54_c2b4_11eb_a83f_51fb208d27f5row5_col6{\n",
       "            background-color:  #ffff66;\n",
       "            color:  #000000;\n",
       "        }#T_32d37d54_c2b4_11eb_a83f_51fb208d27f5row0_col3,#T_32d37d54_c2b4_11eb_a83f_51fb208d27f5row2_col0,#T_32d37d54_c2b4_11eb_a83f_51fb208d27f5row3_col3,#T_32d37d54_c2b4_11eb_a83f_51fb208d27f5row5_col3{\n",
       "            background-color:  #e8f466;\n",
       "            color:  #000000;\n",
       "        }#T_32d37d54_c2b4_11eb_a83f_51fb208d27f5row1_col0{\n",
       "            background-color:  #e0f066;\n",
       "            color:  #000000;\n",
       "        }#T_32d37d54_c2b4_11eb_a83f_51fb208d27f5row1_col1{\n",
       "            background-color:  #148a66;\n",
       "            color:  #000000;\n",
       "        }#T_32d37d54_c2b4_11eb_a83f_51fb208d27f5row1_col2,#T_32d37d54_c2b4_11eb_a83f_51fb208d27f5row2_col2,#T_32d37d54_c2b4_11eb_a83f_51fb208d27f5row3_col2{\n",
       "            background-color:  #aad466;\n",
       "            color:  #000000;\n",
       "        }#T_32d37d54_c2b4_11eb_a83f_51fb208d27f5row1_col3{\n",
       "            background-color:  #d1e866;\n",
       "            color:  #000000;\n",
       "        }#T_32d37d54_c2b4_11eb_a83f_51fb208d27f5row2_col1{\n",
       "            background-color:  #deee66;\n",
       "            color:  #000000;\n",
       "        }#T_32d37d54_c2b4_11eb_a83f_51fb208d27f5row3_col1{\n",
       "            background-color:  #a1d066;\n",
       "            color:  #000000;\n",
       "        }#T_32d37d54_c2b4_11eb_a83f_51fb208d27f5row4_col0,#T_32d37d54_c2b4_11eb_a83f_51fb208d27f5row4_col1,#T_32d37d54_c2b4_11eb_a83f_51fb208d27f5row4_col2,#T_32d37d54_c2b4_11eb_a83f_51fb208d27f5row4_col3,#T_32d37d54_c2b4_11eb_a83f_51fb208d27f5row4_col4,#T_32d37d54_c2b4_11eb_a83f_51fb208d27f5row4_col5,#T_32d37d54_c2b4_11eb_a83f_51fb208d27f5row4_col6{\n",
       "            background-color:  #008066;\n",
       "            color:  #f1f1f1;\n",
       "        }#T_32d37d54_c2b4_11eb_a83f_51fb208d27f5row5_col0{\n",
       "            background-color:  #d9ec66;\n",
       "            color:  #000000;\n",
       "        }#T_32d37d54_c2b4_11eb_a83f_51fb208d27f5row5_col1{\n",
       "            background-color:  #c3e166;\n",
       "            color:  #000000;\n",
       "        }#T_32d37d54_c2b4_11eb_a83f_51fb208d27f5row5_col2{\n",
       "            background-color:  #8ec666;\n",
       "            color:  #000000;\n",
       "        }#T_32d37d54_c2b4_11eb_a83f_51fb208d27f5row5_col4{\n",
       "            background-color:  #cce666;\n",
       "            color:  #000000;\n",
       "        }</style><table id=\"T_32d37d54_c2b4_11eb_a83f_51fb208d27f5\" ><thead>    <tr>        <th class=\"blank\" ></th>        <th class=\"index_name level0\" >SibSp</th>        <th class=\"col_heading level0 col0\" >0</th>        <th class=\"col_heading level0 col1\" >1</th>        <th class=\"col_heading level0 col2\" >2</th>        <th class=\"col_heading level0 col3\" >3</th>        <th class=\"col_heading level0 col4\" >4</th>        <th class=\"col_heading level0 col5\" >5</th>        <th class=\"col_heading level0 col6\" >8</th>    </tr>    <tr>        <th class=\"index_name level0\" >Pclass</th>        <th class=\"index_name level1\" >Survived</th>        <th class=\"blank\" ></th>        <th class=\"blank\" ></th>        <th class=\"blank\" ></th>        <th class=\"blank\" ></th>        <th class=\"blank\" ></th>        <th class=\"blank\" ></th>        <th class=\"blank\" ></th>    </tr></thead><tbody>\n",
       "                <tr>\n",
       "                        <th id=\"T_32d37d54_c2b4_11eb_a83f_51fb208d27f5level0_row0\" class=\"row_heading level0 row0\" rowspan=2>1</th>\n",
       "                        <th id=\"T_32d37d54_c2b4_11eb_a83f_51fb208d27f5level1_row0\" class=\"row_heading level1 row0\" >0</th>\n",
       "                        <td id=\"T_32d37d54_c2b4_11eb_a83f_51fb208d27f5row0_col0\" class=\"data row0 col0\" >60</td>\n",
       "                        <td id=\"T_32d37d54_c2b4_11eb_a83f_51fb208d27f5row0_col1\" class=\"data row0 col1\" >18</td>\n",
       "                        <td id=\"T_32d37d54_c2b4_11eb_a83f_51fb208d27f5row0_col2\" class=\"data row0 col2\" >1</td>\n",
       "                        <td id=\"T_32d37d54_c2b4_11eb_a83f_51fb208d27f5row0_col3\" class=\"data row0 col3\" >1</td>\n",
       "                        <td id=\"T_32d37d54_c2b4_11eb_a83f_51fb208d27f5row0_col4\" class=\"data row0 col4\" >0</td>\n",
       "                        <td id=\"T_32d37d54_c2b4_11eb_a83f_51fb208d27f5row0_col5\" class=\"data row0 col5\" >0</td>\n",
       "                        <td id=\"T_32d37d54_c2b4_11eb_a83f_51fb208d27f5row0_col6\" class=\"data row0 col6\" >0</td>\n",
       "            </tr>\n",
       "            <tr>\n",
       "                                <th id=\"T_32d37d54_c2b4_11eb_a83f_51fb208d27f5level1_row1\" class=\"row_heading level1 row1\" >1</th>\n",
       "                        <td id=\"T_32d37d54_c2b4_11eb_a83f_51fb208d27f5row1_col0\" class=\"data row1 col0\" >77</td>\n",
       "                        <td id=\"T_32d37d54_c2b4_11eb_a83f_51fb208d27f5row1_col1\" class=\"data row1 col1\" >53</td>\n",
       "                        <td id=\"T_32d37d54_c2b4_11eb_a83f_51fb208d27f5row1_col2\" class=\"data row1 col2\" >4</td>\n",
       "                        <td id=\"T_32d37d54_c2b4_11eb_a83f_51fb208d27f5row1_col3\" class=\"data row1 col3\" >2</td>\n",
       "                        <td id=\"T_32d37d54_c2b4_11eb_a83f_51fb208d27f5row1_col4\" class=\"data row1 col4\" >0</td>\n",
       "                        <td id=\"T_32d37d54_c2b4_11eb_a83f_51fb208d27f5row1_col5\" class=\"data row1 col5\" >0</td>\n",
       "                        <td id=\"T_32d37d54_c2b4_11eb_a83f_51fb208d27f5row1_col6\" class=\"data row1 col6\" >0</td>\n",
       "            </tr>\n",
       "            <tr>\n",
       "                        <th id=\"T_32d37d54_c2b4_11eb_a83f_51fb208d27f5level0_row2\" class=\"row_heading level0 row2\" rowspan=2>2</th>\n",
       "                        <th id=\"T_32d37d54_c2b4_11eb_a83f_51fb208d27f5level1_row2\" class=\"row_heading level1 row2\" >0</th>\n",
       "                        <td id=\"T_32d37d54_c2b4_11eb_a83f_51fb208d27f5row2_col0\" class=\"data row2 col0\" >70</td>\n",
       "                        <td id=\"T_32d37d54_c2b4_11eb_a83f_51fb208d27f5row2_col1\" class=\"data row2 col1\" >23</td>\n",
       "                        <td id=\"T_32d37d54_c2b4_11eb_a83f_51fb208d27f5row2_col2\" class=\"data row2 col2\" >4</td>\n",
       "                        <td id=\"T_32d37d54_c2b4_11eb_a83f_51fb208d27f5row2_col3\" class=\"data row2 col3\" >0</td>\n",
       "                        <td id=\"T_32d37d54_c2b4_11eb_a83f_51fb208d27f5row2_col4\" class=\"data row2 col4\" >0</td>\n",
       "                        <td id=\"T_32d37d54_c2b4_11eb_a83f_51fb208d27f5row2_col5\" class=\"data row2 col5\" >0</td>\n",
       "                        <td id=\"T_32d37d54_c2b4_11eb_a83f_51fb208d27f5row2_col6\" class=\"data row2 col6\" >0</td>\n",
       "            </tr>\n",
       "            <tr>\n",
       "                                <th id=\"T_32d37d54_c2b4_11eb_a83f_51fb208d27f5level1_row3\" class=\"row_heading level1 row3\" >1</th>\n",
       "                        <td id=\"T_32d37d54_c2b4_11eb_a83f_51fb208d27f5row3_col0\" class=\"data row3 col0\" >50</td>\n",
       "                        <td id=\"T_32d37d54_c2b4_11eb_a83f_51fb208d27f5row3_col1\" class=\"data row3 col1\" >32</td>\n",
       "                        <td id=\"T_32d37d54_c2b4_11eb_a83f_51fb208d27f5row3_col2\" class=\"data row3 col2\" >4</td>\n",
       "                        <td id=\"T_32d37d54_c2b4_11eb_a83f_51fb208d27f5row3_col3\" class=\"data row3 col3\" >1</td>\n",
       "                        <td id=\"T_32d37d54_c2b4_11eb_a83f_51fb208d27f5row3_col4\" class=\"data row3 col4\" >0</td>\n",
       "                        <td id=\"T_32d37d54_c2b4_11eb_a83f_51fb208d27f5row3_col5\" class=\"data row3 col5\" >0</td>\n",
       "                        <td id=\"T_32d37d54_c2b4_11eb_a83f_51fb208d27f5row3_col6\" class=\"data row3 col6\" >0</td>\n",
       "            </tr>\n",
       "            <tr>\n",
       "                        <th id=\"T_32d37d54_c2b4_11eb_a83f_51fb208d27f5level0_row4\" class=\"row_heading level0 row4\" rowspan=2>3</th>\n",
       "                        <th id=\"T_32d37d54_c2b4_11eb_a83f_51fb208d27f5level1_row4\" class=\"row_heading level1 row4\" >0</th>\n",
       "                        <td id=\"T_32d37d54_c2b4_11eb_a83f_51fb208d27f5row4_col0\" class=\"data row4 col0\" >268</td>\n",
       "                        <td id=\"T_32d37d54_c2b4_11eb_a83f_51fb208d27f5row4_col1\" class=\"data row4 col1\" >56</td>\n",
       "                        <td id=\"T_32d37d54_c2b4_11eb_a83f_51fb208d27f5row4_col2\" class=\"data row4 col2\" >10</td>\n",
       "                        <td id=\"T_32d37d54_c2b4_11eb_a83f_51fb208d27f5row4_col3\" class=\"data row4 col3\" >11</td>\n",
       "                        <td id=\"T_32d37d54_c2b4_11eb_a83f_51fb208d27f5row4_col4\" class=\"data row4 col4\" >15</td>\n",
       "                        <td id=\"T_32d37d54_c2b4_11eb_a83f_51fb208d27f5row4_col5\" class=\"data row4 col5\" >5</td>\n",
       "                        <td id=\"T_32d37d54_c2b4_11eb_a83f_51fb208d27f5row4_col6\" class=\"data row4 col6\" >7</td>\n",
       "            </tr>\n",
       "            <tr>\n",
       "                                <th id=\"T_32d37d54_c2b4_11eb_a83f_51fb208d27f5level1_row5\" class=\"row_heading level1 row5\" >1</th>\n",
       "                        <td id=\"T_32d37d54_c2b4_11eb_a83f_51fb208d27f5row5_col0\" class=\"data row5 col0\" >83</td>\n",
       "                        <td id=\"T_32d37d54_c2b4_11eb_a83f_51fb208d27f5row5_col1\" class=\"data row5 col1\" >27</td>\n",
       "                        <td id=\"T_32d37d54_c2b4_11eb_a83f_51fb208d27f5row5_col2\" class=\"data row5 col2\" >5</td>\n",
       "                        <td id=\"T_32d37d54_c2b4_11eb_a83f_51fb208d27f5row5_col3\" class=\"data row5 col3\" >1</td>\n",
       "                        <td id=\"T_32d37d54_c2b4_11eb_a83f_51fb208d27f5row5_col4\" class=\"data row5 col4\" >3</td>\n",
       "                        <td id=\"T_32d37d54_c2b4_11eb_a83f_51fb208d27f5row5_col5\" class=\"data row5 col5\" >0</td>\n",
       "                        <td id=\"T_32d37d54_c2b4_11eb_a83f_51fb208d27f5row5_col6\" class=\"data row5 col6\" >0</td>\n",
       "            </tr>\n",
       "    </tbody></table>"
      ],
      "text/plain": [
       "<pandas.io.formats.style.Styler at 0x7f1ad843f130>"
      ]
     },
     "execution_count": 307,
     "metadata": {},
     "output_type": "execute_result"
    }
   ],
   "source": [
    "pd.crosstab([data.Pclass,data.Survived],data.SibSp).style.background_gradient(cmap='summer_r')"
   ]
  },
  {
   "cell_type": "markdown",
   "metadata": {},
   "source": [
    "<details>Alasannya adalah Pclass. Crosstab menunjukkan bahwa Orang dengan SibSp> 3 semuanya ada di Pclass3. Hampir semua keluarga besar di Pclass3(>3) mati.</details>"
   ]
  },
  {
   "cell_type": "markdown",
   "metadata": {},
   "source": [
    "#### Parch and Survived"
   ]
  },
  {
   "cell_type": "code",
   "execution_count": 308,
   "metadata": {
    "ExecuteTime": {
     "end_time": "2021-06-01T08:34:37.180595Z",
     "start_time": "2021-06-01T08:34:36.761991Z"
    }
   },
   "outputs": [
    {
     "data": {
      "image/png": "[encoded data removed]",
      "text/plain": [
       "<Figure size 360x360 with 1 Axes>"
      ]
     },
     "metadata": {
      "needs_background": "light"
     },
     "output_type": "display_data"
    }
   ],
   "source": [
    "sns.factorplot('Parch','Survived',data=data,ax=ax[1])\n",
    "plt.show()"
   ]
  },
  {
   "cell_type": "markdown",
   "metadata": {},
   "source": [
    "<details>\n",
    "Di sini juga hasilnya sangat mirip. Penumpang dengan orang tua/anak mereka di dalam pesawat memiliki peluang lebih besar untuk bertahan hidup. Namun berkurang seiring dengan bertambahnya jumlah.\n",
    "\n",
    "Peluang bertahan hidup baik untuk seseorang yang memiliki 1-3 orang tua/anak di kapal. Sendirian juga terbukti berakibat fatal dan peluang untuk bertahan hidup berkurang ketika seseorang memiliki > 4 orang tua / anak di kapal.\n",
    "</details>"
   ]
  },
  {
   "cell_type": "markdown",
   "metadata": {},
   "source": [
    "#### Parch + SibSp"
   ]
  },
  {
   "cell_type": "code",
   "execution_count": 309,
   "metadata": {
    "ExecuteTime": {
     "end_time": "2021-06-01T08:34:37.575989Z",
     "start_time": "2021-06-01T08:34:37.181947Z"
    }
   },
   "outputs": [
    {
     "data": {
      "image/png": "[encoded data removed]",
      "text/plain": [
       "<Figure size 360x360 with 1 Axes>"
      ]
     },
     "metadata": {
      "needs_background": "light"
     },
     "output_type": "display_data"
    }
   ],
   "source": [
    "data['SibPar'] = data['SibSp'] + data['Parch']\n",
    "sns.factorplot('SibPar','Survived',data=data,ax=ax[1])\n",
    "plt.show()"
   ]
  },
  {
   "cell_type": "markdown",
   "metadata": {},
   "source": [
    "### Two Numerical"
   ]
  },
  {
   "cell_type": "markdown",
   "metadata": {},
   "source": [
    "Contingency tables are useful when both variables are qualitative, whereas if we want to show correlation between Scatter two quantitative varible, scatter plot is proven to be effective.\n",
    "\n",
    "Graphs are nice, but if we need a numerical indicator that can tell us whether our variables are correlated, we need a statistical approach to do so. As the other pairs of variable type, we can use the Pearson’s correlation coefficient to shows us how high the correlation between the two variables.\n",
    "\n",
    "Strong correlation?\n",
    "\n",
    "![](http://www.uow.edu.au/content/groups/public/@web/@stsv/documents/mm/uow153493.gif)"
   ]
  },
  {
   "cell_type": "code",
   "execution_count": 310,
   "metadata": {
    "ExecuteTime": {
     "end_time": "2021-06-01T08:34:37.947863Z",
     "start_time": "2021-06-01T08:34:37.577053Z"
    }
   },
   "outputs": [
    {
     "data": {
      "image/png": "[encoded data removed]",
      "text/plain": [
       "<Figure size 720x576 with 2 Axes>"
      ]
     },
     "metadata": {
      "needs_background": "light"
     },
     "output_type": "display_data"
    }
   ],
   "source": [
    "sns.heatmap(data.corr(),annot=True,cmap='RdYlGn',linewidths=0.2) #data.corr()-->correlation matrix\n",
    "fig=plt.gcf()\n",
    "fig.set_size_inches(10,8)\n",
    "plt.show()"
   ]
  },
  {
   "cell_type": "markdown",
   "metadata": {},
   "source": [
    "<details>Interpreting The Heatmap\n",
    "Hal pertama yang perlu diperhatikan adalah bahwa hanya fitur numerik yang dibandingkan karena jelas bahwa kita tidak dapat menghubungkan antara abjad atau string. Sebelum memahami plot, mari kita lihat apa sebenarnya korelasi itu.\n",
    "\n",
    "**KORELASI POSITIF**: Jika peningkatan fitur A menyebabkan peningkatan fitur B, maka mereka berkorelasi positif. Nilai 1 berarti korelasi positif sempurna.\n",
    "\n",
    "**KORELASI NEGATIF**: Jika peningkatan fitur A menyebabkan penurunan fitur B, maka mereka berkorelasi negatif. Nilai -1 berarti korelasi negatif sempurna.\n",
    "\n",
    "Sekarang katakanlah dua fitur berkorelasi tinggi atau sempurna, jadi peningkatan di satu fitur mengarah ke peningkatan di fitur lainnya. Ini berarti bahwa kedua fitur tersebut mengandung informasi yang sangat mirip dan sangat sedikit atau tidak ada perbedaan informasi. Ini dikenal sebagai MultiColinearity karena keduanya berisi informasi yang hampir sama.\n",
    "\n",
    "Jadi menurut Anda kita harus menggunakan keduanya karena salah satunya berlebihan. Saat membuat atau melatih model, kita harus mencoba menghilangkan fitur yang berlebihan karena mengurangi waktu pelatihan dan banyak keuntungan lainnya.\n",
    "\n",
    "Sekarang dari peta panas di atas, kita dapat melihat bahwa fitur-fiturnya tidak banyak berkorelasi. Korelasi tertinggi antara SibSp dan Parch yaitu 0,41.\n",
    "</details>"
   ]
  },
  {
   "cell_type": "markdown",
   "metadata": {},
   "source": [
    "### Observations in a Nutshell for all features:\n",
    "\n",
    "<details>\n",
    "**Sex**: The chance of survival for women is high as compared to men.\n",
    "\n",
    "**Pclass**:There is a visible trend that being a 1st class passenger gives you better chances of survival. The survival rate for Pclass3 is very low. For women, the chance of survival from Pclass1 is almost 1 and is high too for those from Pclass2. Money Wins!!!.\n",
    "\n",
    "**Age**: Children less than 5-10 years do have a high chance of survival. Passengers between age group 15 to 35 died a lot.\n",
    "\n",
    "**Embarked**: This is a very interesting feature. The chances of survival at C looks to be better than even though the majority of Pclass1 passengers got up at S. Passengers at Q were all from Pclass3.\n",
    "\n",
    "K*Parch+SibSp**: Having 1-2 siblings,spouse on board or 1-3 Parents shows a greater chance of probablity rather than being alone or having a large family travelling with you.\n",
    "    \n",
    "</details>"
   ]
  },
  {
   "cell_type": "markdown",
   "metadata": {},
   "source": [
    "## Multivariate Analysis"
   ]
  },
  {
   "cell_type": "markdown",
   "metadata": {},
   "source": [
    "Kita akan melangkah lebih jauh dan mempelajari hubungan antara 3 atau lebih variabel pada saat yang bersamaan. Ini disebut analisis eksplorasi multivariat.\n",
    "\n",
    "Untuk membuat grafik dengan 2 variable itu mudah.\n",
    "Namun untuk membuat grafik dengan 3 variable atau lebih, kita perlu menggunakan teknis dimensionality reduction. Dalam hal ini PCA.\n",
    "\n",
    "##### Analisis PCA\n",
    "PCA memungkinkan kita mengurangi jumlah variabel dengan menemukan variabel baru yang menggabungkan esensi dari beberapa variabel lainnya. Menemukan variabel seperti itu memungkinkan kita untuk mengganti beberapa kolom dalam tabel hanya dengan beberapa. Dengan melakukan itu, kita akan kehilangan sedikit informasi, tetapi kita dapat membuat pilihan yang tepat dengan menimbang manfaat dari menyederhanakan data terhadap sisi negatif dari informasi yang hilang."
   ]
  },
  {
   "cell_type": "code",
   "execution_count": 311,
   "metadata": {
    "ExecuteTime": {
     "end_time": "2021-06-01T08:34:37.966347Z",
     "start_time": "2021-06-01T08:34:37.949385Z"
    }
   },
   "outputs": [
    {
     "data": {
      "text/html": [
       "<div>\n",
       "<style scoped>\n",
       "    .dataframe tbody tr th:only-of-type {\n",
       "        vertical-align: middle;\n",
       "    }\n",
       "\n",
       "    .dataframe tbody tr th {\n",
       "        vertical-align: top;\n",
       "    }\n",
       "\n",
       "    .dataframe thead th {\n",
       "        text-align: right;\n",
       "    }\n",
       "</style>\n",
       "<table border=\"1\" class=\"dataframe\">\n",
       "  <thead>\n",
       "    <tr style=\"text-align: right;\">\n",
       "      <th></th>\n",
       "      <th>Survived</th>\n",
       "      <th>Pclass</th>\n",
       "      <th>Sex</th>\n",
       "      <th>Age</th>\n",
       "      <th>SibSp</th>\n",
       "      <th>Parch</th>\n",
       "      <th>Fare</th>\n",
       "      <th>Initial</th>\n",
       "      <th>SibPar</th>\n",
       "      <th>x0_C</th>\n",
       "      <th>x0_Q</th>\n",
       "    </tr>\n",
       "  </thead>\n",
       "  <tbody>\n",
       "    <tr>\n",
       "      <th>0</th>\n",
       "      <td>0</td>\n",
       "      <td>3</td>\n",
       "      <td>0</td>\n",
       "      <td>22.0</td>\n",
       "      <td>1</td>\n",
       "      <td>0</td>\n",
       "      <td>7.2500</td>\n",
       "      <td>Mr</td>\n",
       "      <td>1</td>\n",
       "      <td>0.0</td>\n",
       "      <td>0.0</td>\n",
       "    </tr>\n",
       "    <tr>\n",
       "      <th>1</th>\n",
       "      <td>1</td>\n",
       "      <td>1</td>\n",
       "      <td>1</td>\n",
       "      <td>38.0</td>\n",
       "      <td>1</td>\n",
       "      <td>0</td>\n",
       "      <td>71.2833</td>\n",
       "      <td>Mrs</td>\n",
       "      <td>1</td>\n",
       "      <td>1.0</td>\n",
       "      <td>0.0</td>\n",
       "    </tr>\n",
       "    <tr>\n",
       "      <th>2</th>\n",
       "      <td>1</td>\n",
       "      <td>3</td>\n",
       "      <td>1</td>\n",
       "      <td>26.0</td>\n",
       "      <td>0</td>\n",
       "      <td>0</td>\n",
       "      <td>7.9250</td>\n",
       "      <td>Miss</td>\n",
       "      <td>0</td>\n",
       "      <td>0.0</td>\n",
       "      <td>0.0</td>\n",
       "    </tr>\n",
       "    <tr>\n",
       "      <th>3</th>\n",
       "      <td>1</td>\n",
       "      <td>1</td>\n",
       "      <td>1</td>\n",
       "      <td>35.0</td>\n",
       "      <td>1</td>\n",
       "      <td>0</td>\n",
       "      <td>53.1000</td>\n",
       "      <td>Mrs</td>\n",
       "      <td>1</td>\n",
       "      <td>0.0</td>\n",
       "      <td>0.0</td>\n",
       "    </tr>\n",
       "    <tr>\n",
       "      <th>4</th>\n",
       "      <td>0</td>\n",
       "      <td>3</td>\n",
       "      <td>0</td>\n",
       "      <td>35.0</td>\n",
       "      <td>0</td>\n",
       "      <td>0</td>\n",
       "      <td>8.0500</td>\n",
       "      <td>Mr</td>\n",
       "      <td>0</td>\n",
       "      <td>0.0</td>\n",
       "      <td>0.0</td>\n",
       "    </tr>\n",
       "  </tbody>\n",
       "</table>\n",
       "</div>"
      ],
      "text/plain": [
       "   Survived  Pclass  Sex   Age  SibSp  Parch     Fare Initial  SibPar  x0_C  \\\n",
       "0         0       3    0  22.0      1      0   7.2500      Mr       1   0.0   \n",
       "1         1       1    1  38.0      1      0  71.2833     Mrs       1   1.0   \n",
       "2         1       3    1  26.0      0      0   7.9250    Miss       0   0.0   \n",
       "3         1       1    1  35.0      1      0  53.1000     Mrs       1   0.0   \n",
       "4         0       3    0  35.0      0      0   8.0500      Mr       0   0.0   \n",
       "\n",
       "   x0_Q  \n",
       "0   0.0  \n",
       "1   0.0  \n",
       "2   0.0  \n",
       "3   0.0  \n",
       "4   0.0  "
      ]
     },
     "execution_count": 311,
     "metadata": {},
     "output_type": "execute_result"
    }
   ],
   "source": [
    "data['Embarked'] = data['Embarked'].fillna('S')\n",
    "data['Sex'] = data.Sex.map({'male':0,'female':1})\n",
    "\n",
    "from sklearn.preprocessing import OneHotEncoder\n",
    "embEncoder = OneHotEncoder()\n",
    "\n",
    "transformed = embEncoder.fit_transform(data.Embarked.to_numpy().reshape(-1,1))\n",
    "ohe_df = pd.DataFrame(transformed.toarray(), columns=embEncoder.get_feature_names()).iloc[:,:-1]\n",
    "data = pd.concat([data, ohe_df], axis=1).drop(['Embarked'], axis=1)\n",
    "data.head()"
   ]
  },
  {
   "cell_type": "code",
   "execution_count": 312,
   "metadata": {
    "ExecuteTime": {
     "end_time": "2021-06-01T08:34:38.093372Z",
     "start_time": "2021-06-01T08:34:37.967788Z"
    }
   },
   "outputs": [
    {
     "data": {
      "text/html": [
       "<div>\n",
       "<style scoped>\n",
       "    .dataframe tbody tr th:only-of-type {\n",
       "        vertical-align: middle;\n",
       "    }\n",
       "\n",
       "    .dataframe tbody tr th {\n",
       "        vertical-align: top;\n",
       "    }\n",
       "\n",
       "    .dataframe thead th {\n",
       "        text-align: right;\n",
       "    }\n",
       "</style>\n",
       "<table border=\"1\" class=\"dataframe\">\n",
       "  <thead>\n",
       "    <tr style=\"text-align: right;\">\n",
       "      <th></th>\n",
       "      <th>Survived</th>\n",
       "      <th>Pclass</th>\n",
       "      <th>Sex</th>\n",
       "      <th>Age</th>\n",
       "      <th>SibSp</th>\n",
       "      <th>Parch</th>\n",
       "      <th>Fare</th>\n",
       "      <th>SibPar</th>\n",
       "      <th>x0_C</th>\n",
       "      <th>x0_Q</th>\n",
       "      <th>x0_Master</th>\n",
       "      <th>x0_Miss</th>\n",
       "      <th>x0_Mr</th>\n",
       "      <th>x0_Mrs</th>\n",
       "    </tr>\n",
       "  </thead>\n",
       "  <tbody>\n",
       "    <tr>\n",
       "      <th>0</th>\n",
       "      <td>0</td>\n",
       "      <td>3</td>\n",
       "      <td>0</td>\n",
       "      <td>22.0</td>\n",
       "      <td>1</td>\n",
       "      <td>0</td>\n",
       "      <td>7.2500</td>\n",
       "      <td>1</td>\n",
       "      <td>0.0</td>\n",
       "      <td>0.0</td>\n",
       "      <td>0.0</td>\n",
       "      <td>0.0</td>\n",
       "      <td>1.0</td>\n",
       "      <td>0.0</td>\n",
       "    </tr>\n",
       "    <tr>\n",
       "      <th>1</th>\n",
       "      <td>1</td>\n",
       "      <td>1</td>\n",
       "      <td>1</td>\n",
       "      <td>38.0</td>\n",
       "      <td>1</td>\n",
       "      <td>0</td>\n",
       "      <td>71.2833</td>\n",
       "      <td>1</td>\n",
       "      <td>1.0</td>\n",
       "      <td>0.0</td>\n",
       "      <td>0.0</td>\n",
       "      <td>0.0</td>\n",
       "      <td>0.0</td>\n",
       "      <td>1.0</td>\n",
       "    </tr>\n",
       "    <tr>\n",
       "      <th>2</th>\n",
       "      <td>1</td>\n",
       "      <td>3</td>\n",
       "      <td>1</td>\n",
       "      <td>26.0</td>\n",
       "      <td>0</td>\n",
       "      <td>0</td>\n",
       "      <td>7.9250</td>\n",
       "      <td>0</td>\n",
       "      <td>0.0</td>\n",
       "      <td>0.0</td>\n",
       "      <td>0.0</td>\n",
       "      <td>1.0</td>\n",
       "      <td>0.0</td>\n",
       "      <td>0.0</td>\n",
       "    </tr>\n",
       "    <tr>\n",
       "      <th>3</th>\n",
       "      <td>1</td>\n",
       "      <td>1</td>\n",
       "      <td>1</td>\n",
       "      <td>35.0</td>\n",
       "      <td>1</td>\n",
       "      <td>0</td>\n",
       "      <td>53.1000</td>\n",
       "      <td>1</td>\n",
       "      <td>0.0</td>\n",
       "      <td>0.0</td>\n",
       "      <td>0.0</td>\n",
       "      <td>0.0</td>\n",
       "      <td>0.0</td>\n",
       "      <td>1.0</td>\n",
       "    </tr>\n",
       "    <tr>\n",
       "      <th>4</th>\n",
       "      <td>0</td>\n",
       "      <td>3</td>\n",
       "      <td>0</td>\n",
       "      <td>35.0</td>\n",
       "      <td>0</td>\n",
       "      <td>0</td>\n",
       "      <td>8.0500</td>\n",
       "      <td>0</td>\n",
       "      <td>0.0</td>\n",
       "      <td>0.0</td>\n",
       "      <td>0.0</td>\n",
       "      <td>0.0</td>\n",
       "      <td>1.0</td>\n",
       "      <td>0.0</td>\n",
       "    </tr>\n",
       "  </tbody>\n",
       "</table>\n",
       "</div>"
      ],
      "text/plain": [
       "   Survived  Pclass  Sex   Age  SibSp  Parch     Fare  SibPar  x0_C  x0_Q  \\\n",
       "0         0       3    0  22.0      1      0   7.2500       1   0.0   0.0   \n",
       "1         1       1    1  38.0      1      0  71.2833       1   1.0   0.0   \n",
       "2         1       3    1  26.0      0      0   7.9250       0   0.0   0.0   \n",
       "3         1       1    1  35.0      1      0  53.1000       1   0.0   0.0   \n",
       "4         0       3    0  35.0      0      0   8.0500       0   0.0   0.0   \n",
       "\n",
       "   x0_Master  x0_Miss  x0_Mr  x0_Mrs  \n",
       "0        0.0      0.0    1.0     0.0  \n",
       "1        0.0      0.0    0.0     1.0  \n",
       "2        0.0      1.0    0.0     0.0  \n",
       "3        0.0      0.0    0.0     1.0  \n",
       "4        0.0      0.0    1.0     0.0  "
      ]
     },
     "execution_count": 312,
     "metadata": {},
     "output_type": "execute_result"
    }
   ],
   "source": [
    "intEncoder = OneHotEncoder()\n",
    "transformed = intEncoder.fit_transform(data.Initial.to_numpy().reshape(-1,1))\n",
    "ohe_df = pd.DataFrame(transformed.toarray(), columns=intEncoder.get_feature_names()).iloc[:,:-1]\n",
    "data = pd.concat([data, ohe_df], axis=1).drop(['Initial'], axis=1)\n",
    "data.head()"
   ]
  },
  {
   "cell_type": "code",
   "execution_count": 313,
   "metadata": {
    "ExecuteTime": {
     "end_time": "2021-06-01T08:34:38.222018Z",
     "start_time": "2021-06-01T08:34:38.094643Z"
    }
   },
   "outputs": [
    {
     "data": {
      "text/html": [
       "<div>\n",
       "<style scoped>\n",
       "    .dataframe tbody tr th:only-of-type {\n",
       "        vertical-align: middle;\n",
       "    }\n",
       "\n",
       "    .dataframe tbody tr th {\n",
       "        vertical-align: top;\n",
       "    }\n",
       "\n",
       "    .dataframe thead th {\n",
       "        text-align: right;\n",
       "    }\n",
       "</style>\n",
       "<table border=\"1\" class=\"dataframe\">\n",
       "  <thead>\n",
       "    <tr style=\"text-align: right;\">\n",
       "      <th></th>\n",
       "      <th>Survived</th>\n",
       "      <th>Pclass</th>\n",
       "      <th>Sex</th>\n",
       "      <th>Age</th>\n",
       "      <th>SibSp</th>\n",
       "      <th>Parch</th>\n",
       "      <th>Fare</th>\n",
       "      <th>SibPar</th>\n",
       "      <th>x0_C</th>\n",
       "      <th>x0_Q</th>\n",
       "      <th>x0_Master</th>\n",
       "      <th>x0_Miss</th>\n",
       "      <th>x0_Mr</th>\n",
       "      <th>x0_Mrs</th>\n",
       "    </tr>\n",
       "  </thead>\n",
       "  <tbody>\n",
       "    <tr>\n",
       "      <th>0</th>\n",
       "      <td>0</td>\n",
       "      <td>3</td>\n",
       "      <td>0</td>\n",
       "      <td>0.271174</td>\n",
       "      <td>1</td>\n",
       "      <td>0</td>\n",
       "      <td>0.014151</td>\n",
       "      <td>1</td>\n",
       "      <td>0.0</td>\n",
       "      <td>0.0</td>\n",
       "      <td>0.0</td>\n",
       "      <td>0.0</td>\n",
       "      <td>1.0</td>\n",
       "      <td>0.0</td>\n",
       "    </tr>\n",
       "    <tr>\n",
       "      <th>1</th>\n",
       "      <td>1</td>\n",
       "      <td>1</td>\n",
       "      <td>1</td>\n",
       "      <td>0.472229</td>\n",
       "      <td>1</td>\n",
       "      <td>0</td>\n",
       "      <td>0.139136</td>\n",
       "      <td>1</td>\n",
       "      <td>1.0</td>\n",
       "      <td>0.0</td>\n",
       "      <td>0.0</td>\n",
       "      <td>0.0</td>\n",
       "      <td>0.0</td>\n",
       "      <td>1.0</td>\n",
       "    </tr>\n",
       "    <tr>\n",
       "      <th>2</th>\n",
       "      <td>1</td>\n",
       "      <td>3</td>\n",
       "      <td>1</td>\n",
       "      <td>0.321438</td>\n",
       "      <td>0</td>\n",
       "      <td>0</td>\n",
       "      <td>0.015469</td>\n",
       "      <td>0</td>\n",
       "      <td>0.0</td>\n",
       "      <td>0.0</td>\n",
       "      <td>0.0</td>\n",
       "      <td>1.0</td>\n",
       "      <td>0.0</td>\n",
       "      <td>0.0</td>\n",
       "    </tr>\n",
       "    <tr>\n",
       "      <th>3</th>\n",
       "      <td>1</td>\n",
       "      <td>1</td>\n",
       "      <td>1</td>\n",
       "      <td>0.434531</td>\n",
       "      <td>1</td>\n",
       "      <td>0</td>\n",
       "      <td>0.103644</td>\n",
       "      <td>1</td>\n",
       "      <td>0.0</td>\n",
       "      <td>0.0</td>\n",
       "      <td>0.0</td>\n",
       "      <td>0.0</td>\n",
       "      <td>0.0</td>\n",
       "      <td>1.0</td>\n",
       "    </tr>\n",
       "    <tr>\n",
       "      <th>4</th>\n",
       "      <td>0</td>\n",
       "      <td>3</td>\n",
       "      <td>0</td>\n",
       "      <td>0.434531</td>\n",
       "      <td>0</td>\n",
       "      <td>0</td>\n",
       "      <td>0.015713</td>\n",
       "      <td>0</td>\n",
       "      <td>0.0</td>\n",
       "      <td>0.0</td>\n",
       "      <td>0.0</td>\n",
       "      <td>0.0</td>\n",
       "      <td>1.0</td>\n",
       "      <td>0.0</td>\n",
       "    </tr>\n",
       "  </tbody>\n",
       "</table>\n",
       "</div>"
      ],
      "text/plain": [
       "   Survived  Pclass  Sex       Age  SibSp  Parch      Fare  SibPar  x0_C  \\\n",
       "0         0       3    0  0.271174      1      0  0.014151       1   0.0   \n",
       "1         1       1    1  0.472229      1      0  0.139136       1   1.0   \n",
       "2         1       3    1  0.321438      0      0  0.015469       0   0.0   \n",
       "3         1       1    1  0.434531      1      0  0.103644       1   0.0   \n",
       "4         0       3    0  0.434531      0      0  0.015713       0   0.0   \n",
       "\n",
       "   x0_Q  x0_Master  x0_Miss  x0_Mr  x0_Mrs  \n",
       "0   0.0        0.0      0.0    1.0     0.0  \n",
       "1   0.0        0.0      0.0    0.0     1.0  \n",
       "2   0.0        0.0      1.0    0.0     0.0  \n",
       "3   0.0        0.0      0.0    0.0     1.0  \n",
       "4   0.0        0.0      0.0    1.0     0.0  "
      ]
     },
     "execution_count": 313,
     "metadata": {},
     "output_type": "execute_result"
    }
   ],
   "source": [
    "from sklearn.preprocessing import MinMaxScaler\n",
    "\n",
    "minMax = MinMaxScaler()\n",
    "data['Age'] = minMax.fit_transform(data.Age.to_numpy().reshape(-1,1))\n",
    "data['Fare'] = minMax.fit_transform(data.Fare.to_numpy().reshape(-1,1))\n",
    "data.head()"
   ]
  },
  {
   "cell_type": "code",
   "execution_count": 314,
   "metadata": {
    "ExecuteTime": {
     "end_time": "2021-06-01T08:34:38.465207Z",
     "start_time": "2021-06-01T08:34:38.224367Z"
    }
   },
   "outputs": [
    {
     "data": {
      "text/plain": [
       "Text(0, 0.5, 'cumulative explained variance')"
      ]
     },
     "execution_count": 314,
     "metadata": {},
     "output_type": "execute_result"
    },
    {
     "data": {
      "image/png": "[encoded data removed]",
      "text/plain": [
       "<Figure size 432x288 with 1 Axes>"
      ]
     },
     "metadata": {
      "needs_background": "light"
     },
     "output_type": "display_data"
    }
   ],
   "source": [
    "from sklearn.decomposition import PCA\n",
    "\n",
    "try_pca = PCA().fit(data.iloc[:,1:])\n",
    "plt.plot(np.cumsum(try_pca.explained_variance_ratio_))\n",
    "plt.xlabel('number of components')\n",
    "plt.ylabel('cumulative explained variance')"
   ]
  },
  {
   "cell_type": "code",
   "execution_count": 315,
   "metadata": {
    "ExecuteTime": {
     "end_time": "2021-06-01T08:34:38.482071Z",
     "start_time": "2021-06-01T08:34:38.466657Z"
    }
   },
   "outputs": [
    {
     "data": {
      "text/html": [
       "<div>\n",
       "<style scoped>\n",
       "    .dataframe tbody tr th:only-of-type {\n",
       "        vertical-align: middle;\n",
       "    }\n",
       "\n",
       "    .dataframe tbody tr th {\n",
       "        vertical-align: top;\n",
       "    }\n",
       "\n",
       "    .dataframe thead th {\n",
       "        text-align: right;\n",
       "    }\n",
       "</style>\n",
       "<table border=\"1\" class=\"dataframe\">\n",
       "  <thead>\n",
       "    <tr style=\"text-align: right;\">\n",
       "      <th></th>\n",
       "      <th>Pca1</th>\n",
       "      <th>Pca2</th>\n",
       "      <th>Survived</th>\n",
       "    </tr>\n",
       "  </thead>\n",
       "  <tbody>\n",
       "    <tr>\n",
       "      <th>0</th>\n",
       "      <td>0.158257</td>\n",
       "      <td>-0.989952</td>\n",
       "      <td>0</td>\n",
       "    </tr>\n",
       "    <tr>\n",
       "      <th>1</th>\n",
       "      <td>0.254525</td>\n",
       "      <td>1.547738</td>\n",
       "      <td>1</td>\n",
       "    </tr>\n",
       "    <tr>\n",
       "      <th>2</th>\n",
       "      <td>-0.972487</td>\n",
       "      <td>-0.272248</td>\n",
       "      <td>1</td>\n",
       "    </tr>\n",
       "    <tr>\n",
       "      <th>3</th>\n",
       "      <td>0.264734</td>\n",
       "      <td>1.407328</td>\n",
       "      <td>1</td>\n",
       "    </tr>\n",
       "    <tr>\n",
       "      <th>4</th>\n",
       "      <td>-1.146907</td>\n",
       "      <td>-0.851793</td>\n",
       "      <td>0</td>\n",
       "    </tr>\n",
       "  </tbody>\n",
       "</table>\n",
       "</div>"
      ],
      "text/plain": [
       "       Pca1      Pca2  Survived\n",
       "0  0.158257 -0.989952         0\n",
       "1  0.254525  1.547738         1\n",
       "2 -0.972487 -0.272248         1\n",
       "3  0.264734  1.407328         1\n",
       "4 -1.146907 -0.851793         0"
      ]
     },
     "execution_count": 315,
     "metadata": {},
     "output_type": "execute_result"
    }
   ],
   "source": [
    "pca_obj = PCA(n_components=2)\n",
    "hasil = pca_obj.fit_transform(data.iloc[:,1:])\n",
    "hasil_pca = pd.concat([pd.DataFrame(hasil,columns=['Pca1','Pca2']),data['Survived']], axis = 1)\n",
    "hasil_pca.head()"
   ]
  },
  {
   "cell_type": "code",
   "execution_count": 316,
   "metadata": {
    "ExecuteTime": {
     "end_time": "2021-06-01T08:34:38.730465Z",
     "start_time": "2021-06-01T08:34:38.483719Z"
    }
   },
   "outputs": [
    {
     "data": {
      "image/png": "[encoded data removed]",
      "text/plain": [
       "<Figure size 432x288 with 2 Axes>"
      ]
     },
     "metadata": {
      "needs_background": "light"
     },
     "output_type": "display_data"
    }
   ],
   "source": [
    "plt.scatter(hasil_pca['Pca1'], hasil_pca['Pca2'],\n",
    "            c=hasil_pca['Survived'], edgecolor='none', alpha=0.5,\n",
    "            cmap=plt.cm.get_cmap('inferno', 2))\n",
    "plt.xlabel('component 1')\n",
    "plt.ylabel('component 2')\n",
    "plt.colorbar();"
   ]
  },
  {
   "cell_type": "code",
   "execution_count": 317,
   "metadata": {
    "ExecuteTime": {
     "end_time": "2021-06-01T08:34:38.744891Z",
     "start_time": "2021-06-01T08:34:38.731785Z"
    }
   },
   "outputs": [
    {
     "data": {
      "text/html": [
       "<div>\n",
       "<style scoped>\n",
       "    .dataframe tbody tr th:only-of-type {\n",
       "        vertical-align: middle;\n",
       "    }\n",
       "\n",
       "    .dataframe tbody tr th {\n",
       "        vertical-align: top;\n",
       "    }\n",
       "\n",
       "    .dataframe thead th {\n",
       "        text-align: right;\n",
       "    }\n",
       "</style>\n",
       "<table border=\"1\" class=\"dataframe\">\n",
       "  <thead>\n",
       "    <tr style=\"text-align: right;\">\n",
       "      <th></th>\n",
       "      <th>Pca1</th>\n",
       "      <th>Pca2</th>\n",
       "      <th>Pca3</th>\n",
       "      <th>Survived</th>\n",
       "    </tr>\n",
       "  </thead>\n",
       "  <tbody>\n",
       "    <tr>\n",
       "      <th>0</th>\n",
       "      <td>0.158257</td>\n",
       "      <td>-0.989952</td>\n",
       "      <td>-0.473083</td>\n",
       "      <td>0</td>\n",
       "    </tr>\n",
       "    <tr>\n",
       "      <th>1</th>\n",
       "      <td>0.254525</td>\n",
       "      <td>1.547738</td>\n",
       "      <td>-0.439699</td>\n",
       "      <td>1</td>\n",
       "    </tr>\n",
       "    <tr>\n",
       "      <th>2</th>\n",
       "      <td>-0.972487</td>\n",
       "      <td>-0.272248</td>\n",
       "      <td>0.989900</td>\n",
       "      <td>1</td>\n",
       "    </tr>\n",
       "    <tr>\n",
       "      <th>3</th>\n",
       "      <td>0.264734</td>\n",
       "      <td>1.407328</td>\n",
       "      <td>-0.409462</td>\n",
       "      <td>1</td>\n",
       "    </tr>\n",
       "    <tr>\n",
       "      <th>4</th>\n",
       "      <td>-1.146907</td>\n",
       "      <td>-0.851793</td>\n",
       "      <td>-0.024660</td>\n",
       "      <td>0</td>\n",
       "    </tr>\n",
       "  </tbody>\n",
       "</table>\n",
       "</div>"
      ],
      "text/plain": [
       "       Pca1      Pca2      Pca3  Survived\n",
       "0  0.158257 -0.989952 -0.473083         0\n",
       "1  0.254525  1.547738 -0.439699         1\n",
       "2 -0.972487 -0.272248  0.989900         1\n",
       "3  0.264734  1.407328 -0.409462         1\n",
       "4 -1.146907 -0.851793 -0.024660         0"
      ]
     },
     "execution_count": 317,
     "metadata": {},
     "output_type": "execute_result"
    }
   ],
   "source": [
    "pca_obj = PCA(n_components=3)\n",
    "hasil = pca_obj.fit_transform(data.iloc[:,1:])\n",
    "hasil_pca = pd.concat([pd.DataFrame(hasil,columns=['Pca1','Pca2','Pca3']),data['Survived']], axis = 1)\n",
    "hasil_pca.head()"
   ]
  },
  {
   "cell_type": "code",
   "execution_count": 318,
   "metadata": {
    "ExecuteTime": {
     "end_time": "2021-06-01T08:34:38.965922Z",
     "start_time": "2021-06-01T08:34:38.746014Z"
    }
   },
   "outputs": [
    {
     "data": {
      "image/png": "[encoded data removed]",
      "text/plain": [
       "<Figure size 720x432 with 1 Axes>"
      ]
     },
     "metadata": {
      "needs_background": "light"
     },
     "output_type": "display_data"
    }
   ],
   "source": [
    "from matplotlib import pyplot\n",
    "from mpl_toolkits.mplot3d import Axes3D\n",
    "\n",
    "fig = pyplot.figure(figsize=(10,6))\n",
    "ax = Axes3D(fig)\n",
    "\n",
    "ax.scatter(hasil_pca['Pca1'], hasil_pca['Pca2'], hasil_pca['Pca3'],c=hasil_pca['Survived'])\n",
    "pyplot.show()"
   ]
  },
  {
   "cell_type": "code",
   "execution_count": 319,
   "metadata": {
    "ExecuteTime": {
     "end_time": "2021-06-01T08:34:38.971508Z",
     "start_time": "2021-06-01T08:34:38.967269Z"
    }
   },
   "outputs": [
    {
     "data": {
      "text/plain": [
       "0      0.271174\n",
       "1      0.472229\n",
       "2      0.321438\n",
       "3      0.434531\n",
       "4      0.434531\n",
       "         ...   \n",
       "886    0.334004\n",
       "887    0.233476\n",
       "888    0.271174\n",
       "889    0.321438\n",
       "890    0.396833\n",
       "Name: Age, Length: 891, dtype: float64"
      ]
     },
     "execution_count": 319,
     "metadata": {},
     "output_type": "execute_result"
    }
   ],
   "source": [
    "data.Age"
   ]
  },
  {
   "cell_type": "code",
   "execution_count": null,
   "metadata": {},
   "outputs": [],
   "source": []
  }
 ],
 "metadata": {
  "kernelspec": {
   "display_name": "Python 3",
   "language": "python",
   "name": "python3"
  },
  "language_info": {
   "codemirror_mode": {
    "name": "ipython",
    "version": 3
   },
   "file_extension": ".py",
   "mimetype": "text/x-python",
   "name": "python",
   "nbconvert_exporter": "python",
   "pygments_lexer": "ipython3",
   "version": "3.8.5"
  },
  "toc": {
   "base_numbering": 1,
   "nav_menu": {},
   "number_sections": true,
   "sideBar": true,
   "skip_h1_title": false,
   "title_cell": "Table of Contents",
   "title_sidebar": "Contents",
   "toc_cell": false,
   "toc_position": {
    "height": "calc(100% - 180px)",
    "left": "10px",
    "top": "150px",
    "width": "335.994px"
   },
   "toc_section_display": true,
   "toc_window_display": true
  },
  "varInspector": {
   "cols": {
    "lenName": 16,
    "lenType": 16,
    "lenVar": 40
   },
   "kernels_config": {
    "python": {
     "delete_cmd_postfix": "",
     "delete_cmd_prefix": "del ",
     "library": "var_list.py",
     "varRefreshCmd": "print(var_dic_list())"
    },
    "r": {
     "delete_cmd_postfix": ") ",
     "delete_cmd_prefix": "rm(",
     "library": "var_list.r",
     "varRefreshCmd": "cat(var_dic_list()) "
    }
   },
   "types_to_exclude": [
    "module",
    "function",
    "builtin_function_or_method",
    "instance",
    "_Feature"
   ],
   "window_display": false
  }
 },
 "nbformat": 4,
 "nbformat_minor": 4
}
