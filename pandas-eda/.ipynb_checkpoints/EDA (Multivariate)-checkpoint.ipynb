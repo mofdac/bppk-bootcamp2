{
 "cells": [
  {
   "cell_type": "markdown",
   "metadata": {},
   "source": [
    "# Exploratory Data Analysis"
   ]
  },
  {
   "cell_type": "markdown",
   "metadata": {},
   "source": [
    "## Setup Environment"
   ]
  },
  {
   "cell_type": "code",
   "execution_count": 44,
   "metadata": {
    "ExecuteTime": {
     "end_time": "2021-06-01T01:58:09.798710Z",
     "start_time": "2021-06-01T01:58:09.789535Z"
    }
   },
   "outputs": [],
   "source": [
    "import numpy as np \n",
    "import pandas as pd\n",
    "import matplotlib.pyplot as plt\n",
    "import seaborn as sns\n",
    "plt.style.use('fivethirtyeight')\n",
    "import warnings\n",
    "warnings.filterwarnings('ignore')\n",
    "%matplotlib inline"
   ]
  },
  {
   "cell_type": "code",
   "execution_count": 45,
   "metadata": {
    "ExecuteTime": {
     "end_time": "2021-06-01T01:58:10.025537Z",
     "start_time": "2021-06-01T01:58:10.019636Z"
    }
   },
   "outputs": [],
   "source": [
    "data = pd.read_csv('dataset/titanic.csv')"
   ]
  },
  {
   "cell_type": "markdown",
   "metadata": {},
   "source": [
    "## Bivariate & Multivariate\n",
    "### Univariate:\n",
    "- Cek dimensi data (tabel-tabel)\n",
    "- Cek tipe data dari masing-masing kolom\n",
    "- Tampilkan sebagian value dari masing-masing kolom\n",
    "- Lakukan perhitungan descriptive statistics untuk tiap kolom\n",
    "- Lakukan analisis visual dengan memplot tiap variable\n",
    "- Cek missing value\n",
    "- Cek duplikasi\n",
    "- Cek validitas (format / range / limit / reference / dll)\n",
    "- cek duplikat\n",
    "\n",
    "### Multivariate:\n",
    "- bivariate analysis\n",
    "    - Two Categorical\n",
    "    - Categorical and Numerical\n",
    "    - Two Numerical\n",
    "- multivariate\n",
    "    - Dimensionality Reduction"
   ]
  },
  {
   "cell_type": "markdown",
   "metadata": {},
   "source": [
    "### Cek Data"
   ]
  },
  {
   "cell_type": "code",
   "execution_count": 46,
   "metadata": {
    "ExecuteTime": {
     "end_time": "2021-06-01T01:58:11.462676Z",
     "start_time": "2021-06-01T01:58:11.452087Z"
    }
   },
   "outputs": [
    {
     "data": {
      "text/html": [
       "<div>\n",
       "<style scoped>\n",
       "    .dataframe tbody tr th:only-of-type {\n",
       "        vertical-align: middle;\n",
       "    }\n",
       "\n",
       "    .dataframe tbody tr th {\n",
       "        vertical-align: top;\n",
       "    }\n",
       "\n",
       "    .dataframe thead th {\n",
       "        text-align: right;\n",
       "    }\n",
       "</style>\n",
       "<table border=\"1\" class=\"dataframe\">\n",
       "  <thead>\n",
       "    <tr style=\"text-align: right;\">\n",
       "      <th></th>\n",
       "      <th>PassengerId</th>\n",
       "      <th>Survived</th>\n",
       "      <th>Pclass</th>\n",
       "      <th>Name</th>\n",
       "      <th>Sex</th>\n",
       "      <th>Age</th>\n",
       "      <th>SibSp</th>\n",
       "      <th>Parch</th>\n",
       "      <th>Ticket</th>\n",
       "      <th>Fare</th>\n",
       "      <th>Cabin</th>\n",
       "      <th>Embarked</th>\n",
       "    </tr>\n",
       "  </thead>\n",
       "  <tbody>\n",
       "    <tr>\n",
       "      <th>0</th>\n",
       "      <td>1</td>\n",
       "      <td>0</td>\n",
       "      <td>3</td>\n",
       "      <td>Braund, Mr. Owen Harris</td>\n",
       "      <td>male</td>\n",
       "      <td>22.0</td>\n",
       "      <td>1</td>\n",
       "      <td>0</td>\n",
       "      <td>A/5 21171</td>\n",
       "      <td>7.2500</td>\n",
       "      <td>NaN</td>\n",
       "      <td>S</td>\n",
       "    </tr>\n",
       "    <tr>\n",
       "      <th>1</th>\n",
       "      <td>2</td>\n",
       "      <td>1</td>\n",
       "      <td>1</td>\n",
       "      <td>Cumings, Mrs. John Bradley (Florence Briggs Th...</td>\n",
       "      <td>female</td>\n",
       "      <td>38.0</td>\n",
       "      <td>1</td>\n",
       "      <td>0</td>\n",
       "      <td>PC 17599</td>\n",
       "      <td>71.2833</td>\n",
       "      <td>C85</td>\n",
       "      <td>C</td>\n",
       "    </tr>\n",
       "    <tr>\n",
       "      <th>2</th>\n",
       "      <td>3</td>\n",
       "      <td>1</td>\n",
       "      <td>3</td>\n",
       "      <td>Heikkinen, Miss. Laina</td>\n",
       "      <td>female</td>\n",
       "      <td>26.0</td>\n",
       "      <td>0</td>\n",
       "      <td>0</td>\n",
       "      <td>STON/O2. 3101282</td>\n",
       "      <td>7.9250</td>\n",
       "      <td>NaN</td>\n",
       "      <td>S</td>\n",
       "    </tr>\n",
       "    <tr>\n",
       "      <th>3</th>\n",
       "      <td>4</td>\n",
       "      <td>1</td>\n",
       "      <td>1</td>\n",
       "      <td>Futrelle, Mrs. Jacques Heath (Lily May Peel)</td>\n",
       "      <td>female</td>\n",
       "      <td>35.0</td>\n",
       "      <td>1</td>\n",
       "      <td>0</td>\n",
       "      <td>113803</td>\n",
       "      <td>53.1000</td>\n",
       "      <td>C123</td>\n",
       "      <td>S</td>\n",
       "    </tr>\n",
       "    <tr>\n",
       "      <th>4</th>\n",
       "      <td>5</td>\n",
       "      <td>0</td>\n",
       "      <td>3</td>\n",
       "      <td>Allen, Mr. William Henry</td>\n",
       "      <td>male</td>\n",
       "      <td>35.0</td>\n",
       "      <td>0</td>\n",
       "      <td>0</td>\n",
       "      <td>373450</td>\n",
       "      <td>8.0500</td>\n",
       "      <td>NaN</td>\n",
       "      <td>S</td>\n",
       "    </tr>\n",
       "  </tbody>\n",
       "</table>\n",
       "</div>"
      ],
      "text/plain": [
       "   PassengerId  Survived  Pclass  \\\n",
       "0            1         0       3   \n",
       "1            2         1       1   \n",
       "2            3         1       3   \n",
       "3            4         1       1   \n",
       "4            5         0       3   \n",
       "\n",
       "                                                Name     Sex   Age  SibSp  \\\n",
       "0                            Braund, Mr. Owen Harris    male  22.0      1   \n",
       "1  Cumings, Mrs. John Bradley (Florence Briggs Th...  female  38.0      1   \n",
       "2                             Heikkinen, Miss. Laina  female  26.0      0   \n",
       "3       Futrelle, Mrs. Jacques Heath (Lily May Peel)  female  35.0      1   \n",
       "4                           Allen, Mr. William Henry    male  35.0      0   \n",
       "\n",
       "   Parch            Ticket     Fare Cabin Embarked  \n",
       "0      0         A/5 21171   7.2500   NaN        S  \n",
       "1      0          PC 17599  71.2833   C85        C  \n",
       "2      0  STON/O2. 3101282   7.9250   NaN        S  \n",
       "3      0            113803  53.1000  C123        S  \n",
       "4      0            373450   8.0500   NaN        S  "
      ]
     },
     "execution_count": 46,
     "metadata": {},
     "output_type": "execute_result"
    }
   ],
   "source": [
    "data.head()"
   ]
  },
  {
   "cell_type": "markdown",
   "metadata": {},
   "source": [
    "\n",
    "### Hasil Univariate Analisis\n",
    "\n",
    "- target variable adalah 'Survived'. 38.4% survived\n",
    "- tipe variable\n",
    "    - Categorical: Sex, Embarked\n",
    "    - Ordinal: PClass\n",
    "    - Continuous: Age, Fare\n",
    "    - Discrete: SibSp, Parch\n",
    "- the middle part of each name is a title of the person, other than that, we can drop the Name column\n",
    "- Age has some missing value that need to be inputed\n",
    "- Cabin has too many missing value, we can drop it\n",
    "- Ticket has too many unique value with difference formats, so we can drop it as well\n",
    "- Passenger Id holds the unique ID of each person, not much information given for predictiong survivability"
   ]
  },
  {
   "cell_type": "code",
   "execution_count": 47,
   "metadata": {
    "ExecuteTime": {
     "end_time": "2021-06-01T01:58:12.345847Z",
     "start_time": "2021-06-01T01:58:12.248697Z"
    }
   },
   "outputs": [
    {
     "data": {
      "text/html": [
       "<div>\n",
       "<style scoped>\n",
       "    .dataframe tbody tr th:only-of-type {\n",
       "        vertical-align: middle;\n",
       "    }\n",
       "\n",
       "    .dataframe tbody tr th {\n",
       "        vertical-align: top;\n",
       "    }\n",
       "\n",
       "    .dataframe thead th {\n",
       "        text-align: right;\n",
       "    }\n",
       "</style>\n",
       "<table border=\"1\" class=\"dataframe\">\n",
       "  <thead>\n",
       "    <tr style=\"text-align: right;\">\n",
       "      <th></th>\n",
       "      <th>Survived</th>\n",
       "      <th>Pclass</th>\n",
       "      <th>Sex</th>\n",
       "      <th>Age</th>\n",
       "      <th>SibSp</th>\n",
       "      <th>Parch</th>\n",
       "      <th>Fare</th>\n",
       "      <th>Embarked</th>\n",
       "      <th>Initial</th>\n",
       "    </tr>\n",
       "  </thead>\n",
       "  <tbody>\n",
       "    <tr>\n",
       "      <th>0</th>\n",
       "      <td>0</td>\n",
       "      <td>3</td>\n",
       "      <td>male</td>\n",
       "      <td>22.0</td>\n",
       "      <td>1</td>\n",
       "      <td>0</td>\n",
       "      <td>7.2500</td>\n",
       "      <td>S</td>\n",
       "      <td>Mr</td>\n",
       "    </tr>\n",
       "    <tr>\n",
       "      <th>1</th>\n",
       "      <td>1</td>\n",
       "      <td>1</td>\n",
       "      <td>female</td>\n",
       "      <td>38.0</td>\n",
       "      <td>1</td>\n",
       "      <td>0</td>\n",
       "      <td>71.2833</td>\n",
       "      <td>C</td>\n",
       "      <td>Mrs</td>\n",
       "    </tr>\n",
       "    <tr>\n",
       "      <th>2</th>\n",
       "      <td>1</td>\n",
       "      <td>3</td>\n",
       "      <td>female</td>\n",
       "      <td>26.0</td>\n",
       "      <td>0</td>\n",
       "      <td>0</td>\n",
       "      <td>7.9250</td>\n",
       "      <td>S</td>\n",
       "      <td>Miss</td>\n",
       "    </tr>\n",
       "    <tr>\n",
       "      <th>3</th>\n",
       "      <td>1</td>\n",
       "      <td>1</td>\n",
       "      <td>female</td>\n",
       "      <td>35.0</td>\n",
       "      <td>1</td>\n",
       "      <td>0</td>\n",
       "      <td>53.1000</td>\n",
       "      <td>S</td>\n",
       "      <td>Mrs</td>\n",
       "    </tr>\n",
       "    <tr>\n",
       "      <th>4</th>\n",
       "      <td>0</td>\n",
       "      <td>3</td>\n",
       "      <td>male</td>\n",
       "      <td>35.0</td>\n",
       "      <td>0</td>\n",
       "      <td>0</td>\n",
       "      <td>8.0500</td>\n",
       "      <td>S</td>\n",
       "      <td>Mr</td>\n",
       "    </tr>\n",
       "  </tbody>\n",
       "</table>\n",
       "</div>"
      ],
      "text/plain": [
       "   Survived  Pclass     Sex   Age  SibSp  Parch     Fare Embarked Initial\n",
       "0         0       3    male  22.0      1      0   7.2500        S      Mr\n",
       "1         1       1  female  38.0      1      0  71.2833        C     Mrs\n",
       "2         1       3  female  26.0      0      0   7.9250        S    Miss\n",
       "3         1       1  female  35.0      1      0  53.1000        S     Mrs\n",
       "4         0       3    male  35.0      0      0   8.0500        S      Mr"
      ]
     },
     "execution_count": 47,
     "metadata": {},
     "output_type": "execute_result"
    }
   ],
   "source": [
    "data['Initial'] = data.Name.str.extract('([A-Za-z]+)\\.')\n",
    "data['Initial'].replace(['Mlle','Mme','Ms','Dr','Major','Lady','Countess','Jonkheer','Col','Rev','Capt','Sir','Don'],['Miss','Miss','Miss','Mr','Mr','Mrs','Mrs','Other','Other','Other','Mr','Mr','Mr'],inplace=True)\n",
    "data.drop(columns=['Name','Ticket','Cabin','PassengerId'], inplace=True)\n",
    "data.head()"
   ]
  },
  {
   "cell_type": "markdown",
   "metadata": {},
   "source": [
    "You are now capable of analyzing all of the variables sequentially, one after the other. Bravo, you are an expert at univariate analysis!\n",
    "\n",
    "Sorry: it’s not over. In this Part, we are going to analyze the relationships between variables. This is known as bivariate analysis."
   ]
  },
  {
   "cell_type": "markdown",
   "metadata": {},
   "source": [
    "## Bivariate Analysis\n",
    "*Correlation*\n",
    "Concept of relationship between variables is known more formally as correlation. When we say that two variables are correlated, we mean that if we know the value of one, then it is possible to have a (more or less accurate) indication of the value of the other.\n",
    "\n",
    "Correlations are useful because they can indicate a predictive relationship that can be exploited in practice. So, the most important correlation that we must find out is the correlation between independent and dependent variable \n"
   ]
  },
  {
   "cell_type": "markdown",
   "metadata": {},
   "source": [
    "### Categorical to Categorical\n",
    "\n",
    "To check correlation between two categorical variables, we can try making a Contingency Table (cross tabulation/crosstab). Additionally, to visualize the crosstab result, we can plot it using bar chart or factor plot\n",
    "\n",
    "If we want to test dependency of two categorical variable with a statistical approach, we can use chi-square test. test used to analyze how significant a relationship between two categorical variables is. However, on this occasion, we will not test the significancy of the correlation but only intuitively look at dependency based on visualization \n",
    "\n",
    "We start with <br>"
   ]
  },
  {
   "cell_type": "markdown",
   "metadata": {},
   "source": [
    "#### Sex and Survived"
   ]
  },
  {
   "cell_type": "markdown",
   "metadata": {
    "ExecuteTime": {
     "end_time": "2021-06-01T01:53:12.608946Z",
     "start_time": "2021-06-01T01:53:12.605476Z"
    }
   },
   "source": [
    "###### Cross Tab"
   ]
  },
  {
   "cell_type": "code",
   "execution_count": 69,
   "metadata": {
    "ExecuteTime": {
     "end_time": "2021-06-01T02:05:50.208351Z",
     "start_time": "2021-06-01T02:05:50.126682Z"
    }
   },
   "outputs": [
    {
     "data": {
      "text/html": [
       "<style  type=\"text/css\" >\n",
       "#T_e31dee1a_c27d_11eb_a83f_51fb208d27f5row0_col0,#T_e31dee1a_c27d_11eb_a83f_51fb208d27f5row0_col2,#T_e31dee1a_c27d_11eb_a83f_51fb208d27f5row1_col1{\n",
       "            background-color:  #ffff66;\n",
       "            color:  #000000;\n",
       "        }#T_e31dee1a_c27d_11eb_a83f_51fb208d27f5row0_col1{\n",
       "            background-color:  #77bb66;\n",
       "            color:  #000000;\n",
       "        }#T_e31dee1a_c27d_11eb_a83f_51fb208d27f5row1_col0{\n",
       "            background-color:  #2c9666;\n",
       "            color:  #000000;\n",
       "        }#T_e31dee1a_c27d_11eb_a83f_51fb208d27f5row1_col2{\n",
       "            background-color:  #8bc566;\n",
       "            color:  #000000;\n",
       "        }#T_e31dee1a_c27d_11eb_a83f_51fb208d27f5row2_col0,#T_e31dee1a_c27d_11eb_a83f_51fb208d27f5row2_col1,#T_e31dee1a_c27d_11eb_a83f_51fb208d27f5row2_col2{\n",
       "            background-color:  #008066;\n",
       "            color:  #f1f1f1;\n",
       "        }</style><table id=\"T_e31dee1a_c27d_11eb_a83f_51fb208d27f5\" ><thead>    <tr>        <th class=\"index_name level0\" >Survived</th>        <th class=\"col_heading level0 col0\" >0</th>        <th class=\"col_heading level0 col1\" >1</th>        <th class=\"col_heading level0 col2\" >All</th>    </tr>    <tr>        <th class=\"index_name level0\" >Sex</th>        <th class=\"blank\" ></th>        <th class=\"blank\" ></th>        <th class=\"blank\" ></th>    </tr></thead><tbody>\n",
       "                <tr>\n",
       "                        <th id=\"T_e31dee1a_c27d_11eb_a83f_51fb208d27f5level0_row0\" class=\"row_heading level0 row0\" >female</th>\n",
       "                        <td id=\"T_e31dee1a_c27d_11eb_a83f_51fb208d27f5row0_col0\" class=\"data row0 col0\" >81</td>\n",
       "                        <td id=\"T_e31dee1a_c27d_11eb_a83f_51fb208d27f5row0_col1\" class=\"data row0 col1\" >233</td>\n",
       "                        <td id=\"T_e31dee1a_c27d_11eb_a83f_51fb208d27f5row0_col2\" class=\"data row0 col2\" >314</td>\n",
       "            </tr>\n",
       "            <tr>\n",
       "                        <th id=\"T_e31dee1a_c27d_11eb_a83f_51fb208d27f5level0_row1\" class=\"row_heading level0 row1\" >male</th>\n",
       "                        <td id=\"T_e31dee1a_c27d_11eb_a83f_51fb208d27f5row1_col0\" class=\"data row1 col0\" >468</td>\n",
       "                        <td id=\"T_e31dee1a_c27d_11eb_a83f_51fb208d27f5row1_col1\" class=\"data row1 col1\" >109</td>\n",
       "                        <td id=\"T_e31dee1a_c27d_11eb_a83f_51fb208d27f5row1_col2\" class=\"data row1 col2\" >577</td>\n",
       "            </tr>\n",
       "            <tr>\n",
       "                        <th id=\"T_e31dee1a_c27d_11eb_a83f_51fb208d27f5level0_row2\" class=\"row_heading level0 row2\" >All</th>\n",
       "                        <td id=\"T_e31dee1a_c27d_11eb_a83f_51fb208d27f5row2_col0\" class=\"data row2 col0\" >549</td>\n",
       "                        <td id=\"T_e31dee1a_c27d_11eb_a83f_51fb208d27f5row2_col1\" class=\"data row2 col1\" >342</td>\n",
       "                        <td id=\"T_e31dee1a_c27d_11eb_a83f_51fb208d27f5row2_col2\" class=\"data row2 col2\" >891</td>\n",
       "            </tr>\n",
       "    </tbody></table>"
      ],
      "text/plain": [
       "<pandas.io.formats.style.Styler at 0x7f1bc7487610>"
      ]
     },
     "execution_count": 69,
     "metadata": {},
     "output_type": "execute_result"
    }
   ],
   "source": [
    "df_sex_ct = pd.crosstab(data['Sex'], data['Survived'],margins=True)\n",
    "df_sex_ct.style.background_gradient(cmap='summer_r')"
   ]
  },
  {
   "cell_type": "markdown",
   "metadata": {},
   "source": [
    "###### Chi Square"
   ]
  },
  {
   "cell_type": "code",
   "execution_count": 153,
   "metadata": {
    "ExecuteTime": {
     "end_time": "2021-06-01T03:37:05.744289Z",
     "start_time": "2021-06-01T03:37:05.735727Z"
    },
    "scrolled": true
   },
   "outputs": [
    {
     "name": "stdout",
     "output_type": "stream",
     "text": [
      "p value is 1.0036732821369117e-55\n",
      "Dependent (reject H0)\n"
     ]
    }
   ],
   "source": [
    "from scipy.stats import chi2_contingency\n",
    "  \n",
    "    \n",
    "def chi_test(data):    \n",
    "    # defining the table\n",
    "    stat, p, dof, expected = chi2_contingency(data)\n",
    "\n",
    "    # interpret p-value\n",
    "    alpha = 0.05\n",
    "    print(\"p value is \" + str(p))\n",
    "    if p <= alpha:\n",
    "        print('Dependent (reject H0)')\n",
    "    else:\n",
    "        print('Independent (H0 holds true)')\n",
    "\n",
    "chi_test(df_sex_ct)"
   ]
  },
  {
   "cell_type": "markdown",
   "metadata": {},
   "source": [
    "###### Visualisasi"
   ]
  },
  {
   "cell_type": "code",
   "execution_count": 21,
   "metadata": {
    "ExecuteTime": {
     "end_time": "2021-06-01T01:45:43.792920Z",
     "start_time": "2021-06-01T01:45:43.562155Z"
    }
   },
   "outputs": [
    {
     "data": {
      "image/png": "[encoded data removed]",
      "text/plain": [
       "<Figure size 1296x360 with 2 Axes>"
      ]
     },
     "metadata": {
      "needs_background": "light"
     },
     "output_type": "display_data"
    }
   ],
   "source": [
    "f,ax=plt.subplots(1,2,figsize=(18,5))\n",
    "\n",
    "# subplot 1\n",
    "data[['Sex','Survived']].groupby(['Sex']).mean().plot.bar(ax=ax[0])\n",
    "ax[0].set_title('Survived vs Sex')\n",
    "\n",
    "# subplot 2 \n",
    "sns.countplot('Sex',hue='Survived',data=data, ax=ax[1])\n",
    "ax[1].set_title('Sex:Survived vs Dead')\n",
    "\n",
    "# show\n",
    "plt.show()"
   ]
  },
  {
   "cell_type": "markdown",
   "metadata": {},
   "source": [
    "This looks interesting. The number of men on the ship is lot more than the number of women. Still the number of women saved is almost twice the number of males saved. The survival rates for **a women on the ship is around 75% while that for men in around 18-19%**.\n",
    "\n",
    "This looks to be a **very important** feature for modeling. But is it the best?? Lets check other features."
   ]
  },
  {
   "cell_type": "markdown",
   "metadata": {},
   "source": [
    "#### Pclass and Survived"
   ]
  },
  {
   "cell_type": "code",
   "execution_count": 71,
   "metadata": {
    "ExecuteTime": {
     "end_time": "2021-06-01T02:05:56.524762Z",
     "start_time": "2021-06-01T02:05:56.438899Z"
    },
    "scrolled": true
   },
   "outputs": [
    {
     "data": {
      "text/html": [
       "<style  type=\"text/css\" >\n",
       "#T_e6e2022a_c27d_11eb_a83f_51fb208d27f5row0_col0,#T_e6e2022a_c27d_11eb_a83f_51fb208d27f5row1_col1,#T_e6e2022a_c27d_11eb_a83f_51fb208d27f5row1_col2{\n",
       "            background-color:  #ffff66;\n",
       "            color:  #000000;\n",
       "        }#T_e6e2022a_c27d_11eb_a83f_51fb208d27f5row0_col1{\n",
       "            background-color:  #cee666;\n",
       "            color:  #000000;\n",
       "        }#T_e6e2022a_c27d_11eb_a83f_51fb208d27f5row0_col2{\n",
       "            background-color:  #f4fa66;\n",
       "            color:  #000000;\n",
       "        }#T_e6e2022a_c27d_11eb_a83f_51fb208d27f5row1_col0{\n",
       "            background-color:  #f6fa66;\n",
       "            color:  #000000;\n",
       "        }#T_e6e2022a_c27d_11eb_a83f_51fb208d27f5row2_col0{\n",
       "            background-color:  #60b066;\n",
       "            color:  #000000;\n",
       "        }#T_e6e2022a_c27d_11eb_a83f_51fb208d27f5row2_col1{\n",
       "            background-color:  #dfef66;\n",
       "            color:  #000000;\n",
       "        }#T_e6e2022a_c27d_11eb_a83f_51fb208d27f5row2_col2{\n",
       "            background-color:  #90c866;\n",
       "            color:  #000000;\n",
       "        }#T_e6e2022a_c27d_11eb_a83f_51fb208d27f5row3_col0,#T_e6e2022a_c27d_11eb_a83f_51fb208d27f5row3_col1,#T_e6e2022a_c27d_11eb_a83f_51fb208d27f5row3_col2{\n",
       "            background-color:  #008066;\n",
       "            color:  #f1f1f1;\n",
       "        }</style><table id=\"T_e6e2022a_c27d_11eb_a83f_51fb208d27f5\" ><thead>    <tr>        <th class=\"index_name level0\" >Survived</th>        <th class=\"col_heading level0 col0\" >0</th>        <th class=\"col_heading level0 col1\" >1</th>        <th class=\"col_heading level0 col2\" >All</th>    </tr>    <tr>        <th class=\"index_name level0\" >Pclass</th>        <th class=\"blank\" ></th>        <th class=\"blank\" ></th>        <th class=\"blank\" ></th>    </tr></thead><tbody>\n",
       "                <tr>\n",
       "                        <th id=\"T_e6e2022a_c27d_11eb_a83f_51fb208d27f5level0_row0\" class=\"row_heading level0 row0\" >1</th>\n",
       "                        <td id=\"T_e6e2022a_c27d_11eb_a83f_51fb208d27f5row0_col0\" class=\"data row0 col0\" >80</td>\n",
       "                        <td id=\"T_e6e2022a_c27d_11eb_a83f_51fb208d27f5row0_col1\" class=\"data row0 col1\" >136</td>\n",
       "                        <td id=\"T_e6e2022a_c27d_11eb_a83f_51fb208d27f5row0_col2\" class=\"data row0 col2\" >216</td>\n",
       "            </tr>\n",
       "            <tr>\n",
       "                        <th id=\"T_e6e2022a_c27d_11eb_a83f_51fb208d27f5level0_row1\" class=\"row_heading level0 row1\" >2</th>\n",
       "                        <td id=\"T_e6e2022a_c27d_11eb_a83f_51fb208d27f5row1_col0\" class=\"data row1 col0\" >97</td>\n",
       "                        <td id=\"T_e6e2022a_c27d_11eb_a83f_51fb208d27f5row1_col1\" class=\"data row1 col1\" >87</td>\n",
       "                        <td id=\"T_e6e2022a_c27d_11eb_a83f_51fb208d27f5row1_col2\" class=\"data row1 col2\" >184</td>\n",
       "            </tr>\n",
       "            <tr>\n",
       "                        <th id=\"T_e6e2022a_c27d_11eb_a83f_51fb208d27f5level0_row2\" class=\"row_heading level0 row2\" >3</th>\n",
       "                        <td id=\"T_e6e2022a_c27d_11eb_a83f_51fb208d27f5row2_col0\" class=\"data row2 col0\" >372</td>\n",
       "                        <td id=\"T_e6e2022a_c27d_11eb_a83f_51fb208d27f5row2_col1\" class=\"data row2 col1\" >119</td>\n",
       "                        <td id=\"T_e6e2022a_c27d_11eb_a83f_51fb208d27f5row2_col2\" class=\"data row2 col2\" >491</td>\n",
       "            </tr>\n",
       "            <tr>\n",
       "                        <th id=\"T_e6e2022a_c27d_11eb_a83f_51fb208d27f5level0_row3\" class=\"row_heading level0 row3\" >All</th>\n",
       "                        <td id=\"T_e6e2022a_c27d_11eb_a83f_51fb208d27f5row3_col0\" class=\"data row3 col0\" >549</td>\n",
       "                        <td id=\"T_e6e2022a_c27d_11eb_a83f_51fb208d27f5row3_col1\" class=\"data row3 col1\" >342</td>\n",
       "                        <td id=\"T_e6e2022a_c27d_11eb_a83f_51fb208d27f5row3_col2\" class=\"data row3 col2\" >891</td>\n",
       "            </tr>\n",
       "    </tbody></table>"
      ],
      "text/plain": [
       "<pandas.io.formats.style.Styler at 0x7f1bc75a64f0>"
      ]
     },
     "execution_count": 71,
     "metadata": {},
     "output_type": "execute_result"
    }
   ],
   "source": [
    "df_pclass_ct = pd.crosstab(data.Pclass,data.Survived,margins=True)\n",
    "df_pclass_ct.style.background_gradient(cmap='summer_r')"
   ]
  },
  {
   "cell_type": "code",
   "execution_count": 72,
   "metadata": {
    "ExecuteTime": {
     "end_time": "2021-06-01T02:05:58.027235Z",
     "start_time": "2021-06-01T02:05:58.021826Z"
    }
   },
   "outputs": [
    {
     "name": "stdout",
     "output_type": "stream",
     "text": [
      "p value is 6.258462423531468e-20\n",
      "Dependent (reject H0)\n"
     ]
    }
   ],
   "source": [
    "from scipy.stats import chi2_contingency\n",
    "  \n",
    "# defining the table\n",
    "stat, p, dof, expected = chi2_contingency(df_pclass_ct)\n",
    "  \n",
    "# interpret p-value\n",
    "alpha = 0.05\n",
    "print(\"p value is \" + str(p))\n",
    "if p <= alpha:\n",
    "    print('Dependent (reject H0)')\n",
    "else:\n",
    "    print('Independent (H0 holds true)')"
   ]
  },
  {
   "cell_type": "code",
   "execution_count": 78,
   "metadata": {
    "ExecuteTime": {
     "end_time": "2021-06-01T02:08:18.127349Z",
     "start_time": "2021-06-01T02:08:17.863218Z"
    }
   },
   "outputs": [
    {
     "data": {
      "image/png": "[encoded data removed]",
      "text/plain": [
       "<Figure size 1296x360 with 2 Axes>"
      ]
     },
     "metadata": {
      "needs_background": "light"
     },
     "output_type": "display_data"
    }
   ],
   "source": [
    "f,ax=plt.subplots(1,2,figsize=(18,5))\n",
    "\n",
    "#subplot 1\n",
    "data['Pclass'].value_counts().sort_index().plot.bar(color=['#CD7F32','#FFDF00','#D3D3D3'],ax=ax[0])\n",
    "ax[0].set_title('Number Of Passengers By Pclass')\n",
    "ax[0].set_ylabel('Count')\n",
    "\n",
    "#subplot 2\n",
    "sns.countplot('Pclass',hue='Survived',data=data,ax=ax[1])\n",
    "ax[1].set_title('Pclass: Survived vs Dead')\n",
    "\n",
    "#show\n",
    "plt.show()"
   ]
  },
  {
   "cell_type": "markdown",
   "metadata": {},
   "source": [
    "People say **Money Can't Buy Everything**. But we can clearly see that Passenegers Of Pclass 1 were given a very high priority while rescue. Even though the the number of Passengers in Pclass 3 were a lot higher, still the number of survival from them is very low, somewhere around 25%.\n",
    "\n",
    "For Pclass 1 %survived is around 63% while for Pclass2 is around 48%. So money and status matters. Such a materialistic world.\n",
    "\n",
    "Lets Dive in little bit more and check for other interesting observations. Lets check survival rate with **Sex and Pclass** Together."
   ]
  },
  {
   "cell_type": "code",
   "execution_count": 62,
   "metadata": {
    "ExecuteTime": {
     "end_time": "2021-06-01T02:03:31.485217Z",
     "start_time": "2021-06-01T02:03:31.446609Z"
    }
   },
   "outputs": [
    {
     "data": {
      "text/html": [
       "<style  type=\"text/css\" >\n",
       "#T_906ec720_c27d_11eb_a83f_51fb208d27f5row0_col0,#T_906ec720_c27d_11eb_a83f_51fb208d27f5row1_col2,#T_906ec720_c27d_11eb_a83f_51fb208d27f5row4_col1{\n",
       "            background-color:  #ffff66;\n",
       "            color:  #000000;\n",
       "        }#T_906ec720_c27d_11eb_a83f_51fb208d27f5row0_col1{\n",
       "            background-color:  #c5e266;\n",
       "            color:  #000000;\n",
       "        }#T_906ec720_c27d_11eb_a83f_51fb208d27f5row0_col2{\n",
       "            background-color:  #fafc66;\n",
       "            color:  #000000;\n",
       "        }#T_906ec720_c27d_11eb_a83f_51fb208d27f5row1_col0{\n",
       "            background-color:  #fefe66;\n",
       "            color:  #000000;\n",
       "        }#T_906ec720_c27d_11eb_a83f_51fb208d27f5row1_col1,#T_906ec720_c27d_11eb_a83f_51fb208d27f5row4_col0{\n",
       "            background-color:  #d6eb66;\n",
       "            color:  #000000;\n",
       "        }#T_906ec720_c27d_11eb_a83f_51fb208d27f5row2_col0{\n",
       "            background-color:  #dfef66;\n",
       "            color:  #000000;\n",
       "        }#T_906ec720_c27d_11eb_a83f_51fb208d27f5row2_col1{\n",
       "            background-color:  #d4ea66;\n",
       "            color:  #000000;\n",
       "        }#T_906ec720_c27d_11eb_a83f_51fb208d27f5row2_col2{\n",
       "            background-color:  #eaf466;\n",
       "            color:  #000000;\n",
       "        }#T_906ec720_c27d_11eb_a83f_51fb208d27f5row3_col0{\n",
       "            background-color:  #ddee66;\n",
       "            color:  #000000;\n",
       "        }#T_906ec720_c27d_11eb_a83f_51fb208d27f5row3_col1{\n",
       "            background-color:  #e9f466;\n",
       "            color:  #000000;\n",
       "        }#T_906ec720_c27d_11eb_a83f_51fb208d27f5row3_col2{\n",
       "            background-color:  #f1f866;\n",
       "            color:  #000000;\n",
       "        }#T_906ec720_c27d_11eb_a83f_51fb208d27f5row4_col2{\n",
       "            background-color:  #f5fa66;\n",
       "            color:  #000000;\n",
       "        }#T_906ec720_c27d_11eb_a83f_51fb208d27f5row5_col0{\n",
       "            background-color:  #74ba66;\n",
       "            color:  #000000;\n",
       "        }#T_906ec720_c27d_11eb_a83f_51fb208d27f5row5_col1{\n",
       "            background-color:  #e8f466;\n",
       "            color:  #000000;\n",
       "        }#T_906ec720_c27d_11eb_a83f_51fb208d27f5row5_col2{\n",
       "            background-color:  #aad466;\n",
       "            color:  #000000;\n",
       "        }#T_906ec720_c27d_11eb_a83f_51fb208d27f5row6_col0,#T_906ec720_c27d_11eb_a83f_51fb208d27f5row6_col1,#T_906ec720_c27d_11eb_a83f_51fb208d27f5row6_col2{\n",
       "            background-color:  #008066;\n",
       "            color:  #f1f1f1;\n",
       "        }</style><table id=\"T_906ec720_c27d_11eb_a83f_51fb208d27f5\" ><thead>    <tr>        <th class=\"blank\" ></th>        <th class=\"index_name level0\" >Survived</th>        <th class=\"col_heading level0 col0\" >0</th>        <th class=\"col_heading level0 col1\" >1</th>        <th class=\"col_heading level0 col2\" >All</th>    </tr>    <tr>        <th class=\"index_name level0\" >Sex</th>        <th class=\"index_name level1\" >Pclass</th>        <th class=\"blank\" ></th>        <th class=\"blank\" ></th>        <th class=\"blank\" ></th>    </tr></thead><tbody>\n",
       "                <tr>\n",
       "                        <th id=\"T_906ec720_c27d_11eb_a83f_51fb208d27f5level0_row0\" class=\"row_heading level0 row0\" rowspan=3>female</th>\n",
       "                        <th id=\"T_906ec720_c27d_11eb_a83f_51fb208d27f5level1_row0\" class=\"row_heading level1 row0\" >1</th>\n",
       "                        <td id=\"T_906ec720_c27d_11eb_a83f_51fb208d27f5row0_col0\" class=\"data row0 col0\" >3</td>\n",
       "                        <td id=\"T_906ec720_c27d_11eb_a83f_51fb208d27f5row0_col1\" class=\"data row0 col1\" >91</td>\n",
       "                        <td id=\"T_906ec720_c27d_11eb_a83f_51fb208d27f5row0_col2\" class=\"data row0 col2\" >94</td>\n",
       "            </tr>\n",
       "            <tr>\n",
       "                                <th id=\"T_906ec720_c27d_11eb_a83f_51fb208d27f5level1_row1\" class=\"row_heading level1 row1\" >2</th>\n",
       "                        <td id=\"T_906ec720_c27d_11eb_a83f_51fb208d27f5row1_col0\" class=\"data row1 col0\" >6</td>\n",
       "                        <td id=\"T_906ec720_c27d_11eb_a83f_51fb208d27f5row1_col1\" class=\"data row1 col1\" >70</td>\n",
       "                        <td id=\"T_906ec720_c27d_11eb_a83f_51fb208d27f5row1_col2\" class=\"data row1 col2\" >76</td>\n",
       "            </tr>\n",
       "            <tr>\n",
       "                                <th id=\"T_906ec720_c27d_11eb_a83f_51fb208d27f5level1_row2\" class=\"row_heading level1 row2\" >3</th>\n",
       "                        <td id=\"T_906ec720_c27d_11eb_a83f_51fb208d27f5row2_col0\" class=\"data row2 col0\" >72</td>\n",
       "                        <td id=\"T_906ec720_c27d_11eb_a83f_51fb208d27f5row2_col1\" class=\"data row2 col1\" >72</td>\n",
       "                        <td id=\"T_906ec720_c27d_11eb_a83f_51fb208d27f5row2_col2\" class=\"data row2 col2\" >144</td>\n",
       "            </tr>\n",
       "            <tr>\n",
       "                        <th id=\"T_906ec720_c27d_11eb_a83f_51fb208d27f5level0_row3\" class=\"row_heading level0 row3\" rowspan=3>male</th>\n",
       "                        <th id=\"T_906ec720_c27d_11eb_a83f_51fb208d27f5level1_row3\" class=\"row_heading level1 row3\" >1</th>\n",
       "                        <td id=\"T_906ec720_c27d_11eb_a83f_51fb208d27f5row3_col0\" class=\"data row3 col0\" >77</td>\n",
       "                        <td id=\"T_906ec720_c27d_11eb_a83f_51fb208d27f5row3_col1\" class=\"data row3 col1\" >45</td>\n",
       "                        <td id=\"T_906ec720_c27d_11eb_a83f_51fb208d27f5row3_col2\" class=\"data row3 col2\" >122</td>\n",
       "            </tr>\n",
       "            <tr>\n",
       "                                <th id=\"T_906ec720_c27d_11eb_a83f_51fb208d27f5level1_row4\" class=\"row_heading level1 row4\" >2</th>\n",
       "                        <td id=\"T_906ec720_c27d_11eb_a83f_51fb208d27f5row4_col0\" class=\"data row4 col0\" >91</td>\n",
       "                        <td id=\"T_906ec720_c27d_11eb_a83f_51fb208d27f5row4_col1\" class=\"data row4 col1\" >17</td>\n",
       "                        <td id=\"T_906ec720_c27d_11eb_a83f_51fb208d27f5row4_col2\" class=\"data row4 col2\" >108</td>\n",
       "            </tr>\n",
       "            <tr>\n",
       "                                <th id=\"T_906ec720_c27d_11eb_a83f_51fb208d27f5level1_row5\" class=\"row_heading level1 row5\" >3</th>\n",
       "                        <td id=\"T_906ec720_c27d_11eb_a83f_51fb208d27f5row5_col0\" class=\"data row5 col0\" >300</td>\n",
       "                        <td id=\"T_906ec720_c27d_11eb_a83f_51fb208d27f5row5_col1\" class=\"data row5 col1\" >47</td>\n",
       "                        <td id=\"T_906ec720_c27d_11eb_a83f_51fb208d27f5row5_col2\" class=\"data row5 col2\" >347</td>\n",
       "            </tr>\n",
       "            <tr>\n",
       "                        <th id=\"T_906ec720_c27d_11eb_a83f_51fb208d27f5level0_row6\" class=\"row_heading level0 row6\" >All</th>\n",
       "                        <th id=\"T_906ec720_c27d_11eb_a83f_51fb208d27f5level1_row6\" class=\"row_heading level1 row6\" ></th>\n",
       "                        <td id=\"T_906ec720_c27d_11eb_a83f_51fb208d27f5row6_col0\" class=\"data row6 col0\" >549</td>\n",
       "                        <td id=\"T_906ec720_c27d_11eb_a83f_51fb208d27f5row6_col1\" class=\"data row6 col1\" >342</td>\n",
       "                        <td id=\"T_906ec720_c27d_11eb_a83f_51fb208d27f5row6_col2\" class=\"data row6 col2\" >891</td>\n",
       "            </tr>\n",
       "    </tbody></table>"
      ],
      "text/plain": [
       "<pandas.io.formats.style.Styler at 0x7f1bc7a1f160>"
      ]
     },
     "execution_count": 62,
     "metadata": {},
     "output_type": "execute_result"
    }
   ],
   "source": [
    "pd.crosstab([data.Sex,data.Pclass],data.Survived,margins=True).style.background_gradient(cmap='summer_r')"
   ]
  },
  {
   "cell_type": "code",
   "execution_count": 63,
   "metadata": {
    "ExecuteTime": {
     "end_time": "2021-06-01T02:03:44.546101Z",
     "start_time": "2021-06-01T02:03:43.901045Z"
    }
   },
   "outputs": [
    {
     "data": {
      "image/png": "[encoded data removed]",
      "text/plain": [
       "<Figure size 430.5x360 with 1 Axes>"
      ]
     },
     "metadata": {
      "needs_background": "light"
     },
     "output_type": "display_data"
    }
   ],
   "source": [
    "sns.factorplot('Pclass','Survived',hue='Sex',data=data)\n",
    "plt.show()"
   ]
  },
  {
   "cell_type": "markdown",
   "metadata": {},
   "source": [
    "We use **FactorPlot** in this case, because they make the seperation of categorical values easy.\n",
    "\n",
    "Looking at the **CrossTab** and the **FactorPlot**, we can easily infer that survival for **Women from Pclass1** is about **95-96%**, as only 3 out of 94 Women from Pclass1 died.\n",
    "\n",
    "It is evident that irrespective of Pclass, Women were given first priority while rescue. Even Men from Pclass1 have a very low survival rate.\n",
    "\n",
    "Looks like Pclass is also an important feature. Lets analyse other features."
   ]
  },
  {
   "cell_type": "markdown",
   "metadata": {},
   "source": [
    "#### Embarked and Survived"
   ]
  },
  {
   "cell_type": "code",
   "execution_count": 79,
   "metadata": {
    "ExecuteTime": {
     "end_time": "2021-06-01T02:10:18.593846Z",
     "start_time": "2021-06-01T02:10:18.572085Z"
    }
   },
   "outputs": [
    {
     "data": {
      "text/html": [
       "<style  type=\"text/css\" >\n",
       "#T_8316c856_c27e_11eb_a83f_51fb208d27f5row0_col0,#T_8316c856_c27e_11eb_a83f_51fb208d27f5row2_col1{\n",
       "            background-color:  #ffff66;\n",
       "            color:  #000000;\n",
       "        }#T_8316c856_c27e_11eb_a83f_51fb208d27f5row0_col1,#T_8316c856_c27e_11eb_a83f_51fb208d27f5row2_col0{\n",
       "            background-color:  #008066;\n",
       "            color:  #f1f1f1;\n",
       "        }#T_8316c856_c27e_11eb_a83f_51fb208d27f5row1_col0{\n",
       "            background-color:  #3e9e66;\n",
       "            color:  #000000;\n",
       "        }#T_8316c856_c27e_11eb_a83f_51fb208d27f5row1_col1{\n",
       "            background-color:  #c1e066;\n",
       "            color:  #000000;\n",
       "        }</style><table id=\"T_8316c856_c27e_11eb_a83f_51fb208d27f5\" ><thead>    <tr>        <th class=\"index_name level0\" >Survived</th>        <th class=\"col_heading level0 col0\" >0</th>        <th class=\"col_heading level0 col1\" >1</th>    </tr>    <tr>        <th class=\"index_name level0\" >Embarked</th>        <th class=\"blank\" ></th>        <th class=\"blank\" ></th>    </tr></thead><tbody>\n",
       "                <tr>\n",
       "                        <th id=\"T_8316c856_c27e_11eb_a83f_51fb208d27f5level0_row0\" class=\"row_heading level0 row0\" >C</th>\n",
       "                        <td id=\"T_8316c856_c27e_11eb_a83f_51fb208d27f5row0_col0\" class=\"data row0 col0\" >0.446429</td>\n",
       "                        <td id=\"T_8316c856_c27e_11eb_a83f_51fb208d27f5row0_col1\" class=\"data row0 col1\" >0.553571</td>\n",
       "            </tr>\n",
       "            <tr>\n",
       "                        <th id=\"T_8316c856_c27e_11eb_a83f_51fb208d27f5level0_row1\" class=\"row_heading level0 row1\" >Q</th>\n",
       "                        <td id=\"T_8316c856_c27e_11eb_a83f_51fb208d27f5row1_col0\" class=\"data row1 col0\" >0.610390</td>\n",
       "                        <td id=\"T_8316c856_c27e_11eb_a83f_51fb208d27f5row1_col1\" class=\"data row1 col1\" >0.389610</td>\n",
       "            </tr>\n",
       "            <tr>\n",
       "                        <th id=\"T_8316c856_c27e_11eb_a83f_51fb208d27f5level0_row2\" class=\"row_heading level0 row2\" >S</th>\n",
       "                        <td id=\"T_8316c856_c27e_11eb_a83f_51fb208d27f5row2_col0\" class=\"data row2 col0\" >0.663043</td>\n",
       "                        <td id=\"T_8316c856_c27e_11eb_a83f_51fb208d27f5row2_col1\" class=\"data row2 col1\" >0.336957</td>\n",
       "            </tr>\n",
       "    </tbody></table>"
      ],
      "text/plain": [
       "<pandas.io.formats.style.Styler at 0x7f1bc7b24cd0>"
      ]
     },
     "execution_count": 79,
     "metadata": {},
     "output_type": "execute_result"
    }
   ],
   "source": [
    "pd.crosstab(data['Embarked'], data['Survived']).apply(lambda r: r/r.sum(), axis=1).style.background_gradient(cmap='summer_r')"
   ]
  },
  {
   "cell_type": "code",
   "execution_count": 80,
   "metadata": {
    "ExecuteTime": {
     "end_time": "2021-06-01T02:10:20.539898Z",
     "start_time": "2021-06-01T02:10:20.272408Z"
    }
   },
   "outputs": [
    {
     "data": {
      "image/png": "[encoded data removed]",
      "text/plain": [
       "<Figure size 360x216 with 1 Axes>"
      ]
     },
     "metadata": {
      "needs_background": "light"
     },
     "output_type": "display_data"
    }
   ],
   "source": [
    "sns.factorplot('Embarked','Survived',data=data)\n",
    "fig=plt.gcf()\n",
    "fig.set_size_inches(5,3)\n",
    "plt.show()"
   ]
  },
  {
   "cell_type": "markdown",
   "metadata": {},
   "source": [
    "The chances for survival for Port C is highest around 0.55 while it is lowest for S.\n",
    "\n",
    "Let's combine other categorical feature to this Embarked variable"
   ]
  },
  {
   "cell_type": "code",
   "execution_count": 81,
   "metadata": {
    "ExecuteTime": {
     "end_time": "2021-06-01T02:10:27.498246Z",
     "start_time": "2021-06-01T02:10:27.439142Z"
    }
   },
   "outputs": [
    {
     "data": {
      "text/html": [
       "<style  type=\"text/css\" >\n",
       "#T_88652eec_c27e_11eb_a83f_51fb208d27f5row0_col0{\n",
       "            background-color:  #f4fa66;\n",
       "            color:  #000000;\n",
       "        }#T_88652eec_c27e_11eb_a83f_51fb208d27f5row0_col1{\n",
       "            background-color:  #d4ea66;\n",
       "            color:  #000000;\n",
       "        }#T_88652eec_c27e_11eb_a83f_51fb208d27f5row0_col2{\n",
       "            background-color:  #e8f466;\n",
       "            color:  #000000;\n",
       "        }#T_88652eec_c27e_11eb_a83f_51fb208d27f5row1_col0{\n",
       "            background-color:  #fcfe66;\n",
       "            color:  #000000;\n",
       "        }#T_88652eec_c27e_11eb_a83f_51fb208d27f5row1_col1{\n",
       "            background-color:  #f9fc66;\n",
       "            color:  #000000;\n",
       "        }#T_88652eec_c27e_11eb_a83f_51fb208d27f5row1_col2{\n",
       "            background-color:  #fbfd66;\n",
       "            color:  #000000;\n",
       "        }#T_88652eec_c27e_11eb_a83f_51fb208d27f5row2_col0,#T_88652eec_c27e_11eb_a83f_51fb208d27f5row2_col1,#T_88652eec_c27e_11eb_a83f_51fb208d27f5row2_col2{\n",
       "            background-color:  #edf666;\n",
       "            color:  #000000;\n",
       "        }#T_88652eec_c27e_11eb_a83f_51fb208d27f5row3_col0,#T_88652eec_c27e_11eb_a83f_51fb208d27f5row3_col1,#T_88652eec_c27e_11eb_a83f_51fb208d27f5row3_col2,#T_88652eec_c27e_11eb_a83f_51fb208d27f5row4_col0,#T_88652eec_c27e_11eb_a83f_51fb208d27f5row4_col1,#T_88652eec_c27e_11eb_a83f_51fb208d27f5row4_col2{\n",
       "            background-color:  #ffff66;\n",
       "            color:  #000000;\n",
       "        }#T_88652eec_c27e_11eb_a83f_51fb208d27f5row5_col0,#T_88652eec_c27e_11eb_a83f_51fb208d27f5row5_col2{\n",
       "            background-color:  #ebf566;\n",
       "            color:  #000000;\n",
       "        }#T_88652eec_c27e_11eb_a83f_51fb208d27f5row5_col1{\n",
       "            background-color:  #ecf666;\n",
       "            color:  #000000;\n",
       "        }#T_88652eec_c27e_11eb_a83f_51fb208d27f5row6_col0{\n",
       "            background-color:  #e7f366;\n",
       "            color:  #000000;\n",
       "        }#T_88652eec_c27e_11eb_a83f_51fb208d27f5row6_col1{\n",
       "            background-color:  #c8e366;\n",
       "            color:  #000000;\n",
       "        }#T_88652eec_c27e_11eb_a83f_51fb208d27f5row6_col2{\n",
       "            background-color:  #dbed66;\n",
       "            color:  #000000;\n",
       "        }#T_88652eec_c27e_11eb_a83f_51fb208d27f5row7_col0{\n",
       "            background-color:  #d7eb66;\n",
       "            color:  #000000;\n",
       "        }#T_88652eec_c27e_11eb_a83f_51fb208d27f5row7_col1{\n",
       "            background-color:  #c7e366;\n",
       "            color:  #000000;\n",
       "        }#T_88652eec_c27e_11eb_a83f_51fb208d27f5row7_col2{\n",
       "            background-color:  #d1e866;\n",
       "            color:  #000000;\n",
       "        }#T_88652eec_c27e_11eb_a83f_51fb208d27f5row8_col0{\n",
       "            background-color:  #7abc66;\n",
       "            color:  #000000;\n",
       "        }#T_88652eec_c27e_11eb_a83f_51fb208d27f5row8_col1{\n",
       "            background-color:  #cee666;\n",
       "            color:  #000000;\n",
       "        }#T_88652eec_c27e_11eb_a83f_51fb208d27f5row8_col2{\n",
       "            background-color:  #9acc66;\n",
       "            color:  #000000;\n",
       "        }#T_88652eec_c27e_11eb_a83f_51fb208d27f5row9_col0,#T_88652eec_c27e_11eb_a83f_51fb208d27f5row9_col1,#T_88652eec_c27e_11eb_a83f_51fb208d27f5row9_col2{\n",
       "            background-color:  #008066;\n",
       "            color:  #f1f1f1;\n",
       "        }</style><table id=\"T_88652eec_c27e_11eb_a83f_51fb208d27f5\" ><thead>    <tr>        <th class=\"blank\" ></th>        <th class=\"index_name level0\" >Survived</th>        <th class=\"col_heading level0 col0\" >0</th>        <th class=\"col_heading level0 col1\" >1</th>        <th class=\"col_heading level0 col2\" >All</th>    </tr>    <tr>        <th class=\"index_name level0\" >Embarked</th>        <th class=\"index_name level1\" >Pclass</th>        <th class=\"blank\" ></th>        <th class=\"blank\" ></th>        <th class=\"blank\" ></th>    </tr></thead><tbody>\n",
       "                <tr>\n",
       "                        <th id=\"T_88652eec_c27e_11eb_a83f_51fb208d27f5level0_row0\" class=\"row_heading level0 row0\" rowspan=3>C</th>\n",
       "                        <th id=\"T_88652eec_c27e_11eb_a83f_51fb208d27f5level1_row0\" class=\"row_heading level1 row0\" >1</th>\n",
       "                        <td id=\"T_88652eec_c27e_11eb_a83f_51fb208d27f5row0_col0\" class=\"data row0 col0\" >26</td>\n",
       "                        <td id=\"T_88652eec_c27e_11eb_a83f_51fb208d27f5row0_col1\" class=\"data row0 col1\" >59</td>\n",
       "                        <td id=\"T_88652eec_c27e_11eb_a83f_51fb208d27f5row0_col2\" class=\"data row0 col2\" >85</td>\n",
       "            </tr>\n",
       "            <tr>\n",
       "                                <th id=\"T_88652eec_c27e_11eb_a83f_51fb208d27f5level1_row1\" class=\"row_heading level1 row1\" >2</th>\n",
       "                        <td id=\"T_88652eec_c27e_11eb_a83f_51fb208d27f5row1_col0\" class=\"data row1 col0\" >8</td>\n",
       "                        <td id=\"T_88652eec_c27e_11eb_a83f_51fb208d27f5row1_col1\" class=\"data row1 col1\" >9</td>\n",
       "                        <td id=\"T_88652eec_c27e_11eb_a83f_51fb208d27f5row1_col2\" class=\"data row1 col2\" >17</td>\n",
       "            </tr>\n",
       "            <tr>\n",
       "                                <th id=\"T_88652eec_c27e_11eb_a83f_51fb208d27f5level1_row2\" class=\"row_heading level1 row2\" >3</th>\n",
       "                        <td id=\"T_88652eec_c27e_11eb_a83f_51fb208d27f5row2_col0\" class=\"data row2 col0\" >41</td>\n",
       "                        <td id=\"T_88652eec_c27e_11eb_a83f_51fb208d27f5row2_col1\" class=\"data row2 col1\" >25</td>\n",
       "                        <td id=\"T_88652eec_c27e_11eb_a83f_51fb208d27f5row2_col2\" class=\"data row2 col2\" >66</td>\n",
       "            </tr>\n",
       "            <tr>\n",
       "                        <th id=\"T_88652eec_c27e_11eb_a83f_51fb208d27f5level0_row3\" class=\"row_heading level0 row3\" rowspan=3>Q</th>\n",
       "                        <th id=\"T_88652eec_c27e_11eb_a83f_51fb208d27f5level1_row3\" class=\"row_heading level1 row3\" >1</th>\n",
       "                        <td id=\"T_88652eec_c27e_11eb_a83f_51fb208d27f5row3_col0\" class=\"data row3 col0\" >1</td>\n",
       "                        <td id=\"T_88652eec_c27e_11eb_a83f_51fb208d27f5row3_col1\" class=\"data row3 col1\" >1</td>\n",
       "                        <td id=\"T_88652eec_c27e_11eb_a83f_51fb208d27f5row3_col2\" class=\"data row3 col2\" >2</td>\n",
       "            </tr>\n",
       "            <tr>\n",
       "                                <th id=\"T_88652eec_c27e_11eb_a83f_51fb208d27f5level1_row4\" class=\"row_heading level1 row4\" >2</th>\n",
       "                        <td id=\"T_88652eec_c27e_11eb_a83f_51fb208d27f5row4_col0\" class=\"data row4 col0\" >1</td>\n",
       "                        <td id=\"T_88652eec_c27e_11eb_a83f_51fb208d27f5row4_col1\" class=\"data row4 col1\" >2</td>\n",
       "                        <td id=\"T_88652eec_c27e_11eb_a83f_51fb208d27f5row4_col2\" class=\"data row4 col2\" >3</td>\n",
       "            </tr>\n",
       "            <tr>\n",
       "                                <th id=\"T_88652eec_c27e_11eb_a83f_51fb208d27f5level1_row5\" class=\"row_heading level1 row5\" >3</th>\n",
       "                        <td id=\"T_88652eec_c27e_11eb_a83f_51fb208d27f5row5_col0\" class=\"data row5 col0\" >45</td>\n",
       "                        <td id=\"T_88652eec_c27e_11eb_a83f_51fb208d27f5row5_col1\" class=\"data row5 col1\" >27</td>\n",
       "                        <td id=\"T_88652eec_c27e_11eb_a83f_51fb208d27f5row5_col2\" class=\"data row5 col2\" >72</td>\n",
       "            </tr>\n",
       "            <tr>\n",
       "                        <th id=\"T_88652eec_c27e_11eb_a83f_51fb208d27f5level0_row6\" class=\"row_heading level0 row6\" rowspan=3>S</th>\n",
       "                        <th id=\"T_88652eec_c27e_11eb_a83f_51fb208d27f5level1_row6\" class=\"row_heading level1 row6\" >1</th>\n",
       "                        <td id=\"T_88652eec_c27e_11eb_a83f_51fb208d27f5row6_col0\" class=\"data row6 col0\" >53</td>\n",
       "                        <td id=\"T_88652eec_c27e_11eb_a83f_51fb208d27f5row6_col1\" class=\"data row6 col1\" >74</td>\n",
       "                        <td id=\"T_88652eec_c27e_11eb_a83f_51fb208d27f5row6_col2\" class=\"data row6 col2\" >127</td>\n",
       "            </tr>\n",
       "            <tr>\n",
       "                                <th id=\"T_88652eec_c27e_11eb_a83f_51fb208d27f5level1_row7\" class=\"row_heading level1 row7\" >2</th>\n",
       "                        <td id=\"T_88652eec_c27e_11eb_a83f_51fb208d27f5row7_col0\" class=\"data row7 col0\" >88</td>\n",
       "                        <td id=\"T_88652eec_c27e_11eb_a83f_51fb208d27f5row7_col1\" class=\"data row7 col1\" >76</td>\n",
       "                        <td id=\"T_88652eec_c27e_11eb_a83f_51fb208d27f5row7_col2\" class=\"data row7 col2\" >164</td>\n",
       "            </tr>\n",
       "            <tr>\n",
       "                                <th id=\"T_88652eec_c27e_11eb_a83f_51fb208d27f5level1_row8\" class=\"row_heading level1 row8\" >3</th>\n",
       "                        <td id=\"T_88652eec_c27e_11eb_a83f_51fb208d27f5row8_col0\" class=\"data row8 col0\" >286</td>\n",
       "                        <td id=\"T_88652eec_c27e_11eb_a83f_51fb208d27f5row8_col1\" class=\"data row8 col1\" >67</td>\n",
       "                        <td id=\"T_88652eec_c27e_11eb_a83f_51fb208d27f5row8_col2\" class=\"data row8 col2\" >353</td>\n",
       "            </tr>\n",
       "            <tr>\n",
       "                        <th id=\"T_88652eec_c27e_11eb_a83f_51fb208d27f5level0_row9\" class=\"row_heading level0 row9\" >All</th>\n",
       "                        <th id=\"T_88652eec_c27e_11eb_a83f_51fb208d27f5level1_row9\" class=\"row_heading level1 row9\" ></th>\n",
       "                        <td id=\"T_88652eec_c27e_11eb_a83f_51fb208d27f5row9_col0\" class=\"data row9 col0\" >549</td>\n",
       "                        <td id=\"T_88652eec_c27e_11eb_a83f_51fb208d27f5row9_col1\" class=\"data row9 col1\" >340</td>\n",
       "                        <td id=\"T_88652eec_c27e_11eb_a83f_51fb208d27f5row9_col2\" class=\"data row9 col2\" >889</td>\n",
       "            </tr>\n",
       "    </tbody></table>"
      ],
      "text/plain": [
       "<pandas.io.formats.style.Styler at 0x7f1bcc9e11c0>"
      ]
     },
     "execution_count": 81,
     "metadata": {},
     "output_type": "execute_result"
    }
   ],
   "source": [
    "pd.crosstab([data.Embarked,data.Pclass],data.Survived,margins=True).style.background_gradient(cmap='summer_r')"
   ]
  },
  {
   "cell_type": "code",
   "execution_count": 82,
   "metadata": {
    "ExecuteTime": {
     "end_time": "2021-06-01T02:10:34.905176Z",
     "start_time": "2021-06-01T02:10:34.649875Z"
    }
   },
   "outputs": [
    {
     "data": {
      "image/png": "[encoded data removed]",
      "text/plain": [
       "<Figure size 1440x360 with 2 Axes>"
      ]
     },
     "metadata": {
      "needs_background": "light"
     },
     "output_type": "display_data"
    }
   ],
   "source": [
    "f,ax=plt.subplots(1,2,figsize=(20,5))\n",
    "sns.countplot('Embarked',hue='Survived',data=data,ax=ax[0])\n",
    "ax[0].set_title('Embarked vs Survived')\n",
    "sns.countplot('Embarked',hue='Pclass',data=data,ax=ax[1])\n",
    "ax[1].set_title('Embarked vs Pclass')\n",
    "plt.subplots_adjust(wspace=0.2,hspace=0.5)\n",
    "plt.show()"
   ]
  },
  {
   "cell_type": "markdown",
   "metadata": {},
   "source": [
    "Observations:\n",
    "1. Maximum passengers boarded from S. Majority of them being from Pclass3.\n",
    "\n",
    "2. The Passengers from C look to be lucky as a good proportion of them survived. The reason for this maybe the rescue of all the Pclass1 and Pclass2 Passengers.\n",
    "\n",
    "3. The Embark S looks to the port from where majority of the rich people boarded. Still the chances for survival is low here, that is because many passengers from Pclass3 around 81% didn't survive.\n",
    "\n",
    "4. Port Q had almost 95% of the passengers were from Pclass3."
   ]
  },
  {
   "cell_type": "markdown",
   "metadata": {},
   "source": [
    "#### Initial vs Survived"
   ]
  },
  {
   "cell_type": "code",
   "execution_count": 83,
   "metadata": {
    "ExecuteTime": {
     "end_time": "2021-06-01T02:10:49.557496Z",
     "start_time": "2021-06-01T02:10:49.517222Z"
    }
   },
   "outputs": [
    {
     "data": {
      "text/html": [
       "<style  type=\"text/css\" >\n",
       "#T_958b4250_c27e_11eb_a83f_51fb208d27f5row0_col0{\n",
       "            background-color:  #fbfd66;\n",
       "            color:  #000000;\n",
       "        }#T_958b4250_c27e_11eb_a83f_51fb208d27f5row0_col1{\n",
       "            background-color:  #eff766;\n",
       "            color:  #000000;\n",
       "        }#T_958b4250_c27e_11eb_a83f_51fb208d27f5row0_col2,#T_958b4250_c27e_11eb_a83f_51fb208d27f5row3_col0{\n",
       "            background-color:  #f7fb66;\n",
       "            color:  #000000;\n",
       "        }#T_958b4250_c27e_11eb_a83f_51fb208d27f5row1_col0{\n",
       "            background-color:  #e9f466;\n",
       "            color:  #000000;\n",
       "        }#T_958b4250_c27e_11eb_a83f_51fb208d27f5row1_col1{\n",
       "            background-color:  #9ece66;\n",
       "            color:  #000000;\n",
       "        }#T_958b4250_c27e_11eb_a83f_51fb208d27f5row1_col2{\n",
       "            background-color:  #cce666;\n",
       "            color:  #000000;\n",
       "        }#T_958b4250_c27e_11eb_a83f_51fb208d27f5row2_col0{\n",
       "            background-color:  #329866;\n",
       "            color:  #000000;\n",
       "        }#T_958b4250_c27e_11eb_a83f_51fb208d27f5row2_col1{\n",
       "            background-color:  #c0e066;\n",
       "            color:  #000000;\n",
       "        }#T_958b4250_c27e_11eb_a83f_51fb208d27f5row2_col2{\n",
       "            background-color:  #69b466;\n",
       "            color:  #000000;\n",
       "        }#T_958b4250_c27e_11eb_a83f_51fb208d27f5row3_col1{\n",
       "            background-color:  #b4da66;\n",
       "            color:  #000000;\n",
       "        }#T_958b4250_c27e_11eb_a83f_51fb208d27f5row3_col2{\n",
       "            background-color:  #ddee66;\n",
       "            color:  #000000;\n",
       "        }#T_958b4250_c27e_11eb_a83f_51fb208d27f5row4_col0,#T_958b4250_c27e_11eb_a83f_51fb208d27f5row4_col1,#T_958b4250_c27e_11eb_a83f_51fb208d27f5row4_col2{\n",
       "            background-color:  #ffff66;\n",
       "            color:  #000000;\n",
       "        }#T_958b4250_c27e_11eb_a83f_51fb208d27f5row5_col0,#T_958b4250_c27e_11eb_a83f_51fb208d27f5row5_col1,#T_958b4250_c27e_11eb_a83f_51fb208d27f5row5_col2{\n",
       "            background-color:  #008066;\n",
       "            color:  #f1f1f1;\n",
       "        }</style><table id=\"T_958b4250_c27e_11eb_a83f_51fb208d27f5\" ><thead>    <tr>        <th class=\"index_name level0\" >Survived</th>        <th class=\"col_heading level0 col0\" >0</th>        <th class=\"col_heading level0 col1\" >1</th>        <th class=\"col_heading level0 col2\" >All</th>    </tr>    <tr>        <th class=\"index_name level0\" >Initial</th>        <th class=\"blank\" ></th>        <th class=\"blank\" ></th>        <th class=\"blank\" ></th>    </tr></thead><tbody>\n",
       "                <tr>\n",
       "                        <th id=\"T_958b4250_c27e_11eb_a83f_51fb208d27f5level0_row0\" class=\"row_heading level0 row0\" >Master</th>\n",
       "                        <td id=\"T_958b4250_c27e_11eb_a83f_51fb208d27f5row0_col0\" class=\"data row0 col0\" >17</td>\n",
       "                        <td id=\"T_958b4250_c27e_11eb_a83f_51fb208d27f5row0_col1\" class=\"data row0 col1\" >23</td>\n",
       "                        <td id=\"T_958b4250_c27e_11eb_a83f_51fb208d27f5row0_col2\" class=\"data row0 col2\" >40</td>\n",
       "            </tr>\n",
       "            <tr>\n",
       "                        <th id=\"T_958b4250_c27e_11eb_a83f_51fb208d27f5level0_row1\" class=\"row_heading level0 row1\" >Miss</th>\n",
       "                        <td id=\"T_958b4250_c27e_11eb_a83f_51fb208d27f5row1_col0\" class=\"data row1 col0\" >55</td>\n",
       "                        <td id=\"T_958b4250_c27e_11eb_a83f_51fb208d27f5row1_col1\" class=\"data row1 col1\" >131</td>\n",
       "                        <td id=\"T_958b4250_c27e_11eb_a83f_51fb208d27f5row1_col2\" class=\"data row1 col2\" >186</td>\n",
       "            </tr>\n",
       "            <tr>\n",
       "                        <th id=\"T_958b4250_c27e_11eb_a83f_51fb208d27f5level0_row2\" class=\"row_heading level0 row2\" >Mr</th>\n",
       "                        <td id=\"T_958b4250_c27e_11eb_a83f_51fb208d27f5row2_col0\" class=\"data row2 col0\" >443</td>\n",
       "                        <td id=\"T_958b4250_c27e_11eb_a83f_51fb208d27f5row2_col1\" class=\"data row2 col1\" >86</td>\n",
       "                        <td id=\"T_958b4250_c27e_11eb_a83f_51fb208d27f5row2_col2\" class=\"data row2 col2\" >529</td>\n",
       "            </tr>\n",
       "            <tr>\n",
       "                        <th id=\"T_958b4250_c27e_11eb_a83f_51fb208d27f5level0_row3\" class=\"row_heading level0 row3\" >Mrs</th>\n",
       "                        <td id=\"T_958b4250_c27e_11eb_a83f_51fb208d27f5row3_col0\" class=\"data row3 col0\" >26</td>\n",
       "                        <td id=\"T_958b4250_c27e_11eb_a83f_51fb208d27f5row3_col1\" class=\"data row3 col1\" >101</td>\n",
       "                        <td id=\"T_958b4250_c27e_11eb_a83f_51fb208d27f5row3_col2\" class=\"data row3 col2\" >127</td>\n",
       "            </tr>\n",
       "            <tr>\n",
       "                        <th id=\"T_958b4250_c27e_11eb_a83f_51fb208d27f5level0_row4\" class=\"row_heading level0 row4\" >Other</th>\n",
       "                        <td id=\"T_958b4250_c27e_11eb_a83f_51fb208d27f5row4_col0\" class=\"data row4 col0\" >8</td>\n",
       "                        <td id=\"T_958b4250_c27e_11eb_a83f_51fb208d27f5row4_col1\" class=\"data row4 col1\" >1</td>\n",
       "                        <td id=\"T_958b4250_c27e_11eb_a83f_51fb208d27f5row4_col2\" class=\"data row4 col2\" >9</td>\n",
       "            </tr>\n",
       "            <tr>\n",
       "                        <th id=\"T_958b4250_c27e_11eb_a83f_51fb208d27f5level0_row5\" class=\"row_heading level0 row5\" >All</th>\n",
       "                        <td id=\"T_958b4250_c27e_11eb_a83f_51fb208d27f5row5_col0\" class=\"data row5 col0\" >549</td>\n",
       "                        <td id=\"T_958b4250_c27e_11eb_a83f_51fb208d27f5row5_col1\" class=\"data row5 col1\" >342</td>\n",
       "                        <td id=\"T_958b4250_c27e_11eb_a83f_51fb208d27f5row5_col2\" class=\"data row5 col2\" >891</td>\n",
       "            </tr>\n",
       "    </tbody></table>"
      ],
      "text/plain": [
       "<pandas.io.formats.style.Styler at 0x7f1bc7a10a60>"
      ]
     },
     "execution_count": 83,
     "metadata": {},
     "output_type": "execute_result"
    }
   ],
   "source": [
    "pd.crosstab(data.Initial,data.Survived,margins=True).style.background_gradient(cmap='summer_r')"
   ]
  },
  {
   "cell_type": "code",
   "execution_count": 84,
   "metadata": {
    "ExecuteTime": {
     "end_time": "2021-06-01T02:10:50.982159Z",
     "start_time": "2021-06-01T02:10:50.667042Z"
    }
   },
   "outputs": [
    {
     "data": {
      "image/png": "[encoded data removed]",
      "text/plain": [
       "<Figure size 360x216 with 1 Axes>"
      ]
     },
     "metadata": {
      "needs_background": "light"
     },
     "output_type": "display_data"
    }
   ],
   "source": [
    "sns.factorplot('Initial','Survived',data=data)\n",
    "fig=plt.gcf()\n",
    "fig.set_size_inches(5,3)\n",
    "plt.show()"
   ]
  },
  {
   "cell_type": "markdown",
   "metadata": {},
   "source": [
    "The result shows a similar result, initials for women have higher survival rate. But we got a new finding, it shows that initial for child (master) has somewhat high survival rate "
   ]
  },
  {
   "cell_type": "markdown",
   "metadata": {},
   "source": [
    "### Numeric to Categorical"
   ]
  },
  {
   "cell_type": "markdown",
   "metadata": {},
   "source": [
    "As explained before, we can do chi-squared test to check a correlation significancy between two categorical variable. However, if we want to test correlation between a qualitative/categorical variable and a quantitative/numerical, we can do a ANNOVA test.\n",
    "\n",
    "Additionaly, on this occation, we will only observe the correlation based on visual analysis. To do so, we can make a grouped boxplot/histogram/distplot as well as a violin plot to show a different quantitative distribution among each category.\n",
    "\n"
   ]
  },
  {
   "cell_type": "markdown",
   "metadata": {},
   "source": [
    "#### Age and Initial"
   ]
  },
  {
   "cell_type": "code",
   "execution_count": 88,
   "metadata": {
    "ExecuteTime": {
     "end_time": "2021-06-01T02:37:49.320216Z",
     "start_time": "2021-06-01T02:37:49.125026Z"
    }
   },
   "outputs": [
    {
     "data": {
      "text/plain": [
       "<AxesSubplot:xlabel='Initial', ylabel='Age'>"
      ]
     },
     "execution_count": 88,
     "metadata": {},
     "output_type": "execute_result"
    },
    {
     "data": {
      "image/png": "[encoded data removed]",
      "text/plain": [
       "<Figure size 432x288 with 1 Axes>"
      ]
     },
     "metadata": {
      "needs_background": "light"
     },
     "output_type": "display_data"
    }
   ],
   "source": [
    "sns.boxplot(x='Initial', y='Age', data=data)"
   ]
  },
  {
   "cell_type": "code",
   "execution_count": 142,
   "metadata": {
    "ExecuteTime": {
     "end_time": "2021-06-01T03:11:38.511197Z",
     "start_time": "2021-06-01T03:11:38.499553Z"
    }
   },
   "outputs": [
    {
     "data": {
      "text/plain": [
       "F_onewayResult(statistic=60.00332200495379, pvalue=3.6108510863236153e-25)"
      ]
     },
     "execution_count": 142,
     "metadata": {},
     "output_type": "execute_result"
    }
   ],
   "source": [
    "from scipy.stats import f_oneway\n",
    "\n",
    "grp = data.groupby(\"Pclass\").groups\n",
    "f_oneway(data.Age[grp[1]], data.Age[grp[2]], data.Age[grp[3]])\n"
   ]
  },
  {
   "cell_type": "markdown",
   "metadata": {},
   "source": [
    "We can see from the boxplots that Master is an initial for child and miss is an initial for a younger person (probably women)"
   ]
  },
  {
   "cell_type": "code",
   "execution_count": 89,
   "metadata": {
    "ExecuteTime": {
     "end_time": "2021-06-01T02:37:50.968114Z",
     "start_time": "2021-06-01T02:37:50.830294Z"
    }
   },
   "outputs": [
    {
     "data": {
      "text/plain": [
       "<AxesSubplot:xlabel='Initial', ylabel='count'>"
      ]
     },
     "execution_count": 89,
     "metadata": {},
     "output_type": "execute_result"
    },
    {
     "data": {
      "image/png": "[encoded data removed]",
      "text/plain": [
       "<Figure size 432x288 with 1 Axes>"
      ]
     },
     "metadata": {
      "needs_background": "light"
     },
     "output_type": "display_data"
    }
   ],
   "source": [
    "sns.countplot('Initial',hue='Sex',data=data)"
   ]
  },
  {
   "cell_type": "markdown",
   "metadata": {},
   "source": [
    "We can use this correlation info to input the missing values in Age column. We will use a mean value of age from each initial group."
   ]
  },
  {
   "cell_type": "code",
   "execution_count": 90,
   "metadata": {
    "ExecuteTime": {
     "end_time": "2021-06-01T02:37:52.283014Z",
     "start_time": "2021-06-01T02:37:52.276957Z"
    }
   },
   "outputs": [
    {
     "data": {
      "text/plain": [
       "{'Master': 5.0, 'Miss': 22.0, 'Mr': 33.0, 'Mrs': 36.0, 'Other': 46.0}"
      ]
     },
     "execution_count": 90,
     "metadata": {},
     "output_type": "execute_result"
    }
   ],
   "source": [
    "map_dict = data.groupby('Initial')['Age'].mean().round().to_dict()\n",
    "map_dict"
   ]
  },
  {
   "cell_type": "code",
   "execution_count": 91,
   "metadata": {
    "ExecuteTime": {
     "end_time": "2021-06-01T02:37:53.150118Z",
     "start_time": "2021-06-01T02:37:53.141483Z"
    }
   },
   "outputs": [
    {
     "data": {
      "text/plain": [
       "False"
      ]
     },
     "execution_count": 91,
     "metadata": {},
     "output_type": "execute_result"
    }
   ],
   "source": [
    "for initial in map_dict.keys():\n",
    "    data.loc[(data.Age.isnull())&(data.Initial==initial),'Age']=map_dict[initial]\n",
    "\n",
    "data.Age.isnull().any()"
   ]
  },
  {
   "cell_type": "markdown",
   "metadata": {},
   "source": [
    "#### Age and Survived"
   ]
  },
  {
   "cell_type": "code",
   "execution_count": 92,
   "metadata": {
    "ExecuteTime": {
     "end_time": "2021-06-01T02:37:54.557616Z",
     "start_time": "2021-06-01T02:37:54.443592Z"
    }
   },
   "outputs": [
    {
     "data": {
      "text/plain": [
       "<AxesSubplot:xlabel='Survived', ylabel='Age'>"
      ]
     },
     "execution_count": 92,
     "metadata": {},
     "output_type": "execute_result"
    },
    {
     "data": {
      "image/png": "[encoded data removed]",
      "text/plain": [
       "<Figure size 432x288 with 1 Axes>"
      ]
     },
     "metadata": {
      "needs_background": "light"
     },
     "output_type": "display_data"
    }
   ],
   "source": [
    "sns.boxplot(x='Survived', y='Age', data=data)"
   ]
  },
  {
   "cell_type": "code",
   "execution_count": 93,
   "metadata": {
    "ExecuteTime": {
     "end_time": "2021-06-01T02:37:55.555592Z",
     "start_time": "2021-06-01T02:37:55.290596Z"
    }
   },
   "outputs": [
    {
     "data": {
      "text/plain": [
       "<AxesSubplot:ylabel='Density'>"
      ]
     },
     "execution_count": 93,
     "metadata": {},
     "output_type": "execute_result"
    },
    {
     "data": {
      "image/png": "[encoded data removed]",
      "text/plain": [
       "<Figure size 432x288 with 1 Axes>"
      ]
     },
     "metadata": {
      "needs_background": "light"
     },
     "output_type": "display_data"
    }
   ],
   "source": [
    "target_0 = data.loc[data['Survived'] == 0]\n",
    "target_1 = data.loc[data['Survived'] == 1]\n",
    "\n",
    "sns.distplot(target_0[['Age']], hist=False, rug=True)\n",
    "sns.distplot(target_1[['Age']], hist=False, rug=True)\n"
   ]
  },
  {
   "cell_type": "markdown",
   "metadata": {},
   "source": [
    "We can't conclude any correlation between age and survived from the boxplot\n",
    "\n",
    "We can see from the distplot that a kid until 10 years old, has higher survival rate that others who older that them. It is shown as the red distribution line is higher on that age range. We can make a new feature to flag person as a child <= 10 years old."
   ]
  },
  {
   "cell_type": "markdown",
   "metadata": {},
   "source": [
    "#### Fare and Survived"
   ]
  },
  {
   "cell_type": "code",
   "execution_count": 94,
   "metadata": {
    "ExecuteTime": {
     "end_time": "2021-06-01T02:37:56.971037Z",
     "start_time": "2021-06-01T02:37:56.869191Z"
    }
   },
   "outputs": [
    {
     "data": {
      "text/plain": [
       "<AxesSubplot:xlabel='Survived', ylabel='Fare'>"
      ]
     },
     "execution_count": 94,
     "metadata": {},
     "output_type": "execute_result"
    },
    {
     "data": {
      "image/png": "[encoded data removed]",
      "text/plain": [
       "<Figure size 432x288 with 1 Axes>"
      ]
     },
     "metadata": {
      "needs_background": "light"
     },
     "output_type": "display_data"
    }
   ],
   "source": [
    "sns.boxplot(x='Survived', y='Fare', data=data)"
   ]
  },
  {
   "cell_type": "code",
   "execution_count": 95,
   "metadata": {
    "ExecuteTime": {
     "end_time": "2021-06-01T02:37:58.092416Z",
     "start_time": "2021-06-01T02:37:57.666363Z"
    }
   },
   "outputs": [
    {
     "data": {
      "image/png": "[encoded data removed]",
      "text/plain": [
       "<Figure size 1440x360 with 3 Axes>"
      ]
     },
     "metadata": {
      "needs_background": "light"
     },
     "output_type": "display_data"
    }
   ],
   "source": [
    "target_0 = data.loc[(data['Survived'] == 0) & (data['Pclass'] == 1)]\n",
    "target_1 = data.loc[(data['Survived'] == 0) & (data['Pclass'] == 2)]\n",
    "target_2 = data.loc[(data['Survived'] == 0) & (data['Pclass'] == 3)]\n",
    "target_3 = data.loc[(data['Survived'] == 1) & (data['Pclass'] == 1)]\n",
    "target_4 = data.loc[(data['Survived'] == 1) & (data['Pclass'] == 2)]\n",
    "target_5 = data.loc[(data['Survived'] == 1) & (data['Pclass'] == 3)]\n",
    "\n",
    "\n",
    "f,ax=plt.subplots(1,3,figsize=(20,5),sharey=True)\n",
    "sns.distplot(target_0[['Fare']], hist=False, rug=True, ax=ax[0])\n",
    "# ax[0,0].set_title('Pclass 1 Not Survive')\n",
    "sns.distplot(target_1[['Fare']], hist=False, rug=True, ax=ax[1])\n",
    "# ax[0,1].set_title('Pclass 2 Not Survive')\n",
    "sns.distplot(target_2[['Fare']], hist=False, rug=True, ax=ax[2])\n",
    "# ax[0,2].set_title('Pclass 2 Not Survive')\n",
    "sns.distplot(target_3[['Fare']], hist=False, rug=True, ax=ax[0])\n",
    "# ax[1,0].set_title('Pclass 1 Survive')\n",
    "sns.distplot(target_4[['Fare']], hist=False, rug=True, ax=ax[1])\n",
    "# ax[1,1].set_title('Pclass 2 Survive')\n",
    "sns.distplot(target_5[['Fare']], hist=False, rug=True, ax=ax[2])\n",
    "# ax[1,2].set_title('Pclass 3 Survive')\n",
    "plt.subplots_adjust(wspace=0.2,hspace=0.5)\n",
    "plt.show()"
   ]
  },
  {
   "cell_type": "markdown",
   "metadata": {},
   "source": [
    "Higher the fare, higher the survived rate, as can be seen on higher density of red line when the fare becomes higher. As our knowledge before, PClass 1 is the most expensive class and PClass 3 is the lowest class ticket"
   ]
  },
  {
   "cell_type": "markdown",
   "metadata": {},
   "source": [
    "#### SibSp and Survived\n",
    "This feature represents whether a person is alone or with his family members.\n",
    "Sibling = brother, sister, stepbrother, stepsister\n",
    "Spouse = husband, wife\n",
    "\n",
    "even though this variable is a discrete numeric variable, we can do the same visual analysis with factor plot since this varible has small range of value"
   ]
  },
  {
   "cell_type": "code",
   "execution_count": 96,
   "metadata": {
    "ExecuteTime": {
     "end_time": "2021-06-01T02:37:59.737719Z",
     "start_time": "2021-06-01T02:37:59.349372Z"
    }
   },
   "outputs": [
    {
     "data": {
      "text/plain": [
       "<seaborn.axisgrid.FacetGrid at 0x7f1aed554eb0>"
      ]
     },
     "execution_count": 96,
     "metadata": {},
     "output_type": "execute_result"
    },
    {
     "data": {
      "image/png": "[encoded data removed]",
      "text/plain": [
       "<Figure size 360x360 with 1 Axes>"
      ]
     },
     "metadata": {
      "needs_background": "light"
     },
     "output_type": "display_data"
    }
   ],
   "source": [
    "sns.factorplot('SibSp','Survived', data=data)"
   ]
  },
  {
   "cell_type": "markdown",
   "metadata": {},
   "source": [
    "The factorplot shows that if a passenger is alone onboard with no siblings, he have 34.5% survival rate. The graph roughly decreases if the number of siblings increase. This makes sense. That is, if I have a family on board, I will try to save them instead of saving myself first. Surprisingly the survival for families with 5-8 members is 0%. The reason may be Pclass??"
   ]
  },
  {
   "cell_type": "code",
   "execution_count": 97,
   "metadata": {
    "ExecuteTime": {
     "end_time": "2021-06-01T02:38:00.899472Z",
     "start_time": "2021-06-01T02:38:00.871891Z"
    }
   },
   "outputs": [
    {
     "data": {
      "text/html": [
       "<style  type=\"text/css\" >\n",
       "#T_61e61ef8_c282_11eb_a83f_51fb208d27f5row0_col0{\n",
       "            background-color:  #f4fa66;\n",
       "            color:  #000000;\n",
       "        }#T_61e61ef8_c282_11eb_a83f_51fb208d27f5row0_col1,#T_61e61ef8_c282_11eb_a83f_51fb208d27f5row0_col2,#T_61e61ef8_c282_11eb_a83f_51fb208d27f5row0_col4,#T_61e61ef8_c282_11eb_a83f_51fb208d27f5row0_col5,#T_61e61ef8_c282_11eb_a83f_51fb208d27f5row0_col6,#T_61e61ef8_c282_11eb_a83f_51fb208d27f5row1_col4,#T_61e61ef8_c282_11eb_a83f_51fb208d27f5row1_col5,#T_61e61ef8_c282_11eb_a83f_51fb208d27f5row1_col6,#T_61e61ef8_c282_11eb_a83f_51fb208d27f5row2_col3,#T_61e61ef8_c282_11eb_a83f_51fb208d27f5row2_col4,#T_61e61ef8_c282_11eb_a83f_51fb208d27f5row2_col5,#T_61e61ef8_c282_11eb_a83f_51fb208d27f5row2_col6,#T_61e61ef8_c282_11eb_a83f_51fb208d27f5row3_col0,#T_61e61ef8_c282_11eb_a83f_51fb208d27f5row3_col4,#T_61e61ef8_c282_11eb_a83f_51fb208d27f5row3_col5,#T_61e61ef8_c282_11eb_a83f_51fb208d27f5row3_col6,#T_61e61ef8_c282_11eb_a83f_51fb208d27f5row5_col5,#T_61e61ef8_c282_11eb_a83f_51fb208d27f5row5_col6{\n",
       "            background-color:  #ffff66;\n",
       "            color:  #000000;\n",
       "        }#T_61e61ef8_c282_11eb_a83f_51fb208d27f5row0_col3,#T_61e61ef8_c282_11eb_a83f_51fb208d27f5row2_col0,#T_61e61ef8_c282_11eb_a83f_51fb208d27f5row3_col3,#T_61e61ef8_c282_11eb_a83f_51fb208d27f5row5_col3{\n",
       "            background-color:  #e8f466;\n",
       "            color:  #000000;\n",
       "        }#T_61e61ef8_c282_11eb_a83f_51fb208d27f5row1_col0{\n",
       "            background-color:  #e0f066;\n",
       "            color:  #000000;\n",
       "        }#T_61e61ef8_c282_11eb_a83f_51fb208d27f5row1_col1{\n",
       "            background-color:  #148a66;\n",
       "            color:  #000000;\n",
       "        }#T_61e61ef8_c282_11eb_a83f_51fb208d27f5row1_col2,#T_61e61ef8_c282_11eb_a83f_51fb208d27f5row2_col2,#T_61e61ef8_c282_11eb_a83f_51fb208d27f5row3_col2{\n",
       "            background-color:  #aad466;\n",
       "            color:  #000000;\n",
       "        }#T_61e61ef8_c282_11eb_a83f_51fb208d27f5row1_col3{\n",
       "            background-color:  #d1e866;\n",
       "            color:  #000000;\n",
       "        }#T_61e61ef8_c282_11eb_a83f_51fb208d27f5row2_col1{\n",
       "            background-color:  #deee66;\n",
       "            color:  #000000;\n",
       "        }#T_61e61ef8_c282_11eb_a83f_51fb208d27f5row3_col1{\n",
       "            background-color:  #a1d066;\n",
       "            color:  #000000;\n",
       "        }#T_61e61ef8_c282_11eb_a83f_51fb208d27f5row4_col0,#T_61e61ef8_c282_11eb_a83f_51fb208d27f5row4_col1,#T_61e61ef8_c282_11eb_a83f_51fb208d27f5row4_col2,#T_61e61ef8_c282_11eb_a83f_51fb208d27f5row4_col3,#T_61e61ef8_c282_11eb_a83f_51fb208d27f5row4_col4,#T_61e61ef8_c282_11eb_a83f_51fb208d27f5row4_col5,#T_61e61ef8_c282_11eb_a83f_51fb208d27f5row4_col6{\n",
       "            background-color:  #008066;\n",
       "            color:  #f1f1f1;\n",
       "        }#T_61e61ef8_c282_11eb_a83f_51fb208d27f5row5_col0{\n",
       "            background-color:  #d9ec66;\n",
       "            color:  #000000;\n",
       "        }#T_61e61ef8_c282_11eb_a83f_51fb208d27f5row5_col1{\n",
       "            background-color:  #c3e166;\n",
       "            color:  #000000;\n",
       "        }#T_61e61ef8_c282_11eb_a83f_51fb208d27f5row5_col2{\n",
       "            background-color:  #8ec666;\n",
       "            color:  #000000;\n",
       "        }#T_61e61ef8_c282_11eb_a83f_51fb208d27f5row5_col4{\n",
       "            background-color:  #cce666;\n",
       "            color:  #000000;\n",
       "        }</style><table id=\"T_61e61ef8_c282_11eb_a83f_51fb208d27f5\" ><thead>    <tr>        <th class=\"blank\" ></th>        <th class=\"index_name level0\" >SibSp</th>        <th class=\"col_heading level0 col0\" >0</th>        <th class=\"col_heading level0 col1\" >1</th>        <th class=\"col_heading level0 col2\" >2</th>        <th class=\"col_heading level0 col3\" >3</th>        <th class=\"col_heading level0 col4\" >4</th>        <th class=\"col_heading level0 col5\" >5</th>        <th class=\"col_heading level0 col6\" >8</th>    </tr>    <tr>        <th class=\"index_name level0\" >Pclass</th>        <th class=\"index_name level1\" >Survived</th>        <th class=\"blank\" ></th>        <th class=\"blank\" ></th>        <th class=\"blank\" ></th>        <th class=\"blank\" ></th>        <th class=\"blank\" ></th>        <th class=\"blank\" ></th>        <th class=\"blank\" ></th>    </tr></thead><tbody>\n",
       "                <tr>\n",
       "                        <th id=\"T_61e61ef8_c282_11eb_a83f_51fb208d27f5level0_row0\" class=\"row_heading level0 row0\" rowspan=2>1</th>\n",
       "                        <th id=\"T_61e61ef8_c282_11eb_a83f_51fb208d27f5level1_row0\" class=\"row_heading level1 row0\" >0</th>\n",
       "                        <td id=\"T_61e61ef8_c282_11eb_a83f_51fb208d27f5row0_col0\" class=\"data row0 col0\" >60</td>\n",
       "                        <td id=\"T_61e61ef8_c282_11eb_a83f_51fb208d27f5row0_col1\" class=\"data row0 col1\" >18</td>\n",
       "                        <td id=\"T_61e61ef8_c282_11eb_a83f_51fb208d27f5row0_col2\" class=\"data row0 col2\" >1</td>\n",
       "                        <td id=\"T_61e61ef8_c282_11eb_a83f_51fb208d27f5row0_col3\" class=\"data row0 col3\" >1</td>\n",
       "                        <td id=\"T_61e61ef8_c282_11eb_a83f_51fb208d27f5row0_col4\" class=\"data row0 col4\" >0</td>\n",
       "                        <td id=\"T_61e61ef8_c282_11eb_a83f_51fb208d27f5row0_col5\" class=\"data row0 col5\" >0</td>\n",
       "                        <td id=\"T_61e61ef8_c282_11eb_a83f_51fb208d27f5row0_col6\" class=\"data row0 col6\" >0</td>\n",
       "            </tr>\n",
       "            <tr>\n",
       "                                <th id=\"T_61e61ef8_c282_11eb_a83f_51fb208d27f5level1_row1\" class=\"row_heading level1 row1\" >1</th>\n",
       "                        <td id=\"T_61e61ef8_c282_11eb_a83f_51fb208d27f5row1_col0\" class=\"data row1 col0\" >77</td>\n",
       "                        <td id=\"T_61e61ef8_c282_11eb_a83f_51fb208d27f5row1_col1\" class=\"data row1 col1\" >53</td>\n",
       "                        <td id=\"T_61e61ef8_c282_11eb_a83f_51fb208d27f5row1_col2\" class=\"data row1 col2\" >4</td>\n",
       "                        <td id=\"T_61e61ef8_c282_11eb_a83f_51fb208d27f5row1_col3\" class=\"data row1 col3\" >2</td>\n",
       "                        <td id=\"T_61e61ef8_c282_11eb_a83f_51fb208d27f5row1_col4\" class=\"data row1 col4\" >0</td>\n",
       "                        <td id=\"T_61e61ef8_c282_11eb_a83f_51fb208d27f5row1_col5\" class=\"data row1 col5\" >0</td>\n",
       "                        <td id=\"T_61e61ef8_c282_11eb_a83f_51fb208d27f5row1_col6\" class=\"data row1 col6\" >0</td>\n",
       "            </tr>\n",
       "            <tr>\n",
       "                        <th id=\"T_61e61ef8_c282_11eb_a83f_51fb208d27f5level0_row2\" class=\"row_heading level0 row2\" rowspan=2>2</th>\n",
       "                        <th id=\"T_61e61ef8_c282_11eb_a83f_51fb208d27f5level1_row2\" class=\"row_heading level1 row2\" >0</th>\n",
       "                        <td id=\"T_61e61ef8_c282_11eb_a83f_51fb208d27f5row2_col0\" class=\"data row2 col0\" >70</td>\n",
       "                        <td id=\"T_61e61ef8_c282_11eb_a83f_51fb208d27f5row2_col1\" class=\"data row2 col1\" >23</td>\n",
       "                        <td id=\"T_61e61ef8_c282_11eb_a83f_51fb208d27f5row2_col2\" class=\"data row2 col2\" >4</td>\n",
       "                        <td id=\"T_61e61ef8_c282_11eb_a83f_51fb208d27f5row2_col3\" class=\"data row2 col3\" >0</td>\n",
       "                        <td id=\"T_61e61ef8_c282_11eb_a83f_51fb208d27f5row2_col4\" class=\"data row2 col4\" >0</td>\n",
       "                        <td id=\"T_61e61ef8_c282_11eb_a83f_51fb208d27f5row2_col5\" class=\"data row2 col5\" >0</td>\n",
       "                        <td id=\"T_61e61ef8_c282_11eb_a83f_51fb208d27f5row2_col6\" class=\"data row2 col6\" >0</td>\n",
       "            </tr>\n",
       "            <tr>\n",
       "                                <th id=\"T_61e61ef8_c282_11eb_a83f_51fb208d27f5level1_row3\" class=\"row_heading level1 row3\" >1</th>\n",
       "                        <td id=\"T_61e61ef8_c282_11eb_a83f_51fb208d27f5row3_col0\" class=\"data row3 col0\" >50</td>\n",
       "                        <td id=\"T_61e61ef8_c282_11eb_a83f_51fb208d27f5row3_col1\" class=\"data row3 col1\" >32</td>\n",
       "                        <td id=\"T_61e61ef8_c282_11eb_a83f_51fb208d27f5row3_col2\" class=\"data row3 col2\" >4</td>\n",
       "                        <td id=\"T_61e61ef8_c282_11eb_a83f_51fb208d27f5row3_col3\" class=\"data row3 col3\" >1</td>\n",
       "                        <td id=\"T_61e61ef8_c282_11eb_a83f_51fb208d27f5row3_col4\" class=\"data row3 col4\" >0</td>\n",
       "                        <td id=\"T_61e61ef8_c282_11eb_a83f_51fb208d27f5row3_col5\" class=\"data row3 col5\" >0</td>\n",
       "                        <td id=\"T_61e61ef8_c282_11eb_a83f_51fb208d27f5row3_col6\" class=\"data row3 col6\" >0</td>\n",
       "            </tr>\n",
       "            <tr>\n",
       "                        <th id=\"T_61e61ef8_c282_11eb_a83f_51fb208d27f5level0_row4\" class=\"row_heading level0 row4\" rowspan=2>3</th>\n",
       "                        <th id=\"T_61e61ef8_c282_11eb_a83f_51fb208d27f5level1_row4\" class=\"row_heading level1 row4\" >0</th>\n",
       "                        <td id=\"T_61e61ef8_c282_11eb_a83f_51fb208d27f5row4_col0\" class=\"data row4 col0\" >268</td>\n",
       "                        <td id=\"T_61e61ef8_c282_11eb_a83f_51fb208d27f5row4_col1\" class=\"data row4 col1\" >56</td>\n",
       "                        <td id=\"T_61e61ef8_c282_11eb_a83f_51fb208d27f5row4_col2\" class=\"data row4 col2\" >10</td>\n",
       "                        <td id=\"T_61e61ef8_c282_11eb_a83f_51fb208d27f5row4_col3\" class=\"data row4 col3\" >11</td>\n",
       "                        <td id=\"T_61e61ef8_c282_11eb_a83f_51fb208d27f5row4_col4\" class=\"data row4 col4\" >15</td>\n",
       "                        <td id=\"T_61e61ef8_c282_11eb_a83f_51fb208d27f5row4_col5\" class=\"data row4 col5\" >5</td>\n",
       "                        <td id=\"T_61e61ef8_c282_11eb_a83f_51fb208d27f5row4_col6\" class=\"data row4 col6\" >7</td>\n",
       "            </tr>\n",
       "            <tr>\n",
       "                                <th id=\"T_61e61ef8_c282_11eb_a83f_51fb208d27f5level1_row5\" class=\"row_heading level1 row5\" >1</th>\n",
       "                        <td id=\"T_61e61ef8_c282_11eb_a83f_51fb208d27f5row5_col0\" class=\"data row5 col0\" >83</td>\n",
       "                        <td id=\"T_61e61ef8_c282_11eb_a83f_51fb208d27f5row5_col1\" class=\"data row5 col1\" >27</td>\n",
       "                        <td id=\"T_61e61ef8_c282_11eb_a83f_51fb208d27f5row5_col2\" class=\"data row5 col2\" >5</td>\n",
       "                        <td id=\"T_61e61ef8_c282_11eb_a83f_51fb208d27f5row5_col3\" class=\"data row5 col3\" >1</td>\n",
       "                        <td id=\"T_61e61ef8_c282_11eb_a83f_51fb208d27f5row5_col4\" class=\"data row5 col4\" >3</td>\n",
       "                        <td id=\"T_61e61ef8_c282_11eb_a83f_51fb208d27f5row5_col5\" class=\"data row5 col5\" >0</td>\n",
       "                        <td id=\"T_61e61ef8_c282_11eb_a83f_51fb208d27f5row5_col6\" class=\"data row5 col6\" >0</td>\n",
       "            </tr>\n",
       "    </tbody></table>"
      ],
      "text/plain": [
       "<pandas.io.formats.style.Styler at 0x7f1bc76ab3d0>"
      ]
     },
     "execution_count": 97,
     "metadata": {},
     "output_type": "execute_result"
    }
   ],
   "source": [
    "pd.crosstab([data.Pclass,data.Survived],data.SibSp).style.background_gradient(cmap='summer_r')"
   ]
  },
  {
   "cell_type": "markdown",
   "metadata": {},
   "source": [
    "The reason is Pclass. The crosstab shows that Person with SibSp>3 were all in Pclass3. It is imminent that all the large families in Pclass3(>3) died."
   ]
  },
  {
   "cell_type": "markdown",
   "metadata": {},
   "source": [
    "#### Parch and Survived"
   ]
  },
  {
   "cell_type": "code",
   "execution_count": 98,
   "metadata": {
    "ExecuteTime": {
     "end_time": "2021-06-01T02:38:02.785309Z",
     "start_time": "2021-06-01T02:38:02.479502Z"
    }
   },
   "outputs": [
    {
     "data": {
      "image/png": "[encoded data removed]",
      "text/plain": [
       "<Figure size 360x360 with 1 Axes>"
      ]
     },
     "metadata": {
      "needs_background": "light"
     },
     "output_type": "display_data"
    }
   ],
   "source": [
    "sns.factorplot('Parch','Survived',data=data,ax=ax[1])\n",
    "plt.show()"
   ]
  },
  {
   "cell_type": "markdown",
   "metadata": {},
   "source": [
    "Here too the results are quite similar. Passengers with their parents/childs onboard have greater chance of survival. It however reduces as the number goes up.\n",
    "\n",
    "The chances of survival is good for somebody who has 1-3 parents/childs on the ship. Being alone also proves to be fatal and the chances for survival decreases when somebody has >4 parents/childs on the ship."
   ]
  },
  {
   "cell_type": "markdown",
   "metadata": {},
   "source": [
    "#### Parch + SibSp"
   ]
  },
  {
   "cell_type": "code",
   "execution_count": 99,
   "metadata": {
    "ExecuteTime": {
     "end_time": "2021-06-01T02:38:04.958553Z",
     "start_time": "2021-06-01T02:38:04.510896Z"
    }
   },
   "outputs": [
    {
     "data": {
      "image/png": "[encoded data removed]",
      "text/plain": [
       "<Figure size 360x360 with 1 Axes>"
      ]
     },
     "metadata": {
      "needs_background": "light"
     },
     "output_type": "display_data"
    }
   ],
   "source": [
    "data['SibPar'] = data['SibSp'] + data['Parch']\n",
    "sns.factorplot('SibPar','Survived',data=data,ax=ax[1])\n",
    "plt.show()"
   ]
  },
  {
   "cell_type": "markdown",
   "metadata": {},
   "source": [
    "### Two Numerical"
   ]
  },
  {
   "cell_type": "markdown",
   "metadata": {},
   "source": [
    "Contingency tables are useful when both variables are qualitative, whereas if we want to show correlation between Scatter two quantitative varible, scatter plot is proven to be effective.\n",
    "\n",
    "Graphs are nice, but if we need a numerical indicator that can tell us whether our variables are correlated, we need a statistical approach to do so. As the other pairs of variable type, we can use the Pearson’s correlation coefficient to shows us how high the correlation between the two variables.\n",
    "\n",
    "Strong correlation?\n",
    "\n",
    "![](http://www.uow.edu.au/content/groups/public/@web/@stsv/documents/mm/uow153493.gif)"
   ]
  },
  {
   "cell_type": "code",
   "execution_count": 143,
   "metadata": {
    "ExecuteTime": {
     "end_time": "2021-06-01T03:16:02.428466Z",
     "start_time": "2021-06-01T03:16:02.021718Z"
    }
   },
   "outputs": [
    {
     "data": {
      "image/png": "[encoded data removed]",
      "text/plain": [
       "<Figure size 720x576 with 2 Axes>"
      ]
     },
     "metadata": {
      "needs_background": "light"
     },
     "output_type": "display_data"
    }
   ],
   "source": [
    "sns.heatmap(data.corr(),annot=True,cmap='RdYlGn',linewidths=0.2) #data.corr()-->correlation matrix\n",
    "fig=plt.gcf()\n",
    "fig.set_size_inches(10,8)\n",
    "plt.show()"
   ]
  },
  {
   "cell_type": "markdown",
   "metadata": {},
   "source": [
    "Interpreting The Heatmap\n",
    "The first thing to note is that only the numeric features are compared as it is obvious that we cannot correlate between alphabets or strings. Before understanding the plot, let us see what exactly correlation is.\n",
    "\n",
    "**POSITIVE CORRELATION**: If an increase in feature A leads to increase in feature B, then they are positively correlated. A value 1 means perfect positive correlation.\n",
    "\n",
    "**NEGATIVE CORRELATION**: If an increase in feature A leads to decrease in feature B, then they are negatively correlated. A value -1 means perfect negative correlation.\n",
    "\n",
    "Now lets say that two features are highly or perfectly correlated, so the increase in one leads to increase in the other. This means that both the features are containing highly similar information and there is very little or no variance in information. This is known as MultiColinearity as both of them contains almost the same information.\n",
    "\n",
    "So do you think we should use both of them as one of them is redundant. While making or training models, we should try to eliminate redundant features as it reduces training time and many such advantages.\n",
    "\n",
    "Now from the above heatmap,we can see that the features are not much correlated. The highest correlation is between SibSp and Parch i.e 0.41. So we can carry on with all features."
   ]
  },
  {
   "cell_type": "markdown",
   "metadata": {},
   "source": [
    "### Observations in a Nutshell for all features:\n",
    "**Sex**: The chance of survival for women is high as compared to men.\n",
    "\n",
    "**Pclass**:There is a visible trend that being a 1st class passenger gives you better chances of survival. The survival rate for Pclass3 is very low. For women, the chance of survival from Pclass1 is almost 1 and is high too for those from Pclass2. Money Wins!!!.\n",
    "\n",
    "**Age**: Children less than 5-10 years do have a high chance of survival. Passengers between age group 15 to 35 died a lot.\n",
    "\n",
    "**Embarked**: This is a very interesting feature. The chances of survival at C looks to be better than even though the majority of Pclass1 passengers got up at S. Passengers at Q were all from Pclass3.\n",
    "\n",
    "**Parch+SibSp**: Having 1-2 siblings,spouse on board or 1-3 Parents shows a greater chance of probablity rather than being alone or having a large family travelling with you."
   ]
  },
  {
   "cell_type": "code",
   "execution_count": 43,
   "metadata": {},
   "outputs": [
    {
     "data": {
      "text/plain": [
       "<matplotlib.axes._subplots.AxesSubplot at 0x1a7a6e4a3c8>"
      ]
     },
     "execution_count": 43,
     "metadata": {},
     "output_type": "execute_result"
    },
    {
     "data": {
      "image/png": "[encoded data removed]",
      "text/plain": [
       "<Figure size 432x288 with 1 Axes>"
      ]
     },
     "metadata": {
      "needs_background": "light"
     },
     "output_type": "display_data"
    }
   ],
   "source": [
    "sns.kdeplot(data.Age, cumulative=True)"
   ]
  },
  {
   "cell_type": "markdown",
   "metadata": {},
   "source": [
    "## Multivariate Analysis"
   ]
  },
  {
   "cell_type": "markdown",
   "metadata": {},
   "source": [
    "we are going to go one step further and study the relationship between 3 or more variables at the same time. This is called multivariate exploratory analysis.\n",
    "\n",
    "On a paper or on a screen, it is easy to make a graph with 2 dimensions. It would have 2 axes: one horizontal and one vertical, as shown in the scatterplot above.\n",
    "\n",
    "In 3 dimensions, depth is added. Here, we can still manage to visualize our data - just imagine a room full of ping pong balls. But what happens when we move to 4 dimensions? It comes very hard for the human brain to imagine. Fortunately, in statistics, we have techniques that work with a large number of dimensions. These techniques can also be used to reduce the number of dimensions to something that works better on a human scale. In this course, we are going to be looking at these techniques.\n",
    "\n",
    "- Dimensionality reduction Technique - Principal Component Analysis (PCA)<br>\n",
    "PCA lets you reduce the number of variables by finding new variables that combine the essence of several others. Finding such variables allows us to replace several  columns  in a table with just a few. In so doing, we will lose a little information, but we can make an informed choice by weighing up the benefit of simplifying the data against the downside of the lost information."
   ]
  },
  {
   "cell_type": "code",
   "execution_count": 144,
   "metadata": {
    "ExecuteTime": {
     "end_time": "2021-06-01T03:16:48.882257Z",
     "start_time": "2021-06-01T03:16:48.011941Z"
    }
   },
   "outputs": [
    {
     "data": {
      "text/html": [
       "<div>\n",
       "<style scoped>\n",
       "    .dataframe tbody tr th:only-of-type {\n",
       "        vertical-align: middle;\n",
       "    }\n",
       "\n",
       "    .dataframe tbody tr th {\n",
       "        vertical-align: top;\n",
       "    }\n",
       "\n",
       "    .dataframe thead th {\n",
       "        text-align: right;\n",
       "    }\n",
       "</style>\n",
       "<table border=\"1\" class=\"dataframe\">\n",
       "  <thead>\n",
       "    <tr style=\"text-align: right;\">\n",
       "      <th></th>\n",
       "      <th>Survived</th>\n",
       "      <th>Pclass</th>\n",
       "      <th>Sex</th>\n",
       "      <th>Age</th>\n",
       "      <th>SibSp</th>\n",
       "      <th>Parch</th>\n",
       "      <th>Fare</th>\n",
       "      <th>Initial</th>\n",
       "      <th>SibPar</th>\n",
       "      <th>x0_C</th>\n",
       "      <th>x0_Q</th>\n",
       "    </tr>\n",
       "  </thead>\n",
       "  <tbody>\n",
       "    <tr>\n",
       "      <th>0</th>\n",
       "      <td>0</td>\n",
       "      <td>3</td>\n",
       "      <td>0</td>\n",
       "      <td>22.0</td>\n",
       "      <td>1</td>\n",
       "      <td>0</td>\n",
       "      <td>7.2500</td>\n",
       "      <td>Mr</td>\n",
       "      <td>1</td>\n",
       "      <td>0.0</td>\n",
       "      <td>0.0</td>\n",
       "    </tr>\n",
       "    <tr>\n",
       "      <th>1</th>\n",
       "      <td>1</td>\n",
       "      <td>1</td>\n",
       "      <td>1</td>\n",
       "      <td>38.0</td>\n",
       "      <td>1</td>\n",
       "      <td>0</td>\n",
       "      <td>71.2833</td>\n",
       "      <td>Mrs</td>\n",
       "      <td>1</td>\n",
       "      <td>1.0</td>\n",
       "      <td>0.0</td>\n",
       "    </tr>\n",
       "    <tr>\n",
       "      <th>2</th>\n",
       "      <td>1</td>\n",
       "      <td>3</td>\n",
       "      <td>1</td>\n",
       "      <td>26.0</td>\n",
       "      <td>0</td>\n",
       "      <td>0</td>\n",
       "      <td>7.9250</td>\n",
       "      <td>Miss</td>\n",
       "      <td>0</td>\n",
       "      <td>0.0</td>\n",
       "      <td>0.0</td>\n",
       "    </tr>\n",
       "    <tr>\n",
       "      <th>3</th>\n",
       "      <td>1</td>\n",
       "      <td>1</td>\n",
       "      <td>1</td>\n",
       "      <td>35.0</td>\n",
       "      <td>1</td>\n",
       "      <td>0</td>\n",
       "      <td>53.1000</td>\n",
       "      <td>Mrs</td>\n",
       "      <td>1</td>\n",
       "      <td>0.0</td>\n",
       "      <td>0.0</td>\n",
       "    </tr>\n",
       "    <tr>\n",
       "      <th>4</th>\n",
       "      <td>0</td>\n",
       "      <td>3</td>\n",
       "      <td>0</td>\n",
       "      <td>35.0</td>\n",
       "      <td>0</td>\n",
       "      <td>0</td>\n",
       "      <td>8.0500</td>\n",
       "      <td>Mr</td>\n",
       "      <td>0</td>\n",
       "      <td>0.0</td>\n",
       "      <td>0.0</td>\n",
       "    </tr>\n",
       "  </tbody>\n",
       "</table>\n",
       "</div>"
      ],
      "text/plain": [
       "   Survived  Pclass  Sex   Age  SibSp  Parch     Fare Initial  SibPar  x0_C  \\\n",
       "0         0       3    0  22.0      1      0   7.2500      Mr       1   0.0   \n",
       "1         1       1    1  38.0      1      0  71.2833     Mrs       1   1.0   \n",
       "2         1       3    1  26.0      0      0   7.9250    Miss       0   0.0   \n",
       "3         1       1    1  35.0      1      0  53.1000     Mrs       1   0.0   \n",
       "4         0       3    0  35.0      0      0   8.0500      Mr       0   0.0   \n",
       "\n",
       "   x0_Q  \n",
       "0   0.0  \n",
       "1   0.0  \n",
       "2   0.0  \n",
       "3   0.0  \n",
       "4   0.0  "
      ]
     },
     "execution_count": 144,
     "metadata": {},
     "output_type": "execute_result"
    }
   ],
   "source": [
    "data['Embarked'] = data['Embarked'].fillna('S')\n",
    "data['Sex'] = data.Sex.map({'male':0,'female':1})\n",
    "\n",
    "from sklearn.preprocessing import OneHotEncoder\n",
    "embEncoder = OneHotEncoder()\n",
    "\n",
    "transformed = embEncoder.fit_transform(data.Embarked.to_numpy().reshape(-1,1))\n",
    "ohe_df = pd.DataFrame(transformed.toarray(), columns=embEncoder.get_feature_names()).iloc[:,:-1]\n",
    "data = pd.concat([data, ohe_df], axis=1).drop(['Embarked'], axis=1)\n",
    "data.head()"
   ]
  },
  {
   "cell_type": "code",
   "execution_count": 145,
   "metadata": {
    "ExecuteTime": {
     "end_time": "2021-06-01T03:16:49.429587Z",
     "start_time": "2021-06-01T03:16:49.391882Z"
    }
   },
   "outputs": [
    {
     "data": {
      "text/html": [
       "<div>\n",
       "<style scoped>\n",
       "    .dataframe tbody tr th:only-of-type {\n",
       "        vertical-align: middle;\n",
       "    }\n",
       "\n",
       "    .dataframe tbody tr th {\n",
       "        vertical-align: top;\n",
       "    }\n",
       "\n",
       "    .dataframe thead th {\n",
       "        text-align: right;\n",
       "    }\n",
       "</style>\n",
       "<table border=\"1\" class=\"dataframe\">\n",
       "  <thead>\n",
       "    <tr style=\"text-align: right;\">\n",
       "      <th></th>\n",
       "      <th>Survived</th>\n",
       "      <th>Pclass</th>\n",
       "      <th>Sex</th>\n",
       "      <th>Age</th>\n",
       "      <th>SibSp</th>\n",
       "      <th>Parch</th>\n",
       "      <th>Fare</th>\n",
       "      <th>SibPar</th>\n",
       "      <th>x0_C</th>\n",
       "      <th>x0_Q</th>\n",
       "      <th>x0_Master</th>\n",
       "      <th>x0_Miss</th>\n",
       "      <th>x0_Mr</th>\n",
       "      <th>x0_Mrs</th>\n",
       "    </tr>\n",
       "  </thead>\n",
       "  <tbody>\n",
       "    <tr>\n",
       "      <th>0</th>\n",
       "      <td>0</td>\n",
       "      <td>3</td>\n",
       "      <td>0</td>\n",
       "      <td>22.0</td>\n",
       "      <td>1</td>\n",
       "      <td>0</td>\n",
       "      <td>7.2500</td>\n",
       "      <td>1</td>\n",
       "      <td>0.0</td>\n",
       "      <td>0.0</td>\n",
       "      <td>0.0</td>\n",
       "      <td>0.0</td>\n",
       "      <td>1.0</td>\n",
       "      <td>0.0</td>\n",
       "    </tr>\n",
       "    <tr>\n",
       "      <th>1</th>\n",
       "      <td>1</td>\n",
       "      <td>1</td>\n",
       "      <td>1</td>\n",
       "      <td>38.0</td>\n",
       "      <td>1</td>\n",
       "      <td>0</td>\n",
       "      <td>71.2833</td>\n",
       "      <td>1</td>\n",
       "      <td>1.0</td>\n",
       "      <td>0.0</td>\n",
       "      <td>0.0</td>\n",
       "      <td>0.0</td>\n",
       "      <td>0.0</td>\n",
       "      <td>1.0</td>\n",
       "    </tr>\n",
       "    <tr>\n",
       "      <th>2</th>\n",
       "      <td>1</td>\n",
       "      <td>3</td>\n",
       "      <td>1</td>\n",
       "      <td>26.0</td>\n",
       "      <td>0</td>\n",
       "      <td>0</td>\n",
       "      <td>7.9250</td>\n",
       "      <td>0</td>\n",
       "      <td>0.0</td>\n",
       "      <td>0.0</td>\n",
       "      <td>0.0</td>\n",
       "      <td>1.0</td>\n",
       "      <td>0.0</td>\n",
       "      <td>0.0</td>\n",
       "    </tr>\n",
       "    <tr>\n",
       "      <th>3</th>\n",
       "      <td>1</td>\n",
       "      <td>1</td>\n",
       "      <td>1</td>\n",
       "      <td>35.0</td>\n",
       "      <td>1</td>\n",
       "      <td>0</td>\n",
       "      <td>53.1000</td>\n",
       "      <td>1</td>\n",
       "      <td>0.0</td>\n",
       "      <td>0.0</td>\n",
       "      <td>0.0</td>\n",
       "      <td>0.0</td>\n",
       "      <td>0.0</td>\n",
       "      <td>1.0</td>\n",
       "    </tr>\n",
       "    <tr>\n",
       "      <th>4</th>\n",
       "      <td>0</td>\n",
       "      <td>3</td>\n",
       "      <td>0</td>\n",
       "      <td>35.0</td>\n",
       "      <td>0</td>\n",
       "      <td>0</td>\n",
       "      <td>8.0500</td>\n",
       "      <td>0</td>\n",
       "      <td>0.0</td>\n",
       "      <td>0.0</td>\n",
       "      <td>0.0</td>\n",
       "      <td>0.0</td>\n",
       "      <td>1.0</td>\n",
       "      <td>0.0</td>\n",
       "    </tr>\n",
       "  </tbody>\n",
       "</table>\n",
       "</div>"
      ],
      "text/plain": [
       "   Survived  Pclass  Sex   Age  SibSp  Parch     Fare  SibPar  x0_C  x0_Q  \\\n",
       "0         0       3    0  22.0      1      0   7.2500       1   0.0   0.0   \n",
       "1         1       1    1  38.0      1      0  71.2833       1   1.0   0.0   \n",
       "2         1       3    1  26.0      0      0   7.9250       0   0.0   0.0   \n",
       "3         1       1    1  35.0      1      0  53.1000       1   0.0   0.0   \n",
       "4         0       3    0  35.0      0      0   8.0500       0   0.0   0.0   \n",
       "\n",
       "   x0_Master  x0_Miss  x0_Mr  x0_Mrs  \n",
       "0        0.0      0.0    1.0     0.0  \n",
       "1        0.0      0.0    0.0     1.0  \n",
       "2        0.0      1.0    0.0     0.0  \n",
       "3        0.0      0.0    0.0     1.0  \n",
       "4        0.0      0.0    1.0     0.0  "
      ]
     },
     "execution_count": 145,
     "metadata": {},
     "output_type": "execute_result"
    }
   ],
   "source": [
    "intEncoder = OneHotEncoder()\n",
    "transformed = intEncoder.fit_transform(data.Initial.to_numpy().reshape(-1,1))\n",
    "ohe_df = pd.DataFrame(transformed.toarray(), columns=intEncoder.get_feature_names()).iloc[:,:-1]\n",
    "data = pd.concat([data, ohe_df], axis=1).drop(['Initial'], axis=1)\n",
    "data.head()"
   ]
  },
  {
   "cell_type": "code",
   "execution_count": 146,
   "metadata": {
    "ExecuteTime": {
     "end_time": "2021-06-01T03:16:50.406235Z",
     "start_time": "2021-06-01T03:16:50.390989Z"
    }
   },
   "outputs": [
    {
     "data": {
      "text/html": [
       "<div>\n",
       "<style scoped>\n",
       "    .dataframe tbody tr th:only-of-type {\n",
       "        vertical-align: middle;\n",
       "    }\n",
       "\n",
       "    .dataframe tbody tr th {\n",
       "        vertical-align: top;\n",
       "    }\n",
       "\n",
       "    .dataframe thead th {\n",
       "        text-align: right;\n",
       "    }\n",
       "</style>\n",
       "<table border=\"1\" class=\"dataframe\">\n",
       "  <thead>\n",
       "    <tr style=\"text-align: right;\">\n",
       "      <th></th>\n",
       "      <th>Survived</th>\n",
       "      <th>Pclass</th>\n",
       "      <th>Sex</th>\n",
       "      <th>Age</th>\n",
       "      <th>SibSp</th>\n",
       "      <th>Parch</th>\n",
       "      <th>Fare</th>\n",
       "      <th>SibPar</th>\n",
       "      <th>x0_C</th>\n",
       "      <th>x0_Q</th>\n",
       "      <th>x0_Master</th>\n",
       "      <th>x0_Miss</th>\n",
       "      <th>x0_Mr</th>\n",
       "      <th>x0_Mrs</th>\n",
       "    </tr>\n",
       "  </thead>\n",
       "  <tbody>\n",
       "    <tr>\n",
       "      <th>0</th>\n",
       "      <td>0</td>\n",
       "      <td>3</td>\n",
       "      <td>0</td>\n",
       "      <td>0.271174</td>\n",
       "      <td>1</td>\n",
       "      <td>0</td>\n",
       "      <td>0.014151</td>\n",
       "      <td>1</td>\n",
       "      <td>0.0</td>\n",
       "      <td>0.0</td>\n",
       "      <td>0.0</td>\n",
       "      <td>0.0</td>\n",
       "      <td>1.0</td>\n",
       "      <td>0.0</td>\n",
       "    </tr>\n",
       "    <tr>\n",
       "      <th>1</th>\n",
       "      <td>1</td>\n",
       "      <td>1</td>\n",
       "      <td>1</td>\n",
       "      <td>0.472229</td>\n",
       "      <td>1</td>\n",
       "      <td>0</td>\n",
       "      <td>0.139136</td>\n",
       "      <td>1</td>\n",
       "      <td>1.0</td>\n",
       "      <td>0.0</td>\n",
       "      <td>0.0</td>\n",
       "      <td>0.0</td>\n",
       "      <td>0.0</td>\n",
       "      <td>1.0</td>\n",
       "    </tr>\n",
       "    <tr>\n",
       "      <th>2</th>\n",
       "      <td>1</td>\n",
       "      <td>3</td>\n",
       "      <td>1</td>\n",
       "      <td>0.321438</td>\n",
       "      <td>0</td>\n",
       "      <td>0</td>\n",
       "      <td>0.015469</td>\n",
       "      <td>0</td>\n",
       "      <td>0.0</td>\n",
       "      <td>0.0</td>\n",
       "      <td>0.0</td>\n",
       "      <td>1.0</td>\n",
       "      <td>0.0</td>\n",
       "      <td>0.0</td>\n",
       "    </tr>\n",
       "    <tr>\n",
       "      <th>3</th>\n",
       "      <td>1</td>\n",
       "      <td>1</td>\n",
       "      <td>1</td>\n",
       "      <td>0.434531</td>\n",
       "      <td>1</td>\n",
       "      <td>0</td>\n",
       "      <td>0.103644</td>\n",
       "      <td>1</td>\n",
       "      <td>0.0</td>\n",
       "      <td>0.0</td>\n",
       "      <td>0.0</td>\n",
       "      <td>0.0</td>\n",
       "      <td>0.0</td>\n",
       "      <td>1.0</td>\n",
       "    </tr>\n",
       "    <tr>\n",
       "      <th>4</th>\n",
       "      <td>0</td>\n",
       "      <td>3</td>\n",
       "      <td>0</td>\n",
       "      <td>0.434531</td>\n",
       "      <td>0</td>\n",
       "      <td>0</td>\n",
       "      <td>0.015713</td>\n",
       "      <td>0</td>\n",
       "      <td>0.0</td>\n",
       "      <td>0.0</td>\n",
       "      <td>0.0</td>\n",
       "      <td>0.0</td>\n",
       "      <td>1.0</td>\n",
       "      <td>0.0</td>\n",
       "    </tr>\n",
       "  </tbody>\n",
       "</table>\n",
       "</div>"
      ],
      "text/plain": [
       "   Survived  Pclass  Sex       Age  SibSp  Parch      Fare  SibPar  x0_C  \\\n",
       "0         0       3    0  0.271174      1      0  0.014151       1   0.0   \n",
       "1         1       1    1  0.472229      1      0  0.139136       1   1.0   \n",
       "2         1       3    1  0.321438      0      0  0.015469       0   0.0   \n",
       "3         1       1    1  0.434531      1      0  0.103644       1   0.0   \n",
       "4         0       3    0  0.434531      0      0  0.015713       0   0.0   \n",
       "\n",
       "   x0_Q  x0_Master  x0_Miss  x0_Mr  x0_Mrs  \n",
       "0   0.0        0.0      0.0    1.0     0.0  \n",
       "1   0.0        0.0      0.0    0.0     1.0  \n",
       "2   0.0        0.0      1.0    0.0     0.0  \n",
       "3   0.0        0.0      0.0    0.0     1.0  \n",
       "4   0.0        0.0      0.0    1.0     0.0  "
      ]
     },
     "execution_count": 146,
     "metadata": {},
     "output_type": "execute_result"
    }
   ],
   "source": [
    "from sklearn.preprocessing import MinMaxScaler\n",
    "\n",
    "minMax = MinMaxScaler()\n",
    "data['Age'] = minMax.fit_transform(data.Age.to_numpy().reshape(-1,1))\n",
    "data['Fare'] = minMax.fit_transform(data.Fare.to_numpy().reshape(-1,1))\n",
    "data.head()"
   ]
  },
  {
   "cell_type": "code",
   "execution_count": 147,
   "metadata": {
    "ExecuteTime": {
     "end_time": "2021-06-01T03:16:52.064117Z",
     "start_time": "2021-06-01T03:16:51.500246Z"
    }
   },
   "outputs": [
    {
     "data": {
      "text/plain": [
       "Text(0, 0.5, 'cumulative explained variance')"
      ]
     },
     "execution_count": 147,
     "metadata": {},
     "output_type": "execute_result"
    },
    {
     "data": {
      "image/png": "[encoded data removed]",
      "text/plain": [
       "<Figure size 432x288 with 1 Axes>"
      ]
     },
     "metadata": {
      "needs_background": "light"
     },
     "output_type": "display_data"
    }
   ],
   "source": [
    "from sklearn.decomposition import PCA\n",
    "\n",
    "try_pca = PCA().fit(data.iloc[:,1:])\n",
    "plt.plot(np.cumsum(try_pca.explained_variance_ratio_))\n",
    "plt.xlabel('number of components')\n",
    "plt.ylabel('cumulative explained variance')"
   ]
  },
  {
   "cell_type": "code",
   "execution_count": 148,
   "metadata": {
    "ExecuteTime": {
     "end_time": "2021-06-01T03:16:53.445030Z",
     "start_time": "2021-06-01T03:16:53.329175Z"
    }
   },
   "outputs": [
    {
     "data": {
      "text/html": [
       "<div>\n",
       "<style scoped>\n",
       "    .dataframe tbody tr th:only-of-type {\n",
       "        vertical-align: middle;\n",
       "    }\n",
       "\n",
       "    .dataframe tbody tr th {\n",
       "        vertical-align: top;\n",
       "    }\n",
       "\n",
       "    .dataframe thead th {\n",
       "        text-align: right;\n",
       "    }\n",
       "</style>\n",
       "<table border=\"1\" class=\"dataframe\">\n",
       "  <thead>\n",
       "    <tr style=\"text-align: right;\">\n",
       "      <th></th>\n",
       "      <th>Pca1</th>\n",
       "      <th>Pca2</th>\n",
       "      <th>Survived</th>\n",
       "    </tr>\n",
       "  </thead>\n",
       "  <tbody>\n",
       "    <tr>\n",
       "      <th>0</th>\n",
       "      <td>0.158257</td>\n",
       "      <td>-0.989952</td>\n",
       "      <td>0</td>\n",
       "    </tr>\n",
       "    <tr>\n",
       "      <th>1</th>\n",
       "      <td>0.254525</td>\n",
       "      <td>1.547738</td>\n",
       "      <td>1</td>\n",
       "    </tr>\n",
       "    <tr>\n",
       "      <th>2</th>\n",
       "      <td>-0.972487</td>\n",
       "      <td>-0.272248</td>\n",
       "      <td>1</td>\n",
       "    </tr>\n",
       "    <tr>\n",
       "      <th>3</th>\n",
       "      <td>0.264734</td>\n",
       "      <td>1.407328</td>\n",
       "      <td>1</td>\n",
       "    </tr>\n",
       "    <tr>\n",
       "      <th>4</th>\n",
       "      <td>-1.146907</td>\n",
       "      <td>-0.851793</td>\n",
       "      <td>0</td>\n",
       "    </tr>\n",
       "  </tbody>\n",
       "</table>\n",
       "</div>"
      ],
      "text/plain": [
       "       Pca1      Pca2  Survived\n",
       "0  0.158257 -0.989952         0\n",
       "1  0.254525  1.547738         1\n",
       "2 -0.972487 -0.272248         1\n",
       "3  0.264734  1.407328         1\n",
       "4 -1.146907 -0.851793         0"
      ]
     },
     "execution_count": 148,
     "metadata": {},
     "output_type": "execute_result"
    }
   ],
   "source": [
    "pca_obj = PCA(n_components=2)\n",
    "hasil = pca_obj.fit_transform(data.iloc[:,1:])\n",
    "hasil_pca = pd.concat([pd.DataFrame(hasil,columns=['Pca1','Pca2']),data['Survived']], axis = 1)\n",
    "hasil_pca.head()"
   ]
  },
  {
   "cell_type": "code",
   "execution_count": 149,
   "metadata": {
    "ExecuteTime": {
     "end_time": "2021-06-01T03:16:54.508579Z",
     "start_time": "2021-06-01T03:16:54.288458Z"
    }
   },
   "outputs": [
    {
     "data": {
      "image/png": "[encoded data removed]",
      "text/plain": [
       "<Figure size 432x288 with 2 Axes>"
      ]
     },
     "metadata": {
      "needs_background": "light"
     },
     "output_type": "display_data"
    }
   ],
   "source": [
    "plt.scatter(hasil_pca['Pca1'], hasil_pca['Pca2'],\n",
    "            c=hasil_pca['Survived'], edgecolor='none', alpha=0.5,\n",
    "            cmap=plt.cm.get_cmap('inferno', 2))\n",
    "plt.xlabel('component 1')\n",
    "plt.ylabel('component 2')\n",
    "plt.colorbar();"
   ]
  },
  {
   "cell_type": "code",
   "execution_count": 150,
   "metadata": {
    "ExecuteTime": {
     "end_time": "2021-06-01T03:16:55.341527Z",
     "start_time": "2021-06-01T03:16:55.328127Z"
    }
   },
   "outputs": [
    {
     "data": {
      "text/html": [
       "<div>\n",
       "<style scoped>\n",
       "    .dataframe tbody tr th:only-of-type {\n",
       "        vertical-align: middle;\n",
       "    }\n",
       "\n",
       "    .dataframe tbody tr th {\n",
       "        vertical-align: top;\n",
       "    }\n",
       "\n",
       "    .dataframe thead th {\n",
       "        text-align: right;\n",
       "    }\n",
       "</style>\n",
       "<table border=\"1\" class=\"dataframe\">\n",
       "  <thead>\n",
       "    <tr style=\"text-align: right;\">\n",
       "      <th></th>\n",
       "      <th>Pca1</th>\n",
       "      <th>Pca2</th>\n",
       "      <th>Pca3</th>\n",
       "      <th>Survived</th>\n",
       "    </tr>\n",
       "  </thead>\n",
       "  <tbody>\n",
       "    <tr>\n",
       "      <th>0</th>\n",
       "      <td>0.158257</td>\n",
       "      <td>-0.989952</td>\n",
       "      <td>-0.473083</td>\n",
       "      <td>0</td>\n",
       "    </tr>\n",
       "    <tr>\n",
       "      <th>1</th>\n",
       "      <td>0.254525</td>\n",
       "      <td>1.547738</td>\n",
       "      <td>-0.439699</td>\n",
       "      <td>1</td>\n",
       "    </tr>\n",
       "    <tr>\n",
       "      <th>2</th>\n",
       "      <td>-0.972487</td>\n",
       "      <td>-0.272248</td>\n",
       "      <td>0.989900</td>\n",
       "      <td>1</td>\n",
       "    </tr>\n",
       "    <tr>\n",
       "      <th>3</th>\n",
       "      <td>0.264734</td>\n",
       "      <td>1.407328</td>\n",
       "      <td>-0.409462</td>\n",
       "      <td>1</td>\n",
       "    </tr>\n",
       "    <tr>\n",
       "      <th>4</th>\n",
       "      <td>-1.146907</td>\n",
       "      <td>-0.851793</td>\n",
       "      <td>-0.024660</td>\n",
       "      <td>0</td>\n",
       "    </tr>\n",
       "  </tbody>\n",
       "</table>\n",
       "</div>"
      ],
      "text/plain": [
       "       Pca1      Pca2      Pca3  Survived\n",
       "0  0.158257 -0.989952 -0.473083         0\n",
       "1  0.254525  1.547738 -0.439699         1\n",
       "2 -0.972487 -0.272248  0.989900         1\n",
       "3  0.264734  1.407328 -0.409462         1\n",
       "4 -1.146907 -0.851793 -0.024660         0"
      ]
     },
     "execution_count": 150,
     "metadata": {},
     "output_type": "execute_result"
    }
   ],
   "source": [
    "pca_obj = PCA(n_components=3)\n",
    "hasil = pca_obj.fit_transform(data.iloc[:,1:])\n",
    "hasil_pca = pd.concat([pd.DataFrame(hasil,columns=['Pca1','Pca2','Pca3']),data['Survived']], axis = 1)\n",
    "hasil_pca.head()"
   ]
  },
  {
   "cell_type": "code",
   "execution_count": 151,
   "metadata": {
    "ExecuteTime": {
     "end_time": "2021-06-01T03:16:56.474700Z",
     "start_time": "2021-06-01T03:16:56.235039Z"
    }
   },
   "outputs": [
    {
     "data": {
      "image/png": "[encoded data removed]",
      "text/plain": [
       "<Figure size 720x432 with 1 Axes>"
      ]
     },
     "metadata": {
      "needs_background": "light"
     },
     "output_type": "display_data"
    }
   ],
   "source": [
    "from matplotlib import pyplot\n",
    "from mpl_toolkits.mplot3d import Axes3D\n",
    "\n",
    "fig = pyplot.figure(figsize=(10,6))\n",
    "ax = Axes3D(fig)\n",
    "\n",
    "ax.scatter(hasil_pca['Pca1'], hasil_pca['Pca2'], hasil_pca['Pca3'],c=hasil_pca['Survived'])\n",
    "pyplot.show()"
   ]
  },
  {
   "cell_type": "code",
   "execution_count": 152,
   "metadata": {
    "ExecuteTime": {
     "end_time": "2021-06-01T03:16:57.788180Z",
     "start_time": "2021-06-01T03:16:57.780200Z"
    }
   },
   "outputs": [
    {
     "data": {
      "text/plain": [
       "0      0.271174\n",
       "1      0.472229\n",
       "2      0.321438\n",
       "3      0.434531\n",
       "4      0.434531\n",
       "         ...   \n",
       "886    0.334004\n",
       "887    0.233476\n",
       "888    0.271174\n",
       "889    0.321438\n",
       "890    0.396833\n",
       "Name: Age, Length: 891, dtype: float64"
      ]
     },
     "execution_count": 152,
     "metadata": {},
     "output_type": "execute_result"
    }
   ],
   "source": [
    "data.Age"
   ]
  },
  {
   "cell_type": "code",
   "execution_count": null,
   "metadata": {},
   "outputs": [],
   "source": []
  }
 ],
 "metadata": {
  "kernelspec": {
   "display_name": "Python 3",
   "language": "python",
   "name": "python3"
  },
  "language_info": {
   "codemirror_mode": {
    "name": "ipython",
    "version": 3
   },
   "file_extension": ".py",
   "mimetype": "text/x-python",
   "name": "python",
   "nbconvert_exporter": "python",
   "pygments_lexer": "ipython3",
   "version": "3.8.5"
  },
  "toc": {
   "base_numbering": 1,
   "nav_menu": {},
   "number_sections": true,
   "sideBar": true,
   "skip_h1_title": false,
   "title_cell": "Table of Contents",
   "title_sidebar": "Contents",
   "toc_cell": false,
   "toc_position": {
    "height": "calc(100% - 180px)",
    "left": "10px",
    "top": "150px",
    "width": "335.994px"
   },
   "toc_section_display": true,
   "toc_window_display": true
  },
  "varInspector": {
   "cols": {
    "lenName": 16,
    "lenType": 16,
    "lenVar": 40
   },
   "kernels_config": {
    "python": {
     "delete_cmd_postfix": "",
     "delete_cmd_prefix": "del ",
     "library": "var_list.py",
     "varRefreshCmd": "print(var_dic_list())"
    },
    "r": {
     "delete_cmd_postfix": ") ",
     "delete_cmd_prefix": "rm(",
     "library": "var_list.r",
     "varRefreshCmd": "cat(var_dic_list()) "
    }
   },
   "types_to_exclude": [
    "module",
    "function",
    "builtin_function_or_method",
    "instance",
    "_Feature"
   ],
   "window_display": false
  }
 },
 "nbformat": 4,
 "nbformat_minor": 4
}
