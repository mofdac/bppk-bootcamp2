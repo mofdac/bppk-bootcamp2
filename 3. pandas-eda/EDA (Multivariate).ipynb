{
 "cells": [
  {
   "cell_type": "markdown",
   "metadata": {},
   "source": [
    "# Exploratory Data Analysis"
   ]
  },
  {
   "cell_type": "markdown",
   "metadata": {},
   "source": [
    "## Loading Data"
   ]
  },
  {
   "cell_type": "code",
   "execution_count": 31,
   "metadata": {
    "ExecuteTime": {
     "end_time": "2021-06-02T00:44:29.181836Z",
     "start_time": "2021-06-02T00:44:29.173061Z"
    }
   },
   "outputs": [],
   "source": [
    "import numpy as np \n",
    "import pandas as pd\n",
    "import matplotlib.pyplot as plt\n",
    "import seaborn as sns\n",
    "plt.style.use('fivethirtyeight')\n",
    "\n",
    "import warnings\n",
    "warnings.filterwarnings('ignore')\n",
    "%matplotlib inline"
   ]
  },
  {
   "cell_type": "code",
   "execution_count": 32,
   "metadata": {
    "ExecuteTime": {
     "end_time": "2021-06-02T00:44:29.276084Z",
     "start_time": "2021-06-02T00:44:29.185257Z"
    }
   },
   "outputs": [],
   "source": [
    "data = pd.read_csv('dataset/titanic.csv')"
   ]
  },
  {
   "cell_type": "markdown",
   "metadata": {},
   "source": [
    "## Bivariate & Multivariate\n",
    "### Univariate:\n",
    "- Cek dimensi data (tabel-tabel)\n",
    "- Cek tipe data dari masing-masing kolom\n",
    "- Tampilkan sebagian value dari masing-masing kolom\n",
    "- Lakukan perhitungan descriptive statistics untuk tiap kolom\n",
    "- Lakukan analisis visual dengan memplot tiap variable\n",
    "- Cek missing value\n",
    "- Cek duplikasi\n",
    "- Cek validitas (format / range / limit / reference / dll)\n",
    "- cek duplikat\n",
    "\n",
    "### Multivariate:\n",
    "- bivariate analysis\n",
    "    - Two Categorical\n",
    "    - Categorical and Numerical\n",
    "    - Two Numerical\n",
    "- multivariate\n",
    "    - Dimensionality Reduction"
   ]
  },
  {
   "cell_type": "markdown",
   "metadata": {},
   "source": [
    "### Cek Data"
   ]
  },
  {
   "cell_type": "code",
   "execution_count": 33,
   "metadata": {
    "ExecuteTime": {
     "end_time": "2021-06-02T00:44:29.382574Z",
     "start_time": "2021-06-02T00:44:29.279815Z"
    }
   },
   "outputs": [
    {
     "data": {
      "text/html": [
       "<div>\n",
       "<style scoped>\n",
       "    .dataframe tbody tr th:only-of-type {\n",
       "        vertical-align: middle;\n",
       "    }\n",
       "\n",
       "    .dataframe tbody tr th {\n",
       "        vertical-align: top;\n",
       "    }\n",
       "\n",
       "    .dataframe thead th {\n",
       "        text-align: right;\n",
       "    }\n",
       "</style>\n",
       "<table border=\"1\" class=\"dataframe\">\n",
       "  <thead>\n",
       "    <tr style=\"text-align: right;\">\n",
       "      <th></th>\n",
       "      <th>PassengerId</th>\n",
       "      <th>Survived</th>\n",
       "      <th>Pclass</th>\n",
       "      <th>Name</th>\n",
       "      <th>Sex</th>\n",
       "      <th>Age</th>\n",
       "      <th>SibSp</th>\n",
       "      <th>Parch</th>\n",
       "      <th>Ticket</th>\n",
       "      <th>Fare</th>\n",
       "      <th>Cabin</th>\n",
       "      <th>Embarked</th>\n",
       "    </tr>\n",
       "  </thead>\n",
       "  <tbody>\n",
       "    <tr>\n",
       "      <th>0</th>\n",
       "      <td>1</td>\n",
       "      <td>0</td>\n",
       "      <td>3</td>\n",
       "      <td>Braund, Mr. Owen Harris</td>\n",
       "      <td>male</td>\n",
       "      <td>22.0</td>\n",
       "      <td>1</td>\n",
       "      <td>0</td>\n",
       "      <td>A/5 21171</td>\n",
       "      <td>7.2500</td>\n",
       "      <td>NaN</td>\n",
       "      <td>S</td>\n",
       "    </tr>\n",
       "    <tr>\n",
       "      <th>1</th>\n",
       "      <td>2</td>\n",
       "      <td>1</td>\n",
       "      <td>1</td>\n",
       "      <td>Cumings, Mrs. John Bradley (Florence Briggs Th...</td>\n",
       "      <td>female</td>\n",
       "      <td>38.0</td>\n",
       "      <td>1</td>\n",
       "      <td>0</td>\n",
       "      <td>PC 17599</td>\n",
       "      <td>71.2833</td>\n",
       "      <td>C85</td>\n",
       "      <td>C</td>\n",
       "    </tr>\n",
       "    <tr>\n",
       "      <th>2</th>\n",
       "      <td>3</td>\n",
       "      <td>1</td>\n",
       "      <td>3</td>\n",
       "      <td>Heikkinen, Miss. Laina</td>\n",
       "      <td>female</td>\n",
       "      <td>26.0</td>\n",
       "      <td>0</td>\n",
       "      <td>0</td>\n",
       "      <td>STON/O2. 3101282</td>\n",
       "      <td>7.9250</td>\n",
       "      <td>NaN</td>\n",
       "      <td>S</td>\n",
       "    </tr>\n",
       "    <tr>\n",
       "      <th>3</th>\n",
       "      <td>4</td>\n",
       "      <td>1</td>\n",
       "      <td>1</td>\n",
       "      <td>Futrelle, Mrs. Jacques Heath (Lily May Peel)</td>\n",
       "      <td>female</td>\n",
       "      <td>35.0</td>\n",
       "      <td>1</td>\n",
       "      <td>0</td>\n",
       "      <td>113803</td>\n",
       "      <td>53.1000</td>\n",
       "      <td>C123</td>\n",
       "      <td>S</td>\n",
       "    </tr>\n",
       "    <tr>\n",
       "      <th>4</th>\n",
       "      <td>5</td>\n",
       "      <td>0</td>\n",
       "      <td>3</td>\n",
       "      <td>Allen, Mr. William Henry</td>\n",
       "      <td>male</td>\n",
       "      <td>35.0</td>\n",
       "      <td>0</td>\n",
       "      <td>0</td>\n",
       "      <td>373450</td>\n",
       "      <td>8.0500</td>\n",
       "      <td>NaN</td>\n",
       "      <td>S</td>\n",
       "    </tr>\n",
       "  </tbody>\n",
       "</table>\n",
       "</div>"
      ],
      "text/plain": [
       "   PassengerId  Survived  Pclass  \\\n",
       "0            1         0       3   \n",
       "1            2         1       1   \n",
       "2            3         1       3   \n",
       "3            4         1       1   \n",
       "4            5         0       3   \n",
       "\n",
       "                                                Name     Sex   Age  SibSp  \\\n",
       "0                            Braund, Mr. Owen Harris    male  22.0      1   \n",
       "1  Cumings, Mrs. John Bradley (Florence Briggs Th...  female  38.0      1   \n",
       "2                             Heikkinen, Miss. Laina  female  26.0      0   \n",
       "3       Futrelle, Mrs. Jacques Heath (Lily May Peel)  female  35.0      1   \n",
       "4                           Allen, Mr. William Henry    male  35.0      0   \n",
       "\n",
       "   Parch            Ticket     Fare Cabin Embarked  \n",
       "0      0         A/5 21171   7.2500   NaN        S  \n",
       "1      0          PC 17599  71.2833   C85        C  \n",
       "2      0  STON/O2. 3101282   7.9250   NaN        S  \n",
       "3      0            113803  53.1000  C123        S  \n",
       "4      0            373450   8.0500   NaN        S  "
      ]
     },
     "execution_count": 33,
     "metadata": {},
     "output_type": "execute_result"
    }
   ],
   "source": [
    "data.head()"
   ]
  },
  {
   "cell_type": "code",
   "execution_count": 34,
   "metadata": {
    "ExecuteTime": {
     "end_time": "2021-06-02T00:44:29.479325Z",
     "start_time": "2021-06-02T00:44:29.386482Z"
    }
   },
   "outputs": [
    {
     "data": {
      "text/plain": [
       "PassengerId      int64\n",
       "Survived         int64\n",
       "Pclass           int64\n",
       "Name            object\n",
       "Sex             object\n",
       "Age            float64\n",
       "SibSp            int64\n",
       "Parch            int64\n",
       "Ticket          object\n",
       "Fare           float64\n",
       "Cabin           object\n",
       "Embarked        object\n",
       "dtype: object"
      ]
     },
     "execution_count": 34,
     "metadata": {},
     "output_type": "execute_result"
    }
   ],
   "source": [
    "data.dtypes"
   ]
  },
  {
   "cell_type": "markdown",
   "metadata": {},
   "source": [
    "\n",
    "### Hasil Univariate Analisis\n",
    "\n",
    "- Target variable adalah 'Survived'. 38.4% survived\n",
    "- Tipe variable\n",
    "    - Categorical: Sex, Embarked\n",
    "    - Ordinal: PClass\n",
    "    - Continuous: Age, Fare\n",
    "    - Discrete: SibSp, Parch\n",
    "- Bagian tengah setiap nama adalah gelar orang, selain itu, kita bisa menjatuhkan kolom Nama\n",
    "- Age memiliki beberapa missing value yang perlu diisi\n",
    "- Kabin memiliki terlalu banyak nilai yang hilang, kita bisa drop\n",
    "- Tiket memiliki terlalu banyak nilai unik dengan format yang berbeda, sehingga perlu didrop\n",
    "- PessengerId adalah identitas, tidak banyak informasi yang diberikan untuk prediksi kemampuan bertahan hidup"
   ]
  },
  {
   "cell_type": "code",
   "execution_count": 35,
   "metadata": {
    "ExecuteTime": {
     "end_time": "2021-06-02T00:44:29.573254Z",
     "start_time": "2021-06-02T00:44:29.480522Z"
    }
   },
   "outputs": [
    {
     "data": {
      "text/html": [
       "<div>\n",
       "<style scoped>\n",
       "    .dataframe tbody tr th:only-of-type {\n",
       "        vertical-align: middle;\n",
       "    }\n",
       "\n",
       "    .dataframe tbody tr th {\n",
       "        vertical-align: top;\n",
       "    }\n",
       "\n",
       "    .dataframe thead th {\n",
       "        text-align: right;\n",
       "    }\n",
       "</style>\n",
       "<table border=\"1\" class=\"dataframe\">\n",
       "  <thead>\n",
       "    <tr style=\"text-align: right;\">\n",
       "      <th></th>\n",
       "      <th>Name</th>\n",
       "    </tr>\n",
       "  </thead>\n",
       "  <tbody>\n",
       "    <tr>\n",
       "      <th>791</th>\n",
       "      <td>Gaskell, Mr. Alfred</td>\n",
       "    </tr>\n",
       "    <tr>\n",
       "      <th>738</th>\n",
       "      <td>Ivanoff, Mr. Kanio</td>\n",
       "    </tr>\n",
       "    <tr>\n",
       "      <th>19</th>\n",
       "      <td>Masselmani, Mrs. Fatima</td>\n",
       "    </tr>\n",
       "    <tr>\n",
       "      <th>82</th>\n",
       "      <td>McDermott, Miss. Brigdet Delia</td>\n",
       "    </tr>\n",
       "    <tr>\n",
       "      <th>872</th>\n",
       "      <td>Carlsson, Mr. Frans Olof</td>\n",
       "    </tr>\n",
       "    <tr>\n",
       "      <th>440</th>\n",
       "      <td>Hart, Mrs. Benjamin (Esther Ada Bloomfield)</td>\n",
       "    </tr>\n",
       "    <tr>\n",
       "      <th>304</th>\n",
       "      <td>Williams, Mr. Howard Hugh \"Harry\"</td>\n",
       "    </tr>\n",
       "    <tr>\n",
       "      <th>215</th>\n",
       "      <td>Newell, Miss. Madeleine</td>\n",
       "    </tr>\n",
       "    <tr>\n",
       "      <th>233</th>\n",
       "      <td>Asplund, Miss. Lillian Gertrud</td>\n",
       "    </tr>\n",
       "    <tr>\n",
       "      <th>590</th>\n",
       "      <td>Rintamaki, Mr. Matti</td>\n",
       "    </tr>\n",
       "  </tbody>\n",
       "</table>\n",
       "</div>"
      ],
      "text/plain": [
       "                                            Name\n",
       "791                          Gaskell, Mr. Alfred\n",
       "738                           Ivanoff, Mr. Kanio\n",
       "19                       Masselmani, Mrs. Fatima\n",
       "82                McDermott, Miss. Brigdet Delia\n",
       "872                     Carlsson, Mr. Frans Olof\n",
       "440  Hart, Mrs. Benjamin (Esther Ada Bloomfield)\n",
       "304            Williams, Mr. Howard Hugh \"Harry\"\n",
       "215                      Newell, Miss. Madeleine\n",
       "233               Asplund, Miss. Lillian Gertrud\n",
       "590                         Rintamaki, Mr. Matti"
      ]
     },
     "execution_count": 35,
     "metadata": {},
     "output_type": "execute_result"
    }
   ],
   "source": [
    "data[['Name']].sample(10)"
   ]
  },
  {
   "cell_type": "code",
   "execution_count": 36,
   "metadata": {
    "ExecuteTime": {
     "end_time": "2021-06-02T00:44:29.673654Z",
     "start_time": "2021-06-02T00:44:29.575731Z"
    }
   },
   "outputs": [],
   "source": [
    "#simple transformation new column Initial\n",
    "\n",
    "# ekstrak bagian nama berakhiran titik (.)\n",
    "data['Initial'] = data.Name.str.extract('([A-Za-z]+)\\.')\n",
    "\n",
    "# replace beberapa gelar\n",
    "data['Initial'].replace(['Mlle','Mme','Ms','Dr','Major','Lady','Countess','Jonkheer','Col','Rev','Capt','Sir','Don'],['Miss','Miss','Miss','Mr','Mr','Mrs','Mrs','Other','Other','Other','Mr','Mr','Mr'],inplace=True)"
   ]
  },
  {
   "cell_type": "code",
   "execution_count": 37,
   "metadata": {
    "ExecuteTime": {
     "end_time": "2021-06-02T00:44:29.829199Z",
     "start_time": "2021-06-02T00:44:29.675859Z"
    }
   },
   "outputs": [
    {
     "data": {
      "text/html": [
       "<div>\n",
       "<style scoped>\n",
       "    .dataframe tbody tr th:only-of-type {\n",
       "        vertical-align: middle;\n",
       "    }\n",
       "\n",
       "    .dataframe tbody tr th {\n",
       "        vertical-align: top;\n",
       "    }\n",
       "\n",
       "    .dataframe thead th {\n",
       "        text-align: right;\n",
       "    }\n",
       "</style>\n",
       "<table border=\"1\" class=\"dataframe\">\n",
       "  <thead>\n",
       "    <tr style=\"text-align: right;\">\n",
       "      <th></th>\n",
       "      <th>Survived</th>\n",
       "      <th>Pclass</th>\n",
       "      <th>Sex</th>\n",
       "      <th>Age</th>\n",
       "      <th>SibSp</th>\n",
       "      <th>Parch</th>\n",
       "      <th>Fare</th>\n",
       "      <th>Embarked</th>\n",
       "      <th>Initial</th>\n",
       "    </tr>\n",
       "  </thead>\n",
       "  <tbody>\n",
       "    <tr>\n",
       "      <th>0</th>\n",
       "      <td>0</td>\n",
       "      <td>3</td>\n",
       "      <td>male</td>\n",
       "      <td>22.0</td>\n",
       "      <td>1</td>\n",
       "      <td>0</td>\n",
       "      <td>7.2500</td>\n",
       "      <td>S</td>\n",
       "      <td>Mr</td>\n",
       "    </tr>\n",
       "    <tr>\n",
       "      <th>1</th>\n",
       "      <td>1</td>\n",
       "      <td>1</td>\n",
       "      <td>female</td>\n",
       "      <td>38.0</td>\n",
       "      <td>1</td>\n",
       "      <td>0</td>\n",
       "      <td>71.2833</td>\n",
       "      <td>C</td>\n",
       "      <td>Mrs</td>\n",
       "    </tr>\n",
       "    <tr>\n",
       "      <th>2</th>\n",
       "      <td>1</td>\n",
       "      <td>3</td>\n",
       "      <td>female</td>\n",
       "      <td>26.0</td>\n",
       "      <td>0</td>\n",
       "      <td>0</td>\n",
       "      <td>7.9250</td>\n",
       "      <td>S</td>\n",
       "      <td>Miss</td>\n",
       "    </tr>\n",
       "    <tr>\n",
       "      <th>3</th>\n",
       "      <td>1</td>\n",
       "      <td>1</td>\n",
       "      <td>female</td>\n",
       "      <td>35.0</td>\n",
       "      <td>1</td>\n",
       "      <td>0</td>\n",
       "      <td>53.1000</td>\n",
       "      <td>S</td>\n",
       "      <td>Mrs</td>\n",
       "    </tr>\n",
       "    <tr>\n",
       "      <th>4</th>\n",
       "      <td>0</td>\n",
       "      <td>3</td>\n",
       "      <td>male</td>\n",
       "      <td>35.0</td>\n",
       "      <td>0</td>\n",
       "      <td>0</td>\n",
       "      <td>8.0500</td>\n",
       "      <td>S</td>\n",
       "      <td>Mr</td>\n",
       "    </tr>\n",
       "  </tbody>\n",
       "</table>\n",
       "</div>"
      ],
      "text/plain": [
       "   Survived  Pclass     Sex   Age  SibSp  Parch     Fare Embarked Initial\n",
       "0         0       3    male  22.0      1      0   7.2500        S      Mr\n",
       "1         1       1  female  38.0      1      0  71.2833        C     Mrs\n",
       "2         1       3  female  26.0      0      0   7.9250        S    Miss\n",
       "3         1       1  female  35.0      1      0  53.1000        S     Mrs\n",
       "4         0       3    male  35.0      0      0   8.0500        S      Mr"
      ]
     },
     "execution_count": 37,
     "metadata": {},
     "output_type": "execute_result"
    }
   ],
   "source": [
    "# drop column nama, ticket, cabin & pessengerId\n",
    "data.drop(columns=['Name','Ticket','Cabin','PassengerId'], inplace=True)\n",
    "data.head()"
   ]
  },
  {
   "cell_type": "markdown",
   "metadata": {},
   "source": [
    "## Bivariate Analysis"
   ]
  },
  {
   "cell_type": "markdown",
   "metadata": {},
   "source": [
    "### Categorical to Categorical\n",
    "\n",
    "Untuk memeriksa korelasi antara dua variabel kategorikal, kita dapat mencoba membuat Contigency Table (cross tabulation/crosstab). Selain itu, untuk memvisualisasikan hasil crosstab, kita dapat memplotnya menggunakan diagram batang atau factor plot.\n",
    "\n",
    "Jika kita ingin menguji ketergantungan dua variabel kategorikal dengan pendekatan statistik, kita dapat menggunakan chi-square test. \n",
    "\n",
    "Namun, pada kesempatan ini, kita tidak akan menekankan pada pengujian tersebut melainkan fokus melihat ketergantungan berdasarkan visualisasi."
   ]
  },
  {
   "cell_type": "markdown",
   "metadata": {},
   "source": [
    "#### Sex dan Survived"
   ]
  },
  {
   "cell_type": "markdown",
   "metadata": {
    "ExecuteTime": {
     "end_time": "2021-06-01T01:53:12.608946Z",
     "start_time": "2021-06-01T01:53:12.605476Z"
    }
   },
   "source": [
    "###### Cross Tab"
   ]
  },
  {
   "cell_type": "code",
   "execution_count": 38,
   "metadata": {
    "ExecuteTime": {
     "end_time": "2021-06-02T00:44:30.324539Z",
     "start_time": "2021-06-02T00:44:29.833524Z"
    }
   },
   "outputs": [
    {
     "data": {
      "text/html": [
       "<style  type=\"text/css\" >\n",
       "#T_b0e4ca7c_c33b_11eb_a485_fd3cdf9456b5row0_col0,#T_b0e4ca7c_c33b_11eb_a485_fd3cdf9456b5row0_col2,#T_b0e4ca7c_c33b_11eb_a485_fd3cdf9456b5row1_col1{\n",
       "            background-color:  #ffff66;\n",
       "            color:  #000000;\n",
       "        }#T_b0e4ca7c_c33b_11eb_a485_fd3cdf9456b5row0_col1{\n",
       "            background-color:  #77bb66;\n",
       "            color:  #000000;\n",
       "        }#T_b0e4ca7c_c33b_11eb_a485_fd3cdf9456b5row1_col0{\n",
       "            background-color:  #2c9666;\n",
       "            color:  #000000;\n",
       "        }#T_b0e4ca7c_c33b_11eb_a485_fd3cdf9456b5row1_col2{\n",
       "            background-color:  #8bc566;\n",
       "            color:  #000000;\n",
       "        }#T_b0e4ca7c_c33b_11eb_a485_fd3cdf9456b5row2_col0,#T_b0e4ca7c_c33b_11eb_a485_fd3cdf9456b5row2_col1,#T_b0e4ca7c_c33b_11eb_a485_fd3cdf9456b5row2_col2{\n",
       "            background-color:  #008066;\n",
       "            color:  #f1f1f1;\n",
       "        }</style><table id=\"T_b0e4ca7c_c33b_11eb_a485_fd3cdf9456b5\" ><thead>    <tr>        <th class=\"index_name level0\" >Survived</th>        <th class=\"col_heading level0 col0\" >0</th>        <th class=\"col_heading level0 col1\" >1</th>        <th class=\"col_heading level0 col2\" >All</th>    </tr>    <tr>        <th class=\"index_name level0\" >Sex</th>        <th class=\"blank\" ></th>        <th class=\"blank\" ></th>        <th class=\"blank\" ></th>    </tr></thead><tbody>\n",
       "                <tr>\n",
       "                        <th id=\"T_b0e4ca7c_c33b_11eb_a485_fd3cdf9456b5level0_row0\" class=\"row_heading level0 row0\" >female</th>\n",
       "                        <td id=\"T_b0e4ca7c_c33b_11eb_a485_fd3cdf9456b5row0_col0\" class=\"data row0 col0\" >81</td>\n",
       "                        <td id=\"T_b0e4ca7c_c33b_11eb_a485_fd3cdf9456b5row0_col1\" class=\"data row0 col1\" >233</td>\n",
       "                        <td id=\"T_b0e4ca7c_c33b_11eb_a485_fd3cdf9456b5row0_col2\" class=\"data row0 col2\" >314</td>\n",
       "            </tr>\n",
       "            <tr>\n",
       "                        <th id=\"T_b0e4ca7c_c33b_11eb_a485_fd3cdf9456b5level0_row1\" class=\"row_heading level0 row1\" >male</th>\n",
       "                        <td id=\"T_b0e4ca7c_c33b_11eb_a485_fd3cdf9456b5row1_col0\" class=\"data row1 col0\" >468</td>\n",
       "                        <td id=\"T_b0e4ca7c_c33b_11eb_a485_fd3cdf9456b5row1_col1\" class=\"data row1 col1\" >109</td>\n",
       "                        <td id=\"T_b0e4ca7c_c33b_11eb_a485_fd3cdf9456b5row1_col2\" class=\"data row1 col2\" >577</td>\n",
       "            </tr>\n",
       "            <tr>\n",
       "                        <th id=\"T_b0e4ca7c_c33b_11eb_a485_fd3cdf9456b5level0_row2\" class=\"row_heading level0 row2\" >All</th>\n",
       "                        <td id=\"T_b0e4ca7c_c33b_11eb_a485_fd3cdf9456b5row2_col0\" class=\"data row2 col0\" >549</td>\n",
       "                        <td id=\"T_b0e4ca7c_c33b_11eb_a485_fd3cdf9456b5row2_col1\" class=\"data row2 col1\" >342</td>\n",
       "                        <td id=\"T_b0e4ca7c_c33b_11eb_a485_fd3cdf9456b5row2_col2\" class=\"data row2 col2\" >891</td>\n",
       "            </tr>\n",
       "    </tbody></table>"
      ],
      "text/plain": [
       "<pandas.io.formats.style.Styler at 0x7f0a3004e640>"
      ]
     },
     "execution_count": 38,
     "metadata": {},
     "output_type": "execute_result"
    }
   ],
   "source": [
    "df_sex_ct = pd.crosstab(data['Sex'], data['Survived'],margins=True)\n",
    "df_sex_ct.style.background_gradient(cmap='summer_r')"
   ]
  },
  {
   "cell_type": "code",
   "execution_count": 39,
   "metadata": {
    "ExecuteTime": {
     "end_time": "2021-06-02T00:44:30.337106Z",
     "start_time": "2021-06-02T00:44:30.326834Z"
    }
   },
   "outputs": [
    {
     "ename": "NameError",
     "evalue": "name 'FunctionChisq' is not defined",
     "output_type": "error",
     "traceback": [
      "\u001b[0;31m---------------------------------------------------------------------------\u001b[0m",
      "\u001b[0;31mNameError\u001b[0m                                 Traceback (most recent call last)",
      "\u001b[0;32m<ipython-input-39-9c12b8ef716f>\u001b[0m in \u001b[0;36m<module>\u001b[0;34m\u001b[0m\n\u001b[1;32m      2\u001b[0m \u001b[0;34m\u001b[0m\u001b[0m\n\u001b[1;32m      3\u001b[0m \u001b[0;31m# Calling the function\u001b[0m\u001b[0;34m\u001b[0m\u001b[0;34m\u001b[0m\u001b[0;34m\u001b[0m\u001b[0m\n\u001b[0;32m----> 4\u001b[0;31m FunctionChisq(inpData=data, \n\u001b[0m\u001b[1;32m      5\u001b[0m               \u001b[0mTargetVariable\u001b[0m\u001b[0;34m=\u001b[0m\u001b[0;34m'Survived'\u001b[0m\u001b[0;34m,\u001b[0m\u001b[0;34m\u001b[0m\u001b[0;34m\u001b[0m\u001b[0m\n\u001b[1;32m      6\u001b[0m               CategoricalVariablesList= CategoricalVariables)\n",
      "\u001b[0;31mNameError\u001b[0m: name 'FunctionChisq' is not defined"
     ]
    }
   ],
   "source": [
    "CategoricalVariables=['Pclass', 'Sex', 'Embarked']\n",
    "\n",
    "# Calling the function\n",
    "FunctionChisq(inpData=data, \n",
    "              TargetVariable='Survived',\n",
    "              CategoricalVariablesList= CategoricalVariables)"
   ]
  },
  {
   "cell_type": "code",
   "execution_count": null,
   "metadata": {
    "ExecuteTime": {
     "end_time": "2021-06-02T00:44:30.342240Z",
     "start_time": "2021-06-02T00:44:29.209Z"
    },
    "scrolled": true
   },
   "outputs": [],
   "source": [
    "from scipy.stats import chi2_contingency\n",
    "  \n",
    "def chi_test(data):    \n",
    "    # defining the table\n",
    "    stat, p, dof, expected = chi2_contingency(data)\n",
    "\n",
    "    # interpret p-value\n",
    "    alpha = 0.05\n",
    "    print(\"p value is \" + str(p))\n",
    "    if p <= alpha:\n",
    "        print('Dependent (reject H0)')\n",
    "    else:\n",
    "        print('Independent (H0 holds true)')\n",
    "\n",
    "chi_test(df_sex_ct)"
   ]
  },
  {
   "cell_type": "markdown",
   "metadata": {},
   "source": [
    "###### Visualisasi"
   ]
  },
  {
   "cell_type": "code",
   "execution_count": null,
   "metadata": {
    "ExecuteTime": {
     "end_time": "2021-06-02T00:44:30.342938Z",
     "start_time": "2021-06-02T00:44:29.213Z"
    }
   },
   "outputs": [],
   "source": [
    "f,ax=plt.subplots(1,2,figsize=(18,5))\n",
    "\n",
    "# subplot 1\n",
    "data[['Sex','Survived']].groupby(['Sex']).mean().plot.bar(ax=ax[0])\n",
    "ax[0].set_title('Survived vs Sex')\n",
    "\n",
    "# subplot 2 \n",
    "sns.countplot('Sex',hue='Survived',data=data, ax=ax[1])\n",
    "ax[1].set_title('Sex:Survived vs Dead')\n",
    "\n",
    "# show\n",
    "plt.show()"
   ]
  },
  {
   "cell_type": "markdown",
   "metadata": {},
   "source": [
    "<details>\n",
    "Jumlah pria di kapal jauh lebih banyak daripada jumlah wanita. Namun jumlah wanita yang diselamatkan hampir dua kali lipat jumlah pria yang diselamatkan. Tingkat Survival untuk **perempuan di kapal adalah sekitar 75% sedangkan untuk pria di sekitar 18-19%**.\n",
    "\n",
    "Sex tampaknya menjadi fitur yang **sangat penting** untuk pemodelan. Tapi sebelum itu kita perlu juga melihat fitur lainnya.\n",
    "</details>"
   ]
  },
  {
   "cell_type": "markdown",
   "metadata": {},
   "source": [
    "#### Pclass and Survived"
   ]
  },
  {
   "cell_type": "code",
   "execution_count": null,
   "metadata": {
    "ExecuteTime": {
     "end_time": "2021-06-02T00:44:30.343650Z",
     "start_time": "2021-06-02T00:44:29.217Z"
    },
    "scrolled": true
   },
   "outputs": [],
   "source": [
    "df_pclass_ct = pd.crosstab(data.Pclass,data.Survived,margins=True)\n",
    "df_pclass_ct.style.background_gradient(cmap='summer_r')"
   ]
  },
  {
   "cell_type": "code",
   "execution_count": null,
   "metadata": {
    "ExecuteTime": {
     "end_time": "2021-06-02T00:44:30.344198Z",
     "start_time": "2021-06-02T00:44:29.220Z"
    }
   },
   "outputs": [],
   "source": [
    "f,ax=plt.subplots(1,2,figsize=(18,5))\n",
    "\n",
    "#subplot 1\n",
    "data['Pclass'].value_counts().sort_index().plot.bar(color=['#CD7F32','#FFDF00','#D3D3D3'],ax=ax[0])\n",
    "ax[0].set_title('Number Of Passengers By Pclass')\n",
    "ax[0].set_ylabel('Count')\n",
    "\n",
    "#subplot 2\n",
    "sns.countplot('Pclass',hue='Survived',data=data,ax=ax[1])\n",
    "ax[1].set_title('Pclass: Survived vs Dead')\n",
    "\n",
    "#show\n",
    "plt.show()"
   ]
  },
  {
   "cell_type": "markdown",
   "metadata": {},
   "source": [
    "<details>\n",
    "Dapat dilihat dengan jelas bahwa penumpang Pclass 1 mendapatkan prioritas yang sangat tinggi dalam proses penyelamatan. Meski jumlah Penumpang di Pclass 3 jauh lebih tinggi, namun angka survival dari mereka masih sangat rendah, sekitar 25%.\n",
    "\n",
    "Untuk Pclass 1 penumpang selamat sekitar 63% sedangkan untuk Pclass2 sekitar 48%. \n",
    "\n",
    "Mari dalami lebih lanjut dan periksa hal lainnya. Mari kita periksa tingkat survival dengan **Seks dan Pclass** secara bersama-sama.\n",
    "</details>"
   ]
  },
  {
   "cell_type": "code",
   "execution_count": null,
   "metadata": {
    "ExecuteTime": {
     "end_time": "2021-06-02T00:44:30.344899Z",
     "start_time": "2021-06-02T00:44:29.224Z"
    }
   },
   "outputs": [],
   "source": [
    "pd.crosstab([data.Sex,data.Pclass],data.Survived,margins=True).style.background_gradient(cmap='summer_r')"
   ]
  },
  {
   "cell_type": "code",
   "execution_count": null,
   "metadata": {
    "ExecuteTime": {
     "end_time": "2021-06-02T00:44:30.345499Z",
     "start_time": "2021-06-02T00:44:29.227Z"
    }
   },
   "outputs": [],
   "source": [
    "sns.factorplot('Pclass','Survived',hue='Sex',data=data)\n",
    "plt.show()"
   ]
  },
  {
   "cell_type": "markdown",
   "metadata": {},
   "source": [
    "<details>\n",
    "Kita bisa menggunakan FactorPlot dalam kasus ini, karena menjadikan pemisahan nilai kategorikal menjadi mudah.\n",
    "\n",
    "Dengan melihat CrossTab dan FactorPlot, kita dapat dengan mudah menyimpulkan bahwa kelangsungan hidup Wanita pada  Pclass1 adalah sekitar 95-96%, karena hanya 3 dari 94 Wanita dari Pclass1 yang meninggal.\n",
    "\n",
    "Terbukti bahwa terlepas dari Pclass, Wanita diberi prioritas pertama saat penyelamatan. Bahkan Pria dari Pclass 1 memiliki tingkat kelangsungan hidup yang sangat rendah.\n",
    "</details>"
   ]
  },
  {
   "cell_type": "markdown",
   "metadata": {},
   "source": [
    "#### Embarked and Survived"
   ]
  },
  {
   "cell_type": "code",
   "execution_count": null,
   "metadata": {
    "ExecuteTime": {
     "end_time": "2021-06-02T00:44:30.346149Z",
     "start_time": "2021-06-02T00:44:29.234Z"
    }
   },
   "outputs": [],
   "source": [
    "pd.crosstab(data['Embarked'], data['Survived']).apply(lambda r: r/r.sum(), axis=1).style.background_gradient(cmap='summer_r')"
   ]
  },
  {
   "cell_type": "code",
   "execution_count": null,
   "metadata": {
    "ExecuteTime": {
     "end_time": "2021-06-02T00:44:30.346823Z",
     "start_time": "2021-06-02T00:44:29.237Z"
    }
   },
   "outputs": [],
   "source": [
    "sns.factorplot('Embarked','Survived',data=data)\n",
    "fig=plt.gcf()\n",
    "fig.set_size_inches(5,3)\n",
    "plt.show()"
   ]
  },
  {
   "cell_type": "markdown",
   "metadata": {},
   "source": [
    "<details>\n",
    "Peluang bertahan hidup untuk Port C tertinggi sekitar 0,55 sedangkan terendah untuk S.\n",
    "\n",
    "Mari gabungkan fitur kategorikal lainnya ke variabel Embarked ini.\n",
    "</details>"
   ]
  },
  {
   "cell_type": "code",
   "execution_count": null,
   "metadata": {
    "ExecuteTime": {
     "end_time": "2021-06-02T00:44:30.347448Z",
     "start_time": "2021-06-02T00:44:29.241Z"
    }
   },
   "outputs": [],
   "source": [
    "pd.crosstab([data.Embarked,data.Pclass],data.Survived,margins=True).style.background_gradient(cmap='summer_r')"
   ]
  },
  {
   "cell_type": "code",
   "execution_count": null,
   "metadata": {
    "ExecuteTime": {
     "end_time": "2021-06-02T00:44:30.348001Z",
     "start_time": "2021-06-02T00:44:29.245Z"
    }
   },
   "outputs": [],
   "source": [
    "f,ax=plt.subplots(1,2,figsize=(20,5))\n",
    "sns.countplot('Embarked',hue='Survived',data=data,ax=ax[0])\n",
    "ax[0].set_title('Embarked vs Survived')\n",
    "sns.countplot('Embarked',hue='Pclass',data=data,ax=ax[1])\n",
    "ax[1].set_title('Embarked vs Pclass')\n",
    "plt.subplots_adjust(wspace=0.2,hspace=0.5)\n",
    "plt.show()"
   ]
  },
  {
   "cell_type": "markdown",
   "metadata": {},
   "source": [
    "<details>\n",
    "Pengamatan:\n",
    "1. Maksimal penumpang yang naik dari S. Mayoritas dari Pclass3.\n",
    "\n",
    "2. Penumpang dari C terlihat beruntung karena sebagian besar dari mereka selamat. Alasan untuk ini mungkin penyelamatan semua Penumpang Pclass1 dan Pclass2.\n",
    "\n",
    "3. Pelabuhan S adalah tempat mayoritas orang kaya naik. Peluang bertahan hidup masih rendah di sini, karena banyak penumpang dari Pclass3 sekitar 81% tidak selamat.\n",
    "\n",
    "4. Pelabuhan Q memiliki hampir 95% penumpang berasal dari Pclass3.\n",
    "    \n",
    "</details>"
   ]
  },
  {
   "cell_type": "markdown",
   "metadata": {},
   "source": [
    "#### Initial vs Survived"
   ]
  },
  {
   "cell_type": "code",
   "execution_count": null,
   "metadata": {
    "ExecuteTime": {
     "end_time": "2021-06-02T00:44:30.348739Z",
     "start_time": "2021-06-02T00:44:29.249Z"
    }
   },
   "outputs": [],
   "source": [
    "data"
   ]
  },
  {
   "cell_type": "code",
   "execution_count": null,
   "metadata": {
    "ExecuteTime": {
     "end_time": "2021-06-02T00:44:30.349284Z",
     "start_time": "2021-06-02T00:44:29.252Z"
    }
   },
   "outputs": [],
   "source": [
    "pd.crosstab(data.Initial,data.Survived,margins=True).style.background_gradient(cmap='summer_r')"
   ]
  },
  {
   "cell_type": "code",
   "execution_count": null,
   "metadata": {
    "ExecuteTime": {
     "end_time": "2021-06-02T00:44:30.349861Z",
     "start_time": "2021-06-02T00:44:29.256Z"
    }
   },
   "outputs": [],
   "source": [
    "sns.factorplot('Initial','Survived',data=data)\n",
    "fig=plt.gcf()\n",
    "fig.set_size_inches(5,3)\n",
    "plt.show()"
   ]
  },
  {
   "cell_type": "markdown",
   "metadata": {},
   "source": [
    "<details>\n",
    "Hasilnya menunjukkan hasil yang serupa, inisial untuk wanita memiliki tingkat kelangsungan hidup yang lebih tinggi. Namun kami mendapat temuan baru, hal ini menunjukkan bahwa inisial untuk anak (master) memiliki tingkat kelangsungan hidup yang cukup tinggi.\n",
    "</details>"
   ]
  },
  {
   "cell_type": "markdown",
   "metadata": {},
   "source": [
    "#### Chi Square\n",
    "\n",
    "More information on ChiSq: https://www.mathsisfun.com/data/chi-square-test.html"
   ]
  },
  {
   "cell_type": "code",
   "execution_count": null,
   "metadata": {
    "ExecuteTime": {
     "end_time": "2021-06-02T00:44:30.350433Z",
     "start_time": "2021-06-02T00:44:29.260Z"
    }
   },
   "outputs": [],
   "source": [
    "# Writing a function to find the correlation of all categorical variables with the Target variable\n",
    "def FunctionChisq(inpData, TargetVariable, CategoricalVariablesList):\n",
    "    from scipy.stats import chi2_contingency\n",
    "    \n",
    "    # Creating an empty list of final selected predictors\n",
    "    SelectedPredictors=[]\n",
    "\n",
    "    for predictor in CategoricalVariablesList:\n",
    "        CrossTabResult=pd.crosstab(index=inpData[TargetVariable], columns=inpData[predictor])\n",
    "        ChiSqResult = chi2_contingency(CrossTabResult)\n",
    "        \n",
    "        # If the ChiSq P-Value is <0.05, that means we reject H0\n",
    "        if (ChiSqResult[1] < 0.05):\n",
    "            print(predictor, 'is correlated with', TargetVariable, '| P-Value:', ChiSqResult[1])\n",
    "            SelectedPredictors.append(predictor)\n",
    "        else:\n",
    "            print(predictor, 'is NOT correlated with', TargetVariable, '| P-Value:', ChiSqResult[1])        \n",
    "            \n",
    "    return(SelectedPredictors)"
   ]
  },
  {
   "cell_type": "markdown",
   "metadata": {},
   "source": [
    "### Numeric to Categorical"
   ]
  },
  {
   "cell_type": "markdown",
   "metadata": {},
   "source": [
    "Seperti yang telah dijelaskan sebelumnya, kita dapat melakukan uji chi-squared untuk mengetahui signifikansi korelasi antara dua variabel kategori. \n",
    "\n",
    "Nah, jika kita ingin menguji korelasi antara variabel kategorikal dan numerik, kita dapat melakukan uji ANNOVA.\n",
    "\n",
    "Kali ini kita hanya akan menitikberatkan pengamatan korelasi berdasarkan analisis visual. Untuk melakukannya, kita dapat membuat boxplot/histogram/distplot yang dikelompokkan serta plot biola untuk menunjukkan distribusi kuantitatif yang berbeda di antara setiap kategori."
   ]
  },
  {
   "cell_type": "markdown",
   "metadata": {},
   "source": [
    "#### Age and Initial"
   ]
  },
  {
   "cell_type": "code",
   "execution_count": null,
   "metadata": {
    "ExecuteTime": {
     "end_time": "2021-06-02T00:44:30.351129Z",
     "start_time": "2021-06-02T00:44:29.265Z"
    }
   },
   "outputs": [],
   "source": [
    "sns.boxplot(x='Initial', y='Age', data=data)"
   ]
  },
  {
   "cell_type": "code",
   "execution_count": null,
   "metadata": {
    "ExecuteTime": {
     "end_time": "2021-06-02T00:44:30.351817Z",
     "start_time": "2021-06-02T00:44:29.269Z"
    }
   },
   "outputs": [],
   "source": [
    "from scipy.stats import f_oneway\n",
    "\n",
    "grp = data.groupby(\"Pclass\").groups\n",
    "f_oneway(data.Age[grp[1]], data.Age[grp[2]], data.Age[grp[3]])\n"
   ]
  },
  {
   "cell_type": "markdown",
   "metadata": {},
   "source": [
    "<details>\n",
    "Kita dapat melihat dari boxplot bahwa Master adalah inisial untuk anak dan miss adalah inisial untuk orang yang lebih muda (mungkin wanita)\n",
    "</details>"
   ]
  },
  {
   "cell_type": "code",
   "execution_count": null,
   "metadata": {
    "ExecuteTime": {
     "end_time": "2021-06-02T00:44:30.352377Z",
     "start_time": "2021-06-02T00:44:29.273Z"
    }
   },
   "outputs": [],
   "source": [
    "sns.countplot('Initial',hue='Sex',data=data)"
   ]
  },
  {
   "cell_type": "markdown",
   "metadata": {},
   "source": [
    "<details>\n",
    "Kita dapat menggunakan info korelasi ini untuk memasukkan nilai yang hilang di kolom Age. Kita akan menggunakan nilai rata-rata usia dari setiap kelompok Initial.\n",
    "</details>"
   ]
  },
  {
   "cell_type": "code",
   "execution_count": null,
   "metadata": {
    "ExecuteTime": {
     "end_time": "2021-06-02T00:44:30.352948Z",
     "start_time": "2021-06-02T00:44:29.276Z"
    }
   },
   "outputs": [],
   "source": [
    "map_dict = data.groupby('Initial')['Age'].mean().round().to_dict()\n",
    "print(map_dict)\n",
    "\n",
    "for initial in map_dict.keys():\n",
    "    data.loc[(data.Age.isnull())&(data.Initial==initial),'Age']=map_dict[initial]\n",
    "\n",
    "data.Age.isnull().any()"
   ]
  },
  {
   "cell_type": "code",
   "execution_count": null,
   "metadata": {
    "ExecuteTime": {
     "end_time": "2021-06-02T00:44:30.353650Z",
     "start_time": "2021-06-02T00:44:29.281Z"
    },
    "scrolled": true
   },
   "outputs": [],
   "source": [
    "data"
   ]
  },
  {
   "cell_type": "markdown",
   "metadata": {},
   "source": [
    "#### Age and Survived"
   ]
  },
  {
   "cell_type": "code",
   "execution_count": null,
   "metadata": {
    "ExecuteTime": {
     "end_time": "2021-06-02T00:44:30.354252Z",
     "start_time": "2021-06-02T00:44:29.285Z"
    }
   },
   "outputs": [],
   "source": [
    "sns.boxplot(x='Survived', y='Age', data=data)"
   ]
  },
  {
   "cell_type": "code",
   "execution_count": null,
   "metadata": {
    "ExecuteTime": {
     "end_time": "2021-06-02T00:44:30.354797Z",
     "start_time": "2021-06-02T00:44:29.288Z"
    }
   },
   "outputs": [],
   "source": [
    "target_0 = data.loc[data['Survived'] == 0]\n",
    "target_1 = data.loc[data['Survived'] == 1]\n",
    "\n",
    "sns.distplot(target_0[['Age']], hist=False, rug=True)\n",
    "sns.distplot(target_1[['Age']], hist=False, rug=True)\n"
   ]
  },
  {
   "cell_type": "markdown",
   "metadata": {},
   "source": [
    "<details>\n",
    "Kita tidak dapat menyimpulkan korelasi apapun antara Age dan Survived.\n",
    "\n",
    "Kita dapat melihat dari distplot bahwa seorang anak usia sampai 10 tahun, memiliki tingkat kelangsungan hidup yang lebih tinggi daripada orang lain yang lebih tua dari mereka. Hal ini ditunjukkan dengan garis distribusi merah yang lebih tinggi pada rentang usia tersebut. Kita bisa membuat fitur baru untuk menandai orang sebagai anak <= 10 tahun.\n",
    "\n",
    "</details>"
   ]
  },
  {
   "cell_type": "markdown",
   "metadata": {},
   "source": [
    "#### Fare and Survived"
   ]
  },
  {
   "cell_type": "code",
   "execution_count": null,
   "metadata": {
    "ExecuteTime": {
     "end_time": "2021-06-02T00:44:30.355337Z",
     "start_time": "2021-06-02T00:44:29.293Z"
    }
   },
   "outputs": [],
   "source": [
    "sns.boxplot(x='Survived', y='Fare', data=data)"
   ]
  },
  {
   "cell_type": "code",
   "execution_count": null,
   "metadata": {
    "ExecuteTime": {
     "end_time": "2021-06-02T00:44:30.355939Z",
     "start_time": "2021-06-02T00:44:29.296Z"
    }
   },
   "outputs": [],
   "source": [
    "target_0 = data.loc[(data['Survived'] == 0) & (data['Pclass'] == 1)]\n",
    "target_1 = data.loc[(data['Survived'] == 0) & (data['Pclass'] == 2)]\n",
    "target_2 = data.loc[(data['Survived'] == 0) & (data['Pclass'] == 3)]\n",
    "target_3 = data.loc[(data['Survived'] == 1) & (data['Pclass'] == 1)]\n",
    "target_4 = data.loc[(data['Survived'] == 1) & (data['Pclass'] == 2)]\n",
    "target_5 = data.loc[(data['Survived'] == 1) & (data['Pclass'] == 3)]\n",
    "\n",
    "\n",
    "f,ax=plt.subplots(1,3,figsize=(20,5),sharey=True)\n",
    "sns.distplot(target_0[['Fare']], hist=False, rug=True, ax=ax[0])\n",
    "# ax[0,0].set_title('Pclass 1 Not Survive')\n",
    "sns.distplot(target_1[['Fare']], hist=False, rug=True, ax=ax[1])\n",
    "# ax[0,1].set_title('Pclass 2 Not Survive')\n",
    "sns.distplot(target_2[['Fare']], hist=False, rug=True, ax=ax[2])\n",
    "# ax[0,2].set_title('Pclass 2 Not Survive')\n",
    "sns.distplot(target_3[['Fare']], hist=False, rug=True, ax=ax[0])\n",
    "# ax[1,0].set_title('Pclass 1 Survive')\n",
    "sns.distplot(target_4[['Fare']], hist=False, rug=True, ax=ax[1])\n",
    "# ax[1,1].set_title('Pclass 2 Survive')\n",
    "sns.distplot(target_5[['Fare']], hist=False, rug=True, ax=ax[2])\n",
    "# ax[1,2].set_title('Pclass 3 Survive')\n",
    "plt.subplots_adjust(wspace=0.2,hspace=0.5)\n",
    "plt.show()"
   ]
  },
  {
   "cell_type": "markdown",
   "metadata": {},
   "source": [
    "<details>\n",
    "Semakin tinggi Fare, semakin selamat, seperti yang dapat dilihat pada kepadatan garis merah yang lebih tinggi saat Fare menjadi lebih tinggi. Seperti yang kita ketahui sebelumnya, PClass 1 adalah kelas yang paling mahal dan PClass 3 adalah tiket kelas yang paling rendah.\n",
    "</details>\n"
   ]
  },
  {
   "cell_type": "markdown",
   "metadata": {},
   "source": [
    "#### SibSp and Survived\n",
    "Fitur ini menunjukkan apakah seseorang sendirian atau bersama anggota keluarganya. Saudara = saudara laki-laki, saudara perempuan, saudara tiri, saudara tiri Pasangan = suami, istri\n",
    "\n",
    "meskipun variabel ini merupakan variabel numerik diskrit, kita dapat melakukan analisis visual yang sama dengan plot faktor karena variabel ini memiliki rentang nilai yang kecil"
   ]
  },
  {
   "cell_type": "code",
   "execution_count": null,
   "metadata": {
    "ExecuteTime": {
     "end_time": "2021-06-02T00:44:30.356537Z",
     "start_time": "2021-06-02T00:44:29.300Z"
    }
   },
   "outputs": [],
   "source": [
    "sns.factorplot('SibSp','Survived', data=data)"
   ]
  },
  {
   "cell_type": "markdown",
   "metadata": {},
   "source": [
    "<details>\n",
    "Factor plot menunjukkan bahwa jika penumpang sendirian di dalam pesawat tanpa saudara kandung, dia memiliki tingkat Survival 34,5%. Grafiknya secara kasar menurun jika jumlah saudara kandung bertambah. Ini masuk akal. Artinya, jika saya memiliki keluarga di kapal, saya akan mencoba menyelamatkan mereka daripada menyelamatkan diri saya terlebih dahulu. Yang mengejutkan, kelangsungan hidup keluarga dengan 5-8 anggota adalah 0%. Alasannya mungkin Pclass??\n",
    "</details>"
   ]
  },
  {
   "cell_type": "code",
   "execution_count": null,
   "metadata": {
    "ExecuteTime": {
     "end_time": "2021-06-02T00:44:30.357217Z",
     "start_time": "2021-06-02T00:44:29.304Z"
    }
   },
   "outputs": [],
   "source": [
    "pd.crosstab([data.Pclass,data.Survived],data.SibSp).style.background_gradient(cmap='summer_r')"
   ]
  },
  {
   "cell_type": "markdown",
   "metadata": {},
   "source": [
    "<details>Alasannya adalah Pclass. Crosstab menunjukkan bahwa Orang dengan SibSp> 3 semuanya ada di Pclass3. Hampir semua keluarga besar di Pclass3(>3) mati.</details>"
   ]
  },
  {
   "cell_type": "markdown",
   "metadata": {},
   "source": [
    "#### Parch and Survived"
   ]
  },
  {
   "cell_type": "code",
   "execution_count": null,
   "metadata": {
    "ExecuteTime": {
     "end_time": "2021-06-02T00:44:30.357738Z",
     "start_time": "2021-06-02T00:44:29.308Z"
    }
   },
   "outputs": [],
   "source": [
    "sns.factorplot('Parch','Survived',data=data,ax=ax[1])\n",
    "plt.show()"
   ]
  },
  {
   "cell_type": "markdown",
   "metadata": {},
   "source": [
    "<details>\n",
    "Di sini juga hasilnya sangat mirip. Penumpang dengan orang tua/anak mereka di dalam pesawat memiliki peluang lebih besar untuk bertahan hidup. Namun berkurang seiring dengan bertambahnya jumlah.\n",
    "\n",
    "Peluang bertahan hidup baik untuk seseorang yang memiliki 1-3 orang tua/anak di kapal. Sendirian juga terbukti berakibat fatal dan peluang untuk bertahan hidup berkurang ketika seseorang memiliki > 4 orang tua / anak di kapal.\n",
    "</details>"
   ]
  },
  {
   "cell_type": "markdown",
   "metadata": {},
   "source": [
    "#### Parch + SibSp"
   ]
  },
  {
   "cell_type": "code",
   "execution_count": null,
   "metadata": {
    "ExecuteTime": {
     "end_time": "2021-06-02T00:44:30.358575Z",
     "start_time": "2021-06-02T00:44:29.312Z"
    }
   },
   "outputs": [],
   "source": [
    "data['SibPar'] = data['SibSp'] + data['Parch']\n",
    "sns.factorplot('SibPar','Survived',data=data,ax=ax[1])\n",
    "plt.show()"
   ]
  },
  {
   "cell_type": "markdown",
   "metadata": {
    "ExecuteTime": {
     "end_time": "2021-06-01T13:02:34.551833Z",
     "start_time": "2021-06-01T13:02:34.549678Z"
    }
   },
   "source": [
    "#### Anova Test"
   ]
  },
  {
   "cell_type": "code",
   "execution_count": null,
   "metadata": {
    "ExecuteTime": {
     "end_time": "2021-06-02T00:44:30.359446Z",
     "start_time": "2021-06-02T00:44:29.316Z"
    }
   },
   "outputs": [],
   "source": [
    "# Defining a function to find the statistical relationship with all the categorical variables\n",
    "def FunctionAnova(inpData, TargetVariable, ContinuousPredictorList):\n",
    "    from scipy.stats import f_oneway\n",
    "\n",
    "    # Creating an empty list of final selected predictors\n",
    "    SelectedPredictors=[]\n",
    "    \n",
    "    for predictor in ContinuousPredictorList:\n",
    "        CategoryGroupLists=inpData.groupby(TargetVariable)[predictor].apply(list)\n",
    "        AnovaResults = f_oneway(*CategoryGroupLists)\n",
    "        \n",
    "        # If the ANOVA P-Value is <0.05, that means we reject H0\n",
    "        if (AnovaResults[1] < 0.05):\n",
    "            print(predictor, 'is correlated with', TargetVariable, '| P-Value:', AnovaResults[1])\n",
    "            SelectedPredictors.append(predictor)\n",
    "        else:\n",
    "            print(predictor, 'is NOT correlated with', TargetVariable, '| P-Value:', AnovaResults[1])\n",
    "    \n",
    "    return(SelectedPredictors)\n",
    "\n",
    "FunctionAnova(inpData=data, TargetVariable='Survived', ContinuousPredictorList=['Age','Fare'])"
   ]
  },
  {
   "cell_type": "markdown",
   "metadata": {},
   "source": [
    "### Two Numerical"
   ]
  },
  {
   "cell_type": "markdown",
   "metadata": {},
   "source": [
    "Jika kita ingin menunjukkan korelasi antara dua variabel kuantitatif, kita menggunakan scatter plot.\n",
    "\n",
    "Selain grafik/visual, kita membutuhkan indikator numerik yang dapat memberi tahu kita apakah variabel kita berkorelasi, kita memerlukan pendekatan statistik untuk melakukannya. Sebagai pasangan tipe variabel lainnya, kita dapat menggunakan koefisien korelasi Pearson untuk menunjukkan kepada kita seberapa tinggi korelasi antara kedua variabel.\n",
    "\n",
    "Strong correlation?\n",
    "\n",
    "![](http://www.uow.edu.au/content/groups/public/@web/@stsv/documents/mm/uow153493.gif)"
   ]
  },
  {
   "cell_type": "code",
   "execution_count": null,
   "metadata": {
    "ExecuteTime": {
     "end_time": "2021-06-02T00:44:30.360150Z",
     "start_time": "2021-06-02T00:44:29.320Z"
    }
   },
   "outputs": [],
   "source": [
    "sns.heatmap(data.corr(),annot=True,cmap='RdYlGn',linewidths=0.2) #data.corr()-->correlation matrix\n",
    "fig=plt.gcf()\n",
    "fig.set_size_inches(10,8)\n",
    "plt.show()"
   ]
  },
  {
   "cell_type": "markdown",
   "metadata": {},
   "source": [
    "<details>Interpreting The Heatmap\n",
    "Hal pertama yang perlu diperhatikan adalah bahwa hanya fitur numerik yang dibandingkan karena jelas bahwa kita tidak dapat menghubungkan antara abjad atau string. Sebelum memahami plot, mari kita lihat apa sebenarnya korelasi itu.\n",
    "\n",
    "**KORELASI POSITIF**: Jika peningkatan fitur A menyebabkan peningkatan fitur B, maka mereka berkorelasi positif. Nilai 1 berarti korelasi positif sempurna.\n",
    "\n",
    "**KORELASI NEGATIF**: Jika peningkatan fitur A menyebabkan penurunan fitur B, maka mereka berkorelasi negatif. Nilai -1 berarti korelasi negatif sempurna.\n",
    "\n",
    "Sekarang katakanlah dua fitur berkorelasi tinggi atau sempurna, jadi peningkatan di satu fitur mengarah ke peningkatan di fitur lainnya. Ini berarti bahwa kedua fitur tersebut mengandung informasi yang sangat mirip dan sangat sedikit atau tidak ada perbedaan informasi. Ini dikenal sebagai MultiColinearity karena keduanya berisi informasi yang hampir sama.\n",
    "\n",
    "Jadi menurut Anda kita harus menggunakan keduanya karena salah satunya berlebihan. Saat membuat atau melatih model, kita harus mencoba menghilangkan fitur yang berlebihan karena mengurangi waktu pelatihan dan banyak keuntungan lainnya.\n",
    "\n",
    "Sekarang dari peta panas di atas, kita dapat melihat bahwa fitur-fiturnya tidak banyak berkorelasi. Korelasi tertinggi antara SibSp dan Parch yaitu 0,41.\n",
    "</details>"
   ]
  },
  {
   "cell_type": "markdown",
   "metadata": {},
   "source": [
    "### Observations in a Nutshell for all features:\n",
    "\n",
    "<br/>\n",
    "<br/>\n",
    "<details>\n",
    "\n",
    "**Sex**: Peluang bertahan hidup bagi perempuan lebih tinggi dibandingkan dengan laki-laki.\n",
    "\n",
    "**Pclass**: Ada tren yang terlihat bahwa menjadi penumpang kelas 1 memberi Anda peluang bertahan hidup yang lebih baik. Tingkat kelangsungan hidup untuk Pclass3 sangat rendah. Bagi wanita, peluang bertahan hidup dari Pclass1 hampir 1 dan juga tinggi bagi mereka yang berasal dari Pclass2. Money wins !!!.\n",
    "\n",
    "**Age**: Anak-anak yang berusia kurang dari 5-10 tahun memang memiliki peluang bertahan hidup yang tinggi. Penumpang antara kelompok usia 15 sampai 35 meninggal banyak.\n",
    "\n",
    "**Embarked**: Peluang bertahan hidup di C terlihat lebih baik daripada meskipun mayoritas penumpang Pclass1 bangun di S. Penumpang di Q semuanya dari Pclass3.\n",
    "\n",
    "**Parch+SibSp**: Memiliki 1-2 saudara kandung, pasangan di kapal atau 1-3 Orang tua menunjukkan kemungkinan lebih besar daripada sendirian atau memiliki keluarga besar yang bepergian dengan Anda.\n",
    "    \n",
    "</details>"
   ]
  },
  {
   "cell_type": "markdown",
   "metadata": {},
   "source": [
    "## Multivariate Analysis"
   ]
  },
  {
   "cell_type": "markdown",
   "metadata": {},
   "source": [
    "Mutivariate analisis adalah analisis terhadap hubungan antara 3 atau lebih label dalam waktu bersamaan.\n",
    "\n",
    "Sebagaimana grafik-grafik sebelumnya, mudah bagi kita untuk membuat grafik 2 dimensi dengan sumbu vertikal dan horisontal. Pada analisis 3 dimensi, kita dapat membuat visualisasi, namun visualisasi tersebut lebih sulit dipahami dibanding visualisasi 2 dimensi. Bagaimana dengan 4 dimensi atau lebih? lebih sulit lagi apabila menggunakan visualisasi. Dalam statistik, terdapat teknik yang dapat digunakan untuk melakukan analisis pada data dengan banyak dimensi. Teknik ini juga  dapat digunakan untuk mengurangi jumlah dimensi data agar memudahkan untuk dianalisis.\n",
    "\n",
    "###  Principal Component Analysis (PCA)\n",
    "\n",
    "PCA merupakan teknik yang digunakan untuk menyederhanakan suatu data **(Dimensionality reduction Technique)**, dengan cara mentransformasi data secara linier. PCA dapat digunakan untuk mereduksi dimensi suatu data tanpa mengurangi karakteristik data tersebut secara signifikan. Apabila kita menggunakan PCA, dapat dianalisis apakah manfaat menyederhanakan data lebih besar daripada kehilangan informasi.\n",
    "\n",
    "[Supplement Reading about PCA](https://sebastianraschka.com/Articles/2015_pca_in_3_steps.html#:~:text=The%20eigenvectors%20and%20eigenvalues%20of,the%20eigenvalues%20determine%20their%20magnitude.)"
   ]
  },
  {
   "cell_type": "code",
   "execution_count": null,
   "metadata": {
    "ExecuteTime": {
     "end_time": "2021-06-02T00:44:30.360786Z",
     "start_time": "2021-06-02T00:44:29.326Z"
    },
    "scrolled": true
   },
   "outputs": [],
   "source": [
    "data"
   ]
  },
  {
   "cell_type": "code",
   "execution_count": null,
   "metadata": {
    "ExecuteTime": {
     "end_time": "2021-06-02T00:44:30.361351Z",
     "start_time": "2021-06-02T00:44:29.329Z"
    }
   },
   "outputs": [],
   "source": [
    "#Mengisi data kosong pada Embarked\n",
    "data['Embarked'] = data['Embarked'].fillna('S')\n",
    "\n",
    "#Mengubah kategori menjadi angka\n",
    "data['Sex'] = data.Sex.map({'male':0,'female':1})\n",
    "\n",
    "#Mengubah kategori menjadi angka\n",
    "from sklearn.preprocessing import OneHotEncoder\n",
    "embEncoder = OneHotEncoder()\n",
    "\n",
    "#melakukan preprocessing pada Embarked\n",
    "transformed = embEncoder.fit_transform(data.Embarked.to_numpy().reshape(-1,1))\n",
    "ohe_df = pd.DataFrame(transformed.toarray(), columns=embEncoder.get_feature_names()).iloc[:,:-1]\n",
    "data = pd.concat([data, ohe_df], axis=1).drop(['Embarked'], axis=1)\n",
    "data.head()"
   ]
  },
  {
   "cell_type": "code",
   "execution_count": null,
   "metadata": {
    "ExecuteTime": {
     "end_time": "2021-06-02T00:44:30.361932Z",
     "start_time": "2021-06-02T00:44:29.333Z"
    }
   },
   "outputs": [],
   "source": [
    "#melakukan preprocessing pada Inital\n",
    "intEncoder = OneHotEncoder()\n",
    "transformed = intEncoder.fit_transform(data.Initial.to_numpy().reshape(-1,1))\n",
    "ohe_df = pd.DataFrame(transformed.toarray(), columns=intEncoder.get_feature_names()).iloc[:,:-1]\n",
    "data = pd.concat([data, ohe_df], axis=1).drop(['Initial'], axis=1)\n",
    "data.head()"
   ]
  },
  {
   "cell_type": "code",
   "execution_count": null,
   "metadata": {
    "ExecuteTime": {
     "end_time": "2021-06-02T00:44:30.362520Z",
     "start_time": "2021-06-02T00:44:29.339Z"
    }
   },
   "outputs": [],
   "source": [
    "#Fitur numerik menjadi skala\n",
    "from sklearn.preprocessing import MinMaxScaler\n",
    "\n",
    "minMax = MinMaxScaler()\n",
    "data['Age'] = minMax.fit_transform(data.Age.to_numpy().reshape(-1,1))\n",
    "data['Fare'] = minMax.fit_transform(data.Fare.to_numpy().reshape(-1,1))\n",
    "data.head()"
   ]
  },
  {
   "cell_type": "code",
   "execution_count": null,
   "metadata": {
    "ExecuteTime": {
     "end_time": "2021-06-02T00:44:30.363023Z",
     "start_time": "2021-06-02T00:44:29.343Z"
    }
   },
   "outputs": [],
   "source": [
    "from sklearn.decomposition import PCA\n",
    "\n",
    "try_pca = PCA().fit(data.iloc[:,1:])\n",
    "plt.plot(np.cumsum(try_pca.explained_variance_ratio_))\n",
    "plt.xlabel('number of components')\n",
    "plt.ylabel('cumulative explained variance')"
   ]
  },
  {
   "cell_type": "markdown",
   "metadata": {},
   "source": [
    "### PCA 2 komponen"
   ]
  },
  {
   "cell_type": "code",
   "execution_count": null,
   "metadata": {
    "ExecuteTime": {
     "end_time": "2021-06-02T00:44:30.363767Z",
     "start_time": "2021-06-02T00:44:29.348Z"
    },
    "scrolled": true
   },
   "outputs": [],
   "source": [
    "#PCA 2 komponen\n",
    "pca_obj = PCA(n_components=2)\n",
    "hasil = pca_obj.fit_transform(data.iloc[:,1:])\n",
    "hasil_pca2 = pd.concat([pd.DataFrame(hasil,columns=['Pca1','Pca2']),data['Survived']], axis = 1)\n",
    "hasil_pca2.head()"
   ]
  },
  {
   "cell_type": "code",
   "execution_count": null,
   "metadata": {
    "ExecuteTime": {
     "end_time": "2021-06-02T00:44:30.364312Z",
     "start_time": "2021-06-02T00:44:29.352Z"
    }
   },
   "outputs": [],
   "source": [
    "plt.scatter(hasil_pca2['Pca1'], hasil_pca2['Pca2'],\n",
    "            c=hasil_pca2['Survived'], edgecolor='none', alpha=0.5,\n",
    "            cmap=plt.cm.get_cmap('inferno', 2))\n",
    "plt.xlabel('component 1')\n",
    "plt.ylabel('component 2')\n",
    "plt.colorbar();"
   ]
  },
  {
   "cell_type": "markdown",
   "metadata": {},
   "source": [
    "### PCA 3 komponen"
   ]
  },
  {
   "cell_type": "code",
   "execution_count": null,
   "metadata": {
    "ExecuteTime": {
     "end_time": "2021-06-02T00:44:30.364880Z",
     "start_time": "2021-06-02T00:44:29.356Z"
    }
   },
   "outputs": [],
   "source": [
    "#PCA 3 komponen\n",
    "pca_obj = PCA(n_components=3)\n",
    "hasil = pca_obj.fit_transform(data.iloc[:,1:])\n",
    "hasil_pca3 = pd.concat([pd.DataFrame(hasil,columns=['Pca1','Pca2','Pca3']),data['Survived']], axis = 1)\n",
    "hasil_pca3.head()"
   ]
  },
  {
   "cell_type": "code",
   "execution_count": null,
   "metadata": {
    "ExecuteTime": {
     "end_time": "2021-06-02T00:44:30.365391Z",
     "start_time": "2021-06-02T00:44:29.361Z"
    },
    "scrolled": true
   },
   "outputs": [],
   "source": [
    "from matplotlib import pyplot\n",
    "from mpl_toolkits.mplot3d import Axes3D\n",
    "\n",
    "fig = pyplot.figure(figsize=(10,6))\n",
    "ax = Axes3D(fig)\n",
    "\n",
    "ax.scatter(hasil_pca3['Pca1'], hasil_pca3['Pca2'], hasil_pca3['Pca3'],c=hasil_pca3['Survived'])\n",
    "pyplot.show()"
   ]
  },
  {
   "cell_type": "code",
   "execution_count": null,
   "metadata": {
    "ExecuteTime": {
     "end_time": "2021-06-02T00:44:30.365998Z",
     "start_time": "2021-06-02T00:44:29.365Z"
    }
   },
   "outputs": [],
   "source": [
    "# The loading vectors\n",
    "pca_loadings = pd.DataFrame(PCA(n_components=2).fit(data.iloc[:,1:]).components_.T, index=data.iloc[:,1:].columns, columns=['V1', 'V2'])\n",
    "pca_loadings"
   ]
  }
 ],
 "metadata": {
  "kernelspec": {
   "display_name": "Python 3",
   "language": "python",
   "name": "python3"
  },
  "language_info": {
   "codemirror_mode": {
    "name": "ipython",
    "version": 3
   },
   "file_extension": ".py",
   "mimetype": "text/x-python",
   "name": "python",
   "nbconvert_exporter": "python",
   "pygments_lexer": "ipython3",
   "version": "3.8.5"
  },
  "toc": {
   "base_numbering": 1,
   "nav_menu": {},
   "number_sections": true,
   "sideBar": true,
   "skip_h1_title": false,
   "title_cell": "Table of Contents",
   "title_sidebar": "Contents",
   "toc_cell": false,
   "toc_position": {
    "height": "calc(100% - 180px)",
    "left": "10px",
    "top": "150px",
    "width": "335.994px"
   },
   "toc_section_display": true,
   "toc_window_display": true
  },
  "varInspector": {
   "cols": {
    "lenName": 16,
    "lenType": 16,
    "lenVar": 40
   },
   "kernels_config": {
    "python": {
     "delete_cmd_postfix": "",
     "delete_cmd_prefix": "del ",
     "library": "var_list.py",
     "varRefreshCmd": "print(var_dic_list())"
    },
    "r": {
     "delete_cmd_postfix": ") ",
     "delete_cmd_prefix": "rm(",
     "library": "var_list.r",
     "varRefreshCmd": "cat(var_dic_list()) "
    }
   },
   "types_to_exclude": [
    "module",
    "function",
    "builtin_function_or_method",
    "instance",
    "_Feature"
   ],
   "window_display": false
  }
 },
 "nbformat": 4,
 "nbformat_minor": 4
}
